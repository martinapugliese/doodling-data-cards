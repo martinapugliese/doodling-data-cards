{
 "cells": [
  {
   "cell_type": "code",
   "execution_count": 1,
   "id": "e10757f6-9bbe-4858-ba42-9e8127edcf7e",
   "metadata": {
    "execution": {
     "iopub.execute_input": "2023-11-25T13:14:44.298580Z",
     "iopub.status.busy": "2023-11-25T13:14:44.298204Z",
     "iopub.status.idle": "2023-11-25T13:14:47.811581Z",
     "shell.execute_reply": "2023-11-25T13:14:47.810646Z",
     "shell.execute_reply.started": "2023-11-25T13:14:44.298502Z"
    },
    "tags": []
   },
   "outputs": [],
   "source": [
    "import pandas as pd\n",
    "import ast\n",
    "import seaborn as sns\n",
    "from collections import Counter\n",
    "\n",
    "from matplotlib import pyplot as plt\n",
    "\n",
    "from IPython.core.interactiveshell import InteractiveShell\n",
    "InteractiveShell.ast_node_interactivity = \"all\"\n",
    "\n",
    "pd.options.display.max_seq_items = 2000\n"
   ]
  },
  {
   "cell_type": "code",
   "execution_count": 2,
   "id": "f69f01ba-21b7-48c6-9b5b-66d740deb529",
   "metadata": {
    "execution": {
     "iopub.execute_input": "2023-11-25T13:14:47.813636Z",
     "iopub.status.busy": "2023-11-25T13:14:47.813332Z",
     "iopub.status.idle": "2023-11-25T13:14:48.242565Z",
     "shell.execute_reply": "2023-11-25T13:14:48.239074Z",
     "shell.execute_reply.started": "2023-11-25T13:14:47.813610Z"
    },
    "tags": []
   },
   "outputs": [],
   "source": [
    "df_oct = pd.read_csv('Michelin_restaurants_Oct2023.csv')\n",
    "df_nov = pd.read_csv('Michelin_restaurants_Nov2023.csv')"
   ]
  },
  {
   "cell_type": "code",
   "execution_count": 3,
   "id": "61e326bd-d144-4e06-95de-7b3a2b9f0301",
   "metadata": {
    "execution": {
     "iopub.execute_input": "2023-11-25T13:14:48.248047Z",
     "iopub.status.busy": "2023-11-25T13:14:48.245891Z",
     "iopub.status.idle": "2023-11-25T13:14:48.322009Z",
     "shell.execute_reply": "2023-11-25T13:14:48.320868Z",
     "shell.execute_reply.started": "2023-11-25T13:14:48.247993Z"
    },
    "tags": []
   },
   "outputs": [
    {
     "data": {
      "text/html": [
       "<div>\n",
       "<style scoped>\n",
       "    .dataframe tbody tr th:only-of-type {\n",
       "        vertical-align: middle;\n",
       "    }\n",
       "\n",
       "    .dataframe tbody tr th {\n",
       "        vertical-align: top;\n",
       "    }\n",
       "\n",
       "    .dataframe thead th {\n",
       "        text-align: right;\n",
       "    }\n",
       "</style>\n",
       "<table border=\"1\" class=\"dataframe\">\n",
       "  <thead>\n",
       "    <tr style=\"text-align: right;\">\n",
       "      <th></th>\n",
       "      <th>chef</th>\n",
       "      <th>city</th>\n",
       "      <th>country</th>\n",
       "      <th>cuisine_code</th>\n",
       "      <th>json_data</th>\n",
       "      <th>lat</th>\n",
       "      <th>lon</th>\n",
       "      <th>name</th>\n",
       "      <th>price_category</th>\n",
       "      <th>region</th>\n",
       "      <th>res_id</th>\n",
       "      <th>stars</th>\n",
       "    </tr>\n",
       "  </thead>\n",
       "  <tbody>\n",
       "    <tr>\n",
       "      <th>0</th>\n",
       "      <td>Franco Caffara</td>\n",
       "      <td>Como</td>\n",
       "      <td>IT</td>\n",
       "      <td>[{'code': 'TYC_1085', 'label': 'Modern Cuisine...</td>\n",
       "      <td>{'_geoloc': {'lat': 45.8133698, 'lng': 9.0825}...</td>\n",
       "      <td>45.813370</td>\n",
       "      <td>9.082500</td>\n",
       "      <td>I Tigli in Theoria</td>\n",
       "      <td>luxury</td>\n",
       "      <td>Lombardy</td>\n",
       "      <td>71097</td>\n",
       "      <td>ONE_STAR</td>\n",
       "    </tr>\n",
       "    <tr>\n",
       "      <th>1</th>\n",
       "      <td>Andrea Casali</td>\n",
       "      <td>Como</td>\n",
       "      <td>IT</td>\n",
       "      <td>[{'code': 'TYC_814', 'label': 'Italian Contemp...</td>\n",
       "      <td>{'_geoloc': {'lat': 45.8334043, 'lng': 9.07156...</td>\n",
       "      <td>45.833404</td>\n",
       "      <td>9.071568</td>\n",
       "      <td>Kitchen</td>\n",
       "      <td>premium</td>\n",
       "      <td>Lombardy</td>\n",
       "      <td>70596</td>\n",
       "      <td>ONE_STAR</td>\n",
       "    </tr>\n",
       "  </tbody>\n",
       "</table>\n",
       "</div>"
      ],
      "text/plain": [
       "             chef  city country  \\\n",
       "0  Franco Caffara  Como      IT   \n",
       "1   Andrea Casali  Como      IT   \n",
       "\n",
       "                                        cuisine_code  \\\n",
       "0  [{'code': 'TYC_1085', 'label': 'Modern Cuisine...   \n",
       "1  [{'code': 'TYC_814', 'label': 'Italian Contemp...   \n",
       "\n",
       "                                           json_data        lat       lon  \\\n",
       "0  {'_geoloc': {'lat': 45.8133698, 'lng': 9.0825}...  45.813370  9.082500   \n",
       "1  {'_geoloc': {'lat': 45.8334043, 'lng': 9.07156...  45.833404  9.071568   \n",
       "\n",
       "                 name price_category    region  res_id     stars  \n",
       "0  I Tigli in Theoria         luxury  Lombardy   71097  ONE_STAR  \n",
       "1             Kitchen        premium  Lombardy   70596  ONE_STAR  "
      ]
     },
     "execution_count": 3,
     "metadata": {},
     "output_type": "execute_result"
    },
    {
     "data": {
      "text/html": [
       "<div>\n",
       "<style scoped>\n",
       "    .dataframe tbody tr th:only-of-type {\n",
       "        vertical-align: middle;\n",
       "    }\n",
       "\n",
       "    .dataframe tbody tr th {\n",
       "        vertical-align: top;\n",
       "    }\n",
       "\n",
       "    .dataframe thead th {\n",
       "        text-align: right;\n",
       "    }\n",
       "</style>\n",
       "<table border=\"1\" class=\"dataframe\">\n",
       "  <thead>\n",
       "    <tr style=\"text-align: right;\">\n",
       "      <th></th>\n",
       "      <th>chef</th>\n",
       "      <th>city</th>\n",
       "      <th>country</th>\n",
       "      <th>cuisine_code</th>\n",
       "      <th>json_data</th>\n",
       "      <th>lat</th>\n",
       "      <th>lon</th>\n",
       "      <th>name</th>\n",
       "      <th>price_category</th>\n",
       "      <th>region</th>\n",
       "      <th>res_id</th>\n",
       "      <th>stars</th>\n",
       "    </tr>\n",
       "  </thead>\n",
       "  <tbody>\n",
       "    <tr>\n",
       "      <th>0</th>\n",
       "      <td>Mauro Angelo Elli</td>\n",
       "      <td>Albavilla</td>\n",
       "      <td>IT</td>\n",
       "      <td>[{'code': 'TYC_1085', 'label': 'Modern Cuisine...</td>\n",
       "      <td>{'_geoloc': {'lat': 45.8042803, 'lng': 9.18916...</td>\n",
       "      <td>45.804280</td>\n",
       "      <td>9.189167</td>\n",
       "      <td>Il Cantuccio</td>\n",
       "      <td>premium</td>\n",
       "      <td>Lombardy</td>\n",
       "      <td>88352</td>\n",
       "      <td>ONE_STAR</td>\n",
       "    </tr>\n",
       "    <tr>\n",
       "      <th>1</th>\n",
       "      <td>NaN</td>\n",
       "      <td>Lomazzo</td>\n",
       "      <td>IT</td>\n",
       "      <td>[{'code': 'TYC_814', 'label': 'Italian Contemp...</td>\n",
       "      <td>{'_geoloc': {'lat': 45.6967845, 'lng': 9.03429...</td>\n",
       "      <td>45.696784</td>\n",
       "      <td>9.034291</td>\n",
       "      <td>Trattoria Contemporanea</td>\n",
       "      <td>premium</td>\n",
       "      <td>Lombardy</td>\n",
       "      <td>88938</td>\n",
       "      <td>ONE_STAR</td>\n",
       "    </tr>\n",
       "  </tbody>\n",
       "</table>\n",
       "</div>"
      ],
      "text/plain": [
       "                chef       city country  \\\n",
       "0  Mauro Angelo Elli  Albavilla      IT   \n",
       "1                NaN    Lomazzo      IT   \n",
       "\n",
       "                                        cuisine_code  \\\n",
       "0  [{'code': 'TYC_1085', 'label': 'Modern Cuisine...   \n",
       "1  [{'code': 'TYC_814', 'label': 'Italian Contemp...   \n",
       "\n",
       "                                           json_data        lat       lon  \\\n",
       "0  {'_geoloc': {'lat': 45.8042803, 'lng': 9.18916...  45.804280  9.189167   \n",
       "1  {'_geoloc': {'lat': 45.6967845, 'lng': 9.03429...  45.696784  9.034291   \n",
       "\n",
       "                      name price_category    region  res_id     stars  \n",
       "0             Il Cantuccio        premium  Lombardy   88352  ONE_STAR  \n",
       "1  Trattoria Contemporanea        premium  Lombardy   88938  ONE_STAR  "
      ]
     },
     "execution_count": 3,
     "metadata": {},
     "output_type": "execute_result"
    },
    {
     "data": {
      "text/plain": [
       "(3453, 3482)"
      ]
     },
     "execution_count": 3,
     "metadata": {},
     "output_type": "execute_result"
    }
   ],
   "source": [
    "df_oct.head(2)\n",
    "df_nov.head(2)\n",
    "len(df_oct), len(df_nov)\n",
    "\n",
    "#ast.literal_eval(df.iloc[0]['json_data'])"
   ]
  },
  {
   "cell_type": "code",
   "execution_count": 4,
   "id": "7489c4a7-79cb-46ab-96d7-2670476b871d",
   "metadata": {
    "execution": {
     "iopub.execute_input": "2023-11-25T13:14:48.334976Z",
     "iopub.status.busy": "2023-11-25T13:14:48.332508Z",
     "iopub.status.idle": "2023-11-25T13:14:48.343720Z",
     "shell.execute_reply": "2023-11-25T13:14:48.341435Z",
     "shell.execute_reply.started": "2023-11-25T13:14:48.334917Z"
    },
    "tags": []
   },
   "outputs": [],
   "source": [
    "df = df_nov.copy()"
   ]
  },
  {
   "cell_type": "code",
   "execution_count": 5,
   "id": "542fca8e-2982-405c-9e85-93fbd5b7cd3a",
   "metadata": {
    "execution": {
     "iopub.execute_input": "2023-11-25T13:14:48.349737Z",
     "iopub.status.busy": "2023-11-25T13:14:48.349134Z",
     "iopub.status.idle": "2023-11-25T13:14:48.362964Z",
     "shell.execute_reply": "2023-11-25T13:14:48.360799Z",
     "shell.execute_reply.started": "2023-11-25T13:14:48.349694Z"
    },
    "tags": []
   },
   "outputs": [
    {
     "data": {
      "text/plain": [
       "{'ONE_STAR', 'THREE_STARS', 'TWO_STARS'}"
      ]
     },
     "execution_count": 5,
     "metadata": {},
     "output_type": "execute_result"
    }
   ],
   "source": [
    "set(df['stars'])"
   ]
  },
  {
   "cell_type": "code",
   "execution_count": 6,
   "id": "34ae3f86-2346-4f29-976d-0afaccfb816f",
   "metadata": {
    "execution": {
     "iopub.execute_input": "2023-11-25T13:14:48.365815Z",
     "iopub.status.busy": "2023-11-25T13:14:48.365451Z",
     "iopub.status.idle": "2023-11-25T13:14:48.383086Z",
     "shell.execute_reply": "2023-11-25T13:14:48.381182Z",
     "shell.execute_reply.started": "2023-11-25T13:14:48.365774Z"
    },
    "tags": []
   },
   "outputs": [
    {
     "data": {
      "text/plain": [
       "[{'code': 'TYC_1036', 'label': 'Creative', 'slug': 'creative'},\n",
       " {'code': 'TYC_6', 'label': 'Contemporary', 'slug': 'contemporary'}]"
      ]
     },
     "execution_count": 6,
     "metadata": {},
     "output_type": "execute_result"
    }
   ],
   "source": [
    "l = ast.literal_eval(df.iloc[100]['cuisine_code'])\n",
    "\n",
    "l"
   ]
  },
  {
   "cell_type": "code",
   "execution_count": 7,
   "id": "66420b0d-e65e-436c-84ee-8c355cccead6",
   "metadata": {
    "execution": {
     "iopub.execute_input": "2023-11-25T13:14:48.387320Z",
     "iopub.status.busy": "2023-11-25T13:14:48.385198Z",
     "iopub.status.idle": "2023-11-25T13:14:48.430516Z",
     "shell.execute_reply": "2023-11-25T13:14:48.428550Z",
     "shell.execute_reply.started": "2023-11-25T13:14:48.387274Z"
    },
    "tags": []
   },
   "outputs": [
    {
     "data": {
      "text/html": [
       "<div>\n",
       "<style scoped>\n",
       "    .dataframe tbody tr th:only-of-type {\n",
       "        vertical-align: middle;\n",
       "    }\n",
       "\n",
       "    .dataframe tbody tr th {\n",
       "        vertical-align: top;\n",
       "    }\n",
       "\n",
       "    .dataframe thead th {\n",
       "        text-align: right;\n",
       "    }\n",
       "</style>\n",
       "<table border=\"1\" class=\"dataframe\">\n",
       "  <thead>\n",
       "    <tr style=\"text-align: right;\">\n",
       "      <th></th>\n",
       "      <th>country</th>\n",
       "      <th>res_id</th>\n",
       "    </tr>\n",
       "  </thead>\n",
       "  <tbody>\n",
       "    <tr>\n",
       "      <th>15</th>\n",
       "      <td>FR</td>\n",
       "      <td>621</td>\n",
       "    </tr>\n",
       "    <tr>\n",
       "      <th>24</th>\n",
       "      <td>JP</td>\n",
       "      <td>411</td>\n",
       "    </tr>\n",
       "    <tr>\n",
       "      <th>23</th>\n",
       "      <td>IT</td>\n",
       "      <td>395</td>\n",
       "    </tr>\n",
       "    <tr>\n",
       "      <th>10</th>\n",
       "      <td>DE</td>\n",
       "      <td>325</td>\n",
       "    </tr>\n",
       "    <tr>\n",
       "      <th>13</th>\n",
       "      <td>ES</td>\n",
       "      <td>245</td>\n",
       "    </tr>\n",
       "    <tr>\n",
       "      <th>40</th>\n",
       "      <td>US</td>\n",
       "      <td>231</td>\n",
       "    </tr>\n",
       "    <tr>\n",
       "      <th>16</th>\n",
       "      <td>GB</td>\n",
       "      <td>187</td>\n",
       "    </tr>\n",
       "  </tbody>\n",
       "</table>\n",
       "</div>"
      ],
      "text/plain": [
       "   country  res_id\n",
       "15      FR     621\n",
       "24      JP     411\n",
       "23      IT     395\n",
       "10      DE     325\n",
       "13      ES     245\n",
       "40      US     231\n",
       "16      GB     187"
      ]
     },
     "execution_count": 7,
     "metadata": {},
     "output_type": "execute_result"
    },
    {
     "data": {
      "text/plain": [
       "42"
      ]
     },
     "execution_count": 7,
     "metadata": {},
     "output_type": "execute_result"
    }
   ],
   "source": [
    "df_tmp = df.groupby('country').count().reset_index().sort_values('res_id', ascending=False)[['country', 'res_id']]\n",
    "df_tmp.head(7)\n",
    "len(df_tmp)"
   ]
  },
  {
   "cell_type": "code",
   "execution_count": 17,
   "id": "a70f0ab2-0d02-4e7c-9f70-33abdff462a4",
   "metadata": {
    "execution": {
     "iopub.execute_input": "2023-11-25T13:16:00.354684Z",
     "iopub.status.busy": "2023-11-25T13:16:00.354191Z",
     "iopub.status.idle": "2023-11-25T13:16:00.382056Z",
     "shell.execute_reply": "2023-11-25T13:16:00.380308Z",
     "shell.execute_reply.started": "2023-11-25T13:16:00.354631Z"
    },
    "tags": []
   },
   "outputs": [
    {
     "data": {
      "text/html": [
       "<div>\n",
       "<style scoped>\n",
       "    .dataframe tbody tr th:only-of-type {\n",
       "        vertical-align: middle;\n",
       "    }\n",
       "\n",
       "    .dataframe tbody tr th {\n",
       "        vertical-align: top;\n",
       "    }\n",
       "\n",
       "    .dataframe thead th {\n",
       "        text-align: right;\n",
       "    }\n",
       "</style>\n",
       "<table border=\"1\" class=\"dataframe\">\n",
       "  <thead>\n",
       "    <tr style=\"text-align: right;\">\n",
       "      <th></th>\n",
       "      <th>country</th>\n",
       "      <th>res_id</th>\n",
       "    </tr>\n",
       "  </thead>\n",
       "  <tbody>\n",
       "    <tr>\n",
       "      <th>15</th>\n",
       "      <td>FR</td>\n",
       "      <td>622</td>\n",
       "    </tr>\n",
       "    <tr>\n",
       "      <th>24</th>\n",
       "      <td>JP</td>\n",
       "      <td>411</td>\n",
       "    </tr>\n",
       "    <tr>\n",
       "      <th>23</th>\n",
       "      <td>IT</td>\n",
       "      <td>377</td>\n",
       "    </tr>\n",
       "    <tr>\n",
       "      <th>10</th>\n",
       "      <td>DE</td>\n",
       "      <td>327</td>\n",
       "    </tr>\n",
       "    <tr>\n",
       "      <th>13</th>\n",
       "      <td>ES</td>\n",
       "      <td>246</td>\n",
       "    </tr>\n",
       "    <tr>\n",
       "      <th>40</th>\n",
       "      <td>US</td>\n",
       "      <td>225</td>\n",
       "    </tr>\n",
       "    <tr>\n",
       "      <th>16</th>\n",
       "      <td>GB</td>\n",
       "      <td>187</td>\n",
       "    </tr>\n",
       "  </tbody>\n",
       "</table>\n",
       "</div>"
      ],
      "text/plain": [
       "   country  res_id\n",
       "15      FR     622\n",
       "24      JP     411\n",
       "23      IT     377\n",
       "10      DE     327\n",
       "13      ES     246\n",
       "40      US     225\n",
       "16      GB     187"
      ]
     },
     "execution_count": 17,
     "metadata": {},
     "output_type": "execute_result"
    },
    {
     "data": {
      "text/plain": [
       "42"
      ]
     },
     "execution_count": 17,
     "metadata": {},
     "output_type": "execute_result"
    }
   ],
   "source": [
    "df_tmp = df_oct.groupby('country').count().reset_index().sort_values('res_id', ascending=False)[['country', 'res_id']]\n",
    "df_tmp.head(7)\n",
    "len(df_tmp)"
   ]
  },
  {
   "cell_type": "code",
   "execution_count": 16,
   "id": "16202190-ec77-4f82-a7da-b4cd0c38593f",
   "metadata": {
    "execution": {
     "iopub.execute_input": "2023-11-25T13:15:58.345439Z",
     "iopub.status.busy": "2023-11-25T13:15:58.345077Z",
     "iopub.status.idle": "2023-11-25T13:15:58.354695Z",
     "shell.execute_reply": "2023-11-25T13:15:58.353266Z",
     "shell.execute_reply.started": "2023-11-25T13:15:58.345406Z"
    },
    "tags": []
   },
   "outputs": [
    {
     "data": {
      "text/plain": [
       "42"
      ]
     },
     "execution_count": 16,
     "metadata": {},
     "output_type": "execute_result"
    }
   ],
   "source": [
    "df['country'].nunique()"
   ]
  },
  {
   "cell_type": "code",
   "execution_count": 19,
   "id": "0d52ad94-2114-4485-b3d7-f514998cc06b",
   "metadata": {
    "execution": {
     "iopub.execute_input": "2023-11-25T13:16:17.737009Z",
     "iopub.status.busy": "2023-11-25T13:16:17.736661Z",
     "iopub.status.idle": "2023-11-25T13:16:18.540432Z",
     "shell.execute_reply": "2023-11-25T13:16:18.539742Z",
     "shell.execute_reply.started": "2023-11-25T13:16:17.736974Z"
    },
    "tags": []
   },
   "outputs": [
    {
     "data": {
      "text/plain": [
       "<Figure size 1080x432 with 0 Axes>"
      ]
     },
     "execution_count": 19,
     "metadata": {},
     "output_type": "execute_result"
    },
    {
     "data": {
      "text/plain": [
       "<AxesSubplot:xlabel='country', ylabel='res_id'>"
      ]
     },
     "execution_count": 19,
     "metadata": {},
     "output_type": "execute_result"
    },
    {
     "data": {
      "text/plain": [
       "Text(0.5, 1.0, 'Number of restaurants per country')"
      ]
     },
     "execution_count": 19,
     "metadata": {},
     "output_type": "execute_result"
    },
    {
     "data": {
      "text/plain": [
       "Text(0, 0.5, 'Count of restaurants')"
      ]
     },
     "execution_count": 19,
     "metadata": {},
     "output_type": "execute_result"
    },
    {
     "data": {
      "image/png": "[encoded data removed]",
      "text/plain": [
       "<Figure size 1080x432 with 1 Axes>"
      ]
     },
     "metadata": {},
     "output_type": "display_data"
    }
   ],
   "source": [
    "plt.figure(figsize=(15,6))\n",
    "\n",
    "sns.set_style(\"whitegrid\")\n",
    "sns.barplot(df_tmp, x='country', y='res_id', color='red')\n",
    "\n",
    "plt.title('Number of restaurants per country')\n",
    "plt.ylabel('Count of restaurants')"
   ]
  },
  {
   "cell_type": "code",
   "execution_count": 20,
   "id": "1e7271d2-8f0f-4e23-9264-fd65d8980010",
   "metadata": {
    "execution": {
     "iopub.execute_input": "2023-11-25T13:21:46.639509Z",
     "iopub.status.busy": "2023-11-25T13:21:46.639008Z",
     "iopub.status.idle": "2023-11-25T13:21:46.657712Z",
     "shell.execute_reply": "2023-11-25T13:21:46.656570Z",
     "shell.execute_reply.started": "2023-11-25T13:21:46.639469Z"
    },
    "tags": []
   },
   "outputs": [],
   "source": [
    "df_tmp = df.groupby(['country', 'stars']).count().sort_values('res_id', ascending=False)['res_id'].reset_index()"
   ]
  },
  {
   "cell_type": "code",
   "execution_count": 21,
   "id": "cc150fc9-e350-4a1e-8763-7f8660decd33",
   "metadata": {
    "execution": {
     "iopub.execute_input": "2023-11-25T13:21:47.009424Z",
     "iopub.status.busy": "2023-11-25T13:21:47.009035Z",
     "iopub.status.idle": "2023-11-25T13:21:47.021549Z",
     "shell.execute_reply": "2023-11-25T13:21:47.019428Z",
     "shell.execute_reply.started": "2023-11-25T13:21:47.009388Z"
    },
    "tags": []
   },
   "outputs": [],
   "source": [
    "df_tmp = df_tmp.pivot(columns=['country', 'stars'])"
   ]
  },
  {
   "cell_type": "code",
   "execution_count": 22,
   "id": "0247d55f-842f-49c6-b763-c26175e1c1d9",
   "metadata": {
    "execution": {
     "iopub.execute_input": "2023-11-25T13:21:47.159761Z",
     "iopub.status.busy": "2023-11-25T13:21:47.159172Z",
     "iopub.status.idle": "2023-11-25T13:21:47.221765Z",
     "shell.execute_reply": "2023-11-25T13:21:47.220819Z",
     "shell.execute_reply.started": "2023-11-25T13:21:47.159687Z"
    },
    "tags": []
   },
   "outputs": [
    {
     "data": {
      "text/html": [
       "<div>\n",
       "<style scoped>\n",
       "    .dataframe tbody tr th:only-of-type {\n",
       "        vertical-align: middle;\n",
       "    }\n",
       "\n",
       "    .dataframe tbody tr th {\n",
       "        vertical-align: top;\n",
       "    }\n",
       "\n",
       "    .dataframe thead tr th {\n",
       "        text-align: left;\n",
       "    }\n",
       "</style>\n",
       "<table border=\"1\" class=\"dataframe\">\n",
       "  <thead>\n",
       "    <tr>\n",
       "      <th></th>\n",
       "      <th colspan=\"21\" halign=\"left\">res_id</th>\n",
       "    </tr>\n",
       "    <tr>\n",
       "      <th>country</th>\n",
       "      <th>FR</th>\n",
       "      <th>IT</th>\n",
       "      <th>JP</th>\n",
       "      <th>DE</th>\n",
       "      <th>ES</th>\n",
       "      <th>US</th>\n",
       "      <th>GB</th>\n",
       "      <th>BE</th>\n",
       "      <th>CH</th>\n",
       "      <th>CN</th>\n",
       "      <th>...</th>\n",
       "      <th colspan=\"2\" halign=\"left\">SI</th>\n",
       "      <th colspan=\"2\" halign=\"left\">EE</th>\n",
       "      <th>MY</th>\n",
       "      <th>FI</th>\n",
       "      <th>NO</th>\n",
       "      <th>SE</th>\n",
       "      <th>GR</th>\n",
       "      <th>AD</th>\n",
       "    </tr>\n",
       "    <tr>\n",
       "      <th>stars</th>\n",
       "      <th>ONE_STAR</th>\n",
       "      <th>ONE_STAR</th>\n",
       "      <th>ONE_STAR</th>\n",
       "      <th>ONE_STAR</th>\n",
       "      <th>ONE_STAR</th>\n",
       "      <th>ONE_STAR</th>\n",
       "      <th>ONE_STAR</th>\n",
       "      <th>ONE_STAR</th>\n",
       "      <th>ONE_STAR</th>\n",
       "      <th>ONE_STAR</th>\n",
       "      <th>...</th>\n",
       "      <th>TWO_STARS</th>\n",
       "      <th>THREE_STARS</th>\n",
       "      <th>ONE_STAR</th>\n",
       "      <th>TWO_STARS</th>\n",
       "      <th>TWO_STARS</th>\n",
       "      <th>TWO_STARS</th>\n",
       "      <th>TWO_STARS</th>\n",
       "      <th>THREE_STARS</th>\n",
       "      <th>TWO_STARS</th>\n",
       "      <th>ONE_STAR</th>\n",
       "    </tr>\n",
       "  </thead>\n",
       "  <tbody>\n",
       "    <tr>\n",
       "      <th>0</th>\n",
       "      <td>521.0</td>\n",
       "      <td>NaN</td>\n",
       "      <td>NaN</td>\n",
       "      <td>NaN</td>\n",
       "      <td>NaN</td>\n",
       "      <td>NaN</td>\n",
       "      <td>NaN</td>\n",
       "      <td>NaN</td>\n",
       "      <td>NaN</td>\n",
       "      <td>NaN</td>\n",
       "      <td>...</td>\n",
       "      <td>NaN</td>\n",
       "      <td>NaN</td>\n",
       "      <td>NaN</td>\n",
       "      <td>NaN</td>\n",
       "      <td>NaN</td>\n",
       "      <td>NaN</td>\n",
       "      <td>NaN</td>\n",
       "      <td>NaN</td>\n",
       "      <td>NaN</td>\n",
       "      <td>NaN</td>\n",
       "    </tr>\n",
       "    <tr>\n",
       "      <th>1</th>\n",
       "      <td>NaN</td>\n",
       "      <td>342.0</td>\n",
       "      <td>NaN</td>\n",
       "      <td>NaN</td>\n",
       "      <td>NaN</td>\n",
       "      <td>NaN</td>\n",
       "      <td>NaN</td>\n",
       "      <td>NaN</td>\n",
       "      <td>NaN</td>\n",
       "      <td>NaN</td>\n",
       "      <td>...</td>\n",
       "      <td>NaN</td>\n",
       "      <td>NaN</td>\n",
       "      <td>NaN</td>\n",
       "      <td>NaN</td>\n",
       "      <td>NaN</td>\n",
       "      <td>NaN</td>\n",
       "      <td>NaN</td>\n",
       "      <td>NaN</td>\n",
       "      <td>NaN</td>\n",
       "      <td>NaN</td>\n",
       "    </tr>\n",
       "    <tr>\n",
       "      <th>2</th>\n",
       "      <td>NaN</td>\n",
       "      <td>NaN</td>\n",
       "      <td>319.0</td>\n",
       "      <td>NaN</td>\n",
       "      <td>NaN</td>\n",
       "      <td>NaN</td>\n",
       "      <td>NaN</td>\n",
       "      <td>NaN</td>\n",
       "      <td>NaN</td>\n",
       "      <td>NaN</td>\n",
       "      <td>...</td>\n",
       "      <td>NaN</td>\n",
       "      <td>NaN</td>\n",
       "      <td>NaN</td>\n",
       "      <td>NaN</td>\n",
       "      <td>NaN</td>\n",
       "      <td>NaN</td>\n",
       "      <td>NaN</td>\n",
       "      <td>NaN</td>\n",
       "      <td>NaN</td>\n",
       "      <td>NaN</td>\n",
       "    </tr>\n",
       "    <tr>\n",
       "      <th>3</th>\n",
       "      <td>NaN</td>\n",
       "      <td>NaN</td>\n",
       "      <td>NaN</td>\n",
       "      <td>268.0</td>\n",
       "      <td>NaN</td>\n",
       "      <td>NaN</td>\n",
       "      <td>NaN</td>\n",
       "      <td>NaN</td>\n",
       "      <td>NaN</td>\n",
       "      <td>NaN</td>\n",
       "      <td>...</td>\n",
       "      <td>NaN</td>\n",
       "      <td>NaN</td>\n",
       "      <td>NaN</td>\n",
       "      <td>NaN</td>\n",
       "      <td>NaN</td>\n",
       "      <td>NaN</td>\n",
       "      <td>NaN</td>\n",
       "      <td>NaN</td>\n",
       "      <td>NaN</td>\n",
       "      <td>NaN</td>\n",
       "    </tr>\n",
       "    <tr>\n",
       "      <th>4</th>\n",
       "      <td>NaN</td>\n",
       "      <td>NaN</td>\n",
       "      <td>NaN</td>\n",
       "      <td>NaN</td>\n",
       "      <td>198.0</td>\n",
       "      <td>NaN</td>\n",
       "      <td>NaN</td>\n",
       "      <td>NaN</td>\n",
       "      <td>NaN</td>\n",
       "      <td>NaN</td>\n",
       "      <td>...</td>\n",
       "      <td>NaN</td>\n",
       "      <td>NaN</td>\n",
       "      <td>NaN</td>\n",
       "      <td>NaN</td>\n",
       "      <td>NaN</td>\n",
       "      <td>NaN</td>\n",
       "      <td>NaN</td>\n",
       "      <td>NaN</td>\n",
       "      <td>NaN</td>\n",
       "      <td>NaN</td>\n",
       "    </tr>\n",
       "    <tr>\n",
       "      <th>...</th>\n",
       "      <td>...</td>\n",
       "      <td>...</td>\n",
       "      <td>...</td>\n",
       "      <td>...</td>\n",
       "      <td>...</td>\n",
       "      <td>...</td>\n",
       "      <td>...</td>\n",
       "      <td>...</td>\n",
       "      <td>...</td>\n",
       "      <td>...</td>\n",
       "      <td>...</td>\n",
       "      <td>...</td>\n",
       "      <td>...</td>\n",
       "      <td>...</td>\n",
       "      <td>...</td>\n",
       "      <td>...</td>\n",
       "      <td>...</td>\n",
       "      <td>...</td>\n",
       "      <td>...</td>\n",
       "      <td>...</td>\n",
       "      <td>...</td>\n",
       "    </tr>\n",
       "    <tr>\n",
       "      <th>93</th>\n",
       "      <td>NaN</td>\n",
       "      <td>NaN</td>\n",
       "      <td>NaN</td>\n",
       "      <td>NaN</td>\n",
       "      <td>NaN</td>\n",
       "      <td>NaN</td>\n",
       "      <td>NaN</td>\n",
       "      <td>NaN</td>\n",
       "      <td>NaN</td>\n",
       "      <td>NaN</td>\n",
       "      <td>...</td>\n",
       "      <td>NaN</td>\n",
       "      <td>NaN</td>\n",
       "      <td>NaN</td>\n",
       "      <td>NaN</td>\n",
       "      <td>NaN</td>\n",
       "      <td>1.0</td>\n",
       "      <td>NaN</td>\n",
       "      <td>NaN</td>\n",
       "      <td>NaN</td>\n",
       "      <td>NaN</td>\n",
       "    </tr>\n",
       "    <tr>\n",
       "      <th>94</th>\n",
       "      <td>NaN</td>\n",
       "      <td>NaN</td>\n",
       "      <td>NaN</td>\n",
       "      <td>NaN</td>\n",
       "      <td>NaN</td>\n",
       "      <td>NaN</td>\n",
       "      <td>NaN</td>\n",
       "      <td>NaN</td>\n",
       "      <td>NaN</td>\n",
       "      <td>NaN</td>\n",
       "      <td>...</td>\n",
       "      <td>NaN</td>\n",
       "      <td>NaN</td>\n",
       "      <td>NaN</td>\n",
       "      <td>NaN</td>\n",
       "      <td>NaN</td>\n",
       "      <td>NaN</td>\n",
       "      <td>1.0</td>\n",
       "      <td>NaN</td>\n",
       "      <td>NaN</td>\n",
       "      <td>NaN</td>\n",
       "    </tr>\n",
       "    <tr>\n",
       "      <th>95</th>\n",
       "      <td>NaN</td>\n",
       "      <td>NaN</td>\n",
       "      <td>NaN</td>\n",
       "      <td>NaN</td>\n",
       "      <td>NaN</td>\n",
       "      <td>NaN</td>\n",
       "      <td>NaN</td>\n",
       "      <td>NaN</td>\n",
       "      <td>NaN</td>\n",
       "      <td>NaN</td>\n",
       "      <td>...</td>\n",
       "      <td>NaN</td>\n",
       "      <td>NaN</td>\n",
       "      <td>NaN</td>\n",
       "      <td>NaN</td>\n",
       "      <td>NaN</td>\n",
       "      <td>NaN</td>\n",
       "      <td>NaN</td>\n",
       "      <td>1.0</td>\n",
       "      <td>NaN</td>\n",
       "      <td>NaN</td>\n",
       "    </tr>\n",
       "    <tr>\n",
       "      <th>96</th>\n",
       "      <td>NaN</td>\n",
       "      <td>NaN</td>\n",
       "      <td>NaN</td>\n",
       "      <td>NaN</td>\n",
       "      <td>NaN</td>\n",
       "      <td>NaN</td>\n",
       "      <td>NaN</td>\n",
       "      <td>NaN</td>\n",
       "      <td>NaN</td>\n",
       "      <td>NaN</td>\n",
       "      <td>...</td>\n",
       "      <td>NaN</td>\n",
       "      <td>NaN</td>\n",
       "      <td>NaN</td>\n",
       "      <td>NaN</td>\n",
       "      <td>NaN</td>\n",
       "      <td>NaN</td>\n",
       "      <td>NaN</td>\n",
       "      <td>NaN</td>\n",
       "      <td>1.0</td>\n",
       "      <td>NaN</td>\n",
       "    </tr>\n",
       "    <tr>\n",
       "      <th>97</th>\n",
       "      <td>NaN</td>\n",
       "      <td>NaN</td>\n",
       "      <td>NaN</td>\n",
       "      <td>NaN</td>\n",
       "      <td>NaN</td>\n",
       "      <td>NaN</td>\n",
       "      <td>NaN</td>\n",
       "      <td>NaN</td>\n",
       "      <td>NaN</td>\n",
       "      <td>NaN</td>\n",
       "      <td>...</td>\n",
       "      <td>NaN</td>\n",
       "      <td>NaN</td>\n",
       "      <td>NaN</td>\n",
       "      <td>NaN</td>\n",
       "      <td>NaN</td>\n",
       "      <td>NaN</td>\n",
       "      <td>NaN</td>\n",
       "      <td>NaN</td>\n",
       "      <td>NaN</td>\n",
       "      <td>1.0</td>\n",
       "    </tr>\n",
       "  </tbody>\n",
       "</table>\n",
       "<p>98 rows × 98 columns</p>\n",
       "</div>"
      ],
      "text/plain": [
       "          res_id                                                        \\\n",
       "country       FR       IT       JP       DE       ES       US       GB   \n",
       "stars   ONE_STAR ONE_STAR ONE_STAR ONE_STAR ONE_STAR ONE_STAR ONE_STAR   \n",
       "0          521.0      NaN      NaN      NaN      NaN      NaN      NaN   \n",
       "1            NaN    342.0      NaN      NaN      NaN      NaN      NaN   \n",
       "2            NaN      NaN    319.0      NaN      NaN      NaN      NaN   \n",
       "3            NaN      NaN      NaN    268.0      NaN      NaN      NaN   \n",
       "4            NaN      NaN      NaN      NaN    198.0      NaN      NaN   \n",
       "..           ...      ...      ...      ...      ...      ...      ...   \n",
       "93           NaN      NaN      NaN      NaN      NaN      NaN      NaN   \n",
       "94           NaN      NaN      NaN      NaN      NaN      NaN      NaN   \n",
       "95           NaN      NaN      NaN      NaN      NaN      NaN      NaN   \n",
       "96           NaN      NaN      NaN      NaN      NaN      NaN      NaN   \n",
       "97           NaN      NaN      NaN      NaN      NaN      NaN      NaN   \n",
       "\n",
       "                                    ...                                 \\\n",
       "country       BE       CH       CN  ...        SI                   EE   \n",
       "stars   ONE_STAR ONE_STAR ONE_STAR  ... TWO_STARS THREE_STARS ONE_STAR   \n",
       "0            NaN      NaN      NaN  ...       NaN         NaN      NaN   \n",
       "1            NaN      NaN      NaN  ...       NaN         NaN      NaN   \n",
       "2            NaN      NaN      NaN  ...       NaN         NaN      NaN   \n",
       "3            NaN      NaN      NaN  ...       NaN         NaN      NaN   \n",
       "4            NaN      NaN      NaN  ...       NaN         NaN      NaN   \n",
       "..           ...      ...      ...  ...       ...         ...      ...   \n",
       "93           NaN      NaN      NaN  ...       NaN         NaN      NaN   \n",
       "94           NaN      NaN      NaN  ...       NaN         NaN      NaN   \n",
       "95           NaN      NaN      NaN  ...       NaN         NaN      NaN   \n",
       "96           NaN      NaN      NaN  ...       NaN         NaN      NaN   \n",
       "97           NaN      NaN      NaN  ...       NaN         NaN      NaN   \n",
       "\n",
       "                                                                                \n",
       "country                  MY        FI        NO          SE        GR       AD  \n",
       "stars   TWO_STARS TWO_STARS TWO_STARS TWO_STARS THREE_STARS TWO_STARS ONE_STAR  \n",
       "0             NaN       NaN       NaN       NaN         NaN       NaN      NaN  \n",
       "1             NaN       NaN       NaN       NaN         NaN       NaN      NaN  \n",
       "2             NaN       NaN       NaN       NaN         NaN       NaN      NaN  \n",
       "3             NaN       NaN       NaN       NaN         NaN       NaN      NaN  \n",
       "4             NaN       NaN       NaN       NaN         NaN       NaN      NaN  \n",
       "..            ...       ...       ...       ...         ...       ...      ...  \n",
       "93            NaN       NaN       1.0       NaN         NaN       NaN      NaN  \n",
       "94            NaN       NaN       NaN       1.0         NaN       NaN      NaN  \n",
       "95            NaN       NaN       NaN       NaN         1.0       NaN      NaN  \n",
       "96            NaN       NaN       NaN       NaN         NaN       1.0      NaN  \n",
       "97            NaN       NaN       NaN       NaN         NaN       NaN      1.0  \n",
       "\n",
       "[98 rows x 98 columns]"
      ]
     },
     "execution_count": 22,
     "metadata": {},
     "output_type": "execute_result"
    }
   ],
   "source": [
    "df_tmp"
   ]
  },
  {
   "cell_type": "code",
   "execution_count": 23,
   "id": "68c37c83-7cf7-4806-aba1-efede4087350",
   "metadata": {
    "execution": {
     "iopub.execute_input": "2023-11-25T13:21:47.391795Z",
     "iopub.status.busy": "2023-11-25T13:21:47.390856Z",
     "iopub.status.idle": "2023-11-25T13:21:47.466186Z",
     "shell.execute_reply": "2023-11-25T13:21:47.460351Z",
     "shell.execute_reply.started": "2023-11-25T13:21:47.391732Z"
    },
    "tags": []
   },
   "outputs": [
    {
     "data": {
      "text/html": [
       "<div>\n",
       "<style scoped>\n",
       "    .dataframe tbody tr th:only-of-type {\n",
       "        vertical-align: middle;\n",
       "    }\n",
       "\n",
       "    .dataframe tbody tr th {\n",
       "        vertical-align: top;\n",
       "    }\n",
       "\n",
       "    .dataframe thead th {\n",
       "        text-align: right;\n",
       "    }\n",
       "</style>\n",
       "<table border=\"1\" class=\"dataframe\">\n",
       "  <thead>\n",
       "    <tr style=\"text-align: right;\">\n",
       "      <th></th>\n",
       "      <th>chef</th>\n",
       "      <th>city</th>\n",
       "      <th>country</th>\n",
       "      <th>cuisine_code</th>\n",
       "      <th>json_data</th>\n",
       "      <th>lat</th>\n",
       "      <th>lon</th>\n",
       "      <th>name</th>\n",
       "      <th>price_category</th>\n",
       "      <th>region</th>\n",
       "      <th>res_id</th>\n",
       "    </tr>\n",
       "    <tr>\n",
       "      <th>stars</th>\n",
       "      <th></th>\n",
       "      <th></th>\n",
       "      <th></th>\n",
       "      <th></th>\n",
       "      <th></th>\n",
       "      <th></th>\n",
       "      <th></th>\n",
       "      <th></th>\n",
       "      <th></th>\n",
       "      <th></th>\n",
       "      <th></th>\n",
       "    </tr>\n",
       "  </thead>\n",
       "  <tbody>\n",
       "    <tr>\n",
       "      <th>ONE_STAR</th>\n",
       "      <td>104</td>\n",
       "      <td>185</td>\n",
       "      <td>185</td>\n",
       "      <td>185</td>\n",
       "      <td>185</td>\n",
       "      <td>185</td>\n",
       "      <td>185</td>\n",
       "      <td>185</td>\n",
       "      <td>185</td>\n",
       "      <td>185</td>\n",
       "      <td>185</td>\n",
       "    </tr>\n",
       "    <tr>\n",
       "      <th>THREE_STARS</th>\n",
       "      <td>12</td>\n",
       "      <td>13</td>\n",
       "      <td>13</td>\n",
       "      <td>13</td>\n",
       "      <td>13</td>\n",
       "      <td>13</td>\n",
       "      <td>13</td>\n",
       "      <td>13</td>\n",
       "      <td>13</td>\n",
       "      <td>13</td>\n",
       "      <td>13</td>\n",
       "    </tr>\n",
       "    <tr>\n",
       "      <th>TWO_STARS</th>\n",
       "      <td>29</td>\n",
       "      <td>33</td>\n",
       "      <td>33</td>\n",
       "      <td>33</td>\n",
       "      <td>33</td>\n",
       "      <td>33</td>\n",
       "      <td>33</td>\n",
       "      <td>33</td>\n",
       "      <td>33</td>\n",
       "      <td>33</td>\n",
       "      <td>33</td>\n",
       "    </tr>\n",
       "  </tbody>\n",
       "</table>\n",
       "</div>"
      ],
      "text/plain": [
       "             chef  city  country  cuisine_code  json_data  lat  lon  name  \\\n",
       "stars                                                                       \n",
       "ONE_STAR      104   185      185           185        185  185  185   185   \n",
       "THREE_STARS    12    13       13            13         13   13   13    13   \n",
       "TWO_STARS      29    33       33            33         33   33   33    33   \n",
       "\n",
       "             price_category  region  res_id  \n",
       "stars                                        \n",
       "ONE_STAR                185     185     185  \n",
       "THREE_STARS              13      13      13  \n",
       "TWO_STARS                33      33      33  "
      ]
     },
     "execution_count": 23,
     "metadata": {},
     "output_type": "execute_result"
    }
   ],
   "source": [
    "df[df.country=='US'].groupby('stars').count()"
   ]
  },
  {
   "cell_type": "code",
   "execution_count": 24,
   "id": "08013a2e-2dfa-42a8-ae7d-975dc4a4ffd2",
   "metadata": {
    "execution": {
     "iopub.execute_input": "2023-11-25T13:21:47.734680Z",
     "iopub.status.busy": "2023-11-25T13:21:47.733468Z",
     "iopub.status.idle": "2023-11-25T13:21:47.789577Z",
     "shell.execute_reply": "2023-11-25T13:21:47.757130Z",
     "shell.execute_reply.started": "2023-11-25T13:21:47.734618Z"
    },
    "tags": []
   },
   "outputs": [
    {
     "name": "stdout",
     "output_type": "stream",
     "text": [
      "Il Cantuccio Albavilla [{'code': 'TYC_1085', 'label': 'Modern Cuisine', 'slug': 'modern-cuisine'}]\n",
      "Trattoria Contemporanea Lomazzo [{'code': 'TYC_814', 'label': 'Italian Contemporary', 'slug': 'italian-contemporary'}, {'code': 'TYC_1036', 'label': 'Creative', 'slug': 'creative'}]\n",
      "Kitchen Como [{'code': 'TYC_814', 'label': 'Italian Contemporary', 'slug': 'italian-contemporary'}]\n",
      "Materia Cernobbio [{'code': 'TYC_1036', 'label': 'Creative', 'slug': 'creative'}]\n",
      "Il Sereno Al Lago Torno [{'code': 'TYC_1036', 'label': 'Creative', 'slug': 'creative'}]\n",
      "sui generis. Saronno [{'code': 'TYC_1036', 'label': 'Creative', 'slug': 'creative'}]\n",
      "Osteria Enoteca Cuntitt Castel San Pietro [{'code': 'TYC_814', 'label': 'Italian Contemporary', 'slug': 'italian-contemporary'}, {'code': 'TYC_1250', 'label': 'Seasonal Cuisine', 'slug': 'seasonal-cuisine'}]\n",
      "Bianca sul Lago by Emanuele Petrosino Oggiono [{'code': 'TYC_1036', 'label': 'Creative', 'slug': 'creative'}, {'code': 'TYC_1083', 'label': 'Mediterranean Cuisine', 'slug': 'mediterranean-cuisine'}]\n",
      "Acquerello Fagnano Olona [{'code': 'TYC_1036', 'label': 'Creative', 'slug': 'creative'}]\n",
      "Iyo Milan [{'code': 'TYC_1068', 'label': 'Japanese', 'slug': 'japanese'}, {'code': 'TYC_1203', 'label': 'Asian Contemporary', 'slug': 'asian-contemporary'}]\n",
      "AALTO Milan [{'code': 'TYC_55', 'label': 'Fusion', 'slug': 'fusion'}, {'code': 'TYC_1036', 'label': 'Creative', 'slug': 'creative'}]\n",
      "Berton Milan [{'code': 'TYC_814', 'label': 'Italian Contemporary', 'slug': 'italian-contemporary'}, {'code': 'TYC_1036', 'label': 'Creative', 'slug': 'creative'}]\n",
      "Anima Milan [{'code': 'TYC_6', 'label': 'Contemporary', 'slug': 'contemporary'}, {'code': 'TYC_1036', 'label': 'Creative', 'slug': 'creative'}]\n",
      "Viva Viviana Varese Milan [{'code': 'TYC_1036', 'label': 'Creative', 'slug': 'creative'}]\n",
      "D'O Cornaredo [{'code': 'TYC_1036', 'label': 'Creative', 'slug': 'creative'}, {'code': 'TYC_814', 'label': 'Italian Contemporary', 'slug': 'italian-contemporary'}]\n",
      "Joia Milan [{'code': 'TYC_1126', 'label': 'Vegetarian', 'slug': 'vegetarian'}, {'code': 'TYC_1250', 'label': 'Seasonal Cuisine', 'slug': 'seasonal-cuisine'}]\n",
      "Sadler Milan [{'code': 'TYC_1067', 'label': 'Italian', 'slug': 'italian'}, {'code': 'TYC_1036', 'label': 'Creative', 'slug': 'creative'}]\n",
      "Andrea Aprea Milan [{'code': 'TYC_814', 'label': 'Italian Contemporary', 'slug': 'italian-contemporary'}, {'code': 'TYC_1036', 'label': 'Creative', 'slug': 'creative'}]\n",
      "Seta by Antonio Guida Milan [{'code': 'TYC_1065', 'label': 'International', 'slug': 'international'}, {'code': 'TYC_6', 'label': 'Contemporary', 'slug': 'contemporary'}]\n",
      "THE VIEW Lugano [{'code': 'TYC_814', 'label': 'Italian Contemporary', 'slug': 'italian-contemporary'}, {'code': 'TYC_1085', 'label': 'Modern Cuisine', 'slug': 'modern-cuisine'}]\n"
     ]
    }
   ],
   "source": [
    "for index, row in df.head(20).iterrows():\n",
    "    print(row['name'], row['city'], row.cuisine_code)"
   ]
  },
  {
   "cell_type": "code",
   "execution_count": 25,
   "id": "129c0cc9-f34e-4754-98ed-d4c6fb3388e0",
   "metadata": {
    "execution": {
     "iopub.execute_input": "2023-11-25T13:21:48.416595Z",
     "iopub.status.busy": "2023-11-25T13:21:48.415846Z",
     "iopub.status.idle": "2023-11-25T13:21:49.009920Z",
     "shell.execute_reply": "2023-11-25T13:21:49.009101Z",
     "shell.execute_reply.started": "2023-11-25T13:21:48.416555Z"
    },
    "tags": []
   },
   "outputs": [],
   "source": [
    "# cuisine distrib per country\n",
    "\n",
    "d_cc = {}   # country: [list of cuisines from all restauratns]\n",
    "\n",
    "for index, row in df.iterrows():\n",
    "    d_cc[row['country']] = []\n",
    "    \n",
    "for index,row in df.iterrows():\n",
    "    for item in ast.literal_eval(row['cuisine_code']):\n",
    "        d_cc[row['country']].append(item['label'])\n",
    "    #d_cc[row['country']].append(ast.literal_eval(row['cuisine_code']))"
   ]
  },
  {
   "cell_type": "code",
   "execution_count": 26,
   "id": "327d24e5-1f2e-4b51-91a1-f98ca628509e",
   "metadata": {
    "execution": {
     "iopub.execute_input": "2023-11-25T13:21:49.053043Z",
     "iopub.status.busy": "2023-11-25T13:21:49.052587Z",
     "iopub.status.idle": "2023-11-25T13:21:49.061039Z",
     "shell.execute_reply": "2023-11-25T13:21:49.059938Z",
     "shell.execute_reply.started": "2023-11-25T13:21:49.053012Z"
    },
    "tags": []
   },
   "outputs": [
    {
     "data": {
      "text/plain": [
       "{'code': 'TYC_1085', 'label': 'Modern Cuisine', 'slug': 'modern-cuisine'}"
      ]
     },
     "execution_count": 26,
     "metadata": {},
     "output_type": "execute_result"
    }
   ],
   "source": [
    "item"
   ]
  },
  {
   "cell_type": "code",
   "execution_count": 27,
   "id": "5a0854bf-8b14-4c1a-95f2-d8e0c781ce59",
   "metadata": {
    "execution": {
     "iopub.execute_input": "2023-11-25T13:21:49.372432Z",
     "iopub.status.busy": "2023-11-25T13:21:49.368322Z",
     "iopub.status.idle": "2023-11-25T13:21:49.490253Z",
     "shell.execute_reply": "2023-11-25T13:21:49.489061Z",
     "shell.execute_reply.started": "2023-11-25T13:21:49.372375Z"
    },
    "tags": []
   },
   "outputs": [
    {
     "data": {
      "text/plain": [
       "['Italian',\n",
       " 'French',\n",
       " 'Japanese',\n",
       " 'Japanese',\n",
       " 'Chinese',\n",
       " 'French',\n",
       " 'Japanese',\n",
       " 'Japanese',\n",
       " 'Sushi',\n",
       " 'Japanese']"
      ]
     },
     "execution_count": 27,
     "metadata": {},
     "output_type": "execute_result"
    },
    {
     "data": {
      "text/plain": [
       "670"
      ]
     },
     "execution_count": 27,
     "metadata": {},
     "output_type": "execute_result"
    }
   ],
   "source": [
    "d_cc['JP'][:10]\n",
    "len(d_cc['IT'])"
   ]
  },
  {
   "cell_type": "code",
   "execution_count": 28,
   "id": "e00cce01-0983-4b12-958b-9f4ee27d1e14",
   "metadata": {
    "execution": {
     "iopub.execute_input": "2023-11-25T13:21:49.948423Z",
     "iopub.status.busy": "2023-11-25T13:21:49.947859Z",
     "iopub.status.idle": "2023-11-25T13:21:50.000013Z",
     "shell.execute_reply": "2023-11-25T13:21:49.996713Z",
     "shell.execute_reply.started": "2023-11-25T13:21:49.948369Z"
    },
    "tags": []
   },
   "outputs": [
    {
     "name": "stdout",
     "output_type": "stream",
     "text": [
      "76426 Ceto [{'code': 'TYC_1096', 'label': 'Seafood', 'slug': 'seafood-1096'}, {'code': 'TYC_1083', 'label': 'Mediterranean Cuisine', 'slug': 'mediterranean-cuisine'}] \n",
      "\n",
      "77095 Le Louis XV - Alain Ducasse à l'Hôtel de Paris [{'code': 'TYC_1083', 'label': 'Mediterranean Cuisine', 'slug': 'mediterranean-cuisine'}, {'code': 'TYC_1085', 'label': 'Modern Cuisine', 'slug': 'modern-cuisine'}] \n",
      "\n",
      "76674 Hostellerie Jérôme [{'code': 'TYC_1083', 'label': 'Mediterranean Cuisine', 'slug': 'mediterranean-cuisine'}] \n",
      "\n",
      "77762 Il Cortile [{'code': 'TYC_1083', 'label': 'Mediterranean Cuisine', 'slug': 'mediterranean-cuisine'}, {'code': 'TYC_1067', 'label': 'Italian', 'slug': 'italian'}] \n",
      "\n",
      "76507 Le Saint-Martin [{'code': 'TYC_1085', 'label': 'Modern Cuisine', 'slug': 'modern-cuisine'}, {'code': 'TYC_1083', 'label': 'Mediterranean Cuisine', 'slug': 'mediterranean-cuisine'}] \n",
      "\n",
      "77690 Les Pêcheurs [{'code': 'TYC_1083', 'label': 'Mediterranean Cuisine', 'slug': 'mediterranean-cuisine'}] \n",
      "\n",
      "77741 Louroc - Hôtel du Cap-Eden-Roc [{'code': 'TYC_1085', 'label': 'Modern Cuisine', 'slug': 'modern-cuisine'}, {'code': 'TYC_1083', 'label': 'Mediterranean Cuisine', 'slug': 'mediterranean-cuisine'}] \n",
      "\n",
      "75778 L'Or Bleu [{'code': 'TYC_1085', 'label': 'Modern Cuisine', 'slug': 'modern-cuisine'}, {'code': 'TYC_1083', 'label': 'Mediterranean Cuisine', 'slug': 'mediterranean-cuisine'}] \n",
      "\n",
      "77192 Hostellerie de l'Abbaye de la Celle [{'code': 'TYC_1100', 'label': 'Provençal', 'slug': 'provençal'}, {'code': 'TYC_1083', 'label': 'Mediterranean Cuisine', 'slug': 'mediterranean-cuisine'}] \n",
      "\n",
      "77191 La Table de Xavier Mathieu [{'code': 'TYC_1036', 'label': 'Creative', 'slug': 'creative'}, {'code': 'TYC_1083', 'label': 'Mediterranean Cuisine', 'slug': 'mediterranean-cuisine'}] \n",
      "\n",
      "78462 La Mère Germaine [{'code': 'TYC_1085', 'label': 'Modern Cuisine', 'slug': 'modern-cuisine'}, {'code': 'TYC_1083', 'label': 'Mediterranean Cuisine', 'slug': 'mediterranean-cuisine'}] \n",
      "\n",
      "76258 La Magdeleine - Mathias Dandine [{'code': 'TYC_1083', 'label': 'Mediterranean Cuisine', 'slug': 'mediterranean-cuisine'}] \n",
      "\n",
      "77349 La Table de Nans [{'code': 'TYC_1083', 'label': 'Mediterranean Cuisine', 'slug': 'mediterranean-cuisine'}] \n",
      "\n",
      "77891 La Villa Madie [{'code': 'TYC_1036', 'label': 'Creative', 'slug': 'creative'}, {'code': 'TYC_1083', 'label': 'Mediterranean Cuisine', 'slug': 'mediterranean-cuisine'}] \n",
      "\n",
      "76230 Alcyone [{'code': 'TYC_1083', 'label': 'Mediterranean Cuisine', 'slug': 'mediterranean-cuisine'}] \n",
      "\n",
      "76189 Reflet d'Obione [{'code': 'TYC_1085', 'label': 'Modern Cuisine', 'slug': 'modern-cuisine'}, {'code': 'TYC_1083', 'label': 'Mediterranean Cuisine', 'slug': 'mediterranean-cuisine'}] \n",
      "\n",
      "76616 The Marcel [{'code': 'TYC_1083', 'label': 'Mediterranean Cuisine', 'slug': 'mediterranean-cuisine'}, {'code': 'TYC_1085', 'label': 'Modern Cuisine', 'slug': 'modern-cuisine'}] \n",
      "\n",
      "76537 Baieta [{'code': 'TYC_1083', 'label': 'Mediterranean Cuisine', 'slug': 'mediterranean-cuisine'}] \n",
      "\n",
      "77264 Mavrommatis [{'code': 'TYC_1056', 'label': 'Greek', 'slug': 'greek'}, {'code': 'TYC_1083', 'label': 'Mediterranean Cuisine', 'slug': 'mediterranean-cuisine'}] \n",
      "\n"
     ]
    }
   ],
   "source": [
    "for index, row in df[df.country=='FR'].iterrows():\n",
    "    if 'Mediterranean Cuisine' in row['cuisine_code']:\n",
    "        print(row.res_id, row['name'], row['cuisine_code'], '\\n')"
   ]
  },
  {
   "cell_type": "code",
   "execution_count": 151,
   "id": "b49a6a05-6516-42e8-bf92-fe89e437b3ea",
   "metadata": {
    "execution": {
     "iopub.execute_input": "2023-11-19T11:19:30.238167Z",
     "iopub.status.busy": "2023-11-19T11:19:30.237816Z",
     "iopub.status.idle": "2023-11-19T11:19:30.248747Z",
     "shell.execute_reply": "2023-11-19T11:19:30.247505Z",
     "shell.execute_reply.started": "2023-11-19T11:19:30.238135Z"
    },
    "tags": []
   },
   "outputs": [
    {
     "data": {
      "text/plain": [
       "64    [{'code': 'TYC_814', 'label': 'Italian Contemp...\n",
       "Name: cuisine_code, dtype: object"
      ]
     },
     "execution_count": 151,
     "metadata": {},
     "output_type": "execute_result"
    }
   ],
   "source": [
    "df[df.res_id==88338]['cuisine_code']"
   ]
  },
  {
   "cell_type": "code",
   "execution_count": 30,
   "id": "c3bdfcb1-f677-4a4e-9a64-16066ef744e4",
   "metadata": {
    "execution": {
     "iopub.execute_input": "2023-11-25T13:22:03.233612Z",
     "iopub.status.busy": "2023-11-25T13:22:03.233109Z",
     "iopub.status.idle": "2023-11-25T13:22:03.270381Z",
     "shell.execute_reply": "2023-11-25T13:22:03.253985Z",
     "shell.execute_reply.started": "2023-11-25T13:22:03.233559Z"
    },
    "tags": []
   },
   "outputs": [],
   "source": [
    "c = Counter(d_cc['US'])"
   ]
  },
  {
   "cell_type": "code",
   "execution_count": 31,
   "id": "383c36d8-ff13-4942-802a-bc8ac634e083",
   "metadata": {
    "execution": {
     "iopub.execute_input": "2023-11-25T13:22:03.925140Z",
     "iopub.status.busy": "2023-11-25T13:22:03.924808Z",
     "iopub.status.idle": "2023-11-25T13:22:03.932736Z",
     "shell.execute_reply": "2023-11-25T13:22:03.930310Z",
     "shell.execute_reply.started": "2023-11-25T13:22:03.925109Z"
    },
    "tags": []
   },
   "outputs": [],
   "source": [
    "all_cuisines = [item[0] for item in c.most_common()]"
   ]
  },
  {
   "cell_type": "code",
   "execution_count": 32,
   "id": "ab162881-c522-4bc8-bcf3-410ac325eeaf",
   "metadata": {
    "execution": {
     "iopub.execute_input": "2023-11-25T13:22:04.088062Z",
     "iopub.status.busy": "2023-11-25T13:22:04.087200Z",
     "iopub.status.idle": "2023-11-25T13:22:04.111754Z",
     "shell.execute_reply": "2023-11-25T13:22:04.109082Z",
     "shell.execute_reply.started": "2023-11-25T13:22:04.088024Z"
    },
    "tags": []
   },
   "outputs": [
    {
     "data": {
      "text/plain": [
       "[('Contemporary', 127),\n",
       " ('Japanese', 48),\n",
       " ('Sushi', 37),\n",
       " ('Californian', 24),\n",
       " ('American', 22),\n",
       " ('French', 17),\n",
       " ('Italian', 13),\n",
       " ('Korean', 13),\n",
       " ('Seafood', 8),\n",
       " ('American Contemporary', 8),\n",
       " ('Modern Cuisine', 7),\n",
       " ('Creative', 7),\n",
       " ('Regional Cuisine', 7),\n",
       " ('Mexican', 6),\n",
       " ('Steakhouse', 6),\n",
       " ('Asian', 5),\n",
       " ('Fusion', 4),\n",
       " ('Middle Eastern', 4),\n",
       " ('French Contemporary', 4),\n",
       " ('Modern French', 3),\n",
       " ('Latin American', 3),\n",
       " ('Spanish', 3),\n",
       " ('Indian', 3),\n",
       " ('Classic Cuisine', 2),\n",
       " ('Thai', 2),\n",
       " ('Mediterranean Cuisine', 2),\n",
       " ('Colombian', 2),\n",
       " ('Innovative', 2),\n",
       " ('Vegetarian', 2),\n",
       " ('Scandinavian', 2),\n",
       " ('Traditional Cuisine', 1),\n",
       " ('Farm to table', 1),\n",
       " ('Chinese', 1),\n",
       " ('Asian Contemporary', 1),\n",
       " ('Filipino', 1),\n",
       " ('Portuguese', 1),\n",
       " ('Lebanese', 1),\n",
       " ('Peruvian', 1),\n",
       " ('Grills', 1),\n",
       " ('Classic French', 1),\n",
       " ('Italian-American', 1),\n",
       " ('Yakitori', 1),\n",
       " ('Israeli', 1),\n",
       " ('Seasonal Cuisine', 1),\n",
       " ('Korean Contemporary', 1),\n",
       " ('Vegan', 1),\n",
       " ('Alsatian', 1),\n",
       " ('Tempura', 1)]"
      ]
     },
     "execution_count": 32,
     "metadata": {},
     "output_type": "execute_result"
    }
   ],
   "source": [
    "c.most_common()[:]"
   ]
  },
  {
   "cell_type": "code",
   "execution_count": 208,
   "id": "69bd3a53-0a48-4d5a-b2b4-c4d6278f2907",
   "metadata": {
    "execution": {
     "iopub.execute_input": "2023-11-19T12:07:18.178575Z",
     "iopub.status.busy": "2023-11-19T12:07:18.177878Z",
     "iopub.status.idle": "2023-11-19T12:07:18.192619Z",
     "shell.execute_reply": "2023-11-19T12:07:18.191746Z",
     "shell.execute_reply.started": "2023-11-19T12:07:18.178532Z"
    },
    "tags": []
   },
   "outputs": [],
   "source": [
    "# manually filled based on the above\n",
    "\n",
    "# Medietrranean Cuisine: could belong to more countries (it is Italy, France)\n",
    "# Alpine: could be Italy and France\n",
    "# Traditional Cuisine: generic\n",
    "\n",
    "l_cuisines_local_france = ['Provençal', 'Regional Cuisine', 'Corsican', 'Modern French', 'French']\n",
    "l_cuisines_foreign_france = ['Japanese', 'Italian', 'Thai', 'Asian Contemporary', \n",
    "                             'Peruvian', 'Mexican', 'Chinese', 'Sushi', 'Greek']\n",
    "\n",
    "l_cuisines_local_italy = ['Italian Contemporary', 'Piedmontese', 'Campanian', 'Italian', \n",
    "                          'Sicilian', \n",
    "                          'Regional Cuisine', 'Tuscan', 'Ligurian', 'Emilian', 'Sardininan',\n",
    "                         'Apulian', 'Calabrian', 'Cuisine from Abruzzo', 'Lombardian', \n",
    "                         'Cuisine from the Aosta Valley', 'Venetian', 'Cuisine from Romagna', \n",
    "                         'Umbrian', 'Cuisine from the Marches', 'Cuisine from Lazio']\n",
    "l_cuisines_foreign_italy = ['Japanese', 'Asian Contemporary', 'French', 'Colombian', \n",
    "                            'Asian Influences']\n",
    "\n",
    "l_cuisines_local_japan = ['Japanese','Sushi', 'Tempura', 'Yakitori', 'Soba', 'Ramen',\n",
    "                         'Fugu / Pufferfish', 'Unagi / Freshwater Eel', 'Shojin',\n",
    "                         'Sukiyaki', 'Oden']\n",
    "l_cuisines_foreign_japan= ['Italian', 'Chinese', 'Spanish', 'Spanish Contemporary', \n",
    "                          'Italian Contemporary']\n",
    "\n",
    "l_cuisines_local_germany = ['Regional Cuisine']\n",
    "l_cuisines_foreign_germany = ['Modern French', 'Classic French', 'French Contemporary', \n",
    "                             'Creative French', 'Japanese', 'Asian Influences', 'Italian', \n",
    "                              'French', 'Japanese Contemporary', 'Sushi', 'Asian', 'Greek', \n",
    "                             'North African', 'Israeli', 'Austrian', 'Russian']\n",
    "\n",
    "l_cuisines_local_usa = ['Californian', 'American', 'American Contemporary', \n",
    "                       'Regional Cuisine', 'Italian-American']\n",
    "l_cuisines_foreign_usa  = ['Japanese', 'Sushi', 'French', 'Italian', 'Korean', 'Mexican', 'Asian', \n",
    "                          'Middle Eastern', 'French Contemporary', 'Modern French', 'Latin American', \n",
    "                          'Spanish', 'Indian', 'Thai', 'Mediterranean Cuisine', 'Colombian', \n",
    "                          'Scandinavian', 'Chinese', 'Asian Contemporary', 'Filipino', \n",
    "                          'Portuguese', 'Lebanese', 'Peruvian', 'Classic French', 'Yakitori', \n",
    "                          'Israeli', 'Korean Contemporary', 'Alsatian', 'Tempura']\n",
    "\n",
    "l_cuisines_local_spain = ['Regional Cuisine', 'Castilian', 'Catalan', 'Andalusian', 'Galician',\n",
    "                         'Spanish']\n",
    "l_cuisines_foreign_spain = ['Japanese', 'Mexican', 'French Contemporary', 'Colombian']"
   ]
  },
  {
   "cell_type": "code",
   "execution_count": 271,
   "id": "1778ac46-e7c4-4a32-ad20-84e121124e71",
   "metadata": {
    "execution": {
     "iopub.execute_input": "2023-11-19T17:06:15.597943Z",
     "iopub.status.busy": "2023-11-19T17:06:15.597595Z",
     "iopub.status.idle": "2023-11-19T17:06:15.689659Z",
     "shell.execute_reply": "2023-11-19T17:06:15.664568Z",
     "shell.execute_reply.started": "2023-11-19T17:06:15.597909Z"
    },
    "tags": []
   },
   "outputs": [],
   "source": [
    "# local/non local based on the above for chosen country\n",
    "# we use all cuisines of a restaurant to check if one of them is classed as local\n",
    "\n",
    "country= 'US'\n",
    "l_locals = l_cuisines_local_usa\n",
    "l_foreign = l_cuisines_foreign_usa\n",
    "\n",
    "d_split = {}\n",
    "\n",
    "df_tmp = df[df.country==country].copy()\n",
    "    \n",
    "local_c, foreign_c = [], []\n",
    "for index,row in df_tmp.iterrows():\n",
    "    \n",
    "    cuisines = [item['label'] for item in ast.literal_eval(row['cuisine_code'])]\n",
    "    \n",
    "    local, foreign = 'else', 'else'\n",
    "    \n",
    "    # first check if any local cuisine is present in list - if so, it's local\n",
    "    # local cuisine trumps the rest \n",
    "    for item in cuisines:\n",
    "        if item in l_locals:\n",
    "            local=True\n",
    "            foreign=False\n",
    "    \n",
    "    # otherwise, check if any foreign cuisine is present in list, if so, it's foreign\n",
    "    if local is not True:\n",
    "        for item in cuisines:\n",
    "            if item in l_foreign:\n",
    "                foreign=True\n",
    "                local=False\n",
    "                \n",
    "    # otherwise it'll be a else (Creative, etc)\n",
    "                \n",
    "    local_c.append(local)\n",
    "    foreign_c.append(foreign)\n",
    "\n",
    "df_tmp['local'] = local_c\n",
    "df_tmp['foreign'] = foreign_c"
   ]
  },
  {
   "cell_type": "code",
   "execution_count": 272,
   "id": "c132ca88-7c17-4ade-9d6e-c96dbc41a880",
   "metadata": {
    "execution": {
     "iopub.execute_input": "2023-11-19T17:06:15.803292Z",
     "iopub.status.busy": "2023-11-19T17:06:15.801982Z",
     "iopub.status.idle": "2023-11-19T17:06:15.811420Z",
     "shell.execute_reply": "2023-11-19T17:06:15.810622Z",
     "shell.execute_reply.started": "2023-11-19T17:06:15.803245Z"
    },
    "tags": []
   },
   "outputs": [
    {
     "data": {
      "text/plain": [
       "231"
      ]
     },
     "execution_count": 272,
     "metadata": {},
     "output_type": "execute_result"
    }
   ],
   "source": [
    "len(df_tmp)"
   ]
  },
  {
   "cell_type": "code",
   "execution_count": 273,
   "id": "b9bfe3ed-db24-459e-8d7d-6f19738d4c37",
   "metadata": {
    "execution": {
     "iopub.execute_input": "2023-11-19T17:06:15.989352Z",
     "iopub.status.busy": "2023-11-19T17:06:15.988431Z",
     "iopub.status.idle": "2023-11-19T17:06:16.054125Z",
     "shell.execute_reply": "2023-11-19T17:06:16.052798Z",
     "shell.execute_reply.started": "2023-11-19T17:06:15.989311Z"
    },
    "tags": []
   },
   "outputs": [
    {
     "data": {
      "text/html": [
       "<div>\n",
       "<style scoped>\n",
       "    .dataframe tbody tr th:only-of-type {\n",
       "        vertical-align: middle;\n",
       "    }\n",
       "\n",
       "    .dataframe tbody tr th {\n",
       "        vertical-align: top;\n",
       "    }\n",
       "\n",
       "    .dataframe thead th {\n",
       "        text-align: right;\n",
       "    }\n",
       "</style>\n",
       "<table border=\"1\" class=\"dataframe\">\n",
       "  <thead>\n",
       "    <tr style=\"text-align: right;\">\n",
       "      <th></th>\n",
       "      <th>chef</th>\n",
       "      <th>res_id</th>\n",
       "    </tr>\n",
       "    <tr>\n",
       "      <th>local</th>\n",
       "      <th></th>\n",
       "      <th></th>\n",
       "    </tr>\n",
       "  </thead>\n",
       "  <tbody>\n",
       "    <tr>\n",
       "      <th>False</th>\n",
       "      <td>69</td>\n",
       "      <td>121</td>\n",
       "    </tr>\n",
       "    <tr>\n",
       "      <th>True</th>\n",
       "      <td>45</td>\n",
       "      <td>60</td>\n",
       "    </tr>\n",
       "    <tr>\n",
       "      <th>else</th>\n",
       "      <td>31</td>\n",
       "      <td>50</td>\n",
       "    </tr>\n",
       "  </tbody>\n",
       "</table>\n",
       "</div>"
      ],
      "text/plain": [
       "       chef  res_id\n",
       "local              \n",
       "False    69     121\n",
       "True     45      60\n",
       "else     31      50"
      ]
     },
     "execution_count": 273,
     "metadata": {},
     "output_type": "execute_result"
    },
    {
     "data": {
      "text/html": [
       "<div>\n",
       "<style scoped>\n",
       "    .dataframe tbody tr th:only-of-type {\n",
       "        vertical-align: middle;\n",
       "    }\n",
       "\n",
       "    .dataframe tbody tr th {\n",
       "        vertical-align: top;\n",
       "    }\n",
       "\n",
       "    .dataframe thead th {\n",
       "        text-align: right;\n",
       "    }\n",
       "</style>\n",
       "<table border=\"1\" class=\"dataframe\">\n",
       "  <thead>\n",
       "    <tr style=\"text-align: right;\">\n",
       "      <th></th>\n",
       "      <th>chef</th>\n",
       "      <th>res_id</th>\n",
       "    </tr>\n",
       "    <tr>\n",
       "      <th>foreign</th>\n",
       "      <th></th>\n",
       "      <th></th>\n",
       "    </tr>\n",
       "  </thead>\n",
       "  <tbody>\n",
       "    <tr>\n",
       "      <th>False</th>\n",
       "      <td>45</td>\n",
       "      <td>60</td>\n",
       "    </tr>\n",
       "    <tr>\n",
       "      <th>True</th>\n",
       "      <td>69</td>\n",
       "      <td>121</td>\n",
       "    </tr>\n",
       "    <tr>\n",
       "      <th>else</th>\n",
       "      <td>31</td>\n",
       "      <td>50</td>\n",
       "    </tr>\n",
       "  </tbody>\n",
       "</table>\n",
       "</div>"
      ],
      "text/plain": [
       "         chef  res_id\n",
       "foreign              \n",
       "False      45      60\n",
       "True       69     121\n",
       "else       31      50"
      ]
     },
     "execution_count": 273,
     "metadata": {},
     "output_type": "execute_result"
    },
    {
     "data": {
      "text/plain": [
       "0"
      ]
     },
     "execution_count": 273,
     "metadata": {},
     "output_type": "execute_result"
    },
    {
     "data": {
      "text/html": [
       "<div>\n",
       "<style scoped>\n",
       "    .dataframe tbody tr th:only-of-type {\n",
       "        vertical-align: middle;\n",
       "    }\n",
       "\n",
       "    .dataframe tbody tr th {\n",
       "        vertical-align: top;\n",
       "    }\n",
       "\n",
       "    .dataframe thead th {\n",
       "        text-align: right;\n",
       "    }\n",
       "</style>\n",
       "<table border=\"1\" class=\"dataframe\">\n",
       "  <thead>\n",
       "    <tr style=\"text-align: right;\">\n",
       "      <th></th>\n",
       "      <th>res_id</th>\n",
       "      <th>cuisine_code</th>\n",
       "    </tr>\n",
       "  </thead>\n",
       "  <tbody>\n",
       "  </tbody>\n",
       "</table>\n",
       "</div>"
      ],
      "text/plain": [
       "Empty DataFrame\n",
       "Columns: [res_id, cuisine_code]\n",
       "Index: []"
      ]
     },
     "execution_count": 273,
     "metadata": {},
     "output_type": "execute_result"
    }
   ],
   "source": [
    "df_tmp.groupby('local').count()[['chef', 'res_id']]\n",
    "df_tmp.groupby('foreign').count()[['chef', 'res_id']]\n",
    "\n",
    "len(df_tmp[(df_tmp.local==True) & (df_tmp.foreign==True)])\n",
    "\n",
    "df_tmp[(df_tmp.local==True) & (df_tmp.foreign==True)][['res_id', 'cuisine_code']]"
   ]
  },
  {
   "cell_type": "code",
   "execution_count": 243,
   "id": "1cee17c4-db01-496b-8f6c-3021b317d1dc",
   "metadata": {
    "execution": {
     "iopub.execute_input": "2023-11-19T16:47:17.156007Z",
     "iopub.status.busy": "2023-11-19T16:47:17.155678Z",
     "iopub.status.idle": "2023-11-19T16:47:17.194340Z",
     "shell.execute_reply": "2023-11-19T16:47:17.192564Z",
     "shell.execute_reply.started": "2023-11-19T16:47:17.155961Z"
    },
    "tags": []
   },
   "outputs": [
    {
     "name": "stdout",
     "output_type": "stream",
     "text": [
      "84549 [{'code': 'TYC_47', 'label': 'Californian', 'slug': 'californian'}, {'code': 'TYC_1067', 'label': 'Italian', 'slug': 'italian'}] \n",
      "\n",
      "87611 [{'code': 'TYC_40', 'label': 'American', 'slug': 'american'}, {'code': 'TYC_1049', 'label': 'French', 'slug': 'french'}] \n",
      "\n"
     ]
    }
   ],
   "source": [
    "for index, row in df[df.country=='US'].iterrows():\n",
    "    if row.res_id in [84549, 87611, 89013]:\n",
    "        print(row.res_id, row['cuisine_code'], '\\n')"
   ]
  },
  {
   "cell_type": "code",
   "execution_count": 107,
   "id": "d5832c90-22cb-4104-b386-e85179f8e1f0",
   "metadata": {
    "execution": {
     "iopub.execute_input": "2023-11-19T10:00:16.265568Z",
     "iopub.status.busy": "2023-11-19T10:00:16.264737Z",
     "iopub.status.idle": "2023-11-19T10:00:16.399163Z",
     "shell.execute_reply": "2023-11-19T10:00:16.398076Z",
     "shell.execute_reply.started": "2023-11-19T10:00:16.265402Z"
    },
    "tags": []
   },
   "outputs": [
    {
     "name": "stdout",
     "output_type": "stream",
     "text": [
      "78332 [{'code': 'TYC_1036', 'label': 'Creative', 'slug': 'creative'}, {'code': 'TYC_1101', 'label': 'Regional Cuisine', 'slug': 'regional-cuisine'}] \n",
      "\n",
      "77378 [{'code': 'TYC_1100', 'label': 'Provençal', 'slug': 'provençal'}] \n",
      "\n",
      "77786 [{'code': 'TYC_1100', 'label': 'Provençal', 'slug': 'provençal'}] \n",
      "\n",
      "77375 [{'code': 'TYC_1100', 'label': 'Provençal', 'slug': 'provençal'}] \n",
      "\n",
      "75978 [{'code': 'TYC_1100', 'label': 'Provençal', 'slug': 'provençal'}] \n",
      "\n",
      "76407 [{'code': 'TYC_1100', 'label': 'Provençal', 'slug': 'provençal'}] \n",
      "\n",
      "77192 [{'code': 'TYC_1100', 'label': 'Provençal', 'slug': 'provençal'}, {'code': 'TYC_1083', 'label': 'Mediterranean Cuisine', 'slug': 'mediterranean-cuisine'}] \n",
      "\n",
      "76964 [{'code': 'TYC_1100', 'label': 'Provençal', 'slug': 'provençal'}, {'code': 'TYC_1085', 'label': 'Modern Cuisine', 'slug': 'modern-cuisine'}] \n",
      "\n",
      "76080 [{'code': 'TYC_1100', 'label': 'Provençal', 'slug': 'provençal'}] \n",
      "\n",
      "77527 [{'code': 'TYC_1085', 'label': 'Modern Cuisine', 'slug': 'modern-cuisine'}, {'code': 'TYC_1035', 'label': 'Corsican', 'slug': 'corsican'}] \n",
      "\n",
      "78063 [{'code': 'TYC_1085', 'label': 'Modern Cuisine', 'slug': 'modern-cuisine'}, {'code': 'TYC_1101', 'label': 'Regional Cuisine', 'slug': 'regional-cuisine'}] \n",
      "\n",
      "77141 [{'code': 'TYC_1036', 'label': 'Creative', 'slug': 'creative'}, {'code': 'TYC_1052', 'label': 'Modern French', 'slug': 'modern-french'}] \n",
      "\n",
      "76742 [{'code': 'TYC_1085', 'label': 'Modern Cuisine', 'slug': 'modern-cuisine'}, {'code': 'TYC_1101', 'label': 'Regional Cuisine', 'slug': 'regional-cuisine'}] \n",
      "\n",
      "76565 [{'code': 'TYC_1031', 'label': 'Classic Cuisine', 'slug': 'classic-cuisine'}, {'code': 'TYC_1049', 'label': 'French', 'slug': 'french'}] \n",
      "\n"
     ]
    }
   ],
   "source": [
    "for index, row in df_tmp.iterrows():\n",
    "    if row.local:\n",
    "        print(row.res_id, row['cuisine_code'], '\\n')"
   ]
  },
  {
   "cell_type": "code",
   "execution_count": null,
   "id": "3538f264-a58d-44da-a438-6a97e7c2770b",
   "metadata": {},
   "outputs": [],
   "source": []
  }
 ],
 "metadata": {
  "kernelspec": {
   "display_name": "Python 3 (ipykernel)",
   "language": "python",
   "name": "python3"
  },
  "language_info": {
   "codemirror_mode": {
    "name": "ipython",
    "version": 3
   },
   "file_extension": ".py",
   "mimetype": "text/x-python",
   "name": "python",
   "nbconvert_exporter": "python",
   "pygments_lexer": "ipython3",
   "version": "3.9.6"
  }
 },
 "nbformat": 4,
 "nbformat_minor": 5
}
