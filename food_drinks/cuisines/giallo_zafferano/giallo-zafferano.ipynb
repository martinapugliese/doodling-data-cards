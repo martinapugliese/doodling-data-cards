{
 "cells": [
  {
   "cell_type": "code",
   "execution_count": 1,
   "id": "37813ede-01ae-4841-95ee-d584c37ca066",
   "metadata": {
    "execution": {
     "iopub.execute_input": "2024-05-05T09:22:49.104222Z",
     "iopub.status.busy": "2024-05-05T09:22:49.097177Z",
     "iopub.status.idle": "2024-05-05T09:23:14.178256Z",
     "shell.execute_reply": "2024-05-05T09:23:14.177281Z",
     "shell.execute_reply.started": "2024-05-05T09:22:49.104075Z"
    },
    "tags": []
   },
   "outputs": [],
   "source": [
    "import json\n",
    "import os\n",
    "\n",
    "import pandas as pd\n",
    "\n",
    "from collections import Counter\n",
    "\n",
    "from matplotlib import pyplot as plt\n",
    "import seaborn as sns\n",
    "\n",
    "import squarify\n",
    "\n",
    "from IPython.core.interactiveshell import InteractiveShell\n",
    "InteractiveShell.ast_node_interactivity = \"all\""
   ]
  },
  {
   "cell_type": "code",
   "execution_count": 2,
   "id": "b685b5ba-9b49-4d51-a61c-5abf46a5b1b8",
   "metadata": {
    "execution": {
     "iopub.execute_input": "2024-05-05T09:23:14.180601Z",
     "iopub.status.busy": "2024-05-05T09:23:14.180138Z",
     "iopub.status.idle": "2024-05-05T09:23:14.248710Z",
     "shell.execute_reply": "2024-05-05T09:23:14.242748Z",
     "shell.execute_reply.started": "2024-05-05T09:23:14.180570Z"
    },
    "tags": []
   },
   "outputs": [],
   "source": [
    "sns.set_style('whitegrid')"
   ]
  },
  {
   "cell_type": "code",
   "execution_count": 3,
   "id": "78c45511-4a7c-4aaf-b256-c2ab6230f33a",
   "metadata": {
    "execution": {
     "iopub.execute_input": "2024-05-05T09:23:24.677195Z",
     "iopub.status.busy": "2024-05-05T09:23:24.676817Z",
     "iopub.status.idle": "2024-05-05T09:23:30.475517Z",
     "shell.execute_reply": "2024-05-05T09:23:30.474741Z",
     "shell.execute_reply.started": "2024-05-05T09:23:24.677165Z"
    },
    "tags": []
   },
   "outputs": [],
   "source": [
    "# original data\n",
    "path = '/Users/martina/Desktop/repos/GialloZafferano/Recipes/'  # path to recipes\n",
    "\n",
    "d_rec = {}\n",
    "for fn in os.listdir(path):\n",
    "    rec = json.load(open(path + fn, 'r'))\n",
    "    d_rec[fn.split('.')[0]] = {\n",
    "        'ingredients': rec['ingredients'],\n",
    "        'category': rec['category']\n",
    "    }"
   ]
  },
  {
   "cell_type": "code",
   "execution_count": 4,
   "id": "2844db23-2133-4e80-b9ce-e3890ce26843",
   "metadata": {
    "execution": {
     "iopub.execute_input": "2024-05-05T09:23:30.478057Z",
     "iopub.status.busy": "2024-05-05T09:23:30.477600Z",
     "iopub.status.idle": "2024-05-05T09:23:30.611463Z",
     "shell.execute_reply": "2024-05-05T09:23:30.603512Z",
     "shell.execute_reply.started": "2024-05-05T09:23:30.477999Z"
    },
    "tags": []
   },
   "outputs": [
    {
     "data": {
      "text/plain": [
       "6819"
      ]
     },
     "execution_count": 4,
     "metadata": {},
     "output_type": "execute_result"
    }
   ],
   "source": [
    "len(d_rec)"
   ]
  },
  {
   "cell_type": "code",
   "execution_count": 5,
   "id": "ddbc86cd-c908-4cf0-8535-827feb0e8959",
   "metadata": {
    "execution": {
     "iopub.execute_input": "2024-05-05T09:23:30.637182Z",
     "iopub.status.busy": "2024-05-05T09:23:30.633186Z",
     "iopub.status.idle": "2024-05-05T09:23:30.650211Z",
     "shell.execute_reply": "2024-05-05T09:23:30.647994Z",
     "shell.execute_reply.started": "2024-05-05T09:23:30.637061Z"
    },
    "tags": []
   },
   "outputs": [
    {
     "data": {
      "text/plain": [
       "{'ingredients': [['Pesce', '(solo lische di orata, branzino e merluzzo) 1 kg'],\n",
       "  ['Cipolle', '100 g'],\n",
       "  ['Sedano', '100 g'],\n",
       "  ['Carote', '100 g'],\n",
       "  ['Vino bianco', '150 g'],\n",
       "  ['Acqua', '1 l'],\n",
       "  ['Sale fino', 'q.b.'],\n",
       "  ['Pepe nero in grani', '5'],\n",
       "  [\"Olio extravergine d'oliva\", 'q.b.']],\n",
       " 'category': 'Unknown'}"
      ]
     },
     "execution_count": 5,
     "metadata": {},
     "output_type": "execute_result"
    }
   ],
   "source": [
    "d_rec['fumetto_di_pesce']"
   ]
  },
  {
   "cell_type": "code",
   "execution_count": 6,
   "id": "0e601201-9622-4bf0-8e53-478b6e05fe5b",
   "metadata": {
    "execution": {
     "iopub.execute_input": "2024-05-05T09:23:30.656145Z",
     "iopub.status.busy": "2024-05-05T09:23:30.655518Z",
     "iopub.status.idle": "2024-05-05T09:23:30.678928Z",
     "shell.execute_reply": "2024-05-05T09:23:30.677056Z",
     "shell.execute_reply.started": "2024-05-05T09:23:30.656094Z"
    },
    "tags": []
   },
   "outputs": [],
   "source": [
    "c = Counter([d_rec[k]['category'] for k in d_rec])"
   ]
  },
  {
   "cell_type": "code",
   "execution_count": 7,
   "id": "5184d5d5-9828-46c8-ba60-2e7820df6f90",
   "metadata": {
    "execution": {
     "iopub.execute_input": "2024-05-05T09:23:32.662380Z",
     "iopub.status.busy": "2024-05-05T09:23:32.661438Z",
     "iopub.status.idle": "2024-05-05T09:23:32.717016Z",
     "shell.execute_reply": "2024-05-05T09:23:32.707748Z",
     "shell.execute_reply.started": "2024-05-05T09:23:32.662325Z"
    },
    "tags": []
   },
   "outputs": [
    {
     "data": {
      "text/plain": [
       "[('Dolci', 1747),\n",
       " ('Primi piatti', 1422),\n",
       " ('Antipasti', 905),\n",
       " ('Secondi piatti', 864),\n",
       " (None, 700),\n",
       " ('Lievitati', 313),\n",
       " ('Piatti Unici', 300),\n",
       " ('Contorni', 169),\n",
       " ('Torte salate', 109),\n",
       " ('Salse e Sughi', 98),\n",
       " ('Bevande', 74),\n",
       " ('Marmellate e Conserve', 61),\n",
       " ('Insalate', 56),\n",
       " ('Unknown', 1)]"
      ]
     },
     "execution_count": 7,
     "metadata": {},
     "output_type": "execute_result"
    }
   ],
   "source": [
    "c.most_common()   # category counts"
   ]
  },
  {
   "cell_type": "code",
   "execution_count": 8,
   "id": "2e4182f4-2b4c-4f76-a47b-a599662a9c9b",
   "metadata": {
    "execution": {
     "iopub.execute_input": "2024-05-05T09:23:33.179275Z",
     "iopub.status.busy": "2024-05-05T09:23:33.178762Z",
     "iopub.status.idle": "2024-05-05T09:23:33.700959Z",
     "shell.execute_reply": "2024-05-05T09:23:33.698790Z",
     "shell.execute_reply.started": "2024-05-05T09:23:33.179234Z"
    },
    "tags": []
   },
   "outputs": [
    {
     "data": {
      "image/png": "[encoded data removed]",
      "text/plain": [
       "<Figure size 720x432 with 1 Axes>"
      ]
     },
     "metadata": {
      "needs_background": "light"
     },
     "output_type": "display_data"
    }
   ],
   "source": [
    "elements, counts = zip(*c.most_common())\n",
    "\n",
    "elements = tuple(item if item else 'None' for item in elements)\n",
    "\n",
    "df = pd.DataFrame({'Category': elements, 'Recipes': counts})\n",
    "\n",
    "# Create bar plot using Seaborn\n",
    "plt.figure(figsize=(10, 6));\n",
    "sns.barplot(x='Category', y='Recipes', data=df, color='royalblue');\n",
    "plt.xlabel('Elements');\n",
    "plt.ylabel('Counts');\n",
    "plt.title('Recipes by category in Giallo Zafferano');\n",
    "plt.xticks(rotation=45);\n",
    "plt.tight_layout();\n",
    "plt.show();\n",
    "#plt.savefig('cats.jpg', dpi=300)\n",
    "#plt.close()"
   ]
  },
  {
   "cell_type": "code",
   "execution_count": 9,
   "id": "9b1b26ad-7d49-4e31-9fd7-8c77c01412ec",
   "metadata": {
    "execution": {
     "iopub.execute_input": "2024-05-05T09:23:33.706692Z",
     "iopub.status.busy": "2024-05-05T09:23:33.706015Z",
     "iopub.status.idle": "2024-05-05T09:23:33.929205Z",
     "shell.execute_reply": "2024-05-05T09:23:33.926059Z",
     "shell.execute_reply.started": "2024-05-05T09:23:33.706641Z"
    },
    "tags": []
   },
   "outputs": [
    {
     "data": {
      "text/plain": [
       "1763"
      ]
     },
     "execution_count": 9,
     "metadata": {},
     "output_type": "execute_result"
    }
   ],
   "source": [
    "# all ingredients\n",
    "l_ingrs_all = [d_rec[k]['ingredients'] for k in d_rec]\n",
    "\n",
    "all_ingrs = []\n",
    "for item in l_ingrs_all:\n",
    "    for ingr in item:\n",
    "        all_ingrs.append(ingr[0].lower())\n",
    "\n",
    "len(set(all_ingrs))"
   ]
  },
  {
   "cell_type": "code",
   "execution_count": 10,
   "id": "5f3b1716-a5ef-4630-9bee-a7732ef8db1b",
   "metadata": {
    "execution": {
     "iopub.execute_input": "2024-05-05T09:23:34.219972Z",
     "iopub.status.busy": "2024-05-05T09:23:34.217528Z",
     "iopub.status.idle": "2024-05-05T09:23:34.231564Z",
     "shell.execute_reply": "2024-05-05T09:23:34.230447Z",
     "shell.execute_reply.started": "2024-05-05T09:23:34.219902Z"
    },
    "tags": []
   },
   "outputs": [
    {
     "data": {
      "text/plain": [
       "[\"tonno sott'olio\",\n",
       " 'orzo perlato',\n",
       " 'zafferano in pistilli',\n",
       " 'asparagi',\n",
       " \"olio extravergine d'oliva\",\n",
       " 'sale fino',\n",
       " 'feta',\n",
       " 'manzo',\n",
       " 'sale grosso',\n",
       " 'rosmarino']"
      ]
     },
     "execution_count": 10,
     "metadata": {},
     "output_type": "execute_result"
    }
   ],
   "source": [
    "all_ingrs[:10]"
   ]
  },
  {
   "cell_type": "code",
   "execution_count": 11,
   "id": "c1700966-e32d-4d78-9acb-42ed9db2380e",
   "metadata": {
    "execution": {
     "iopub.execute_input": "2024-05-05T09:23:34.718396Z",
     "iopub.status.busy": "2024-05-05T09:23:34.717457Z",
     "iopub.status.idle": "2024-05-05T09:23:34.902976Z",
     "shell.execute_reply": "2024-05-05T09:23:34.895747Z",
     "shell.execute_reply.started": "2024-05-05T09:23:34.718322Z"
    },
    "tags": []
   },
   "outputs": [],
   "source": [
    "# Primi piatti\n",
    "\n",
    "l_titles = [k for k in d_rec if d_rec[k]['category']=='Primi piatti']\n",
    "l_ingrs = [d_rec[k]['ingredients'] for k in d_rec \n",
    "           if d_rec[k]['category']=='Primi piatti'\n",
    "          ]\n",
    "\n",
    "all_ingrs = []\n",
    "for item in l_ingrs:\n",
    "    for ingr in item:\n",
    "        all_ingrs.append(ingr[0].lower())"
   ]
  },
  {
   "cell_type": "code",
   "execution_count": 12,
   "id": "97df9c22-c8ec-4e40-833f-54a704a03790",
   "metadata": {
    "execution": {
     "iopub.execute_input": "2024-05-05T09:23:35.163536Z",
     "iopub.status.busy": "2024-05-05T09:23:35.162989Z",
     "iopub.status.idle": "2024-05-05T09:23:35.179910Z",
     "shell.execute_reply": "2024-05-05T09:23:35.177783Z",
     "shell.execute_reply.started": "2024-05-05T09:23:35.163497Z"
    },
    "tags": []
   },
   "outputs": [
    {
     "data": {
      "text/plain": [
       "(16834, 857)"
      ]
     },
     "execution_count": 12,
     "metadata": {},
     "output_type": "execute_result"
    }
   ],
   "source": [
    "len(all_ingrs), len(set(all_ingrs))"
   ]
  },
  {
   "cell_type": "code",
   "execution_count": 13,
   "id": "61293f9d-0ead-461f-aa96-2df0d1a2c86f",
   "metadata": {
    "execution": {
     "iopub.execute_input": "2024-05-05T09:23:35.488069Z",
     "iopub.status.busy": "2024-05-05T09:23:35.487536Z",
     "iopub.status.idle": "2024-05-05T09:23:35.502307Z",
     "shell.execute_reply": "2024-05-05T09:23:35.499138Z",
     "shell.execute_reply.started": "2024-05-05T09:23:35.488028Z"
    },
    "tags": []
   },
   "outputs": [
    {
     "data": {
      "text/plain": [
       "{'ingredients': [['Farina 00', '300 g'],\n",
       "  ['Uova', '3'],\n",
       "  ['Salsiccia', '250 g'],\n",
       "  ['Castagne', '500 g'],\n",
       "  ['Salvia', 'q.b.'],\n",
       "  ['Grana Padano DOP', '50 g'],\n",
       "  ['Uova', '1'],\n",
       "  ['Burro', '50 g'],\n",
       "  ['Vino rosso', 'novello 500 g'],\n",
       "  ['Scalogno', '1'],\n",
       "  [\"Olio extravergine d'oliva\", '10 g']],\n",
       " 'category': 'Primi piatti'}"
      ]
     },
     "execution_count": 13,
     "metadata": {},
     "output_type": "execute_result"
    }
   ],
   "source": [
    "d_rec['ravioli_di_castagne_e_salsiccia']"
   ]
  },
  {
   "cell_type": "code",
   "execution_count": 14,
   "id": "9b7b8de3-1190-45aa-8907-b93f6dfeae99",
   "metadata": {
    "execution": {
     "iopub.execute_input": "2024-05-05T09:23:35.825261Z",
     "iopub.status.busy": "2024-05-05T09:23:35.823997Z",
     "iopub.status.idle": "2024-05-05T09:23:35.837997Z",
     "shell.execute_reply": "2024-05-05T09:23:35.835566Z",
     "shell.execute_reply.started": "2024-05-05T09:23:35.825218Z"
    },
    "tags": []
   },
   "outputs": [],
   "source": [
    "json.dump(list(set(all_ingrs)), open('ingrs_primipiatti.json', 'w'))"
   ]
  },
  {
   "cell_type": "code",
   "execution_count": 15,
   "id": "cdaeda92-47a1-4d25-9f5a-f41d912b7d5d",
   "metadata": {
    "execution": {
     "iopub.execute_input": "2024-05-05T09:23:36.323459Z",
     "iopub.status.busy": "2024-05-05T09:23:36.322218Z",
     "iopub.status.idle": "2024-05-05T09:23:36.348636Z",
     "shell.execute_reply": "2024-05-05T09:23:36.343946Z",
     "shell.execute_reply.started": "2024-05-05T09:23:36.323405Z"
    },
    "tags": []
   },
   "outputs": [],
   "source": [
    "c = Counter(all_ingrs)"
   ]
  },
  {
   "cell_type": "code",
   "execution_count": 16,
   "id": "c3ea52b6-6ebc-461c-8d80-62a72bc00dbf",
   "metadata": {
    "execution": {
     "iopub.execute_input": "2024-05-05T09:23:36.703680Z",
     "iopub.status.busy": "2024-05-05T09:23:36.702715Z",
     "iopub.status.idle": "2024-05-05T09:23:37.208570Z",
     "shell.execute_reply": "2024-05-05T09:23:37.188380Z",
     "shell.execute_reply.started": "2024-05-05T09:23:36.703603Z"
    },
    "tags": []
   },
   "outputs": [
    {
     "data": {
      "text/plain": [
       "[('sale fino', 1576),\n",
       " (\"olio extravergine d'oliva\", 1390),\n",
       " ('pepe nero', 1057),\n",
       " ('aglio', 646),\n",
       " ('burro', 418),\n",
       " ('farina 00', 340),\n",
       " ('acqua', 303),\n",
       " ('parmigiano reggiano dop', 293),\n",
       " ('uova', 282),\n",
       " ('basilico', 276),\n",
       " ('prezzemolo', 275),\n",
       " ('timo', 267),\n",
       " ('grana padano dop', 246),\n",
       " ('vino bianco', 241),\n",
       " ('carote', 237),\n",
       " ('brodo vegetale', 220),\n",
       " ('sedano', 191),\n",
       " ('scalogno', 175),\n",
       " ('noce moscata', 174),\n",
       " ('rosmarino', 172),\n",
       " ('latte intero', 168),\n",
       " ('peperoncino fresco', 152),\n",
       " ('patate', 136),\n",
       " ('pomodorini ciliegino', 134),\n",
       " ('riso carnaroli', 132),\n",
       " ('scorza di limone', 131),\n",
       " ('passata di pomodoro', 123),\n",
       " ('zucchine', 120),\n",
       " ('cipolle', 117),\n",
       " ('panna fresca liquida', 117),\n",
       " ('cipolle bianche', 109),\n",
       " ('porri', 105),\n",
       " ('salvia', 100),\n",
       " ('ricotta vaccina', 86),\n",
       " ('spaghetti', 83),\n",
       " ('salsiccia', 82),\n",
       " ('pinoli', 80),\n",
       " ('origano', 79),\n",
       " ('gamberi', 78),\n",
       " ('pisellini', 76),\n",
       " ('cipolle dorate', 75),\n",
       " ('alloro', 75),\n",
       " ('pecorino', 72),\n",
       " ('cipollotto fresco', 67),\n",
       " ('maggiorana', 66),\n",
       " ('erba cipollina', 64),\n",
       " ('menta', 58),\n",
       " ('cipolle rosse', 57),\n",
       " ('concentrato di pomodoro', 57),\n",
       " ('vino rosso', 56),\n",
       " ('melanzane', 55),\n",
       " ('spinaci', 52),\n",
       " ('asparagi', 51),\n",
       " ('cozze', 51),\n",
       " ('carciofi', 51),\n",
       " ('pangrattato', 49),\n",
       " ('peperoni rossi', 48),\n",
       " ('semola di grano duro rimacinata', 48),\n",
       " ('pomodorini datterini', 46),\n",
       " ('pecorino romano', 46),\n",
       " ('pancetta affumicata', 45),\n",
       " ('pomodori pelati', 45),\n",
       " ('tuorli', 45),\n",
       " ('speck', 44),\n",
       " (\"lasagne all'uovo\", 42),\n",
       " ('sale grosso', 42),\n",
       " (\"acciughe sott'olio\", 42),\n",
       " ('vino bianco secco', 42),\n",
       " ('pomodori ramati', 39),\n",
       " ('pepe nero in grani', 38),\n",
       " ('zucchero', 37),\n",
       " ('gorgonzola', 37),\n",
       " ('brodo di carne', 37),\n",
       " ('zafferano', 37),\n",
       " ('vongole', 36),\n",
       " ('salsa di soia', 36),\n",
       " ('zucca', 36),\n",
       " ('succo di limone', 33),\n",
       " ('zenzero fresco', 33),\n",
       " ('linguine', 33),\n",
       " ('peperoni gialli', 32),\n",
       " ('funghi porcini', 32),\n",
       " ('funghi champignon', 32),\n",
       " ('sale', 31),\n",
       " ('pane', 31),\n",
       " ('broccoli', 30),\n",
       " ('pepe bianco', 30),\n",
       " ('olive taggiasche', 30),\n",
       " ('prosciutto cotto', 29),\n",
       " ('paccheri', 29),\n",
       " ('mozzarella', 28),\n",
       " ('semola', 28),\n",
       " ('olive nere', 27),\n",
       " ('limoni', 27),\n",
       " ('rigatoni', 27),\n",
       " ('gherigli di noci', 26),\n",
       " ('radicchio', 26),\n",
       " ('taleggio', 26),\n",
       " ('scampi', 25),\n",
       " ('fusilli', 25),\n",
       " ('guanciale', 24),\n",
       " ('fagiolini', 24),\n",
       " ('riso', 24),\n",
       " ('ricotta salata', 23),\n",
       " ('penne rigate', 23),\n",
       " ('mandorle in scaglie', 23),\n",
       " ('calamari', 22),\n",
       " ('peperoncino secco', 22),\n",
       " ('rucola', 22),\n",
       " ('olio di semi di arachide', 22),\n",
       " ('manzo', 22),\n",
       " ('zucca delica', 21),\n",
       " ('capperi sotto sale', 21),\n",
       " ('finocchietto selvatico', 21),\n",
       " ('verza', 21),\n",
       " (\"tonno sott'olio\", 20),\n",
       " (\"tagliatelle all'uovo\", 20),\n",
       " ('fiori di zucca', 20),\n",
       " ('patate rosse', 20),\n",
       " ('olio di semi', 20),\n",
       " ('pane raffermo', 20),\n",
       " ('pancetta (tesa)', 19),\n",
       " ('cavolo nero', 19),\n",
       " ('mezze maniche rigate', 19),\n",
       " (\"pomodori secchi sott'olio\", 19),\n",
       " ('acciughe (alici)', 19),\n",
       " ('robiola', 18),\n",
       " ('burrata', 18),\n",
       " ('ceci precotti', 18),\n",
       " ('mandorle pelate', 18),\n",
       " ('brandy', 18),\n",
       " ('aceto di vino bianco', 18),\n",
       " ('polpo', 18),\n",
       " ('caciocavallo', 18),\n",
       " ('fave', 17),\n",
       " ('stracciatella', 17),\n",
       " ('cavolfiore', 17),\n",
       " ('casarecce', 16),\n",
       " ('spaghetti integrali', 16),\n",
       " ('seppie', 16),\n",
       " ('mazzancolle', 15),\n",
       " ('ceci secchi', 15),\n",
       " ('mandorle', 15),\n",
       " ('paprika dolce', 15),\n",
       " ('orzo perlato', 14),\n",
       " ('feta', 14),\n",
       " ('pane casereccio', 14),\n",
       " ('riso basmati', 14),\n",
       " ('salmone affumicato', 14),\n",
       " ('riso vialone nano', 14),\n",
       " ('fontina', 14),\n",
       " ('barbabietole precotte', 14),\n",
       " ('zafferano in pistilli', 13),\n",
       " ('petto di pollo', 13),\n",
       " ('peperoncino', 13),\n",
       " ('fregola', 13),\n",
       " ('prosciutto crudo', 13),\n",
       " ('maiale', 13),\n",
       " ('zucchero di canna', 13),\n",
       " ('sedanini rigati', 13),\n",
       " ('cipollotti', 13),\n",
       " ('nocciole', 13),\n",
       " ('pomodori', 13),\n",
       " ('provola', 12),\n",
       " ('scorza di lime', 12),\n",
       " ('olio di oliva', 12),\n",
       " ('carne bovina', 12),\n",
       " ('curcuma in polvere', 12),\n",
       " ('pancetta', 12),\n",
       " ('scamorza (provola)', 12),\n",
       " ('succo di lime', 12),\n",
       " ('cipolle rosse di tropea', 12),\n",
       " ('pesce spada', 12),\n",
       " ('farfalle', 12),\n",
       " ('aneto', 12),\n",
       " ('riso arborio', 12),\n",
       " ('peperoncino in polvere', 12),\n",
       " ('spinacini', 12),\n",
       " ('riso integrale', 11),\n",
       " ('bucatini', 11),\n",
       " ('bacche di ginepro', 11),\n",
       " ('tortiglioni', 11),\n",
       " ('stracchino', 11),\n",
       " ('filetto di salmone', 11),\n",
       " ('caprino', 11),\n",
       " ('nocciole intere spellate', 11),\n",
       " ('mortadella', 11),\n",
       " ('polpa di pomodoro', 11),\n",
       " ('lenticchie secche', 10),\n",
       " ('cipolle ramate', 10),\n",
       " ('ricotta di pecora', 10),\n",
       " ('castagne', 10),\n",
       " ('pepe rosa', 10),\n",
       " ('latte', 10),\n",
       " ('scarola', 10),\n",
       " ('pepe rosa in grani', 10),\n",
       " ('cous cous', 10),\n",
       " ('primosale', 9),\n",
       " ('lardo', 9),\n",
       " ('fagioli borlotti secchi', 9),\n",
       " ('finocchi', 9),\n",
       " ('gnocchetti sardi', 9),\n",
       " ('piselli surgelati', 9),\n",
       " ('lime', 9),\n",
       " ('taccole', 9),\n",
       " ('bottarga di muggine', 9),\n",
       " (\"lasagne sottili all'uovo\", 9),\n",
       " ('pancetta dolce', 9),\n",
       " ('mascarpone', 9),\n",
       " (\"pappardelle all'uovo\", 9),\n",
       " ('coda di rospo', 9),\n",
       " ('trofie', 9),\n",
       " ('cannella in polvere', 9),\n",
       " ('fagioli cannellini secchi', 9),\n",
       " ('fusilli bucati corti', 8),\n",
       " ('spaghettoni', 8),\n",
       " ('tranci di salmone', 8),\n",
       " ('pepe', 8),\n",
       " ('cime di rapa', 8),\n",
       " ('ziti', 8),\n",
       " ('pomodorini gialli', 8),\n",
       " ('pecorino sardo', 8),\n",
       " ('scamorza affumicata', 8),\n",
       " (\"fettuccine all'uovo\", 8),\n",
       " ('avocado', 8),\n",
       " ('ditaloni rigati', 8),\n",
       " ('bietole', 8),\n",
       " ('provolone', 8),\n",
       " ('fusilli integrali', 8),\n",
       " ('nero di seppia', 8),\n",
       " ('fiordilatte', 8),\n",
       " ('semi di finocchio', 8),\n",
       " ('semi di zucca', 8),\n",
       " ('spaghetti senza glutine', 8),\n",
       " ('vitello', 8),\n",
       " ('chiodi di garofano', 8),\n",
       " ('pennette rigate', 8),\n",
       " ('olio di sesamo', 7),\n",
       " ('pennette rigate 5 cereali', 7),\n",
       " ('pomodori di pachino', 7),\n",
       " ('penne rigate senza glutine', 7),\n",
       " ('pistacchi', 7),\n",
       " (\"spaghetti alla chitarra all'uovo\", 7),\n",
       " ('amaretti', 7),\n",
       " ('fasolari', 7),\n",
       " ('olive verdi', 7),\n",
       " ('riso nero venere', 7),\n",
       " ('gamberoni', 7),\n",
       " ('emmentaler', 7),\n",
       " ('strozzapreti', 7),\n",
       " ('asiago', 7),\n",
       " ('cipollotti rossi', 7),\n",
       " ('fagioli borlotti', 7),\n",
       " ('pistacchi non salati', 7),\n",
       " ('pipe rigate', 7),\n",
       " ('gamberetti', 7),\n",
       " ('panna acida', 7),\n",
       " ('funghi finferli (gallinacci)', 7),\n",
       " ('zucca mantovana', 7),\n",
       " ('farina 0', 7),\n",
       " ('mozzarella di bufala', 7),\n",
       " ('cannella in stecche', 7),\n",
       " ('cognac', 6),\n",
       " ('vermicelli', 6),\n",
       " ('pollo', 6),\n",
       " ('ortiche', 6),\n",
       " ('pomodori piccadilly', 6),\n",
       " ('semi di sesamo', 6),\n",
       " ('salmone', 6),\n",
       " ('farina di grano saraceno', 6),\n",
       " ('ditalini', 6),\n",
       " ('fagioli cannellini precotti', 6),\n",
       " ('melagrana', 6),\n",
       " ('fumetto di crostacei', 6),\n",
       " ('groviera', 6),\n",
       " ('nduja', 6),\n",
       " ('tonno', 6),\n",
       " (\"tagliolini all'uovo\", 6),\n",
       " ('brodo di pollo', 6),\n",
       " ('valtellina casera', 6),\n",
       " ('vongole veraci', 6),\n",
       " ('cavolo cappuccio', 6),\n",
       " ('lemongrass', 6),\n",
       " ('broccoli romaneschi', 6),\n",
       " ('cavatelli', 6),\n",
       " ('spaghetti quadrati', 6),\n",
       " ('orecchiette', 6),\n",
       " ('zucchine baby', 6),\n",
       " ('reginette', 6),\n",
       " ('fusilli senza glutine', 6),\n",
       " ('arance', 6),\n",
       " ('fusilloni', 6),\n",
       " ('branzino (spigola)', 6),\n",
       " ('erbette', 6),\n",
       " ('farina integrale', 6),\n",
       " ('uvetta', 6),\n",
       " ('olio di semi di girasole', 6),\n",
       " (\"garganelli all'uovo\", 6),\n",
       " ('scialatielli', 5),\n",
       " ('quinoa', 5),\n",
       " ('pomodori sardi (camone)', 5),\n",
       " ('triplo concentrato di pomodoro', 5),\n",
       " ('carne di suino', 5),\n",
       " ('farro perlato', 5),\n",
       " ('spaghetti 5 cereali', 5),\n",
       " (\"scorza d'arancia\", 5),\n",
       " ('brodo di pesce', 5),\n",
       " ('mezze penne rigate integrali', 5),\n",
       " ('mezze penne rigate', 5),\n",
       " ('noci', 5),\n",
       " ('anacardi', 5),\n",
       " ('funghi portobello', 5),\n",
       " ('casarecce di ceci', 5),\n",
       " ('granella di pistacchi', 5),\n",
       " ('fumetto di pesce', 5),\n",
       " ('macinato di manzo', 5),\n",
       " ('fusilli 5 cereali', 5),\n",
       " ('luganega', 5),\n",
       " ('funghi secchi', 5),\n",
       " ('canocchie', 5),\n",
       " ('curry', 5),\n",
       " ('noodles', 5),\n",
       " ('germogli di soia', 5),\n",
       " ('pomodori pizzutelli', 5),\n",
       " ('farina di riso', 5),\n",
       " ('frutti di cappero ', 5),\n",
       " ('pancarrè', 5),\n",
       " ('yogurt greco', 5),\n",
       " ('scorfano', 5),\n",
       " ('ghiaccio', 5),\n",
       " ('barba di frate (agretti)', 5),\n",
       " ('pomodorini in scatola', 5),\n",
       " ('semolino', 5),\n",
       " ('lenticchie', 5),\n",
       " ('vino di riso', 5),\n",
       " ('pasta mista', 5),\n",
       " ('biancostato di manzo', 5),\n",
       " ('zucchine bianche', 4),\n",
       " ('ravanelli', 4),\n",
       " ('calamarata', 4),\n",
       " (\"paglia e fieno all'uovo\", 4),\n",
       " ('tubetti', 4),\n",
       " (\"cannelloni all'uovo\", 4),\n",
       " ('fagiolini piattoni', 4),\n",
       " ('semi di sesamo nero', 4),\n",
       " ('vino rosato', 4),\n",
       " ('mozzarelline ciliegine', 4),\n",
       " ('cotenna di suino', 4),\n",
       " ('costine di maiale', 4),\n",
       " ('miele millefiori', 4),\n",
       " ('ricotta', 4),\n",
       " ('bulgur', 4),\n",
       " ('brodo', 4),\n",
       " ('miele', 4),\n",
       " ('uva passa', 4),\n",
       " ('caciocavallo silano', 4),\n",
       " ('fiori eduli', 4),\n",
       " ('cavoletti di bruxelles', 4),\n",
       " ('gallinella', 4),\n",
       " ('triglie', 4),\n",
       " ('ricotta di bufala', 4),\n",
       " ('pennette rigate integrali', 4),\n",
       " ('funghi chiodini', 4),\n",
       " ('gnocchi di patate', 4),\n",
       " ('cellentani', 4),\n",
       " ('conchiglioni', 4),\n",
       " ('orzo', 4),\n",
       " ('seppioline', 4),\n",
       " ('funghi orecchioni o ostrica (pleurotus)', 4),\n",
       " ('pasta', 4),\n",
       " ('lonza di maiale', 4),\n",
       " ('bottarga di tonno', 4),\n",
       " ('baccalà dissalato', 4),\n",
       " ('sedani rigati', 4),\n",
       " ('zucca napoletana', 4),\n",
       " ('erbe aromatiche', 4),\n",
       " ('toma piemontese', 4),\n",
       " ('pomodorini', 4),\n",
       " ('mele fuji', 4),\n",
       " ('brie', 4),\n",
       " ('pomodori secchi', 4),\n",
       " ('olive nere greche', 3),\n",
       " ('spaghettini', 3),\n",
       " ('farfalle integrali', 3),\n",
       " ('tilsit', 3),\n",
       " ('tacchino', 3),\n",
       " ('paprika', 3),\n",
       " ('cetrioli', 3),\n",
       " (\"succo d'arancia\", 3),\n",
       " ('rana pescatrice', 3),\n",
       " ('cavoli rossi', 3),\n",
       " ('pomodori datterini pelati', 3),\n",
       " ('salame', 3),\n",
       " ('champagne', 3),\n",
       " ('filetti di tonno', 3),\n",
       " ('penne rigate bio', 3),\n",
       " ('peperoni', 3),\n",
       " ('paprika affumicata', 3),\n",
       " ('olio di semi di mais', 3),\n",
       " ('cicoria', 3),\n",
       " ('melone', 3),\n",
       " ('penne di lenticchie rosse', 3),\n",
       " ('sedano rapa', 3),\n",
       " ('mini penne rigate', 3),\n",
       " ('fagioli borlotti precotti', 3),\n",
       " ('panini ai cereali', 3),\n",
       " ('farina di farro integrale', 3),\n",
       " ('patate dolci (o americane)', 3),\n",
       " ('spaghetti rigati', 3),\n",
       " ('birra rossa', 3),\n",
       " ('fettuccine 5 cereali e uova', 3),\n",
       " ('pane integrale', 3),\n",
       " ('zucca violina', 3),\n",
       " ('aglio rosso', 3),\n",
       " ('chicchi di farina di legumi (lenticchie rosse, ceci e piselli)', 3),\n",
       " ('aceto balsamico', 3),\n",
       " ('anice stellato', 3),\n",
       " ('coriandolo', 3),\n",
       " ('tofu', 3),\n",
       " ('orata', 3),\n",
       " ('senape', 3),\n",
       " ('pere decana', 3),\n",
       " ('capesante', 3),\n",
       " ('paprika piccante', 3),\n",
       " ('monte veronese', 3),\n",
       " ('riso rosso', 3),\n",
       " ('lumaconi', 3),\n",
       " ('sarde', 3),\n",
       " ('pane toscano', 3),\n",
       " ('mirtilli', 3),\n",
       " ('moscardini', 3),\n",
       " ('crostini di pane', 3),\n",
       " ('fecola di patate', 3),\n",
       " ('coniglio', 3),\n",
       " ('pecorino toscano', 3),\n",
       " ('cotechino precotto', 3),\n",
       " ('tortiglioni integrali', 3),\n",
       " ('peperoni verdi', 3),\n",
       " ('patate viola', 3),\n",
       " ('castagne precotte', 3),\n",
       " ('raspadura', 3),\n",
       " ('formaggio fresco spalmabile', 3),\n",
       " ('merluzzo', 3),\n",
       " ('ginepro', 3),\n",
       " ('ricci di mare', 3),\n",
       " ('spaghetti di soia', 3),\n",
       " ('aceto di mele', 3),\n",
       " ('ditalini senza glutine', 3),\n",
       " ('cardi', 3),\n",
       " ('alga kombu', 3),\n",
       " ('caciottina', 3),\n",
       " ('lenticchie rosse decorticate', 3),\n",
       " ('farro', 3),\n",
       " ('pomodori san marzano', 3),\n",
       " ('birra chiara', 3),\n",
       " ('yogurt bianco naturale', 3),\n",
       " ('birra scura', 3),\n",
       " ('pesce persico', 3),\n",
       " ('pepe bianco in grani', 3),\n",
       " ('tabasco®', 3),\n",
       " ('pancetta arrotolata', 3),\n",
       " ('sgombro', 3),\n",
       " ('seitan', 3),\n",
       " ('melanzane tonde', 3),\n",
       " ('mini pipe rigate', 2),\n",
       " ('cappone', 2),\n",
       " ('pomodorini secchi sottolio', 2),\n",
       " ('pak choi', 2),\n",
       " ('pasta fresca', 2),\n",
       " ('rum', 2),\n",
       " ('pistacchi tostati', 2),\n",
       " ('barbabietole', 2),\n",
       " ('semi di papavero', 2),\n",
       " (\"tagliatelle larghe all'uovo\", 2),\n",
       " ('aceto di riso', 2),\n",
       " ('miso', 2),\n",
       " ('pepe in grani', 2),\n",
       " ('tartufo nero', 2),\n",
       " ('sbrinz', 2),\n",
       " ('riso ribe', 2),\n",
       " ('coriandolo in polvere', 2),\n",
       " ('puntarelle', 2),\n",
       " ('olive di gaeta', 2),\n",
       " ('fegato di pollo', 2),\n",
       " ('cavolo rosso', 2),\n",
       " ('farina', 2),\n",
       " ('agnello', 2),\n",
       " ('vino', 2),\n",
       " ('fagioli rossi precotti', 2),\n",
       " ('anelli siciliani', 2),\n",
       " ('biete', 2),\n",
       " ('funghi pioppini', 2),\n",
       " (\"lasagne verdi all'uovo\", 2),\n",
       " ('farina di castagne', 2),\n",
       " ('culatello', 2),\n",
       " ('crescenza', 2),\n",
       " ('lattuga', 2),\n",
       " (\"torchietti all'uovo\", 2),\n",
       " ('porto', 2),\n",
       " ('controfiletto di manzo', 2),\n",
       " ('semi di coriandolo', 2),\n",
       " ('zucchero a velo', 2),\n",
       " ('pennoni', 2),\n",
       " ('sogliola', 2),\n",
       " ('pesto alla genovese', 2),\n",
       " ('fragole', 2),\n",
       " ('cannolicchi', 2),\n",
       " ('formaggio', 2),\n",
       " ('funghi prataioli', 2),\n",
       " ('cardamomo', 2),\n",
       " ('farina di grano duro', 2),\n",
       " ('orecchiette fresche', 2),\n",
       " ('fagioli bianchi precotti', 2),\n",
       " ('edamame', 2),\n",
       " ('mais', 2),\n",
       " ('castelmagno', 2),\n",
       " ('pomodori perini', 2),\n",
       " ('riso roma', 2),\n",
       " ('spumante', 2),\n",
       " ('cicerchie secche', 2),\n",
       " ('friggitelli', 2),\n",
       " ('sugo di pomodoro', 2),\n",
       " ('albumi', 2),\n",
       " ('troccoli freschi', 2),\n",
       " ('arachidi', 2),\n",
       " ('mostarda mantovana', 2),\n",
       " ('farina di farro', 2),\n",
       " ('pasta di salame', 2),\n",
       " ('pesce di mare', 2),\n",
       " ('nasello', 2),\n",
       " ('cumino', 2),\n",
       " ('risotto allo zafferano', 2),\n",
       " ('astice', 2),\n",
       " ('zucchine tonde', 2),\n",
       " ('midollo', 2),\n",
       " ('quartirolo lombardo', 2),\n",
       " ('formaggio stelvio', 2),\n",
       " ('semi di cumino', 2),\n",
       " ('fusilli di lenticchie rosse', 2),\n",
       " ('farina di mais', 2),\n",
       " ('amido di mais (maizena)', 2),\n",
       " ('cotechino', 2),\n",
       " ('filetto di merluzzo', 2),\n",
       " ('toma', 2),\n",
       " ('vodka', 2),\n",
       " ('ditaloni', 2),\n",
       " ('risoni', 2),\n",
       " (\"capperi sott'aceto\", 2),\n",
       " ('mini ruote', 2),\n",
       " ('acciughe sotto sale', 2),\n",
       " ('mix di cereali', 2),\n",
       " ('montasio', 2),\n",
       " ('pere abate', 2),\n",
       " ('colatura di alici', 2),\n",
       " ('pecorino di fossa', 2),\n",
       " ('amaro', 2),\n",
       " ('tonno al naturale', 2),\n",
       " ('pennoni rigati', 2),\n",
       " ('tartufi neri', 2),\n",
       " ('sake', 2),\n",
       " ('mirin', 2),\n",
       " ('topinambur', 2),\n",
       " ('germogli di barbabietola', 2),\n",
       " ('cinghiale', 2),\n",
       " ('provolone piccante', 2),\n",
       " ('asparagi bianchi', 2),\n",
       " ('trota salmonata', 2),\n",
       " ('bigoli', 2),\n",
       " ('piselli secchi', 2),\n",
       " ('cotechino modena precotto', 2),\n",
       " ('ricotta di capra', 2),\n",
       " ('acqua gassata', 2),\n",
       " (\"fagioli dall'occhio secchi\", 2),\n",
       " ('lattuga romana', 2),\n",
       " ('formaggio di montagna', 2),\n",
       " ('fontal', 2),\n",
       " ('baguette', 2),\n",
       " ('troccoli', 2),\n",
       " ('pepe di sichuan', 2),\n",
       " ('granchio', 2),\n",
       " ('farina di ceci', 2),\n",
       " ('braciole di maiale', 2),\n",
       " ('chiodi di garofano macinati', 2),\n",
       " ('spaghetti di riso', 2),\n",
       " ('mentuccia', 2),\n",
       " (\"capperi sott'olio\", 2),\n",
       " (\"cosciotto d'agnello\", 2),\n",
       " ('fragoline di bosco', 2),\n",
       " ('pasta di curry', 1),\n",
       " ('pane nero ai cereali', 1),\n",
       " ('zucchine trombetta', 1),\n",
       " ('riso di semola', 1),\n",
       " ('rose', 1),\n",
       " ('zucca gialla', 1),\n",
       " ('yogurt greco 2% di grassi', 1),\n",
       " ('pere', 1),\n",
       " ('roquefort', 1),\n",
       " ('patate bianche', 1),\n",
       " ('pici', 1),\n",
       " ('lievito alimentare', 1),\n",
       " ('uva bianca', 1),\n",
       " ('mini farfalle', 1),\n",
       " (\"petto d'anatra\", 1),\n",
       " ('uova sode', 1),\n",
       " ('riso per sushi', 1),\n",
       " ('mele granny smith', 1),\n",
       " ('legumi misti', 1),\n",
       " ('freselle', 1),\n",
       " ('cavolfiori romaneschi', 1),\n",
       " ('vermicelli di riso', 1),\n",
       " ('salsa sriracha', 1),\n",
       " ('salsa teriyaki', 1),\n",
       " ('uova di lompo (succedaneo caviale)', 1),\n",
       " ('spaghetti bio', 1),\n",
       " ('barolo', 1),\n",
       " ('pepe nero&curcuma', 1),\n",
       " ('brigante', 1),\n",
       " ('cocomero (anguria)', 1),\n",
       " ('tagliatelle', 1),\n",
       " ('fettuccine', 1),\n",
       " ('macinato di maiale', 1),\n",
       " ('olio di cocco', 1),\n",
       " ('cocco rapè', 1),\n",
       " ('pimento', 1),\n",
       " ('lorighittas', 1),\n",
       " ('birra analcolica', 1),\n",
       " ('trenette', 1),\n",
       " ('farina di mais per polenta istantanea', 1),\n",
       " ('busto di pollo', 1),\n",
       " ('lasagne', 1),\n",
       " ('pomodori cuore di bue', 1),\n",
       " ('pancetta fresca', 1),\n",
       " ('pastinaca', 1),\n",
       " ('pistacchi tostati salati', 1),\n",
       " ('mezzi canneroni', 1),\n",
       " ('maccheroncini al pettine', 1),\n",
       " ('pere kaiser', 1),\n",
       " ('cacao amaro in polvere', 1),\n",
       " ('salsa alle noci', 1),\n",
       " ('yogurt', 1),\n",
       " ('cipolle borettane', 1),\n",
       " ('frutti di bosco', 1),\n",
       " ('susine', 1),\n",
       " ('daikon', 1),\n",
       " ('alga wakame', 1),\n",
       " ('provola affumicata', 1),\n",
       " ('faraona', 1),\n",
       " ('casizolu', 1),\n",
       " ('uva fragola', 1),\n",
       " ('pannerone', 1),\n",
       " ('pere williams', 1),\n",
       " (\"peperoni sott'olio\", 1),\n",
       " ('aceto di vino rosso', 1),\n",
       " ('melanzane ovali nere', 1),\n",
       " ('tortellini', 1),\n",
       " ('carote baby', 1),\n",
       " ('noci pecan', 1),\n",
       " ('lardo di colonnata', 1),\n",
       " ('mini fusilli', 1),\n",
       " ('ricotta mista', 1),\n",
       " ('panettone', 1),\n",
       " ('asparagi di mare', 1),\n",
       " ('fettine di manzo', 1),\n",
       " ('farina di grano tenero', 1),\n",
       " ('formaggio fiscidu', 1),\n",
       " ('menta essiccata', 1),\n",
       " ('fave secche', 1),\n",
       " ('fagioli rossi secchi', 1),\n",
       " ('ricotta affumicata', 1),\n",
       " ('chicchi di farina di legumi (lenticchie rosse e piselli)', 1),\n",
       " ('bonarda', 1),\n",
       " ('zenzero in polvere', 1),\n",
       " ('zucca butternut', 1),\n",
       " ('macinato di coniglio', 1),\n",
       " ('cosce di coniglio', 1),\n",
       " ('mix di cereali e quinoa', 1),\n",
       " ('pepe di cubebe', 1),\n",
       " ('farina istantanea per polenta', 1),\n",
       " ('fegatini di pollo', 1),\n",
       " ('granchio blu', 1),\n",
       " ('pesche', 1),\n",
       " ('piselli precotti', 1),\n",
       " ('farina di kamut®', 1),\n",
       " ('bitto', 1),\n",
       " ('marsala', 1),\n",
       " ('cedro candito', 1),\n",
       " ('mostaccino', 1),\n",
       " ('mentine', 1),\n",
       " ('trippa di bovino', 1),\n",
       " ('semi di lino', 1),\n",
       " ('semi di girasole', 1),\n",
       " ('germogli di crescione', 1),\n",
       " ('fave surgelate', 1),\n",
       " ('farina di grano arso', 1),\n",
       " ('coregone', 1),\n",
       " ('ragusano dop', 1),\n",
       " ('stelline senza glutine', 1),\n",
       " ('verdure miste', 1),\n",
       " ('dentice', 1),\n",
       " ('aglio nero', 1),\n",
       " ('riso originario', 1),\n",
       " ('cetriolini sottaceto', 1),\n",
       " ('carote viola', 1),\n",
       " ('cerfoglio', 1),\n",
       " ('dragoncello', 1),\n",
       " ('linguine senza glutine', 1),\n",
       " ('fichi', 1),\n",
       " ('tomini', 1),\n",
       " ('caciotta romana', 1),\n",
       " ('salsa di pomodoro', 1),\n",
       " ('prosecco', 1),\n",
       " ('capriolo', 1),\n",
       " ('edamer', 1),\n",
       " ('liquirizia in polvere', 1),\n",
       " ('tahina', 1),\n",
       " ('uva passolina', 1),\n",
       " ('tartufi di mare', 1),\n",
       " ('chicchi di farina di legumi (lenticchie rosse e ceci)', 1),\n",
       " ('tête de moine', 1),\n",
       " ('maccheroncini', 1),\n",
       " ('tortelloni', 1),\n",
       " ('songino', 1),\n",
       " ('lamponi', 1),\n",
       " ('fiocchi di latte', 1),\n",
       " ('rape', 1),\n",
       " ('ribes', 1),\n",
       " ('latte senza lattosio', 1),\n",
       " ('zampone', 1),\n",
       " ('formaggio di fossa', 1),\n",
       " ('pepe verde', 1),\n",
       " ('totani', 1),\n",
       " ('spaghettini integrali', 1),\n",
       " ('pasta sfoglia', 1),\n",
       " ('fegato di vitello', 1),\n",
       " ('pancia di maiale', 1),\n",
       " ('niboshi', 1),\n",
       " ('katsuobushi', 1),\n",
       " ('tamari', 1),\n",
       " ('strutto', 1),\n",
       " ('alga nori', 1),\n",
       " ('cioccolato fondente', 1),\n",
       " ('carciofi mammole', 1),\n",
       " ('conchiglie', 1),\n",
       " ('trota', 1),\n",
       " ('platessa', 1),\n",
       " ('arachidi salate tostate', 1),\n",
       " ('grano', 1),\n",
       " ('sardine', 1),\n",
       " ('caviale', 1),\n",
       " ('cumino in polvere', 1),\n",
       " ('mele golden', 1),\n",
       " ('borragine', 1),\n",
       " ('pane integrale multi-cereali', 1),\n",
       " ('tagliatelle 5 cereali e uova', 1),\n",
       " ('pajata', 1),\n",
       " ('tagliata di petto di pollo', 1),\n",
       " ('zucchine gialle', 1),\n",
       " ('dashi', 1),\n",
       " ('mango', 1),\n",
       " ('ananas', 1),\n",
       " ('birra blanche', 1),\n",
       " ('aglio fresco', 1),\n",
       " ('gruyère dop', 1),\n",
       " ('spianata calabrese', 1),\n",
       " ('bicarbonato', 1),\n",
       " ('salamella mantovana', 1),\n",
       " ('capperi', 1),\n",
       " ('peperoncino dolce', 1),\n",
       " ('peperoncino verde dolce', 1),\n",
       " ('fondo bruno', 1),\n",
       " ('raschera dop', 1),\n",
       " ('besciamella', 1),\n",
       " ('pepe misto in grani', 1),\n",
       " ('indivia belga', 1),\n",
       " ('olive', 1),\n",
       " ('burro acido', 1),\n",
       " ('scorza di pompelmo', 1),\n",
       " ('patate novelle', 1),\n",
       " ('glassa di aceto balsamico', 1),\n",
       " ('tagliatelle senza glutine', 1),\n",
       " ('langres', 1),\n",
       " ('boursault', 1),\n",
       " ('camembert', 1),\n",
       " ('broccoletti', 1),\n",
       " ('ciliegie', 1),\n",
       " ('nocciole intere', 1),\n",
       " ('frattaglie di pollo', 1),\n",
       " ('cavatappi', 1),\n",
       " ('emmentaler dop', 1),\n",
       " ('funghi', 1),\n",
       " ('asparagi selvatici', 1),\n",
       " ('quaglia', 1),\n",
       " ('latte di soia', 1),\n",
       " ('lasagne ricce', 1),\n",
       " ('tortiglioni senza glutine', 1),\n",
       " ('farina di mais bramata', 1),\n",
       " ('pannocchie precotte', 1),\n",
       " ('peperoncino verde piccante', 1),\n",
       " ('tartufo bianco', 1),\n",
       " ('fagioli cannellini', 1),\n",
       " ('fichi viola', 1),\n",
       " ('capellini', 1),\n",
       " ('fagioli', 1),\n",
       " ('cavolo riccio (kale)', 1),\n",
       " ('casolet', 1),\n",
       " ('filoncini di pane', 1),\n",
       " ('cointreau', 1),\n",
       " ('lievito di birra secco', 1),\n",
       " ('panna fresca senza lattosio', 1),\n",
       " (\"pappardelle ricce all'uovo\", 1),\n",
       " ('cinta senese', 1),\n",
       " ('latte di riso', 1),\n",
       " ('margarina vegetale', 1),\n",
       " ('filini', 1),\n",
       " ('sbrinz dop', 1),\n",
       " ('costolette di agnello', 1),\n",
       " ('gnocchetti di patate', 1),\n",
       " ('fagioli di spagna', 1),\n",
       " ('latte di cocco', 1),\n",
       " ('gnocchi di riso', 1),\n",
       " ('radiatori', 1),\n",
       " ('pennoni lisci', 1),\n",
       " ('mele red delicious', 1),\n",
       " ('polipetti', 1),\n",
       " ('peperoncini piccanti', 1),\n",
       " ('lepre', 1),\n",
       " ('pimenton', 1),\n",
       " ('filetto di baccalà', 1),\n",
       " ('pane di segale', 1),\n",
       " ('uva sultanina', 1),\n",
       " ('prescinseua', 1),\n",
       " ('curcuma fresca', 1),\n",
       " ('bottarga', 1),\n",
       " ('alga spirulina', 1),\n",
       " ('mini tortiglioni', 1),\n",
       " ('salamella', 1),\n",
       " ('uva rossa', 1),\n",
       " ('pomodori costoluti', 1),\n",
       " ('funghi misti', 1),\n",
       " ('fagioli neri secchi', 1),\n",
       " ('tortilla chips', 1),\n",
       " ('caccavelle', 1),\n",
       " ('taralli', 1),\n",
       " ('malto di riso', 1),\n",
       " ('cappello del prete', 1),\n",
       " ('cervella di vitello', 1),\n",
       " ('mele evelina', 1),\n",
       " ('filetti di platessa', 1),\n",
       " (\"farfalline all'uovo\", 1),\n",
       " ('pane pugliese', 1),\n",
       " ('rombo', 1),\n",
       " ('birra', 1),\n",
       " ('penne lisce', 1),\n",
       " ('cachi mela', 1),\n",
       " ('sedano bianco', 1),\n",
       " ('miele di castagno', 1),\n",
       " ('busiate', 1)]"
      ]
     },
     "execution_count": 16,
     "metadata": {},
     "output_type": "execute_result"
    }
   ],
   "source": [
    "c.most_common()"
   ]
  },
  {
   "cell_type": "code",
   "execution_count": 17,
   "id": "295242f2-0049-42f5-b13a-6d6aebe64b4a",
   "metadata": {
    "execution": {
     "iopub.execute_input": "2024-05-05T09:23:38.073165Z",
     "iopub.status.busy": "2024-05-05T09:23:38.072292Z",
     "iopub.status.idle": "2024-05-05T09:23:38.155120Z",
     "shell.execute_reply": "2024-05-05T09:23:38.133141Z",
     "shell.execute_reply.started": "2024-05-05T09:23:38.073101Z"
    },
    "tags": []
   },
   "outputs": [],
   "source": [
    "# ingredienti primi piatti per categoria\n",
    "\n",
    "l_pasta = json.load(open('ingredienti_primipiatti/pasta.json'))\n",
    "l_riso = json.load(open('ingredienti_primipiatti/riso.json'))\n",
    "l_gnocchi = json.load(open('ingredienti_primipiatti/gnocchi.json'))\n",
    "d_farine = json.load(open('ingredienti_primipiatti/farine_cereali_pane.json'))\n",
    "\n",
    "l_formaggi = json.load(open('ingredienti_primipiatti/formaggi.json'))\n",
    "\n",
    "l_erbe = json.load(open('ingredienti_primipiatti/erbe_aromatiche.json'))\n",
    "l_spezie = json.load(open('ingredienti_primipiatti/spezie.json'))\n",
    "\n",
    "d_verdure = json.load(open('ingredienti_primipiatti/verdure_frutta.json'))\n",
    "d_carne = json.load(open('ingredienti_primipiatti/carne.json'))['Carne']\n",
    "d_pesce = json.load(open('ingredienti_primipiatti/pesce.json'))['Pesce']\n",
    "\n",
    "d_condimenti = json.load(open('ingredienti_primipiatti/condimenti.json'))\n",
    "l_semi = json.load(open('ingredienti_primipiatti/semi.json'))\n",
    "l_bevande = json.load(open('ingredienti_primipiatti/bevande.json'))\n",
    "l_uova = json.load(open('ingredienti_primipiatti/uova.json'))\n",
    "d_dairy_vegan = json.load(open('ingredienti_primipiatti/dairy_nonformaggi_e_plant.json'))\n",
    "l_dolci = json.load(open('ingredienti_primipiatti/roba_dolce.json'))\n",
    "\n",
    "l_verdure, l_carne, l_pesce, l_condimenti, l_farine, l_dairy_vegan = [], [], [], [], [], []\n",
    "for k in d_verdure:\n",
    "    l_verdure += d_verdure[k]\n",
    "for k in d_carne:\n",
    "    l_carne += d_carne[k]\n",
    "for k in d_pesce:\n",
    "    l_pesce += d_pesce[k]\n",
    "for k in d_condimenti:\n",
    "    l_condimenti += d_condimenti[k]\n",
    "for k in d_farine:\n",
    "    l_farine += d_farine[k]\n",
    "for k in d_dairy_vegan:\n",
    "    l_dairy_vegan += d_dairy_vegan[k]"
   ]
  },
  {
   "cell_type": "code",
   "execution_count": 18,
   "id": "ac23b56f-bf8a-4853-bacb-86c7271271cd",
   "metadata": {
    "execution": {
     "iopub.execute_input": "2024-05-05T09:23:38.403060Z",
     "iopub.status.busy": "2024-05-05T09:23:38.402546Z",
     "iopub.status.idle": "2024-05-05T09:23:38.414930Z",
     "shell.execute_reply": "2024-05-05T09:23:38.412139Z",
     "shell.execute_reply.started": "2024-05-05T09:23:38.403019Z"
    },
    "tags": []
   },
   "outputs": [
    {
     "name": "stdout",
     "output_type": "stream",
     "text": [
      "dairy 9\n",
      "plant 4\n"
     ]
    }
   ],
   "source": [
    "d = d_dairy_vegan\n",
    "for k in d.keys():\n",
    "    print(k, len(d[k]))"
   ]
  },
  {
   "cell_type": "code",
   "execution_count": 19,
   "id": "6cdc13b2-1310-48e9-89c8-38f6fb0fae50",
   "metadata": {
    "execution": {
     "iopub.execute_input": "2024-05-05T09:23:38.875706Z",
     "iopub.status.busy": "2024-05-05T09:23:38.874727Z",
     "iopub.status.idle": "2024-05-05T09:23:38.912495Z",
     "shell.execute_reply": "2024-05-05T09:23:38.911175Z",
     "shell.execute_reply.started": "2024-05-05T09:23:38.875662Z"
    },
    "tags": []
   },
   "outputs": [
    {
     "data": {
      "text/plain": [
       "(119, 14, 3, 53)"
      ]
     },
     "execution_count": 19,
     "metadata": {},
     "output_type": "execute_result"
    },
    {
     "data": {
      "text/plain": [
       "(248, 83)"
      ]
     },
     "execution_count": 19,
     "metadata": {},
     "output_type": "execute_result"
    },
    {
     "data": {
      "text/plain": [
       "(72, 70)"
      ]
     },
     "execution_count": 19,
     "metadata": {},
     "output_type": "execute_result"
    },
    {
     "data": {
      "text/plain": [
       "(24, 47)"
      ]
     },
     "execution_count": 19,
     "metadata": {},
     "output_type": "execute_result"
    },
    {
     "data": {
      "text/plain": [
       "(8, 41)"
      ]
     },
     "execution_count": 19,
     "metadata": {},
     "output_type": "execute_result"
    },
    {
     "data": {
      "text/plain": [
       "(28, 4)"
      ]
     },
     "execution_count": 19,
     "metadata": {},
     "output_type": "execute_result"
    },
    {
     "data": {
      "text/plain": [
       "(13, 13)"
      ]
     },
     "execution_count": 19,
     "metadata": {},
     "output_type": "execute_result"
    }
   ],
   "source": [
    "len(l_pasta), len(l_riso), len(l_gnocchi), len(l_farine)\n",
    "len(l_verdure), len(l_formaggi)\n",
    "len(l_carne), len(l_pesce)\n",
    "len(l_erbe), len(l_spezie)\n",
    "len(l_semi), len(l_condimenti)\n",
    "len(l_bevande), len(l_uova)\n",
    "len(l_dolci), len(l_dairy_vegan)"
   ]
  },
  {
   "cell_type": "code",
   "execution_count": 20,
   "id": "00e49076-5ddd-43aa-9dbe-ff68c8fa27e3",
   "metadata": {
    "execution": {
     "iopub.execute_input": "2024-05-05T09:23:39.427638Z",
     "iopub.status.busy": "2024-05-05T09:23:39.427134Z",
     "iopub.status.idle": "2024-05-05T09:23:39.448167Z",
     "shell.execute_reply": "2024-05-05T09:23:39.446488Z",
     "shell.execute_reply.started": "2024-05-05T09:23:39.427600Z"
    },
    "tags": []
   },
   "outputs": [
    {
     "data": {
      "text/plain": [
       "814"
      ]
     },
     "execution_count": 20,
     "metadata": {},
     "output_type": "execute_result"
    },
    {
     "data": {
      "text/plain": [
       "26"
      ]
     },
     "execution_count": 20,
     "metadata": {},
     "output_type": "execute_result"
    }
   ],
   "source": [
    "len(l_pasta) + len(l_riso) + len(l_gnocchi) + len(l_farine) + len(l_verdure) + len(l_formaggi) + \\\n",
    "len(l_carne) + len(l_pesce) + \\\n",
    "len(l_erbe) + len(l_spezie) + \\\n",
    "len(l_semi) + len(l_condimenti) + \\\n",
    "len(l_bevande) + len(l_uova)\n",
    "len(l_dolci) + len(l_dairy_vegan)"
   ]
  },
  {
   "cell_type": "code",
   "execution_count": 21,
   "id": "fe91f146-194b-4bb0-a6b1-8fd180dbf98b",
   "metadata": {
    "execution": {
     "iopub.execute_input": "2024-05-05T09:23:39.912318Z",
     "iopub.status.busy": "2024-05-05T09:23:39.911793Z",
     "iopub.status.idle": "2024-05-05T09:23:40.231308Z",
     "shell.execute_reply": "2024-05-05T09:23:40.230319Z",
     "shell.execute_reply.started": "2024-05-05T09:23:39.912277Z"
    },
    "tags": []
   },
   "outputs": [],
   "source": [
    "l_ = l_verdure\n",
    "for item in l_:\n",
    "    if item.lower() not in set(all_ingrs):\n",
    "        print(item)"
   ]
  },
  {
   "cell_type": "code",
   "execution_count": 22,
   "id": "72760d55-5903-4918-9193-3a07bd9f7e39",
   "metadata": {
    "execution": {
     "iopub.execute_input": "2024-05-05T09:23:40.308911Z",
     "iopub.status.busy": "2024-05-05T09:23:40.306983Z",
     "iopub.status.idle": "2024-05-05T09:23:40.335095Z",
     "shell.execute_reply": "2024-05-05T09:23:40.327423Z",
     "shell.execute_reply.started": "2024-05-05T09:23:40.308648Z"
    }
   },
   "outputs": [
    {
     "data": {
      "text/plain": [
       "{'dairy': ['Latte intero',\n",
       "  'Latte',\n",
       "  'Latte senza lattosio',\n",
       "  'Panna fresca liquida',\n",
       "  'Panna acida',\n",
       "  'Panna fresca senza lattosio',\n",
       "  'Burro',\n",
       "  'Burro acido',\n",
       "  'Besciamella'],\n",
       " 'plant': ['Latte di soia',\n",
       "  'Latte di riso',\n",
       "  'Latte di cocco',\n",
       "  'Margarina vegetale']}"
      ]
     },
     "execution_count": 22,
     "metadata": {},
     "output_type": "execute_result"
    }
   ],
   "source": [
    "d "
   ]
  },
  {
   "cell_type": "code",
   "execution_count": 23,
   "id": "0efb75c5-4a88-47a5-a431-4d0269cbf6ea",
   "metadata": {
    "execution": {
     "iopub.execute_input": "2024-05-05T09:23:40.727172Z",
     "iopub.status.busy": "2024-05-05T09:23:40.726652Z",
     "iopub.status.idle": "2024-05-05T09:23:41.075948Z",
     "shell.execute_reply": "2024-05-05T09:23:41.075003Z",
     "shell.execute_reply.started": "2024-05-05T09:23:40.727130Z"
    },
    "tags": []
   },
   "outputs": [],
   "source": [
    "all_ingrs_mod = []\n",
    "for item in all_ingrs:\n",
    "    if item in l_pasta:\n",
    "        all_ingrs_mod.append('Pasta')\n",
    "    elif item in l_riso:\n",
    "        all_ingrs_mod.append('Riso')\n",
    "    elif item in l_gnocchi:\n",
    "        all_ingrs_mod.append('Gnocchi')\n",
    "    elif item in l_formaggi:\n",
    "        all_ingrs_mod.append('Formaggio')\n",
    "    elif item in l_erbe:\n",
    "        all_ingrs_mod.append('Erbe')\n",
    "    elif item in l_spezie:\n",
    "        all_ingrs_mod.append('Spezie')\n",
    "    elif item in l_verdure:\n",
    "        all_ingrs_mod.append('Verdure & Frutta')\n",
    "    elif item in l_carne:\n",
    "        all_ingrs_mod.append('Carne')\n",
    "    elif item in l_pesce:\n",
    "        all_ingrs_mod.append('Pesce')\n",
    "    elif item in l_farine:\n",
    "        all_ingrs_mod.append('Farine-Cereali-Pane')\n",
    "    elif item in l_semi:\n",
    "        all_ingrs_mod.append('Semi')\n",
    "    elif item in l_condimenti:\n",
    "        all_ingrs_mod.append('Condimenti')\n",
    "    elif item in l_bevande:\n",
    "        all_ingrs_mod.append('Bevande')\n",
    "    elif item in l_uova:\n",
    "        all_ingrs_mod.append('Uova')\n",
    "    elif item in l_dairy_vegan:\n",
    "        all_ingrs_mod.append('Dairy/vegan')\n",
    "    elif item in l_dolci:\n",
    "        all_ingrs_mod.append('Roba dolve')\n",
    "    else:\n",
    "        all_ingrs_mod.append(item)"
   ]
  },
  {
   "cell_type": "code",
   "execution_count": 24,
   "id": "591f1577-b8aa-43de-a775-91390d5e6d41",
   "metadata": {
    "execution": {
     "iopub.execute_input": "2024-05-05T09:23:41.296001Z",
     "iopub.status.busy": "2024-05-05T09:23:41.295345Z",
     "iopub.status.idle": "2024-05-05T09:23:41.316890Z",
     "shell.execute_reply": "2024-05-05T09:23:41.314271Z",
     "shell.execute_reply.started": "2024-05-05T09:23:41.295953Z"
    },
    "tags": []
   },
   "outputs": [],
   "source": [
    "# asiatici\n",
    "exclude = ['Miso', 'Noodles', 'Salsa di soia', 'Tofu', 'Spaghetti di soia', 'Seitan', \n",
    "           'Pak choi', 'Sake', 'Salsa sriracha','Salsa teriyaki','Niboshi',\n",
    "          'Katsuobushi', 'Alga Wakame', 'Mirin', 'Tortilla chips', 'Tabasco®', 'Alga kombu', \n",
    "           'Edamame', 'Pasta di curry', 'Curry', 'Tahina', 'Tamari', \"Dashi\", 'Alga nori',\n",
    "          \n",
    "           # exclude lieviti\n",
    "           'Amido di mais (maizena)', 'Fecola di patate', 'Lievito alimentare', 'Bicarbonato',\n",
    "           'Lievito di birra secco','Malto di riso'\n",
    "          ]"
   ]
  },
  {
   "cell_type": "code",
   "execution_count": 25,
   "id": "3bb8e20a-6c9b-4fe4-bf98-bb1ec13bc354",
   "metadata": {
    "execution": {
     "iopub.execute_input": "2024-05-05T09:23:41.511772Z",
     "iopub.status.busy": "2024-05-05T09:23:41.511096Z",
     "iopub.status.idle": "2024-05-05T09:23:41.521818Z",
     "shell.execute_reply": "2024-05-05T09:23:41.520436Z",
     "shell.execute_reply.started": "2024-05-05T09:23:41.511713Z"
    },
    "tags": []
   },
   "outputs": [
    {
     "data": {
      "text/plain": [
       "30"
      ]
     },
     "execution_count": 25,
     "metadata": {},
     "output_type": "execute_result"
    }
   ],
   "source": [
    "len(exclude)"
   ]
  },
  {
   "cell_type": "code",
   "execution_count": 26,
   "id": "a038cc1b-d076-4323-9127-dd64d6e32b6f",
   "metadata": {
    "execution": {
     "iopub.execute_input": "2024-05-05T09:23:41.996874Z",
     "iopub.status.busy": "2024-05-05T09:23:41.995978Z",
     "iopub.status.idle": "2024-05-05T09:23:42.019036Z",
     "shell.execute_reply": "2024-05-05T09:23:42.013770Z",
     "shell.execute_reply.started": "2024-05-05T09:23:41.996827Z"
    },
    "tags": []
   },
   "outputs": [],
   "source": [
    "all_ingrs_mod = [item for item in all_ingrs_mod if item not in exclude]"
   ]
  },
  {
   "cell_type": "code",
   "execution_count": 27,
   "id": "c28c0c48-3f0c-464e-8e5f-c4d74367d143",
   "metadata": {
    "execution": {
     "iopub.execute_input": "2024-05-05T09:23:42.268651Z",
     "iopub.status.busy": "2024-05-05T09:23:42.267771Z",
     "iopub.status.idle": "2024-05-05T09:23:42.285506Z",
     "shell.execute_reply": "2024-05-05T09:23:42.283745Z",
     "shell.execute_reply.started": "2024-05-05T09:23:42.268586Z"
    },
    "tags": []
   },
   "outputs": [],
   "source": [
    "c = Counter(all_ingrs_mod)"
   ]
  },
  {
   "cell_type": "code",
   "execution_count": 28,
   "id": "382a8128-62c0-4619-b38c-41a1d8e6c351",
   "metadata": {
    "execution": {
     "iopub.execute_input": "2024-05-05T09:23:42.456407Z",
     "iopub.status.busy": "2024-05-05T09:23:42.455879Z",
     "iopub.status.idle": "2024-05-05T09:23:42.523713Z",
     "shell.execute_reply": "2024-05-05T09:23:42.518331Z",
     "shell.execute_reply.started": "2024-05-05T09:23:42.456366Z"
    },
    "tags": []
   },
   "outputs": [
    {
     "data": {
      "text/plain": [
       "(857,\n",
       " [('sale fino', 1576),\n",
       "  (\"olio extravergine d'oliva\", 1390),\n",
       "  ('pepe nero', 1057),\n",
       "  ('aglio', 646),\n",
       "  ('burro', 418),\n",
       "  ('farina 00', 340),\n",
       "  ('acqua', 303),\n",
       "  ('parmigiano reggiano dop', 293),\n",
       "  ('uova', 282),\n",
       "  ('basilico', 276),\n",
       "  ('prezzemolo', 275),\n",
       "  ('timo', 267),\n",
       "  ('grana padano dop', 246),\n",
       "  ('vino bianco', 241),\n",
       "  ('carote', 237),\n",
       "  ('brodo vegetale', 220),\n",
       "  ('sedano', 191),\n",
       "  ('scalogno', 175),\n",
       "  ('noce moscata', 174),\n",
       "  ('rosmarino', 172),\n",
       "  ('latte intero', 168),\n",
       "  ('peperoncino fresco', 152),\n",
       "  ('patate', 136),\n",
       "  ('pomodorini ciliegino', 134),\n",
       "  ('riso carnaroli', 132),\n",
       "  ('scorza di limone', 131),\n",
       "  ('passata di pomodoro', 123),\n",
       "  ('zucchine', 120),\n",
       "  ('cipolle', 117),\n",
       "  ('panna fresca liquida', 117),\n",
       "  ('cipolle bianche', 109),\n",
       "  ('porri', 105),\n",
       "  ('salvia', 100),\n",
       "  ('ricotta vaccina', 86),\n",
       "  ('spaghetti', 83),\n",
       "  ('salsiccia', 82),\n",
       "  ('pinoli', 80),\n",
       "  ('origano', 79),\n",
       "  ('gamberi', 78),\n",
       "  ('pisellini', 76),\n",
       "  ('cipolle dorate', 75),\n",
       "  ('alloro', 75),\n",
       "  ('pecorino', 72),\n",
       "  ('cipollotto fresco', 67),\n",
       "  ('maggiorana', 66),\n",
       "  ('erba cipollina', 64),\n",
       "  ('menta', 58),\n",
       "  ('cipolle rosse', 57),\n",
       "  ('concentrato di pomodoro', 57),\n",
       "  ('vino rosso', 56),\n",
       "  ('melanzane', 55),\n",
       "  ('spinaci', 52),\n",
       "  ('asparagi', 51),\n",
       "  ('cozze', 51),\n",
       "  ('carciofi', 51),\n",
       "  ('pangrattato', 49),\n",
       "  ('peperoni rossi', 48),\n",
       "  ('semola di grano duro rimacinata', 48),\n",
       "  ('pomodorini datterini', 46),\n",
       "  ('pecorino romano', 46),\n",
       "  ('pancetta affumicata', 45),\n",
       "  ('pomodori pelati', 45),\n",
       "  ('tuorli', 45),\n",
       "  ('speck', 44),\n",
       "  (\"lasagne all'uovo\", 42),\n",
       "  ('sale grosso', 42),\n",
       "  (\"acciughe sott'olio\", 42),\n",
       "  ('vino bianco secco', 42),\n",
       "  ('pomodori ramati', 39),\n",
       "  ('pepe nero in grani', 38),\n",
       "  ('zucchero', 37),\n",
       "  ('gorgonzola', 37),\n",
       "  ('brodo di carne', 37),\n",
       "  ('zafferano', 37),\n",
       "  ('vongole', 36),\n",
       "  ('salsa di soia', 36),\n",
       "  ('zucca', 36),\n",
       "  ('succo di limone', 33),\n",
       "  ('zenzero fresco', 33),\n",
       "  ('linguine', 33),\n",
       "  ('peperoni gialli', 32),\n",
       "  ('funghi porcini', 32),\n",
       "  ('funghi champignon', 32),\n",
       "  ('sale', 31),\n",
       "  ('pane', 31),\n",
       "  ('broccoli', 30),\n",
       "  ('pepe bianco', 30),\n",
       "  ('olive taggiasche', 30),\n",
       "  ('prosciutto cotto', 29),\n",
       "  ('paccheri', 29),\n",
       "  ('mozzarella', 28),\n",
       "  ('semola', 28),\n",
       "  ('olive nere', 27),\n",
       "  ('limoni', 27),\n",
       "  ('rigatoni', 27),\n",
       "  ('gherigli di noci', 26),\n",
       "  ('radicchio', 26),\n",
       "  ('taleggio', 26),\n",
       "  ('scampi', 25),\n",
       "  ('fusilli', 25),\n",
       "  ('guanciale', 24),\n",
       "  ('fagiolini', 24),\n",
       "  ('riso', 24),\n",
       "  ('ricotta salata', 23),\n",
       "  ('penne rigate', 23),\n",
       "  ('mandorle in scaglie', 23),\n",
       "  ('calamari', 22),\n",
       "  ('peperoncino secco', 22),\n",
       "  ('rucola', 22),\n",
       "  ('olio di semi di arachide', 22),\n",
       "  ('manzo', 22),\n",
       "  ('zucca delica', 21),\n",
       "  ('capperi sotto sale', 21),\n",
       "  ('finocchietto selvatico', 21),\n",
       "  ('verza', 21),\n",
       "  (\"tonno sott'olio\", 20),\n",
       "  (\"tagliatelle all'uovo\", 20),\n",
       "  ('fiori di zucca', 20),\n",
       "  ('patate rosse', 20),\n",
       "  ('olio di semi', 20),\n",
       "  ('pane raffermo', 20),\n",
       "  ('pancetta (tesa)', 19),\n",
       "  ('cavolo nero', 19),\n",
       "  ('mezze maniche rigate', 19),\n",
       "  (\"pomodori secchi sott'olio\", 19),\n",
       "  ('acciughe (alici)', 19),\n",
       "  ('robiola', 18),\n",
       "  ('burrata', 18),\n",
       "  ('ceci precotti', 18),\n",
       "  ('mandorle pelate', 18),\n",
       "  ('brandy', 18),\n",
       "  ('aceto di vino bianco', 18),\n",
       "  ('polpo', 18),\n",
       "  ('caciocavallo', 18),\n",
       "  ('fave', 17),\n",
       "  ('stracciatella', 17),\n",
       "  ('cavolfiore', 17),\n",
       "  ('casarecce', 16),\n",
       "  ('spaghetti integrali', 16),\n",
       "  ('seppie', 16),\n",
       "  ('mazzancolle', 15),\n",
       "  ('ceci secchi', 15),\n",
       "  ('mandorle', 15),\n",
       "  ('paprika dolce', 15),\n",
       "  ('orzo perlato', 14),\n",
       "  ('feta', 14),\n",
       "  ('pane casereccio', 14),\n",
       "  ('riso basmati', 14),\n",
       "  ('salmone affumicato', 14),\n",
       "  ('riso vialone nano', 14),\n",
       "  ('fontina', 14),\n",
       "  ('barbabietole precotte', 14),\n",
       "  ('zafferano in pistilli', 13),\n",
       "  ('petto di pollo', 13),\n",
       "  ('peperoncino', 13),\n",
       "  ('fregola', 13),\n",
       "  ('prosciutto crudo', 13),\n",
       "  ('maiale', 13),\n",
       "  ('zucchero di canna', 13),\n",
       "  ('sedanini rigati', 13),\n",
       "  ('cipollotti', 13),\n",
       "  ('nocciole', 13),\n",
       "  ('pomodori', 13),\n",
       "  ('provola', 12),\n",
       "  ('scorza di lime', 12),\n",
       "  ('olio di oliva', 12),\n",
       "  ('carne bovina', 12),\n",
       "  ('curcuma in polvere', 12),\n",
       "  ('pancetta', 12),\n",
       "  ('scamorza (provola)', 12),\n",
       "  ('succo di lime', 12),\n",
       "  ('cipolle rosse di tropea', 12),\n",
       "  ('pesce spada', 12),\n",
       "  ('farfalle', 12),\n",
       "  ('aneto', 12),\n",
       "  ('riso arborio', 12),\n",
       "  ('peperoncino in polvere', 12),\n",
       "  ('spinacini', 12),\n",
       "  ('riso integrale', 11),\n",
       "  ('bucatini', 11),\n",
       "  ('bacche di ginepro', 11),\n",
       "  ('tortiglioni', 11),\n",
       "  ('stracchino', 11),\n",
       "  ('filetto di salmone', 11),\n",
       "  ('caprino', 11),\n",
       "  ('nocciole intere spellate', 11),\n",
       "  ('mortadella', 11),\n",
       "  ('polpa di pomodoro', 11),\n",
       "  ('lenticchie secche', 10),\n",
       "  ('cipolle ramate', 10),\n",
       "  ('ricotta di pecora', 10),\n",
       "  ('castagne', 10),\n",
       "  ('pepe rosa', 10),\n",
       "  ('latte', 10),\n",
       "  ('scarola', 10),\n",
       "  ('pepe rosa in grani', 10),\n",
       "  ('cous cous', 10),\n",
       "  ('primosale', 9),\n",
       "  ('lardo', 9),\n",
       "  ('fagioli borlotti secchi', 9),\n",
       "  ('finocchi', 9),\n",
       "  ('gnocchetti sardi', 9),\n",
       "  ('piselli surgelati', 9),\n",
       "  ('lime', 9),\n",
       "  ('taccole', 9),\n",
       "  ('bottarga di muggine', 9),\n",
       "  (\"lasagne sottili all'uovo\", 9),\n",
       "  ('pancetta dolce', 9),\n",
       "  ('mascarpone', 9),\n",
       "  (\"pappardelle all'uovo\", 9),\n",
       "  ('coda di rospo', 9),\n",
       "  ('trofie', 9),\n",
       "  ('cannella in polvere', 9),\n",
       "  ('fagioli cannellini secchi', 9),\n",
       "  ('fusilli bucati corti', 8),\n",
       "  ('spaghettoni', 8),\n",
       "  ('tranci di salmone', 8),\n",
       "  ('pepe', 8),\n",
       "  ('cime di rapa', 8),\n",
       "  ('ziti', 8),\n",
       "  ('pomodorini gialli', 8),\n",
       "  ('pecorino sardo', 8),\n",
       "  ('scamorza affumicata', 8),\n",
       "  (\"fettuccine all'uovo\", 8),\n",
       "  ('avocado', 8),\n",
       "  ('ditaloni rigati', 8),\n",
       "  ('bietole', 8),\n",
       "  ('provolone', 8),\n",
       "  ('fusilli integrali', 8),\n",
       "  ('nero di seppia', 8),\n",
       "  ('fiordilatte', 8),\n",
       "  ('semi di finocchio', 8),\n",
       "  ('semi di zucca', 8),\n",
       "  ('spaghetti senza glutine', 8),\n",
       "  ('vitello', 8),\n",
       "  ('chiodi di garofano', 8),\n",
       "  ('pennette rigate', 8),\n",
       "  ('olio di sesamo', 7),\n",
       "  ('pennette rigate 5 cereali', 7),\n",
       "  ('pomodori di pachino', 7),\n",
       "  ('penne rigate senza glutine', 7),\n",
       "  ('pistacchi', 7),\n",
       "  (\"spaghetti alla chitarra all'uovo\", 7),\n",
       "  ('amaretti', 7),\n",
       "  ('fasolari', 7),\n",
       "  ('olive verdi', 7),\n",
       "  ('riso nero venere', 7),\n",
       "  ('gamberoni', 7),\n",
       "  ('emmentaler', 7),\n",
       "  ('strozzapreti', 7),\n",
       "  ('asiago', 7),\n",
       "  ('cipollotti rossi', 7),\n",
       "  ('fagioli borlotti', 7),\n",
       "  ('pistacchi non salati', 7),\n",
       "  ('pipe rigate', 7),\n",
       "  ('gamberetti', 7),\n",
       "  ('panna acida', 7),\n",
       "  ('funghi finferli (gallinacci)', 7),\n",
       "  ('zucca mantovana', 7),\n",
       "  ('farina 0', 7),\n",
       "  ('mozzarella di bufala', 7),\n",
       "  ('cannella in stecche', 7),\n",
       "  ('cognac', 6),\n",
       "  ('vermicelli', 6),\n",
       "  ('pollo', 6),\n",
       "  ('ortiche', 6),\n",
       "  ('pomodori piccadilly', 6),\n",
       "  ('semi di sesamo', 6),\n",
       "  ('salmone', 6),\n",
       "  ('farina di grano saraceno', 6),\n",
       "  ('ditalini', 6),\n",
       "  ('fagioli cannellini precotti', 6),\n",
       "  ('melagrana', 6),\n",
       "  ('fumetto di crostacei', 6),\n",
       "  ('groviera', 6),\n",
       "  ('nduja', 6),\n",
       "  ('tonno', 6),\n",
       "  (\"tagliolini all'uovo\", 6),\n",
       "  ('brodo di pollo', 6),\n",
       "  ('valtellina casera', 6),\n",
       "  ('vongole veraci', 6),\n",
       "  ('cavolo cappuccio', 6),\n",
       "  ('lemongrass', 6),\n",
       "  ('broccoli romaneschi', 6),\n",
       "  ('cavatelli', 6),\n",
       "  ('spaghetti quadrati', 6),\n",
       "  ('orecchiette', 6),\n",
       "  ('zucchine baby', 6),\n",
       "  ('reginette', 6),\n",
       "  ('fusilli senza glutine', 6),\n",
       "  ('arance', 6),\n",
       "  ('fusilloni', 6),\n",
       "  ('branzino (spigola)', 6),\n",
       "  ('erbette', 6),\n",
       "  ('farina integrale', 6),\n",
       "  ('uvetta', 6),\n",
       "  ('olio di semi di girasole', 6),\n",
       "  (\"garganelli all'uovo\", 6),\n",
       "  ('scialatielli', 5),\n",
       "  ('quinoa', 5),\n",
       "  ('pomodori sardi (camone)', 5),\n",
       "  ('triplo concentrato di pomodoro', 5),\n",
       "  ('carne di suino', 5),\n",
       "  ('farro perlato', 5),\n",
       "  ('spaghetti 5 cereali', 5),\n",
       "  (\"scorza d'arancia\", 5),\n",
       "  ('brodo di pesce', 5),\n",
       "  ('mezze penne rigate integrali', 5),\n",
       "  ('mezze penne rigate', 5),\n",
       "  ('noci', 5),\n",
       "  ('anacardi', 5),\n",
       "  ('funghi portobello', 5),\n",
       "  ('casarecce di ceci', 5),\n",
       "  ('granella di pistacchi', 5),\n",
       "  ('fumetto di pesce', 5),\n",
       "  ('macinato di manzo', 5),\n",
       "  ('fusilli 5 cereali', 5),\n",
       "  ('luganega', 5),\n",
       "  ('funghi secchi', 5),\n",
       "  ('canocchie', 5),\n",
       "  ('curry', 5),\n",
       "  ('noodles', 5),\n",
       "  ('germogli di soia', 5),\n",
       "  ('pomodori pizzutelli', 5),\n",
       "  ('farina di riso', 5),\n",
       "  ('frutti di cappero ', 5),\n",
       "  ('pancarrè', 5),\n",
       "  ('yogurt greco', 5),\n",
       "  ('scorfano', 5),\n",
       "  ('ghiaccio', 5),\n",
       "  ('barba di frate (agretti)', 5),\n",
       "  ('pomodorini in scatola', 5),\n",
       "  ('semolino', 5),\n",
       "  ('lenticchie', 5),\n",
       "  ('vino di riso', 5),\n",
       "  ('pasta mista', 5),\n",
       "  ('biancostato di manzo', 5),\n",
       "  ('zucchine bianche', 4),\n",
       "  ('ravanelli', 4),\n",
       "  ('calamarata', 4),\n",
       "  (\"paglia e fieno all'uovo\", 4),\n",
       "  ('tubetti', 4),\n",
       "  (\"cannelloni all'uovo\", 4),\n",
       "  ('fagiolini piattoni', 4),\n",
       "  ('semi di sesamo nero', 4),\n",
       "  ('vino rosato', 4),\n",
       "  ('mozzarelline ciliegine', 4),\n",
       "  ('cotenna di suino', 4),\n",
       "  ('costine di maiale', 4),\n",
       "  ('miele millefiori', 4),\n",
       "  ('ricotta', 4),\n",
       "  ('bulgur', 4),\n",
       "  ('brodo', 4),\n",
       "  ('miele', 4),\n",
       "  ('uva passa', 4),\n",
       "  ('caciocavallo silano', 4),\n",
       "  ('fiori eduli', 4),\n",
       "  ('cavoletti di bruxelles', 4),\n",
       "  ('gallinella', 4),\n",
       "  ('triglie', 4),\n",
       "  ('ricotta di bufala', 4),\n",
       "  ('pennette rigate integrali', 4),\n",
       "  ('funghi chiodini', 4),\n",
       "  ('gnocchi di patate', 4),\n",
       "  ('cellentani', 4),\n",
       "  ('conchiglioni', 4),\n",
       "  ('orzo', 4),\n",
       "  ('seppioline', 4),\n",
       "  ('funghi orecchioni o ostrica (pleurotus)', 4),\n",
       "  ('pasta', 4),\n",
       "  ('lonza di maiale', 4),\n",
       "  ('bottarga di tonno', 4),\n",
       "  ('baccalà dissalato', 4),\n",
       "  ('sedani rigati', 4),\n",
       "  ('zucca napoletana', 4),\n",
       "  ('erbe aromatiche', 4),\n",
       "  ('toma piemontese', 4),\n",
       "  ('pomodorini', 4),\n",
       "  ('mele fuji', 4),\n",
       "  ('brie', 4),\n",
       "  ('pomodori secchi', 4),\n",
       "  ('olive nere greche', 3),\n",
       "  ('spaghettini', 3),\n",
       "  ('farfalle integrali', 3),\n",
       "  ('tilsit', 3),\n",
       "  ('tacchino', 3),\n",
       "  ('paprika', 3),\n",
       "  ('cetrioli', 3),\n",
       "  (\"succo d'arancia\", 3),\n",
       "  ('rana pescatrice', 3),\n",
       "  ('cavoli rossi', 3),\n",
       "  ('pomodori datterini pelati', 3),\n",
       "  ('salame', 3),\n",
       "  ('champagne', 3),\n",
       "  ('filetti di tonno', 3),\n",
       "  ('penne rigate bio', 3),\n",
       "  ('peperoni', 3),\n",
       "  ('paprika affumicata', 3),\n",
       "  ('olio di semi di mais', 3),\n",
       "  ('cicoria', 3),\n",
       "  ('melone', 3),\n",
       "  ('penne di lenticchie rosse', 3),\n",
       "  ('sedano rapa', 3),\n",
       "  ('mini penne rigate', 3),\n",
       "  ('fagioli borlotti precotti', 3),\n",
       "  ('panini ai cereali', 3),\n",
       "  ('farina di farro integrale', 3),\n",
       "  ('patate dolci (o americane)', 3),\n",
       "  ('spaghetti rigati', 3),\n",
       "  ('birra rossa', 3),\n",
       "  ('fettuccine 5 cereali e uova', 3),\n",
       "  ('pane integrale', 3),\n",
       "  ('zucca violina', 3),\n",
       "  ('aglio rosso', 3),\n",
       "  ('chicchi di farina di legumi (lenticchie rosse, ceci e piselli)', 3),\n",
       "  ('aceto balsamico', 3),\n",
       "  ('anice stellato', 3),\n",
       "  ('coriandolo', 3),\n",
       "  ('tofu', 3),\n",
       "  ('orata', 3),\n",
       "  ('senape', 3),\n",
       "  ('pere decana', 3),\n",
       "  ('capesante', 3),\n",
       "  ('paprika piccante', 3),\n",
       "  ('monte veronese', 3),\n",
       "  ('riso rosso', 3),\n",
       "  ('lumaconi', 3),\n",
       "  ('sarde', 3),\n",
       "  ('pane toscano', 3),\n",
       "  ('mirtilli', 3),\n",
       "  ('moscardini', 3),\n",
       "  ('crostini di pane', 3),\n",
       "  ('fecola di patate', 3),\n",
       "  ('coniglio', 3),\n",
       "  ('pecorino toscano', 3),\n",
       "  ('cotechino precotto', 3),\n",
       "  ('tortiglioni integrali', 3),\n",
       "  ('peperoni verdi', 3),\n",
       "  ('patate viola', 3),\n",
       "  ('castagne precotte', 3),\n",
       "  ('raspadura', 3),\n",
       "  ('formaggio fresco spalmabile', 3),\n",
       "  ('merluzzo', 3),\n",
       "  ('ginepro', 3),\n",
       "  ('ricci di mare', 3),\n",
       "  ('spaghetti di soia', 3),\n",
       "  ('aceto di mele', 3),\n",
       "  ('ditalini senza glutine', 3),\n",
       "  ('cardi', 3),\n",
       "  ('alga kombu', 3),\n",
       "  ('caciottina', 3),\n",
       "  ('lenticchie rosse decorticate', 3),\n",
       "  ('farro', 3),\n",
       "  ('pomodori san marzano', 3),\n",
       "  ('birra chiara', 3),\n",
       "  ('yogurt bianco naturale', 3),\n",
       "  ('birra scura', 3),\n",
       "  ('pesce persico', 3),\n",
       "  ('pepe bianco in grani', 3),\n",
       "  ('tabasco®', 3),\n",
       "  ('pancetta arrotolata', 3),\n",
       "  ('sgombro', 3),\n",
       "  ('seitan', 3),\n",
       "  ('melanzane tonde', 3),\n",
       "  ('mini pipe rigate', 2),\n",
       "  ('cappone', 2),\n",
       "  ('pomodorini secchi sottolio', 2),\n",
       "  ('pak choi', 2),\n",
       "  ('pasta fresca', 2),\n",
       "  ('rum', 2),\n",
       "  ('pistacchi tostati', 2),\n",
       "  ('barbabietole', 2),\n",
       "  ('semi di papavero', 2),\n",
       "  (\"tagliatelle larghe all'uovo\", 2),\n",
       "  ('aceto di riso', 2),\n",
       "  ('miso', 2),\n",
       "  ('pepe in grani', 2),\n",
       "  ('tartufo nero', 2),\n",
       "  ('sbrinz', 2),\n",
       "  ('riso ribe', 2),\n",
       "  ('coriandolo in polvere', 2),\n",
       "  ('puntarelle', 2),\n",
       "  ('olive di gaeta', 2),\n",
       "  ('fegato di pollo', 2),\n",
       "  ('cavolo rosso', 2),\n",
       "  ('farina', 2),\n",
       "  ('agnello', 2),\n",
       "  ('vino', 2),\n",
       "  ('fagioli rossi precotti', 2),\n",
       "  ('anelli siciliani', 2),\n",
       "  ('biete', 2),\n",
       "  ('funghi pioppini', 2),\n",
       "  (\"lasagne verdi all'uovo\", 2),\n",
       "  ('farina di castagne', 2),\n",
       "  ('culatello', 2),\n",
       "  ('crescenza', 2),\n",
       "  ('lattuga', 2),\n",
       "  (\"torchietti all'uovo\", 2),\n",
       "  ('porto', 2),\n",
       "  ('controfiletto di manzo', 2),\n",
       "  ('semi di coriandolo', 2),\n",
       "  ('zucchero a velo', 2),\n",
       "  ('pennoni', 2),\n",
       "  ('sogliola', 2),\n",
       "  ('pesto alla genovese', 2),\n",
       "  ('fragole', 2),\n",
       "  ('cannolicchi', 2),\n",
       "  ('formaggio', 2),\n",
       "  ('funghi prataioli', 2),\n",
       "  ('cardamomo', 2),\n",
       "  ('farina di grano duro', 2),\n",
       "  ('orecchiette fresche', 2),\n",
       "  ('fagioli bianchi precotti', 2),\n",
       "  ('edamame', 2),\n",
       "  ('mais', 2),\n",
       "  ('castelmagno', 2),\n",
       "  ('pomodori perini', 2),\n",
       "  ('riso roma', 2),\n",
       "  ('spumante', 2),\n",
       "  ('cicerchie secche', 2),\n",
       "  ('friggitelli', 2),\n",
       "  ('sugo di pomodoro', 2),\n",
       "  ('albumi', 2),\n",
       "  ('troccoli freschi', 2),\n",
       "  ('arachidi', 2),\n",
       "  ('mostarda mantovana', 2),\n",
       "  ('farina di farro', 2),\n",
       "  ('pasta di salame', 2),\n",
       "  ('pesce di mare', 2),\n",
       "  ('nasello', 2),\n",
       "  ('cumino', 2),\n",
       "  ('risotto allo zafferano', 2),\n",
       "  ('astice', 2),\n",
       "  ('zucchine tonde', 2),\n",
       "  ('midollo', 2),\n",
       "  ('quartirolo lombardo', 2),\n",
       "  ('formaggio stelvio', 2),\n",
       "  ('semi di cumino', 2),\n",
       "  ('fusilli di lenticchie rosse', 2),\n",
       "  ('farina di mais', 2),\n",
       "  ('amido di mais (maizena)', 2),\n",
       "  ('cotechino', 2),\n",
       "  ('filetto di merluzzo', 2),\n",
       "  ('toma', 2),\n",
       "  ('vodka', 2),\n",
       "  ('ditaloni', 2),\n",
       "  ('risoni', 2),\n",
       "  (\"capperi sott'aceto\", 2),\n",
       "  ('mini ruote', 2),\n",
       "  ('acciughe sotto sale', 2),\n",
       "  ('mix di cereali', 2),\n",
       "  ('montasio', 2),\n",
       "  ('pere abate', 2),\n",
       "  ('colatura di alici', 2),\n",
       "  ('pecorino di fossa', 2),\n",
       "  ('amaro', 2),\n",
       "  ('tonno al naturale', 2),\n",
       "  ('pennoni rigati', 2),\n",
       "  ('tartufi neri', 2),\n",
       "  ('sake', 2),\n",
       "  ('mirin', 2),\n",
       "  ('topinambur', 2),\n",
       "  ('germogli di barbabietola', 2),\n",
       "  ('cinghiale', 2),\n",
       "  ('provolone piccante', 2),\n",
       "  ('asparagi bianchi', 2),\n",
       "  ('trota salmonata', 2),\n",
       "  ('bigoli', 2),\n",
       "  ('piselli secchi', 2),\n",
       "  ('cotechino modena precotto', 2),\n",
       "  ('ricotta di capra', 2),\n",
       "  ('acqua gassata', 2),\n",
       "  (\"fagioli dall'occhio secchi\", 2),\n",
       "  ('lattuga romana', 2),\n",
       "  ('formaggio di montagna', 2),\n",
       "  ('fontal', 2),\n",
       "  ('baguette', 2),\n",
       "  ('troccoli', 2),\n",
       "  ('pepe di sichuan', 2),\n",
       "  ('granchio', 2),\n",
       "  ('farina di ceci', 2),\n",
       "  ('braciole di maiale', 2),\n",
       "  ('chiodi di garofano macinati', 2),\n",
       "  ('spaghetti di riso', 2),\n",
       "  ('mentuccia', 2),\n",
       "  (\"capperi sott'olio\", 2),\n",
       "  (\"cosciotto d'agnello\", 2),\n",
       "  ('fragoline di bosco', 2),\n",
       "  ('pasta di curry', 1),\n",
       "  ('pane nero ai cereali', 1),\n",
       "  ('zucchine trombetta', 1),\n",
       "  ('riso di semola', 1),\n",
       "  ('rose', 1),\n",
       "  ('zucca gialla', 1),\n",
       "  ('yogurt greco 2% di grassi', 1),\n",
       "  ('pere', 1),\n",
       "  ('roquefort', 1),\n",
       "  ('patate bianche', 1),\n",
       "  ('pici', 1),\n",
       "  ('lievito alimentare', 1),\n",
       "  ('uva bianca', 1),\n",
       "  ('mini farfalle', 1),\n",
       "  (\"petto d'anatra\", 1),\n",
       "  ('uova sode', 1),\n",
       "  ('riso per sushi', 1),\n",
       "  ('mele granny smith', 1),\n",
       "  ('legumi misti', 1),\n",
       "  ('freselle', 1),\n",
       "  ('cavolfiori romaneschi', 1),\n",
       "  ('vermicelli di riso', 1),\n",
       "  ('salsa sriracha', 1),\n",
       "  ('salsa teriyaki', 1),\n",
       "  ('uova di lompo (succedaneo caviale)', 1),\n",
       "  ('spaghetti bio', 1),\n",
       "  ('barolo', 1),\n",
       "  ('pepe nero&curcuma', 1),\n",
       "  ('brigante', 1),\n",
       "  ('cocomero (anguria)', 1),\n",
       "  ('tagliatelle', 1),\n",
       "  ('fettuccine', 1),\n",
       "  ('macinato di maiale', 1),\n",
       "  ('olio di cocco', 1),\n",
       "  ('cocco rapè', 1),\n",
       "  ('pimento', 1),\n",
       "  ('lorighittas', 1),\n",
       "  ('birra analcolica', 1),\n",
       "  ('trenette', 1),\n",
       "  ('farina di mais per polenta istantanea', 1),\n",
       "  ('busto di pollo', 1),\n",
       "  ('lasagne', 1),\n",
       "  ('pomodori cuore di bue', 1),\n",
       "  ('pancetta fresca', 1),\n",
       "  ('pastinaca', 1),\n",
       "  ('pistacchi tostati salati', 1),\n",
       "  ('mezzi canneroni', 1),\n",
       "  ('maccheroncini al pettine', 1),\n",
       "  ('pere kaiser', 1),\n",
       "  ('cacao amaro in polvere', 1),\n",
       "  ('salsa alle noci', 1),\n",
       "  ('yogurt', 1),\n",
       "  ('cipolle borettane', 1),\n",
       "  ('frutti di bosco', 1),\n",
       "  ('susine', 1),\n",
       "  ('daikon', 1),\n",
       "  ('alga wakame', 1),\n",
       "  ('provola affumicata', 1),\n",
       "  ('faraona', 1),\n",
       "  ('casizolu', 1),\n",
       "  ('uva fragola', 1),\n",
       "  ('pannerone', 1),\n",
       "  ('pere williams', 1),\n",
       "  (\"peperoni sott'olio\", 1),\n",
       "  ('aceto di vino rosso', 1),\n",
       "  ('melanzane ovali nere', 1),\n",
       "  ('tortellini', 1),\n",
       "  ('carote baby', 1),\n",
       "  ('noci pecan', 1),\n",
       "  ('lardo di colonnata', 1),\n",
       "  ('mini fusilli', 1),\n",
       "  ('ricotta mista', 1),\n",
       "  ('panettone', 1),\n",
       "  ('asparagi di mare', 1),\n",
       "  ('fettine di manzo', 1),\n",
       "  ('farina di grano tenero', 1),\n",
       "  ('formaggio fiscidu', 1),\n",
       "  ('menta essiccata', 1),\n",
       "  ('fave secche', 1),\n",
       "  ('fagioli rossi secchi', 1),\n",
       "  ('ricotta affumicata', 1),\n",
       "  ('chicchi di farina di legumi (lenticchie rosse e piselli)', 1),\n",
       "  ('bonarda', 1),\n",
       "  ('zenzero in polvere', 1),\n",
       "  ('zucca butternut', 1),\n",
       "  ('macinato di coniglio', 1),\n",
       "  ('cosce di coniglio', 1),\n",
       "  ('mix di cereali e quinoa', 1),\n",
       "  ('pepe di cubebe', 1),\n",
       "  ('farina istantanea per polenta', 1),\n",
       "  ('fegatini di pollo', 1),\n",
       "  ('granchio blu', 1),\n",
       "  ('pesche', 1),\n",
       "  ('piselli precotti', 1),\n",
       "  ('farina di kamut®', 1),\n",
       "  ('bitto', 1),\n",
       "  ('marsala', 1),\n",
       "  ('cedro candito', 1),\n",
       "  ('mostaccino', 1),\n",
       "  ('mentine', 1),\n",
       "  ('trippa di bovino', 1),\n",
       "  ('semi di lino', 1),\n",
       "  ('semi di girasole', 1),\n",
       "  ('germogli di crescione', 1),\n",
       "  ('fave surgelate', 1),\n",
       "  ('farina di grano arso', 1),\n",
       "  ('coregone', 1),\n",
       "  ('ragusano dop', 1),\n",
       "  ('stelline senza glutine', 1),\n",
       "  ('verdure miste', 1),\n",
       "  ('dentice', 1),\n",
       "  ('aglio nero', 1),\n",
       "  ('riso originario', 1),\n",
       "  ('cetriolini sottaceto', 1),\n",
       "  ('carote viola', 1),\n",
       "  ('cerfoglio', 1),\n",
       "  ('dragoncello', 1),\n",
       "  ('linguine senza glutine', 1),\n",
       "  ('fichi', 1),\n",
       "  ('tomini', 1),\n",
       "  ('caciotta romana', 1),\n",
       "  ('salsa di pomodoro', 1),\n",
       "  ('prosecco', 1),\n",
       "  ('capriolo', 1),\n",
       "  ('edamer', 1),\n",
       "  ('liquirizia in polvere', 1),\n",
       "  ('tahina', 1),\n",
       "  ('uva passolina', 1),\n",
       "  ('tartufi di mare', 1),\n",
       "  ('chicchi di farina di legumi (lenticchie rosse e ceci)', 1),\n",
       "  ('tête de moine', 1),\n",
       "  ('maccheroncini', 1),\n",
       "  ('tortelloni', 1),\n",
       "  ('songino', 1),\n",
       "  ('lamponi', 1),\n",
       "  ('fiocchi di latte', 1),\n",
       "  ('rape', 1),\n",
       "  ('ribes', 1),\n",
       "  ('latte senza lattosio', 1),\n",
       "  ('zampone', 1),\n",
       "  ('formaggio di fossa', 1),\n",
       "  ('pepe verde', 1),\n",
       "  ('totani', 1),\n",
       "  ('spaghettini integrali', 1),\n",
       "  ('pasta sfoglia', 1),\n",
       "  ('fegato di vitello', 1),\n",
       "  ('pancia di maiale', 1),\n",
       "  ('niboshi', 1),\n",
       "  ('katsuobushi', 1),\n",
       "  ('tamari', 1),\n",
       "  ('strutto', 1),\n",
       "  ('alga nori', 1),\n",
       "  ('cioccolato fondente', 1),\n",
       "  ('carciofi mammole', 1),\n",
       "  ('conchiglie', 1),\n",
       "  ('trota', 1),\n",
       "  ('platessa', 1),\n",
       "  ('arachidi salate tostate', 1),\n",
       "  ('grano', 1),\n",
       "  ('sardine', 1),\n",
       "  ('caviale', 1),\n",
       "  ('cumino in polvere', 1),\n",
       "  ('mele golden', 1),\n",
       "  ('borragine', 1),\n",
       "  ('pane integrale multi-cereali', 1),\n",
       "  ('tagliatelle 5 cereali e uova', 1),\n",
       "  ('pajata', 1),\n",
       "  ('tagliata di petto di pollo', 1),\n",
       "  ('zucchine gialle', 1),\n",
       "  ('dashi', 1),\n",
       "  ('mango', 1),\n",
       "  ('ananas', 1),\n",
       "  ('birra blanche', 1),\n",
       "  ('aglio fresco', 1),\n",
       "  ('gruyère dop', 1),\n",
       "  ('spianata calabrese', 1),\n",
       "  ('bicarbonato', 1),\n",
       "  ('salamella mantovana', 1),\n",
       "  ('capperi', 1),\n",
       "  ('peperoncino dolce', 1),\n",
       "  ('peperoncino verde dolce', 1),\n",
       "  ('fondo bruno', 1),\n",
       "  ('raschera dop', 1),\n",
       "  ('besciamella', 1),\n",
       "  ('pepe misto in grani', 1),\n",
       "  ('indivia belga', 1),\n",
       "  ('olive', 1),\n",
       "  ('burro acido', 1),\n",
       "  ('scorza di pompelmo', 1),\n",
       "  ('patate novelle', 1),\n",
       "  ('glassa di aceto balsamico', 1),\n",
       "  ('tagliatelle senza glutine', 1),\n",
       "  ('langres', 1),\n",
       "  ('boursault', 1),\n",
       "  ('camembert', 1),\n",
       "  ('broccoletti', 1),\n",
       "  ('ciliegie', 1),\n",
       "  ('nocciole intere', 1),\n",
       "  ('frattaglie di pollo', 1),\n",
       "  ('cavatappi', 1),\n",
       "  ('emmentaler dop', 1),\n",
       "  ('funghi', 1),\n",
       "  ('asparagi selvatici', 1),\n",
       "  ('quaglia', 1),\n",
       "  ('latte di soia', 1),\n",
       "  ('lasagne ricce', 1),\n",
       "  ('tortiglioni senza glutine', 1),\n",
       "  ('farina di mais bramata', 1),\n",
       "  ('pannocchie precotte', 1),\n",
       "  ('peperoncino verde piccante', 1),\n",
       "  ('tartufo bianco', 1),\n",
       "  ('fagioli cannellini', 1),\n",
       "  ('fichi viola', 1),\n",
       "  ('capellini', 1),\n",
       "  ('fagioli', 1),\n",
       "  ('cavolo riccio (kale)', 1),\n",
       "  ('casolet', 1),\n",
       "  ('filoncini di pane', 1),\n",
       "  ('cointreau', 1),\n",
       "  ('lievito di birra secco', 1),\n",
       "  ('panna fresca senza lattosio', 1),\n",
       "  (\"pappardelle ricce all'uovo\", 1),\n",
       "  ('cinta senese', 1),\n",
       "  ('latte di riso', 1),\n",
       "  ('margarina vegetale', 1),\n",
       "  ('filini', 1),\n",
       "  ('sbrinz dop', 1),\n",
       "  ('costolette di agnello', 1),\n",
       "  ('gnocchetti di patate', 1),\n",
       "  ('fagioli di spagna', 1),\n",
       "  ('latte di cocco', 1),\n",
       "  ('gnocchi di riso', 1),\n",
       "  ('radiatori', 1),\n",
       "  ('pennoni lisci', 1),\n",
       "  ('mele red delicious', 1),\n",
       "  ('polipetti', 1),\n",
       "  ('peperoncini piccanti', 1),\n",
       "  ('lepre', 1),\n",
       "  ('pimenton', 1),\n",
       "  ('filetto di baccalà', 1),\n",
       "  ('pane di segale', 1),\n",
       "  ('uva sultanina', 1),\n",
       "  ('prescinseua', 1),\n",
       "  ('curcuma fresca', 1),\n",
       "  ('bottarga', 1),\n",
       "  ('alga spirulina', 1),\n",
       "  ('mini tortiglioni', 1),\n",
       "  ('salamella', 1),\n",
       "  ('uva rossa', 1),\n",
       "  ('pomodori costoluti', 1),\n",
       "  ('funghi misti', 1),\n",
       "  ('fagioli neri secchi', 1),\n",
       "  ('tortilla chips', 1),\n",
       "  ('caccavelle', 1),\n",
       "  ('taralli', 1),\n",
       "  ('malto di riso', 1),\n",
       "  ('cappello del prete', 1),\n",
       "  ('cervella di vitello', 1),\n",
       "  ('mele evelina', 1),\n",
       "  ('filetti di platessa', 1),\n",
       "  (\"farfalline all'uovo\", 1),\n",
       "  ('pane pugliese', 1),\n",
       "  ('rombo', 1),\n",
       "  ('birra', 1),\n",
       "  ('penne lisce', 1),\n",
       "  ('cachi mela', 1),\n",
       "  ('sedano bianco', 1),\n",
       "  ('miele di castagno', 1),\n",
       "  ('busiate', 1)])"
      ]
     },
     "execution_count": 28,
     "metadata": {},
     "output_type": "execute_result"
    }
   ],
   "source": [
    "len(c), c.most_common()\n"
   ]
  },
  {
   "cell_type": "code",
   "execution_count": 29,
   "id": "1f41aba9-45e4-4695-bdea-47b727a4bbaa",
   "metadata": {
    "execution": {
     "iopub.execute_input": "2024-05-05T09:23:42.672276Z",
     "iopub.status.busy": "2024-05-05T09:23:42.671182Z",
     "iopub.status.idle": "2024-05-05T09:23:42.692910Z",
     "shell.execute_reply": "2024-05-05T09:23:42.689991Z",
     "shell.execute_reply.started": "2024-05-05T09:23:42.672204Z"
    },
    "tags": []
   },
   "outputs": [],
   "source": [
    "for item in c:\n",
    "    if 'Miel' in item and item not in l_dairy_vegan:\n",
    "        print('\"' + item  + '\",')"
   ]
  },
  {
   "cell_type": "code",
   "execution_count": 30,
   "id": "295a45c1-64c8-4900-85fa-de112129e070",
   "metadata": {
    "execution": {
     "iopub.execute_input": "2024-05-05T09:23:42.945048Z",
     "iopub.status.busy": "2024-05-05T09:23:42.944530Z",
     "iopub.status.idle": "2024-05-05T09:23:42.959265Z",
     "shell.execute_reply": "2024-05-05T09:23:42.957349Z",
     "shell.execute_reply.started": "2024-05-05T09:23:42.945007Z"
    },
    "tags": []
   },
   "outputs": [],
   "source": [
    "# TODO tutte le ricette con 'pasta' nel nome - primo ingrediente dump to file e check manually\n",
    "# ma solo se non sta nelle verdure\n",
    "\n",
    "l_pasta_titles = []\n",
    "for i in range(len(l_titles)):\n",
    "    ingrs = [item[0] for item in l_ingrs[i]]\n",
    "    if 'pasta' in l_titles[i]:\n",
    "        if ingrs[0] not in l_verdure:\n",
    "            l_pasta_titles.append(ingrs[0])"
   ]
  },
  {
   "cell_type": "code",
   "execution_count": 31,
   "id": "a9355e5c-1b9c-4dbb-8363-258278ef7113",
   "metadata": {
    "execution": {
     "iopub.execute_input": "2024-05-05T09:23:43.276494Z",
     "iopub.status.busy": "2024-05-05T09:23:43.275974Z",
     "iopub.status.idle": "2024-05-05T09:23:43.288472Z",
     "shell.execute_reply": "2024-05-05T09:23:43.286790Z",
     "shell.execute_reply.started": "2024-05-05T09:23:43.276454Z"
    },
    "tags": []
   },
   "outputs": [
    {
     "data": {
      "text/plain": [
       "{'Basilico',\n",
       " 'Cozze',\n",
       " 'Farina 00',\n",
       " 'Riso Carnaroli',\n",
       " 'Semola di grano duro rimacinata',\n",
       " 'Taleggio',\n",
       " 'Uova'}"
      ]
     },
     "execution_count": 31,
     "metadata": {},
     "output_type": "execute_result"
    }
   ],
   "source": [
    "set(l_pasta_titles) - set(l_pasta)"
   ]
  },
  {
   "cell_type": "code",
   "execution_count": 32,
   "id": "9e25e304-a09e-4eb5-8cd9-2bc7ea20be84",
   "metadata": {
    "execution": {
     "iopub.execute_input": "2024-05-05T09:23:43.661142Z",
     "iopub.status.busy": "2024-05-05T09:23:43.660621Z",
     "iopub.status.idle": "2024-05-05T09:23:43.674450Z",
     "shell.execute_reply": "2024-05-05T09:23:43.673358Z",
     "shell.execute_reply.started": "2024-05-05T09:23:43.661102Z"
    },
    "tags": []
   },
   "outputs": [
    {
     "data": {
      "text/plain": [
       "{'ingredients': [['Cipolle', '(miste: dorate, bianche e rosse) 1 kg'],\n",
       "  ['Burro', '50 g'],\n",
       "  ['Zucchero', '½ cucchiaino'],\n",
       "  ['Sale fino', '1 cucchiaino'],\n",
       "  ['Salvia', 'q.b.'],\n",
       "  ['Brodo vegetale', 'q.b.'],\n",
       "  ['Vino bianco', '1 bicchiere'],\n",
       "  ['Baguette', '1'],\n",
       "  ['Langres', '20 g'],\n",
       "  ['Brie', '(o Resit Brebis) 20 g'],\n",
       "  ['Boursault', '20 g'],\n",
       "  ['Camembert', '20 g'],\n",
       "  [\"Olio extravergine d'oliva\", 'q.b.'],\n",
       "  ['Pepe nero', 'q.b.']],\n",
       " 'category': 'Primi piatti'}"
      ]
     },
     "execution_count": 32,
     "metadata": {},
     "output_type": "execute_result"
    }
   ],
   "source": [
    "d_rec['zuppa_di_cipolle_ai_4_formaggi_francesi']"
   ]
  },
  {
   "cell_type": "code",
   "execution_count": 33,
   "id": "67f5b7d5-f2d8-4538-b40b-c8b1435e5255",
   "metadata": {
    "execution": {
     "iopub.execute_input": "2024-05-05T09:23:44.032735Z",
     "iopub.status.busy": "2024-05-05T09:23:44.032217Z",
     "iopub.status.idle": "2024-05-05T09:23:44.049298Z",
     "shell.execute_reply": "2024-05-05T09:23:44.047677Z",
     "shell.execute_reply.started": "2024-05-05T09:23:44.032695Z"
    },
    "tags": []
   },
   "outputs": [
    {
     "name": "stdout",
     "output_type": "stream",
     "text": [
      "risotto_al_pesto_di_zucchine_yogurt_e_mazzancolle {'Cipolle bianche', 'Zucchine', 'Carote', 'Sedano', 'Pinoli', 'Scalogno'}\n",
      "orecchiette_allo_yogurt_con_zucchine {'Zucchine', 'Porri', 'Pisellini', 'Aglio'}\n",
      "vellutata_di_piselli_e_patate_con_briciole_di_tonno {'Pisellini', 'Cipolle bianche', 'Patate'}\n",
      "risotto_alla_barbabietola {'Barbabietole precotte', 'Scalogno'}\n",
      "insalata_di_orzo_e_salmone {'Avocado', 'Arance', 'Finocchi', 'Spinacini'}\n"
     ]
    }
   ],
   "source": [
    "# improvement checks\n",
    "for i in range(len(l_ingrs)):\n",
    "    ingrs = [item[0] for item in l_ingrs[i]]\n",
    "    #if set(l_verdure) & set(ingrs) != set() and set(l_pasta) & set(ingrs) == set() and set(l_riso) & set(ingrs) == set():\n",
    "    if 'Yogurt greco' in set(ingrs):\n",
    "        print(l_titles[i], set(l_verdure) & set(ingrs))"
   ]
  },
  {
   "cell_type": "code",
   "execution_count": 34,
   "id": "d80859b8-a204-4788-92b2-4f2961263e5f",
   "metadata": {
    "execution": {
     "iopub.execute_input": "2024-05-05T09:23:44.454358Z",
     "iopub.status.busy": "2024-05-05T09:23:44.453793Z",
     "iopub.status.idle": "2024-05-05T09:23:44.469636Z",
     "shell.execute_reply": "2024-05-05T09:23:44.465208Z",
     "shell.execute_reply.started": "2024-05-05T09:23:44.454302Z"
    },
    "tags": []
   },
   "outputs": [
    {
     "data": {
      "text/plain": [
       "[[\"Tonno sott'olio\", 'con limone e pepe nero, sgocciolato 100 g'],\n",
       " ['Orzo perlato', '200 g'],\n",
       " ['Zafferano in pistilli', '0,3 g'],\n",
       " ['Asparagi', '250 g'],\n",
       " [\"Olio extravergine d'oliva\", 'q.b.'],\n",
       " ['Sale fino', 'q.b.'],\n",
       " ['Feta', '50 g']]"
      ]
     },
     "execution_count": 34,
     "metadata": {},
     "output_type": "execute_result"
    }
   ],
   "source": [
    "l_ingrs[0]"
   ]
  },
  {
   "cell_type": "code",
   "execution_count": 35,
   "id": "b53e0bd2-17e7-49bc-b8c8-98e5ce883e79",
   "metadata": {
    "execution": {
     "iopub.execute_input": "2024-05-05T09:23:44.878068Z",
     "iopub.status.busy": "2024-05-05T09:23:44.877535Z",
     "iopub.status.idle": "2024-05-05T09:23:44.905746Z",
     "shell.execute_reply": "2024-05-05T09:23:44.896563Z",
     "shell.execute_reply.started": "2024-05-05T09:23:44.878028Z"
    },
    "tags": []
   },
   "outputs": [
    {
     "data": {
      "text/plain": [
       "(857,\n",
       " dict_keys([\"tonno sott'olio\", 'orzo perlato', 'zafferano in pistilli', 'asparagi', \"olio extravergine d'oliva\", 'sale fino', 'feta', 'scialatielli', 'peperoni rossi', 'peperoni gialli', 'salsiccia', 'vino bianco', 'aglio', 'rosmarino', 'menta', 'fusilli bucati corti', 'melanzane', 'zucchine bianche', 'primosale', 'pepe nero', 'basilico', 'cozze', 'vongole', 'riso integrale', 'prezzemolo', 'scorza di limone', 'sedano', 'carote', 'cipolle rosse', 'pisellini', 'cipollotto fresco', 'zucchine', 'patate', 'spinaci', 'grana padano dop', 'acqua', 'pane casereccio', 'farina 00', 'pangrattato', 'cipolle dorate', 'burro', 'lardo', 'fagioli borlotti secchi', 'passata di pomodoro', 'bucatini', 'pancetta affumicata', 'pomodorini ciliegino', 'timo', 'zucchero', 'origano', \"tagliatelle all'uovo\", 'fave', 'stracciatella', 'guanciale', 'porri', 'riso basmati', 'olive nere greche', 'mini pipe rigate', 'mozzarella', 'olive nere', 'quinoa', 'fagiolini', 'pomodori sardi (camone)', 'ravanelli', \"lasagne all'uovo\", 'cipolle', 'bacche di ginepro', 'pepe nero in grani', 'alloro', 'cappone', 'cognac', 'latte intero', 'spaghettini', 'prosciutto cotto', 'provola', 'uova', 'noce moscata', 'maggiorana', 'farfalle integrali', 'fiori di zucca', 'pomodorini secchi sottolio', 'succo di limone', 'vermicelli', 'peperoncino fresco', 'zenzero fresco', 'pak choi', 'salsa di soia', 'pasta di curry', 'petto di pollo', 'sale grosso', 'erba cipollina', 'pasta fresca', 'zucca delica', 'gamberi', 'rum', 'pistacchi tostati', 'scalogno', 'calamarata', 'calamari', 'triplo concentrato di pomodoro', 'sale', 'spaghettoni', 'broccoli', 'barbabietole', 'parmigiano reggiano dop', 'pinoli', 'panna fresca liquida', 'ricotta salata', 'tilsit', 'ricotta vaccina', 'pecorino', 'spaghetti', 'mazzancolle', 'scorza di lime', 'olio di oliva', \"paglia e fieno all'uovo\", 'carne bovina', 'carne di suino', 'pollo', 'tacchino', 'funghi porcini', 'pomodori ramati', 'peperoncino', 'salvia', 'ortiche', 'lenticchie secche', 'curcuma in polvere', 'pane nero ai cereali', 'pomodorini datterini', 'paprika', 'farro perlato', 'pomodori piccadilly', 'capperi sotto sale', 'zucchine trombetta', 'cipolle ramate', 'penne rigate', 'ricotta di pecora', 'riso di semola', 'brodo vegetale', 'robiola', 'salmone affumicato', 'semi di papavero', \"tagliatelle larghe all'uovo\", 'rose', 'pepe bianco', 'tubetti', 'burrata', 'ceci precotti', 'vino rosso', \"cannelloni all'uovo\", 'casarecce', 'riso carnaroli', 'olive taggiasche', \"acciughe sott'olio\", 'riso', 'fagiolini piattoni', 'cetrioli', 'mandorle in scaglie', 'olio di sesamo', 'aceto di riso', 'miso', 'semi di sesamo', 'semi di sesamo nero', 'pecorino romano', 'finocchietto selvatico', 'vino bianco secco', 'castagne', 'pane', 'spaghetti 5 cereali', 'tranci di salmone', 'finocchi', \"scorza d'arancia\", \"succo d'arancia\", 'semola di grano duro rimacinata', 'pepe', 'zucca gialla', 'yogurt greco 2% di grassi', 'riso vialone nano', 'verza', 'pancetta (tesa)', 'fregola', 'salmone', 'scampi', 'rana pescatrice', 'brodo di pesce', 'cavoli rossi', 'mezze penne rigate integrali', 'pere', 'gherigli di noci', 'pepe rosa', 'radicchio', 'speck', 'ceci secchi', 'funghi champignon', 'pennette rigate 5 cereali', 'mandorle pelate', 'pomodori pelati', 'concentrato di pomodoro', 'peperoncino secco', 'cime di rapa', 'cipolle bianche', 'farina di grano saraceno', 'tuorli', 'roquefort', 'patate bianche', 'mezze penne rigate', 'carciofi', 'pomodori datterini pelati', 'gorgonzola', 'noci', 'latte', 'salame', 'ziti', 'champagne', 'patate rosse', 'filetti di tonno', 'pancetta', 'limoni', 'brandy', 'pepe in grani', 'pomodori di pachino', 'ditalini', 'fagioli cannellini precotti', 'cavolo nero', 'rucola', 'penne rigate bio', 'melagrana', 'vino rosato', 'pici', 'aceto di vino bianco', 'mozzarelline ciliegine', 'penne rigate senza glutine', 'anacardi', 'lievito alimentare', 'linguine', 'pistacchi', \"spaghetti alla chitarra all'uovo\", 'polpo', 'funghi portobello', 'brodo di carne', 'tortiglioni', 'peperoni', 'mandorle', 'rigatoni', 'pomodorini gialli', 'paccheri', 'uva bianca', 'prosciutto crudo', 'fumetto di crostacei', 'paprika affumicata', 'fontina', 'gnocchetti sardi', 'pecorino sardo', 'mini farfalle', 'piselli surgelati', 'scamorza (provola)', \"petto d'anatra\", 'scamorza affumicata', 'mezze maniche rigate', \"pomodori secchi sott'olio\", 'olio di semi di arachide', 'uova sode', 'stracchino', 'zafferano', 'casarecce di ceci', 'scarola', \"fettuccine all'uovo\", 'tartufo nero', 'riso per sushi', 'filetto di salmone', 'succo di lime', 'avocado', 'olio di semi di mais', 'mele granny smith', 'ditaloni rigati', 'legumi misti', 'cotenna di suino', 'costine di maiale', 'maiale', 'cicoria', 'bietole', 'sbrinz', 'cipolle rosse di tropea', 'freselle', 'granella di pistacchi', 'cavolfiori romaneschi', 'taleggio', 'zucca', 'groviera', 'riso ribe', 'melone', 'spaghetti integrali', 'penne di lenticchie rosse', 'sedano rapa', 'zucchero di canna', 'vermicelli di riso', 'nduja', 'lime', 'salsa sriracha', 'salsa teriyaki', 'coriandolo in polvere', 'amaretti', 'sedanini rigati', 'miele millefiori', 'fasolari', 'puntarelle', 'taccole', 'tonno', 'pesce spada', \"tagliolini all'uovo\", 'manzo', 'provolone', 'fusilli integrali', 'caprino', 'olive di gaeta', 'fegato di pollo', 'brodo di pollo', 'ricotta', 'olive verdi', 'riso nero venere', 'gamberoni', 'valtellina casera', 'emmentaler', 'uova di lompo (succedaneo caviale)', 'seppie', 'vongole veraci', 'bottarga di muggine', 'fusilli', 'spaghetti bio', 'cavolo cappuccio', 'cavolo rosso', 'barolo', 'farina', 'cavolfiore', 'pepe nero&curcuma', \"lasagne sottili all'uovo\", 'nero di seppia', 'fumetto di pesce', 'agnello', 'brigante', 'paprika dolce', 'bulgur', 'cocomero (anguria)', 'cipollotti', 'brodo', 'macinato di manzo', 'olio di semi', 'lemongrass', 'miele', 'tagliatelle', 'fiordilatte', 'vino', 'fagioli rossi precotti', 'broccoli romaneschi', 'farfalle', 'cavatelli', 'fettuccine', 'spaghetti quadrati', 'pane raffermo', 'strozzapreti', 'anelli siciliani', 'caciocavallo', 'semola', 'macinato di maiale', 'fusilli 5 cereali', 'pancetta dolce', 'biete', 'olio di cocco', 'cocco rapè', 'pepe rosa in grani', 'pimento', 'lorighittas', 'orecchiette', 'luganega', 'birra analcolica', 'barbabietole precotte', 'aneto', 'trenette', 'acciughe (alici)', 'mini penne rigate', 'farina di mais per polenta istantanea', 'fagioli borlotti precotti', 'busto di pollo', 'lasagne', 'funghi pioppini', 'asiago', 'zucchine baby', 'pomodori cuore di bue', \"lasagne verdi all'uovo\", 'pancetta fresca', 'reginette', 'uva passa', 'nocciole', 'nocciole intere spellate', 'pastinaca', 'funghi secchi', 'panini ai cereali', 'mascarpone', 'farina di castagne', 'cipollotti rossi', 'pistacchi tostati salati', 'farina di farro integrale', 'mezzi canneroni', 'caciocavallo silano', 'patate dolci (o americane)', 'fusilli senza glutine', 'spaghetti rigati', 'birra rossa', 'maccheroncini al pettine', 'culatello', 'pere kaiser', 'cacao amaro in polvere', 'salsa alle noci', 'cous cous', \"pappardelle all'uovo\", 'fiori eduli', 'cavoletti di bruxelles', 'fettuccine 5 cereali e uova', 'crescenza', 'lattuga', 'yogurt', 'pane integrale', 'riso arborio', 'cipolle borettane', 'fagioli borlotti', 'pistacchi non salati', 'frutti di bosco', 'coda di rospo', 'gallinella', 'triglie', 'canocchie', 'arance', 'semi di finocchio', 'curry', 'pipe rigate', 'zucca violina', 'noodles', \"torchietti all'uovo\", 'aglio rosso', 'chicchi di farina di legumi (lenticchie rosse, ceci e piselli)', 'porto', 'aceto balsamico', 'controfiletto di manzo', 'anice stellato', 'semi di coriandolo', 'coriandolo', 'germogli di soia', 'susine', 'zucchero a velo', 'pennoni', 'tofu', 'daikon', 'alga wakame', 'pomodori pizzutelli', 'ricotta di bufala', 'provola affumicata', 'faraona', 'sogliola', 'orata', 'pesto alla genovese', 'fragole', 'senape', 'cannolicchi', 'formaggio', 'funghi prataioli', 'farina di riso', 'casizolu', 'uva fragola', 'frutti di cappero ', 'cardamomo', 'gamberetti', 'farina di grano duro', 'orecchiette fresche', 'pere decana', 'pannerone', 'pere williams', \"peperoni sott'olio\", 'aceto di vino rosso', 'melanzane ovali nere', 'panna acida', 'semi di zucca', 'tortellini', 'pancarrè', 'yogurt greco', 'fagioli bianchi precotti', 'carote baby', 'capesante', 'edamame', 'mais', 'peperoncino in polvere', 'trofie', 'pennette rigate integrali', 'noci pecan', 'funghi chiodini', 'spaghetti senza glutine', 'fusilloni', 'lardo di colonnata', 'gnocchi di patate', 'cellentani', 'scorfano', 'castelmagno', 'pomodori perini', 'mini fusilli', 'riso roma', 'paprika piccante', 'ricotta mista', 'spumante', 'panettone', 'monte veronese', 'branzino (spigola)', 'riso rosso', 'asparagi di mare', 'cicerchie secche', 'pomodori', 'cannella in polvere', 'lumaconi', 'friggitelli', 'fettine di manzo', 'conchiglioni', 'mortadella', 'farina di grano tenero', 'formaggio fiscidu', 'menta essiccata', 'sugo di pomodoro', 'fave secche', 'orzo', 'fagioli rossi secchi', 'fagioli cannellini secchi', 'vitello', 'sarde', 'albumi', 'ghiaccio', 'polpa di pomodoro', 'seppioline', 'funghi orecchioni o ostrica (pleurotus)', 'funghi finferli (gallinacci)', 'troccoli freschi', 'spinacini', 'arachidi', 'zucca mantovana', 'mostarda mantovana', 'barba di frate (agretti)', 'ricotta affumicata', 'chicchi di farina di legumi (lenticchie rosse e piselli)', 'farina di farro', 'erbette', 'pasta di salame', 'bonarda', 'pesce di mare', 'nasello', 'pane toscano', 'cumino', 'zenzero in polvere', 'pasta', 'risotto allo zafferano', 'zucca butternut', 'mirtilli', 'astice', 'farina integrale', 'chiodi di garofano', 'macinato di coniglio', 'lonza di maiale', 'cosce di coniglio', 'moscardini', 'mix di cereali e quinoa', 'zucchine tonde', 'pepe di cubebe', 'midollo', 'farina istantanea per polenta', 'fegatini di pollo', 'granchio blu', 'pomodorini in scatola', 'crostini di pane', 'pesche', 'piselli precotti', 'farina di kamut®', 'bitto', 'semolino', 'uvetta', 'marsala', 'cedro candito', 'mostaccino', 'mentine', 'trippa di bovino', 'quartirolo lombardo', 'semi di lino', 'semi di girasole', 'germogli di crescione', 'fave surgelate', 'farina di grano arso', 'coregone', 'fecola di patate', 'coniglio', 'formaggio stelvio', 'semi di cumino', 'ragusano dop', 'fusilli di lenticchie rosse', 'pecorino toscano', 'stelline senza glutine', 'farina di mais', 'amido di mais (maizena)', 'cotechino', 'lenticchie', 'verdure miste', 'filetto di merluzzo', 'dentice', 'aglio nero', 'bottarga di tonno', 'riso originario', 'cotechino precotto', 'toma', 'pennette rigate', 'vodka', 'baccalà dissalato', 'ditaloni', 'tortiglioni integrali', 'peperoni verdi', 'cetriolini sottaceto', 'risoni', \"capperi sott'aceto\", 'farina 0', 'vino di riso', 'patate viola', 'carote viola', 'cerfoglio', 'dragoncello', 'linguine senza glutine', 'sedani rigati', 'zucca napoletana', 'castagne precotte', 'mini ruote', 'fichi', 'tomini', 'caciotta romana', 'salsa di pomodoro', 'prosecco', 'capriolo', 'raspadura', 'edamer', 'liquirizia in polvere', 'acciughe sotto sale', 'formaggio fresco spalmabile', 'mix di cereali', 'tahina', 'montasio', 'uva passolina', 'tartufi di mare', 'chicchi di farina di legumi (lenticchie rosse e ceci)', 'pere abate', 'tête de moine', 'colatura di alici', 'pecorino di fossa', 'amaro', 'maccheroncini', 'olio di semi di girasole', 'merluzzo', 'ginepro', 'mozzarella di bufala', 'ricci di mare', 'tortelloni', 'erbe aromatiche', 'spaghetti di soia', 'aceto di mele', 'tonno al naturale', 'toma piemontese', 'pomodorini', 'songino', 'lamponi', 'fiocchi di latte', 'pennoni rigati', 'ditalini senza glutine', 'rape', 'cannella in stecche', 'ribes', 'latte senza lattosio', 'zampone', 'mele fuji', 'formaggio di fossa', 'pepe verde', 'totani', 'spaghettini integrali', 'tartufi neri', 'pasta sfoglia', 'brie', 'fegato di vitello', 'cardi', 'alga kombu', 'pancia di maiale', 'niboshi', 'katsuobushi', 'tamari', 'sake', 'mirin', 'strutto', 'alga nori', 'topinambur', 'germogli di barbabietola', 'cinghiale', 'cioccolato fondente', 'carciofi mammole', 'provolone piccante', 'asparagi bianchi', 'conchiglie', 'trota', 'trota salmonata', 'platessa', 'arachidi salate tostate', 'grano', 'sardine', 'caviale', 'cumino in polvere', 'mele golden', \"garganelli all'uovo\", 'borragine', 'bigoli', 'pane integrale multi-cereali', 'piselli secchi', 'caciottina', 'tagliatelle 5 cereali e uova', 'cotechino modena precotto', 'pajata', 'tagliata di petto di pollo', 'zucchine gialle', 'dashi', 'lenticchie rosse decorticate', 'farro', 'mango', 'ananas', 'ricotta di capra', 'birra blanche', 'aglio fresco', 'pomodori san marzano', 'pasta mista', 'gruyère dop', 'spianata calabrese', 'birra chiara', 'yogurt bianco naturale', 'acqua gassata', 'bicarbonato', 'birra scura', 'salamella mantovana', 'capperi', 'peperoncino dolce', 'peperoncino verde dolce', 'fondo bruno', 'raschera dop', 'pesce persico', 'besciamella', 'biancostato di manzo', 'pepe misto in grani', 'indivia belga', \"fagioli dall'occhio secchi\", 'olive', 'burro acido', 'pepe bianco in grani', 'scorza di pompelmo', 'patate novelle', 'glassa di aceto balsamico', 'tagliatelle senza glutine', 'lattuga romana', 'formaggio di montagna', 'fontal', 'baguette', 'langres', 'boursault', 'camembert', 'broccoletti', 'ciliegie', 'nocciole intere', 'frattaglie di pollo', 'tabasco®', 'cavatappi', 'emmentaler dop', 'funghi', 'troccoli', 'asparagi selvatici', 'pancetta arrotolata', 'quaglia', 'latte di soia', 'pepe di sichuan', 'lasagne ricce', 'tortiglioni senza glutine', 'farina di mais bramata', 'pannocchie precotte', 'granchio', 'sgombro', 'pomodori secchi', 'peperoncino verde piccante', 'tartufo bianco', 'fagioli cannellini', 'fichi viola', 'capellini', 'fagioli', 'cavolo riccio (kale)', 'casolet', 'filoncini di pane', 'cointreau', 'lievito di birra secco', 'panna fresca senza lattosio', 'farina di ceci', \"pappardelle ricce all'uovo\", 'cinta senese', 'latte di riso', 'margarina vegetale', 'braciole di maiale', 'chiodi di garofano macinati', 'filini', 'sbrinz dop', 'costolette di agnello', 'spaghetti di riso', 'gnocchetti di patate', 'mentuccia', 'fagioli di spagna', 'latte di cocco', 'seitan', 'gnocchi di riso', \"capperi sott'olio\", 'radiatori', 'pennoni lisci', 'mele red delicious', 'polipetti', 'peperoncini piccanti', 'lepre', 'pimenton', 'filetto di baccalà', 'pane di segale', 'uva sultanina', 'prescinseua', 'curcuma fresca', 'bottarga', 'alga spirulina', 'mini tortiglioni', 'salamella', 'uva rossa', 'pomodori costoluti', 'funghi misti', 'fagioli neri secchi', 'tortilla chips', 'caccavelle', 'taralli', 'malto di riso', 'cappello del prete', 'cervella di vitello', 'mele evelina', \"cosciotto d'agnello\", 'melanzane tonde', 'filetti di platessa', \"farfalline all'uovo\", 'pane pugliese', 'rombo', 'birra', 'fragoline di bosco', 'penne lisce', 'cachi mela', 'sedano bianco', 'miele di castagno', 'busiate']))"
      ]
     },
     "execution_count": 35,
     "metadata": {},
     "output_type": "execute_result"
    }
   ],
   "source": [
    "len(c), c.keys()"
   ]
  },
  {
   "cell_type": "code",
   "execution_count": 36,
   "id": "56bb3db7-2290-48b8-9096-18b70c7e88be",
   "metadata": {
    "execution": {
     "iopub.execute_input": "2024-05-05T09:23:45.699208Z",
     "iopub.status.busy": "2024-05-05T09:23:45.674120Z",
     "iopub.status.idle": "2024-05-05T09:23:45.761795Z",
     "shell.execute_reply": "2024-05-05T09:23:45.733534Z",
     "shell.execute_reply.started": "2024-05-05T09:23:45.699122Z"
    },
    "tags": []
   },
   "outputs": [
    {
     "data": {
      "text/plain": [
       "0"
      ]
     },
     "execution_count": 36,
     "metadata": {},
     "output_type": "execute_result"
    }
   ],
   "source": [
    "c['Pesce']"
   ]
  },
  {
   "cell_type": "code",
   "execution_count": 37,
   "id": "81f188cb-ff80-40c1-a8b9-c4f60a238954",
   "metadata": {
    "execution": {
     "iopub.execute_input": "2024-05-05T09:23:46.153073Z",
     "iopub.status.busy": "2024-05-05T09:23:46.152538Z",
     "iopub.status.idle": "2024-05-05T09:23:46.160811Z",
     "shell.execute_reply": "2024-05-05T09:23:46.159420Z",
     "shell.execute_reply.started": "2024-05-05T09:23:46.153030Z"
    },
    "tags": []
   },
   "outputs": [],
   "source": [
    "c = {k: c[k] for k in c if c[k] > 1}"
   ]
  },
  {
   "cell_type": "code",
   "execution_count": 38,
   "id": "a338e6c6-304f-45b4-9d2f-e254acee2f44",
   "metadata": {
    "execution": {
     "iopub.execute_input": "2024-05-05T09:23:46.513060Z",
     "iopub.status.busy": "2024-05-05T09:23:46.512179Z",
     "iopub.status.idle": "2024-05-05T09:23:51.644055Z",
     "shell.execute_reply": "2024-05-05T09:23:51.642779Z",
     "shell.execute_reply.started": "2024-05-05T09:23:46.513010Z"
    },
    "tags": []
   },
   "outputs": [
    {
     "data": {
      "text/plain": [
       "<Figure size 720x864 with 0 Axes>"
      ]
     },
     "execution_count": 38,
     "metadata": {},
     "output_type": "execute_result"
    },
    {
     "data": {
      "text/plain": [
       "<AxesSubplot:>"
      ]
     },
     "execution_count": 38,
     "metadata": {},
     "output_type": "execute_result"
    },
    {
     "data": {
      "text/plain": [
       "(0.0, 100.0, 0.0, 100.0)"
      ]
     },
     "execution_count": 38,
     "metadata": {},
     "output_type": "execute_result"
    },
    {
     "data": {
      "text/plain": [
       "Text(0.5, 1.0, 'Treemap Example')"
      ]
     },
     "execution_count": 38,
     "metadata": {},
     "output_type": "execute_result"
    },
    {
     "data": {
      "image/png": "[encoded data removed]",
      "text/plain": [
       "<Figure size 720x864 with 1 Axes>"
      ]
     },
     "metadata": {
      "needs_background": "light"
     },
     "output_type": "display_data"
    }
   ],
   "source": [
    "sizes = c.values()\n",
    "\n",
    "# Labels for each rectangle (optional)\n",
    "labels = c.keys()\n",
    "\n",
    "# Colors for rectangles (optional)\n",
    "#colors = ['#ff9999','#66b3ff','#99ff99','#ffcc99']\n",
    "\n",
    "# Create treemap\n",
    "plt.figure(figsize=(10, 12))\n",
    "squarify.plot(sizes=sizes, label=labels, \n",
    "              #color='blue', \n",
    "             # alpha=0.7\n",
    "             )\n",
    "plt.axis('off')  # Remove axis\n",
    "plt.title(\"Treemap Example\")\n",
    "plt.show()\n",
    "\n",
    "#plt.savefig('treemap.jpg')"
   ]
  },
  {
   "cell_type": "markdown",
   "id": "54816117-3dd6-44d4-a5ec-ae8796b971fc",
   "metadata": {},
   "source": [
    "## Base + companatico"
   ]
  },
  {
   "cell_type": "code",
   "execution_count": 53,
   "id": "0254929e-5a8d-414f-961a-c5ce0696aa3e",
   "metadata": {
    "execution": {
     "iopub.execute_input": "2024-05-05T10:16:37.495691Z",
     "iopub.status.busy": "2024-05-05T10:16:37.494260Z",
     "iopub.status.idle": "2024-05-05T10:16:37.827376Z",
     "shell.execute_reply": "2024-05-05T10:16:37.822771Z",
     "shell.execute_reply.started": "2024-05-05T10:16:37.495602Z"
    },
    "tags": []
   },
   "outputs": [
    {
     "name": "stdout",
     "output_type": "stream",
     "text": [
      "insalata_di_riso\n",
      "insalata_di_riso_basmati_e_rosso_e_cubetti_di_pancetta_dolce\n",
      "risotto_alla_milanese_con_gambero_viola\n"
     ]
    }
   ],
   "source": [
    "# Primi piatti - rileggi per sicurezza \n",
    "\n",
    "l_titles = [k for k in d_rec if d_rec[k]['category']=='Primi piatti']\n",
    "l_ingrs = [d_rec[k]['ingredients'] for k in d_rec \n",
    "           if d_rec[k]['category']=='Primi piatti'\n",
    "          ]\n",
    "\n",
    "d_primi = {\n",
    "          'Pasta + carne + pesce': 0, 'Riso + carne + pesce': 0,\n",
    "          'Pasta + veg': 0, 'Pasta + carne': 0, 'Pasta + pesce': 0,\n",
    "          'Riso + veg': 0, 'Riso + carne': 0, 'Riso + pesce': 0,\n",
    "          'Far/cer + veg': 0, 'Far/cer + carne': 0, 'Far/cer + pesce': 0,\n",
    "          'Veg': 0, 'Else': 0\n",
    "          }\n",
    "\n",
    "for i in range(len(l_titles)):\n",
    "    title_ingrs = [item[0] for item in l_ingrs[i]]\n",
    "    \n",
    "    pasta = set(title_ingrs) & set(l_pasta) != set()\n",
    "    riso = set(title_ingrs) & set(l_riso) != set()\n",
    "    far_cer = set(title_ingrs) & set(l_farine) != set()\n",
    "    gnocchi = set(title_ingrs) & set(l_gnocchi) != set()\n",
    "    \n",
    "    veg = set(title_ingrs) & set(l_verdure) != set()\n",
    "    carne = set(title_ingrs) & set(l_carne) != set()\n",
    "    pesce = set(title_ingrs) & set(l_pesce) != set()\n",
    "    \n",
    "    # carne e pesce assieme - o pasta o riso\n",
    "    if pasta and carne and pesce:\n",
    "        d_primi['Pasta + carne + pesce'] += 1\n",
    "        #print(l_titles[i])\n",
    "    elif riso and carne and pesce:\n",
    "        d_primi['Riso + carne + pesce'] += 1\n",
    "        print(l_titles[i])\n",
    "    \n",
    "    # pasta e uno degli altri - veg puo' essere un terzo ingred \n",
    "    elif pasta and carne:\n",
    "        d_primi['Pasta + carne'] += 1\n",
    "        #print(l_titles[i])\n",
    "    elif pasta and pesce:\n",
    "        d_primi['Pasta + pesce'] += 1\n",
    "        #print(l_titles[i])\n",
    "    elif pasta and veg:   # solo pasta e veg senza carne o pesce\n",
    "        d_primi['Pasta + veg'] += 1\n",
    "        #print(l_titles[i])\n",
    "\n",
    "    # stessa cosa per riso e resto\n",
    "    elif riso and carne:\n",
    "        d_primi['Riso + carne'] += 1\n",
    "        #print(l_titles[i])\n",
    "    elif riso and pesce:\n",
    "        d_primi['Riso + pesce'] += 1 \n",
    "#        print(l_titles[i])\n",
    "    elif riso and veg:\n",
    "        d_primi['Riso + veg'] += 1 \n",
    "        #print(l_titles[i])\n",
    "        \n",
    "    elif (far_cer and carne) or (gnocchi and carne):\n",
    "        d_primi['Far/cer + carne'] += 1\n",
    "        #print(l_titles[i])\n",
    "    elif (far_cer and pesce) or (gnocchi & pesce):\n",
    "        d_primi['Far/cer + pesce'] += 1    \n",
    "        #print(l_titles[i])\n",
    "    elif (far_cer and veg) or (gnocchi & veg):\n",
    "        d_primi['Far/cer + veg'] += 1\n",
    "        #print(l_titles[i])\n",
    "        \n",
    "    # veg only - vellutate, minestre\n",
    "    elif veg: \n",
    "        d_primi['Veg'] += 1\n",
    "        #print(l_titles[i])\n",
    "        \n",
    "    # il resto - shoudl be small\n",
    "    # sono ricette su come fare la pasta (da sola)\n",
    "    # o pasta/riso con sole spezie o soli condimenti \n",
    "    # o pasta con solo formaggio\n",
    "    else:\n",
    "        d_primi['Else'] += 1\n",
    "        #print(l_titles[i])"
   ]
  },
  {
   "cell_type": "code",
   "execution_count": 695,
   "id": "f4028493-f355-4e77-bab8-3cd9056e73ab",
   "metadata": {
    "execution": {
     "iopub.execute_input": "2024-04-01T15:17:55.377664Z",
     "iopub.status.busy": "2024-04-01T15:17:55.377196Z",
     "iopub.status.idle": "2024-04-01T15:17:55.388807Z",
     "shell.execute_reply": "2024-04-01T15:17:55.387288Z",
     "shell.execute_reply.started": "2024-04-01T15:17:55.377626Z"
    },
    "tags": []
   },
   "outputs": [
    {
     "data": {
      "text/plain": [
       "{'Pasta + carne + pesce': 6,\n",
       " 'Riso + carne + pesce': 3,\n",
       " 'Pasta + veg': 271,\n",
       " 'Pasta + carne': 219,\n",
       " 'Pasta + pesce': 248,\n",
       " 'Riso + veg': 112,\n",
       " 'Riso + carne': 53,\n",
       " 'Riso + pesce': 53,\n",
       " 'Far/cer + veg': 189,\n",
       " 'Far/cer + carne': 95,\n",
       " 'Far/cer + pesce': 64,\n",
       " 'Veg': 57,\n",
       " 'Else': 52}"
      ]
     },
     "execution_count": 695,
     "metadata": {},
     "output_type": "execute_result"
    }
   ],
   "source": [
    "d_primi"
   ]
  },
  {
   "cell_type": "code",
   "execution_count": 122,
   "id": "2af1cd19-86fb-401a-8ae1-280c7867aa4e",
   "metadata": {
    "execution": {
     "iopub.execute_input": "2024-04-06T17:12:54.828282Z",
     "iopub.status.busy": "2024-04-06T17:12:54.827759Z",
     "iopub.status.idle": "2024-04-06T17:12:54.999223Z",
     "shell.execute_reply": "2024-04-06T17:12:54.865229Z",
     "shell.execute_reply.started": "2024-04-06T17:12:54.828241Z"
    },
    "tags": []
   },
   "outputs": [
    {
     "ename": "NameError",
     "evalue": "name 'd_primi' is not defined",
     "output_type": "error",
     "traceback": [
      "\u001b[0;31m---------------------------------------------------------------------------\u001b[0m",
      "\u001b[0;31mNameError\u001b[0m                                 Traceback (most recent call last)",
      "Input \u001b[0;32mIn [122]\u001b[0m, in \u001b[0;36m<cell line: 1>\u001b[0;34m()\u001b[0m\n\u001b[0;32m----> 1\u001b[0m \u001b[38;5;28mlen\u001b[39m(l_titles), \u001b[38;5;28msum\u001b[39m(\u001b[43md_primi\u001b[49m\u001b[38;5;241m.\u001b[39mvalues())\n",
      "\u001b[0;31mNameError\u001b[0m: name 'd_primi' is not defined"
     ]
    }
   ],
   "source": [
    "len(l_titles), sum(d_primi.values())"
   ]
  },
  {
   "cell_type": "code",
   "execution_count": 692,
   "id": "a5868378-9f82-4329-90d3-f6d13ae5d42d",
   "metadata": {
    "execution": {
     "iopub.execute_input": "2024-04-01T14:40:18.326441Z",
     "iopub.status.busy": "2024-04-01T14:40:18.325212Z",
     "iopub.status.idle": "2024-04-01T14:40:18.845092Z",
     "shell.execute_reply": "2024-04-01T14:40:18.842746Z",
     "shell.execute_reply.started": "2024-04-01T14:40:18.326377Z"
    },
    "tags": []
   },
   "outputs": [
    {
     "data": {
      "text/plain": [
       "<Figure size 720x864 with 0 Axes>"
      ]
     },
     "execution_count": 692,
     "metadata": {},
     "output_type": "execute_result"
    },
    {
     "data": {
      "text/plain": [
       "<AxesSubplot:>"
      ]
     },
     "execution_count": 692,
     "metadata": {},
     "output_type": "execute_result"
    },
    {
     "data": {
      "text/plain": [
       "(0.0, 100.0, 0.0, 100.0)"
      ]
     },
     "execution_count": 692,
     "metadata": {},
     "output_type": "execute_result"
    },
    {
     "data": {
      "text/plain": [
       "Text(0.5, 1.0, 'Treemap Example')"
      ]
     },
     "execution_count": 692,
     "metadata": {},
     "output_type": "execute_result"
    },
    {
     "data": {
      "image/png": "[encoded data removed]",
      "text/plain": [
       "<Figure size 720x864 with 1 Axes>"
      ]
     },
     "metadata": {
      "needs_background": "light"
     },
     "output_type": "display_data"
    }
   ],
   "source": [
    "sizes = d_primi.values()\n",
    "\n",
    "# Labels for each rectangle (optional)\n",
    "labels = d_primi.keys()\n",
    "\n",
    "# Colors for rectangles (optional)\n",
    "#colors = ['#ff9999','#66b3ff','#99ff99','#ffcc99']\n",
    "\n",
    "# Create treemap\n",
    "plt.figure(figsize=(10, 12))\n",
    "squarify.plot(sizes=sizes, label=labels, \n",
    "              color='lightblue', \n",
    "             # alpha=0.7\n",
    "             )\n",
    "plt.axis('off')  # Remove axis\n",
    "plt.title(\"Treemap Example\")\n",
    "#plt.show()\n",
    "\n",
    "plt.savefig('treemap.jpg')"
   ]
  },
  {
   "cell_type": "code",
   "execution_count": null,
   "id": "055c4102-9549-4b2a-a56b-96a3717884d2",
   "metadata": {},
   "outputs": [],
   "source": []
  },
  {
   "cell_type": "code",
   "execution_count": null,
   "id": "ed2812f4-6a33-44c5-94d5-cbc9dbabfe18",
   "metadata": {},
   "outputs": [],
   "source": []
  },
  {
   "cell_type": "code",
   "execution_count": null,
   "id": "4e231a16-2309-488d-867d-b0be9931615f",
   "metadata": {},
   "outputs": [],
   "source": []
  },
  {
   "cell_type": "code",
   "execution_count": null,
   "id": "09521a0b-ad4b-469a-8a4b-70d540c1e9c4",
   "metadata": {},
   "outputs": [],
   "source": []
  },
  {
   "cell_type": "code",
   "execution_count": 120,
   "id": "e3964dfd-2f48-4615-a750-6f855a7a6e82",
   "metadata": {
    "execution": {
     "iopub.execute_input": "2024-04-06T17:10:37.757772Z",
     "iopub.status.busy": "2024-04-06T17:10:37.751293Z",
     "iopub.status.idle": "2024-04-06T17:10:37.907043Z",
     "shell.execute_reply": "2024-04-06T17:10:37.904310Z",
     "shell.execute_reply.started": "2024-04-06T17:10:37.757730Z"
    },
    "tags": []
   },
   "outputs": [
    {
     "data": {
      "text/plain": [
       "(119, 14, 3, 53)"
      ]
     },
     "execution_count": 120,
     "metadata": {},
     "output_type": "execute_result"
    },
    {
     "data": {
      "text/plain": [
       "(248, 83)"
      ]
     },
     "execution_count": 120,
     "metadata": {},
     "output_type": "execute_result"
    },
    {
     "data": {
      "text/plain": [
       "(72, 70)"
      ]
     },
     "execution_count": 120,
     "metadata": {},
     "output_type": "execute_result"
    },
    {
     "data": {
      "text/plain": [
       "(24, 47)"
      ]
     },
     "execution_count": 120,
     "metadata": {},
     "output_type": "execute_result"
    },
    {
     "data": {
      "text/plain": [
       "(53, 8, 41)"
      ]
     },
     "execution_count": 120,
     "metadata": {},
     "output_type": "execute_result"
    },
    {
     "data": {
      "text/plain": [
       "(28, 4)"
      ]
     },
     "execution_count": 120,
     "metadata": {},
     "output_type": "execute_result"
    },
    {
     "data": {
      "text/plain": [
       "(13, 13)"
      ]
     },
     "execution_count": 120,
     "metadata": {},
     "output_type": "execute_result"
    }
   ],
   "source": [
    "len(l_pasta), len(l_riso), len(l_gnocchi), len(l_farine)\n",
    "len(l_verdure), len(l_formaggi)\n",
    "len(l_carne), len(l_pesce)\n",
    "len(l_erbe), len(l_spezie)\n",
    "len(l_farine), len(l_semi), len(l_condimenti)\n",
    "len(l_bevande), len(l_uova)\n",
    "len(l_dolci), len(l_dairy_vegan)"
   ]
  },
  {
   "cell_type": "code",
   "execution_count": 135,
   "id": "fd99a7b6-bf5a-4ff1-b725-e9f7018c6e55",
   "metadata": {
    "execution": {
     "iopub.execute_input": "2024-04-06T17:16:25.702844Z",
     "iopub.status.busy": "2024-04-06T17:16:25.701716Z",
     "iopub.status.idle": "2024-04-06T17:16:26.028983Z",
     "shell.execute_reply": "2024-04-06T17:16:26.027518Z",
     "shell.execute_reply.started": "2024-04-06T17:16:25.702769Z"
    },
    "tags": []
   },
   "outputs": [
    {
     "data": {
      "text/plain": [
       "<Figure size 720x864 with 0 Axes>"
      ]
     },
     "execution_count": 135,
     "metadata": {},
     "output_type": "execute_result"
    },
    {
     "data": {
      "text/plain": [
       "<AxesSubplot:>"
      ]
     },
     "execution_count": 135,
     "metadata": {},
     "output_type": "execute_result"
    },
    {
     "data": {
      "text/plain": [
       "(0.0, 100.0, 0.0, 100.0)"
      ]
     },
     "execution_count": 135,
     "metadata": {},
     "output_type": "execute_result"
    },
    {
     "data": {
      "text/plain": [
       "Text(0.5, 1.0, 'Treemap Example')"
      ]
     },
     "execution_count": 135,
     "metadata": {},
     "output_type": "execute_result"
    },
    {
     "data": {
      "image/png": "[encoded data removed]",
      "text/plain": [
       "<Figure size 720x864 with 1 Axes>"
      ]
     },
     "metadata": {
      "needs_background": "light"
     },
     "output_type": "display_data"
    }
   ],
   "source": [
    "sizes = [len(l_pasta), len(l_riso), len(l_gnocchi), len(l_farine),\n",
    "len(l_verdure), len(l_formaggi),\n",
    "len(l_carne), len(l_pesce),\n",
    "len(l_erbe), len(l_spezie),\n",
    "len(l_semi), len(l_condimenti),\n",
    "len(l_bevande), len(l_uova),\n",
    "len(l_dolci), len(l_dairy_vegan)]\n",
    "\n",
    "# Labels for each rectangle (optional)\n",
    "labels = ['pasta', 'riso', 'gnocchi', 'farine','verdure','formaggi','carne', 'pesce','erbe', \n",
    "          'spezie','semi', 'condimenti','bevande', 'uova', 'dolci', 'dairy']\n",
    "          \n",
    "\n",
    "# Colors for rectangles (optional)\n",
    "#colors = ['#ff9999','#66b3ff','#99ff99','#ffcc99']\n",
    "\n",
    "# Create treemap\n",
    "plt.figure(figsize=(10, 12))\n",
    "squarify.plot(sizes=sizes, label=labels, \n",
    "              color='lightblue', \n",
    "             # alpha=0.7\n",
    "             )\n",
    "plt.axis('off')  # Remove axis\n",
    "plt.title(\"Treemap Example\")\n",
    "plt.show()\n",
    "\n",
    "#plt.savefig('treemap.jpg')"
   ]
  },
  {
   "cell_type": "code",
   "execution_count": 134,
   "id": "bcc20d3f-0aab-4015-b1b8-4d041f9ebe88",
   "metadata": {
    "execution": {
     "iopub.execute_input": "2024-04-06T17:16:05.890693Z",
     "iopub.status.busy": "2024-04-06T17:16:05.884036Z",
     "iopub.status.idle": "2024-04-06T17:16:05.902579Z",
     "shell.execute_reply": "2024-04-06T17:16:05.901487Z",
     "shell.execute_reply.started": "2024-04-06T17:16:05.890648Z"
    },
    "tags": []
   },
   "outputs": [
    {
     "name": "stdout",
     "output_type": "stream",
     "text": [
      "cereali 11\n",
      "farine 25\n",
      "pane e affini 17\n"
     ]
    }
   ],
   "source": [
    "d = d_farine\n",
    "for k in d:\n",
    "    print(k, len(d[k]))"
   ]
  },
  {
   "cell_type": "code",
   "execution_count": 146,
   "id": "b5fa325e-e82a-43cf-805a-2da90ce878e6",
   "metadata": {
    "execution": {
     "iopub.execute_input": "2024-04-07T18:43:33.194398Z",
     "iopub.status.busy": "2024-04-07T18:43:33.193529Z",
     "iopub.status.idle": "2024-04-07T18:43:33.531557Z",
     "shell.execute_reply": "2024-04-07T18:43:33.527779Z",
     "shell.execute_reply.started": "2024-04-07T18:43:33.194286Z"
    },
    "tags": []
   },
   "outputs": [
    {
     "data": {
      "text/plain": [
       "<Figure size 720x864 with 0 Axes>"
      ]
     },
     "execution_count": 146,
     "metadata": {},
     "output_type": "execute_result"
    },
    {
     "data": {
      "text/plain": [
       "<AxesSubplot:>"
      ]
     },
     "execution_count": 146,
     "metadata": {},
     "output_type": "execute_result"
    },
    {
     "data": {
      "text/plain": [
       "(0.0, 100.0, 0.0, 100.0)"
      ]
     },
     "execution_count": 146,
     "metadata": {},
     "output_type": "execute_result"
    },
    {
     "data": {
      "text/plain": [
       "Text(0.5, 1.0, 'Treemap Example')"
      ]
     },
     "execution_count": 146,
     "metadata": {},
     "output_type": "execute_result"
    },
    {
     "data": {
      "image/png": "[encoded data removed]",
      "text/plain": [
       "<Figure size 720x864 with 1 Axes>"
      ]
     },
     "metadata": {
      "needs_background": "light"
     },
     "output_type": "display_data"
    }
   ],
   "source": [
    "d= d_pesce\n",
    "\n",
    "sizes = [len(d[k]) for k in d]\n",
    "\n",
    "# Labels for each rectangle (optional)\n",
    "labels = d.keys()\n",
    "          \n",
    "\n",
    "# Colors for rectangles (optional)\n",
    "#colors = ['#ff9999','#66b3ff','#99ff99','#ffcc99']\n",
    "\n",
    "# Create treemap\n",
    "plt.figure(figsize=(10, 12))\n",
    "squarify.plot(sizes=sizes, label=labels, \n",
    "              color='lightblue', \n",
    "             # alpha=0.7\n",
    "             )\n",
    "plt.axis('off')  # Remove axis\n",
    "plt.title(\"Treemap Example\")\n",
    "plt.show()\n",
    "\n",
    "#plt.savefig('treemap.jpg')"
   ]
  },
  {
   "cell_type": "code",
   "execution_count": null,
   "id": "fdcdecfa-7d18-4469-ab7c-4bc4b94d0ad2",
   "metadata": {},
   "outputs": [],
   "source": []
  }
 ],
 "metadata": {
  "kernelspec": {
   "display_name": "Python 3 (ipykernel)",
   "language": "python",
   "name": "python3"
  },
  "language_info": {
   "codemirror_mode": {
    "name": "ipython",
    "version": 3
   },
   "file_extension": ".py",
   "mimetype": "text/x-python",
   "name": "python",
   "nbconvert_exporter": "python",
   "pygments_lexer": "ipython3",
   "version": "3.9.6"
  }
 },
 "nbformat": 4,
 "nbformat_minor": 5
}
