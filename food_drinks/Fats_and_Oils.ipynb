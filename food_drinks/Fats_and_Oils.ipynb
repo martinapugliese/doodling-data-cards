{
 "cells": [
  {
   "cell_type": "code",
   "execution_count": 83,
   "id": "f6d57a59-0eb6-4b55-8cf1-56df5f191d70",
   "metadata": {
    "execution": {
     "iopub.execute_input": "2023-03-19T18:29:33.137153Z",
     "iopub.status.busy": "2023-03-19T18:29:33.136696Z",
     "iopub.status.idle": "2023-03-19T18:29:35.334931Z",
     "shell.execute_reply": "2023-03-19T18:29:35.334149Z",
     "shell.execute_reply.started": "2023-03-19T18:29:33.137110Z"
    },
    "tags": []
   },
   "outputs": [],
   "source": [
    "import json\n",
    "import pandas as pd\n",
    "from matplotlib import pyplot as plt"
   ]
  },
  {
   "cell_type": "code",
   "execution_count": 18,
   "id": "faab9d02-4f21-4685-b263-11f08a9c03ae",
   "metadata": {
    "execution": {
     "iopub.execute_input": "2023-03-19T16:20:09.974436Z",
     "iopub.status.busy": "2023-03-19T16:20:09.974052Z",
     "iopub.status.idle": "2023-03-19T16:20:16.368737Z",
     "shell.execute_reply": "2023-03-19T16:20:16.367958Z",
     "shell.execute_reply.started": "2023-03-19T16:20:09.974400Z"
    },
    "tags": []
   },
   "outputs": [],
   "source": [
    "d = json.load(open('/Users/martina/Downloads/FoodData_Central_sr_legacy_food_json_2021-10-28.json', 'r'))"
   ]
  },
  {
   "cell_type": "code",
   "execution_count": 19,
   "id": "91728715-018c-45fc-9bed-64486cb00e29",
   "metadata": {
    "execution": {
     "iopub.execute_input": "2023-03-19T16:20:16.370689Z",
     "iopub.status.busy": "2023-03-19T16:20:16.370413Z",
     "iopub.status.idle": "2023-03-19T16:20:16.407184Z",
     "shell.execute_reply": "2023-03-19T16:20:16.405816Z",
     "shell.execute_reply.started": "2023-03-19T16:20:16.370664Z"
    },
    "tags": []
   },
   "outputs": [
    {
     "data": {
      "text/plain": [
       "dict_keys(['SRLegacyFoods'])"
      ]
     },
     "execution_count": 19,
     "metadata": {},
     "output_type": "execute_result"
    }
   ],
   "source": [
    "d.keys()"
   ]
  },
  {
   "cell_type": "markdown",
   "id": "d2146709-b896-420e-879f-1e3f7d7eff81",
   "metadata": {},
   "source": [
    "legacy info https://www.ars.usda.gov/ARSUserFiles/80400525/Data/SR-Legacy/SR-Legacy_Doc.pdf"
   ]
  },
  {
   "cell_type": "code",
   "execution_count": 20,
   "id": "97fdc29c-07fb-4c92-89c6-b2a594fcb200",
   "metadata": {
    "execution": {
     "iopub.execute_input": "2023-03-19T16:20:21.147868Z",
     "iopub.status.busy": "2023-03-19T16:20:21.147429Z",
     "iopub.status.idle": "2023-03-19T16:20:21.159206Z",
     "shell.execute_reply": "2023-03-19T16:20:21.157480Z",
     "shell.execute_reply.started": "2023-03-19T16:20:21.147813Z"
    },
    "tags": []
   },
   "outputs": [
    {
     "data": {
      "text/plain": [
       "dict_keys(['foodClass', 'description', 'foodNutrients', 'foodAttributes', 'nutrientConversionFactors', 'isHistoricalReference', 'ndbNumber', 'foodCategory', 'fdcId', 'dataType', 'inputFoods', 'publicationDate', 'foodPortions'])"
      ]
     },
     "execution_count": 20,
     "metadata": {},
     "output_type": "execute_result"
    }
   ],
   "source": [
    "d['SRLegacyFoods'][0].keys()"
   ]
  },
  {
   "cell_type": "code",
   "execution_count": 120,
   "id": "df5e7d2e-53c3-4516-849e-e6263eca85b9",
   "metadata": {
    "execution": {
     "iopub.execute_input": "2023-03-19T18:45:42.962586Z",
     "iopub.status.busy": "2023-03-19T18:45:42.962249Z",
     "iopub.status.idle": "2023-03-19T18:45:42.968064Z",
     "shell.execute_reply": "2023-03-19T18:45:42.966721Z",
     "shell.execute_reply.started": "2023-03-19T18:45:42.962555Z"
    },
    "tags": []
   },
   "outputs": [],
   "source": [
    "# these are chosen searching for food i nthe interface and choosing the best option amongst the legacy\n",
    "# e.g. https://fdc.nal.usda.gov/fdc-app.html#/?query=butter\n",
    "\n",
    "l_ = ['Butter, without salt', 'Oil, canola', 'Oil, almond', 'Oil, olive, salad or cooking', \n",
    "     'Oil, avocado', 'Oil, coconut', 'Oil, palm', \n",
    "     'Lard', 'Oil, peanut, salad or cooking', 'Oil, peanut, salad or cooking',\n",
    "      'Oil, sunflower, high oleic (70% and over)',\n",
    "     'Shortening, vegetable, household, composite', 'Oil, flaxseed, cold pressed',\n",
    "      'Oil, hazelnut', 'Oil, grapeseed', \n",
    "      'Oil, safflower, salad or cooking, high oleic (primary safflower oil of commerce)',\n",
    "      'Oil, sesame, salad or cooking','Oil, walnut'\n",
    "     ]\n",
    "\n",
    "# corn oil doesn't have a good entry"
   ]
  },
  {
   "cell_type": "code",
   "execution_count": 192,
   "id": "3e90b37e-5755-46ee-8366-9f98c72e3b3a",
   "metadata": {
    "execution": {
     "iopub.execute_input": "2023-03-25T11:32:23.366595Z",
     "iopub.status.busy": "2023-03-25T11:32:23.365784Z",
     "iopub.status.idle": "2023-03-25T11:32:23.471254Z",
     "shell.execute_reply": "2023-03-25T11:32:23.468650Z",
     "shell.execute_reply.started": "2023-03-25T11:32:23.366538Z"
    },
    "tags": []
   },
   "outputs": [],
   "source": [
    "d_data = {'name': [], 'fats_monounsaturated': [], 'fats_monounsaturated_unit': [],\n",
    "         'fats_polyunsaturated': [], 'fats_polyunsaturated_unit': [], \n",
    "         'fats_saturated': [], 'fats_saturated_unit': [], 'protein': [], 'protein_unit': [],\n",
    "         'water': [], 'water_unit': [], 'carbs_by_diff': [], 'carbs_by_diff_unit': [], \n",
    "         'tot_lipid': [], 'tot_lipid_unit': []}\n",
    "\n",
    "for item in d['SRLegacyFoods']:\n",
    "    for x in l_:\n",
    "        if item['description'] == x:\n",
    "            \n",
    "            d_data['name'].append(x)\n",
    " #           print(item.keys())\n",
    "            #print(item['foodNutrients'])\n",
    "            for nutrient in item['foodNutrients']:\n",
    "            \n",
    "                if nutrient['nutrient']['name'] == 'Fatty acids, total monounsaturated':\n",
    "                    d_data['fats_monounsaturated'].append(nutrient['amount'])\n",
    "                    d_data['fats_monounsaturated_unit'].append(nutrient['nutrient']['unitName'])\n",
    "                    \n",
    "                if nutrient['nutrient']['name'] == 'Fatty acids, total polyunsaturated':\n",
    "                 #   print(x, nutrient)\n",
    "                    d_data['fats_polyunsaturated'].append(nutrient['amount'])\n",
    "                    d_data['fats_polyunsaturated_unit'].append(nutrient['nutrient']['unitName'])\n",
    "                    \n",
    "                if nutrient['nutrient']['name'] == 'Fatty acids, total saturated':\n",
    "                 #   print(x, nutrient)\n",
    "                    d_data['fats_saturated'].append(nutrient['amount'])\n",
    "                    d_data['fats_saturated_unit'].append(nutrient['nutrient']['unitName'])\n",
    "                    \n",
    "                if nutrient['nutrient']['name'] == 'Protein':\n",
    "                 #   print(x, nutrient)\n",
    "                    d_data['protein'].append(nutrient['amount'])\n",
    "                    d_data['protein_unit'].append(nutrient['nutrient']['unitName'])\n",
    "                    \n",
    "                if nutrient['nutrient']['name'] == 'Water':\n",
    "                 #   print(x, nutrient)\n",
    "                    d_data['water'].append(nutrient['amount'])\n",
    "                    d_data['water_unit'].append(nutrient['nutrient']['unitName'])\n",
    "                \n",
    "                if nutrient['nutrient']['name'] == 'Carbohydrate, by difference':\n",
    "                 #   print(x, nutrient)\n",
    "                    d_data['carbs_by_diff'].append(nutrient['amount'])\n",
    "                    d_data['carbs_by_diff_unit'].append(nutrient['nutrient']['unitName'])\n",
    "                    \n",
    "                if nutrient['nutrient']['name'] == 'Total lipid (fat)':\n",
    "                 #   print(x, nutrient)\n",
    "                    d_data['tot_lipid'].append(nutrient['amount'])\n",
    "                    d_data['tot_lipid_unit'].append(nutrient['nutrient']['unitName'])\n",
    "                    \n",
    "        if item['description']=='Butter, without salt':\n",
    "            a = item"
   ]
  },
  {
   "cell_type": "code",
   "execution_count": 193,
   "id": "8130cb4a-7a44-437a-8f91-290467190479",
   "metadata": {
    "execution": {
     "iopub.execute_input": "2023-03-25T11:32:23.885447Z",
     "iopub.status.busy": "2023-03-25T11:32:23.884940Z",
     "iopub.status.idle": "2023-03-25T11:32:23.903574Z",
     "shell.execute_reply": "2023-03-25T11:32:23.897523Z",
     "shell.execute_reply.started": "2023-03-25T11:32:23.885392Z"
    },
    "tags": []
   },
   "outputs": [
    {
     "data": {
      "text/plain": [
       "['Alcohol, ethyl',\n",
       " 'Folic acid',\n",
       " 'Caffeine',\n",
       " 'Theobromine',\n",
       " 'Sugars, total including NLEA',\n",
       " 'Lutein + zeaxanthin',\n",
       " 'Vitamin E (alpha-tocopherol)',\n",
       " 'Vitamin K (Dihydrophylloquinone)',\n",
       " 'Vitamin K (phylloquinone)',\n",
       " 'Cryptoxanthin, beta',\n",
       " 'Lycopene',\n",
       " 'Retinol',\n",
       " 'Carotene, beta',\n",
       " 'Carotene, alpha',\n",
       " 'SFA 4:0',\n",
       " 'SFA 6:0',\n",
       " 'PUFA 18:4',\n",
       " 'MUFA 20:1',\n",
       " 'MUFA 22:1',\n",
       " 'SFA 8:0',\n",
       " 'PUFA 22:6 n-3 (DHA)',\n",
       " 'PUFA 2:5 n-3 (EPA)',\n",
       " 'PUFA 22:5 n-3 (DPA)',\n",
       " 'Energy',\n",
       " 'Vitamin D (D2 + D3), International Units',\n",
       " 'Folate, DFE',\n",
       " 'Energy',\n",
       " 'Vitamin D3 (cholecalciferol)',\n",
       " 'Vitamin D (D2 + D3)',\n",
       " 'Vitamin A, RAE',\n",
       " 'Folate, food',\n",
       " 'Niacin',\n",
       " 'Isoleucine',\n",
       " 'Leucine',\n",
       " 'Lysine',\n",
       " 'Cystine',\n",
       " 'Valine',\n",
       " 'Arginine',\n",
       " 'Histidine',\n",
       " 'Fatty acids, total monounsaturated',\n",
       " 'Fatty acids, total polyunsaturated',\n",
       " 'SFA 10:0',\n",
       " 'SFA 16:0',\n",
       " 'SFA 18:0',\n",
       " 'MUFA 18:1',\n",
       " 'PUFA 18:2',\n",
       " 'PUFA 18:3',\n",
       " 'PUFA 20:4',\n",
       " 'Water',\n",
       " 'Calcium, Ca',\n",
       " 'Potassium, K',\n",
       " 'Zinc, Zn',\n",
       " 'Total lipid (fat)',\n",
       " 'Carbohydrate, by difference',\n",
       " 'Protein',\n",
       " 'Ash',\n",
       " 'Fiber, total dietary',\n",
       " 'Iron, Fe',\n",
       " 'Phosphorus, P',\n",
       " 'Sodium, Na',\n",
       " 'Copper, Cu',\n",
       " 'Manganese, Mn',\n",
       " 'Tryptophan',\n",
       " 'Threonine',\n",
       " 'Methionine',\n",
       " 'Phenylalanine',\n",
       " 'Tyrosine',\n",
       " 'Cholesterol',\n",
       " 'Fatty acids, total saturated',\n",
       " 'Vitamin C, total ascorbic acid',\n",
       " 'Thiamin',\n",
       " 'Riboflavin',\n",
       " 'Folate, total',\n",
       " 'Vitamin B-12',\n",
       " 'MUFA 16:1',\n",
       " 'SFA 12:0',\n",
       " 'SFA 14:0',\n",
       " 'Vitamin A, IU',\n",
       " 'Selenium, Se',\n",
       " 'Magnesium, Mg',\n",
       " 'Vitamin B-6',\n",
       " 'Vitamin E, added',\n",
       " 'Vitamin B-12, added',\n",
       " 'Betaine',\n",
       " 'Choline, total']"
      ]
     },
     "execution_count": 193,
     "metadata": {},
     "output_type": "execute_result"
    }
   ],
   "source": [
    "[i['nutrient']['name'] for i in item['foodNutrients']]"
   ]
  },
  {
   "cell_type": "code",
   "execution_count": 194,
   "id": "a5c1d8c9-a9ed-429d-98c8-11ec12d6fb93",
   "metadata": {
    "execution": {
     "iopub.execute_input": "2023-03-25T11:32:24.337554Z",
     "iopub.status.busy": "2023-03-25T11:32:24.337192Z",
     "iopub.status.idle": "2023-03-25T11:32:24.347216Z",
     "shell.execute_reply": "2023-03-25T11:32:24.345107Z",
     "shell.execute_reply.started": "2023-03-25T11:32:24.337520Z"
    },
    "tags": []
   },
   "outputs": [],
   "source": [
    "df = pd.DataFrame(d_data)\n",
    "\n",
    "# units for what I've chosen turn out ro be always g so there  was no need"
   ]
  },
  {
   "cell_type": "code",
   "execution_count": 195,
   "id": "c21684da-09e5-4ce5-8bfc-655cd51a1081",
   "metadata": {
    "execution": {
     "iopub.execute_input": "2023-03-25T11:32:25.066612Z",
     "iopub.status.busy": "2023-03-25T11:32:25.066202Z",
     "iopub.status.idle": "2023-03-25T11:32:25.106151Z",
     "shell.execute_reply": "2023-03-25T11:32:25.101560Z",
     "shell.execute_reply.started": "2023-03-25T11:32:25.066575Z"
    },
    "tags": []
   },
   "outputs": [
    {
     "data": {
      "text/html": [
       "<div>\n",
       "<style scoped>\n",
       "    .dataframe tbody tr th:only-of-type {\n",
       "        vertical-align: middle;\n",
       "    }\n",
       "\n",
       "    .dataframe tbody tr th {\n",
       "        vertical-align: top;\n",
       "    }\n",
       "\n",
       "    .dataframe thead th {\n",
       "        text-align: right;\n",
       "    }\n",
       "</style>\n",
       "<table border=\"1\" class=\"dataframe\">\n",
       "  <thead>\n",
       "    <tr style=\"text-align: right;\">\n",
       "      <th></th>\n",
       "      <th>name</th>\n",
       "      <th>fats_monounsaturated</th>\n",
       "      <th>fats_monounsaturated_unit</th>\n",
       "      <th>fats_polyunsaturated</th>\n",
       "      <th>fats_polyunsaturated_unit</th>\n",
       "      <th>fats_saturated</th>\n",
       "      <th>fats_saturated_unit</th>\n",
       "      <th>protein</th>\n",
       "      <th>protein_unit</th>\n",
       "      <th>water</th>\n",
       "      <th>water_unit</th>\n",
       "      <th>carbs_by_diff</th>\n",
       "      <th>carbs_by_diff_unit</th>\n",
       "      <th>tot_lipid</th>\n",
       "      <th>tot_lipid_unit</th>\n",
       "    </tr>\n",
       "  </thead>\n",
       "  <tbody>\n",
       "    <tr>\n",
       "      <th>11</th>\n",
       "      <td>Oil, olive, salad or cooking</td>\n",
       "      <td>73.0</td>\n",
       "      <td>g</td>\n",
       "      <td>10.5</td>\n",
       "      <td>g</td>\n",
       "      <td>13.8</td>\n",
       "      <td>g</td>\n",
       "      <td>0.0</td>\n",
       "      <td>g</td>\n",
       "      <td>0.0</td>\n",
       "      <td>g</td>\n",
       "      <td>0.0</td>\n",
       "      <td>g</td>\n",
       "      <td>100.0</td>\n",
       "      <td>g</td>\n",
       "    </tr>\n",
       "  </tbody>\n",
       "</table>\n",
       "</div>"
      ],
      "text/plain": [
       "                            name  fats_monounsaturated  \\\n",
       "11  Oil, olive, salad or cooking                  73.0   \n",
       "\n",
       "   fats_monounsaturated_unit  fats_polyunsaturated fats_polyunsaturated_unit  \\\n",
       "11                         g                  10.5                         g   \n",
       "\n",
       "    fats_saturated fats_saturated_unit  protein protein_unit  water  \\\n",
       "11            13.8                   g      0.0            g    0.0   \n",
       "\n",
       "   water_unit  carbs_by_diff carbs_by_diff_unit  tot_lipid tot_lipid_unit  \n",
       "11          g            0.0                  g      100.0              g  "
      ]
     },
     "execution_count": 195,
     "metadata": {},
     "output_type": "execute_result"
    }
   ],
   "source": [
    "df[df.name.str.contains('olive')]"
   ]
  },
  {
   "cell_type": "code",
   "execution_count": 196,
   "id": "69411559-ea08-4156-af5e-25456d9135a9",
   "metadata": {
    "execution": {
     "iopub.execute_input": "2023-03-25T11:32:26.068882Z",
     "iopub.status.busy": "2023-03-25T11:32:26.068525Z",
     "iopub.status.idle": "2023-03-25T11:32:26.082841Z",
     "shell.execute_reply": "2023-03-25T11:32:26.080908Z",
     "shell.execute_reply.started": "2023-03-25T11:32:26.068849Z"
    },
    "tags": []
   },
   "outputs": [],
   "source": [
    "df['sum'] = df['fats_monounsaturated'] + df['fats_polyunsaturated'] + df['fats_saturated'] + \\\n",
    "            df['protein'] + df['water'] + df['carbs_by_diff']\n",
    "\n",
    "df['sum_fats'] = df['fats_monounsaturated'] + df['fats_polyunsaturated'] + df['fats_saturated'] "
   ]
  },
  {
   "cell_type": "code",
   "execution_count": 197,
   "id": "8f704829-e1af-4661-b614-5b1f6a51421b",
   "metadata": {
    "execution": {
     "iopub.execute_input": "2023-03-25T11:32:27.114771Z",
     "iopub.status.busy": "2023-03-25T11:32:27.114010Z",
     "iopub.status.idle": "2023-03-25T11:32:27.350303Z",
     "shell.execute_reply": "2023-03-25T11:32:27.348940Z",
     "shell.execute_reply.started": "2023-03-25T11:32:27.114731Z"
    },
    "tags": []
   },
   "outputs": [
    {
     "data": {
      "text/plain": [
       "<matplotlib.collections.PathCollection at 0x1597ab310>"
      ]
     },
     "execution_count": 197,
     "metadata": {},
     "output_type": "execute_result"
    },
    {
     "data": {
      "image/png": "[encoded data removed]",
      "text/plain": [
       "<Figure size 432x288 with 1 Axes>"
      ]
     },
     "metadata": {
      "needs_background": "light"
     },
     "output_type": "display_data"
    }
   ],
   "source": [
    "plt.scatter(df.fats_monounsaturated, df.fats_saturated)"
   ]
  },
  {
   "cell_type": "code",
   "execution_count": 199,
   "id": "18d2765c-22e6-4a04-91f5-6881055421c9",
   "metadata": {
    "execution": {
     "iopub.execute_input": "2023-03-25T12:13:02.431923Z",
     "iopub.status.busy": "2023-03-25T12:13:02.431004Z",
     "iopub.status.idle": "2023-03-25T12:13:02.473168Z",
     "shell.execute_reply": "2023-03-25T12:13:02.469085Z",
     "shell.execute_reply.started": "2023-03-25T12:13:02.431857Z"
    },
    "tags": []
   },
   "outputs": [],
   "source": [
    "df.to_csv('fats_nutrition.csv', index=False)"
   ]
  },
  {
   "cell_type": "code",
   "execution_count": null,
   "id": "2cb53b04-31db-48d9-bb52-c74abc096722",
   "metadata": {},
   "outputs": [],
   "source": []
  }
 ],
 "metadata": {
  "kernelspec": {
   "display_name": "Python 3 (ipykernel)",
   "language": "python",
   "name": "python3"
  },
  "language_info": {
   "codemirror_mode": {
    "name": "ipython",
    "version": 3
   },
   "file_extension": ".py",
   "mimetype": "text/x-python",
   "name": "python",
   "nbconvert_exporter": "python",
   "pygments_lexer": "ipython3",
   "version": "3.9.6"
  }
 },
 "nbformat": 4,
 "nbformat_minor": 5
}
