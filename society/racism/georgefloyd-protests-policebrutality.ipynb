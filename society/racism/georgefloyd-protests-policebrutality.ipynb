{
 "cells": [
  {
   "cell_type": "markdown",
   "metadata": {},
   "source": [
    "# Police brutality events in the 2020 protests after George Floyd's death\n",
    "\n",
    "This [repo](https://github.com/2020PB/police-brutality) is crowd-collecting (and verifying) incidents of police applying excessive force towards protesters in the 2020 demonstrations after George Floyd's death. The incidents are registered by people and committed with links to videos (usually twitter). Repo has a REST API which we are pinging here to get the data."
   ]
  },
  {
   "cell_type": "code",
   "execution_count": 30,
   "metadata": {},
   "outputs": [],
   "source": [
    "import requests\n",
    "import pandas as pd\n",
    "from datetime import datetime\n",
    "\n",
    "from matplotlib import pyplot as plt\n",
    "import matplotlib\n",
    "\n",
    "import spacy\n",
    "import gensim\n",
    "\n",
    "import json\n",
    "\n",
    "import collections\n",
    "\n",
    "%matplotlib inline"
   ]
  },
  {
   "cell_type": "code",
   "execution_count": 37,
   "metadata": {},
   "outputs": [],
   "source": [
    "# Get the incidede\n",
    "\n",
    "r = requests.get(\"https://api.846policebrutality.com/api/incidents\")"
   ]
  },
  {
   "cell_type": "code",
   "execution_count": 38,
   "metadata": {},
   "outputs": [
    {
     "data": {
      "text/plain": [
       "200"
      ]
     },
     "execution_count": 38,
     "metadata": {},
     "output_type": "execute_result"
    }
   ],
   "source": [
    "r.status_code"
   ]
  },
  {
   "cell_type": "code",
   "execution_count": 39,
   "metadata": {},
   "outputs": [],
   "source": [
    "data = r.json()['data']"
   ]
  },
  {
   "cell_type": "code",
   "execution_count": 40,
   "metadata": {},
   "outputs": [
    {
     "data": {
      "text/plain": [
       "369"
      ]
     },
     "execution_count": 40,
     "metadata": {},
     "output_type": "execute_result"
    }
   ],
   "source": [
    "len(data)"
   ]
  },
  {
   "cell_type": "code",
   "execution_count": 41,
   "metadata": {},
   "outputs": [
    {
     "data": {
      "text/plain": [
       "{'id': '09cd8690-ace0-11ea-8984-cff4810dd459',\n",
       " 'pb_id': 'mn-minneapolis-23',\n",
       " 'state': 'Minnesota',\n",
       " 'city': 'Minneapolis',\n",
       " 'date': '2020-05-30T00:00:00.000000Z',\n",
       " 'title': 'CBS crew fired upon by police.',\n",
       " 'description': None,\n",
       " 'links': ['https://twitter.com/MikeGeorgeCBS/status/1267087091122528256',\n",
       "  'https://twitter.com/MikeGeorgeCBS/status/1266919447970942986',\n",
       "  'https://twitter.com/MikeGeorgeCBS/status/1266916104951214080'],\n",
       " 'data': None,\n",
       " 'geocoding': {'lat': '44.9777530', 'long': '-93.2650108'}}"
      ]
     },
     "execution_count": 41,
     "metadata": {},
     "output_type": "execute_result"
    }
   ],
   "source": [
    "data[0]"
   ]
  },
  {
   "cell_type": "code",
   "execution_count": 42,
   "metadata": {},
   "outputs": [],
   "source": [
    "# dump data to file in case can't query it anymore\n",
    "\n",
    "json.dump(data, open('georgefloyd_protests_incidents.json', 'w'))"
   ]
  },
  {
   "cell_type": "code",
   "execution_count": 43,
   "metadata": {},
   "outputs": [
    {
     "data": {
      "text/plain": [
       "'1900-01-01T00:00:00.000000Z'"
      ]
     },
     "execution_count": 43,
     "metadata": {},
     "output_type": "execute_result"
    }
   ],
   "source": [
    "min([item['date'] for item in data])"
   ]
  },
  {
   "cell_type": "markdown",
   "metadata": {},
   "source": [
    "## Get into a dataframe\n",
    "\n",
    "Only use data we want to use."
   ]
  },
  {
   "cell_type": "code",
   "execution_count": 44,
   "metadata": {},
   "outputs": [
    {
     "data": {
      "text/html": [
       "<div>\n",
       "<style scoped>\n",
       "    .dataframe tbody tr th:only-of-type {\n",
       "        vertical-align: middle;\n",
       "    }\n",
       "\n",
       "    .dataframe tbody tr th {\n",
       "        vertical-align: top;\n",
       "    }\n",
       "\n",
       "    .dataframe thead th {\n",
       "        text-align: right;\n",
       "    }\n",
       "</style>\n",
       "<table border=\"1\" class=\"dataframe\">\n",
       "  <thead>\n",
       "    <tr style=\"text-align: right;\">\n",
       "      <th></th>\n",
       "      <th>id</th>\n",
       "      <th>state</th>\n",
       "      <th>city</th>\n",
       "      <th>date</th>\n",
       "      <th>title</th>\n",
       "    </tr>\n",
       "  </thead>\n",
       "  <tbody>\n",
       "    <tr>\n",
       "      <th>0</th>\n",
       "      <td>09cd8690-ace0-11ea-8984-cff4810dd459</td>\n",
       "      <td>Minnesota</td>\n",
       "      <td>Minneapolis</td>\n",
       "      <td>2020-05-30 00:00:00+00:00</td>\n",
       "      <td>CBS crew fired upon by police.</td>\n",
       "    </tr>\n",
       "    <tr>\n",
       "      <th>1</th>\n",
       "      <td>1bc81b90-ad1c-11ea-9e54-7933512bebd5</td>\n",
       "      <td>Minnesota</td>\n",
       "      <td>Minneapolis</td>\n",
       "      <td>2020-05-26 00:00:00+00:00</td>\n",
       "      <td>Man has his gun confiscated in an open carry s...</td>\n",
       "    </tr>\n",
       "    <tr>\n",
       "      <th>2</th>\n",
       "      <td>22035e90-b0d5-11ea-b535-bf95ae94d6bf</td>\n",
       "      <td>Virginia</td>\n",
       "      <td>Richmond</td>\n",
       "      <td>2020-06-13 00:00:00+00:00</td>\n",
       "      <td>Police SUV pushes through protesters, knocks o...</td>\n",
       "    </tr>\n",
       "    <tr>\n",
       "      <th>3</th>\n",
       "      <td>22149840-b0d5-11ea-86dc-251707a21e5b</td>\n",
       "      <td>California</td>\n",
       "      <td>Hollywood</td>\n",
       "      <td>2020-06-02 00:00:00+00:00</td>\n",
       "      <td>Police fire into a crowd of peaceful protester...</td>\n",
       "    </tr>\n",
       "    <tr>\n",
       "      <th>4</th>\n",
       "      <td>26e447b0-af46-11ea-b93f-392636229177</td>\n",
       "      <td>Oregon</td>\n",
       "      <td>Portland</td>\n",
       "      <td>2020-06-08 00:00:00+00:00</td>\n",
       "      <td>Officer forces press away from protest</td>\n",
       "    </tr>\n",
       "  </tbody>\n",
       "</table>\n",
       "</div>"
      ],
      "text/plain": [
       "                                     id       state         city  \\\n",
       "0  09cd8690-ace0-11ea-8984-cff4810dd459   Minnesota  Minneapolis   \n",
       "1  1bc81b90-ad1c-11ea-9e54-7933512bebd5   Minnesota  Minneapolis   \n",
       "2  22035e90-b0d5-11ea-b535-bf95ae94d6bf    Virginia     Richmond   \n",
       "3  22149840-b0d5-11ea-86dc-251707a21e5b  California    Hollywood   \n",
       "4  26e447b0-af46-11ea-b93f-392636229177      Oregon     Portland   \n",
       "\n",
       "                       date                                              title  \n",
       "0 2020-05-30 00:00:00+00:00                     CBS crew fired upon by police.  \n",
       "1 2020-05-26 00:00:00+00:00  Man has his gun confiscated in an open carry s...  \n",
       "2 2020-06-13 00:00:00+00:00  Police SUV pushes through protesters, knocks o...  \n",
       "3 2020-06-02 00:00:00+00:00  Police fire into a crowd of peaceful protester...  \n",
       "4 2020-06-08 00:00:00+00:00             Officer forces press away from protest  "
      ]
     },
     "execution_count": 44,
     "metadata": {},
     "output_type": "execute_result"
    }
   ],
   "source": [
    "df = pd.DataFrame(\n",
    "    {'id': [item['id'] for item in data],\n",
    "     'state': [item['state'] for item in data],\n",
    "     'city': [item['city'] for item in data],\n",
    "     'date': [item['date'] for item in data],\n",
    "     'title': [item['title'] for item in data]\n",
    "    }\n",
    ")\n",
    "\n",
    "# sort the date info\n",
    "df['date'] = pd.to_datetime(df['date'], format='%Y-%m-%d')\n",
    "\n",
    "df.head()"
   ]
  },
  {
   "cell_type": "code",
   "execution_count": 45,
   "metadata": {},
   "outputs": [
    {
     "data": {
      "text/html": [
       "<div>\n",
       "<style scoped>\n",
       "    .dataframe tbody tr th:only-of-type {\n",
       "        vertical-align: middle;\n",
       "    }\n",
       "\n",
       "    .dataframe tbody tr th {\n",
       "        vertical-align: top;\n",
       "    }\n",
       "\n",
       "    .dataframe thead th {\n",
       "        text-align: right;\n",
       "    }\n",
       "</style>\n",
       "<table border=\"1\" class=\"dataframe\">\n",
       "  <thead>\n",
       "    <tr style=\"text-align: right;\">\n",
       "      <th></th>\n",
       "      <th>date</th>\n",
       "      <th>id</th>\n",
       "      <th>state</th>\n",
       "      <th>city</th>\n",
       "      <th>title</th>\n",
       "    </tr>\n",
       "  </thead>\n",
       "  <tbody>\n",
       "    <tr>\n",
       "      <th>0</th>\n",
       "      <td>1900-01-01 00:00:00+00:00</td>\n",
       "      <td>10</td>\n",
       "      <td>10</td>\n",
       "      <td>10</td>\n",
       "      <td>10</td>\n",
       "    </tr>\n",
       "    <tr>\n",
       "      <th>1</th>\n",
       "      <td>2020-05-26 00:00:00+00:00</td>\n",
       "      <td>3</td>\n",
       "      <td>3</td>\n",
       "      <td>3</td>\n",
       "      <td>3</td>\n",
       "    </tr>\n",
       "    <tr>\n",
       "      <th>2</th>\n",
       "      <td>2020-05-28 00:00:00+00:00</td>\n",
       "      <td>1</td>\n",
       "      <td>1</td>\n",
       "      <td>1</td>\n",
       "      <td>1</td>\n",
       "    </tr>\n",
       "    <tr>\n",
       "      <th>3</th>\n",
       "      <td>2020-05-29 00:00:00+00:00</td>\n",
       "      <td>25</td>\n",
       "      <td>25</td>\n",
       "      <td>25</td>\n",
       "      <td>25</td>\n",
       "    </tr>\n",
       "    <tr>\n",
       "      <th>4</th>\n",
       "      <td>2020-05-30 00:00:00+00:00</td>\n",
       "      <td>79</td>\n",
       "      <td>79</td>\n",
       "      <td>79</td>\n",
       "      <td>79</td>\n",
       "    </tr>\n",
       "    <tr>\n",
       "      <th>5</th>\n",
       "      <td>2020-05-31 00:00:00+00:00</td>\n",
       "      <td>111</td>\n",
       "      <td>111</td>\n",
       "      <td>111</td>\n",
       "      <td>111</td>\n",
       "    </tr>\n",
       "    <tr>\n",
       "      <th>6</th>\n",
       "      <td>2020-06-01 00:00:00+00:00</td>\n",
       "      <td>52</td>\n",
       "      <td>52</td>\n",
       "      <td>52</td>\n",
       "      <td>52</td>\n",
       "    </tr>\n",
       "    <tr>\n",
       "      <th>7</th>\n",
       "      <td>2020-06-02 00:00:00+00:00</td>\n",
       "      <td>30</td>\n",
       "      <td>30</td>\n",
       "      <td>30</td>\n",
       "      <td>30</td>\n",
       "    </tr>\n",
       "    <tr>\n",
       "      <th>8</th>\n",
       "      <td>2020-06-03 00:00:00+00:00</td>\n",
       "      <td>20</td>\n",
       "      <td>20</td>\n",
       "      <td>20</td>\n",
       "      <td>20</td>\n",
       "    </tr>\n",
       "    <tr>\n",
       "      <th>9</th>\n",
       "      <td>2020-06-04 00:00:00+00:00</td>\n",
       "      <td>14</td>\n",
       "      <td>14</td>\n",
       "      <td>14</td>\n",
       "      <td>14</td>\n",
       "    </tr>\n",
       "    <tr>\n",
       "      <th>10</th>\n",
       "      <td>2020-06-05 00:00:00+00:00</td>\n",
       "      <td>9</td>\n",
       "      <td>9</td>\n",
       "      <td>9</td>\n",
       "      <td>9</td>\n",
       "    </tr>\n",
       "    <tr>\n",
       "      <th>11</th>\n",
       "      <td>2020-06-06 00:00:00+00:00</td>\n",
       "      <td>6</td>\n",
       "      <td>6</td>\n",
       "      <td>6</td>\n",
       "      <td>6</td>\n",
       "    </tr>\n",
       "    <tr>\n",
       "      <th>12</th>\n",
       "      <td>2020-06-07 00:00:00+00:00</td>\n",
       "      <td>1</td>\n",
       "      <td>1</td>\n",
       "      <td>1</td>\n",
       "      <td>1</td>\n",
       "    </tr>\n",
       "    <tr>\n",
       "      <th>13</th>\n",
       "      <td>2020-06-08 00:00:00+00:00</td>\n",
       "      <td>2</td>\n",
       "      <td>2</td>\n",
       "      <td>2</td>\n",
       "      <td>2</td>\n",
       "    </tr>\n",
       "    <tr>\n",
       "      <th>14</th>\n",
       "      <td>2020-06-09 00:00:00+00:00</td>\n",
       "      <td>1</td>\n",
       "      <td>1</td>\n",
       "      <td>1</td>\n",
       "      <td>1</td>\n",
       "    </tr>\n",
       "    <tr>\n",
       "      <th>15</th>\n",
       "      <td>2020-06-13 00:00:00+00:00</td>\n",
       "      <td>2</td>\n",
       "      <td>2</td>\n",
       "      <td>2</td>\n",
       "      <td>2</td>\n",
       "    </tr>\n",
       "    <tr>\n",
       "      <th>16</th>\n",
       "      <td>2020-06-14 00:00:00+00:00</td>\n",
       "      <td>1</td>\n",
       "      <td>1</td>\n",
       "      <td>1</td>\n",
       "      <td>1</td>\n",
       "    </tr>\n",
       "    <tr>\n",
       "      <th>17</th>\n",
       "      <td>2020-06-15 00:00:00+00:00</td>\n",
       "      <td>1</td>\n",
       "      <td>1</td>\n",
       "      <td>1</td>\n",
       "      <td>1</td>\n",
       "    </tr>\n",
       "    <tr>\n",
       "      <th>18</th>\n",
       "      <td>2020-06-16 00:00:00+00:00</td>\n",
       "      <td>1</td>\n",
       "      <td>1</td>\n",
       "      <td>1</td>\n",
       "      <td>1</td>\n",
       "    </tr>\n",
       "  </tbody>\n",
       "</table>\n",
       "</div>"
      ],
      "text/plain": [
       "                        date   id  state  city  title\n",
       "0  1900-01-01 00:00:00+00:00   10     10    10     10\n",
       "1  2020-05-26 00:00:00+00:00    3      3     3      3\n",
       "2  2020-05-28 00:00:00+00:00    1      1     1      1\n",
       "3  2020-05-29 00:00:00+00:00   25     25    25     25\n",
       "4  2020-05-30 00:00:00+00:00   79     79    79     79\n",
       "5  2020-05-31 00:00:00+00:00  111    111   111    111\n",
       "6  2020-06-01 00:00:00+00:00   52     52    52     52\n",
       "7  2020-06-02 00:00:00+00:00   30     30    30     30\n",
       "8  2020-06-03 00:00:00+00:00   20     20    20     20\n",
       "9  2020-06-04 00:00:00+00:00   14     14    14     14\n",
       "10 2020-06-05 00:00:00+00:00    9      9     9      9\n",
       "11 2020-06-06 00:00:00+00:00    6      6     6      6\n",
       "12 2020-06-07 00:00:00+00:00    1      1     1      1\n",
       "13 2020-06-08 00:00:00+00:00    2      2     2      2\n",
       "14 2020-06-09 00:00:00+00:00    1      1     1      1\n",
       "15 2020-06-13 00:00:00+00:00    2      2     2      2\n",
       "16 2020-06-14 00:00:00+00:00    1      1     1      1\n",
       "17 2020-06-15 00:00:00+00:00    1      1     1      1\n",
       "18 2020-06-16 00:00:00+00:00    1      1     1      1"
      ]
     },
     "execution_count": 45,
     "metadata": {},
     "output_type": "execute_result"
    }
   ],
   "source": [
    "tmp.sort_values('date')"
   ]
  },
  {
   "cell_type": "markdown",
   "metadata": {},
   "source": [
    "## Incidents in time"
   ]
  },
  {
   "cell_type": "code",
   "execution_count": 46,
   "metadata": {},
   "outputs": [
    {
     "data": {
      "image/png": "[encoded data removed]",
      "text/plain": [
       "<Figure size 432x288 with 1 Axes>"
      ]
     },
     "metadata": {
      "needs_background": "light"
     },
     "output_type": "display_data"
    }
   ],
   "source": [
    "tmp = df.groupby('date').count().reset_index()\n",
    "\n",
    "tmp.sort_values('date').plot('date', 'id')\n",
    "\n",
    "plt.show();"
   ]
  },
  {
   "cell_type": "markdown",
   "metadata": {},
   "source": [
    "## words \n",
    "\n",
    "Looking at words from the titles given to the incidents"
   ]
  },
  {
   "cell_type": "code",
   "execution_count": 47,
   "metadata": {},
   "outputs": [
    {
     "data": {
      "text/plain": [
       "369"
      ]
     },
     "execution_count": 47,
     "metadata": {},
     "output_type": "execute_result"
    }
   ],
   "source": [
    "len(data)"
   ]
  },
  {
   "cell_type": "code",
   "execution_count": 104,
   "metadata": {},
   "outputs": [
    {
     "name": "stdout",
     "output_type": "stream",
     "text": [
      "I -PRON- PRON PRP nsubj X True True\n",
      "am be AUX VBP ROOT xx True True\n",
      "much much ADV RB advmod xxxx True True\n",
      "better well ADJ JJR acomp xxxx True False\n",
      "than than SCONJ IN prep xxxx True True\n",
      "you -PRON- PRON PRP pobj xxx True True\n",
      "and and CCONJ CC cc xxx True True\n",
      "I -PRON- PRON PRP nsubj X True True\n",
      "write write VERB VBP ROOT xxxx True False\n",
      "a a DET DT det x True True\n",
      "lot lot NOUN NN dobj xxx True False\n"
     ]
    }
   ],
   "source": [
    "doc = nlp(\"I am much better than you and I write a lot\")\n",
    "\n",
    "for token in doc:\n",
    "        print(token.text, token.lemma_, token.pos_, token.tag_, token.dep_,\n",
    "              token.shape_, token.is_alpha, token.is_stop)"
   ]
  },
  {
   "cell_type": "code",
   "execution_count": 105,
   "metadata": {},
   "outputs": [],
   "source": [
    "# polish the title a bit (remove -, as in \"pepper-spray\"; remove /)\n",
    "# then\n",
    "# get adjectives and nouns only from each title - use spacy,get vrbs as well (need \"arrest\")\n",
    "# then add to data, lowering case\n",
    "\n",
    "nlp = spacy.load(\"en_core_web_sm\")\n",
    "\n",
    "for item in data:\n",
    "    title = item['title']\n",
    "    title = title.replace('-', ' ').replace('/', ' ')\n",
    "    item['pos'] = []\n",
    "    doc = nlp(title)\n",
    "    #print(title)\n",
    "    for token in doc:\n",
    "#         print(token.text, token.lemma_, token.pos_, token.tag_, token.dep_,\n",
    "#               token.shape_, token.is_alpha, token.is_stop)\n",
    "        if token.pos_ in ('NOUN', 'ADJ', 'VERB'):\n",
    "            item['pos'].append((token.lemma_.lower(), token.pos_))"
   ]
  },
  {
   "cell_type": "code",
   "execution_count": 106,
   "metadata": {},
   "outputs": [],
   "source": [
    "# for item in data:\n",
    "#     print(item['title'], item['pos'])"
   ]
  },
  {
   "cell_type": "code",
   "execution_count": 107,
   "metadata": {},
   "outputs": [
    {
     "data": {
      "text/plain": [
       "2087"
      ]
     },
     "execution_count": 107,
     "metadata": {},
     "output_type": "execute_result"
    }
   ],
   "source": [
    "# look at frequencies\n",
    "\n",
    "all_words = []\n",
    "for item in data:\n",
    "    for word in item['pos']:\n",
    "        all_words.append(word[0])\n",
    "#c = collections.counter()\n",
    "\n",
    "all_words[:10]\n",
    "len(all_words)"
   ]
  },
  {
   "cell_type": "code",
   "execution_count": 108,
   "metadata": {},
   "outputs": [],
   "source": [
    "c = collections.Counter(all_words)"
   ]
  },
  {
   "cell_type": "code",
   "execution_count": 140,
   "metadata": {},
   "outputs": [
    {
     "data": {
      "text/plain": [
       "[('number', 1),\n",
       " ('eyewitness', 1),\n",
       " ('time', 1),\n",
       " ('interview', 1),\n",
       " ('elderly', 1),\n",
       " ('cause', 1),\n",
       " ('identify', 1),\n",
       " ('induce', 1),\n",
       " ('seizure', 1),\n",
       " ('door', 1),\n",
       " ('member', 1),\n",
       " ('guy', 1),\n",
       " ('fence', 1),\n",
       " ('trash', 1),\n",
       " ('bin', 1),\n",
       " ('huffpost', 1),\n",
       " ('high', 1),\n",
       " ('rank', 1),\n",
       " ('nypd', 1),\n",
       " ('plastic', 1)]"
      ]
     },
     "execution_count": 140,
     "metadata": {},
     "output_type": "execute_result"
    }
   ],
   "source": [
    "c.most_common()[260:280]"
   ]
  },
  {
   "cell_type": "code",
   "execution_count": 137,
   "metadata": {},
   "outputs": [
    {
     "name": "stdout",
     "output_type": "stream",
     "text": [
      "Police officer maces woman and kicks her in the head\n"
     ]
    }
   ],
   "source": [
    "# manual checks\n",
    "\n",
    "for item in data:\n",
    "    #if 'gas' in item['title'].lower() and 'tear' not in item['title'].lower():\n",
    "    #if 'rubber' in item['title'] and 'bullet' not in item['title']:\n",
    "    #if 'protestor' in item['title'].lower() or 'protester' in item['title']:\n",
    "    if 'kick' in item['title'].lower():\n",
    "        print(item['title'])\n",
    "        \n",
    "    "
   ]
  },
  {
   "cell_type": "code",
   "execution_count": null,
   "metadata": {},
   "outputs": [],
   "source": [
    "# METHODS used\n",
    "\n",
    "# gas (tear gas) - 61\n",
    "# pepper (pepper spray/pepper bullets/pepper bomb)- 47 + 3 (pepperspray) = 50\n",
    "# rubber (rubber bullet) - 33\n",
    "# baton - 15\n",
    "# flashbang - 10\n",
    "# stinger grenade - 1\n",
    "\n",
    "\n",
    "# ACTIONS - shoot and fire excluded as they're encompassed in the methods (e.g., \"fire bullets\")\n",
    "\n",
    "# arrest & detain - 32 & 4 = 36\n",
    "# punch - 7\n",
    "# choke - 2\n",
    "# kick - 1"
   ]
  },
  {
   "cell_type": "code",
   "execution_count": 113,
   "metadata": {},
   "outputs": [],
   "source": []
  },
  {
   "cell_type": "code",
   "execution_count": null,
   "metadata": {},
   "outputs": [],
   "source": [
    "# TARGETS\n",
    "\n",
    "# reporter & journalise - 30 & 5 + 1 (photojournalist) + 1 (cameraman) = 36\n",
    "# protestor  - 78 + 64 (protestor) = 142"
   ]
  },
  {
   "cell_type": "code",
   "execution_count": null,
   "metadata": {},
   "outputs": [],
   "source": [
    "# BODY PARTS TARGETED (somehow, note this includes the \"knee on neck\")\n",
    "\n",
    "# neck - 9 \n",
    "# face - 14\n",
    "# head - 13"
   ]
  }
 ],
 "metadata": {
  "kernelspec": {
   "display_name": "Python 3",
   "language": "python",
   "name": "python3"
  },
  "language_info": {
   "codemirror_mode": {
    "name": "ipython",
    "version": 3
   },
   "file_extension": ".py",
   "mimetype": "text/x-python",
   "name": "python",
   "nbconvert_exporter": "python",
   "pygments_lexer": "ipython3",
   "version": "3.7.6"
  }
 },
 "nbformat": 4,
 "nbformat_minor": 4
}
