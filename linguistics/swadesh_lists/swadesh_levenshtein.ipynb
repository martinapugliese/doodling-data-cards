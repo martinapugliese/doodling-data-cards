{
 "cells": [
  {
   "cell_type": "code",
   "execution_count": 52,
   "id": "4c009181-e0a0-4ca9-95ab-84ca0b893b53",
   "metadata": {
    "execution": {
     "iopub.execute_input": "2023-01-29T18:35:01.533727Z",
     "iopub.status.busy": "2023-01-29T18:35:01.533209Z",
     "iopub.status.idle": "2023-01-29T18:35:01.545623Z",
     "shell.execute_reply": "2023-01-29T18:35:01.541956Z",
     "shell.execute_reply.started": "2023-01-29T18:35:01.533673Z"
    },
    "tags": []
   },
   "outputs": [],
   "source": [
    "import Levenshtein\n",
    "import wikipedia\n",
    "import numpy as np\n",
    "import itertools"
   ]
  },
  {
   "cell_type": "code",
   "execution_count": 199,
   "id": "1b4da7fa-184f-45a9-8178-6fbf4b4429ac",
   "metadata": {
    "execution": {
     "iopub.execute_input": "2023-02-05T19:00:14.554577Z",
     "iopub.status.busy": "2023-02-05T19:00:14.553374Z",
     "iopub.status.idle": "2023-02-05T19:00:14.567966Z",
     "shell.execute_reply": "2023-02-05T19:00:14.566641Z",
     "shell.execute_reply.started": "2023-02-05T19:00:14.554522Z"
    },
    "tags": []
   },
   "outputs": [
    {
     "data": {
      "text/plain": [
       "2"
      ]
     },
     "execution_count": 199,
     "metadata": {},
     "output_type": "execute_result"
    }
   ],
   "source": [
    "Levenshtein.distance('far', 'fairy')"
   ]
  },
  {
   "cell_type": "code",
   "execution_count": 190,
   "id": "3cd66da6-d468-4c1b-850b-a00b216e90af",
   "metadata": {
    "execution": {
     "iopub.execute_input": "2023-02-04T19:04:24.441509Z",
     "iopub.status.busy": "2023-02-04T19:04:24.441125Z",
     "iopub.status.idle": "2023-02-04T19:04:24.486761Z",
     "shell.execute_reply": "2023-02-04T19:04:24.478022Z",
     "shell.execute_reply.started": "2023-02-04T19:04:24.441476Z"
    },
    "tags": []
   },
   "outputs": [],
   "source": [
    "# read files\n",
    "\n",
    "d_lines = {\n",
    "    '1': open('spanish.txt', 'r').readlines(),\n",
    "    '2': open('portuguese.txt', 'r').readlines(),\n",
    "    '3': open('french.txt', 'r').readlines(),\n",
    "    '4': open('italian.txt', 'r').readlines(),\n",
    "    '5': open('romanian.txt', 'r').readlines(),\n",
    "    '6': open('neapolitan.txt', 'r').readlines(),\n",
    "    '7': open('sicilian.txt', 'r').readlines(),\n",
    "    '8': open('catalan.txt', 'r').readlines(),\n",
    "    '9': open('galician.txt', 'r').readlines(),\n",
    "    '10': open('friulan.txt', 'r').readlines(),\n",
    "    '11': open('aromanian.txt', 'r').readlines(),\n",
    "    '12': open('occitan.txt', 'r').readlines(),\n",
    "    '13': open('megleno-romanian.txt', 'r').readlines(),\n",
    "    '14': open('german.txt', 'r').readlines(),\n",
    "}"
   ]
  },
  {
   "cell_type": "code",
   "execution_count": 191,
   "id": "f6f08515-2c17-4388-b921-2e34af99e055",
   "metadata": {
    "execution": {
     "iopub.execute_input": "2023-02-04T19:04:25.298692Z",
     "iopub.status.busy": "2023-02-04T19:04:25.298244Z",
     "iopub.status.idle": "2023-02-04T19:04:25.306715Z",
     "shell.execute_reply": "2023-02-04T19:04:25.305509Z",
     "shell.execute_reply.started": "2023-02-04T19:04:25.298651Z"
    },
    "tags": []
   },
   "outputs": [],
   "source": [
    "#d_lines['6']"
   ]
  },
  {
   "cell_type": "code",
   "execution_count": 192,
   "id": "c56e00ae-eae0-465b-826c-27234af48ebb",
   "metadata": {
    "execution": {
     "iopub.execute_input": "2023-02-04T19:04:25.743544Z",
     "iopub.status.busy": "2023-02-04T19:04:25.743202Z",
     "iopub.status.idle": "2023-02-04T19:04:25.759303Z",
     "shell.execute_reply": "2023-02-04T19:04:25.755125Z",
     "shell.execute_reply.started": "2023-02-04T19:04:25.743513Z"
    },
    "tags": []
   },
   "outputs": [],
   "source": [
    "# words are always in the same order\n",
    "# if there's more than one word per line (e.g. he/she/it) will only use the first\n",
    "\n",
    "# reading the eng list from the first file, it's the same everywhere anyway\n",
    "eng_list = [d_lines['1'][i].split('\\t')[1].split(',')[0] for i in range(1, 208)]\n",
    "\n",
    "word_lists ={str(i): [] for i in range(1, len(d_lines) + 1)}\n",
    "for i in range(1, len(d_lines) + 1):\n",
    "    word_lists[str(i)] = [d_lines[str(i)][j].split('\\t')[2].split(',')[0] for j in range(1,208)]"
   ]
  },
  {
   "cell_type": "code",
   "execution_count": 193,
   "id": "a1cb1acc-d0ee-4a2f-b22e-227b042b1727",
   "metadata": {
    "execution": {
     "iopub.execute_input": "2023-02-04T19:04:26.303777Z",
     "iopub.status.busy": "2023-02-04T19:04:26.302700Z",
     "iopub.status.idle": "2023-02-04T19:04:26.309082Z",
     "shell.execute_reply": "2023-02-04T19:04:26.307545Z",
     "shell.execute_reply.started": "2023-02-04T19:04:26.303739Z"
    },
    "tags": []
   },
   "outputs": [],
   "source": [
    "#word_lists['11']"
   ]
  },
  {
   "cell_type": "code",
   "execution_count": 194,
   "id": "fb80d274-7577-4d0a-9116-6ee4fdb28849",
   "metadata": {
    "execution": {
     "iopub.execute_input": "2023-02-04T19:04:26.785277Z",
     "iopub.status.busy": "2023-02-04T19:04:26.784963Z",
     "iopub.status.idle": "2023-02-04T19:04:26.836299Z",
     "shell.execute_reply": "2023-02-04T19:04:26.835588Z",
     "shell.execute_reply.started": "2023-02-04T19:04:26.785249Z"
    },
    "tags": []
   },
   "outputs": [],
   "source": [
    "d_lev = {str(item): {} for item in list(itertools.combinations(range(1,len(d_lines) + 1), 2))}\n",
    "\n",
    "for i in range(207):\n",
    "    for j in range(1,len(d_lines) + 1):\n",
    "        for k in range(j+1,len(d_lines) + 1):\n",
    "            d_lev[str((j,k))][eng_list[i]] = Levenshtein.distance(word_lists[str(j)][i], \n",
    "                                                                  word_lists[str(k)][i])"
   ]
  },
  {
   "cell_type": "code",
   "execution_count": 195,
   "id": "b0355fce-56c4-4d14-bf2c-f66b7cbe74cf",
   "metadata": {
    "execution": {
     "iopub.execute_input": "2023-02-04T19:04:27.190392Z",
     "iopub.status.busy": "2023-02-04T19:04:27.189942Z",
     "iopub.status.idle": "2023-02-04T19:04:27.202396Z",
     "shell.execute_reply": "2023-02-04T19:04:27.200212Z",
     "shell.execute_reply.started": "2023-02-04T19:04:27.190355Z"
    },
    "tags": []
   },
   "outputs": [
    {
     "data": {
      "text/plain": [
       "5"
      ]
     },
     "execution_count": 195,
     "metadata": {},
     "output_type": "execute_result"
    }
   ],
   "source": [
    "Levenshtein.distance('ventre', 'pancia')"
   ]
  },
  {
   "cell_type": "code",
   "execution_count": 196,
   "id": "d27ac562-1f2e-42b7-bf5f-4aebfdba93d3",
   "metadata": {
    "execution": {
     "iopub.execute_input": "2023-02-04T19:04:28.180599Z",
     "iopub.status.busy": "2023-02-04T19:04:28.178836Z",
     "iopub.status.idle": "2023-02-04T19:04:28.196535Z",
     "shell.execute_reply": "2023-02-04T19:04:28.194443Z",
     "shell.execute_reply.started": "2023-02-04T19:04:28.180543Z"
    },
    "tags": []
   },
   "outputs": [],
   "source": [
    "d_lev_avg = {k: np.mean(list(d_lev[k].values())) for k in d_lev}"
   ]
  },
  {
   "cell_type": "code",
   "execution_count": 197,
   "id": "e8bef512-d2b2-4855-8775-d6e83b9141e6",
   "metadata": {
    "execution": {
     "iopub.execute_input": "2023-02-04T19:04:29.095791Z",
     "iopub.status.busy": "2023-02-04T19:04:29.095264Z",
     "iopub.status.idle": "2023-02-04T19:04:29.109061Z",
     "shell.execute_reply": "2023-02-04T19:04:29.107680Z",
     "shell.execute_reply.started": "2023-02-04T19:04:29.095759Z"
    },
    "tags": []
   },
   "outputs": [
    {
     "data": {
      "text/plain": [
       "{'(1, 2)': 2.3285024154589373,\n",
       " '(1, 3)': 4.0,\n",
       " '(1, 4)': 3.260869565217391,\n",
       " '(1, 5)': 4.961352657004831,\n",
       " '(1, 6)': 4.043478260869565,\n",
       " '(1, 7)': 4.101449275362318,\n",
       " '(1, 8)': 2.8309178743961354,\n",
       " '(1, 9)': 2.429951690821256,\n",
       " '(1, 10)': 3.743961352657005,\n",
       " '(1, 11)': 4.449275362318841,\n",
       " '(1, 12)': 3.256038647342995,\n",
       " '(1, 13)': 4.893719806763285,\n",
       " '(1, 14)': 5.140096618357488,\n",
       " '(2, 3)': 3.7053140096618358,\n",
       " '(2, 4)': 3.0531400966183573,\n",
       " '(2, 5)': 4.806763285024155,\n",
       " '(2, 6)': 3.714975845410628,\n",
       " '(2, 7)': 3.8067632850241546,\n",
       " '(2, 8)': 2.792270531400966,\n",
       " '(2, 9)': 2.1449275362318843,\n",
       " '(2, 10)': 3.6473429951690823,\n",
       " '(2, 11)': 4.3768115942028984,\n",
       " '(2, 12)': 3.0869565217391304,\n",
       " '(2, 13)': 4.898550724637682,\n",
       " '(2, 14)': 5.06280193236715,\n",
       " '(3, 4)': 3.898550724637681,\n",
       " '(3, 5)': 5.043478260869565,\n",
       " '(3, 6)': 4.51207729468599,\n",
       " '(3, 7)': 4.314009661835748,\n",
       " '(3, 8)': 3.3719806763285023,\n",
       " '(3, 9)': 4.251207729468599,\n",
       " '(3, 10)': 3.63768115942029,\n",
       " '(3, 11)': 4.777777777777778,\n",
       " '(3, 12)': 3.251207729468599,\n",
       " '(3, 13)': 5.1980676328502415,\n",
       " '(3, 14)': 5.091787439613527,\n",
       " '(4, 5)': 4.869565217391305,\n",
       " '(4, 6)': 2.8067632850241546,\n",
       " '(4, 7)': 2.8840579710144927,\n",
       " '(4, 8)': 3.2801932367149758,\n",
       " '(4, 9)': 3.7294685990338166,\n",
       " '(4, 10)': 3.5652173913043477,\n",
       " '(4, 11)': 4.6521739130434785,\n",
       " '(4, 12)': 3.429951690821256,\n",
       " '(4, 13)': 4.961352657004831,\n",
       " '(4, 14)': 5.159420289855072,\n",
       " '(5, 6)': 5.115942028985507,\n",
       " '(5, 7)': 5.115942028985507,\n",
       " '(5, 8)': 4.657004830917875,\n",
       " '(5, 9)': 5.06280193236715,\n",
       " '(5, 10)': 4.671497584541063,\n",
       " '(5, 11)': 3.792270531400966,\n",
       " '(5, 12)': 4.714975845410628,\n",
       " '(5, 13)': 4.173913043478261,\n",
       " '(5, 14)': 5.594202898550725,\n",
       " '(6, 7)': 3.1690821256038646,\n",
       " '(6, 8)': 4.082125603864735,\n",
       " '(6, 9)': 4.338164251207729,\n",
       " '(6, 10)': 3.714975845410628,\n",
       " '(6, 11)': 4.642512077294686,\n",
       " '(6, 12)': 4.072463768115942,\n",
       " '(6, 13)': 5.004830917874396,\n",
       " '(6, 14)': 5.231884057971015,\n",
       " '(7, 8)': 3.7777777777777777,\n",
       " '(7, 9)': 4.352657004830918,\n",
       " '(7, 10)': 3.9903381642512077,\n",
       " '(7, 11)': 4.550724637681159,\n",
       " '(7, 12)': 3.8115942028985508,\n",
       " '(7, 13)': 5.043478260869565,\n",
       " '(7, 14)': 5.429951690821256,\n",
       " '(8, 9)': 3.318840579710145,\n",
       " '(8, 10)': 3.347826086956522,\n",
       " '(8, 11)': 4.352657004830918,\n",
       " '(8, 12)': 2.314009661835749,\n",
       " '(8, 13)': 4.884057971014493,\n",
       " '(8, 14)': 4.855072463768116,\n",
       " '(9, 10)': 4.1980676328502415,\n",
       " '(9, 11)': 4.666666666666667,\n",
       " '(9, 12)': 3.632850241545894,\n",
       " '(9, 13)': 4.555555555555555,\n",
       " '(9, 14)': 5.342995169082125,\n",
       " '(10, 11)': 4.217391304347826,\n",
       " '(10, 12)': 3.3526570048309177,\n",
       " '(10, 13)': 4.584541062801932,\n",
       " '(10, 14)': 4.792270531400966,\n",
       " '(11, 12)': 4.342995169082125,\n",
       " '(11, 13)': 2.9806763285024154,\n",
       " '(11, 14)': 5.236714975845411,\n",
       " '(12, 13)': 4.782608695652174,\n",
       " '(12, 14)': 4.966183574879227,\n",
       " '(13, 14)': 5.502415458937198}"
      ]
     },
     "execution_count": 197,
     "metadata": {},
     "output_type": "execute_result"
    }
   ],
   "source": [
    "d_lev_avg"
   ]
  },
  {
   "cell_type": "code",
   "execution_count": 131,
   "id": "ef4162f8-804e-4c22-9fe5-9ecea529840c",
   "metadata": {
    "execution": {
     "iopub.execute_input": "2023-01-31T19:15:26.409679Z",
     "iopub.status.busy": "2023-01-31T19:15:26.409342Z",
     "iopub.status.idle": "2023-01-31T19:15:26.418737Z",
     "shell.execute_reply": "2023-01-31T19:15:26.417122Z",
     "shell.execute_reply.started": "2023-01-31T19:15:26.409646Z"
    },
    "tags": []
   },
   "outputs": [
    {
     "data": {
      "text/plain": [
       "{}"
      ]
     },
     "execution_count": 131,
     "metadata": {},
     "output_type": "execute_result"
    }
   ],
   "source": [
    "d_lev['(1, 6)']"
   ]
  },
  {
   "cell_type": "code",
   "execution_count": null,
   "id": "4d46aa15-bec9-4d03-8b47-49c5f6f841a1",
   "metadata": {},
   "outputs": [],
   "source": []
  }
 ],
 "metadata": {
  "kernelspec": {
   "display_name": "Python 3 (ipykernel)",
   "language": "python",
   "name": "python3"
  },
  "language_info": {
   "codemirror_mode": {
    "name": "ipython",
    "version": 3
   },
   "file_extension": ".py",
   "mimetype": "text/x-python",
   "name": "python",
   "nbconvert_exporter": "python",
   "pygments_lexer": "ipython3",
   "version": "3.9.6"
  }
 },
 "nbformat": 4,
 "nbformat_minor": 5
}
