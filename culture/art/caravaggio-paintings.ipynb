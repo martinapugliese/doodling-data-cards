{
 "cells": [
  {
   "cell_type": "code",
   "execution_count": 1,
   "id": "d18f1931-63c8-49e5-9747-6237ae171cd4",
   "metadata": {
    "execution": {
     "iopub.execute_input": "2024-01-24T17:49:27.599786Z",
     "iopub.status.busy": "2024-01-24T17:49:27.599305Z",
     "iopub.status.idle": "2024-01-24T17:49:31.528322Z",
     "shell.execute_reply": "2024-01-24T17:49:31.527376Z",
     "shell.execute_reply.started": "2024-01-24T17:49:27.599746Z"
    },
    "tags": []
   },
   "outputs": [],
   "source": [
    "import wikipedia\n",
    "import pandas as pd\n",
    "from bs4 import BeautifulSoup\n",
    "import requests\n",
    "\n",
    "import cv2\n",
    "import sklearn\n",
    "from skimage import io\n",
    "import numpy as np\n",
    "from matplotlib import pyplot as plt\n",
    "from matplotlib import colors\n",
    "\n",
    "import os\n",
    "import json\n",
    "\n",
    "from sklearn.cluster import KMeans\n",
    "\n",
    "from colour_segmentation.base.segmentation_algorithm import SegmentationAlgorithm\n",
    "from colour_segmentation.segmentator import Segmentator\n",
    "\n",
    "from IPython.core.interactiveshell import InteractiveShell\n",
    "\n",
    "InteractiveShell.ast_node_interactivity = \"all\"\n",
    "%config Completer.use_jedi = False\n",
    "\n",
    "pd.set_option('display.max_colwidth', None)\n"
   ]
  },
  {
   "cell_type": "markdown",
   "id": "4cdddb8a-524c-4cd5-917c-2927d8a19bea",
   "metadata": {
    "tags": []
   },
   "source": [
    "# Look at data for Caravaggio's paintings - especially the colours\n",
    "\n",
    "Uses this [Wikipedia list](https://en.wikipedia.org/wiki/List_of_paintings_by_Caravaggio). We'll parse the tables for each decade and get the data. We'll download all the original files of the paintings.\n",
    "\n",
    "We'll also extract the colours from each painting to cluster them."
   ]
  },
  {
   "cell_type": "code",
   "execution_count": 2,
   "id": "d10ba464-ecdf-4598-a681-97c4e48b460e",
   "metadata": {
    "execution": {
     "iopub.execute_input": "2024-01-24T17:49:31.534312Z",
     "iopub.status.busy": "2024-01-24T17:49:31.531743Z",
     "iopub.status.idle": "2024-01-24T17:49:34.335184Z",
     "shell.execute_reply": "2024-01-24T17:49:34.333813Z",
     "shell.execute_reply.started": "2024-01-24T17:49:31.534268Z"
    },
    "tags": []
   },
   "outputs": [],
   "source": [
    "# Read the page and its HTML\n",
    "\n",
    "page = wikipedia.page('List of paintings by Caravaggio')\n",
    "html = page.html()\n",
    "\n",
    "# Read the list of Caravaggio's paintings - there's only one real table\n",
    "page_tables = pd.read_html(html)\n",
    "df = page_tables[0].copy()   # make said table into a df"
   ]
  },
  {
   "cell_type": "code",
   "execution_count": 3,
   "id": "898ac4c9-9ad3-4acf-a093-be24d40ab3f9",
   "metadata": {
    "execution": {
     "iopub.execute_input": "2024-01-24T17:49:34.340011Z",
     "iopub.status.busy": "2024-01-24T17:49:34.339345Z",
     "iopub.status.idle": "2024-01-24T17:49:34.469317Z",
     "shell.execute_reply": "2024-01-24T17:49:34.467459Z",
     "shell.execute_reply.started": "2024-01-24T17:49:34.339957Z"
    },
    "tags": []
   },
   "outputs": [
    {
     "data": {
      "text/html": [
       "<div>\n",
       "<style scoped>\n",
       "    .dataframe tbody tr th:only-of-type {\n",
       "        vertical-align: middle;\n",
       "    }\n",
       "\n",
       "    .dataframe tbody tr th {\n",
       "        vertical-align: top;\n",
       "    }\n",
       "\n",
       "    .dataframe thead th {\n",
       "        text-align: right;\n",
       "    }\n",
       "</style>\n",
       "<table border=\"1\" class=\"dataframe\">\n",
       "  <thead>\n",
       "    <tr style=\"text-align: right;\">\n",
       "      <th></th>\n",
       "      <th>Painting</th>\n",
       "      <th>YearName</th>\n",
       "      <th>City, Gallery</th>\n",
       "      <th>DimensionsTechnique</th>\n",
       "      <th>Notes</th>\n",
       "    </tr>\n",
       "  </thead>\n",
       "  <tbody>\n",
       "    <tr>\n",
       "      <th>17</th>\n",
       "      <td>NaN</td>\n",
       "      <td>c. 1597:Penitent Magdalene</td>\n",
       "      <td>Rome, Doria Pamphilj Gallery</td>\n",
       "      <td>122.5 × 98.5 cmOil on canvas</td>\n",
       "      <td>[9]</td>\n",
       "    </tr>\n",
       "    <tr>\n",
       "      <th>26</th>\n",
       "      <td>NaN</td>\n",
       "      <td>c. 1598:Martha and Mary Magdalene</td>\n",
       "      <td>Detroit, Detroit Institute of Arts</td>\n",
       "      <td>97.8 × 132.7 cmOil on canvas</td>\n",
       "      <td>NaN</td>\n",
       "    </tr>\n",
       "    <tr>\n",
       "      <th>65</th>\n",
       "      <td>NaN</td>\n",
       "      <td>1605/1606:Magdalene grieving</td>\n",
       "      <td>Rome, Private Collection</td>\n",
       "      <td>112 × 92 cmOil on canvas</td>\n",
       "      <td>NaN</td>\n",
       "    </tr>\n",
       "  </tbody>\n",
       "</table>\n",
       "</div>"
      ],
      "text/plain": [
       "    Painting                           YearName  \\\n",
       "17       NaN         c. 1597:Penitent Magdalene   \n",
       "26       NaN  c. 1598:Martha and Mary Magdalene   \n",
       "65       NaN       1605/1606:Magdalene grieving   \n",
       "\n",
       "                         City, Gallery           DimensionsTechnique Notes  \n",
       "17        Rome, Doria Pamphilj Gallery  122.5 × 98.5 cmOil on canvas   [9]  \n",
       "26  Detroit, Detroit Institute of Arts  97.8 × 132.7 cmOil on canvas   NaN  \n",
       "65            Rome, Private Collection      112 × 92 cmOil on canvas   NaN  "
      ]
     },
     "execution_count": 3,
     "metadata": {},
     "output_type": "execute_result"
    }
   ],
   "source": [
    "df[df.YearName.str.contains('Magdalene')]"
   ]
  },
  {
   "cell_type": "code",
   "execution_count": 6,
   "id": "3996a486-6fe3-4ea4-9380-f38ab371443b",
   "metadata": {
    "execution": {
     "iopub.execute_input": "2024-01-24T17:51:04.992611Z",
     "iopub.status.busy": "2024-01-24T17:51:04.992152Z",
     "iopub.status.idle": "2024-01-24T17:51:05.008013Z",
     "shell.execute_reply": "2024-01-24T17:51:05.004427Z",
     "shell.execute_reply.started": "2024-01-24T17:51:04.992575Z"
    },
    "tags": []
   },
   "outputs": [],
   "source": [
    "# add col for just city\n",
    "\n",
    "df['city'] = df['City, Gallery'].apply(lambda row: row.split(',')[0])"
   ]
  },
  {
   "cell_type": "code",
   "execution_count": 7,
   "id": "9e7bb9e2-d985-4e11-afa3-f76e53772861",
   "metadata": {
    "execution": {
     "iopub.execute_input": "2024-01-24T17:51:09.044888Z",
     "iopub.status.busy": "2024-01-24T17:51:09.040550Z",
     "iopub.status.idle": "2024-01-24T17:51:09.239802Z",
     "shell.execute_reply": "2024-01-24T17:51:09.238266Z",
     "shell.execute_reply.started": "2024-01-24T17:51:09.044803Z"
    },
    "tags": []
   },
   "outputs": [
    {
     "data": {
      "text/html": [
       "<div>\n",
       "<style scoped>\n",
       "    .dataframe tbody tr th:only-of-type {\n",
       "        vertical-align: middle;\n",
       "    }\n",
       "\n",
       "    .dataframe tbody tr th {\n",
       "        vertical-align: top;\n",
       "    }\n",
       "\n",
       "    .dataframe thead th {\n",
       "        text-align: right;\n",
       "    }\n",
       "</style>\n",
       "<table border=\"1\" class=\"dataframe\">\n",
       "  <thead>\n",
       "    <tr style=\"text-align: right;\">\n",
       "      <th></th>\n",
       "      <th>Painting</th>\n",
       "      <th>YearName</th>\n",
       "      <th>City, Gallery</th>\n",
       "      <th>DimensionsTechnique</th>\n",
       "      <th>Notes</th>\n",
       "    </tr>\n",
       "    <tr>\n",
       "      <th>city</th>\n",
       "      <th></th>\n",
       "      <th></th>\n",
       "      <th></th>\n",
       "      <th></th>\n",
       "      <th></th>\n",
       "    </tr>\n",
       "  </thead>\n",
       "  <tbody>\n",
       "    <tr>\n",
       "      <th>Basel</th>\n",
       "      <td>0</td>\n",
       "      <td>1</td>\n",
       "      <td>1</td>\n",
       "      <td>1</td>\n",
       "      <td>1</td>\n",
       "    </tr>\n",
       "    <tr>\n",
       "      <th>Berlin</th>\n",
       "      <td>0</td>\n",
       "      <td>4</td>\n",
       "      <td>4</td>\n",
       "      <td>4</td>\n",
       "      <td>3</td>\n",
       "    </tr>\n",
       "    <tr>\n",
       "      <th>Cleveland</th>\n",
       "      <td>0</td>\n",
       "      <td>1</td>\n",
       "      <td>1</td>\n",
       "      <td>1</td>\n",
       "      <td>0</td>\n",
       "    </tr>\n",
       "    <tr>\n",
       "      <th>Cremona</th>\n",
       "      <td>0</td>\n",
       "      <td>1</td>\n",
       "      <td>1</td>\n",
       "      <td>1</td>\n",
       "      <td>0</td>\n",
       "    </tr>\n",
       "    <tr>\n",
       "      <th>Detroit</th>\n",
       "      <td>0</td>\n",
       "      <td>1</td>\n",
       "      <td>1</td>\n",
       "      <td>1</td>\n",
       "      <td>0</td>\n",
       "    </tr>\n",
       "    <tr>\n",
       "      <th>Dublin</th>\n",
       "      <td>0</td>\n",
       "      <td>1</td>\n",
       "      <td>1</td>\n",
       "      <td>1</td>\n",
       "      <td>0</td>\n",
       "    </tr>\n",
       "    <tr>\n",
       "      <th>Florence</th>\n",
       "      <td>0</td>\n",
       "      <td>9</td>\n",
       "      <td>9</td>\n",
       "      <td>9</td>\n",
       "      <td>4</td>\n",
       "    </tr>\n",
       "    <tr>\n",
       "      <th>Fort Worth</th>\n",
       "      <td>0</td>\n",
       "      <td>1</td>\n",
       "      <td>1</td>\n",
       "      <td>1</td>\n",
       "      <td>0</td>\n",
       "    </tr>\n",
       "    <tr>\n",
       "      <th>Genoa</th>\n",
       "      <td>0</td>\n",
       "      <td>1</td>\n",
       "      <td>1</td>\n",
       "      <td>1</td>\n",
       "      <td>0</td>\n",
       "    </tr>\n",
       "    <tr>\n",
       "      <th>Hartford</th>\n",
       "      <td>0</td>\n",
       "      <td>1</td>\n",
       "      <td>1</td>\n",
       "      <td>1</td>\n",
       "      <td>0</td>\n",
       "    </tr>\n",
       "    <tr>\n",
       "      <th>Italy</th>\n",
       "      <td>0</td>\n",
       "      <td>1</td>\n",
       "      <td>1</td>\n",
       "      <td>1</td>\n",
       "      <td>1</td>\n",
       "    </tr>\n",
       "    <tr>\n",
       "      <th>Kansas City</th>\n",
       "      <td>0</td>\n",
       "      <td>1</td>\n",
       "      <td>1</td>\n",
       "      <td>1</td>\n",
       "      <td>0</td>\n",
       "    </tr>\n",
       "    <tr>\n",
       "      <th>London</th>\n",
       "      <td>0</td>\n",
       "      <td>6</td>\n",
       "      <td>6</td>\n",
       "      <td>6</td>\n",
       "      <td>2</td>\n",
       "    </tr>\n",
       "    <tr>\n",
       "      <th>Los Angeles</th>\n",
       "      <td>0</td>\n",
       "      <td>1</td>\n",
       "      <td>1</td>\n",
       "      <td>1</td>\n",
       "      <td>0</td>\n",
       "    </tr>\n",
       "    <tr>\n",
       "      <th>Madrid</th>\n",
       "      <td>0</td>\n",
       "      <td>3</td>\n",
       "      <td>3</td>\n",
       "      <td>3</td>\n",
       "      <td>0</td>\n",
       "    </tr>\n",
       "    <tr>\n",
       "      <th>Messina</th>\n",
       "      <td>0</td>\n",
       "      <td>2</td>\n",
       "      <td>2</td>\n",
       "      <td>2</td>\n",
       "      <td>0</td>\n",
       "    </tr>\n",
       "    <tr>\n",
       "      <th>Milan</th>\n",
       "      <td>0</td>\n",
       "      <td>2</td>\n",
       "      <td>2</td>\n",
       "      <td>2</td>\n",
       "      <td>0</td>\n",
       "    </tr>\n",
       "    <tr>\n",
       "      <th>Montserrat</th>\n",
       "      <td>0</td>\n",
       "      <td>1</td>\n",
       "      <td>1</td>\n",
       "      <td>1</td>\n",
       "      <td>0</td>\n",
       "    </tr>\n",
       "    <tr>\n",
       "      <th>Munich</th>\n",
       "      <td>0</td>\n",
       "      <td>1</td>\n",
       "      <td>1</td>\n",
       "      <td>1</td>\n",
       "      <td>0</td>\n",
       "    </tr>\n",
       "    <tr>\n",
       "      <th>Nancy</th>\n",
       "      <td>0</td>\n",
       "      <td>1</td>\n",
       "      <td>1</td>\n",
       "      <td>1</td>\n",
       "      <td>0</td>\n",
       "    </tr>\n",
       "    <tr>\n",
       "      <th>Naples</th>\n",
       "      <td>0</td>\n",
       "      <td>3</td>\n",
       "      <td>3</td>\n",
       "      <td>3</td>\n",
       "      <td>1</td>\n",
       "    </tr>\n",
       "    <tr>\n",
       "      <th>New York</th>\n",
       "      <td>0</td>\n",
       "      <td>1</td>\n",
       "      <td>1</td>\n",
       "      <td>1</td>\n",
       "      <td>1</td>\n",
       "    </tr>\n",
       "    <tr>\n",
       "      <th>New York City</th>\n",
       "      <td>0</td>\n",
       "      <td>4</td>\n",
       "      <td>4</td>\n",
       "      <td>4</td>\n",
       "      <td>1</td>\n",
       "    </tr>\n",
       "    <tr>\n",
       "      <th>Palermo</th>\n",
       "      <td>0</td>\n",
       "      <td>1</td>\n",
       "      <td>1</td>\n",
       "      <td>1</td>\n",
       "      <td>1</td>\n",
       "    </tr>\n",
       "    <tr>\n",
       "      <th>Paris</th>\n",
       "      <td>0</td>\n",
       "      <td>3</td>\n",
       "      <td>3</td>\n",
       "      <td>3</td>\n",
       "      <td>0</td>\n",
       "    </tr>\n",
       "    <tr>\n",
       "      <th>Potsdam</th>\n",
       "      <td>0</td>\n",
       "      <td>1</td>\n",
       "      <td>1</td>\n",
       "      <td>1</td>\n",
       "      <td>0</td>\n",
       "    </tr>\n",
       "    <tr>\n",
       "      <th>Prato</th>\n",
       "      <td>0</td>\n",
       "      <td>1</td>\n",
       "      <td>1</td>\n",
       "      <td>1</td>\n",
       "      <td>0</td>\n",
       "    </tr>\n",
       "    <tr>\n",
       "      <th>Princeton</th>\n",
       "      <td>0</td>\n",
       "      <td>1</td>\n",
       "      <td>1</td>\n",
       "      <td>1</td>\n",
       "      <td>0</td>\n",
       "    </tr>\n",
       "    <tr>\n",
       "      <th>Private Collection</th>\n",
       "      <td>0</td>\n",
       "      <td>1</td>\n",
       "      <td>1</td>\n",
       "      <td>1</td>\n",
       "      <td>1</td>\n",
       "    </tr>\n",
       "    <tr>\n",
       "      <th>Rome</th>\n",
       "      <td>0</td>\n",
       "      <td>28</td>\n",
       "      <td>28</td>\n",
       "      <td>28</td>\n",
       "      <td>8</td>\n",
       "    </tr>\n",
       "    <tr>\n",
       "      <th>Rouen</th>\n",
       "      <td>0</td>\n",
       "      <td>1</td>\n",
       "      <td>1</td>\n",
       "      <td>1</td>\n",
       "      <td>0</td>\n",
       "    </tr>\n",
       "    <tr>\n",
       "      <th>St. Petersburg</th>\n",
       "      <td>0</td>\n",
       "      <td>1</td>\n",
       "      <td>1</td>\n",
       "      <td>1</td>\n",
       "      <td>0</td>\n",
       "    </tr>\n",
       "    <tr>\n",
       "      <th>Switzerland</th>\n",
       "      <td>0</td>\n",
       "      <td>1</td>\n",
       "      <td>1</td>\n",
       "      <td>1</td>\n",
       "      <td>1</td>\n",
       "    </tr>\n",
       "    <tr>\n",
       "      <th>Syracuse</th>\n",
       "      <td>0</td>\n",
       "      <td>1</td>\n",
       "      <td>1</td>\n",
       "      <td>1</td>\n",
       "      <td>0</td>\n",
       "    </tr>\n",
       "    <tr>\n",
       "      <th>Toledo</th>\n",
       "      <td>0</td>\n",
       "      <td>1</td>\n",
       "      <td>1</td>\n",
       "      <td>1</td>\n",
       "      <td>1</td>\n",
       "    </tr>\n",
       "    <tr>\n",
       "      <th>Valletta</th>\n",
       "      <td>0</td>\n",
       "      <td>3</td>\n",
       "      <td>3</td>\n",
       "      <td>3</td>\n",
       "      <td>1</td>\n",
       "    </tr>\n",
       "    <tr>\n",
       "      <th>Vatican City</th>\n",
       "      <td>0</td>\n",
       "      <td>1</td>\n",
       "      <td>1</td>\n",
       "      <td>1</td>\n",
       "      <td>0</td>\n",
       "    </tr>\n",
       "    <tr>\n",
       "      <th>Vienna</th>\n",
       "      <td>0</td>\n",
       "      <td>3</td>\n",
       "      <td>3</td>\n",
       "      <td>3</td>\n",
       "      <td>0</td>\n",
       "    </tr>\n",
       "  </tbody>\n",
       "</table>\n",
       "</div>"
      ],
      "text/plain": [
       "                    Painting  YearName  City, Gallery  DimensionsTechnique  \\\n",
       "city                                                                         \n",
       "Basel                      0         1              1                    1   \n",
       "Berlin                     0         4              4                    4   \n",
       "Cleveland                  0         1              1                    1   \n",
       "Cremona                    0         1              1                    1   \n",
       "Detroit                    0         1              1                    1   \n",
       "Dublin                     0         1              1                    1   \n",
       "Florence                   0         9              9                    9   \n",
       "Fort Worth                 0         1              1                    1   \n",
       "Genoa                      0         1              1                    1   \n",
       "Hartford                   0         1              1                    1   \n",
       "Italy                      0         1              1                    1   \n",
       "Kansas City                0         1              1                    1   \n",
       "London                     0         6              6                    6   \n",
       "Los Angeles                0         1              1                    1   \n",
       "Madrid                     0         3              3                    3   \n",
       "Messina                    0         2              2                    2   \n",
       "Milan                      0         2              2                    2   \n",
       "Montserrat                 0         1              1                    1   \n",
       "Munich                     0         1              1                    1   \n",
       "Nancy                      0         1              1                    1   \n",
       "Naples                     0         3              3                    3   \n",
       "New York                   0         1              1                    1   \n",
       "New York City              0         4              4                    4   \n",
       "Palermo                    0         1              1                    1   \n",
       "Paris                      0         3              3                    3   \n",
       "Potsdam                    0         1              1                    1   \n",
       "Prato                      0         1              1                    1   \n",
       "Princeton                  0         1              1                    1   \n",
       "Private Collection         0         1              1                    1   \n",
       "Rome                       0        28             28                   28   \n",
       "Rouen                      0         1              1                    1   \n",
       "St. Petersburg             0         1              1                    1   \n",
       "Switzerland                0         1              1                    1   \n",
       "Syracuse                   0         1              1                    1   \n",
       "Toledo                     0         1              1                    1   \n",
       "Valletta                   0         3              3                    3   \n",
       "Vatican City               0         1              1                    1   \n",
       "Vienna                     0         3              3                    3   \n",
       "\n",
       "                    Notes  \n",
       "city                       \n",
       "Basel                   1  \n",
       "Berlin                  3  \n",
       "Cleveland               0  \n",
       "Cremona                 0  \n",
       "Detroit                 0  \n",
       "Dublin                  0  \n",
       "Florence                4  \n",
       "Fort Worth              0  \n",
       "Genoa                   0  \n",
       "Hartford                0  \n",
       "Italy                   1  \n",
       "Kansas City             0  \n",
       "London                  2  \n",
       "Los Angeles             0  \n",
       "Madrid                  0  \n",
       "Messina                 0  \n",
       "Milan                   0  \n",
       "Montserrat              0  \n",
       "Munich                  0  \n",
       "Nancy                   0  \n",
       "Naples                  1  \n",
       "New York                1  \n",
       "New York City           1  \n",
       "Palermo                 1  \n",
       "Paris                   0  \n",
       "Potsdam                 0  \n",
       "Prato                   0  \n",
       "Princeton               0  \n",
       "Private Collection      1  \n",
       "Rome                    8  \n",
       "Rouen                   0  \n",
       "St. Petersburg          0  \n",
       "Switzerland             1  \n",
       "Syracuse                0  \n",
       "Toledo                  1  \n",
       "Valletta                1  \n",
       "Vatican City            0  \n",
       "Vienna                  0  "
      ]
     },
     "execution_count": 7,
     "metadata": {},
     "output_type": "execute_result"
    }
   ],
   "source": [
    "df.groupby('city').count()"
   ]
  },
  {
   "cell_type": "code",
   "execution_count": 96,
   "id": "ebc62cee-a05d-4af0-906a-c5bfbf943d44",
   "metadata": {
    "execution": {
     "iopub.execute_input": "2024-01-24T09:42:07.550252Z",
     "iopub.status.busy": "2024-01-24T09:42:07.549525Z",
     "iopub.status.idle": "2024-01-24T09:42:07.567907Z",
     "shell.execute_reply": "2024-01-24T09:42:07.565654Z",
     "shell.execute_reply.started": "2024-01-24T09:42:07.550211Z"
    },
    "tags": []
   },
   "outputs": [],
   "source": [
    "# you'd see later that there's two missing imgs, the best thing to do is removing them\n",
    "# manually from the df - use the webpage\n",
    "df = df.drop([3, 65])"
   ]
  },
  {
   "cell_type": "code",
   "execution_count": 203,
   "id": "96648485-5de1-4080-a30e-9174999a8daa",
   "metadata": {
    "execution": {
     "iopub.execute_input": "2024-01-24T10:15:32.968667Z",
     "iopub.status.busy": "2024-01-24T10:15:32.968150Z",
     "iopub.status.idle": "2024-01-24T10:15:33.174965Z",
     "shell.execute_reply": "2024-01-24T10:15:33.173976Z",
     "shell.execute_reply.started": "2024-01-24T10:15:32.968625Z"
    },
    "tags": []
   },
   "outputs": [],
   "source": [
    "# we shall use BeautifulSoup directly to parse the table to get img links and attach to the df\n",
    "soup = BeautifulSoup(html, 'lxml') # Parse the HTML as a string\n",
    "\n",
    "table_all = soup.find_all('table')[0]\n",
    "\n",
    "# and here we get the HREFs to the imgs for each\n",
    "images = table_all.find_all('a', class_='mw-file-description')\n",
    "\n",
    "image_links = ['https:' + image.find('img')['src'] for image in images]        "
   ]
  },
  {
   "cell_type": "code",
   "execution_count": 204,
   "id": "ab9d6ba6-2a80-4a4a-bb93-e451fc36ee43",
   "metadata": {
    "execution": {
     "iopub.execute_input": "2024-01-24T10:15:33.673587Z",
     "iopub.status.busy": "2024-01-24T10:15:33.672505Z",
     "iopub.status.idle": "2024-01-24T10:15:33.680689Z",
     "shell.execute_reply": "2024-01-24T10:15:33.679197Z",
     "shell.execute_reply.started": "2024-01-24T10:15:33.673526Z"
    },
    "tags": []
   },
   "outputs": [],
   "source": [
    "df['original_filename'] = image_links"
   ]
  },
  {
   "cell_type": "code",
   "execution_count": 205,
   "id": "5aa46323-dd91-4659-8e62-719eefd502e9",
   "metadata": {
    "execution": {
     "iopub.execute_input": "2024-01-24T10:15:33.975118Z",
     "iopub.status.busy": "2024-01-24T10:15:33.973862Z",
     "iopub.status.idle": "2024-01-24T10:15:33.994469Z",
     "shell.execute_reply": "2024-01-24T10:15:33.992856Z",
     "shell.execute_reply.started": "2024-01-24T10:15:33.975063Z"
    },
    "tags": []
   },
   "outputs": [
    {
     "data": {
      "text/plain": [
       "'c. 1596 Lute Player'"
      ]
     },
     "execution_count": 205,
     "metadata": {},
     "output_type": "execute_result"
    }
   ],
   "source": [
    "'c. 1596 Lute Player'.split(':')[0].split('-')[0].split('-')[0]\n",
    "#.replace('c. ', '')"
   ]
  },
  {
   "cell_type": "code",
   "execution_count": 206,
   "id": "e714b652-1e68-424a-9676-2b649dfd91eb",
   "metadata": {
    "execution": {
     "iopub.execute_input": "2024-01-24T10:15:34.225139Z",
     "iopub.status.busy": "2024-01-24T10:15:34.224463Z",
     "iopub.status.idle": "2024-01-24T10:15:34.256498Z",
     "shell.execute_reply": "2024-01-24T10:15:34.253662Z",
     "shell.execute_reply.started": "2024-01-24T10:15:34.225106Z"
    },
    "tags": []
   },
   "outputs": [
    {
     "data": {
      "text/html": [
       "<div>\n",
       "<style scoped>\n",
       "    .dataframe tbody tr th:only-of-type {\n",
       "        vertical-align: middle;\n",
       "    }\n",
       "\n",
       "    .dataframe tbody tr th {\n",
       "        vertical-align: top;\n",
       "    }\n",
       "\n",
       "    .dataframe thead th {\n",
       "        text-align: right;\n",
       "    }\n",
       "</style>\n",
       "<table border=\"1\" class=\"dataframe\">\n",
       "  <thead>\n",
       "    <tr style=\"text-align: right;\">\n",
       "      <th></th>\n",
       "      <th>Painting</th>\n",
       "      <th>YearName</th>\n",
       "      <th>City, Gallery</th>\n",
       "      <th>DimensionsTechnique</th>\n",
       "      <th>Notes</th>\n",
       "      <th>original_filename</th>\n",
       "      <th>year</th>\n",
       "      <th>decade</th>\n",
       "    </tr>\n",
       "  </thead>\n",
       "  <tbody>\n",
       "    <tr>\n",
       "      <th>0</th>\n",
       "      <td>NaN</td>\n",
       "      <td>c. 1592–1593:Boy Peeling Fruit</td>\n",
       "      <td>Florence, Fondazione Roberto Longhi</td>\n",
       "      <td>75.5 × 64.4 cmOil on canvas</td>\n",
       "      <td>One of several versions, one of which is Caravaggio's earliest known work[2]</td>\n",
       "      <td>https://upload.wikimedia.org/wikipedia/commons/thumb/0/03/CARAVAGGIO%2C_A_boy_peeling_fruit_%281593%29.jpg/170px-CARAVAGGIO%2C_A_boy_peeling_fruit_%281593%29.jpg</td>\n",
       "      <td>1592</td>\n",
       "      <td>1590</td>\n",
       "    </tr>\n",
       "    <tr>\n",
       "      <th>1</th>\n",
       "      <td>NaN</td>\n",
       "      <td>c. 1592-1593:Boy Peeling Fruit</td>\n",
       "      <td>London, Hampton Court Palace – The Royal Collection</td>\n",
       "      <td>63 × 53 cmOil on canvas</td>\n",
       "      <td>One of several versions, one of which is Caravaggio's earliest known work[3]</td>\n",
       "      <td>https://upload.wikimedia.org/wikipedia/commons/thumb/9/99/Caravaggio_-_A_boy_peeling_fruit_%28Royal_Collection%29.jpg/170px-Caravaggio_-_A_boy_peeling_fruit_%28Royal_Collection%29.jpg</td>\n",
       "      <td>1592</td>\n",
       "      <td>1590</td>\n",
       "    </tr>\n",
       "  </tbody>\n",
       "</table>\n",
       "</div>"
      ],
      "text/plain": [
       "   Painting                        YearName  \\\n",
       "0       NaN  c. 1592–1593:Boy Peeling Fruit   \n",
       "1       NaN  c. 1592-1593:Boy Peeling Fruit   \n",
       "\n",
       "                                         City, Gallery  \\\n",
       "0                  Florence, Fondazione Roberto Longhi   \n",
       "1  London, Hampton Court Palace – The Royal Collection   \n",
       "\n",
       "           DimensionsTechnique  \\\n",
       "0  75.5 × 64.4 cmOil on canvas   \n",
       "1      63 × 53 cmOil on canvas   \n",
       "\n",
       "                                                                          Notes  \\\n",
       "0  One of several versions, one of which is Caravaggio's earliest known work[2]   \n",
       "1  One of several versions, one of which is Caravaggio's earliest known work[3]   \n",
       "\n",
       "                                                                                                                                                                         original_filename  \\\n",
       "0                        https://upload.wikimedia.org/wikipedia/commons/thumb/0/03/CARAVAGGIO%2C_A_boy_peeling_fruit_%281593%29.jpg/170px-CARAVAGGIO%2C_A_boy_peeling_fruit_%281593%29.jpg   \n",
       "1  https://upload.wikimedia.org/wikipedia/commons/thumb/9/99/Caravaggio_-_A_boy_peeling_fruit_%28Royal_Collection%29.jpg/170px-Caravaggio_-_A_boy_peeling_fruit_%28Royal_Collection%29.jpg   \n",
       "\n",
       "   year  decade  \n",
       "0  1592    1590  \n",
       "1  1592    1590  "
      ]
     },
     "execution_count": 206,
     "metadata": {},
     "output_type": "execute_result"
    }
   ],
   "source": [
    "df.head(2)"
   ]
  },
  {
   "cell_type": "code",
   "execution_count": 207,
   "id": "2e8b5973-57ae-4c9a-b063-55790fcc0fab",
   "metadata": {
    "execution": {
     "iopub.execute_input": "2024-01-24T10:15:36.367087Z",
     "iopub.status.busy": "2024-01-24T10:15:36.366385Z",
     "iopub.status.idle": "2024-01-24T10:15:36.377850Z",
     "shell.execute_reply": "2024-01-24T10:15:36.374641Z",
     "shell.execute_reply.started": "2024-01-24T10:15:36.367048Z"
    },
    "tags": []
   },
   "outputs": [],
   "source": [
    "# add a col for the year - for ranges we'll take the first\n",
    "df['year'] = df['YearName'].apply(lambda row: row.split(':')[0].split('–')[0].split('-')[0].replace('c. ', ''))"
   ]
  },
  {
   "cell_type": "code",
   "execution_count": 209,
   "id": "5b86f60c-3af0-4e02-b0e6-613c2de5ae6f",
   "metadata": {
    "collapsed": true,
    "execution": {
     "iopub.execute_input": "2024-01-24T10:15:40.536621Z",
     "iopub.status.busy": "2024-01-24T10:15:40.535897Z",
     "iopub.status.idle": "2024-01-24T10:15:40.726308Z",
     "shell.execute_reply": "2024-01-24T10:15:40.720928Z",
     "shell.execute_reply.started": "2024-01-24T10:15:40.536586Z"
    },
    "jupyter": {
     "outputs_hidden": true
    },
    "tags": []
   },
   "outputs": [
    {
     "data": {
      "text/html": [
       "<div>\n",
       "<style scoped>\n",
       "    .dataframe tbody tr th:only-of-type {\n",
       "        vertical-align: middle;\n",
       "    }\n",
       "\n",
       "    .dataframe tbody tr th {\n",
       "        vertical-align: top;\n",
       "    }\n",
       "\n",
       "    .dataframe thead th {\n",
       "        text-align: right;\n",
       "    }\n",
       "</style>\n",
       "<table border=\"1\" class=\"dataframe\">\n",
       "  <thead>\n",
       "    <tr style=\"text-align: right;\">\n",
       "      <th></th>\n",
       "      <th>YearName</th>\n",
       "      <th>year</th>\n",
       "    </tr>\n",
       "  </thead>\n",
       "  <tbody>\n",
       "    <tr>\n",
       "      <th>21</th>\n",
       "      <td>c. 1597:Jupiter, Neptune and Pluto</td>\n",
       "      <td>1597</td>\n",
       "    </tr>\n",
       "    <tr>\n",
       "      <th>22</th>\n",
       "      <td>c. 1597:Fortune Teller</td>\n",
       "      <td>1597</td>\n",
       "    </tr>\n",
       "    <tr>\n",
       "      <th>23</th>\n",
       "      <td>c. 1598:Saint Catherine of Alexandria</td>\n",
       "      <td>1598</td>\n",
       "    </tr>\n",
       "    <tr>\n",
       "      <th>24</th>\n",
       "      <td>c. 1598:Sacrifice of Isaac</td>\n",
       "      <td>1598</td>\n",
       "    </tr>\n",
       "    <tr>\n",
       "      <th>25</th>\n",
       "      <td>c. 1598:John the Baptist</td>\n",
       "      <td>1598</td>\n",
       "    </tr>\n",
       "    <tr>\n",
       "      <th>26</th>\n",
       "      <td>c. 1598:Martha and Mary Magdalene</td>\n",
       "      <td>1598</td>\n",
       "    </tr>\n",
       "    <tr>\n",
       "      <th>27</th>\n",
       "      <td>c. 1598:Portrait of Maffeo Barberini</td>\n",
       "      <td>1598</td>\n",
       "    </tr>\n",
       "    <tr>\n",
       "      <th>28</th>\n",
       "      <td>c. 1598:Judith Beheading Holofernes</td>\n",
       "      <td>1598</td>\n",
       "    </tr>\n",
       "    <tr>\n",
       "      <th>29</th>\n",
       "      <td>c. 1599:David and Goliath</td>\n",
       "      <td>1599</td>\n",
       "    </tr>\n",
       "    <tr>\n",
       "      <th>30</th>\n",
       "      <td>c. 1599:Narcissus</td>\n",
       "      <td>1599</td>\n",
       "    </tr>\n",
       "  </tbody>\n",
       "</table>\n",
       "</div>"
      ],
      "text/plain": [
       "                                 YearName  year\n",
       "21     c. 1597:Jupiter, Neptune and Pluto  1597\n",
       "22                 c. 1597:Fortune Teller  1597\n",
       "23  c. 1598:Saint Catherine of Alexandria  1598\n",
       "24             c. 1598:Sacrifice of Isaac  1598\n",
       "25               c. 1598:John the Baptist  1598\n",
       "26      c. 1598:Martha and Mary Magdalene  1598\n",
       "27   c. 1598:Portrait of Maffeo Barberini  1598\n",
       "28    c. 1598:Judith Beheading Holofernes  1598\n",
       "29              c. 1599:David and Goliath  1599\n",
       "30                      c. 1599:Narcissus  1599"
      ]
     },
     "execution_count": 209,
     "metadata": {},
     "output_type": "execute_result"
    },
    {
     "name": "stderr",
     "output_type": "stream",
     "text": [
      "/var/folders/38/x32ycmvj6zs1zqg8dn112ys40000gn/T/ipykernel_82178/1711545375.py:5: SettingWithCopyWarning: \n",
      "A value is trying to be set on a copy of a slice from a DataFrame\n",
      "\n",
      "See the caveats in the documentation: https://pandas.pydata.org/pandas-docs/stable/user_guide/indexing.html#returning-a-view-versus-a-copy\n",
      "  df['year'][12] = '1596'\n",
      "/var/folders/38/x32ycmvj6zs1zqg8dn112ys40000gn/T/ipykernel_82178/1711545375.py:6: SettingWithCopyWarning: \n",
      "A value is trying to be set on a copy of a slice from a DataFrame\n",
      "\n",
      "See the caveats in the documentation: https://pandas.pydata.org/pandas-docs/stable/user_guide/indexing.html#returning-a-view-versus-a-copy\n",
      "  df['year'][35] = '1600'\n"
     ]
    }
   ],
   "source": [
    "# correct the wrong ones\n",
    "\n",
    "df[['YearName', 'year']][20:30]\n",
    "\n",
    "df['year'][12] = '1596'\n",
    "df['year'][35] = '1600'"
   ]
  },
  {
   "cell_type": "code",
   "execution_count": 210,
   "id": "5f5c8c79-97a4-4ff8-add8-72c41429dd19",
   "metadata": {
    "execution": {
     "iopub.execute_input": "2024-01-24T10:15:44.370374Z",
     "iopub.status.busy": "2024-01-24T10:15:44.369942Z",
     "iopub.status.idle": "2024-01-24T10:15:44.446331Z",
     "shell.execute_reply": "2024-01-24T10:15:44.384887Z",
     "shell.execute_reply.started": "2024-01-24T10:15:44.370343Z"
    },
    "tags": []
   },
   "outputs": [],
   "source": [
    "# add a col for the decade too \n",
    "\n",
    "df['year'] = df['year'].astype('int')\n",
    "\n",
    "df['decade'] = df['year'].apply(lambda row: int(row/10)*10)"
   ]
  },
  {
   "cell_type": "code",
   "execution_count": 211,
   "id": "95af9c6e-877a-404b-bfb1-40e7a427d611",
   "metadata": {
    "collapsed": true,
    "execution": {
     "iopub.execute_input": "2024-01-24T10:15:44.730709Z",
     "iopub.status.busy": "2024-01-24T10:15:44.729600Z",
     "iopub.status.idle": "2024-01-24T10:15:44.749636Z",
     "shell.execute_reply": "2024-01-24T10:15:44.747084Z",
     "shell.execute_reply.started": "2024-01-24T10:15:44.730636Z"
    },
    "jupyter": {
     "outputs_hidden": true
    },
    "tags": []
   },
   "outputs": [
    {
     "data": {
      "text/plain": [
       "0                                         https://upload.wikimedia.org/wikipedia/commons/thumb/0/03/CARAVAGGIO%2C_A_boy_peeling_fruit_%281593%29.jpg/170px-CARAVAGGIO%2C_A_boy_peeling_fruit_%281593%29.jpg\n",
       "1                   https://upload.wikimedia.org/wikipedia/commons/thumb/9/99/Caravaggio_-_A_boy_peeling_fruit_%28Royal_Collection%29.jpg/170px-Caravaggio_-_A_boy_peeling_fruit_%28Royal_Collection%29.jpg\n",
       "2                                         https://upload.wikimedia.org/wikipedia/commons/thumb/9/99/CARAVAGGIO%2C_A_boy_peeling_fruit_%281592%29.jpg/170px-CARAVAGGIO%2C_A_boy_peeling_fruit_%281592%29.jpg\n",
       "4             https://upload.wikimedia.org/wikipedia/commons/thumb/4/45/Michelangelo_Merisi_da_Caravaggio%2C_Portrait_of_a_Prelate.jpg/170px-Michelangelo_Merisi_da_Caravaggio%2C_Portrait_of_a_Prelate.jpg\n",
       "5                                                 https://upload.wikimedia.org/wikipedia/commons/thumb/8/85/Young_Sick_Bacchus-Caravaggio_%281593%29.jpg/170px-Young_Sick_Bacchus-Caravaggio_%281593%29.jpg\n",
       "                                                                                                      ...                                                                                                  \n",
       "91                                                                                  https://upload.wikimedia.org/wikipedia/commons/thumb/c/ca/CaravaggioFrancisPrayer.jpg/170px-CaravaggioFrancisPrayer.jpg\n",
       "92    https://upload.wikimedia.org/wikipedia/commons/thumb/2/26/John_the_Baptist_%28Galleria_Borghese%29-Caravaggio_%281610%29.jpg/170px-John_the_Baptist_%28Galleria_Borghese%29-Caravaggio_%281610%29.jpg\n",
       "93            https://upload.wikimedia.org/wikipedia/commons/thumb/d/d4/David_holding_the_head_of_Goliath_by_Caravaggio_%28Rome%29.jpg/170px-David_holding_the_head_of_Goliath_by_Caravaggio_%28Rome%29.jpg\n",
       "94                                                                        https://upload.wikimedia.org/wikipedia/commons/thumb/d/d3/Caravaggio-Baptist-reclining.jpg/170px-Caravaggio-Baptist-reclining.jpg\n",
       "95                                                                                                https://upload.wikimedia.org/wikipedia/commons/thumb/6/61/CaravaggioUrsula.jpg/170px-CaravaggioUrsula.jpg\n",
       "Name: original_filename, Length: 94, dtype: object"
      ]
     },
     "execution_count": 211,
     "metadata": {},
     "output_type": "execute_result"
    }
   ],
   "source": [
    "df['original_filename']"
   ]
  },
  {
   "cell_type": "markdown",
   "id": "c5aa81e5-8ce5-4132-bbe1-c476906c2129",
   "metadata": {
    "execution": {
     "iopub.execute_input": "2021-11-28T17:15:48.335433Z",
     "iopub.status.busy": "2021-11-28T17:15:48.335046Z",
     "iopub.status.idle": "2021-11-28T17:15:48.346288Z",
     "shell.execute_reply": "2021-11-28T17:15:48.343099Z",
     "shell.execute_reply.started": "2021-11-28T17:15:48.335396Z"
    },
    "tags": []
   },
   "source": [
    "# Now download all imgs"
   ]
  },
  {
   "cell_type": "code",
   "execution_count": 213,
   "id": "df316c98-7a50-48a5-b54c-45189779ab21",
   "metadata": {
    "collapsed": true,
    "execution": {
     "iopub.execute_input": "2024-01-24T10:16:41.780779Z",
     "iopub.status.busy": "2024-01-24T10:16:41.779910Z",
     "iopub.status.idle": "2024-01-24T10:16:52.001282Z",
     "shell.execute_reply": "2024-01-24T10:16:51.995417Z",
     "shell.execute_reply.started": "2024-01-24T10:16:41.780713Z"
    },
    "jupyter": {
     "outputs_hidden": true
    },
    "tags": []
   },
   "outputs": [
    {
     "name": "stdout",
     "output_type": "stream",
     "text": [
      "https://upload.wikimedia.org/wikipedia/commons/thumb/0/03/CARAVAGGIO%2C_A_boy_peeling_fruit_%281593%29.jpg/170px-CARAVAGGIO%2C_A_boy_peeling_fruit_%281593%29.jpg\n"
     ]
    },
    {
     "data": {
      "text/plain": [
       "10636"
      ]
     },
     "execution_count": 213,
     "metadata": {},
     "output_type": "execute_result"
    },
    {
     "name": "stdout",
     "output_type": "stream",
     "text": [
      "https://upload.wikimedia.org/wikipedia/commons/thumb/9/99/Caravaggio_-_A_boy_peeling_fruit_%28Royal_Collection%29.jpg/170px-Caravaggio_-_A_boy_peeling_fruit_%28Royal_Collection%29.jpg\n"
     ]
    },
    {
     "data": {
      "text/plain": [
       "12377"
      ]
     },
     "execution_count": 213,
     "metadata": {},
     "output_type": "execute_result"
    },
    {
     "name": "stdout",
     "output_type": "stream",
     "text": [
      "https://upload.wikimedia.org/wikipedia/commons/thumb/9/99/CARAVAGGIO%2C_A_boy_peeling_fruit_%281592%29.jpg/170px-CARAVAGGIO%2C_A_boy_peeling_fruit_%281592%29.jpg\n"
     ]
    },
    {
     "data": {
      "text/plain": [
       "15622"
      ]
     },
     "execution_count": 213,
     "metadata": {},
     "output_type": "execute_result"
    },
    {
     "name": "stdout",
     "output_type": "stream",
     "text": [
      "https://upload.wikimedia.org/wikipedia/commons/thumb/4/45/Michelangelo_Merisi_da_Caravaggio%2C_Portrait_of_a_Prelate.jpg/170px-Michelangelo_Merisi_da_Caravaggio%2C_Portrait_of_a_Prelate.jpg\n"
     ]
    },
    {
     "data": {
      "text/plain": [
       "11059"
      ]
     },
     "execution_count": 213,
     "metadata": {},
     "output_type": "execute_result"
    },
    {
     "name": "stdout",
     "output_type": "stream",
     "text": [
      "https://upload.wikimedia.org/wikipedia/commons/thumb/8/85/Young_Sick_Bacchus-Caravaggio_%281593%29.jpg/170px-Young_Sick_Bacchus-Caravaggio_%281593%29.jpg\n"
     ]
    },
    {
     "data": {
      "text/plain": [
       "12694"
      ]
     },
     "execution_count": 213,
     "metadata": {},
     "output_type": "execute_result"
    },
    {
     "name": "stdout",
     "output_type": "stream",
     "text": [
      "https://upload.wikimedia.org/wikipedia/commons/thumb/a/ae/Boy_with_a_Basket_of_Fruit_by_Caravaggio.jpg/170px-Boy_with_a_Basket_of_Fruit_by_Caravaggio.jpg\n"
     ]
    },
    {
     "data": {
      "text/plain": [
       "12020"
      ]
     },
     "execution_count": 213,
     "metadata": {},
     "output_type": "execute_result"
    },
    {
     "name": "stdout",
     "output_type": "stream",
     "text": [
      "https://upload.wikimedia.org/wikipedia/commons/thumb/2/2e/Caravaggio_%28Michelangelo_Merisi%29_-_Good_Luck_-_Google_Art_Project.jpg/170px-Caravaggio_%28Michelangelo_Merisi%29_-_Good_Luck_-_Google_Art_Project.jpg\n"
     ]
    },
    {
     "data": {
      "text/plain": [
       "7852"
      ]
     },
     "execution_count": 213,
     "metadata": {},
     "output_type": "execute_result"
    },
    {
     "name": "stdout",
     "output_type": "stream",
     "text": [
      "https://upload.wikimedia.org/wikipedia/commons/thumb/8/8e/Caravaggio_%28Michelangelo_Merisi%29_-_The_Cardsharps_-_Google_Art_Project.jpg/170px-Caravaggio_%28Michelangelo_Merisi%29_-_The_Cardsharps_-_Google_Art_Project.jpg\n"
     ]
    },
    {
     "data": {
      "text/plain": [
       "8549"
      ]
     },
     "execution_count": 213,
     "metadata": {},
     "output_type": "execute_result"
    },
    {
     "name": "stdout",
     "output_type": "stream",
     "text": [
      "https://upload.wikimedia.org/wikipedia/commons/thumb/b/b6/Caravaggio_-_I_Musici.jpg/170px-Caravaggio_-_I_Musici.jpg\n"
     ]
    },
    {
     "data": {
      "text/plain": [
       "16063"
      ]
     },
     "execution_count": 213,
     "metadata": {},
     "output_type": "execute_result"
    },
    {
     "name": "stdout",
     "output_type": "stream",
     "text": [
      "https://upload.wikimedia.org/wikipedia/commons/thumb/b/b0/Saint_Francis_of_Assisi_in_Ecstasy-Caravaggio_%28c.1595%29.jpg/170px-Saint_Francis_of_Assisi_in_Ecstasy-Caravaggio_%28c.1595%29.jpg\n"
     ]
    },
    {
     "data": {
      "text/plain": [
       "6265"
      ]
     },
     "execution_count": 213,
     "metadata": {},
     "output_type": "execute_result"
    },
    {
     "name": "stdout",
     "output_type": "stream",
     "text": [
      "https://upload.wikimedia.org/wikipedia/commons/thumb/c/c7/Caravaggio_-_Boy_Bitten_by_a_Lizard.jpg/170px-Caravaggio_-_Boy_Bitten_by_a_Lizard.jpg\n"
     ]
    },
    {
     "data": {
      "text/plain": [
       "10128"
      ]
     },
     "execution_count": 213,
     "metadata": {},
     "output_type": "execute_result"
    },
    {
     "name": "stdout",
     "output_type": "stream",
     "text": [
      "https://upload.wikimedia.org/wikipedia/commons/thumb/9/91/Caravaggioapollo.jpg/220px-Caravaggioapollo.jpg\n"
     ]
    },
    {
     "data": {
      "text/plain": [
       "8171"
      ]
     },
     "execution_count": 213,
     "metadata": {},
     "output_type": "execute_result"
    },
    {
     "name": "stdout",
     "output_type": "stream",
     "text": [
      "https://upload.wikimedia.org/wikipedia/commons/thumb/6/6a/Michelangelo_Caravaggio_020.jpg/170px-Michelangelo_Caravaggio_020.jpg\n"
     ]
    },
    {
     "data": {
      "text/plain": [
       "7619"
      ]
     },
     "execution_count": 213,
     "metadata": {},
     "output_type": "execute_result"
    },
    {
     "name": "stdout",
     "output_type": "stream",
     "text": [
      "https://upload.wikimedia.org/wikipedia/commons/thumb/c/c7/Lutniarz.jpg/170px-Lutniarz.jpg\n"
     ]
    },
    {
     "data": {
      "text/plain": [
       "7512"
      ]
     },
     "execution_count": 213,
     "metadata": {},
     "output_type": "execute_result"
    },
    {
     "name": "stdout",
     "output_type": "stream",
     "text": [
      "https://upload.wikimedia.org/wikipedia/commons/thumb/1/1e/Canestra_di_frutta_%28Caravaggio%29.jpg/170px-Canestra_di_frutta_%28Caravaggio%29.jpg\n"
     ]
    },
    {
     "data": {
      "text/plain": [
       "10562"
      ]
     },
     "execution_count": 213,
     "metadata": {},
     "output_type": "execute_result"
    },
    {
     "name": "stdout",
     "output_type": "stream",
     "text": [
      "https://upload.wikimedia.org/wikipedia/commons/thumb/b/b5/Caravaggio_-_Bacco_adolescente_-_Google_Art_Project.jpg/170px-Caravaggio_-_Bacco_adolescente_-_Google_Art_Project.jpg\n"
     ]
    },
    {
     "data": {
      "text/plain": [
       "11770"
      ]
     },
     "execution_count": 213,
     "metadata": {},
     "output_type": "execute_result"
    },
    {
     "name": "stdout",
     "output_type": "stream",
     "text": [
      "https://upload.wikimedia.org/wikipedia/commons/thumb/4/4c/Michelangelo_Caravaggio_063.jpg/170px-Michelangelo_Caravaggio_063.jpg\n"
     ]
    },
    {
     "data": {
      "text/plain": [
       "7646"
      ]
     },
     "execution_count": 213,
     "metadata": {},
     "output_type": "execute_result"
    },
    {
     "name": "stdout",
     "output_type": "stream",
     "text": [
      "https://upload.wikimedia.org/wikipedia/commons/thumb/a/a6/Michelangelo_Caravaggio_025.jpg/170px-Michelangelo_Caravaggio_025.jpg\n"
     ]
    },
    {
     "data": {
      "text/plain": [
       "10010"
      ]
     },
     "execution_count": 213,
     "metadata": {},
     "output_type": "execute_result"
    },
    {
     "name": "stdout",
     "output_type": "stream",
     "text": [
      "https://upload.wikimedia.org/wikipedia/commons/thumb/1/15/Caravaggio_-_Medusa_-_Google_Art_Project.jpg/170px-Caravaggio_-_Medusa_-_Google_Art_Project.jpg\n"
     ]
    },
    {
     "data": {
      "text/plain": [
       "10848"
      ]
     },
     "execution_count": 213,
     "metadata": {},
     "output_type": "execute_result"
    },
    {
     "name": "stdout",
     "output_type": "stream",
     "text": [
      "https://upload.wikimedia.org/wikipedia/commons/thumb/e/e4/Portrait_of_a_Courtesan_by_Caravaggio.jpg/170px-Portrait_of_a_Courtesan_by_Caravaggio.jpg\n"
     ]
    },
    {
     "data": {
      "text/plain": [
       "13198"
      ]
     },
     "execution_count": 213,
     "metadata": {},
     "output_type": "execute_result"
    },
    {
     "name": "stdout",
     "output_type": "stream",
     "text": [
      "https://upload.wikimedia.org/wikipedia/commons/thumb/2/2a/Jupiter%2C_Neptune_and_Pluto-Caravaggio_%28c.1597-1600%29.jpg/170px-Jupiter%2C_Neptune_and_Pluto-Caravaggio_%28c.1597-1600%29.jpg\n"
     ]
    },
    {
     "data": {
      "text/plain": [
       "27025"
      ]
     },
     "execution_count": 213,
     "metadata": {},
     "output_type": "execute_result"
    },
    {
     "name": "stdout",
     "output_type": "stream",
     "text": [
      "https://upload.wikimedia.org/wikipedia/commons/thumb/1/11/La_Diseuse_de_bonne_aventure%2C_Caravaggio_%28Louvre_INV_55%29_02.jpg/170px-La_Diseuse_de_bonne_aventure%2C_Caravaggio_%28Louvre_INV_55%29_02.jpg\n"
     ]
    },
    {
     "data": {
      "text/plain": [
       "8761"
      ]
     },
     "execution_count": 213,
     "metadata": {},
     "output_type": "execute_result"
    },
    {
     "name": "stdout",
     "output_type": "stream",
     "text": [
      "https://upload.wikimedia.org/wikipedia/commons/thumb/c/c5/Caravaggio_-_Saint_Catherine_of_Alexandria_%28post-restoration_image%29.jpg/170px-Caravaggio_-_Saint_Catherine_of_Alexandria_%28post-restoration_image%29.jpg\n"
     ]
    },
    {
     "data": {
      "text/plain": [
       "13661"
      ]
     },
     "execution_count": 213,
     "metadata": {},
     "output_type": "execute_result"
    },
    {
     "name": "stdout",
     "output_type": "stream",
     "text": [
      "https://upload.wikimedia.org/wikipedia/commons/thumb/e/e9/Michelangelo_Merisi_da_Caravaggio_-_The_Sacrifice_of_Isaac_-_WGA04202.jpg/170px-Michelangelo_Merisi_da_Caravaggio_-_The_Sacrifice_of_Isaac_-_WGA04202.jpg\n"
     ]
    },
    {
     "data": {
      "text/plain": [
       "6715"
      ]
     },
     "execution_count": 213,
     "metadata": {},
     "output_type": "execute_result"
    },
    {
     "name": "stdout",
     "output_type": "stream",
     "text": [
      "https://upload.wikimedia.org/wikipedia/commons/thumb/4/48/Caravaggio-Baptist-Toledo.jpg/170px-Caravaggio-Baptist-Toledo.jpg\n"
     ]
    },
    {
     "data": {
      "text/plain": [
       "24935"
      ]
     },
     "execution_count": 213,
     "metadata": {},
     "output_type": "execute_result"
    },
    {
     "name": "stdout",
     "output_type": "stream",
     "text": [
      "https://upload.wikimedia.org/wikipedia/commons/thumb/2/25/Michelangelo_Merisi_da_Caravaggio_-_Martha_and_Mary_Magdalene_-_WGA04101.jpg/170px-Michelangelo_Merisi_da_Caravaggio_-_Martha_and_Mary_Magdalene_-_WGA04101.jpg\n"
     ]
    },
    {
     "data": {
      "text/plain": [
       "10260"
      ]
     },
     "execution_count": 213,
     "metadata": {},
     "output_type": "execute_result"
    },
    {
     "name": "stdout",
     "output_type": "stream",
     "text": [
      "https://upload.wikimedia.org/wikipedia/commons/thumb/b/bd/Caravaggio_Maffeo_Barberini.jpg/170px-Caravaggio_Maffeo_Barberini.jpg\n"
     ]
    },
    {
     "data": {
      "text/plain": [
       "10417"
      ]
     },
     "execution_count": 213,
     "metadata": {},
     "output_type": "execute_result"
    },
    {
     "name": "stdout",
     "output_type": "stream",
     "text": [
      "https://upload.wikimedia.org/wikipedia/commons/thumb/b/b2/Caravaggio_Judith_Beheading_Holofernes.jpg/170px-Caravaggio_Judith_Beheading_Holofernes.jpg\n"
     ]
    },
    {
     "data": {
      "text/plain": [
       "9091"
      ]
     },
     "execution_count": 213,
     "metadata": {},
     "output_type": "execute_result"
    },
    {
     "name": "stdout",
     "output_type": "stream",
     "text": [
      "https://upload.wikimedia.org/wikipedia/commons/thumb/6/6b/David_and_Goliath_by_Caravaggio.jpg/170px-David_and_Goliath_by_Caravaggio.jpg\n"
     ]
    },
    {
     "data": {
      "text/plain": [
       "8461"
      ]
     },
     "execution_count": 213,
     "metadata": {},
     "output_type": "execute_result"
    },
    {
     "name": "stdout",
     "output_type": "stream",
     "text": [
      "https://upload.wikimedia.org/wikipedia/commons/thumb/2/29/Narcissus-Caravaggio_%281594-96%29_edited.jpg/170px-Narcissus-Caravaggio_%281594-96%29_edited.jpg\n"
     ]
    },
    {
     "data": {
      "text/plain": [
       "10252"
      ]
     },
     "execution_count": 213,
     "metadata": {},
     "output_type": "execute_result"
    },
    {
     "name": "stdout",
     "output_type": "stream",
     "text": [
      "https://upload.wikimedia.org/wikipedia/commons/thumb/1/17/Boy_Bitten_by_a_Lizard-Caravaggio_%28Longhi%29.jpg/170px-Boy_Bitten_by_a_Lizard-Caravaggio_%28Longhi%29.jpg\n"
     ]
    },
    {
     "data": {
      "text/plain": [
       "15352"
      ]
     },
     "execution_count": 213,
     "metadata": {},
     "output_type": "execute_result"
    },
    {
     "name": "stdout",
     "output_type": "stream",
     "text": [
      "https://upload.wikimedia.org/wikipedia/commons/thumb/8/89/BaptistBasle.jpg/170px-BaptistBasle.jpg\n"
     ]
    },
    {
     "data": {
      "text/plain": [
       "11638"
      ]
     },
     "execution_count": 213,
     "metadata": {},
     "output_type": "execute_result"
    },
    {
     "name": "stdout",
     "output_type": "stream",
     "text": [
      "https://upload.wikimedia.org/wikipedia/commons/thumb/1/10/Caravaggio_-_La_vocazione_di_San_Matteo.jpg/170px-Caravaggio_-_La_vocazione_di_San_Matteo.jpg\n"
     ]
    },
    {
     "data": {
      "text/plain": [
       "6590"
      ]
     },
     "execution_count": 213,
     "metadata": {},
     "output_type": "execute_result"
    },
    {
     "name": "stdout",
     "output_type": "stream",
     "text": [
      "https://upload.wikimedia.org/wikipedia/commons/thumb/5/57/The_Martyrdom_of_Saint_Matthew-Caravaggio_%28c._1599-1600%29.jpg/170px-The_Martyrdom_of_Saint_Matthew-Caravaggio_%28c._1599-1600%29.jpg\n"
     ]
    },
    {
     "data": {
      "text/plain": [
       "8913"
      ]
     },
     "execution_count": 213,
     "metadata": {},
     "output_type": "execute_result"
    },
    {
     "name": "stdout",
     "output_type": "stream",
     "text": [
      "https://upload.wikimedia.org/wikipedia/commons/thumb/c/ca/Caravaggio_005.jpg/170px-Caravaggio_005.jpg\n"
     ]
    },
    {
     "data": {
      "text/plain": [
       "8428"
      ]
     },
     "execution_count": 213,
     "metadata": {},
     "output_type": "execute_result"
    },
    {
     "name": "stdout",
     "output_type": "stream",
     "text": [
      "https://upload.wikimedia.org/wikipedia/commons/thumb/b/bb/The_Conversion_of_Saint_Paul-Caravaggio_%28c._1600-1%29.jpg/170px-The_Conversion_of_Saint_Paul-Caravaggio_%28c._1600-1%29.jpg\n"
     ]
    },
    {
     "data": {
      "text/plain": [
       "12156"
      ]
     },
     "execution_count": 213,
     "metadata": {},
     "output_type": "execute_result"
    },
    {
     "name": "stdout",
     "output_type": "stream",
     "text": [
      "https://upload.wikimedia.org/wikipedia/commons/thumb/d/d9/Crucifixion_of_Saint_Peter-Caravaggio_%28c.1600%29.jpg/170px-Crucifixion_of_Saint_Peter-Caravaggio_%28c.1600%29.jpg\n"
     ]
    },
    {
     "data": {
      "text/plain": [
       "12043"
      ]
     },
     "execution_count": 213,
     "metadata": {},
     "output_type": "execute_result"
    },
    {
     "name": "stdout",
     "output_type": "stream",
     "text": [
      "https://upload.wikimedia.org/wikipedia/commons/thumb/b/b9/Caravaggio-The_Conversion_on_the_Way_to_Damascus.jpg/170px-Caravaggio-The_Conversion_on_the_Way_to_Damascus.jpg\n"
     ]
    },
    {
     "data": {
      "text/plain": [
       "16608"
      ]
     },
     "execution_count": 213,
     "metadata": {},
     "output_type": "execute_result"
    },
    {
     "name": "stdout",
     "output_type": "stream",
     "text": [
      "https://upload.wikimedia.org/wikipedia/commons/thumb/c/c8/Flowersandfruit.jpg/170px-Flowersandfruit.jpg\n"
     ]
    },
    {
     "data": {
      "text/plain": [
       "9069"
      ]
     },
     "execution_count": 213,
     "metadata": {},
     "output_type": "execute_result"
    },
    {
     "name": "stdout",
     "output_type": "stream",
     "text": [
      "https://upload.wikimedia.org/wikipedia/commons/thumb/7/7f/The_Incredulity_of_Saint_Thomas.jpg/170px-The_Incredulity_of_Saint_Thomas.jpg\n"
     ]
    },
    {
     "data": {
      "text/plain": [
       "7753"
      ]
     },
     "execution_count": 213,
     "metadata": {},
     "output_type": "execute_result"
    },
    {
     "name": "stdout",
     "output_type": "stream",
     "text": [
      "https://upload.wikimedia.org/wikipedia/commons/thumb/4/4d/1602-3_Caravaggio%2CSupper_at_Emmaus_National_Gallery%2C_London.jpg/170px-1602-3_Caravaggio%2CSupper_at_Emmaus_National_Gallery%2C_London.jpg\n"
     ]
    },
    {
     "data": {
      "text/plain": [
       "8064"
      ]
     },
     "execution_count": 213,
     "metadata": {},
     "output_type": "execute_result"
    },
    {
     "name": "stdout",
     "output_type": "stream",
     "text": [
      "https://upload.wikimedia.org/wikipedia/commons/thumb/0/0c/Caravaggio_-_Cupid_as_Victor_-_Google_Art_Project.jpg/170px-Caravaggio_-_Cupid_as_Victor_-_Google_Art_Project.jpg\n"
     ]
    },
    {
     "data": {
      "text/plain": [
       "14444"
      ]
     },
     "execution_count": 213,
     "metadata": {},
     "output_type": "execute_result"
    },
    {
     "name": "stdout",
     "output_type": "stream",
     "text": [
      "https://upload.wikimedia.org/wikipedia/commons/thumb/f/f9/Caravaggio_MatthewAndTheAngel_byMikeyAngels.jpg/170px-Caravaggio_MatthewAndTheAngel_byMikeyAngels.jpg\n"
     ]
    },
    {
     "data": {
      "text/plain": [
       "10275"
      ]
     },
     "execution_count": 213,
     "metadata": {},
     "output_type": "execute_result"
    },
    {
     "name": "stdout",
     "output_type": "stream",
     "text": [
      "https://upload.wikimedia.org/wikipedia/commons/thumb/f/f8/The_Inspiration_of_Saint_Matthew_by_Caravaggio.jpg/170px-The_Inspiration_of_Saint_Matthew_by_Caravaggio.jpg\n"
     ]
    },
    {
     "data": {
      "text/plain": [
       "16240"
      ]
     },
     "execution_count": 213,
     "metadata": {},
     "output_type": "execute_result"
    },
    {
     "name": "stdout",
     "output_type": "stream",
     "text": [
      "https://upload.wikimedia.org/wikipedia/commons/thumb/e/e0/Caravaggio_%28Michelangelo_Merisi%29_-_Saint_John_the_Baptist_-_Google_Art_Project.jpg/170px-Caravaggio_%28Michelangelo_Merisi%29_-_Saint_John_the_Baptist_-_Google_Art_Project.jpg\n"
     ]
    },
    {
     "data": {
      "text/plain": [
       "14894"
      ]
     },
     "execution_count": 213,
     "metadata": {},
     "output_type": "execute_result"
    },
    {
     "name": "stdout",
     "output_type": "stream",
     "text": [
      "https://upload.wikimedia.org/wikipedia/en/thumb/0/01/Caravaggio_Baptist_Galleria_Doria_Pamphili%2C_Rome.jpg/170px-Caravaggio_Baptist_Galleria_Doria_Pamphili%2C_Rome.jpg\n"
     ]
    },
    {
     "data": {
      "text/plain": [
       "14922"
      ]
     },
     "execution_count": 213,
     "metadata": {},
     "output_type": "execute_result"
    },
    {
     "name": "stdout",
     "output_type": "stream",
     "text": [
      "https://upload.wikimedia.org/wikipedia/commons/thumb/e/e0/Caravaggio_-_The_Incredulity_of_Saint_Thomas.jpg/170px-Caravaggio_-_The_Incredulity_of_Saint_Thomas.jpg\n"
     ]
    },
    {
     "data": {
      "text/plain": [
       "7530"
      ]
     },
     "execution_count": 213,
     "metadata": {},
     "output_type": "execute_result"
    },
    {
     "name": "stdout",
     "output_type": "stream",
     "text": [
      "https://upload.wikimedia.org/wikipedia/commons/thumb/e/e6/Caravaggio_-_Taking_of_Christ_-_Dublin.jpg/170px-Caravaggio_-_Taking_of_Christ_-_Dublin.jpg\n"
     ]
    },
    {
     "data": {
      "text/plain": [
       "8122"
      ]
     },
     "execution_count": 213,
     "metadata": {},
     "output_type": "execute_result"
    },
    {
     "name": "stdout",
     "output_type": "stream",
     "text": [
      "https://upload.wikimedia.org/wikipedia/commons/thumb/6/60/Sacrifice_of_Isaac-Caravaggio_%28Uffizi%29.jpg/170px-Sacrifice_of_Isaac-Caravaggio_%28Uffizi%29.jpg\n"
     ]
    },
    {
     "data": {
      "text/plain": [
       "9128"
      ]
     },
     "execution_count": 213,
     "metadata": {},
     "output_type": "execute_result"
    },
    {
     "name": "stdout",
     "output_type": "stream",
     "text": [
      "https://upload.wikimedia.org/wikipedia/commons/thumb/7/7e/Caravaggio_-_Holy_Family_with_St._John_the_Baptist_%28Met%29.jpg/170px-Caravaggio_-_Holy_Family_with_St._John_the_Baptist_%28Met%29.jpg\n"
     ]
    },
    {
     "data": {
      "text/plain": [
       "11869"
      ]
     },
     "execution_count": 213,
     "metadata": {},
     "output_type": "execute_result"
    },
    {
     "name": "stdout",
     "output_type": "stream",
     "text": [
      "https://upload.wikimedia.org/wikipedia/commons/thumb/e/e1/Michelangelo_Caravaggio_052.jpg/170px-Michelangelo_Caravaggio_052.jpg\n"
     ]
    },
    {
     "data": {
      "text/plain": [
       "12561"
      ]
     },
     "execution_count": 213,
     "metadata": {},
     "output_type": "execute_result"
    },
    {
     "name": "stdout",
     "output_type": "stream",
     "text": [
      "https://upload.wikimedia.org/wikipedia/commons/thumb/8/8f/CaravaggioCrowning01.jpg/170px-CaravaggioCrowning01.jpg\n"
     ]
    },
    {
     "data": {
      "text/plain": [
       "8932"
      ]
     },
     "execution_count": 213,
     "metadata": {},
     "output_type": "execute_result"
    },
    {
     "name": "stdout",
     "output_type": "stream",
     "text": [
      "https://upload.wikimedia.org/wikipedia/commons/thumb/5/57/Madonna_di_Loreto-Caravaggio_%28c.1604-6%29.jpg/170px-Madonna_di_Loreto-Caravaggio_%28c.1604-6%29.jpg\n"
     ]
    },
    {
     "data": {
      "text/plain": [
       "12777"
      ]
     },
     "execution_count": 213,
     "metadata": {},
     "output_type": "execute_result"
    },
    {
     "name": "stdout",
     "output_type": "stream",
     "text": [
      "https://upload.wikimedia.org/wikipedia/commons/thumb/4/4b/Michelangelo_Merisi%2C_called_Caravaggio_-_Saint_John_the_Baptist_in_the_Wilderness_-_Google_Art_Project.jpg/170px-Michelangelo_Merisi%2C_called_Caravaggio_-_Saint_John_the_Baptist_in_the_Wilderness_-_Google_Art_Project.jpg\n"
     ]
    },
    {
     "data": {
      "text/plain": [
       "14039"
      ]
     },
     "execution_count": 213,
     "metadata": {},
     "output_type": "execute_result"
    },
    {
     "name": "stdout",
     "output_type": "stream",
     "text": [
      "https://upload.wikimedia.org/wikipedia/commons/thumb/1/11/Michelangelo_Merisi_da_Caravaggio_-_St_John_the_Baptist_-_WGA04154.jpg/170px-Michelangelo_Merisi_da_Caravaggio_-_St_John_the_Baptist_-_WGA04154.jpg\n"
     ]
    },
    {
     "data": {
      "text/plain": [
       "5335"
      ]
     },
     "execution_count": 213,
     "metadata": {},
     "output_type": "execute_result"
    },
    {
     "name": "stdout",
     "output_type": "stream",
     "text": [
      "https://upload.wikimedia.org/wikipedia/commons/thumb/0/01/Michelangelo_Merisi_da_Caravaggio_%28Milan_1571-Port%27_Ercole_1610%29_-_The_Calling_of_Saints_Peter_and_Andrew_-_RCIN_402824_-_Hampton_Court_Palace.jpg/170px-Michelangelo_Merisi_da_Caravaggio_%28Milan_1571-Port%27_Ercole_1610%29_-_The_Calling_of_Saints_Peter_and_Andrew_-_RCIN_402824_-_Hampton_Court_Palace.jpg\n"
     ]
    },
    {
     "data": {
      "text/plain": [
       "7113"
      ]
     },
     "execution_count": 213,
     "metadata": {},
     "output_type": "execute_result"
    },
    {
     "name": "stdout",
     "output_type": "stream",
     "text": [
      "https://upload.wikimedia.org/wikipedia/commons/thumb/3/38/Michelangelo_Merisi_da_Caravaggio_-_Christ_in_the_Garden_-_Colourised_by_Mikey_Angels.jpg/170px-Michelangelo_Merisi_da_Caravaggio_-_Christ_in_the_Garden_-_Colourised_by_Mikey_Angels.jpg\n"
     ]
    },
    {
     "data": {
      "text/plain": [
       "7477"
      ]
     },
     "execution_count": 213,
     "metadata": {},
     "output_type": "execute_result"
    },
    {
     "name": "stdout",
     "output_type": "stream",
     "text": [
      "https://upload.wikimedia.org/wikipedia/commons/thumb/e/ed/Caravaggio_%28Michelangelo_Merisi%29_-_Ecce_Homo_-_Google_Art_Project.jpg/170px-Caravaggio_%28Michelangelo_Merisi%29_-_Ecce_Homo_-_Google_Art_Project.jpg\n"
     ]
    },
    {
     "data": {
      "text/plain": [
       "11185"
      ]
     },
     "execution_count": 213,
     "metadata": {},
     "output_type": "execute_result"
    },
    {
     "name": "stdout",
     "output_type": "stream",
     "text": [
      "https://upload.wikimedia.org/wikipedia/commons/thumb/7/74/Michelangelo-merisi-da-caravaggio-1571-1610-S_1_1753.jpg/170px-Michelangelo-merisi-da-caravaggio-1571-1610-S_1_1753.jpg\n"
     ]
    },
    {
     "data": {
      "text/plain": [
       "10374"
      ]
     },
     "execution_count": 213,
     "metadata": {},
     "output_type": "execute_result"
    },
    {
     "name": "stdout",
     "output_type": "stream",
     "text": [
      "https://upload.wikimedia.org/wikipedia/commons/thumb/4/4d/Saint_Jerome_Writing-Caravaggio_%281605-6%29.jpg/170px-Saint_Jerome_Writing-Caravaggio_%281605-6%29.jpg\n"
     ]
    },
    {
     "data": {
      "text/plain": [
       "6302"
      ]
     },
     "execution_count": 213,
     "metadata": {},
     "output_type": "execute_result"
    },
    {
     "name": "stdout",
     "output_type": "stream",
     "text": [
      "https://upload.wikimedia.org/wikipedia/commons/thumb/a/ad/Pope_Paul_V.jpg/170px-Pope_Paul_V.jpg\n"
     ]
    },
    {
     "data": {
      "text/plain": [
       "17401"
      ]
     },
     "execution_count": 213,
     "metadata": {},
     "output_type": "execute_result"
    },
    {
     "name": "stdout",
     "output_type": "stream",
     "text": [
      "https://upload.wikimedia.org/wikipedia/commons/thumb/1/15/Caravaggio_-_Still_Life_with_Fruit_%28circa_1603%29.png/170px-Caravaggio_-_Still_Life_with_Fruit_%28circa_1603%29.png\n"
     ]
    },
    {
     "data": {
      "text/plain": [
       "30656"
      ]
     },
     "execution_count": 213,
     "metadata": {},
     "output_type": "execute_result"
    },
    {
     "name": "stdout",
     "output_type": "stream",
     "text": [
      "https://upload.wikimedia.org/wikipedia/commons/thumb/f/f5/CaravaggioSerpent.jpg/170px-CaravaggioSerpent.jpg\n"
     ]
    },
    {
     "data": {
      "text/plain": [
       "11436"
      ]
     },
     "execution_count": 213,
     "metadata": {},
     "output_type": "execute_result"
    },
    {
     "name": "stdout",
     "output_type": "stream",
     "text": [
      "https://upload.wikimedia.org/wikipedia/commons/thumb/d/dc/Caravaggio_-_La_Morte_della_Vergine.jpg/170px-Caravaggio_-_La_Morte_della_Vergine.jpg\n"
     ]
    },
    {
     "data": {
      "text/plain": [
       "14788"
      ]
     },
     "execution_count": 213,
     "metadata": {},
     "output_type": "execute_result"
    },
    {
     "name": "stdout",
     "output_type": "stream",
     "text": [
      "https://upload.wikimedia.org/wikipedia/commons/thumb/e/ed/Mary_magdalene_caravaggio.jpg/170px-Mary_magdalene_caravaggio.jpg\n"
     ]
    },
    {
     "data": {
      "text/plain": [
       "7742"
      ]
     },
     "execution_count": 213,
     "metadata": {},
     "output_type": "execute_result"
    },
    {
     "name": "stdout",
     "output_type": "stream",
     "text": [
      "https://upload.wikimedia.org/wikipedia/commons/thumb/e/e9/CaravaggioFrancisContemplation.jpg/170px-CaravaggioFrancisContemplation.jpg\n"
     ]
    },
    {
     "data": {
      "text/plain": [
       "7364"
      ]
     },
     "execution_count": 213,
     "metadata": {},
     "output_type": "execute_result"
    },
    {
     "name": "stdout",
     "output_type": "stream",
     "text": [
      "https://upload.wikimedia.org/wikipedia/commons/thumb/9/9c/CaravaggioEmmaus.jpg/170px-CaravaggioEmmaus.jpg\n"
     ]
    },
    {
     "data": {
      "text/plain": [
       "7346"
      ]
     },
     "execution_count": 213,
     "metadata": {},
     "output_type": "execute_result"
    },
    {
     "name": "stdout",
     "output_type": "stream",
     "text": [
      "https://upload.wikimedia.org/wikipedia/commons/thumb/6/6f/Caravaggio_-_Judith_and_Holophernes_Toulouse_-_High_Definition.jpg/170px-Caravaggio_-_Judith_and_Holophernes_Toulouse_-_High_Definition.jpg\n"
     ]
    },
    {
     "data": {
      "text/plain": [
       "10749"
      ]
     },
     "execution_count": 213,
     "metadata": {},
     "output_type": "execute_result"
    },
    {
     "name": "stdout",
     "output_type": "stream",
     "text": [
      "https://upload.wikimedia.org/wikipedia/commons/thumb/d/d7/Caravaggio_-_Sette_opere_di_Misericordia.jpg/170px-Caravaggio_-_Sette_opere_di_Misericordia.jpg\n"
     ]
    },
    {
     "data": {
      "text/plain": [
       "15172"
      ]
     },
     "execution_count": 213,
     "metadata": {},
     "output_type": "execute_result"
    },
    {
     "name": "stdout",
     "output_type": "stream",
     "text": [
      "https://upload.wikimedia.org/wikipedia/commons/thumb/f/fe/Caravaggio_-_The_Crucifixion_of_Saint_Andrew_-_Post-Restoration.jpg/170px-Caravaggio_-_The_Crucifixion_of_Saint_Andrew_-_Post-Restoration.jpg\n"
     ]
    },
    {
     "data": {
      "text/plain": [
       "13823"
      ]
     },
     "execution_count": 213,
     "metadata": {},
     "output_type": "execute_result"
    },
    {
     "name": "stdout",
     "output_type": "stream",
     "text": [
      "https://upload.wikimedia.org/wikipedia/commons/thumb/7/70/Caravaggio_-_David_with_the_Head_of_Goliath_-_Vienna.jpg/170px-Caravaggio_-_David_with_the_Head_of_Goliath_-_Vienna.jpg\n"
     ]
    },
    {
     "data": {
      "text/plain": [
       "8180"
      ]
     },
     "execution_count": 213,
     "metadata": {},
     "output_type": "execute_result"
    },
    {
     "name": "stdout",
     "output_type": "stream",
     "text": [
      "https://upload.wikimedia.org/wikipedia/commons/thumb/1/1f/Michelangelo_Merisi%2C_called_Caravaggio_-_Madonna_of_the_Rosary_-_Google_Art_Project.jpg/170px-Michelangelo_Merisi%2C_called_Caravaggio_-_Madonna_of_the_Rosary_-_Google_Art_Project.jpg\n"
     ]
    },
    {
     "data": {
      "text/plain": [
       "16178"
      ]
     },
     "execution_count": 213,
     "metadata": {},
     "output_type": "execute_result"
    },
    {
     "name": "stdout",
     "output_type": "stream",
     "text": [
      "https://upload.wikimedia.org/wikipedia/commons/thumb/5/52/Michelangelo_Merisi%2C_called_Caravaggio_-_The_Crowning_with_Thorns_-_Google_Art_Project.jpg/170px-Michelangelo_Merisi%2C_called_Caravaggio_-_The_Crowning_with_Thorns_-_Google_Art_Project.jpg\n"
     ]
    },
    {
     "data": {
      "text/plain": [
       "8924"
      ]
     },
     "execution_count": 213,
     "metadata": {},
     "output_type": "execute_result"
    },
    {
     "name": "stdout",
     "output_type": "stream",
     "text": [
      "https://upload.wikimedia.org/wikipedia/commons/thumb/0/0e/Caravaggio_-_La_Flagellazione_di_Cristo.jpg/170px-Caravaggio_-_La_Flagellazione_di_Cristo.jpg\n"
     ]
    },
    {
     "data": {
      "text/plain": [
       "9498"
      ]
     },
     "execution_count": 213,
     "metadata": {},
     "output_type": "execute_result"
    },
    {
     "name": "stdout",
     "output_type": "stream",
     "text": [
      "https://upload.wikimedia.org/wikipedia/commons/thumb/9/9f/Caravaggio_flagellation.jpg/170px-Caravaggio_flagellation.jpg\n"
     ]
    },
    {
     "data": {
      "text/plain": [
       "6764"
      ]
     },
     "execution_count": 213,
     "metadata": {},
     "output_type": "execute_result"
    },
    {
     "name": "stdout",
     "output_type": "stream",
     "text": [
      "https://upload.wikimedia.org/wikipedia/commons/thumb/1/1a/CaravaggioSalomeLondon.jpg/170px-CaravaggioSalomeLondon.jpg\n"
     ]
    },
    {
     "data": {
      "text/plain": [
       "6655"
      ]
     },
     "execution_count": 213,
     "metadata": {},
     "output_type": "execute_result"
    },
    {
     "name": "stdout",
     "output_type": "stream",
     "text": [
      "https://upload.wikimedia.org/wikipedia/commons/thumb/b/b1/CaravaggioJeromeValletta.jpg/170px-CaravaggioJeromeValletta.jpg\n"
     ]
    },
    {
     "data": {
      "text/plain": [
       "5753"
      ]
     },
     "execution_count": 213,
     "metadata": {},
     "output_type": "execute_result"
    },
    {
     "name": "stdout",
     "output_type": "stream",
     "text": [
      "https://upload.wikimedia.org/wikipedia/commons/thumb/e/e1/Portrait_of_Alof_de_Wignacourt_and_his_Page-Caravaggio_%281607-1608%29.jpg/170px-Portrait_of_Alof_de_Wignacourt_and_his_Page-Caravaggio_%281607-1608%29.jpg\n"
     ]
    },
    {
     "data": {
      "text/plain": [
       "13694"
      ]
     },
     "execution_count": 213,
     "metadata": {},
     "output_type": "execute_result"
    },
    {
     "name": "stdout",
     "output_type": "stream",
     "text": [
      "https://upload.wikimedia.org/wikipedia/commons/thumb/a/a0/Portrait_of_Fra_Antonio_Martelli-Caravaggio_%281610%29.jpg/170px-Portrait_of_Fra_Antonio_Martelli-Caravaggio_%281610%29.jpg\n"
     ]
    },
    {
     "data": {
      "text/plain": [
       "10751"
      ]
     },
     "execution_count": 213,
     "metadata": {},
     "output_type": "execute_result"
    },
    {
     "name": "stdout",
     "output_type": "stream",
     "text": [
      "https://upload.wikimedia.org/wikipedia/commons/thumb/c/c8/The_Beheading_of_Saint_John-Caravaggio_%281608%29.jpg/170px-The_Beheading_of_Saint_John-Caravaggio_%281608%29.jpg\n"
     ]
    },
    {
     "data": {
      "text/plain": [
       "7012"
      ]
     },
     "execution_count": 213,
     "metadata": {},
     "output_type": "execute_result"
    },
    {
     "name": "stdout",
     "output_type": "stream",
     "text": [
      "https://upload.wikimedia.org/wikipedia/commons/thumb/4/49/Caravaggio_sleeping_cupid.jpg/170px-Caravaggio_sleeping_cupid.jpg\n"
     ]
    },
    {
     "data": {
      "text/plain": [
       "3857"
      ]
     },
     "execution_count": 213,
     "metadata": {},
     "output_type": "execute_result"
    },
    {
     "name": "stdout",
     "output_type": "stream",
     "text": [
      "https://upload.wikimedia.org/wikipedia/commons/thumb/b/b5/Michelangelo_Merisi_da_Caravaggio_-_St_John_the_Baptist_at_the_Well_-_WGA04201.jpg/170px-Michelangelo_Merisi_da_Caravaggio_-_St_John_the_Baptist_at_the_Well_-_WGA04201.jpg\n"
     ]
    },
    {
     "data": {
      "text/plain": [
       "13477"
      ]
     },
     "execution_count": 213,
     "metadata": {},
     "output_type": "execute_result"
    },
    {
     "name": "stdout",
     "output_type": "stream",
     "text": [
      "https://upload.wikimedia.org/wikipedia/commons/thumb/6/6c/Caravaggio_-_The_Annunciation.JPG/170px-Caravaggio_-_The_Annunciation.JPG\n"
     ]
    },
    {
     "data": {
      "text/plain": [
       "12034"
      ]
     },
     "execution_count": 213,
     "metadata": {},
     "output_type": "execute_result"
    },
    {
     "name": "stdout",
     "output_type": "stream",
     "text": [
      "https://upload.wikimedia.org/wikipedia/commons/thumb/6/6d/Burial_of_Saint_Lucy-Caravaggio_%281608%29.jpg/170px-Burial_of_Saint_Lucy-Caravaggio_%281608%29.jpg\n"
     ]
    },
    {
     "data": {
      "text/plain": [
       "16030"
      ]
     },
     "execution_count": 213,
     "metadata": {},
     "output_type": "execute_result"
    },
    {
     "name": "stdout",
     "output_type": "stream",
     "text": [
      "https://upload.wikimedia.org/wikipedia/commons/thumb/b/b8/Michelangelo_Caravaggio_006.jpg/170px-Michelangelo_Caravaggio_006.jpg\n"
     ]
    },
    {
     "data": {
      "text/plain": [
       "12478"
      ]
     },
     "execution_count": 213,
     "metadata": {},
     "output_type": "execute_result"
    },
    {
     "name": "stdout",
     "output_type": "stream",
     "text": [
      "https://upload.wikimedia.org/wikipedia/commons/thumb/4/40/Caravaggio_-_Adorazione_dei_pastori.jpg/170px-Caravaggio_-_Adorazione_dei_pastori.jpg\n"
     ]
    },
    {
     "data": {
      "text/plain": [
       "11217"
      ]
     },
     "execution_count": 213,
     "metadata": {},
     "output_type": "execute_result"
    },
    {
     "name": "stdout",
     "output_type": "stream",
     "text": [
      "https://upload.wikimedia.org/wikipedia/commons/thumb/4/48/CaravaggioSalomeMadrid.jpg/170px-CaravaggioSalomeMadrid.jpg\n"
     ]
    },
    {
     "data": {
      "text/plain": [
       "7535"
      ]
     },
     "execution_count": 213,
     "metadata": {},
     "output_type": "execute_result"
    },
    {
     "name": "stdout",
     "output_type": "stream",
     "text": [
      "https://upload.wikimedia.org/wikipedia/commons/thumb/b/be/Toothpuller.jpg/170px-Toothpuller.jpg\n"
     ]
    },
    {
     "data": {
      "text/plain": [
       "5398"
      ]
     },
     "execution_count": 213,
     "metadata": {},
     "output_type": "execute_result"
    },
    {
     "name": "stdout",
     "output_type": "stream",
     "text": [
      "https://upload.wikimedia.org/wikipedia/commons/thumb/7/79/The_Denial_of_Saint_Peter-Caravaggio_%281610%29.jpg/170px-The_Denial_of_Saint_Peter-Caravaggio_%281610%29.jpg\n"
     ]
    },
    {
     "data": {
      "text/plain": [
       "7312"
      ]
     },
     "execution_count": 213,
     "metadata": {},
     "output_type": "execute_result"
    },
    {
     "name": "stdout",
     "output_type": "stream",
     "text": [
      "https://upload.wikimedia.org/wikipedia/commons/thumb/c/ca/CaravaggioFrancisPrayer.jpg/170px-CaravaggioFrancisPrayer.jpg\n"
     ]
    },
    {
     "data": {
      "text/plain": [
       "13475"
      ]
     },
     "execution_count": 213,
     "metadata": {},
     "output_type": "execute_result"
    },
    {
     "name": "stdout",
     "output_type": "stream",
     "text": [
      "https://upload.wikimedia.org/wikipedia/commons/thumb/2/26/John_the_Baptist_%28Galleria_Borghese%29-Caravaggio_%281610%29.jpg/170px-John_the_Baptist_%28Galleria_Borghese%29-Caravaggio_%281610%29.jpg\n"
     ]
    },
    {
     "data": {
      "text/plain": [
       "9558"
      ]
     },
     "execution_count": 213,
     "metadata": {},
     "output_type": "execute_result"
    },
    {
     "name": "stdout",
     "output_type": "stream",
     "text": [
      "https://upload.wikimedia.org/wikipedia/commons/thumb/d/d4/David_holding_the_head_of_Goliath_by_Caravaggio_%28Rome%29.jpg/170px-David_holding_the_head_of_Goliath_by_Caravaggio_%28Rome%29.jpg\n"
     ]
    },
    {
     "data": {
      "text/plain": [
       "11091"
      ]
     },
     "execution_count": 213,
     "metadata": {},
     "output_type": "execute_result"
    },
    {
     "name": "stdout",
     "output_type": "stream",
     "text": [
      "https://upload.wikimedia.org/wikipedia/commons/thumb/d/d3/Caravaggio-Baptist-reclining.jpg/170px-Caravaggio-Baptist-reclining.jpg\n"
     ]
    },
    {
     "data": {
      "text/plain": [
       "4842"
      ]
     },
     "execution_count": 213,
     "metadata": {},
     "output_type": "execute_result"
    },
    {
     "name": "stdout",
     "output_type": "stream",
     "text": [
      "https://upload.wikimedia.org/wikipedia/commons/thumb/6/61/CaravaggioUrsula.jpg/170px-CaravaggioUrsula.jpg\n"
     ]
    },
    {
     "data": {
      "text/plain": [
       "7649"
      ]
     },
     "execution_count": 213,
     "metadata": {},
     "output_type": "execute_result"
    }
   ],
   "source": [
    "# # need to spoof it as a browser user agent otherwise wikimedia \n",
    "# r = requests.get('https://upload.wikimedia.org/wikipedia/commons/6/65/Pierre-Auguste_Renoir_-_Portrait_de_la_m%C3%A8re_de_Renoir.jpg', \n",
    "#                  headers={'User-agent': 'Mozilla/5.0'})\n",
    "\n",
    "\n",
    "for index, row in df.iterrows():\n",
    "    img_url = row['original_filename']\n",
    "    print(img_url)\n",
    "    r = requests.get(img_url, headers={'User-agent': 'Mozilla/5.0'})\n",
    "    f = open('caravaggio/' + str(row['decade']) + '/' + row['YearName'] + '.jpeg', 'wb')\n",
    "    f.write(r.content)\n",
    "    f.close()\n"
   ]
  },
  {
   "cell_type": "code",
   "execution_count": 216,
   "id": "1d33d455-fe66-4557-8d81-1ec68abe05c5",
   "metadata": {
    "execution": {
     "iopub.execute_input": "2024-01-24T10:33:50.903793Z",
     "iopub.status.busy": "2024-01-24T10:33:50.903131Z",
     "iopub.status.idle": "2024-01-24T10:33:51.162129Z",
     "shell.execute_reply": "2024-01-24T10:33:51.160200Z",
     "shell.execute_reply.started": "2024-01-24T10:33:50.903745Z"
    },
    "tags": []
   },
   "outputs": [
    {
     "name": "stdout",
     "output_type": "stream",
     "text": [
      "       6\n"
     ]
    }
   ],
   "source": [
    "!ls caravaggio/1610 | wc -l"
   ]
  },
  {
   "cell_type": "markdown",
   "id": "2af56371-bd3b-428d-a842-c608863b1c68",
   "metadata": {
    "tags": []
   },
   "source": [
    "# Now investigate the colours!\n",
    "\n",
    "Using a k-means with 5 clusters asked for for each picture"
   ]
  },
  {
   "cell_type": "code",
   "execution_count": 217,
   "id": "e4fcd30c-9670-4a26-80a4-e41d34d4a257",
   "metadata": {
    "collapsed": true,
    "execution": {
     "iopub.execute_input": "2024-01-24T10:34:25.200613Z",
     "iopub.status.busy": "2024-01-24T10:34:25.199781Z",
     "iopub.status.idle": "2024-01-24T10:34:27.894150Z",
     "shell.execute_reply": "2024-01-24T10:34:27.892398Z",
     "shell.execute_reply.started": "2024-01-24T10:34:25.200546Z"
    },
    "jupyter": {
     "outputs_hidden": true
    },
    "tags": []
   },
   "outputs": [
    {
     "name": "stdout",
     "output_type": "stream",
     "text": [
      "c. 1598:Judith Beheading Holofernes.jpeg\n"
     ]
    },
    {
     "name": "stderr",
     "output_type": "stream",
     "text": [
      "/Users/martina/Desktop/venv/lib/python3.9/site-packages/sklearn/cluster/_kmeans.py:1416: FutureWarning: The default value of `n_init` will change from 10 to 'auto' in 1.4. Set the value of `n_init` explicitly to suppress the warning\n",
      "  super()._check_params_vs_input(X, default_n_init=10)\n"
     ]
    },
    {
     "name": "stdout",
     "output_type": "stream",
     "text": [
      "c. 1596:Basket of Fruit.jpeg\n",
      "c. 1597:Portrait of a Courtesan.jpeg\n",
      "c. 1597:Medusa.jpeg\n"
     ]
    },
    {
     "name": "stderr",
     "output_type": "stream",
     "text": [
      "/Users/martina/Desktop/venv/lib/python3.9/site-packages/sklearn/cluster/_kmeans.py:1416: FutureWarning: The default value of `n_init` will change from 10 to 'auto' in 1.4. Set the value of `n_init` explicitly to suppress the warning\n",
      "  super()._check_params_vs_input(X, default_n_init=10)\n",
      "/Users/martina/Desktop/venv/lib/python3.9/site-packages/sklearn/cluster/_kmeans.py:1416: FutureWarning: The default value of `n_init` will change from 10 to 'auto' in 1.4. Set the value of `n_init` explicitly to suppress the warning\n",
      "  super()._check_params_vs_input(X, default_n_init=10)\n",
      "/Users/martina/Desktop/venv/lib/python3.9/site-packages/sklearn/cluster/_kmeans.py:1416: FutureWarning: The default value of `n_init` will change from 10 to 'auto' in 1.4. Set the value of `n_init` explicitly to suppress the warning\n",
      "  super()._check_params_vs_input(X, default_n_init=10)\n"
     ]
    },
    {
     "name": "stdout",
     "output_type": "stream",
     "text": [
      "c. 1597:Jupiter, Neptune and Pluto.jpeg\n",
      "c. 1598:John the Baptist.jpeg\n"
     ]
    },
    {
     "name": "stderr",
     "output_type": "stream",
     "text": [
      "/Users/martina/Desktop/venv/lib/python3.9/site-packages/sklearn/cluster/_kmeans.py:1416: FutureWarning: The default value of `n_init` will change from 10 to 'auto' in 1.4. Set the value of `n_init` explicitly to suppress the warning\n",
      "  super()._check_params_vs_input(X, default_n_init=10)\n",
      "/Users/martina/Desktop/venv/lib/python3.9/site-packages/sklearn/cluster/_kmeans.py:1416: FutureWarning: The default value of `n_init` will change from 10 to 'auto' in 1.4. Set the value of `n_init` explicitly to suppress the warning\n",
      "  super()._check_params_vs_input(X, default_n_init=10)\n"
     ]
    },
    {
     "name": "stdout",
     "output_type": "stream",
     "text": [
      "c. 1595:Saint Francis of Assisi in Ecstasy.jpeg\n",
      "c. 1599:David and Goliath.jpeg\n",
      "c. 1594:Cardsharps.jpeg\n"
     ]
    },
    {
     "name": "stderr",
     "output_type": "stream",
     "text": [
      "/Users/martina/Desktop/venv/lib/python3.9/site-packages/sklearn/cluster/_kmeans.py:1416: FutureWarning: The default value of `n_init` will change from 10 to 'auto' in 1.4. Set the value of `n_init` explicitly to suppress the warning\n",
      "  super()._check_params_vs_input(X, default_n_init=10)\n",
      "/Users/martina/Desktop/venv/lib/python3.9/site-packages/sklearn/cluster/_kmeans.py:1416: FutureWarning: The default value of `n_init` will change from 10 to 'auto' in 1.4. Set the value of `n_init` explicitly to suppress the warning\n",
      "  super()._check_params_vs_input(X, default_n_init=10)\n",
      "/Users/martina/Desktop/venv/lib/python3.9/site-packages/sklearn/cluster/_kmeans.py:1416: FutureWarning: The default value of `n_init` will change from 10 to 'auto' in 1.4. Set the value of `n_init` explicitly to suppress the warning\n",
      "  super()._check_params_vs_input(X, default_n_init=10)\n"
     ]
    },
    {
     "name": "stdout",
     "output_type": "stream",
     "text": [
      "c. 1593:Boy with a Basket of Fruit.jpeg\n",
      "c. 1595:Musicians.jpeg\n",
      "c. 1594:Fortune Teller.jpeg\n"
     ]
    },
    {
     "name": "stderr",
     "output_type": "stream",
     "text": [
      "/Users/martina/Desktop/venv/lib/python3.9/site-packages/sklearn/cluster/_kmeans.py:1416: FutureWarning: The default value of `n_init` will change from 10 to 'auto' in 1.4. Set the value of `n_init` explicitly to suppress the warning\n",
      "  super()._check_params_vs_input(X, default_n_init=10)\n",
      "/Users/martina/Desktop/venv/lib/python3.9/site-packages/sklearn/cluster/_kmeans.py:1416: FutureWarning: The default value of `n_init` will change from 10 to 'auto' in 1.4. Set the value of `n_init` explicitly to suppress the warning\n",
      "  super()._check_params_vs_input(X, default_n_init=10)\n",
      "/Users/martina/Desktop/venv/lib/python3.9/site-packages/sklearn/cluster/_kmeans.py:1416: FutureWarning: The default value of `n_init` will change from 10 to 'auto' in 1.4. Set the value of `n_init` explicitly to suppress the warning\n",
      "  super()._check_params_vs_input(X, default_n_init=10)\n"
     ]
    },
    {
     "name": "stdout",
     "output_type": "stream",
     "text": [
      "c. 1592–1593:Boy Peeling Fruit.jpeg\n",
      "c. 1598:Martha and Mary Magdalene.jpeg\n",
      "c. 1597:Fortune Teller.jpeg\n"
     ]
    },
    {
     "name": "stderr",
     "output_type": "stream",
     "text": [
      "/Users/martina/Desktop/venv/lib/python3.9/site-packages/sklearn/cluster/_kmeans.py:1416: FutureWarning: The default value of `n_init` will change from 10 to 'auto' in 1.4. Set the value of `n_init` explicitly to suppress the warning\n",
      "  super()._check_params_vs_input(X, default_n_init=10)\n",
      "/Users/martina/Desktop/venv/lib/python3.9/site-packages/sklearn/cluster/_kmeans.py:1416: FutureWarning: The default value of `n_init` will change from 10 to 'auto' in 1.4. Set the value of `n_init` explicitly to suppress the warning\n",
      "  super()._check_params_vs_input(X, default_n_init=10)\n",
      "/Users/martina/Desktop/venv/lib/python3.9/site-packages/sklearn/cluster/_kmeans.py:1416: FutureWarning: The default value of `n_init` will change from 10 to 'auto' in 1.4. Set the value of `n_init` explicitly to suppress the warning\n",
      "  super()._check_params_vs_input(X, default_n_init=10)\n"
     ]
    },
    {
     "name": "stdout",
     "output_type": "stream",
     "text": [
      "c. 1597:Penitent Magdalene.jpeg\n",
      "c. 1593:Young Sick Bacchus.jpeg\n",
      "c. 1596:Bacchus.jpeg\n"
     ]
    },
    {
     "name": "stderr",
     "output_type": "stream",
     "text": [
      "/Users/martina/Desktop/venv/lib/python3.9/site-packages/sklearn/cluster/_kmeans.py:1416: FutureWarning: The default value of `n_init` will change from 10 to 'auto' in 1.4. Set the value of `n_init` explicitly to suppress the warning\n",
      "  super()._check_params_vs_input(X, default_n_init=10)\n",
      "/Users/martina/Desktop/venv/lib/python3.9/site-packages/sklearn/cluster/_kmeans.py:1416: FutureWarning: The default value of `n_init` will change from 10 to 'auto' in 1.4. Set the value of `n_init` explicitly to suppress the warning\n",
      "  super()._check_params_vs_input(X, default_n_init=10)\n",
      "/Users/martina/Desktop/venv/lib/python3.9/site-packages/sklearn/cluster/_kmeans.py:1416: FutureWarning: The default value of `n_init` will change from 10 to 'auto' in 1.4. Set the value of `n_init` explicitly to suppress the warning\n",
      "  super()._check_params_vs_input(X, default_n_init=10)\n"
     ]
    },
    {
     "name": "stdout",
     "output_type": "stream",
     "text": [
      "c. 1592–1599:Portrait of a Prelate[8].jpeg\n",
      "c. 1597:Rest on the Flight into Egypt.jpeg\n",
      ".ipynb_checkpoints\n",
      "c. 1596:Lute Player.jpeg\n"
     ]
    },
    {
     "name": "stderr",
     "output_type": "stream",
     "text": [
      "/Users/martina/Desktop/venv/lib/python3.9/site-packages/sklearn/cluster/_kmeans.py:1416: FutureWarning: The default value of `n_init` will change from 10 to 'auto' in 1.4. Set the value of `n_init` explicitly to suppress the warning\n",
      "  super()._check_params_vs_input(X, default_n_init=10)\n",
      "/Users/martina/Desktop/venv/lib/python3.9/site-packages/sklearn/cluster/_kmeans.py:1416: FutureWarning: The default value of `n_init` will change from 10 to 'auto' in 1.4. Set the value of `n_init` explicitly to suppress the warning\n",
      "  super()._check_params_vs_input(X, default_n_init=10)\n",
      "/Users/martina/Desktop/venv/lib/python3.9/site-packages/sklearn/cluster/_kmeans.py:1416: FutureWarning: The default value of `n_init` will change from 10 to 'auto' in 1.4. Set the value of `n_init` explicitly to suppress the warning\n",
      "  super()._check_params_vs_input(X, default_n_init=10)\n"
     ]
    },
    {
     "name": "stdout",
     "output_type": "stream",
     "text": [
      "c. 1592-1593:Boy Peeling Fruit.jpeg\n",
      "c. 1598:Sacrifice of Isaac.jpeg\n",
      "c. 1596 Lute Player.jpeg\n"
     ]
    },
    {
     "name": "stderr",
     "output_type": "stream",
     "text": [
      "/Users/martina/Desktop/venv/lib/python3.9/site-packages/sklearn/cluster/_kmeans.py:1416: FutureWarning: The default value of `n_init` will change from 10 to 'auto' in 1.4. Set the value of `n_init` explicitly to suppress the warning\n",
      "  super()._check_params_vs_input(X, default_n_init=10)\n",
      "/Users/martina/Desktop/venv/lib/python3.9/site-packages/sklearn/cluster/_kmeans.py:1416: FutureWarning: The default value of `n_init` will change from 10 to 'auto' in 1.4. Set the value of `n_init` explicitly to suppress the warning\n",
      "  super()._check_params_vs_input(X, default_n_init=10)\n",
      "/Users/martina/Desktop/venv/lib/python3.9/site-packages/sklearn/cluster/_kmeans.py:1416: FutureWarning: The default value of `n_init` will change from 10 to 'auto' in 1.4. Set the value of `n_init` explicitly to suppress the warning\n",
      "  super()._check_params_vs_input(X, default_n_init=10)\n"
     ]
    },
    {
     "name": "stdout",
     "output_type": "stream",
     "text": [
      "c. 1596:Boy Bitten by a Lizard.jpeg\n",
      "c. 1599:Narcissus.jpeg\n",
      "c. 1598:Portrait of Maffeo Barberini.jpeg\n"
     ]
    },
    {
     "name": "stderr",
     "output_type": "stream",
     "text": [
      "/Users/martina/Desktop/venv/lib/python3.9/site-packages/sklearn/cluster/_kmeans.py:1416: FutureWarning: The default value of `n_init` will change from 10 to 'auto' in 1.4. Set the value of `n_init` explicitly to suppress the warning\n",
      "  super()._check_params_vs_input(X, default_n_init=10)\n",
      "/Users/martina/Desktop/venv/lib/python3.9/site-packages/sklearn/cluster/_kmeans.py:1416: FutureWarning: The default value of `n_init` will change from 10 to 'auto' in 1.4. Set the value of `n_init` explicitly to suppress the warning\n",
      "  super()._check_params_vs_input(X, default_n_init=10)\n",
      "/Users/martina/Desktop/venv/lib/python3.9/site-packages/sklearn/cluster/_kmeans.py:1416: FutureWarning: The default value of `n_init` will change from 10 to 'auto' in 1.4. Set the value of `n_init` explicitly to suppress the warning\n",
      "  super()._check_params_vs_input(X, default_n_init=10)\n"
     ]
    },
    {
     "name": "stdout",
     "output_type": "stream",
     "text": [
      "c. 1598:Saint Catherine of Alexandria.jpeg\n",
      "CPU times: user 4.28 s, sys: 310 ms, total: 4.59 s\n",
      "Wall time: 2.67 s\n"
     ]
    },
    {
     "name": "stderr",
     "output_type": "stream",
     "text": [
      "/Users/martina/Desktop/venv/lib/python3.9/site-packages/sklearn/cluster/_kmeans.py:1416: FutureWarning: The default value of `n_init` will change from 10 to 'auto' in 1.4. Set the value of `n_init` explicitly to suppress the warning\n",
      "  super()._check_params_vs_input(X, default_n_init=10)\n"
     ]
    }
   ],
   "source": [
    "%%time\n",
    "\n",
    "kmeans = KMeans(n_clusters=20)\n",
    "\n",
    "# do one by one\n",
    "dir_ = 'caravaggio/1590/'\n",
    "d = {}\n",
    "\n",
    "for filename in os.listdir(dir_):\n",
    "    \n",
    "    try:\n",
    "    \n",
    "        print(filename)\n",
    "\n",
    "        img = io.imread(dir_ + filename)\n",
    "\n",
    "        # resize (to half dimensions) so to reduce data, for speed\n",
    "        img = cv2.resize(img, (0,0), fx=0.2, fy=0.2)\n",
    "        img = np.reshape(img, (img.shape[0]*img.shape[1], 3))\n",
    "\n",
    "        kmeans.fit(img)\n",
    "\n",
    "        d[filename] = {'centroids': kmeans.cluster_centers_.tolist(),\n",
    "                       'labels': kmeans.labels_.tolist()}\n",
    "        \n",
    "    # there can be some in wrong format    \n",
    "    except:\n",
    "        pass"
   ]
  },
  {
   "cell_type": "code",
   "execution_count": 218,
   "id": "ad33a0a7-0b93-4a69-b5cb-2e6ac7be7c59",
   "metadata": {
    "execution": {
     "iopub.execute_input": "2024-01-24T10:34:35.241714Z",
     "iopub.status.busy": "2024-01-24T10:34:35.240813Z",
     "iopub.status.idle": "2024-01-24T10:34:35.278836Z",
     "shell.execute_reply": "2024-01-24T10:34:35.261012Z",
     "shell.execute_reply.started": "2024-01-24T10:34:35.241643Z"
    },
    "tags": []
   },
   "outputs": [
    {
     "data": {
      "text/plain": [
       "28"
      ]
     },
     "execution_count": 218,
     "metadata": {},
     "output_type": "execute_result"
    }
   ],
   "source": [
    "len(d)"
   ]
  },
  {
   "cell_type": "code",
   "execution_count": 240,
   "id": "37be08bc-4416-45c0-8d60-ca810d9fdefa",
   "metadata": {
    "execution": {
     "iopub.execute_input": "2021-12-05T09:42:25.108025Z",
     "iopub.status.busy": "2021-12-05T09:42:25.107681Z",
     "iopub.status.idle": "2021-12-05T09:42:32.694289Z",
     "shell.execute_reply": "2021-12-05T09:42:32.693419Z",
     "shell.execute_reply.started": "2021-12-05T09:42:25.107996Z"
    },
    "tags": []
   },
   "outputs": [],
   "source": [
    "# dump to file\n",
    "json.dump(d, open('renoir_1890_clusters_20.json', 'w'))"
   ]
  },
  {
   "cell_type": "markdown",
   "id": "fdbb941a-fbdb-48bc-942b-3680cdf90e59",
   "metadata": {
    "jp-MarkdownHeadingCollapsed": true,
    "tags": []
   },
   "source": [
    "##  Read all files in, build single dict\n",
    "\n",
    "For the RGB values, cast to int. For the labels, compute the occupation (in %) of each."
   ]
  },
  {
   "cell_type": "code",
   "execution_count": 256,
   "id": "57732155-37e0-4dd6-bf28-fe081ef4c241",
   "metadata": {
    "execution": {
     "iopub.execute_input": "2021-12-05T20:14:23.931223Z",
     "iopub.status.busy": "2021-12-05T20:14:23.930874Z",
     "iopub.status.idle": "2021-12-05T20:14:36.255037Z",
     "shell.execute_reply": "2021-12-05T20:14:36.254061Z",
     "shell.execute_reply.started": "2021-12-05T20:14:23.931191Z"
    },
    "tags": []
   },
   "outputs": [
    {
     "name": "stdout",
     "output_type": "stream",
     "text": [
      "1860\n",
      "1870\n",
      "1880\n",
      "1890\n",
      "1900\n",
      "1910\n"
     ]
    }
   ],
   "source": [
    "d_decades = {'1860': {}, '1870': {}, '1880': {}, '1890': {}, '1900': {}, '1910': {}}\n",
    "\n",
    "for decade in d_decades:\n",
    "    print(decade)\n",
    "    d = json.load(open('renoir_{decade}_clusters.json'.format(decade=decade), 'r'))\n",
    "    for title in d:\n",
    "        d_decades[decade][title] = []\n",
    "        for i in range(len(d[title]['centroids'])):\n",
    "            d_decades[decade][title].append(\n",
    "                {'colour': [int(item) for item in d[title]['centroids'][i]],\n",
    "                 'occupation': round(d[title]['labels'].count(i) / len(d[title]['labels']), 2)\n",
    "                })"
   ]
  },
  {
   "cell_type": "code",
   "execution_count": 257,
   "id": "054672bb-4677-4521-928f-fb39e689e031",
   "metadata": {
    "execution": {
     "iopub.execute_input": "2021-12-05T20:14:40.710307Z",
     "iopub.status.busy": "2021-12-05T20:14:40.709862Z",
     "iopub.status.idle": "2021-12-05T20:14:40.723136Z",
     "shell.execute_reply": "2021-12-05T20:14:40.720234Z",
     "shell.execute_reply.started": "2021-12-05T20:14:40.710276Z"
    },
    "tags": []
   },
   "outputs": [
    {
     "data": {
      "text/plain": [
       "dict_keys(['Children on the Seashore, Guernsey(French: Enfants au Bord de la Mer, Guernesey).jpeg', 'Luncheon of the Boating Party(French: Le déjeuner des canotiers).jpeg', 'Blonde Bather (1881)(French: La baigneuse blonde).jpeg', 'Two Sisters (On the Terrace)(French: Les deux sœurs (Sur la terrasse)).jpeg', 'Portrait of Charles and George Durand-Ruel(French: Portrait de Charles et George Durand-Ruel).jpeg', 'Woman Arranging her Hair(fr:Femme se coiffant).jpeg', \"Woman with Fan(French: Femme à l'éventail).jpeg\", 'Dance in the City(French: Danse dans la Ville).jpeg', 'Pink and Blue(Alice and Elisabeth Cahen d’Anvers).jpeg', 'Fruits of the Midi(French: Fruits du midi).jpeg', 'Still Life, Roses of Wargemont(French: Nature morte, Roses de Wargemont).jpeg', 'Young Girls in Black(French: Jeunes filles en noir).jpeg', 'By the Seashore(French: Femme Assise au Bord de la Mer).jpeg', 'A Young Girl with Daisies(French: Une jeune fille avec des marguerites).jpeg', 'Children on the Beach of Guernsey(French: Enfants sur la Plage de Guernesey).jpeg', 'In the Garden(French: Dans le jardin).jpeg', \"Mlle Irène Cahen d'Anvers.jpeg\", 'Girl with a Hoop(French: Fille avec un cerceau).jpeg', 'Algerian Woman.jpeg', \"Rocky Crags at L'Estaque.jpeg\", 'Young Woman with a Blue Ribbon(French: Jeune fille au ruban bleu).jpeg', 'Dance at Bougival(French: La Danse à Bougival).jpeg', 'Sunset in Douarnenez(French: Coucher de soleil à Douarnenez).jpeg', 'The Umbrellas(French: Les parapluies).jpeg', 'Fog at Guernsey(French: Brouillard à Guernesey).jpeg', 'The Daughters of Catulle Mendès.jpeg', 'Dance in the Country(French: Danse à la Campagne).jpeg', \"Venice, the Doge's Palace(French: Venise, le Palais des Doges).jpeg\", 'The Two Sisters(French: Les deux soeurs).jpeg', 'Nature morte: fleurs(Still Life: Flowers).jpeg', 'Garden Scene in Brittany(French: Scène de jardin en Bretagne).jpeg', 'Near the Lake(French: Près du lac).jpeg', \"Agenteuil Bridge in Autumn (French: Le Pont d'Argenteuil en automne).jpeg\", 'Naked Woman in a Landscape(French: Femme nue dans un paysage).jpeg', 'Girl with Spikes(French: Fille aux oreilles).jpeg', 'Blonde Bather (1882)(French: La baigneuse blonde).jpeg', \"Children's Afternoon at Wargemont (French: L'après-midi des enfants à Wargemont).jpeg\", 'Sleeping Girl(French: Fille endormie).jpeg', 'Steps in Algiers(French: Étapes à Alger).jpeg', 'Les grandes baigneuses(The Large Bathers).jpeg'])"
      ]
     },
     "execution_count": 257,
     "metadata": {},
     "output_type": "execute_result"
    }
   ],
   "source": [
    "d_decades['1880'].keys()"
   ]
  },
  {
   "cell_type": "code",
   "execution_count": 645,
   "id": "8238f618-4ec8-4d2d-beae-9881115dc164",
   "metadata": {
    "execution": {
     "iopub.execute_input": "2021-12-11T12:31:43.336609Z",
     "iopub.status.busy": "2021-12-11T12:31:43.336169Z",
     "iopub.status.idle": "2021-12-11T12:31:43.349086Z",
     "shell.execute_reply": "2021-12-11T12:31:43.347751Z",
     "shell.execute_reply.started": "2021-12-11T12:31:43.336564Z"
    },
    "tags": []
   },
   "outputs": [
    {
     "data": {
      "text/plain": [
       "[{'colour': [155, 129, 107], 'occupation': 0.07},\n",
       " {'colour': [56, 46, 71], 'occupation': 0.1},\n",
       " {'colour': [111, 106, 117], 'occupation': 0.1},\n",
       " {'colour': [211, 196, 177], 'occupation': 0.08},\n",
       " {'colour': [80, 61, 51], 'occupation': 0.1},\n",
       " {'colour': [116, 94, 71], 'occupation': 0.07},\n",
       " {'colour': [148, 145, 143], 'occupation': 0.1},\n",
       " {'colour': [37, 24, 35], 'occupation': 0.1},\n",
       " {'colour': [82, 75, 96], 'occupation': 0.15},\n",
       " {'colour': [186, 166, 148], 'occupation': 0.12}]"
      ]
     },
     "execution_count": 645,
     "metadata": {},
     "output_type": "execute_result"
    }
   ],
   "source": [
    "d_decades['1880']['Portrait of Charles and George Durand-Ruel(French: Portrait de Charles et George Durand-Ruel).jpeg']"
   ]
  },
  {
   "cell_type": "code",
   "execution_count": 210,
   "id": "4c1c4895-6c23-4c21-a811-53d99a3d0a44",
   "metadata": {
    "execution": {
     "iopub.execute_input": "2021-12-04T11:07:13.946149Z",
     "iopub.status.busy": "2021-12-04T11:07:13.945788Z",
     "iopub.status.idle": "2021-12-04T11:07:13.961137Z",
     "shell.execute_reply": "2021-12-04T11:07:13.959567Z",
     "shell.execute_reply.started": "2021-12-04T11:07:13.946115Z"
    },
    "tags": []
   },
   "outputs": [],
   "source": [
    "title = 'Girl Playing Croquet(French/ Fille jouant au croquet).jpeg'"
   ]
  },
  {
   "cell_type": "code",
   "execution_count": 245,
   "id": "ff2c0e9b-8966-4c62-81e5-e9da98ee53b1",
   "metadata": {
    "collapsed": true,
    "execution": {
     "iopub.execute_input": "2021-12-05T09:44:37.874503Z",
     "iopub.status.busy": "2021-12-05T09:44:37.873975Z",
     "iopub.status.idle": "2021-12-05T09:45:05.784635Z",
     "shell.execute_reply": "2021-12-05T09:45:05.781741Z",
     "shell.execute_reply.started": "2021-12-05T09:44:37.874445Z"
    },
    "jupyter": {
     "outputs_hidden": true
    },
    "tags": []
   },
   "outputs": [
    {
     "name": "stdout",
     "output_type": "stream",
     "text": [
      "1860\n",
      "1870\n",
      "1880\n",
      "1890\n",
      "Girl Playing Croquet(French: Fille jouant au croquet).jpeg\n"
     ]
    },
    {
     "data": {
      "text/plain": [
       "<Figure size 1440x1440 with 0 Axes>"
      ]
     },
     "execution_count": 245,
     "metadata": {},
     "output_type": "execute_result"
    },
    {
     "name": "stdout",
     "output_type": "stream",
     "text": [
      "{'colour': [155, 108, 45], 'occupation': 0.1}\n",
      "{'colour': [175, 114, 45], 'occupation': 0.09}\n",
      "{'colour': [155, 28, 33], 'occupation': 0.08}\n",
      "{'colour': [132, 25, 31], 'occupation': 0.08}\n",
      "{'colour': [190, 131, 56], 'occupation': 0.07}\n",
      "{'colour': [164, 122, 58], 'occupation': 0.06}\n",
      "{'colour': [152, 89, 38], 'occupation': 0.06}\n",
      "{'colour': [131, 92, 46], 'occupation': 0.06}\n",
      "{'colour': [167, 47, 37], 'occupation': 0.06}\n",
      "{'colour': [128, 68, 34], 'occupation': 0.05}\n",
      "{'colour': [108, 19, 25], 'occupation': 0.04}\n",
      "{'colour': [107, 77, 45], 'occupation': 0.04}\n",
      "{'colour': [96, 56, 33], 'occupation': 0.04}\n",
      "{'colour': [184, 66, 45], 'occupation': 0.04}\n",
      "{'colour': [202, 149, 76], 'occupation': 0.03}\n",
      "{'colour': [67, 30, 26], 'occupation': 0.03}\n",
      "{'colour': [136, 109, 62], 'occupation': 0.03}\n",
      "{'colour': [32, 12, 12], 'occupation': 0.02}\n",
      "{'colour': [205, 88, 64], 'occupation': 0.01}\n",
      "{'colour': [221, 181, 122], 'occupation': 0.0}\n",
      "Yvonne et Christine Lerolle au piano(Yvonne and Christine Lerolle at the Piano).jpeg\n"
     ]
    },
    {
     "data": {
      "text/plain": [
       "<Figure size 1440x1440 with 0 Axes>"
      ]
     },
     "execution_count": 245,
     "metadata": {},
     "output_type": "execute_result"
    },
    {
     "name": "stdout",
     "output_type": "stream",
     "text": [
      "{'colour': [16, 11, 18], 'occupation': 0.11}\n",
      "{'colour': [45, 31, 29], 'occupation': 0.08}\n",
      "{'colour': [177, 153, 75], 'occupation': 0.07}\n",
      "{'colour': [196, 173, 91], 'occupation': 0.07}\n",
      "{'colour': [75, 50, 40], 'occupation': 0.07}\n",
      "{'colour': [154, 133, 66], 'occupation': 0.06}\n",
      "{'colour': [132, 102, 57], 'occupation': 0.05}\n",
      "{'colour': [216, 82, 55], 'occupation': 0.04}\n",
      "{'colour': [185, 178, 148], 'occupation': 0.04}\n",
      "{'colour': [158, 149, 112], 'occupation': 0.04}\n",
      "{'colour': [221, 219, 195], 'occupation': 0.04}\n",
      "{'colour': [121, 57, 43], 'occupation': 0.04}\n",
      "{'colour': [217, 205, 161], 'occupation': 0.04}\n",
      "{'colour': [169, 67, 49], 'occupation': 0.04}\n",
      "{'colour': [230, 237, 233], 'occupation': 0.04}\n",
      "{'colour': [128, 123, 89], 'occupation': 0.04}\n",
      "{'colour': [98, 85, 57], 'occupation': 0.04}\n",
      "{'colour': [222, 186, 112], 'occupation': 0.03}\n",
      "{'colour': [185, 111, 64], 'occupation': 0.03}\n",
      "{'colour': [216, 140, 83], 'occupation': 0.03}\n",
      "In the Meadow(French: Dans le pré).jpeg\n"
     ]
    },
    {
     "data": {
      "text/plain": [
       "<Figure size 1440x1440 with 0 Axes>"
      ]
     },
     "execution_count": 245,
     "metadata": {},
     "output_type": "execute_result"
    },
    {
     "name": "stdout",
     "output_type": "stream",
     "text": [
      "{'colour': [76, 74, 85], 'occupation': 0.08}\n",
      "{'colour': [91, 94, 101], 'occupation': 0.08}\n",
      "{'colour': [203, 176, 136], 'occupation': 0.06}\n",
      "{'colour': [103, 114, 123], 'occupation': 0.06}\n",
      "{'colour': [129, 133, 132], 'occupation': 0.06}\n",
      "{'colour': [155, 136, 97], 'occupation': 0.06}\n",
      "{'colour': [121, 115, 97], 'occupation': 0.06}\n",
      "{'colour': [108, 89, 67], 'occupation': 0.05}\n",
      "{'colour': [170, 155, 130], 'occupation': 0.05}\n",
      "{'colour': [58, 54, 67], 'occupation': 0.05}\n",
      "{'colour': [177, 100, 84], 'occupation': 0.04}\n",
      "{'colour': [139, 114, 69], 'occupation': 0.04}\n",
      "{'colour': [51, 30, 37], 'occupation': 0.04}\n",
      "{'colour': [94, 55, 47], 'occupation': 0.04}\n",
      "{'colour': [147, 155, 160], 'occupation': 0.04}\n",
      "{'colour': [187, 159, 99], 'occupation': 0.04}\n",
      "{'colour': [215, 203, 175], 'occupation': 0.04}\n",
      "{'colour': [195, 129, 114], 'occupation': 0.04}\n",
      "{'colour': [180, 176, 170], 'occupation': 0.04}\n",
      "{'colour': [149, 68, 58], 'occupation': 0.03}\n",
      "Woman Playing a Guitar(French: Femme jouant de la guitare).jpeg\n"
     ]
    },
    {
     "data": {
      "text/plain": [
       "<Figure size 1440x1440 with 0 Axes>"
      ]
     },
     "execution_count": 245,
     "metadata": {},
     "output_type": "execute_result"
    },
    {
     "name": "stdout",
     "output_type": "stream",
     "text": [
      "{'colour': [20, 25, 18], 'occupation': 0.1}\n",
      "{'colour': [36, 41, 15], 'occupation': 0.08}\n",
      "{'colour': [125, 118, 95], 'occupation': 0.07}\n",
      "{'colour': [134, 133, 120], 'occupation': 0.06}\n",
      "{'colour': [133, 79, 25], 'occupation': 0.06}\n",
      "{'colour': [154, 154, 144], 'occupation': 0.05}\n",
      "{'colour': [140, 45, 8], 'occupation': 0.05}\n",
      "{'colour': [94, 81, 44], 'occupation': 0.05}\n",
      "{'colour': [66, 26, 12], 'occupation': 0.05}\n",
      "{'colour': [175, 60, 8], 'occupation': 0.05}\n",
      "{'colour': [102, 57, 17], 'occupation': 0.05}\n",
      "{'colour': [132, 100, 56], 'occupation': 0.05}\n",
      "{'colour': [170, 86, 42], 'occupation': 0.04}\n",
      "{'colour': [103, 99, 75], 'occupation': 0.04}\n",
      "{'colour': [44, 53, 39], 'occupation': 0.04}\n",
      "{'colour': [104, 24, 6], 'occupation': 0.04}\n",
      "{'colour': [66, 67, 15], 'occupation': 0.04}\n",
      "{'colour': [167, 111, 77], 'occupation': 0.03}\n",
      "{'colour': [167, 139, 111], 'occupation': 0.03}\n",
      "{'colour': [171, 177, 173], 'occupation': 0.02}\n",
      "Portrait of Victorine de Bellio (French: Portrait de Mademoiselle Victorine de Bellio).jpeg\n"
     ]
    },
    {
     "data": {
      "text/plain": [
       "<Figure size 1440x1440 with 0 Axes>"
      ]
     },
     "execution_count": 245,
     "metadata": {},
     "output_type": "execute_result"
    },
    {
     "name": "stdout",
     "output_type": "stream",
     "text": [
      "{'colour': [76, 43, 28], 'occupation': 0.08}\n",
      "{'colour': [42, 20, 10], 'occupation': 0.08}\n",
      "{'colour': [60, 31, 18], 'occupation': 0.08}\n",
      "{'colour': [59, 55, 52], 'occupation': 0.07}\n",
      "{'colour': [21, 12, 6], 'occupation': 0.07}\n",
      "{'colour': [96, 91, 82], 'occupation': 0.06}\n",
      "{'colour': [90, 61, 37], 'occupation': 0.06}\n",
      "{'colour': [80, 75, 67], 'occupation': 0.06}\n",
      "{'colour': [111, 70, 53], 'occupation': 0.05}\n",
      "{'colour': [113, 107, 97], 'occupation': 0.05}\n",
      "{'colour': [43, 38, 34], 'occupation': 0.05}\n",
      "{'colour': [152, 141, 130], 'occupation': 0.05}\n",
      "{'colour': [131, 86, 66], 'occupation': 0.04}\n",
      "{'colour': [97, 46, 43], 'occupation': 0.04}\n",
      "{'colour': [134, 126, 114], 'occupation': 0.04}\n",
      "{'colour': [148, 106, 82], 'occupation': 0.03}\n",
      "{'colour': [169, 132, 99], 'occupation': 0.02}\n",
      "{'colour': [200, 170, 147], 'occupation': 0.02}\n",
      "{'colour': [184, 153, 128], 'occupation': 0.02}\n",
      "{'colour': [238, 213, 181], 'occupation': 0.0}\n",
      "Gabrielle Renard and infant son, Jean(French: Gabrielle Renard et Jean enfant).jpeg\n"
     ]
    },
    {
     "data": {
      "text/plain": [
       "<Figure size 1440x1440 with 0 Axes>"
      ]
     },
     "execution_count": 245,
     "metadata": {},
     "output_type": "execute_result"
    },
    {
     "name": "stdout",
     "output_type": "stream",
     "text": [
      "{'colour': [198, 156, 107], 'occupation': 0.09}\n",
      "{'colour': [172, 149, 112], 'occupation': 0.08}\n",
      "{'colour': [115, 102, 61], 'occupation': 0.07}\n",
      "{'colour': [134, 116, 77], 'occupation': 0.07}\n",
      "{'colour': [183, 140, 91], 'occupation': 0.06}\n",
      "{'colour': [212, 170, 122], 'occupation': 0.06}\n",
      "{'colour': [155, 132, 95], 'occupation': 0.06}\n",
      "{'colour': [214, 185, 147], 'occupation': 0.06}\n",
      "{'colour': [187, 165, 134], 'occupation': 0.05}\n",
      "{'colour': [80, 80, 73], 'occupation': 0.05}\n",
      "{'colour': [228, 203, 164], 'occupation': 0.05}\n",
      "{'colour': [99, 85, 49], 'occupation': 0.05}\n",
      "{'colour': [98, 98, 91], 'occupation': 0.04}\n",
      "{'colour': [139, 101, 52], 'occupation': 0.04}\n",
      "{'colour': [164, 121, 70], 'occupation': 0.04}\n",
      "{'colour': [69, 62, 50], 'occupation': 0.04}\n",
      "{'colour': [244, 222, 185], 'occupation': 0.03}\n",
      "{'colour': [123, 120, 111], 'occupation': 0.02}\n",
      "{'colour': [44, 37, 27], 'occupation': 0.02}\n",
      "{'colour': [253, 243, 219], 'occupation': 0.02}\n",
      "Bathers Playing with a Crab(French: Baigneurs jouant avec un crabe).jpeg\n"
     ]
    },
    {
     "data": {
      "text/plain": [
       "<Figure size 1440x1440 with 0 Axes>"
      ]
     },
     "execution_count": 245,
     "metadata": {},
     "output_type": "execute_result"
    },
    {
     "name": "stdout",
     "output_type": "stream",
     "text": [
      "{'colour': [129, 108, 81], 'occupation': 0.1}\n",
      "{'colour': [142, 121, 95], 'occupation': 0.09}\n",
      "{'colour': [107, 100, 78], 'occupation': 0.08}\n",
      "{'colour': [158, 135, 109], 'occupation': 0.08}\n",
      "{'colour': [93, 85, 62], 'occupation': 0.08}\n",
      "{'colour': [132, 137, 134], 'occupation': 0.07}\n",
      "{'colour': [150, 157, 154], 'occupation': 0.06}\n",
      "{'colour': [120, 90, 62], 'occupation': 0.06}\n",
      "{'colour': [174, 151, 127], 'occupation': 0.05}\n",
      "{'colour': [112, 117, 110], 'occupation': 0.05}\n",
      "{'colour': [72, 71, 51], 'occupation': 0.05}\n",
      "{'colour': [114, 149, 159], 'occupation': 0.04}\n",
      "{'colour': [91, 131, 144], 'occupation': 0.04}\n",
      "{'colour': [98, 61, 35], 'occupation': 0.03}\n",
      "{'colour': [52, 42, 30], 'occupation': 0.03}\n",
      "{'colour': [73, 98, 101], 'occupation': 0.03}\n",
      "{'colour': [186, 173, 155], 'occupation': 0.03}\n",
      "{'colour': [27, 76, 92], 'occupation': 0.02}\n",
      "{'colour': [209, 202, 187], 'occupation': 0.01}\n",
      "{'colour': [151, 59, 35], 'occupation': 0.01}\n",
      "Girls at the Piano(French: Jeunes filles au piano).jpeg\n"
     ]
    },
    {
     "data": {
      "text/plain": [
       "<Figure size 1440x1440 with 0 Axes>"
      ]
     },
     "execution_count": 245,
     "metadata": {},
     "output_type": "execute_result"
    },
    {
     "name": "stdout",
     "output_type": "stream",
     "text": [
      "{'colour': [143, 120, 82], 'occupation': 0.08}\n",
      "{'colour': [132, 110, 75], 'occupation': 0.08}\n",
      "{'colour': [152, 130, 91], 'occupation': 0.07}\n",
      "{'colour': [121, 98, 69], 'occupation': 0.07}\n",
      "{'colour': [107, 85, 62], 'occupation': 0.06}\n",
      "{'colour': [130, 121, 95], 'occupation': 0.06}\n",
      "{'colour': [116, 110, 84], 'occupation': 0.06}\n",
      "{'colour': [144, 133, 109], 'occupation': 0.05}\n",
      "{'colour': [163, 142, 101], 'occupation': 0.05}\n",
      "{'colour': [91, 72, 53], 'occupation': 0.05}\n",
      "{'colour': [102, 97, 76], 'occupation': 0.05}\n",
      "{'colour': [159, 146, 121], 'occupation': 0.05}\n",
      "{'colour': [85, 82, 66], 'occupation': 0.04}\n",
      "{'colour': [172, 160, 136], 'occupation': 0.04}\n",
      "{'colour': [185, 174, 148], 'occupation': 0.04}\n",
      "{'colour': [74, 59, 47], 'occupation': 0.04}\n",
      "{'colour': [196, 189, 168], 'occupation': 0.03}\n",
      "{'colour': [177, 158, 116], 'occupation': 0.03}\n",
      "{'colour': [54, 40, 36], 'occupation': 0.02}\n",
      "{'colour': [212, 207, 190], 'occupation': 0.02}\n",
      "1900\n",
      "1910\n"
     ]
    },
    {
     "data": {
      "text/plain": [
       "<Figure size 1440x1440 with 0 Axes>"
      ]
     },
     "metadata": {},
     "output_type": "display_data"
    },
    {
     "data": {
      "image/png": "[encoded data removed]",
      "text/plain": [
       "<Figure size 432x288 with 20 Axes>"
      ]
     },
     "metadata": {
      "needs_background": "light"
     },
     "output_type": "display_data"
    },
    {
     "data": {
      "text/plain": [
       "<Figure size 1440x1440 with 0 Axes>"
      ]
     },
     "metadata": {},
     "output_type": "display_data"
    },
    {
     "data": {
      "image/png": "[encoded data removed]",
      "text/plain": [
       "<Figure size 432x288 with 20 Axes>"
      ]
     },
     "metadata": {
      "needs_background": "light"
     },
     "output_type": "display_data"
    },
    {
     "data": {
      "text/plain": [
       "<Figure size 1440x1440 with 0 Axes>"
      ]
     },
     "metadata": {},
     "output_type": "display_data"
    },
    {
     "data": {
      "image/png": "[encoded data removed]",
      "text/plain": [
       "<Figure size 432x288 with 20 Axes>"
      ]
     },
     "metadata": {
      "needs_background": "light"
     },
     "output_type": "display_data"
    },
    {
     "data": {
      "text/plain": [
       "<Figure size 1440x1440 with 0 Axes>"
      ]
     },
     "metadata": {},
     "output_type": "display_data"
    },
    {
     "data": {
      "image/png": "[encoded data removed]",
      "text/plain": [
       "<Figure size 432x288 with 20 Axes>"
      ]
     },
     "metadata": {
      "needs_background": "light"
     },
     "output_type": "display_data"
    },
    {
     "data": {
      "text/plain": [
       "<Figure size 1440x1440 with 0 Axes>"
      ]
     },
     "metadata": {},
     "output_type": "display_data"
    },
    {
     "data": {
      "image/png": "[encoded data removed]",
      "text/plain": [
       "<Figure size 432x288 with 20 Axes>"
      ]
     },
     "metadata": {
      "needs_background": "light"
     },
     "output_type": "display_data"
    },
    {
     "data": {
      "text/plain": [
       "<Figure size 1440x1440 with 0 Axes>"
      ]
     },
     "metadata": {},
     "output_type": "display_data"
    },
    {
     "data": {
      "image/png": "[encoded data removed]",
      "text/plain": [
       "<Figure size 432x288 with 20 Axes>"
      ]
     },
     "metadata": {
      "needs_background": "light"
     },
     "output_type": "display_data"
    },
    {
     "data": {
      "text/plain": [
       "<Figure size 1440x1440 with 0 Axes>"
      ]
     },
     "metadata": {},
     "output_type": "display_data"
    },
    {
     "data": {
      "image/png": "[encoded data removed]",
      "text/plain": [
       "<Figure size 432x288 with 20 Axes>"
      ]
     },
     "metadata": {
      "needs_background": "light"
     },
     "output_type": "display_data"
    },
    {
     "data": {
      "text/plain": [
       "<Figure size 1440x1440 with 0 Axes>"
      ]
     },
     "metadata": {},
     "output_type": "display_data"
    },
    {
     "data": {
      "image/png": "[encoded data removed]",
      "text/plain": [
       "<Figure size 432x288 with 20 Axes>"
      ]
     },
     "metadata": {
      "needs_background": "light"
     },
     "output_type": "display_data"
    }
   ],
   "source": [
    "# spit a jpeg for each decade with the kmeans colours of each title\n",
    "for decade in d_decades:\n",
    "    print(decade)\n",
    "    for title in d_decades[decade]:\n",
    "        print(title)\n",
    "        plt.figure(figsize=(20,20))\n",
    "\n",
    "        fig, axs = plt.subplots(1, 20)\n",
    "\n",
    "        l_ = d_decades[decade][title]    # list of dicts for the title\n",
    "        # sort by occupation down\n",
    "        l_ = sorted(l_, key=lambda d: d['occupation'],reverse=True)\n",
    "        for i in range(20):\n",
    "            print(l_[i])\n",
    "            _ = axs[i].imshow(np.full((1,1,3), l_[i]['colour']));\n",
    "\n",
    "        plt.savefig('colours_20_' + decade + '/' + title.split('.')[0] + '_colours.jpeg')"
   ]
  },
  {
   "cell_type": "code",
   "execution_count": 255,
   "id": "55b442ca-4bfb-4c76-86b1-6b811af12dd0",
   "metadata": {
    "execution": {
     "iopub.execute_input": "2021-12-05T20:13:25.049115Z",
     "iopub.status.busy": "2021-12-05T20:13:25.048788Z",
     "iopub.status.idle": "2021-12-05T20:13:25.058327Z",
     "shell.execute_reply": "2021-12-05T20:13:25.056996Z",
     "shell.execute_reply.started": "2021-12-05T20:13:25.049087Z"
    },
    "tags": []
   },
   "outputs": [
    {
     "data": {
      "text/plain": [
       "{}"
      ]
     },
     "execution_count": 255,
     "metadata": {},
     "output_type": "execute_result"
    }
   ],
   "source": [
    "d_decades['1880']"
   ]
  },
  {
   "cell_type": "code",
   "execution_count": 236,
   "id": "6cad72ab-9996-4cec-9958-762ca613d4e3",
   "metadata": {
    "execution": {
     "iopub.execute_input": "2021-12-04T22:00:42.262342Z",
     "iopub.status.busy": "2021-12-04T22:00:42.261836Z",
     "iopub.status.idle": "2021-12-04T22:00:42.274558Z",
     "shell.execute_reply": "2021-12-04T22:00:42.272488Z",
     "shell.execute_reply.started": "2021-12-04T22:00:42.262291Z"
    },
    "tags": []
   },
   "outputs": [
    {
     "data": {
      "text/plain": [
       "array([[11.6244039 ,  3.46713   , 16.83682015, 12.09934398, 15.17727766,\n",
       "         0.51378802,  5.48534208, 16.31473254,  4.64972173,  3.27978638],\n",
       "       [11.13847276, 16.93084413, 10.2415551 ,  2.23732427, 18.32590588,\n",
       "        19.70538719,  4.75854738, 19.99413943,  2.16818373,  7.94997806],\n",
       "       [ 2.35217326,  1.4025226 , 10.38568409,  5.17951055, 19.07901182,\n",
       "        19.3233866 , 15.35105277, 16.64708453,  9.30843768, 12.43859931],\n",
       "       [ 2.09187632,  0.92849605, 12.71162729, 13.12438397,  8.86263144,\n",
       "         4.13323628,  8.7258948 , 19.94850572,  1.81651024,  7.88690222],\n",
       "       [16.38567633,  4.61187408, 13.25967103,  0.44797796,  9.35938552,\n",
       "         4.05065992, 15.1219138 ,  8.09832066,  6.11309954,  4.19947296],\n",
       "       [12.40112782, 17.60086695,  9.09412138,  3.78351877, 15.62723381,\n",
       "         4.61828838, 19.60987579,  0.51049105,  3.78644878, 12.09224788],\n",
       "       [13.85071606, 16.29293354, 13.94802504,  5.45241954, 11.770041  ,\n",
       "        14.1673583 ,  0.77303087, 10.15850093,  9.37307904, 12.48343575],\n",
       "       [11.72114875, 12.40834133,  0.94161573, 11.71251292,  3.89980099,\n",
       "        17.0019604 ,  8.5476234 , 14.02816804, 17.19099755,  0.55880696],\n",
       "       [ 3.08313415, 10.28638737, 12.03207331,  4.17224296,  8.37425928,\n",
       "        17.31358511, 11.41119648,  7.69888917,  1.60897153, 17.2944261 ],\n",
       "       [11.23793499,  0.27518011, 16.89730203, 16.72919451, 13.12998443,\n",
       "         8.16424519,  7.58844289, 18.68723522, 19.25005059, 18.23975557]])"
      ]
     },
     "execution_count": 236,
     "metadata": {},
     "output_type": "execute_result"
    }
   ],
   "source": [
    "data"
   ]
  },
  {
   "cell_type": "code",
   "execution_count": 251,
   "id": "9548f1be-de97-4231-abfa-f2643c518a68",
   "metadata": {
    "execution": {
     "iopub.execute_input": "2021-12-05T20:12:42.829035Z",
     "iopub.status.busy": "2021-12-05T20:12:42.828666Z",
     "iopub.status.idle": "2021-12-05T20:12:42.836784Z",
     "shell.execute_reply": "2021-12-05T20:12:42.833512Z",
     "shell.execute_reply.started": "2021-12-05T20:12:42.829002Z"
    },
    "tags": []
   },
   "outputs": [],
   "source": [
    "# data = np.random.rand(10, 10) * 20\n",
    "\n",
    "# # create discrete colormap\n",
    "# cmap = colors.ListedColormap(['red', 'blue'])\n",
    "# bounds = [0,10,20]\n",
    "# norm = colors.BoundaryNorm(bounds, cmap.N)\n",
    "\n",
    "# fig, ax = plt.subplots()\n",
    "# ax.imshow(data, cmap=cmap, norm=norm);\n",
    "\n",
    "# # draw gridlines\n",
    "# ax.grid(which='major', axis='both', linestyle='-', color='k', linewidth=2)\n",
    "# ax.set_xticks(np.arange(-.5, 10, 1));\n",
    "# ax.set_yticks(np.arange(-.5, 10, 1));\n",
    "\n",
    "# plt.show()"
   ]
  },
  {
   "cell_type": "markdown",
   "id": "beb5458c-dc60-4bb4-a78b-53aac6253784",
   "metadata": {},
   "source": [
    "## Other method: compare image to some palettes\n",
    "\n",
    "### Renoir's palette\n",
    "\n",
    "What was Renoir's standard palette is info I got from [here](https://www.jacksonsart.com/blog/2014/08/12/colours-used-sargent-renoir/) and [here](https://webartacademy.com/renoirs-palette) (taken from this one really). \n",
    "\n",
    "The k-means methos is too coarse, gives us colours that are too similar painting by painting. Instead, what about we measure how much each painting is using of his palette.\n",
    "\n",
    "The RGB of these colours have been chosen with a quick google search.\n",
    "\n",
    "#### Some interesting videos about these colours:\n",
    "* [flake white](https://www.youtube.com/watch?v=vx6BI3Fqr6U)\n",
    "\n",
    "This won't do - too subjective, there's no green, plus it's his, so it is derived from his own paintings, hence circular reasoning\n",
    "\n",
    "### A standard palette?\n",
    "\n",
    "\n",
    "### Saturated colours + "
   ]
  },
  {
   "cell_type": "markdown",
   "id": "7c711bce-1ca3-4f28-a9d7-516f713ccd08",
   "metadata": {},
   "source": [
    "### Renoir's palette colours"
   ]
  },
  {
   "cell_type": "code",
   "execution_count": 219,
   "id": "57aa881d-fdec-4090-922c-40e3ac197714",
   "metadata": {
    "execution": {
     "iopub.execute_input": "2024-01-24T10:35:29.838035Z",
     "iopub.status.busy": "2024-01-24T10:35:29.837186Z",
     "iopub.status.idle": "2024-01-24T10:35:30.873310Z",
     "shell.execute_reply": "2024-01-24T10:35:30.847577Z",
     "shell.execute_reply.started": "2024-01-24T10:35:29.837966Z"
    },
    "tags": []
   },
   "outputs": [
    {
     "data": {
      "text/plain": [
       "<Figure size 720x720 with 0 Axes>"
      ]
     },
     "execution_count": 219,
     "metadata": {},
     "output_type": "execute_result"
    },
    {
     "name": "stdout",
     "output_type": "stream",
     "text": [
      "[236, 236, 236]\n",
      "[250, 218, 94]\n",
      "[255, 87, 51]\n",
      "[35, 31, 32]\n",
      "[128, 96, 67]\n",
      "[245, 197, 44]\n",
      "[247, 74, 70]\n",
      "[200, 8, 21]\n",
      "[0, 71, 171]\n",
      "[184, 78, 112]\n"
     ]
    },
    {
     "data": {
      "text/plain": [
       "<Figure size 720x720 with 0 Axes>"
      ]
     },
     "metadata": {},
     "output_type": "display_data"
    },
    {
     "data": {
      "image/png": "[encoded data removed]",
      "text/plain": [
       "<Figure size 432x288 with 10 Axes>"
      ]
     },
     "metadata": {
      "needs_background": "light"
     },
     "output_type": "display_data"
    }
   ],
   "source": [
    "# renoir's palette\n",
    "d_r_palette = {\n",
    "    'flake_white':[236, 236, 236],\n",
    "    'naples_yellow':[250 ,218, 94],\n",
    "    'viridian':[255, 87, 51],\n",
    "    'ivory_black':[35, 31, 32],\n",
    "    'natural_earth':[128, 96, 67],\n",
    "    'yellow_ochre':[245,197,44],\n",
    "    'carmine':[247, 74, 70], # cannot find superfine carmine\n",
    "    'venetian_red':[200, 8, 21],\n",
    "    'cobalt_blue':[0, 71, 171],\n",
    "    'lake_red':[184, 78, 112]\n",
    "}\n",
    "\n",
    "plt.figure(figsize=(10,10))\n",
    "\n",
    "fig, axs = plt.subplots(1, 10)\n",
    "\n",
    "l_ = list(d_r_palette.values())   # list of dicts for the title\n",
    "\n",
    "for i in range(10):\n",
    "    print(l_[i])\n",
    "    _ = axs[i].imshow(np.full((1,1,3), l_[i]));"
   ]
  },
  {
   "cell_type": "code",
   "execution_count": 2,
   "id": "532e6a5a-7639-4020-ba01-bb866e5c333f",
   "metadata": {
    "execution": {
     "iopub.execute_input": "2024-01-24T10:44:58.646768Z",
     "iopub.status.busy": "2024-01-24T10:44:58.645914Z",
     "iopub.status.idle": "2024-01-24T10:44:59.149403Z",
     "shell.execute_reply": "2024-01-24T10:44:59.148424Z",
     "shell.execute_reply.started": "2024-01-24T10:44:58.646710Z"
    },
    "tags": []
   },
   "outputs": [
    {
     "data": {
      "text/plain": [
       "<matplotlib.image.AxesImage at 0x131f45580>"
      ]
     },
     "execution_count": 2,
     "metadata": {},
     "output_type": "execute_result"
    },
    {
     "data": {
      "image/png": "[encoded data removed]",
      "text/plain": [
       "<Figure size 432x288 with 1 Axes>"
      ]
     },
     "metadata": {
      "needs_background": "light"
     },
     "output_type": "display_data"
    }
   ],
   "source": [
    "img = io.imread('caravaggio/1590/c. 1592-1593:Boy Peeling Fruit.jpeg')\n",
    "\n",
    "plt.imshow(img)"
   ]
  },
  {
   "cell_type": "code",
   "execution_count": 3,
   "id": "55a51cf3-ec5c-4466-b81b-0544dc57f64f",
   "metadata": {
    "execution": {
     "iopub.execute_input": "2024-01-24T10:45:01.773047Z",
     "iopub.status.busy": "2024-01-24T10:45:01.771518Z",
     "iopub.status.idle": "2024-01-24T10:45:01.916067Z",
     "shell.execute_reply": "2024-01-24T10:45:01.914403Z",
     "shell.execute_reply.started": "2024-01-24T10:45:01.773003Z"
    },
    "tags": []
   },
   "outputs": [],
   "source": [
    "# for row in img:\n",
    "#     print(row)"
   ]
  },
  {
   "cell_type": "markdown",
   "id": "cdf50630-d6a0-4c85-ad16-6afb886eab7a",
   "metadata": {},
   "source": [
    "## Trying image segmentation\n",
    "\n",
    "with proper techniques, using this [lib](https://pypi.org/project/colour-segmentation/)"
   ]
  },
  {
   "cell_type": "code",
   "execution_count": null,
   "id": "9c86cf0c-6e12-47a6-9c1a-90d3628d4b88",
   "metadata": {
    "tags": []
   },
   "outputs": [],
   "source": []
  },
  {
   "cell_type": "code",
   "execution_count": 70,
   "id": "a38678ee-06c0-47db-98fe-280a39e1d5b5",
   "metadata": {
    "execution": {
     "iopub.execute_input": "2024-01-24T11:22:22.382396Z",
     "iopub.status.busy": "2024-01-24T11:22:22.381855Z",
     "iopub.status.idle": "2024-01-24T11:22:22.415496Z",
     "shell.execute_reply": "2024-01-24T11:22:22.413061Z",
     "shell.execute_reply.started": "2024-01-24T11:22:22.382349Z"
    },
    "tags": []
   },
   "outputs": [],
   "source": [
    "img = cv2.imread(\"caravaggio/1600/c. 1607:Flagellation of Christ.jpeg\")   # the lib is designed to work with OpenCV, so reading BGR\n",
    "#img = cv2.imread('/Users/martina/Downloads/nectarine.jpeg')\n",
    "img = cv2.resize(img, (0,0), fx=0.2, fy=0.2)    # for speed\n",
    "\n",
    "segmentator = Segmentator(image=img)"
   ]
  },
  {
   "cell_type": "code",
   "execution_count": 71,
   "id": "2077c141-cd3b-4ab4-8f23-1f6697cbf2ce",
   "metadata": {
    "execution": {
     "iopub.execute_input": "2024-01-24T11:22:22.518412Z",
     "iopub.status.busy": "2024-01-24T11:22:22.517604Z",
     "iopub.status.idle": "2024-01-24T11:22:22.546433Z",
     "shell.execute_reply": "2024-01-24T11:22:22.544281Z",
     "shell.execute_reply.started": "2024-01-24T11:22:22.518368Z"
    },
    "tags": []
   },
   "outputs": [],
   "source": [
    "# result_liu = segmentator.segment(method=SegmentationAlgorithm.FUZZY_SET_LIU,\n",
    "#                                  apply_colour_correction=False,\n",
    "#                                  remove_achromatic_colours=True)\n",
    "\n",
    "result_amante_fonseca_achr = segmentator.segment(method=SegmentationAlgorithm.FUZZY_SET_CHAMORRO,\n",
    "                                                 remove_achromatic_colours=False)"
   ]
  },
  {
   "cell_type": "code",
   "execution_count": 72,
   "id": "8b932be8-dae1-4199-b7f5-98941103180c",
   "metadata": {
    "execution": {
     "iopub.execute_input": "2024-01-24T11:22:22.669113Z",
     "iopub.status.busy": "2024-01-24T11:22:22.668315Z",
     "iopub.status.idle": "2024-01-24T11:22:22.696977Z",
     "shell.execute_reply": "2024-01-24T11:22:22.696024Z",
     "shell.execute_reply.started": "2024-01-24T11:22:22.669053Z"
    },
    "tags": []
   },
   "outputs": [
    {
     "data": {
      "text/plain": [
       "11"
      ]
     },
     "execution_count": 72,
     "metadata": {},
     "output_type": "execute_result"
    },
    {
     "data": {
      "text/plain": [
       "0.9999999999999999"
      ]
     },
     "execution_count": 72,
     "metadata": {},
     "output_type": "execute_result"
    },
    {
     "data": {
      "text/plain": [
       "[0.1758169934640523,\n",
       " 0.611764705882353,\n",
       " 0.06470588235294118,\n",
       " 0.00718954248366013,\n",
       " 0.0,\n",
       " 0.00718954248366013,\n",
       " 0.00065359477124183,\n",
       " 0.00718954248366013,\n",
       " 0.011764705882352941,\n",
       " 0.00718954248366013,\n",
       " 0.00784313725490196,\n",
       " 0.09869281045751634]"
      ]
     },
     "execution_count": 72,
     "metadata": {},
     "output_type": "execute_result"
    },
    {
     "data": {
      "text/plain": [
       "0.611764705882353"
      ]
     },
     "execution_count": 72,
     "metadata": {},
     "output_type": "execute_result"
    }
   ],
   "source": [
    "result_amante_fonseca_achr.segmented_classes.max()\n",
    "sum([result_amante_fonseca_achr.get_colour_proportion(i) for i in range(len(colours_cm))])\n",
    "[result_amante_fonseca_achr.get_colour_proportion(i) for i in range(len(colours_cm))]\n",
    "result_amante_fonseca_achr.get_colour_proportion(1)"
   ]
  },
  {
   "cell_type": "code",
   "execution_count": 73,
   "id": "eb931139-d59f-4b07-8787-6bdcf96596a5",
   "metadata": {
    "execution": {
     "iopub.execute_input": "2024-01-24T11:22:22.831391Z",
     "iopub.status.busy": "2024-01-24T11:22:22.830797Z",
     "iopub.status.idle": "2024-01-24T11:22:23.075390Z",
     "shell.execute_reply": "2024-01-24T11:22:23.074391Z",
     "shell.execute_reply.started": "2024-01-24T11:22:22.831360Z"
    },
    "tags": []
   },
   "outputs": [
    {
     "data": {
      "text/plain": [
       "<matplotlib.image.AxesImage at 0x1332eaeb0>"
      ]
     },
     "execution_count": 73,
     "metadata": {},
     "output_type": "execute_result"
    },
    {
     "data": {
      "image/png": "[encoded data removed]",
      "text/plain": [
       "<Figure size 432x288 with 1 Axes>"
      ]
     },
     "metadata": {
      "needs_background": "light"
     },
     "output_type": "display_data"
    }
   ],
   "source": [
    "plt.imshow(cv2.cvtColor(result_amante_fonseca_achr.segmented_image, cv2.COLOR_BGR2RGB))"
   ]
  },
  {
   "cell_type": "markdown",
   "id": "f019a006-a161-489c-9ebc-d4cc1ec80b6c",
   "metadata": {},
   "source": [
    "### Systematically and with all methods\n",
    "\n",
    "Each method uses a different set of colours. The colours for each method are taken from the lib docs [here](https://mmunar97.gitbook.io/colour-segmentation/examples/examples-of-fuzzy-logic-based-methods)\n",
    "\n",
    "We'll be useing each method with the flag that removes the achromatic colours (white, black, grey)."
   ]
  },
  {
   "cell_type": "code",
   "execution_count": 40,
   "id": "67d16d31-d72a-4a43-87d5-0fdc6a141c58",
   "metadata": {
    "execution": {
     "iopub.execute_input": "2024-01-24T10:57:51.858476Z",
     "iopub.status.busy": "2024-01-24T10:57:51.857322Z",
     "iopub.status.idle": "2024-01-24T10:57:51.876228Z",
     "shell.execute_reply": "2024-01-24T10:57:51.874621Z",
     "shell.execute_reply.started": "2024-01-24T10:57:51.858428Z"
    },
    "tags": []
   },
   "outputs": [],
   "source": [
    "# Amante-Fonseca\n",
    "colours_af = {\n",
    "    0: [255, 33, 36],     # red\n",
    "    1: [170, 121, 66],    # brown\n",
    "    2: [255, 146, 0],      # orange\n",
    "    3: [255, 251, 0],       # yellow\n",
    "    4: [0, 255, 0],          # green\n",
    "    5: [0, 253, 255],       # cyan\n",
    "    6: [0, 0, 255],        # blue\n",
    "    7: [147, 33, 146],     # purple\n",
    "    8: [255, 64, 255]      # pink\n",
    "}\n",
    "\n",
    "# Chamorro - Martinez\n",
    "colours_cm = {\n",
    "    0: [255, 33, 36],     # red\n",
    "    1: [255, 148, 9],      # orange\n",
    "    2: [255, 255, 13],      # yellow\n",
    "    3: [186, 255, 15],      # yellow-green\n",
    "    4: [6, 155, 9],        # green\n",
    "    5: [12, 255, 116],      # green-cyan\n",
    "    6: [11, 254, 255],       # cyan\n",
    "    7: [8, 192, 255],        # cyan-blue\n",
    "    8: [0, 0, 255],         # blue\n",
    "    9: [92, 8, 253],         # blue-magenta\n",
    "    10: [238, 3, 249],       # magenta\n",
    "    11: [254, 6, 180]        # magenta-red\n",
    "}\n",
    "\n",
    "# Liu-Wang\n",
    "colours_lw = {\n",
    "    0: [255, 33, 36],       # red\n",
    "    1: [248, 149, 29],       #orange\n",
    "    2: [239, 233, 17],       # yellow\n",
    "    3: [105, 189, 69],        # green\n",
    "    4: [111, 204, 221],       # cyan\n",
    "    5: [59, 83, 164],          # blue\n",
    "    6: [158, 80, 159]        # purple\n",
    "}\n",
    "\n",
    "# Shamir\n",
    "colours_s = {\n",
    "    0: [255, 33, 36],       # red\n",
    "    1: [255, 140, 0],       # dark orange\n",
    "    2: [255, 165, 0],        # light orange\n",
    "    3: [255, 255, 0],        # yellow\n",
    "    4: [144, 238, 144],      # light green\n",
    "    5: [0, 100, 0],          # dark green\n",
    "    6: [0, 255, 255],        # aqua\n",
    "    7: [0, 0, 255],          # blue\n",
    "    8: [128, 0, 128],        # dark purple\n",
    "    9: [255, 0, 255]         # light purple\n",
    "}"
   ]
  },
  {
   "cell_type": "code",
   "execution_count": 41,
   "id": "bee39ab3-5b6a-4f21-8814-bbb7235ac3cf",
   "metadata": {
    "execution": {
     "iopub.execute_input": "2024-01-24T10:59:01.979629Z",
     "iopub.status.busy": "2024-01-24T10:59:01.978858Z",
     "iopub.status.idle": "2024-01-24T10:59:04.018573Z",
     "shell.execute_reply": "2024-01-24T10:59:04.017198Z",
     "shell.execute_reply.started": "2024-01-24T10:59:01.979585Z"
    },
    "tags": []
   },
   "outputs": [
    {
     "name": "stdout",
     "output_type": "stream",
     "text": [
      "1590\n",
      "1600\n",
      "1610\n"
     ]
    }
   ],
   "source": [
    "# run the same logic as in the example above on all imgs, save occupation to file\n",
    "# run all segmentor\n",
    "\n",
    "decades = ['1590', '1600', '1610']\n",
    "\n",
    "d_af = {decade: {} for decade in decades}\n",
    "d_cm = {decade: {} for decade in decades}\n",
    "d_lw = {decade: {} for decade in decades}\n",
    "d_s = {decade: {} for decade in decades}\n",
    "\n",
    "for decade in decades:\n",
    "    print(decade)\n",
    "    for filename in os.listdir('caravaggio/{decade}'.format(decade=decade)):\n",
    "        #print(filename)\n",
    "        try:\n",
    "        \n",
    "            img = cv2.imread(\"caravaggio/{decade}/{filename}\".format(decade=decade, filename=filename))  \n",
    "\n",
    "            # resize for speed\n",
    "            img = cv2.resize(img, (0,0), fx=0.2, fy=0.2) \n",
    "\n",
    "            d_af[decade][filename] = {}\n",
    "            d_cm[decade][filename] = {}\n",
    "            d_lw[decade][filename] = {}\n",
    "            d_s[decade][filename] = {}\n",
    "\n",
    "            # Amante-Fonseca\n",
    "            segmentator = Segmentator(image=img)\n",
    "            result_af = segmentator.segment(method=SegmentationAlgorithm.FUZZY_SET_AMANTE,\n",
    "                                            remove_achromatic_colours=False)   # I tried True but gives not-normalised values (sum if occupations isn't 1)\n",
    "            for k in colours_af:\n",
    "                d_af[decade][filename][k] = result_af.get_colour_proportion(k)\n",
    "\n",
    "            # Chamorro-Martinez\n",
    "            segmentator = Segmentator(image=img)\n",
    "            result_cm = segmentator.segment(method=SegmentationAlgorithm.FUZZY_SET_CHAMORRO,\n",
    "                                            remove_achromatic_colours=False)\n",
    "            for k in colours_cm:\n",
    "                d_cm[decade][filename][k] = result_cm.get_colour_proportion(k)\n",
    "\n",
    "            # Liu-Wang\n",
    "            segmentator = Segmentator(image=img)\n",
    "            result_lw = segmentator.segment(method=SegmentationAlgorithm.FUZZY_SET_LIU,\n",
    "                                            apply_colour_correction=False,\n",
    "                                            remove_achromatic_colours=False)\n",
    "            for k in colours_lw:\n",
    "                d_lw[decade][filename][k] = result_lw.get_colour_proportion(k)\n",
    "\n",
    "            # Shamir\n",
    "            segmentator = Segmentator(image=img)\n",
    "            result_s = segmentator.segment(method=SegmentationAlgorithm.FUZZY_SET_SHAMIR, \n",
    "                                           remove_achromatic_colours=False)\n",
    "            for k in colours_s:\n",
    "                d_s[decade][filename][k] = result_s.get_colour_proportion(k)\n",
    "                \n",
    "        except:\n",
    "            pass"
   ]
  },
  {
   "cell_type": "code",
   "execution_count": 48,
   "id": "9eea9452-c035-4356-a722-a49bd674a97d",
   "metadata": {
    "execution": {
     "iopub.execute_input": "2024-01-24T11:00:04.381945Z",
     "iopub.status.busy": "2024-01-24T11:00:04.381443Z",
     "iopub.status.idle": "2024-01-24T11:00:04.398190Z",
     "shell.execute_reply": "2024-01-24T11:00:04.396531Z",
     "shell.execute_reply.started": "2024-01-24T11:00:04.381907Z"
    },
    "tags": []
   },
   "outputs": [
    {
     "data": {
      "text/plain": [
       "1.0000000000000002"
      ]
     },
     "execution_count": 48,
     "metadata": {},
     "output_type": "execute_result"
    }
   ],
   "source": [
    "sum(d_af['1590']['c. 1598:Judith Beheading Holofernes.jpeg'].values())"
   ]
  },
  {
   "cell_type": "code",
   "execution_count": 49,
   "id": "ce2af20d-d744-414a-88d4-8a3370a979f5",
   "metadata": {
    "execution": {
     "iopub.execute_input": "2024-01-24T11:00:11.228759Z",
     "iopub.status.busy": "2024-01-24T11:00:11.228224Z",
     "iopub.status.idle": "2024-01-24T11:00:11.239162Z",
     "shell.execute_reply": "2024-01-24T11:00:11.237954Z",
     "shell.execute_reply.started": "2024-01-24T11:00:11.228721Z"
    },
    "tags": []
   },
   "outputs": [
    {
     "data": {
      "text/plain": [
       "9"
      ]
     },
     "execution_count": 49,
     "metadata": {},
     "output_type": "execute_result"
    }
   ],
   "source": [
    "len(d_af['1590']['c. 1598:Judith Beheading Holofernes.jpeg'])"
   ]
  },
  {
   "cell_type": "markdown",
   "id": "f3d23eb2-698c-491b-b926-7af10994d4ac",
   "metadata": {},
   "source": [
    "## Round up occupations\n",
    "\n",
    "To 2 decimal digits - this is for ease of eye-balling"
   ]
  },
  {
   "cell_type": "code",
   "execution_count": 50,
   "id": "65746634-132d-421b-a641-516759e1c51d",
   "metadata": {
    "execution": {
     "iopub.execute_input": "2024-01-24T11:00:29.888852Z",
     "iopub.status.busy": "2024-01-24T11:00:29.888011Z",
     "iopub.status.idle": "2024-01-24T11:00:29.929081Z",
     "shell.execute_reply": "2024-01-24T11:00:29.926386Z",
     "shell.execute_reply.started": "2024-01-24T11:00:29.888791Z"
    },
    "tags": []
   },
   "outputs": [],
   "source": [
    "for decade in decades:\n",
    "    for title in d_cm[decade]:\n",
    "        for k in d_cm[decade][title]:\n",
    "            d_cm[decade][title][k] = round(d_cm[decade][title][k], 2)"
   ]
  },
  {
   "cell_type": "markdown",
   "id": "72de1179-c8d7-48b3-aa81-fbdc6c3e3a8e",
   "metadata": {},
   "source": [
    "## Look at aggregated measures from this data"
   ]
  },
  {
   "cell_type": "code",
   "execution_count": 51,
   "id": "43353193-bc1a-4efe-88d9-df8122b687df",
   "metadata": {
    "execution": {
     "iopub.execute_input": "2024-01-24T11:00:40.776872Z",
     "iopub.status.busy": "2024-01-24T11:00:40.776149Z",
     "iopub.status.idle": "2024-01-24T11:00:40.796017Z",
     "shell.execute_reply": "2024-01-24T11:00:40.793769Z",
     "shell.execute_reply.started": "2024-01-24T11:00:40.776834Z"
    },
    "tags": []
   },
   "outputs": [
    {
     "name": "stdout",
     "output_type": "stream",
     "text": [
      "1590\n",
      "0 0.21482091367959413 0.17950551779884102\n",
      "1 0.263165649491501 0.1391110798467884\n",
      "2 0.1460205305503194 0.11965848103728019\n",
      "3 0.15635912303058377 0.1543500306750014\n",
      "4 0.05344342746581581 0.07133315101566956\n",
      "5 0.06216494652576673 0.10197601892631135\n",
      "6 0.08178271035447142 0.1133945449132485\n",
      "7 0.005086530085330374 0.006988840085018345\n",
      "8 0.01715616881661733 0.0204881156656579\n"
     ]
    }
   ],
   "source": [
    "# eye-ball means of colours by decade for one of the colour methods\n",
    "\n",
    "decade = '1590'\n",
    "print(decade)\n",
    "for k in colours_af:\n",
    "    print(k, np.mean([d_af[decade][title][k] for title in d_af[decade]]), \n",
    "          np.std([d_af[decade][title][k] for title in d_af[decade]]))\n",
    "\n",
    "# decade = '1870'\n",
    "# print('\\n', decade)\n",
    "# for k in colours_af:\n",
    "#     print(k, np.mean([d_af[decade][title][k] for title in d_af[decade]]), \n",
    "#           np.std([d_af[decade][title][k] for title in d_af[decade]]))\n",
    "\n"
   ]
  },
  {
   "cell_type": "code",
   "execution_count": 52,
   "id": "97218778-3889-4754-8856-260ce4919ee0",
   "metadata": {
    "execution": {
     "iopub.execute_input": "2024-01-24T11:00:55.838380Z",
     "iopub.status.busy": "2024-01-24T11:00:55.837146Z",
     "iopub.status.idle": "2024-01-24T11:00:56.012164Z",
     "shell.execute_reply": "2024-01-24T11:00:55.861786Z",
     "shell.execute_reply.started": "2024-01-24T11:00:55.838288Z"
    },
    "tags": []
   },
   "outputs": [
    {
     "data": {
      "text/plain": [
       "{0: [255, 33, 36],\n",
       " 1: [255, 148, 9],\n",
       " 2: [255, 255, 13],\n",
       " 3: [186, 255, 15],\n",
       " 4: [6, 155, 9],\n",
       " 5: [12, 255, 116],\n",
       " 6: [11, 254, 255],\n",
       " 7: [8, 192, 255],\n",
       " 8: [0, 0, 255],\n",
       " 9: [92, 8, 253],\n",
       " 10: [238, 3, 249],\n",
       " 11: [254, 6, 180]}"
      ]
     },
     "execution_count": 52,
     "metadata": {},
     "output_type": "execute_result"
    }
   ],
   "source": [
    "colours_cm"
   ]
  },
  {
   "cell_type": "code",
   "execution_count": 53,
   "id": "bc2d2c29-9f03-46ca-b701-73f6f18376f1",
   "metadata": {
    "execution": {
     "iopub.execute_input": "2024-01-24T11:01:14.574603Z",
     "iopub.status.busy": "2024-01-24T11:01:14.571373Z",
     "iopub.status.idle": "2024-01-24T11:01:15.588856Z",
     "shell.execute_reply": "2024-01-24T11:01:15.587055Z",
     "shell.execute_reply.started": "2024-01-24T11:01:14.574542Z"
    },
    "tags": []
   },
   "outputs": [
    {
     "data": {
      "image/png": "[encoded data removed]",
      "text/plain": [
       "<Figure size 720x720 with 6 Axes>"
      ]
     },
     "metadata": {
      "needs_background": "light"
     },
     "output_type": "display_data"
    }
   ],
   "source": [
    "# plotting bars - these are coloured with the RGBs of the colour from colour method\n",
    "d_plot = d_cm.copy()      # choose the colour method here\n",
    "d_colours = colours_cm.copy()    # and the relative colours dict\n",
    "\n",
    "fig, axs = plt.subplots(3, 2, figsize=(10, 10))\n",
    "fig.suptitle('Mean occupation of colour for colour method')\n",
    "\n",
    "decade = '1590'\n",
    "x = [k for k in d_plot[decade][next(iter(d_plot[decade]))].keys()]\n",
    "y =  [np.mean([d_plot[decade][title][k] for title in d_plot[decade]]) for k in x]\n",
    "colours = [ tuple([item/255 for item in d_colours[i]]) for i in x]   # this must be a list of tuples, as per pyplot\n",
    "axs[0,0].barh( x, y, color=colours)\n",
    "axs[0,0].set_title(decade)\n",
    "\n",
    "decade = '1600'\n",
    "x = [k for k in d_plot[decade][next(iter(d_plot[decade]))].keys()]\n",
    "y =  [np.mean([d_plot[decade][title][k] for title in d_plot[decade]]) for k in x]\n",
    "colours = [ tuple([item/255 for item in d_colours[i]]) for i in x]   # this must be a list of tuples, as per pyplot\n",
    "axs[0,1].barh( x, y , color=colours)\n",
    "axs[0,1].set_title(decade)\n",
    "\n",
    "decade = '1610'\n",
    "x = [k for k in d_plot[decade][next(iter(d_plot[decade]))].keys()]\n",
    "y =  [np.mean([d_plot[decade][title][k] for title in d_plot[decade]]) for k in x]\n",
    "colours = [ tuple([item/255 for item in d_colours[i]]) for i in x] # this must be a list of tuples, as per pyplot\n",
    "axs[1,0].barh( x, y , color=colours)\n",
    "axs[1,0].set_title(decade)\n",
    "\n",
    "\n",
    "plt.show();\n",
    "\n",
    "#x, y, colours"
   ]
  },
  {
   "cell_type": "code",
   "execution_count": 54,
   "id": "7184bf36-dfa3-4b32-bd14-b2653622bb5f",
   "metadata": {
    "execution": {
     "iopub.execute_input": "2024-01-24T11:01:54.334949Z",
     "iopub.status.busy": "2024-01-24T11:01:54.333570Z",
     "iopub.status.idle": "2024-01-24T11:01:54.354893Z",
     "shell.execute_reply": "2024-01-24T11:01:54.351100Z",
     "shell.execute_reply.started": "2024-01-24T11:01:54.334883Z"
    },
    "tags": []
   },
   "outputs": [
    {
     "data": {
      "text/plain": [
       "92"
      ]
     },
     "execution_count": 54,
     "metadata": {},
     "output_type": "execute_result"
    }
   ],
   "source": [
    "# tot of titles processed for colour\n",
    "len(d_af['1590'].keys()) + \\\n",
    "len(d_af['1600'].keys()) + \\\n",
    "len(d_af['1610'].keys())"
   ]
  },
  {
   "cell_type": "code",
   "execution_count": 85,
   "id": "475c57a0-7c5c-4ddf-82a4-770877d43ada",
   "metadata": {
    "execution": {
     "iopub.execute_input": "2024-01-24T15:33:28.073279Z",
     "iopub.status.busy": "2024-01-24T15:33:28.072700Z",
     "iopub.status.idle": "2024-01-24T15:33:28.185297Z",
     "shell.execute_reply": "2024-01-24T15:33:28.183663Z",
     "shell.execute_reply.started": "2024-01-24T15:33:28.073226Z"
    },
    "tags": []
   },
   "outputs": [
    {
     "data": {
      "text/plain": [
       "28"
      ]
     },
     "execution_count": 85,
     "metadata": {},
     "output_type": "execute_result"
    }
   ],
   "source": [
    "len(d_cm['1590'])"
   ]
  },
  {
   "cell_type": "code",
   "execution_count": 84,
   "id": "9d8a4a04-c159-4163-b14b-9c77e7faa130",
   "metadata": {
    "execution": {
     "iopub.execute_input": "2024-01-24T15:33:25.437423Z",
     "iopub.status.busy": "2024-01-24T15:33:25.428793Z",
     "iopub.status.idle": "2024-01-24T15:33:25.607122Z",
     "shell.execute_reply": "2024-01-24T15:33:25.583165Z",
     "shell.execute_reply.started": "2024-01-24T15:33:25.437368Z"
    },
    "tags": []
   },
   "outputs": [
    {
     "data": {
      "text/plain": [
       "{'c. 1598:Judith Beheading Holofernes.jpeg': {0: 0.29,\n",
       "  1: 0.17,\n",
       "  2: 0.02,\n",
       "  3: 0.0,\n",
       "  4: 0.01,\n",
       "  5: 0.01,\n",
       "  6: 0.04,\n",
       "  7: 0.16,\n",
       "  8: 0.1,\n",
       "  9: 0.06,\n",
       "  10: 0.04,\n",
       "  11: 0.11},\n",
       " 'c. 1596:Basket of Fruit.jpeg': {0: 0.05,\n",
       "  1: 0.54,\n",
       "  2: 0.38,\n",
       "  3: 0.02,\n",
       "  4: 0.01,\n",
       "  5: 0.0,\n",
       "  6: 0.0,\n",
       "  7: 0.0,\n",
       "  8: 0.0,\n",
       "  9: 0.0,\n",
       "  10: 0.0,\n",
       "  11: 0.0},\n",
       " 'c. 1597:Portrait of a Courtesan.jpeg': {0: 0.25,\n",
       "  1: 0.62,\n",
       "  2: 0.02,\n",
       "  3: 0.0,\n",
       "  4: 0.0,\n",
       "  5: 0.01,\n",
       "  6: 0.0,\n",
       "  7: 0.04,\n",
       "  8: 0.02,\n",
       "  9: 0.01,\n",
       "  10: 0.0,\n",
       "  11: 0.03},\n",
       " 'c. 1597:Medusa.jpeg': {0: 0.11,\n",
       "  1: 0.32,\n",
       "  2: 0.3,\n",
       "  3: 0.01,\n",
       "  4: 0.0,\n",
       "  5: 0.0,\n",
       "  6: 0.0,\n",
       "  7: 0.04,\n",
       "  8: 0.16,\n",
       "  9: 0.02,\n",
       "  10: 0.01,\n",
       "  11: 0.02},\n",
       " 'c. 1597:Jupiter, Neptune and Pluto.jpeg': {0: 0.01,\n",
       "  1: 0.2,\n",
       "  2: 0.31,\n",
       "  3: 0.1,\n",
       "  4: 0.04,\n",
       "  5: 0.06,\n",
       "  6: 0.09,\n",
       "  7: 0.14,\n",
       "  8: 0.02,\n",
       "  9: 0.0,\n",
       "  10: 0.0,\n",
       "  11: 0.0},\n",
       " 'c. 1598:John the Baptist.jpeg': {0: 0.25,\n",
       "  1: 0.32,\n",
       "  2: 0.23,\n",
       "  3: 0.09,\n",
       "  4: 0.07,\n",
       "  5: 0.02,\n",
       "  6: 0.01,\n",
       "  7: 0.01,\n",
       "  8: 0.01,\n",
       "  9: 0.0,\n",
       "  10: 0.0,\n",
       "  11: 0.01},\n",
       " 'c. 1595:Saint Francis of Assisi in Ecstasy.jpeg': {0: 0.6,\n",
       "  1: 0.37,\n",
       "  2: 0.01,\n",
       "  3: 0.0,\n",
       "  4: 0.0,\n",
       "  5: 0.0,\n",
       "  6: 0.0,\n",
       "  7: 0.0,\n",
       "  8: 0.0,\n",
       "  9: 0.0,\n",
       "  10: 0.0,\n",
       "  11: 0.01},\n",
       " 'c. 1599:David and Goliath.jpeg': {0: 0.0,\n",
       "  1: 0.27,\n",
       "  2: 0.09,\n",
       "  3: 0.08,\n",
       "  4: 0.1,\n",
       "  5: 0.28,\n",
       "  6: 0.17,\n",
       "  7: 0.0,\n",
       "  8: 0.0,\n",
       "  9: 0.0,\n",
       "  10: 0.0,\n",
       "  11: 0.0},\n",
       " 'c. 1594:Cardsharps.jpeg': {0: 0.05,\n",
       "  1: 0.81,\n",
       "  2: 0.09,\n",
       "  3: 0.02,\n",
       "  4: 0.01,\n",
       "  5: 0.02,\n",
       "  6: 0.0,\n",
       "  7: 0.0,\n",
       "  8: 0.0,\n",
       "  9: 0.0,\n",
       "  10: 0.0,\n",
       "  11: 0.0},\n",
       " 'c. 1593:Boy with a Basket of Fruit.jpeg': {0: 0.07,\n",
       "  1: 0.18,\n",
       "  2: 0.24,\n",
       "  3: 0.02,\n",
       "  4: 0.01,\n",
       "  5: 0.02,\n",
       "  6: 0.05,\n",
       "  7: 0.15,\n",
       "  8: 0.2,\n",
       "  9: 0.03,\n",
       "  10: 0.01,\n",
       "  11: 0.02},\n",
       " 'c. 1595:Musicians.jpeg': {0: 0.18,\n",
       "  1: 0.77,\n",
       "  2: 0.05,\n",
       "  3: 0.0,\n",
       "  4: 0.0,\n",
       "  5: 0.0,\n",
       "  6: 0.0,\n",
       "  7: 0.0,\n",
       "  8: 0.0,\n",
       "  9: 0.0,\n",
       "  10: 0.0,\n",
       "  11: 0.0},\n",
       " 'c. 1594:Fortune Teller.jpeg': {0: 0.46,\n",
       "  1: 0.22,\n",
       "  2: 0.02,\n",
       "  3: 0.01,\n",
       "  4: 0.01,\n",
       "  5: 0.01,\n",
       "  6: 0.01,\n",
       "  7: 0.15,\n",
       "  8: 0.08,\n",
       "  9: 0.01,\n",
       "  10: 0.01,\n",
       "  11: 0.02},\n",
       " 'c. 1592–1593:Boy Peeling Fruit.jpeg': {0: 0.39,\n",
       "  1: 0.36,\n",
       "  2: 0.02,\n",
       "  3: 0.0,\n",
       "  4: 0.0,\n",
       "  5: 0.01,\n",
       "  6: 0.01,\n",
       "  7: 0.02,\n",
       "  8: 0.02,\n",
       "  9: 0.01,\n",
       "  10: 0.02,\n",
       "  11: 0.14},\n",
       " 'c. 1598:Martha and Mary Magdalene.jpeg': {0: 0.28,\n",
       "  1: 0.42,\n",
       "  2: 0.07,\n",
       "  3: 0.05,\n",
       "  4: 0.05,\n",
       "  5: 0.02,\n",
       "  6: 0.01,\n",
       "  7: 0.01,\n",
       "  8: 0.0,\n",
       "  9: 0.01,\n",
       "  10: 0.01,\n",
       "  11: 0.07},\n",
       " 'c. 1597:Fortune Teller.jpeg': {0: 0.08,\n",
       "  1: 0.36,\n",
       "  2: 0.29,\n",
       "  3: 0.04,\n",
       "  4: 0.01,\n",
       "  5: 0.02,\n",
       "  6: 0.02,\n",
       "  7: 0.07,\n",
       "  8: 0.08,\n",
       "  9: 0.01,\n",
       "  10: 0.01,\n",
       "  11: 0.02},\n",
       " 'c. 1597:Penitent Magdalene.jpeg': {0: 0.56,\n",
       "  1: 0.42,\n",
       "  2: 0.01,\n",
       "  3: 0.0,\n",
       "  4: 0.0,\n",
       "  5: 0.0,\n",
       "  6: 0.0,\n",
       "  7: 0.0,\n",
       "  8: 0.0,\n",
       "  9: 0.0,\n",
       "  10: 0.0,\n",
       "  11: 0.01},\n",
       " 'c. 1593:Young Sick Bacchus.jpeg': {0: 0.36,\n",
       "  1: 0.52,\n",
       "  2: 0.01,\n",
       "  3: 0.0,\n",
       "  4: 0.0,\n",
       "  5: 0.0,\n",
       "  6: 0.0,\n",
       "  7: 0.0,\n",
       "  8: 0.0,\n",
       "  9: 0.01,\n",
       "  10: 0.02,\n",
       "  11: 0.07},\n",
       " 'c. 1596:Bacchus.jpeg': {0: 0.36,\n",
       "  1: 0.56,\n",
       "  2: 0.0,\n",
       "  3: 0.0,\n",
       "  4: 0.0,\n",
       "  5: 0.0,\n",
       "  6: 0.0,\n",
       "  7: 0.0,\n",
       "  8: 0.0,\n",
       "  9: 0.0,\n",
       "  10: 0.01,\n",
       "  11: 0.07},\n",
       " 'c. 1592–1599:Portrait of a Prelate[8].jpeg': {0: 0.13,\n",
       "  1: 0.15,\n",
       "  2: 0.08,\n",
       "  3: 0.06,\n",
       "  4: 0.09,\n",
       "  5: 0.11,\n",
       "  6: 0.12,\n",
       "  7: 0.2,\n",
       "  8: 0.05,\n",
       "  9: 0.0,\n",
       "  10: 0.0,\n",
       "  11: 0.0},\n",
       " 'c. 1597:Rest on the Flight into Egypt.jpeg': {0: 0.11,\n",
       "  1: 0.39,\n",
       "  2: 0.07,\n",
       "  3: 0.05,\n",
       "  4: 0.04,\n",
       "  5: 0.04,\n",
       "  6: 0.11,\n",
       "  7: 0.15,\n",
       "  8: 0.02,\n",
       "  9: 0.0,\n",
       "  10: 0.01,\n",
       "  11: 0.01},\n",
       " 'c. 1596:Lute Player.jpeg': {0: 0.32,\n",
       "  1: 0.25,\n",
       "  2: 0.03,\n",
       "  3: 0.0,\n",
       "  4: 0.0,\n",
       "  5: 0.07,\n",
       "  6: 0.03,\n",
       "  7: 0.05,\n",
       "  8: 0.13,\n",
       "  9: 0.06,\n",
       "  10: 0.01,\n",
       "  11: 0.05},\n",
       " 'c. 1592-1593:Boy Peeling Fruit.jpeg': {0: 0.01,\n",
       "  1: 0.39,\n",
       "  2: 0.5,\n",
       "  3: 0.1,\n",
       "  4: 0.0,\n",
       "  5: 0.0,\n",
       "  6: 0.0,\n",
       "  7: 0.0,\n",
       "  8: 0.0,\n",
       "  9: 0.0,\n",
       "  10: 0.0,\n",
       "  11: 0.0},\n",
       " 'c. 1598:Sacrifice of Isaac.jpeg': {0: 0.35,\n",
       "  1: 0.13,\n",
       "  2: 0.06,\n",
       "  3: 0.03,\n",
       "  4: 0.01,\n",
       "  5: 0.23,\n",
       "  6: 0.03,\n",
       "  7: 0.03,\n",
       "  8: 0.02,\n",
       "  9: 0.01,\n",
       "  10: 0.01,\n",
       "  11: 0.08},\n",
       " 'c. 1596 Lute Player.jpeg': {0: 0.04,\n",
       "  1: 0.53,\n",
       "  2: 0.39,\n",
       "  3: 0.01,\n",
       "  4: 0.0,\n",
       "  5: 0.01,\n",
       "  6: 0.0,\n",
       "  7: 0.0,\n",
       "  8: 0.0,\n",
       "  9: 0.0,\n",
       "  10: 0.0,\n",
       "  11: 0.01},\n",
       " 'c. 1596:Boy Bitten by a Lizard.jpeg': {0: 0.01,\n",
       "  1: 0.77,\n",
       "  2: 0.2,\n",
       "  3: 0.01,\n",
       "  4: 0.0,\n",
       "  5: 0.0,\n",
       "  6: 0.0,\n",
       "  7: 0.0,\n",
       "  8: 0.0,\n",
       "  9: 0.0,\n",
       "  10: 0.0,\n",
       "  11: 0.0},\n",
       " 'c. 1599:Narcissus.jpeg': {0: 0.14,\n",
       "  1: 0.27,\n",
       "  2: 0.05,\n",
       "  3: 0.01,\n",
       "  4: 0.0,\n",
       "  5: 0.01,\n",
       "  6: 0.01,\n",
       "  7: 0.05,\n",
       "  8: 0.29,\n",
       "  9: 0.11,\n",
       "  10: 0.01,\n",
       "  11: 0.05},\n",
       " 'c. 1598:Portrait of Maffeo Barberini.jpeg': {0: 0.03,\n",
       "  1: 0.57,\n",
       "  2: 0.2,\n",
       "  3: 0.08,\n",
       "  4: 0.11,\n",
       "  5: 0.01,\n",
       "  6: 0.0,\n",
       "  7: 0.0,\n",
       "  8: 0.0,\n",
       "  9: 0.0,\n",
       "  10: 0.0,\n",
       "  11: 0.0},\n",
       " 'c. 1598:Saint Catherine of Alexandria.jpeg': {0: 0.15,\n",
       "  1: 0.58,\n",
       "  2: 0.09,\n",
       "  3: 0.0,\n",
       "  4: 0.0,\n",
       "  5: 0.01,\n",
       "  6: 0.02,\n",
       "  7: 0.04,\n",
       "  8: 0.04,\n",
       "  9: 0.01,\n",
       "  10: 0.0,\n",
       "  11: 0.05}}"
      ]
     },
     "execution_count": 84,
     "metadata": {},
     "output_type": "execute_result"
    }
   ],
   "source": [
    "d_cm['1590']"
   ]
  },
  {
   "cell_type": "markdown",
   "id": "719e913d-63c4-4188-a081-ef3580ef9421",
   "metadata": {},
   "source": [
    "## Other refs\n",
    "\n",
    "* A nice [page](https://realpython.com/python-opencv-color-spaces/) on image segmentation with Python \n",
    "* [How to choose a palette for painting](https://www.artsy.net/article/artsy-editorial-4-colors-excel-painting)\n",
    "* [The colour palettes of 10 famous paintings](https://www.haydnsymons.com/blog/the-colour-palettes-used-by-10-famous-paintings/)"
   ]
  },
  {
   "cell_type": "code",
   "execution_count": null,
   "id": "49289841-b37e-45ba-b2f2-ad77483de2ff",
   "metadata": {},
   "outputs": [],
   "source": []
  }
 ],
 "metadata": {
  "kernelspec": {
   "display_name": "Python 3 (ipykernel)",
   "language": "python",
   "name": "python3"
  },
  "language_info": {
   "codemirror_mode": {
    "name": "ipython",
    "version": 3
   },
   "file_extension": ".py",
   "mimetype": "text/x-python",
   "name": "python",
   "nbconvert_exporter": "python",
   "pygments_lexer": "ipython3",
   "version": "3.9.6"
  }
 },
 "nbformat": 4,
 "nbformat_minor": 5
}
