{
 "cells": [
  {
   "cell_type": "code",
   "execution_count": 323,
   "id": "d18f1931-63c8-49e5-9747-6237ae171cd4",
   "metadata": {
    "execution": {
     "iopub.execute_input": "2021-12-05T20:49:29.116828Z",
     "iopub.status.busy": "2021-12-05T20:49:29.116280Z",
     "iopub.status.idle": "2021-12-05T20:49:29.135769Z",
     "shell.execute_reply": "2021-12-05T20:49:29.134352Z",
     "shell.execute_reply.started": "2021-12-05T20:49:29.116770Z"
    },
    "tags": []
   },
   "outputs": [],
   "source": [
    "import wikipedia\n",
    "import pandas as pd\n",
    "from bs4 import BeautifulSoup\n",
    "import requests\n",
    "\n",
    "import cv2\n",
    "import sklearn\n",
    "from skimage import io\n",
    "import numpy as np\n",
    "from matplotlib import pyplot as plt\n",
    "from matplotlib import colors\n",
    "\n",
    "import os\n",
    "import json\n",
    "\n",
    "from sklearn.cluster import KMeans\n",
    "\n",
    "from colour_segmentation.base.segmentation_algorithm import SegmentationAlgorithm\n",
    "from colour_segmentation.segmentator import Segmentator\n",
    "\n",
    "from IPython.core.interactiveshell import InteractiveShell\n",
    "\n",
    "InteractiveShell.ast_node_interactivity = \"all\"\n",
    "%config Completer.use_jedi = False"
   ]
  },
  {
   "cell_type": "markdown",
   "id": "4cdddb8a-524c-4cd5-917c-2927d8a19bea",
   "metadata": {},
   "source": [
    "# Look at data for Renoir's paintings - especially the colours\n",
    "\n",
    "Uses this [Wikipedia list](https://en.wikipedia.org/wiki/List_of_paintings_by_Pierre-Auguste_Renoir). We'll parse the tables for each decade and get the data. We'll download all the original files of the paintings.\n",
    "\n",
    "We'll also extract the colours from each painting to cluster them."
   ]
  },
  {
   "cell_type": "code",
   "execution_count": 527,
   "id": "d10ba464-ecdf-4598-a681-97c4e48b460e",
   "metadata": {
    "execution": {
     "iopub.execute_input": "2021-12-09T20:34:33.048196Z",
     "iopub.status.busy": "2021-12-09T20:34:33.047823Z",
     "iopub.status.idle": "2021-12-09T20:34:37.066799Z",
     "shell.execute_reply": "2021-12-09T20:34:37.065873Z",
     "shell.execute_reply.started": "2021-12-09T20:34:33.048161Z"
    },
    "tags": []
   },
   "outputs": [],
   "source": [
    "# Read the page and its HTML\n",
    "\n",
    "page = wikipedia.page('List of paintings by Pierre-Auguste Renoir')\n",
    "html = page.html()\n",
    "\n",
    "# Read the list of Renoir's paintings by decade one by one\n",
    "# note there's two more tables at the bottom, they're not interesting to this\n",
    "page_tables = pd.read_html(html)[0:6]\n",
    "\n",
    "# separate DFs by decade\n",
    "df_1860s, df_1870s, df_1880s, df_1890s, df_1900s, df_1910s = page_tables"
   ]
  },
  {
   "cell_type": "code",
   "execution_count": 528,
   "id": "f0591e0a-0b44-4b6e-86fd-17d2b3f39567",
   "metadata": {
    "execution": {
     "iopub.execute_input": "2021-12-09T20:34:40.057500Z",
     "iopub.status.busy": "2021-12-09T20:34:40.056820Z",
     "iopub.status.idle": "2021-12-09T20:34:40.072771Z",
     "shell.execute_reply": "2021-12-09T20:34:40.071462Z",
     "shell.execute_reply.started": "2021-12-09T20:34:40.057427Z"
    },
    "tags": []
   },
   "outputs": [],
   "source": [
    "# manually removing one from 1870 as it doesn't have an image file\n",
    "df_1870s = df_1870s[df_1870s.Title != 'Conversation with the Gardener']"
   ]
  },
  {
   "cell_type": "code",
   "execution_count": 529,
   "id": "96648485-5de1-4080-a30e-9174999a8daa",
   "metadata": {
    "execution": {
     "iopub.execute_input": "2021-12-09T20:34:44.596388Z",
     "iopub.status.busy": "2021-12-09T20:34:44.595868Z",
     "iopub.status.idle": "2021-12-09T20:34:44.810323Z",
     "shell.execute_reply": "2021-12-09T20:34:44.808888Z",
     "shell.execute_reply.started": "2021-12-09T20:34:44.596318Z"
    },
    "tags": []
   },
   "outputs": [
    {
     "name": "stderr",
     "output_type": "stream",
     "text": [
      "<ipython-input-529-f81d2c631541>:17: SettingWithCopyWarning: \n",
      "A value is trying to be set on a copy of a slice from a DataFrame.\n",
      "Try using .loc[row_indexer,col_indexer] = value instead\n",
      "\n",
      "See the caveats in the documentation: https://pandas.pydata.org/pandas-docs/stable/user_guide/indexing.html#returning-a-view-versus-a-copy\n",
      "  df_1870s['original_filename'] = [image.find('img')['src'].split('thumb/')[1].split('.jpg')[0] + '.jpg'\n"
     ]
    }
   ],
   "source": [
    "# the above doesn't give the URLs of images attached to painting titles\n",
    "# (the \"Picture\" field is NaN), those are in the images field of the page but they're not in order\n",
    "# page.images\n",
    "\n",
    "# so we shall use BeautifulSoup directly to parse those and attach to the dfs\n",
    "soup = BeautifulSoup(html, 'lxml') # Parse the HTML as a string\n",
    "\n",
    "# these are the decade tables\n",
    "table_1860, table_1870, table_1880, table_1890, table_1900, table_1910 = soup.find_all('table')[0:6]\n",
    "\n",
    "# and here we get the HREFs to the imgs for each\n",
    "images = table_1860.find_all('a', class_='image')\n",
    "df_1860s['original_filename'] = [image.find('img')['src'].split('thumb/')[1].split('.jpg')[0] + '.jpg'\n",
    "                                 for image in images]\n",
    "\n",
    "images = table_1870.find_all('a', class_='image')\n",
    "df_1870s['original_filename'] = [image.find('img')['src'].split('thumb/')[1].split('.jpg')[0] + '.jpg' \n",
    "                                 for image in images]\n",
    "\n",
    "images = table_1880.find_all('a', class_='image')\n",
    "df_1880s['original_filename'] = [image.find('img')['src'].split('thumb/')[1].split('.jpg')[0] + '.jpg' \n",
    "                                 for image in images]\n",
    "\n",
    "images = table_1890.find_all('a', class_='image')\n",
    "df_1890s['original_filename'] = [image.find('img')['src'].split('thumb/')[1].split('.jpg')[0] + '.jpg' \n",
    "                                 for image in images]\n",
    "\n",
    "images = table_1900.find_all('a', class_='image')\n",
    "df_1900s['original_filename'] = [image.find('img')['src'].split('thumb/')[1].split('.jpg')[0] + '.jpg' \n",
    "                                 for image in images]\n",
    "\n",
    "images = table_1910.find_all('a', class_='image')\n",
    "df_1910s['original_filename'] = [image.find('img')['src'].split('thumb/')[1].split('.jpg')[0] + '.jpg' \n",
    "                                 for image in images]\n"
   ]
  },
  {
   "cell_type": "code",
   "execution_count": 530,
   "id": "ec2778c1-6734-4f9d-b4a8-f273323ba6e9",
   "metadata": {
    "execution": {
     "iopub.execute_input": "2021-12-09T20:34:48.559022Z",
     "iopub.status.busy": "2021-12-09T20:34:48.558327Z",
     "iopub.status.idle": "2021-12-09T20:34:48.567393Z",
     "shell.execute_reply": "2021-12-09T20:34:48.565054Z",
     "shell.execute_reply.started": "2021-12-09T20:34:48.558965Z"
    },
    "tags": []
   },
   "outputs": [],
   "source": [
    "#images[-1]\n",
    "#images[-1].find('img')['src'].split('thumb/')[1].split('.jpg')[0]"
   ]
  },
  {
   "cell_type": "code",
   "execution_count": 535,
   "id": "ab9d6ba6-2a80-4a4a-bb93-e451fc36ee43",
   "metadata": {
    "execution": {
     "iopub.execute_input": "2021-12-09T20:36:08.758623Z",
     "iopub.status.busy": "2021-12-09T20:36:08.758259Z",
     "iopub.status.idle": "2021-12-09T20:36:08.789691Z",
     "shell.execute_reply": "2021-12-09T20:36:08.788230Z",
     "shell.execute_reply.started": "2021-12-09T20:36:08.758590Z"
    },
    "tags": []
   },
   "outputs": [
    {
     "data": {
      "text/html": [
       "<div>\n",
       "<style scoped>\n",
       "    .dataframe tbody tr th:only-of-type {\n",
       "        vertical-align: middle;\n",
       "    }\n",
       "\n",
       "    .dataframe tbody tr th {\n",
       "        vertical-align: top;\n",
       "    }\n",
       "\n",
       "    .dataframe thead th {\n",
       "        text-align: right;\n",
       "    }\n",
       "</style>\n",
       "<table border=\"1\" class=\"dataframe\">\n",
       "  <thead>\n",
       "    <tr style=\"text-align: right;\">\n",
       "      <th></th>\n",
       "      <th>Picture</th>\n",
       "      <th>Title</th>\n",
       "      <th>Year</th>\n",
       "      <th>Dimensions</th>\n",
       "      <th>Museum</th>\n",
       "      <th>original_filename</th>\n",
       "    </tr>\n",
       "  </thead>\n",
       "  <tbody>\n",
       "    <tr>\n",
       "      <th>0</th>\n",
       "      <td>NaN</td>\n",
       "      <td>Portrait of Renoir's Mother</td>\n",
       "      <td>1860</td>\n",
       "      <td>45 cm × 36 cm (18 in × 14 in)</td>\n",
       "      <td>Private collection</td>\n",
       "      <td>6/65/Pierre-Auguste_Renoir_-_Portrait_de_la_m%...</td>\n",
       "    </tr>\n",
       "    <tr>\n",
       "      <th>1</th>\n",
       "      <td>NaN</td>\n",
       "      <td>Mademoiselle Romaine Lacaux</td>\n",
       "      <td>1864</td>\n",
       "      <td>81.3 cm × 65 cm (32.0 in × 25.6 in)</td>\n",
       "      <td>Cleveland Museum of Art, Cleveland, Ohio, U.S.[4]</td>\n",
       "      <td>b/bb/Romaine_Lacaux%2C_by_Pierre-Auguste_Renoi...</td>\n",
       "    </tr>\n",
       "    <tr>\n",
       "      <th>2</th>\n",
       "      <td>NaN</td>\n",
       "      <td>Portrait of Alfred Sisley</td>\n",
       "      <td>1864</td>\n",
       "      <td>81 cm × 65 cm (32 in × 26 in)</td>\n",
       "      <td>Foundation E.G. Bührle, Zürich [5]</td>\n",
       "      <td>6/60/Pierre-Auguste_Renoir_110.jpg</td>\n",
       "    </tr>\n",
       "    <tr>\n",
       "      <th>3</th>\n",
       "      <td>NaN</td>\n",
       "      <td>Portrait of William Sisley(fr:Portrait de Will...</td>\n",
       "      <td>1864</td>\n",
       "      <td>81.5 cm × 65.5 cm (32.1 in × 25.8 in)</td>\n",
       "      <td>Musée d'Orsay, Paris, France</td>\n",
       "      <td>5/51/Pierre-Auguste_Renoir_-_William_Sisley.jpg</td>\n",
       "    </tr>\n",
       "    <tr>\n",
       "      <th>4</th>\n",
       "      <td>NaN</td>\n",
       "      <td>Lise Sewing</td>\n",
       "      <td>1866</td>\n",
       "      <td>55.88 cm × 45.72 cm (22.00 in × 18.00 in)</td>\n",
       "      <td>Dallas Museum of Art, Texas</td>\n",
       "      <td>4/4a/Lise_Sewing_-_1866.jpg</td>\n",
       "    </tr>\n",
       "    <tr>\n",
       "      <th>5</th>\n",
       "      <td>NaN</td>\n",
       "      <td>Mother Anthony's Tavern</td>\n",
       "      <td>1866</td>\n",
       "      <td>194 cm × 131 cm (76 in × 52 in)</td>\n",
       "      <td>Nationalmuseum, Stockholm</td>\n",
       "      <td>1/1f/Renoir_mother_anthonys_tavern_1866.JPG/10...</td>\n",
       "    </tr>\n",
       "    <tr>\n",
       "      <th>6</th>\n",
       "      <td>NaN</td>\n",
       "      <td>Madame Joseph Le Coeur</td>\n",
       "      <td>1866</td>\n",
       "      <td>116 cm × 89.5 cm (45.7 in × 35.2 in)</td>\n",
       "      <td>Musée d'Orsay, Paris [6]</td>\n",
       "      <td>7/79/REnoir_Madame_Joseph_Le_Coeur.gif/100px-R...</td>\n",
       "    </tr>\n",
       "    <tr>\n",
       "      <th>7</th>\n",
       "      <td>NaN</td>\n",
       "      <td>Lise with a Parasol</td>\n",
       "      <td>1867</td>\n",
       "      <td>184 cm × 115 cm (72 in × 45 in)</td>\n",
       "      <td>Museum Folkwang, Essen, Germany[7]</td>\n",
       "      <td>f/ff/Renoir_Lise_With_Umbrella.jpg</td>\n",
       "    </tr>\n",
       "    <tr>\n",
       "      <th>8</th>\n",
       "      <td>NaN</td>\n",
       "      <td>Frédéric Bazille at his Easel</td>\n",
       "      <td>1867</td>\n",
       "      <td>105 cm × 73.5 cm (41.3 in × 28.9 in)</td>\n",
       "      <td>Musée Fabre, Montpellier, France[8]</td>\n",
       "      <td>6/6a/Pierre-Auguste_Renoir_-_Fr%C3%A9d%C3%A9ri...</td>\n",
       "    </tr>\n",
       "    <tr>\n",
       "      <th>9</th>\n",
       "      <td>NaN</td>\n",
       "      <td>Diana</td>\n",
       "      <td>1866</td>\n",
       "      <td>197 cm × 132 cm (78 in × 52 in)</td>\n",
       "      <td>National Gallery of Art, Washington, DC</td>\n",
       "      <td>c/c2/Pierre-Auguste_Renoir_020.jpg</td>\n",
       "    </tr>\n",
       "    <tr>\n",
       "      <th>10</th>\n",
       "      <td>NaN</td>\n",
       "      <td>Skaters in the Bois de Boulogne</td>\n",
       "      <td>1868</td>\n",
       "      <td>72 cm × 90 cm (28 in × 35 in)</td>\n",
       "      <td>Private collection</td>\n",
       "      <td>2/24/Pierre-Auguste_Renoir_-_Patineurs.jpg</td>\n",
       "    </tr>\n",
       "    <tr>\n",
       "      <th>11</th>\n",
       "      <td>NaN</td>\n",
       "      <td>En été (La Bohémienne)(In Summer (The Bohemian))</td>\n",
       "      <td>1868</td>\n",
       "      <td>83 cm × 59 cm (33 in × 23 in)</td>\n",
       "      <td>Alte Nationalgalerie, Berlin, Germany[9]</td>\n",
       "      <td>6/61/Pierre-Auguste_Renoir_-_En_%C3%A9t%C3%A9_...</td>\n",
       "    </tr>\n",
       "    <tr>\n",
       "      <th>12</th>\n",
       "      <td>NaN</td>\n",
       "      <td>The Fiances(fr:Les Fiancés - Le Ménage Sisley)</td>\n",
       "      <td>1868</td>\n",
       "      <td>105 cm × 75 cm (41 in × 30 in)</td>\n",
       "      <td>Wallraf–Richartz Museum, Cologne, Germany</td>\n",
       "      <td>1/13/Sisley_et_madame-par_Renoir-1868.jpg</td>\n",
       "    </tr>\n",
       "    <tr>\n",
       "      <th>13</th>\n",
       "      <td>NaN</td>\n",
       "      <td>Chalands sur la Seine (Barges on the Seine)</td>\n",
       "      <td>1869</td>\n",
       "      <td>47 cm × 64 cm (19 in × 25 in)</td>\n",
       "      <td>Musée d'Orsay, Paris [10]</td>\n",
       "      <td>3/34/Pierre-Auguste_Renoir_-_Chalands_sur_la_S...</td>\n",
       "    </tr>\n",
       "    <tr>\n",
       "      <th>14</th>\n",
       "      <td>NaN</td>\n",
       "      <td>La Grenouillère</td>\n",
       "      <td>1869</td>\n",
       "      <td>66 cm × 81 cm (26 in × 32 in)</td>\n",
       "      <td>Nationalmuseum, Stockholm, Sweden[11]</td>\n",
       "      <td>7/79/Auguste_Renoir_-_La_Grenouill%C3%A8re_-_G...</td>\n",
       "    </tr>\n",
       "    <tr>\n",
       "      <th>15</th>\n",
       "      <td>NaN</td>\n",
       "      <td>La Grenouillère</td>\n",
       "      <td>1869</td>\n",
       "      <td>65.1 cm × 92 cm (25.6 in × 36.2 in)</td>\n",
       "      <td>Oskar Reinhart Collection, Winterthur, Switzer...</td>\n",
       "      <td>b/b6/Pierre-Auguste_Renoir_-_La_Grenouill%C3%A...</td>\n",
       "    </tr>\n",
       "    <tr>\n",
       "      <th>16</th>\n",
       "      <td>NaN</td>\n",
       "      <td>A Nymph by a Stream</td>\n",
       "      <td>1869-70</td>\n",
       "      <td>66.5 cm × 124 cm (26.2 in × 48.8 in)</td>\n",
       "      <td>National Gallery, London</td>\n",
       "      <td>2/23/Pierre-Auguste_Renoir_086.jpg</td>\n",
       "    </tr>\n",
       "  </tbody>\n",
       "</table>\n",
       "</div>"
      ],
      "text/plain": [
       "    Picture                                              Title     Year  \\\n",
       "0       NaN                        Portrait of Renoir's Mother     1860   \n",
       "1       NaN                        Mademoiselle Romaine Lacaux     1864   \n",
       "2       NaN                          Portrait of Alfred Sisley     1864   \n",
       "3       NaN  Portrait of William Sisley(fr:Portrait de Will...     1864   \n",
       "4       NaN                                        Lise Sewing     1866   \n",
       "5       NaN                            Mother Anthony's Tavern     1866   \n",
       "6       NaN                             Madame Joseph Le Coeur     1866   \n",
       "7       NaN                                Lise with a Parasol     1867   \n",
       "8       NaN                      Frédéric Bazille at his Easel     1867   \n",
       "9       NaN                                              Diana     1866   \n",
       "10      NaN                    Skaters in the Bois de Boulogne     1868   \n",
       "11      NaN   En été (La Bohémienne)(In Summer (The Bohemian))     1868   \n",
       "12      NaN     The Fiances(fr:Les Fiancés - Le Ménage Sisley)     1868   \n",
       "13      NaN        Chalands sur la Seine (Barges on the Seine)     1869   \n",
       "14      NaN                                    La Grenouillère     1869   \n",
       "15      NaN                                    La Grenouillère     1869   \n",
       "16      NaN                                A Nymph by a Stream  1869-70   \n",
       "\n",
       "                                   Dimensions  \\\n",
       "0               45 cm × 36 cm (18 in × 14 in)   \n",
       "1         81.3 cm × 65 cm (32.0 in × 25.6 in)   \n",
       "2               81 cm × 65 cm (32 in × 26 in)   \n",
       "3       81.5 cm × 65.5 cm (32.1 in × 25.8 in)   \n",
       "4   55.88 cm × 45.72 cm (22.00 in × 18.00 in)   \n",
       "5             194 cm × 131 cm (76 in × 52 in)   \n",
       "6        116 cm × 89.5 cm (45.7 in × 35.2 in)   \n",
       "7             184 cm × 115 cm (72 in × 45 in)   \n",
       "8        105 cm × 73.5 cm (41.3 in × 28.9 in)   \n",
       "9             197 cm × 132 cm (78 in × 52 in)   \n",
       "10              72 cm × 90 cm (28 in × 35 in)   \n",
       "11              83 cm × 59 cm (33 in × 23 in)   \n",
       "12             105 cm × 75 cm (41 in × 30 in)   \n",
       "13              47 cm × 64 cm (19 in × 25 in)   \n",
       "14              66 cm × 81 cm (26 in × 32 in)   \n",
       "15        65.1 cm × 92 cm (25.6 in × 36.2 in)   \n",
       "16       66.5 cm × 124 cm (26.2 in × 48.8 in)   \n",
       "\n",
       "                                               Museum  \\\n",
       "0                                  Private collection   \n",
       "1   Cleveland Museum of Art, Cleveland, Ohio, U.S.[4]   \n",
       "2                  Foundation E.G. Bührle, Zürich [5]   \n",
       "3                        Musée d'Orsay, Paris, France   \n",
       "4                         Dallas Museum of Art, Texas   \n",
       "5                           Nationalmuseum, Stockholm   \n",
       "6                            Musée d'Orsay, Paris [6]   \n",
       "7                  Museum Folkwang, Essen, Germany[7]   \n",
       "8                 Musée Fabre, Montpellier, France[8]   \n",
       "9             National Gallery of Art, Washington, DC   \n",
       "10                                 Private collection   \n",
       "11           Alte Nationalgalerie, Berlin, Germany[9]   \n",
       "12          Wallraf–Richartz Museum, Cologne, Germany   \n",
       "13                          Musée d'Orsay, Paris [10]   \n",
       "14              Nationalmuseum, Stockholm, Sweden[11]   \n",
       "15  Oskar Reinhart Collection, Winterthur, Switzer...   \n",
       "16                           National Gallery, London   \n",
       "\n",
       "                                    original_filename  \n",
       "0   6/65/Pierre-Auguste_Renoir_-_Portrait_de_la_m%...  \n",
       "1   b/bb/Romaine_Lacaux%2C_by_Pierre-Auguste_Renoi...  \n",
       "2                  6/60/Pierre-Auguste_Renoir_110.jpg  \n",
       "3     5/51/Pierre-Auguste_Renoir_-_William_Sisley.jpg  \n",
       "4                         4/4a/Lise_Sewing_-_1866.jpg  \n",
       "5   1/1f/Renoir_mother_anthonys_tavern_1866.JPG/10...  \n",
       "6   7/79/REnoir_Madame_Joseph_Le_Coeur.gif/100px-R...  \n",
       "7                  f/ff/Renoir_Lise_With_Umbrella.jpg  \n",
       "8   6/6a/Pierre-Auguste_Renoir_-_Fr%C3%A9d%C3%A9ri...  \n",
       "9                  c/c2/Pierre-Auguste_Renoir_020.jpg  \n",
       "10         2/24/Pierre-Auguste_Renoir_-_Patineurs.jpg  \n",
       "11  6/61/Pierre-Auguste_Renoir_-_En_%C3%A9t%C3%A9_...  \n",
       "12          1/13/Sisley_et_madame-par_Renoir-1868.jpg  \n",
       "13  3/34/Pierre-Auguste_Renoir_-_Chalands_sur_la_S...  \n",
       "14  7/79/Auguste_Renoir_-_La_Grenouill%C3%A8re_-_G...  \n",
       "15  b/b6/Pierre-Auguste_Renoir_-_La_Grenouill%C3%A...  \n",
       "16                 2/23/Pierre-Auguste_Renoir_086.jpg  "
      ]
     },
     "execution_count": 535,
     "metadata": {},
     "output_type": "execute_result"
    }
   ],
   "source": [
    "df_1860s"
   ]
  },
  {
   "cell_type": "markdown",
   "id": "c5aa81e5-8ce5-4132-bbe1-c476906c2129",
   "metadata": {
    "execution": {
     "iopub.execute_input": "2021-11-28T17:15:48.335433Z",
     "iopub.status.busy": "2021-11-28T17:15:48.335046Z",
     "iopub.status.idle": "2021-11-28T17:15:48.346288Z",
     "shell.execute_reply": "2021-11-28T17:15:48.343099Z",
     "shell.execute_reply.started": "2021-11-28T17:15:48.335396Z"
    }
   },
   "source": [
    "# Now download all imgs\n",
    "\n",
    "Download the original files, from wikimedia. Filenames need prefixed. The lookup for the filename to use and how to build the URL to it has been investigated and tested.\n",
    "\n",
    "If there's any that doesn't get downloaded (e.g for cases where it's not a .jpg) I try fix manually. Or leave it be if I can't."
   ]
  },
  {
   "cell_type": "code",
   "execution_count": 76,
   "id": "df316c98-7a50-48a5-b54c-45189779ab21",
   "metadata": {
    "execution": {
     "iopub.execute_input": "2021-11-29T09:02:24.196791Z",
     "iopub.status.busy": "2021-11-29T09:02:24.196250Z",
     "iopub.status.idle": "2021-11-29T09:02:38.696872Z",
     "shell.execute_reply": "2021-11-29T09:02:38.695267Z",
     "shell.execute_reply.started": "2021-11-29T09:02:24.196751Z"
    },
    "tags": []
   },
   "outputs": [
    {
     "name": "stdout",
     "output_type": "stream",
     "text": [
      "https://upload.wikimedia.org/wikipedia/commons/9/91/Renoir%27s_Nude.jpg\n"
     ]
    },
    {
     "data": {
      "text/plain": [
       "303194"
      ]
     },
     "execution_count": 76,
     "metadata": {},
     "output_type": "execute_result"
    },
    {
     "name": "stdout",
     "output_type": "stream",
     "text": [
      "https://upload.wikimedia.org/wikipedia/commons/6/6f/The_Coast_at_Cagnes%2C_Sea%2C_Mountains_-_Renoir.jpg\n"
     ]
    },
    {
     "data": {
      "text/plain": [
       "126855"
      ]
     },
     "execution_count": 76,
     "metadata": {},
     "output_type": "execute_result"
    },
    {
     "name": "stdout",
     "output_type": "stream",
     "text": [
      "https://upload.wikimedia.org/wikipedia/commons/d/d3/Renoir_Self-Portrait_1910.jpg\n"
     ]
    },
    {
     "data": {
      "text/plain": [
       "978990"
      ]
     },
     "execution_count": 76,
     "metadata": {},
     "output_type": "execute_result"
    },
    {
     "name": "stdout",
     "output_type": "stream",
     "text": [
      "https://upload.wikimedia.org/wikipedia/commons/c/ce/Renoir18.jpg\n"
     ]
    },
    {
     "data": {
      "text/plain": [
       "30621"
      ]
     },
     "execution_count": 76,
     "metadata": {},
     "output_type": "execute_result"
    },
    {
     "name": "stdout",
     "output_type": "stream",
     "text": [
      "https://upload.wikimedia.org/wikipedia/commons/2/2b/Pierre-Auguste_Renoir_113.jpg\n"
     ]
    },
    {
     "data": {
      "text/plain": [
       "457079"
      ]
     },
     "execution_count": 76,
     "metadata": {},
     "output_type": "execute_result"
    },
    {
     "name": "stdout",
     "output_type": "stream",
     "text": [
      "https://upload.wikimedia.org/wikipedia/commons/5/50/Pierre-Auguste_Renoir_-_Autoportrait_5.JPG/100px-Pierre-Auguste_Renoir_-_Autoportrait_5.JPG.jpg\n"
     ]
    },
    {
     "data": {
      "text/plain": [
       "162"
      ]
     },
     "execution_count": 76,
     "metadata": {},
     "output_type": "execute_result"
    },
    {
     "name": "stdout",
     "output_type": "stream",
     "text": [
      "https://upload.wikimedia.org/wikipedia/commons/b/b6/Pierre-Auguste_Renoir_030.jpg\n"
     ]
    },
    {
     "data": {
      "text/plain": [
       "488742"
      ]
     },
     "execution_count": 76,
     "metadata": {},
     "output_type": "execute_result"
    },
    {
     "name": "stdout",
     "output_type": "stream",
     "text": [
      "https://upload.wikimedia.org/wikipedia/commons/f/fd/Ambroise_Vollard_avec_un_foulard_rouge.jpg\n"
     ]
    },
    {
     "data": {
      "text/plain": [
       "7819670"
      ]
     },
     "execution_count": 76,
     "metadata": {},
     "output_type": "execute_result"
    },
    {
     "name": "stdout",
     "output_type": "stream",
     "text": [
      "https://upload.wikimedia.org/wikipedia/commons/f/f9/The_Farm_at_Les_Collettes%2C_Cagnes_MET_DT215205.jpg\n"
     ]
    },
    {
     "data": {
      "text/plain": [
       "5139046"
      ]
     },
     "execution_count": 76,
     "metadata": {},
     "output_type": "execute_result"
    },
    {
     "name": "stdout",
     "output_type": "stream",
     "text": [
      "https://upload.wikimedia.org/wikipedia/commons/3/39/Pierre-Auguste_Renoir_-_Baigneuse_assise_s%27essuyant_une_jambe.jpg\n"
     ]
    },
    {
     "data": {
      "text/plain": [
       "56602"
      ]
     },
     "execution_count": 76,
     "metadata": {},
     "output_type": "execute_result"
    },
    {
     "name": "stdout",
     "output_type": "stream",
     "text": [
      "https://upload.wikimedia.org/wikipedia/commons/6/64/Pierre-Auguste_Renoir_-_Femmes_au_bain.jpg\n"
     ]
    },
    {
     "data": {
      "text/plain": [
       "1699909"
      ]
     },
     "execution_count": 76,
     "metadata": {},
     "output_type": "execute_result"
    },
    {
     "name": "stdout",
     "output_type": "stream",
     "text": [
      "https://upload.wikimedia.org/wikipedia/commons/7/75/Pierre-Auguste_Renoir_-_Blonde_%C3%A0_la_rose_-_c._1915-17.jpg\n"
     ]
    },
    {
     "data": {
      "text/plain": [
       "3106305"
      ]
     },
     "execution_count": 76,
     "metadata": {},
     "output_type": "execute_result"
    },
    {
     "name": "stdout",
     "output_type": "stream",
     "text": [
      "https://upload.wikimedia.org/wikipedia/commons/d/d8/Ambroise_Vollard_by_Pierre-Auguste_Renoir.jpg\n"
     ]
    },
    {
     "data": {
      "text/plain": [
       "5338594"
      ]
     },
     "execution_count": 76,
     "metadata": {},
     "output_type": "execute_result"
    },
    {
     "name": "stdout",
     "output_type": "stream",
     "text": [
      "https://upload.wikimedia.org/wikipedia/commons/3/35/Pierre_Auguste_Renoir_Les_baigneuses.jpg\n"
     ]
    },
    {
     "data": {
      "text/plain": [
       "191898"
      ]
     },
     "execution_count": 76,
     "metadata": {},
     "output_type": "execute_result"
    },
    {
     "name": "stdout",
     "output_type": "stream",
     "text": [
      "https://upload.wikimedia.org/wikipedia/commons/5/54/Pierre-Auguste_Renoir_-_Le_Concert.jpg\n"
     ]
    },
    {
     "data": {
      "text/plain": [
       "1746164"
      ]
     },
     "execution_count": 76,
     "metadata": {},
     "output_type": "execute_result"
    },
    {
     "name": "stdout",
     "output_type": "stream",
     "text": [
      "https://upload.wikimedia.org/wikipedia/commons/d/dd/Pierre-Auguste_Renoir_-_Ad%C3%A8le_Besson.jpg\n"
     ]
    },
    {
     "data": {
      "text/plain": [
       "1233808"
      ]
     },
     "execution_count": 76,
     "metadata": {},
     "output_type": "execute_result"
    },
    {
     "name": "stdout",
     "output_type": "stream",
     "text": [
      "https://upload.wikimedia.org/wikipedia/commons/9/9c/Pierre-Auguste_Renoir_125.jpg\n"
     ]
    },
    {
     "data": {
      "text/plain": [
       "542573"
      ]
     },
     "execution_count": 76,
     "metadata": {},
     "output_type": "execute_result"
    },
    {
     "name": "stdout",
     "output_type": "stream",
     "text": [
      "https://upload.wikimedia.org/wikipedia/commons/6/60/Pierre-auguste-Renoir-Madeleine-Leaning-on-Her-Elbow-with-Flowers-in-Her-Hair.jpg\n"
     ]
    },
    {
     "data": {
      "text/plain": [
       "93603"
      ]
     },
     "execution_count": 76,
     "metadata": {},
     "output_type": "execute_result"
    },
    {
     "name": "stdout",
     "output_type": "stream",
     "text": [
      "https://upload.wikimedia.org/wikipedia/commons/7/7b/Pierre-Auguste_Renoir_Landschaft.jpg\n"
     ]
    },
    {
     "data": {
      "text/plain": [
       "579011"
      ]
     },
     "execution_count": 76,
     "metadata": {},
     "output_type": "execute_result"
    }
   ],
   "source": [
    "base_url ='https://upload.wikimedia.org/wikipedia/commons/'\n",
    "\n",
    "# # need to spoof it as a browser user agent otherwise wikimedia \n",
    "# r = requests.get('https://upload.wikimedia.org/wikipedia/commons/6/65/Pierre-Auguste_Renoir_-_Portrait_de_la_m%C3%A8re_de_Renoir.jpg', \n",
    "#                  headers={'User-agent': 'Mozilla/5.0'})\n",
    "\n",
    "\n",
    "# do one at a time - it's relatively slow\n",
    "for index, row in df_1910s.iterrows():\n",
    "    img_url = base_url + row['original_filename']\n",
    "    print(img_url)\n",
    "    r = requests.get(img_url, headers={'User-agent': 'Mozilla/5.0'})\n",
    "    f = open('renoir_1910/' + row['Title'] + '.jpeg', 'wb')\n",
    "    f.write(r.content)\n",
    "    f.close()\n"
   ]
  },
  {
   "cell_type": "code",
   "execution_count": 88,
   "id": "4ed391b8-cb59-44b7-869e-f6820c92db8b",
   "metadata": {
    "execution": {
     "iopub.execute_input": "2021-11-29T09:03:18.341538Z",
     "iopub.status.busy": "2021-11-29T09:03:18.341156Z",
     "iopub.status.idle": "2021-11-29T09:03:18.356974Z",
     "shell.execute_reply": "2021-11-29T09:03:18.354177Z",
     "shell.execute_reply.started": "2021-11-29T09:03:18.341503Z"
    },
    "tags": []
   },
   "outputs": [
    {
     "data": {
      "text/plain": [
       "19"
      ]
     },
     "execution_count": 88,
     "metadata": {},
     "output_type": "execute_result"
    }
   ],
   "source": [
    "len(df_1910s)"
   ]
  },
  {
   "cell_type": "code",
   "execution_count": 87,
   "id": "1d33d455-fe66-4557-8d81-1ec68abe05c5",
   "metadata": {
    "execution": {
     "iopub.execute_input": "2021-11-29T09:03:16.543510Z",
     "iopub.status.busy": "2021-11-29T09:03:16.543131Z",
     "iopub.status.idle": "2021-11-29T09:03:16.706298Z",
     "shell.execute_reply": "2021-11-29T09:03:16.705027Z",
     "shell.execute_reply.started": "2021-11-29T09:03:16.543474Z"
    },
    "tags": []
   },
   "outputs": [
    {
     "name": "stdout",
     "output_type": "stream",
     "text": [
      "      18\n"
     ]
    }
   ],
   "source": [
    "!ls renoir_1910/ | wc -l"
   ]
  },
  {
   "cell_type": "markdown",
   "id": "2af56371-bd3b-428d-a842-c608863b1c68",
   "metadata": {},
   "source": [
    "## Now investigate the colours!\n",
    "\n",
    "Using a k-means with 5 clusters asked for for each picture"
   ]
  },
  {
   "cell_type": "code",
   "execution_count": 237,
   "id": "e4fcd30c-9670-4a26-80a4-e41d34d4a257",
   "metadata": {
    "execution": {
     "iopub.execute_input": "2021-12-05T09:34:02.869390Z",
     "iopub.status.busy": "2021-12-05T09:34:02.866892Z",
     "iopub.status.idle": "2021-12-05T09:42:08.711984Z",
     "shell.execute_reply": "2021-12-05T09:42:08.709608Z",
     "shell.execute_reply.started": "2021-12-05T09:34:02.869286Z"
    },
    "tags": []
   },
   "outputs": [
    {
     "name": "stdout",
     "output_type": "stream",
     "text": [
      "Girl Playing Croquet(French: Fille jouant au croquet).jpeg\n",
      "Yvonne et Christine Lerolle au piano(Yvonne and Christine Lerolle at the Piano).jpeg\n",
      "In the Meadow(French: Dans le pré).jpeg\n",
      "Woman Playing a Guitar(French: Femme jouant de la guitare).jpeg\n",
      "Portrait of Victorine de Bellio (French: Portrait de Mademoiselle Victorine de Bellio).jpeg\n",
      "Gabrielle Renard and infant son, Jean(French: Gabrielle Renard et Jean enfant).jpeg\n"
     ]
    },
    {
     "name": "stderr",
     "output_type": "stream",
     "text": [
      "/Users/martina/Desktop/venv/lib/python3.9/site-packages/PIL/Image.py:2918: DecompressionBombWarning: Image size (106828042 pixels) exceeds limit of 89478485 pixels, could be decompression bomb DOS attack.\n",
      "  warnings.warn(\n"
     ]
    },
    {
     "name": "stdout",
     "output_type": "stream",
     "text": [
      "Bathers Playing with a Crab(French: Baigneurs jouant avec un crabe).jpeg\n"
     ]
    },
    {
     "name": "stderr",
     "output_type": "stream",
     "text": [
      "/Users/martina/Desktop/venv/lib/python3.9/site-packages/PIL/Image.py:2918: DecompressionBombWarning: Image size (155621190 pixels) exceeds limit of 89478485 pixels, could be decompression bomb DOS attack.\n",
      "  warnings.warn(\n"
     ]
    },
    {
     "name": "stdout",
     "output_type": "stream",
     "text": [
      "Girls at the Piano(French: Jeunes filles au piano).jpeg\n",
      "CPU times: user 19min 37s, sys: 1min 45s, total: 21min 22s\n",
      "Wall time: 8min 5s\n"
     ]
    }
   ],
   "source": [
    "%%time\n",
    "\n",
    "kmeans = KMeans(n_clusters=20)\n",
    "\n",
    "# do one by one\n",
    "dir_ = 'renoir_1890/'\n",
    "d = {}\n",
    "\n",
    "for filename in os.listdir(dir_):\n",
    "    \n",
    "    try:\n",
    "    \n",
    "        print(filename)\n",
    "\n",
    "        img = io.imread(dir_ + filename)\n",
    "\n",
    "        # resize (to half dimensions) so to reduce data, for speed\n",
    "        img = cv2.resize(img, (0,0), fx=0.2, fy=0.2)\n",
    "        img = np.reshape(img, (img.shape[0]*img.shape[1], 3))\n",
    "\n",
    "        kmeans.fit(img)\n",
    "\n",
    "        d[filename] = {'centroids': kmeans.cluster_centers_.tolist(),\n",
    "                       'labels': kmeans.labels_.tolist()}\n",
    "        \n",
    "    # there can be some in wrong format    \n",
    "    except:\n",
    "        pass"
   ]
  },
  {
   "cell_type": "code",
   "execution_count": 238,
   "id": "ad33a0a7-0b93-4a69-b5cb-2e6ac7be7c59",
   "metadata": {
    "execution": {
     "iopub.execute_input": "2021-12-05T09:42:08.717253Z",
     "iopub.status.busy": "2021-12-05T09:42:08.716727Z",
     "iopub.status.idle": "2021-12-05T09:42:08.727214Z",
     "shell.execute_reply": "2021-12-05T09:42:08.726087Z",
     "shell.execute_reply.started": "2021-12-05T09:42:08.717214Z"
    },
    "tags": []
   },
   "outputs": [
    {
     "data": {
      "text/plain": [
       "8"
      ]
     },
     "execution_count": 238,
     "metadata": {},
     "output_type": "execute_result"
    }
   ],
   "source": [
    "len(d)"
   ]
  },
  {
   "cell_type": "code",
   "execution_count": 239,
   "id": "63c45972-9552-4110-be50-edf06f0454c5",
   "metadata": {
    "execution": {
     "iopub.execute_input": "2021-12-05T09:42:08.731208Z",
     "iopub.status.busy": "2021-12-05T09:42:08.730531Z",
     "iopub.status.idle": "2021-12-05T09:42:08.981617Z",
     "shell.execute_reply": "2021-12-05T09:42:08.980362Z",
     "shell.execute_reply.started": "2021-12-05T09:42:08.731165Z"
    },
    "tags": []
   },
   "outputs": [
    {
     "name": "stdout",
     "output_type": "stream",
     "text": [
      "       8\n"
     ]
    }
   ],
   "source": [
    "!ls renoir_1890/ | wc -l"
   ]
  },
  {
   "cell_type": "code",
   "execution_count": 240,
   "id": "37be08bc-4416-45c0-8d60-ca810d9fdefa",
   "metadata": {
    "execution": {
     "iopub.execute_input": "2021-12-05T09:42:25.108025Z",
     "iopub.status.busy": "2021-12-05T09:42:25.107681Z",
     "iopub.status.idle": "2021-12-05T09:42:32.694289Z",
     "shell.execute_reply": "2021-12-05T09:42:32.693419Z",
     "shell.execute_reply.started": "2021-12-05T09:42:25.107996Z"
    },
    "tags": []
   },
   "outputs": [],
   "source": [
    "# dump to file\n",
    "json.dump(d, open('renoir_1890_clusters_20.json', 'w'))"
   ]
  },
  {
   "cell_type": "markdown",
   "id": "fdbb941a-fbdb-48bc-942b-3680cdf90e59",
   "metadata": {},
   "source": [
    "##  Read all files in, build single dict\n",
    "\n",
    "For the RGB values, cast to int. For the labels, compute the occupation (in %) of each."
   ]
  },
  {
   "cell_type": "code",
   "execution_count": 256,
   "id": "57732155-37e0-4dd6-bf28-fe081ef4c241",
   "metadata": {
    "execution": {
     "iopub.execute_input": "2021-12-05T20:14:23.931223Z",
     "iopub.status.busy": "2021-12-05T20:14:23.930874Z",
     "iopub.status.idle": "2021-12-05T20:14:36.255037Z",
     "shell.execute_reply": "2021-12-05T20:14:36.254061Z",
     "shell.execute_reply.started": "2021-12-05T20:14:23.931191Z"
    },
    "tags": []
   },
   "outputs": [
    {
     "name": "stdout",
     "output_type": "stream",
     "text": [
      "1860\n",
      "1870\n",
      "1880\n",
      "1890\n",
      "1900\n",
      "1910\n"
     ]
    }
   ],
   "source": [
    "d_decades = {'1860': {}, '1870': {}, '1880': {}, '1890': {}, '1900': {}, '1910': {}}\n",
    "\n",
    "for decade in d_decades:\n",
    "    print(decade)\n",
    "    d = json.load(open('renoir_{decade}_clusters.json'.format(decade=decade), 'r'))\n",
    "    for title in d:\n",
    "        d_decades[decade][title] = []\n",
    "        for i in range(len(d[title]['centroids'])):\n",
    "            d_decades[decade][title].append(\n",
    "                {'colour': [int(item) for item in d[title]['centroids'][i]],\n",
    "                 'occupation': round(d[title]['labels'].count(i) / len(d[title]['labels']), 2)\n",
    "                })"
   ]
  },
  {
   "cell_type": "code",
   "execution_count": 257,
   "id": "054672bb-4677-4521-928f-fb39e689e031",
   "metadata": {
    "execution": {
     "iopub.execute_input": "2021-12-05T20:14:40.710307Z",
     "iopub.status.busy": "2021-12-05T20:14:40.709862Z",
     "iopub.status.idle": "2021-12-05T20:14:40.723136Z",
     "shell.execute_reply": "2021-12-05T20:14:40.720234Z",
     "shell.execute_reply.started": "2021-12-05T20:14:40.710276Z"
    },
    "tags": []
   },
   "outputs": [
    {
     "data": {
      "text/plain": [
       "dict_keys(['Children on the Seashore, Guernsey(French: Enfants au Bord de la Mer, Guernesey).jpeg', 'Luncheon of the Boating Party(French: Le déjeuner des canotiers).jpeg', 'Blonde Bather (1881)(French: La baigneuse blonde).jpeg', 'Two Sisters (On the Terrace)(French: Les deux sœurs (Sur la terrasse)).jpeg', 'Portrait of Charles and George Durand-Ruel(French: Portrait de Charles et George Durand-Ruel).jpeg', 'Woman Arranging her Hair(fr:Femme se coiffant).jpeg', \"Woman with Fan(French: Femme à l'éventail).jpeg\", 'Dance in the City(French: Danse dans la Ville).jpeg', 'Pink and Blue(Alice and Elisabeth Cahen d’Anvers).jpeg', 'Fruits of the Midi(French: Fruits du midi).jpeg', 'Still Life, Roses of Wargemont(French: Nature morte, Roses de Wargemont).jpeg', 'Young Girls in Black(French: Jeunes filles en noir).jpeg', 'By the Seashore(French: Femme Assise au Bord de la Mer).jpeg', 'A Young Girl with Daisies(French: Une jeune fille avec des marguerites).jpeg', 'Children on the Beach of Guernsey(French: Enfants sur la Plage de Guernesey).jpeg', 'In the Garden(French: Dans le jardin).jpeg', \"Mlle Irène Cahen d'Anvers.jpeg\", 'Girl with a Hoop(French: Fille avec un cerceau).jpeg', 'Algerian Woman.jpeg', \"Rocky Crags at L'Estaque.jpeg\", 'Young Woman with a Blue Ribbon(French: Jeune fille au ruban bleu).jpeg', 'Dance at Bougival(French: La Danse à Bougival).jpeg', 'Sunset in Douarnenez(French: Coucher de soleil à Douarnenez).jpeg', 'The Umbrellas(French: Les parapluies).jpeg', 'Fog at Guernsey(French: Brouillard à Guernesey).jpeg', 'The Daughters of Catulle Mendès.jpeg', 'Dance in the Country(French: Danse à la Campagne).jpeg', \"Venice, the Doge's Palace(French: Venise, le Palais des Doges).jpeg\", 'The Two Sisters(French: Les deux soeurs).jpeg', 'Nature morte: fleurs(Still Life: Flowers).jpeg', 'Garden Scene in Brittany(French: Scène de jardin en Bretagne).jpeg', 'Near the Lake(French: Près du lac).jpeg', \"Agenteuil Bridge in Autumn (French: Le Pont d'Argenteuil en automne).jpeg\", 'Naked Woman in a Landscape(French: Femme nue dans un paysage).jpeg', 'Girl with Spikes(French: Fille aux oreilles).jpeg', 'Blonde Bather (1882)(French: La baigneuse blonde).jpeg', \"Children's Afternoon at Wargemont (French: L'après-midi des enfants à Wargemont).jpeg\", 'Sleeping Girl(French: Fille endormie).jpeg', 'Steps in Algiers(French: Étapes à Alger).jpeg', 'Les grandes baigneuses(The Large Bathers).jpeg'])"
      ]
     },
     "execution_count": 257,
     "metadata": {},
     "output_type": "execute_result"
    }
   ],
   "source": [
    "d_decades['1880'].keys()"
   ]
  },
  {
   "cell_type": "code",
   "execution_count": 645,
   "id": "8238f618-4ec8-4d2d-beae-9881115dc164",
   "metadata": {
    "execution": {
     "iopub.execute_input": "2021-12-11T12:31:43.336609Z",
     "iopub.status.busy": "2021-12-11T12:31:43.336169Z",
     "iopub.status.idle": "2021-12-11T12:31:43.349086Z",
     "shell.execute_reply": "2021-12-11T12:31:43.347751Z",
     "shell.execute_reply.started": "2021-12-11T12:31:43.336564Z"
    },
    "tags": []
   },
   "outputs": [
    {
     "data": {
      "text/plain": [
       "[{'colour': [155, 129, 107], 'occupation': 0.07},\n",
       " {'colour': [56, 46, 71], 'occupation': 0.1},\n",
       " {'colour': [111, 106, 117], 'occupation': 0.1},\n",
       " {'colour': [211, 196, 177], 'occupation': 0.08},\n",
       " {'colour': [80, 61, 51], 'occupation': 0.1},\n",
       " {'colour': [116, 94, 71], 'occupation': 0.07},\n",
       " {'colour': [148, 145, 143], 'occupation': 0.1},\n",
       " {'colour': [37, 24, 35], 'occupation': 0.1},\n",
       " {'colour': [82, 75, 96], 'occupation': 0.15},\n",
       " {'colour': [186, 166, 148], 'occupation': 0.12}]"
      ]
     },
     "execution_count": 645,
     "metadata": {},
     "output_type": "execute_result"
    }
   ],
   "source": [
    "d_decades['1880']['Portrait of Charles and George Durand-Ruel(French: Portrait de Charles et George Durand-Ruel).jpeg']"
   ]
  },
  {
   "cell_type": "code",
   "execution_count": 210,
   "id": "4c1c4895-6c23-4c21-a811-53d99a3d0a44",
   "metadata": {
    "execution": {
     "iopub.execute_input": "2021-12-04T11:07:13.946149Z",
     "iopub.status.busy": "2021-12-04T11:07:13.945788Z",
     "iopub.status.idle": "2021-12-04T11:07:13.961137Z",
     "shell.execute_reply": "2021-12-04T11:07:13.959567Z",
     "shell.execute_reply.started": "2021-12-04T11:07:13.946115Z"
    },
    "tags": []
   },
   "outputs": [],
   "source": [
    "title = 'Girl Playing Croquet(French/ Fille jouant au croquet).jpeg'"
   ]
  },
  {
   "cell_type": "code",
   "execution_count": 245,
   "id": "ff2c0e9b-8966-4c62-81e5-e9da98ee53b1",
   "metadata": {
    "collapsed": true,
    "execution": {
     "iopub.execute_input": "2021-12-05T09:44:37.874503Z",
     "iopub.status.busy": "2021-12-05T09:44:37.873975Z",
     "iopub.status.idle": "2021-12-05T09:45:05.784635Z",
     "shell.execute_reply": "2021-12-05T09:45:05.781741Z",
     "shell.execute_reply.started": "2021-12-05T09:44:37.874445Z"
    },
    "jupyter": {
     "outputs_hidden": true
    },
    "tags": []
   },
   "outputs": [
    {
     "name": "stdout",
     "output_type": "stream",
     "text": [
      "1860\n",
      "1870\n",
      "1880\n",
      "1890\n",
      "Girl Playing Croquet(French: Fille jouant au croquet).jpeg\n"
     ]
    },
    {
     "data": {
      "text/plain": [
       "<Figure size 1440x1440 with 0 Axes>"
      ]
     },
     "execution_count": 245,
     "metadata": {},
     "output_type": "execute_result"
    },
    {
     "name": "stdout",
     "output_type": "stream",
     "text": [
      "{'colour': [155, 108, 45], 'occupation': 0.1}\n",
      "{'colour': [175, 114, 45], 'occupation': 0.09}\n",
      "{'colour': [155, 28, 33], 'occupation': 0.08}\n",
      "{'colour': [132, 25, 31], 'occupation': 0.08}\n",
      "{'colour': [190, 131, 56], 'occupation': 0.07}\n",
      "{'colour': [164, 122, 58], 'occupation': 0.06}\n",
      "{'colour': [152, 89, 38], 'occupation': 0.06}\n",
      "{'colour': [131, 92, 46], 'occupation': 0.06}\n",
      "{'colour': [167, 47, 37], 'occupation': 0.06}\n",
      "{'colour': [128, 68, 34], 'occupation': 0.05}\n",
      "{'colour': [108, 19, 25], 'occupation': 0.04}\n",
      "{'colour': [107, 77, 45], 'occupation': 0.04}\n",
      "{'colour': [96, 56, 33], 'occupation': 0.04}\n",
      "{'colour': [184, 66, 45], 'occupation': 0.04}\n",
      "{'colour': [202, 149, 76], 'occupation': 0.03}\n",
      "{'colour': [67, 30, 26], 'occupation': 0.03}\n",
      "{'colour': [136, 109, 62], 'occupation': 0.03}\n",
      "{'colour': [32, 12, 12], 'occupation': 0.02}\n",
      "{'colour': [205, 88, 64], 'occupation': 0.01}\n",
      "{'colour': [221, 181, 122], 'occupation': 0.0}\n",
      "Yvonne et Christine Lerolle au piano(Yvonne and Christine Lerolle at the Piano).jpeg\n"
     ]
    },
    {
     "data": {
      "text/plain": [
       "<Figure size 1440x1440 with 0 Axes>"
      ]
     },
     "execution_count": 245,
     "metadata": {},
     "output_type": "execute_result"
    },
    {
     "name": "stdout",
     "output_type": "stream",
     "text": [
      "{'colour': [16, 11, 18], 'occupation': 0.11}\n",
      "{'colour': [45, 31, 29], 'occupation': 0.08}\n",
      "{'colour': [177, 153, 75], 'occupation': 0.07}\n",
      "{'colour': [196, 173, 91], 'occupation': 0.07}\n",
      "{'colour': [75, 50, 40], 'occupation': 0.07}\n",
      "{'colour': [154, 133, 66], 'occupation': 0.06}\n",
      "{'colour': [132, 102, 57], 'occupation': 0.05}\n",
      "{'colour': [216, 82, 55], 'occupation': 0.04}\n",
      "{'colour': [185, 178, 148], 'occupation': 0.04}\n",
      "{'colour': [158, 149, 112], 'occupation': 0.04}\n",
      "{'colour': [221, 219, 195], 'occupation': 0.04}\n",
      "{'colour': [121, 57, 43], 'occupation': 0.04}\n",
      "{'colour': [217, 205, 161], 'occupation': 0.04}\n",
      "{'colour': [169, 67, 49], 'occupation': 0.04}\n",
      "{'colour': [230, 237, 233], 'occupation': 0.04}\n",
      "{'colour': [128, 123, 89], 'occupation': 0.04}\n",
      "{'colour': [98, 85, 57], 'occupation': 0.04}\n",
      "{'colour': [222, 186, 112], 'occupation': 0.03}\n",
      "{'colour': [185, 111, 64], 'occupation': 0.03}\n",
      "{'colour': [216, 140, 83], 'occupation': 0.03}\n",
      "In the Meadow(French: Dans le pré).jpeg\n"
     ]
    },
    {
     "data": {
      "text/plain": [
       "<Figure size 1440x1440 with 0 Axes>"
      ]
     },
     "execution_count": 245,
     "metadata": {},
     "output_type": "execute_result"
    },
    {
     "name": "stdout",
     "output_type": "stream",
     "text": [
      "{'colour': [76, 74, 85], 'occupation': 0.08}\n",
      "{'colour': [91, 94, 101], 'occupation': 0.08}\n",
      "{'colour': [203, 176, 136], 'occupation': 0.06}\n",
      "{'colour': [103, 114, 123], 'occupation': 0.06}\n",
      "{'colour': [129, 133, 132], 'occupation': 0.06}\n",
      "{'colour': [155, 136, 97], 'occupation': 0.06}\n",
      "{'colour': [121, 115, 97], 'occupation': 0.06}\n",
      "{'colour': [108, 89, 67], 'occupation': 0.05}\n",
      "{'colour': [170, 155, 130], 'occupation': 0.05}\n",
      "{'colour': [58, 54, 67], 'occupation': 0.05}\n",
      "{'colour': [177, 100, 84], 'occupation': 0.04}\n",
      "{'colour': [139, 114, 69], 'occupation': 0.04}\n",
      "{'colour': [51, 30, 37], 'occupation': 0.04}\n",
      "{'colour': [94, 55, 47], 'occupation': 0.04}\n",
      "{'colour': [147, 155, 160], 'occupation': 0.04}\n",
      "{'colour': [187, 159, 99], 'occupation': 0.04}\n",
      "{'colour': [215, 203, 175], 'occupation': 0.04}\n",
      "{'colour': [195, 129, 114], 'occupation': 0.04}\n",
      "{'colour': [180, 176, 170], 'occupation': 0.04}\n",
      "{'colour': [149, 68, 58], 'occupation': 0.03}\n",
      "Woman Playing a Guitar(French: Femme jouant de la guitare).jpeg\n"
     ]
    },
    {
     "data": {
      "text/plain": [
       "<Figure size 1440x1440 with 0 Axes>"
      ]
     },
     "execution_count": 245,
     "metadata": {},
     "output_type": "execute_result"
    },
    {
     "name": "stdout",
     "output_type": "stream",
     "text": [
      "{'colour': [20, 25, 18], 'occupation': 0.1}\n",
      "{'colour': [36, 41, 15], 'occupation': 0.08}\n",
      "{'colour': [125, 118, 95], 'occupation': 0.07}\n",
      "{'colour': [134, 133, 120], 'occupation': 0.06}\n",
      "{'colour': [133, 79, 25], 'occupation': 0.06}\n",
      "{'colour': [154, 154, 144], 'occupation': 0.05}\n",
      "{'colour': [140, 45, 8], 'occupation': 0.05}\n",
      "{'colour': [94, 81, 44], 'occupation': 0.05}\n",
      "{'colour': [66, 26, 12], 'occupation': 0.05}\n",
      "{'colour': [175, 60, 8], 'occupation': 0.05}\n",
      "{'colour': [102, 57, 17], 'occupation': 0.05}\n",
      "{'colour': [132, 100, 56], 'occupation': 0.05}\n",
      "{'colour': [170, 86, 42], 'occupation': 0.04}\n",
      "{'colour': [103, 99, 75], 'occupation': 0.04}\n",
      "{'colour': [44, 53, 39], 'occupation': 0.04}\n",
      "{'colour': [104, 24, 6], 'occupation': 0.04}\n",
      "{'colour': [66, 67, 15], 'occupation': 0.04}\n",
      "{'colour': [167, 111, 77], 'occupation': 0.03}\n",
      "{'colour': [167, 139, 111], 'occupation': 0.03}\n",
      "{'colour': [171, 177, 173], 'occupation': 0.02}\n",
      "Portrait of Victorine de Bellio (French: Portrait de Mademoiselle Victorine de Bellio).jpeg\n"
     ]
    },
    {
     "data": {
      "text/plain": [
       "<Figure size 1440x1440 with 0 Axes>"
      ]
     },
     "execution_count": 245,
     "metadata": {},
     "output_type": "execute_result"
    },
    {
     "name": "stdout",
     "output_type": "stream",
     "text": [
      "{'colour': [76, 43, 28], 'occupation': 0.08}\n",
      "{'colour': [42, 20, 10], 'occupation': 0.08}\n",
      "{'colour': [60, 31, 18], 'occupation': 0.08}\n",
      "{'colour': [59, 55, 52], 'occupation': 0.07}\n",
      "{'colour': [21, 12, 6], 'occupation': 0.07}\n",
      "{'colour': [96, 91, 82], 'occupation': 0.06}\n",
      "{'colour': [90, 61, 37], 'occupation': 0.06}\n",
      "{'colour': [80, 75, 67], 'occupation': 0.06}\n",
      "{'colour': [111, 70, 53], 'occupation': 0.05}\n",
      "{'colour': [113, 107, 97], 'occupation': 0.05}\n",
      "{'colour': [43, 38, 34], 'occupation': 0.05}\n",
      "{'colour': [152, 141, 130], 'occupation': 0.05}\n",
      "{'colour': [131, 86, 66], 'occupation': 0.04}\n",
      "{'colour': [97, 46, 43], 'occupation': 0.04}\n",
      "{'colour': [134, 126, 114], 'occupation': 0.04}\n",
      "{'colour': [148, 106, 82], 'occupation': 0.03}\n",
      "{'colour': [169, 132, 99], 'occupation': 0.02}\n",
      "{'colour': [200, 170, 147], 'occupation': 0.02}\n",
      "{'colour': [184, 153, 128], 'occupation': 0.02}\n",
      "{'colour': [238, 213, 181], 'occupation': 0.0}\n",
      "Gabrielle Renard and infant son, Jean(French: Gabrielle Renard et Jean enfant).jpeg\n"
     ]
    },
    {
     "data": {
      "text/plain": [
       "<Figure size 1440x1440 with 0 Axes>"
      ]
     },
     "execution_count": 245,
     "metadata": {},
     "output_type": "execute_result"
    },
    {
     "name": "stdout",
     "output_type": "stream",
     "text": [
      "{'colour': [198, 156, 107], 'occupation': 0.09}\n",
      "{'colour': [172, 149, 112], 'occupation': 0.08}\n",
      "{'colour': [115, 102, 61], 'occupation': 0.07}\n",
      "{'colour': [134, 116, 77], 'occupation': 0.07}\n",
      "{'colour': [183, 140, 91], 'occupation': 0.06}\n",
      "{'colour': [212, 170, 122], 'occupation': 0.06}\n",
      "{'colour': [155, 132, 95], 'occupation': 0.06}\n",
      "{'colour': [214, 185, 147], 'occupation': 0.06}\n",
      "{'colour': [187, 165, 134], 'occupation': 0.05}\n",
      "{'colour': [80, 80, 73], 'occupation': 0.05}\n",
      "{'colour': [228, 203, 164], 'occupation': 0.05}\n",
      "{'colour': [99, 85, 49], 'occupation': 0.05}\n",
      "{'colour': [98, 98, 91], 'occupation': 0.04}\n",
      "{'colour': [139, 101, 52], 'occupation': 0.04}\n",
      "{'colour': [164, 121, 70], 'occupation': 0.04}\n",
      "{'colour': [69, 62, 50], 'occupation': 0.04}\n",
      "{'colour': [244, 222, 185], 'occupation': 0.03}\n",
      "{'colour': [123, 120, 111], 'occupation': 0.02}\n",
      "{'colour': [44, 37, 27], 'occupation': 0.02}\n",
      "{'colour': [253, 243, 219], 'occupation': 0.02}\n",
      "Bathers Playing with a Crab(French: Baigneurs jouant avec un crabe).jpeg\n"
     ]
    },
    {
     "data": {
      "text/plain": [
       "<Figure size 1440x1440 with 0 Axes>"
      ]
     },
     "execution_count": 245,
     "metadata": {},
     "output_type": "execute_result"
    },
    {
     "name": "stdout",
     "output_type": "stream",
     "text": [
      "{'colour': [129, 108, 81], 'occupation': 0.1}\n",
      "{'colour': [142, 121, 95], 'occupation': 0.09}\n",
      "{'colour': [107, 100, 78], 'occupation': 0.08}\n",
      "{'colour': [158, 135, 109], 'occupation': 0.08}\n",
      "{'colour': [93, 85, 62], 'occupation': 0.08}\n",
      "{'colour': [132, 137, 134], 'occupation': 0.07}\n",
      "{'colour': [150, 157, 154], 'occupation': 0.06}\n",
      "{'colour': [120, 90, 62], 'occupation': 0.06}\n",
      "{'colour': [174, 151, 127], 'occupation': 0.05}\n",
      "{'colour': [112, 117, 110], 'occupation': 0.05}\n",
      "{'colour': [72, 71, 51], 'occupation': 0.05}\n",
      "{'colour': [114, 149, 159], 'occupation': 0.04}\n",
      "{'colour': [91, 131, 144], 'occupation': 0.04}\n",
      "{'colour': [98, 61, 35], 'occupation': 0.03}\n",
      "{'colour': [52, 42, 30], 'occupation': 0.03}\n",
      "{'colour': [73, 98, 101], 'occupation': 0.03}\n",
      "{'colour': [186, 173, 155], 'occupation': 0.03}\n",
      "{'colour': [27, 76, 92], 'occupation': 0.02}\n",
      "{'colour': [209, 202, 187], 'occupation': 0.01}\n",
      "{'colour': [151, 59, 35], 'occupation': 0.01}\n",
      "Girls at the Piano(French: Jeunes filles au piano).jpeg\n"
     ]
    },
    {
     "data": {
      "text/plain": [
       "<Figure size 1440x1440 with 0 Axes>"
      ]
     },
     "execution_count": 245,
     "metadata": {},
     "output_type": "execute_result"
    },
    {
     "name": "stdout",
     "output_type": "stream",
     "text": [
      "{'colour': [143, 120, 82], 'occupation': 0.08}\n",
      "{'colour': [132, 110, 75], 'occupation': 0.08}\n",
      "{'colour': [152, 130, 91], 'occupation': 0.07}\n",
      "{'colour': [121, 98, 69], 'occupation': 0.07}\n",
      "{'colour': [107, 85, 62], 'occupation': 0.06}\n",
      "{'colour': [130, 121, 95], 'occupation': 0.06}\n",
      "{'colour': [116, 110, 84], 'occupation': 0.06}\n",
      "{'colour': [144, 133, 109], 'occupation': 0.05}\n",
      "{'colour': [163, 142, 101], 'occupation': 0.05}\n",
      "{'colour': [91, 72, 53], 'occupation': 0.05}\n",
      "{'colour': [102, 97, 76], 'occupation': 0.05}\n",
      "{'colour': [159, 146, 121], 'occupation': 0.05}\n",
      "{'colour': [85, 82, 66], 'occupation': 0.04}\n",
      "{'colour': [172, 160, 136], 'occupation': 0.04}\n",
      "{'colour': [185, 174, 148], 'occupation': 0.04}\n",
      "{'colour': [74, 59, 47], 'occupation': 0.04}\n",
      "{'colour': [196, 189, 168], 'occupation': 0.03}\n",
      "{'colour': [177, 158, 116], 'occupation': 0.03}\n",
      "{'colour': [54, 40, 36], 'occupation': 0.02}\n",
      "{'colour': [212, 207, 190], 'occupation': 0.02}\n",
      "1900\n",
      "1910\n"
     ]
    },
    {
     "data": {
      "text/plain": [
       "<Figure size 1440x1440 with 0 Axes>"
      ]
     },
     "metadata": {},
     "output_type": "display_data"
    },
    {
     "data": {
      "image/png": "[encoded data removed]",
      "text/plain": [
       "<Figure size 432x288 with 20 Axes>"
      ]
     },
     "metadata": {
      "needs_background": "light"
     },
     "output_type": "display_data"
    },
    {
     "data": {
      "text/plain": [
       "<Figure size 1440x1440 with 0 Axes>"
      ]
     },
     "metadata": {},
     "output_type": "display_data"
    },
    {
     "data": {
      "image/png": "[encoded data removed]",
      "text/plain": [
       "<Figure size 432x288 with 20 Axes>"
      ]
     },
     "metadata": {
      "needs_background": "light"
     },
     "output_type": "display_data"
    },
    {
     "data": {
      "text/plain": [
       "<Figure size 1440x1440 with 0 Axes>"
      ]
     },
     "metadata": {},
     "output_type": "display_data"
    },
    {
     "data": {
      "image/png": "[encoded data removed]",
      "text/plain": [
       "<Figure size 432x288 with 20 Axes>"
      ]
     },
     "metadata": {
      "needs_background": "light"
     },
     "output_type": "display_data"
    },
    {
     "data": {
      "text/plain": [
       "<Figure size 1440x1440 with 0 Axes>"
      ]
     },
     "metadata": {},
     "output_type": "display_data"
    },
    {
     "data": {
      "image/png": "[encoded data removed]",
      "text/plain": [
       "<Figure size 432x288 with 20 Axes>"
      ]
     },
     "metadata": {
      "needs_background": "light"
     },
     "output_type": "display_data"
    },
    {
     "data": {
      "text/plain": [
       "<Figure size 1440x1440 with 0 Axes>"
      ]
     },
     "metadata": {},
     "output_type": "display_data"
    },
    {
     "data": {
      "image/png": "[encoded data removed]",
      "text/plain": [
       "<Figure size 432x288 with 20 Axes>"
      ]
     },
     "metadata": {
      "needs_background": "light"
     },
     "output_type": "display_data"
    },
    {
     "data": {
      "text/plain": [
       "<Figure size 1440x1440 with 0 Axes>"
      ]
     },
     "metadata": {},
     "output_type": "display_data"
    },
    {
     "data": {
      "image/png": "[encoded data removed]",
      "text/plain": [
       "<Figure size 432x288 with 20 Axes>"
      ]
     },
     "metadata": {
      "needs_background": "light"
     },
     "output_type": "display_data"
    },
    {
     "data": {
      "text/plain": [
       "<Figure size 1440x1440 with 0 Axes>"
      ]
     },
     "metadata": {},
     "output_type": "display_data"
    },
    {
     "data": {
      "image/png": "[encoded data removed]",
      "text/plain": [
       "<Figure size 432x288 with 20 Axes>"
      ]
     },
     "metadata": {
      "needs_background": "light"
     },
     "output_type": "display_data"
    },
    {
     "data": {
      "text/plain": [
       "<Figure size 1440x1440 with 0 Axes>"
      ]
     },
     "metadata": {},
     "output_type": "display_data"
    },
    {
     "data": {
      "image/png": "[encoded data removed]",
      "text/plain": [
       "<Figure size 432x288 with 20 Axes>"
      ]
     },
     "metadata": {
      "needs_background": "light"
     },
     "output_type": "display_data"
    }
   ],
   "source": [
    "# spit a jpeg for each decade with the kmeans colours of each title\n",
    "for decade in d_decades:\n",
    "    print(decade)\n",
    "    for title in d_decades[decade]:\n",
    "        print(title)\n",
    "        plt.figure(figsize=(20,20))\n",
    "\n",
    "        fig, axs = plt.subplots(1, 20)\n",
    "\n",
    "        l_ = d_decades[decade][title]    # list of dicts for the title\n",
    "        # sort by occupation down\n",
    "        l_ = sorted(l_, key=lambda d: d['occupation'],reverse=True)\n",
    "        for i in range(20):\n",
    "            print(l_[i])\n",
    "            _ = axs[i].imshow(np.full((1,1,3), l_[i]['colour']));\n",
    "\n",
    "        plt.savefig('colours_20_' + decade + '/' + title.split('.')[0] + '_colours.jpeg')"
   ]
  },
  {
   "cell_type": "code",
   "execution_count": 255,
   "id": "55b442ca-4bfb-4c76-86b1-6b811af12dd0",
   "metadata": {
    "execution": {
     "iopub.execute_input": "2021-12-05T20:13:25.049115Z",
     "iopub.status.busy": "2021-12-05T20:13:25.048788Z",
     "iopub.status.idle": "2021-12-05T20:13:25.058327Z",
     "shell.execute_reply": "2021-12-05T20:13:25.056996Z",
     "shell.execute_reply.started": "2021-12-05T20:13:25.049087Z"
    },
    "tags": []
   },
   "outputs": [
    {
     "data": {
      "text/plain": [
       "{}"
      ]
     },
     "execution_count": 255,
     "metadata": {},
     "output_type": "execute_result"
    }
   ],
   "source": [
    "d_decades['1880']"
   ]
  },
  {
   "cell_type": "code",
   "execution_count": 236,
   "id": "6cad72ab-9996-4cec-9958-762ca613d4e3",
   "metadata": {
    "execution": {
     "iopub.execute_input": "2021-12-04T22:00:42.262342Z",
     "iopub.status.busy": "2021-12-04T22:00:42.261836Z",
     "iopub.status.idle": "2021-12-04T22:00:42.274558Z",
     "shell.execute_reply": "2021-12-04T22:00:42.272488Z",
     "shell.execute_reply.started": "2021-12-04T22:00:42.262291Z"
    },
    "tags": []
   },
   "outputs": [
    {
     "data": {
      "text/plain": [
       "array([[11.6244039 ,  3.46713   , 16.83682015, 12.09934398, 15.17727766,\n",
       "         0.51378802,  5.48534208, 16.31473254,  4.64972173,  3.27978638],\n",
       "       [11.13847276, 16.93084413, 10.2415551 ,  2.23732427, 18.32590588,\n",
       "        19.70538719,  4.75854738, 19.99413943,  2.16818373,  7.94997806],\n",
       "       [ 2.35217326,  1.4025226 , 10.38568409,  5.17951055, 19.07901182,\n",
       "        19.3233866 , 15.35105277, 16.64708453,  9.30843768, 12.43859931],\n",
       "       [ 2.09187632,  0.92849605, 12.71162729, 13.12438397,  8.86263144,\n",
       "         4.13323628,  8.7258948 , 19.94850572,  1.81651024,  7.88690222],\n",
       "       [16.38567633,  4.61187408, 13.25967103,  0.44797796,  9.35938552,\n",
       "         4.05065992, 15.1219138 ,  8.09832066,  6.11309954,  4.19947296],\n",
       "       [12.40112782, 17.60086695,  9.09412138,  3.78351877, 15.62723381,\n",
       "         4.61828838, 19.60987579,  0.51049105,  3.78644878, 12.09224788],\n",
       "       [13.85071606, 16.29293354, 13.94802504,  5.45241954, 11.770041  ,\n",
       "        14.1673583 ,  0.77303087, 10.15850093,  9.37307904, 12.48343575],\n",
       "       [11.72114875, 12.40834133,  0.94161573, 11.71251292,  3.89980099,\n",
       "        17.0019604 ,  8.5476234 , 14.02816804, 17.19099755,  0.55880696],\n",
       "       [ 3.08313415, 10.28638737, 12.03207331,  4.17224296,  8.37425928,\n",
       "        17.31358511, 11.41119648,  7.69888917,  1.60897153, 17.2944261 ],\n",
       "       [11.23793499,  0.27518011, 16.89730203, 16.72919451, 13.12998443,\n",
       "         8.16424519,  7.58844289, 18.68723522, 19.25005059, 18.23975557]])"
      ]
     },
     "execution_count": 236,
     "metadata": {},
     "output_type": "execute_result"
    }
   ],
   "source": [
    "data"
   ]
  },
  {
   "cell_type": "code",
   "execution_count": 251,
   "id": "9548f1be-de97-4231-abfa-f2643c518a68",
   "metadata": {
    "execution": {
     "iopub.execute_input": "2021-12-05T20:12:42.829035Z",
     "iopub.status.busy": "2021-12-05T20:12:42.828666Z",
     "iopub.status.idle": "2021-12-05T20:12:42.836784Z",
     "shell.execute_reply": "2021-12-05T20:12:42.833512Z",
     "shell.execute_reply.started": "2021-12-05T20:12:42.829002Z"
    },
    "tags": []
   },
   "outputs": [],
   "source": [
    "# data = np.random.rand(10, 10) * 20\n",
    "\n",
    "# # create discrete colormap\n",
    "# cmap = colors.ListedColormap(['red', 'blue'])\n",
    "# bounds = [0,10,20]\n",
    "# norm = colors.BoundaryNorm(bounds, cmap.N)\n",
    "\n",
    "# fig, ax = plt.subplots()\n",
    "# ax.imshow(data, cmap=cmap, norm=norm);\n",
    "\n",
    "# # draw gridlines\n",
    "# ax.grid(which='major', axis='both', linestyle='-', color='k', linewidth=2)\n",
    "# ax.set_xticks(np.arange(-.5, 10, 1));\n",
    "# ax.set_yticks(np.arange(-.5, 10, 1));\n",
    "\n",
    "# plt.show()"
   ]
  },
  {
   "cell_type": "markdown",
   "id": "beb5458c-dc60-4bb4-a78b-53aac6253784",
   "metadata": {},
   "source": [
    "## Other method: compare image to some palettes?\n",
    "\n",
    "### Renoir's palette\n",
    "\n",
    "What was Renoir's standard palette is info I got from [here](https://www.jacksonsart.com/blog/2014/08/12/colours-used-sargent-renoir/) and [here](https://webartacademy.com/renoirs-palette) (taken from this one really). \n",
    "\n",
    "The k-means methos is too coarse, gives us colours that are too similar painting by painting. Instead, what about we measure how much each painting is using of his palette.\n",
    "\n",
    "The RGB of these colours have been chosen with a quick google search.\n",
    "\n",
    "#### Some interesting videos about these colours:\n",
    "* [flake white](https://www.youtube.com/watch?v=vx6BI3Fqr6U)\n",
    "\n",
    "This won't do - too subjective, there's no green, plus it's his, so it is derived from his own paintings, hence circular reasoning\n",
    "\n",
    "### A standard palette?\n",
    "\n",
    "\n",
    "### Saturated colours + "
   ]
  },
  {
   "cell_type": "markdown",
   "id": "7c711bce-1ca3-4f28-a9d7-516f713ccd08",
   "metadata": {},
   "source": [
    "### Renoir's palette colours"
   ]
  },
  {
   "cell_type": "code",
   "execution_count": 223,
   "id": "57aa881d-fdec-4090-922c-40e3ac197714",
   "metadata": {
    "execution": {
     "iopub.execute_input": "2021-12-04T16:48:44.340334Z",
     "iopub.status.busy": "2021-12-04T16:48:44.339765Z",
     "iopub.status.idle": "2021-12-04T16:48:45.380028Z",
     "shell.execute_reply": "2021-12-04T16:48:45.378284Z",
     "shell.execute_reply.started": "2021-12-04T16:48:44.340283Z"
    },
    "tags": []
   },
   "outputs": [
    {
     "data": {
      "text/plain": [
       "<Figure size 720x720 with 0 Axes>"
      ]
     },
     "execution_count": 223,
     "metadata": {},
     "output_type": "execute_result"
    },
    {
     "name": "stdout",
     "output_type": "stream",
     "text": [
      "[236, 236, 236]\n",
      "[250, 218, 94]\n",
      "[255, 87, 51]\n",
      "[35, 31, 32]\n",
      "[128, 96, 67]\n",
      "[245, 197, 44]\n",
      "[247, 74, 70]\n",
      "[200, 8, 21]\n",
      "[0, 71, 171]\n",
      "[184, 78, 112]\n"
     ]
    },
    {
     "data": {
      "text/plain": [
       "<Figure size 720x720 with 0 Axes>"
      ]
     },
     "metadata": {},
     "output_type": "display_data"
    },
    {
     "data": {
      "image/png": "[encoded data removed]",
      "text/plain": [
       "<Figure size 432x288 with 10 Axes>"
      ]
     },
     "metadata": {
      "needs_background": "light"
     },
     "output_type": "display_data"
    }
   ],
   "source": [
    "# renoir's palette\n",
    "d_r_palette = {\n",
    "    'flake_white':[236, 236, 236],\n",
    "    'naples_yellow':[250 ,218, 94],\n",
    "    'viridian':[255, 87, 51],\n",
    "    'ivory_black':[35, 31, 32],\n",
    "    'natural_earth':[128, 96, 67],\n",
    "    'yellow_ochre':[245,197,44],\n",
    "    'carmine':[247, 74, 70], # cannot find superfine carmine\n",
    "    'venetian_red':[200, 8, 21],\n",
    "    'cobalt_blue':[0, 71, 171],\n",
    "    'lake_red':[184, 78, 112]\n",
    "}\n",
    "\n",
    "plt.figure(figsize=(10,10))\n",
    "\n",
    "fig, axs = plt.subplots(1, 10)\n",
    "\n",
    "l_ = list(d_r_palette.values())   # list of dicts for the title\n",
    "\n",
    "for i in range(10):\n",
    "    print(l_[i])\n",
    "    _ = axs[i].imshow(np.full((1,1,3), l_[i]));"
   ]
  },
  {
   "cell_type": "code",
   "execution_count": 249,
   "id": "532e6a5a-7639-4020-ba01-bb866e5c333f",
   "metadata": {
    "execution": {
     "iopub.execute_input": "2021-12-05T20:01:59.253910Z",
     "iopub.status.busy": "2021-12-05T20:01:59.253570Z",
     "iopub.status.idle": "2021-12-05T20:01:59.539004Z",
     "shell.execute_reply": "2021-12-05T20:01:59.537319Z",
     "shell.execute_reply.started": "2021-12-05T20:01:59.253881Z"
    },
    "tags": []
   },
   "outputs": [
    {
     "data": {
      "text/plain": [
       "<matplotlib.image.AxesImage at 0x153c5bac0>"
      ]
     },
     "execution_count": 249,
     "metadata": {},
     "output_type": "execute_result"
    },
    {
     "data": {
      "image/png": "[encoded data removed]",
      "text/plain": [
       "<Figure size 432x288 with 1 Axes>"
      ]
     },
     "metadata": {
      "needs_background": "light"
     },
     "output_type": "display_data"
    }
   ],
   "source": [
    "img = io.imread('renoir_1880/The Two Sisters(French: Les deux soeurs).jpeg')\n",
    "\n",
    "plt.imshow(img)"
   ]
  },
  {
   "cell_type": "code",
   "execution_count": 260,
   "id": "55a51cf3-ec5c-4466-b81b-0544dc57f64f",
   "metadata": {
    "execution": {
     "iopub.execute_input": "2021-12-05T20:28:28.915416Z",
     "iopub.status.busy": "2021-12-05T20:28:28.914947Z",
     "iopub.status.idle": "2021-12-05T20:28:28.922465Z",
     "shell.execute_reply": "2021-12-05T20:28:28.920439Z",
     "shell.execute_reply.started": "2021-12-05T20:28:28.915381Z"
    },
    "tags": []
   },
   "outputs": [],
   "source": [
    "# for row in img:\n",
    "#     print(row)"
   ]
  },
  {
   "cell_type": "markdown",
   "id": "cdf50630-d6a0-4c85-ad16-6afb886eab7a",
   "metadata": {},
   "source": [
    "## Trying image segmentation\n",
    "\n",
    "with proper techniques, using this [lib](https://pypi.org/project/colour-segmentation/)"
   ]
  },
  {
   "cell_type": "code",
   "execution_count": 261,
   "id": "9c86cf0c-6e12-47a6-9c1a-90d3628d4b88",
   "metadata": {
    "execution": {
     "iopub.execute_input": "2021-12-05T20:29:30.246733Z",
     "iopub.status.busy": "2021-12-05T20:29:30.245991Z",
     "iopub.status.idle": "2021-12-05T20:29:30.287267Z",
     "shell.execute_reply": "2021-12-05T20:29:30.286075Z",
     "shell.execute_reply.started": "2021-12-05T20:29:30.246686Z"
    }
   },
   "outputs": [],
   "source": []
  },
  {
   "cell_type": "code",
   "execution_count": 518,
   "id": "a38678ee-06c0-47db-98fe-280a39e1d5b5",
   "metadata": {
    "execution": {
     "iopub.execute_input": "2021-12-09T18:30:14.051124Z",
     "iopub.status.busy": "2021-12-09T18:30:14.050378Z",
     "iopub.status.idle": "2021-12-09T18:30:14.423090Z",
     "shell.execute_reply": "2021-12-09T18:30:14.422131Z",
     "shell.execute_reply.started": "2021-12-09T18:30:14.051070Z"
    },
    "tags": []
   },
   "outputs": [],
   "source": [
    "img = cv2.imread(\"renoir_1910/Portrait of Ambroise Vollard.jpeg\")   # the lib is designed to work with OpenCV, so reading BGR\n",
    "img = cv2.resize(img, (0,0), fx=0.2, fy=0.2)    # for speed\n",
    "\n",
    "segmentator = Segmentator(image=img)"
   ]
  },
  {
   "cell_type": "code",
   "execution_count": 519,
   "id": "2077c141-cd3b-4ab4-8f23-1f6697cbf2ce",
   "metadata": {
    "execution": {
     "iopub.execute_input": "2021-12-09T18:30:14.426467Z",
     "iopub.status.busy": "2021-12-09T18:30:14.425537Z",
     "iopub.status.idle": "2021-12-09T18:30:16.834643Z",
     "shell.execute_reply": "2021-12-09T18:30:16.833673Z",
     "shell.execute_reply.started": "2021-12-09T18:30:14.426404Z"
    },
    "tags": []
   },
   "outputs": [],
   "source": [
    "# result_liu = segmentator.segment(method=SegmentationAlgorithm.FUZZY_SET_LIU,\n",
    "#                                  apply_colour_correction=False,\n",
    "#                                  remove_achromatic_colours=True)\n",
    "\n",
    "result_amante_fonseca_achr = segmentator.segment(method=SegmentationAlgorithm.FUZZY_SET_CHAMORRO,\n",
    "                                                 remove_achromatic_colours=False)"
   ]
  },
  {
   "cell_type": "code",
   "execution_count": 520,
   "id": "8b932be8-dae1-4199-b7f5-98941103180c",
   "metadata": {
    "execution": {
     "iopub.execute_input": "2021-12-09T18:30:16.838769Z",
     "iopub.status.busy": "2021-12-09T18:30:16.838009Z",
     "iopub.status.idle": "2021-12-09T18:30:16.966308Z",
     "shell.execute_reply": "2021-12-09T18:30:16.965174Z",
     "shell.execute_reply.started": "2021-12-09T18:30:16.838728Z"
    },
    "tags": []
   },
   "outputs": [
    {
     "data": {
      "text/plain": [
       "11"
      ]
     },
     "execution_count": 520,
     "metadata": {},
     "output_type": "execute_result"
    },
    {
     "data": {
      "text/plain": [
       "1.0000000000000002"
      ]
     },
     "execution_count": 520,
     "metadata": {},
     "output_type": "execute_result"
    },
    {
     "data": {
      "text/plain": [
       "[0.008841423774104313,\n",
       " 0.9111620733407759,\n",
       " 0.050192565492443095,\n",
       " 0.010076622683721828,\n",
       " 0.006167027586856228,\n",
       " 0.0030756677023506887,\n",
       " 0.0009729152936007281,\n",
       " 0.0006501046892723759,\n",
       " 0.004131527387341341,\n",
       " 0.0025824848346268177,\n",
       " 0.0005761272591137953,\n",
       " 0.0015714599557928811]"
      ]
     },
     "execution_count": 520,
     "metadata": {},
     "output_type": "execute_result"
    },
    {
     "data": {
      "text/plain": [
       "0.9111620733407759"
      ]
     },
     "execution_count": 520,
     "metadata": {},
     "output_type": "execute_result"
    }
   ],
   "source": [
    "result_amante_fonseca_achr.segmented_classes.max()\n",
    "sum([result_amante_fonseca_achr.get_colour_proportion(i) for i in range(len(colours_cm))])\n",
    "[result_amante_fonseca_achr.get_colour_proportion(i) for i in range(len(colours_cm))]\n",
    "result_amante_fonseca_achr.get_colour_proportion(1)"
   ]
  },
  {
   "cell_type": "code",
   "execution_count": 521,
   "id": "eb931139-d59f-4b07-8787-6bdcf96596a5",
   "metadata": {
    "execution": {
     "iopub.execute_input": "2021-12-09T18:30:16.969656Z",
     "iopub.status.busy": "2021-12-09T18:30:16.968895Z",
     "iopub.status.idle": "2021-12-09T18:30:17.299422Z",
     "shell.execute_reply": "2021-12-09T18:30:17.298411Z",
     "shell.execute_reply.started": "2021-12-09T18:30:16.969599Z"
    },
    "tags": []
   },
   "outputs": [
    {
     "data": {
      "text/plain": [
       "<matplotlib.image.AxesImage at 0x15389fb20>"
      ]
     },
     "execution_count": 521,
     "metadata": {},
     "output_type": "execute_result"
    },
    {
     "data": {
      "image/png": "[encoded data removed]",
      "text/plain": [
       "<Figure size 432x288 with 1 Axes>"
      ]
     },
     "metadata": {
      "needs_background": "light"
     },
     "output_type": "display_data"
    }
   ],
   "source": [
    "plt.imshow(cv2.cvtColor(result_amante_fonseca_achr.segmented_image, cv2.COLOR_BGR2RGB))"
   ]
  },
  {
   "cell_type": "markdown",
   "id": "f019a006-a161-489c-9ebc-d4cc1ec80b6c",
   "metadata": {},
   "source": [
    "### Systematically and with all methods\n",
    "\n",
    "Each method uses a different set of colours. The colours for each method are taken from the lib docs [here](https://mmunar97.gitbook.io/colour-segmentation/examples/examples-of-fuzzy-logic-based-methods)\n",
    "\n",
    "We'll be useing each method with the flag that removes the achromatic colours (white, black, grey)."
   ]
  },
  {
   "cell_type": "code",
   "execution_count": 329,
   "id": "67d16d31-d72a-4a43-87d5-0fdc6a141c58",
   "metadata": {
    "execution": {
     "iopub.execute_input": "2021-12-05T22:05:03.392261Z",
     "iopub.status.busy": "2021-12-05T22:05:03.391755Z",
     "iopub.status.idle": "2021-12-05T22:05:03.407065Z",
     "shell.execute_reply": "2021-12-05T22:05:03.405177Z",
     "shell.execute_reply.started": "2021-12-05T22:05:03.392196Z"
    },
    "tags": []
   },
   "outputs": [],
   "source": [
    "# Amante-Fonseca\n",
    "colours_af = {\n",
    "    0: [255, 33, 36],     # red\n",
    "    1: [170, 121, 66],    # brown\n",
    "    2: [255, 146, 0],      # orange\n",
    "    3: [255, 251, 0],       # yellow\n",
    "    4: [0, 255, 0],          # green\n",
    "    5: [0, 253, 255],       # cyan\n",
    "    6: [0, 0, 255],        # blue\n",
    "    7: [147, 33, 146],     # purple\n",
    "    8: [255, 64, 255]      # pink\n",
    "}\n",
    "\n",
    "# Chamorro - Martinez\n",
    "colours_cm = {\n",
    "    0: [255, 33, 36],     # red\n",
    "    1: [255, 148, 9],      # orange\n",
    "    2: [255, 255, 13],      # yellow\n",
    "    3: [186, 255, 15],      # yellow-green\n",
    "    4: [6, 155, 9],        # green\n",
    "    5: [12, 255, 116],      # green-cyan\n",
    "    6: [11, 254, 255],       # cyan\n",
    "    7: [8, 192, 255],        # cyan-blue\n",
    "    8: [0, 0, 255],         # blue\n",
    "    9: [92, 8, 253],         # blue-magenta\n",
    "    10: [238, 3, 249],       # magenta\n",
    "    11: [254, 6, 180]        # magenta-red\n",
    "}\n",
    "\n",
    "# Liu-Wang\n",
    "colours_lw = {\n",
    "    0: [255, 33, 36],       # red\n",
    "    1: [248, 149, 29],       #orange\n",
    "    2: [239, 233, 17],       # yellow\n",
    "    3: [105, 189, 69],        # green\n",
    "    4: [111, 204, 221],       # cyan\n",
    "    5: [59, 83, 164],          # blue\n",
    "    6: [158, 80, 159]        # purple\n",
    "}\n",
    "\n",
    "# Shamir\n",
    "colours_s = {\n",
    "    0: [255, 33, 36],       # red\n",
    "    1: [255, 140, 0],       # dark orange\n",
    "    2: [255, 165, 0],        # light orange\n",
    "    3: [255, 255, 0],        # yellow\n",
    "    4: [144, 238, 144],      # light green\n",
    "    5: [0, 100, 0],          # dark green\n",
    "    6: [0, 255, 255],        # aqua\n",
    "    7: [0, 0, 255],          # blue\n",
    "    8: [128, 0, 128],        # dark purple\n",
    "    9: [255, 0, 255]         # light purple\n",
    "}"
   ]
  },
  {
   "cell_type": "code",
   "execution_count": 367,
   "id": "bee39ab3-5b6a-4f21-8814-bbb7235ac3cf",
   "metadata": {
    "execution": {
     "iopub.execute_input": "2021-12-06T21:18:31.709595Z",
     "iopub.status.busy": "2021-12-06T21:18:31.709127Z",
     "iopub.status.idle": "2021-12-06T21:32:20.660527Z",
     "shell.execute_reply": "2021-12-06T21:32:20.659609Z",
     "shell.execute_reply.started": "2021-12-06T21:18:31.709554Z"
    },
    "tags": []
   },
   "outputs": [
    {
     "name": "stdout",
     "output_type": "stream",
     "text": [
      "1860\n",
      "1870\n",
      "1880\n",
      "1890\n",
      "1900\n",
      "1910\n"
     ]
    }
   ],
   "source": [
    "# run the same logic as in the example above on all imgs, save occupation to file\n",
    "# run all segmentor\n",
    "\n",
    "decades = ['1860', '1870', '1880', '1890', '1900', '1910']\n",
    "\n",
    "d_af = {decade: {} for decade in decades}\n",
    "d_cm = {decade: {} for decade in decades}\n",
    "d_lw = {decade: {} for decade in decades}\n",
    "d_s = {decade: {} for decade in decades}\n",
    "\n",
    "for decade in decades:\n",
    "    print(decade)\n",
    "    for filename in os.listdir('renoir_{decade}'.format(decade=decade)):\n",
    "        #print(filename)\n",
    "        try:\n",
    "        \n",
    "            img = cv2.imread(\"renoir_{decade}/{filename}\".format(decade=decade, filename=filename))  \n",
    "\n",
    "            # resize for speed\n",
    "            img = cv2.resize(img, (0,0), fx=0.2, fy=0.2) \n",
    "\n",
    "            d_af[decade][filename] = {}\n",
    "            d_cm[decade][filename] = {}\n",
    "            d_lw[decade][filename] = {}\n",
    "            d_s[decade][filename] = {}\n",
    "\n",
    "            # Amante-Fonseca\n",
    "            segmentator = Segmentator(image=img)\n",
    "            result_af = segmentator.segment(method=SegmentationAlgorithm.FUZZY_SET_AMANTE,\n",
    "                                            remove_achromatic_colours=False)   # I tried True but gives not-normalised values (sum if occupations isn't 1)\n",
    "            for k in colours_af:\n",
    "                d_af[decade][filename][k] = result_af.get_colour_proportion(k)\n",
    "\n",
    "            # Chamorro-Martinez\n",
    "            segmentator = Segmentator(image=img)\n",
    "            result_cm = segmentator.segment(method=SegmentationAlgorithm.FUZZY_SET_CHAMORRO,\n",
    "                                            remove_achromatic_colours=False)\n",
    "            for k in colours_cm:\n",
    "                d_cm[decade][filename][k] = result_cm.get_colour_proportion(k)\n",
    "\n",
    "            # Liu-Wang\n",
    "            segmentator = Segmentator(image=img)\n",
    "            result_lw = segmentator.segment(method=SegmentationAlgorithm.FUZZY_SET_LIU,\n",
    "                                            apply_colour_correction=False,\n",
    "                                            remove_achromatic_colours=False)\n",
    "            for k in colours_lw:\n",
    "                d_lw[decade][filename][k] = result_lw.get_colour_proportion(k)\n",
    "\n",
    "            # Shamir\n",
    "            segmentator = Segmentator(image=img)\n",
    "            result_s = segmentator.segment(method=SegmentationAlgorithm.FUZZY_SET_SHAMIR, \n",
    "                                           remove_achromatic_colours=False)\n",
    "            for k in colours_s:\n",
    "                d_s[decade][filename][k] = result_s.get_colour_proportion(k)\n",
    "                \n",
    "        except:\n",
    "            pass"
   ]
  },
  {
   "cell_type": "code",
   "execution_count": 368,
   "id": "9eea9452-c035-4356-a722-a49bd674a97d",
   "metadata": {
    "execution": {
     "iopub.execute_input": "2021-12-06T21:36:48.458461Z",
     "iopub.status.busy": "2021-12-06T21:36:48.458008Z",
     "iopub.status.idle": "2021-12-06T21:36:48.475636Z",
     "shell.execute_reply": "2021-12-06T21:36:48.474134Z",
     "shell.execute_reply.started": "2021-12-06T21:36:48.458426Z"
    },
    "tags": []
   },
   "outputs": [
    {
     "data": {
      "text/plain": [
       "1.0"
      ]
     },
     "execution_count": 368,
     "metadata": {},
     "output_type": "execute_result"
    }
   ],
   "source": [
    "sum(d_af['1860']['Chalands sur la Seine (Barges on the Seine).jpeg'].values())"
   ]
  },
  {
   "cell_type": "code",
   "execution_count": 378,
   "id": "5dde0541-15fa-4319-90df-4f066ebee302",
   "metadata": {
    "execution": {
     "iopub.execute_input": "2021-12-06T21:38:39.018125Z",
     "iopub.status.busy": "2021-12-06T21:38:39.017352Z",
     "iopub.status.idle": "2021-12-06T21:38:39.025131Z",
     "shell.execute_reply": "2021-12-06T21:38:39.023317Z",
     "shell.execute_reply.started": "2021-12-06T21:38:39.018068Z"
    },
    "tags": []
   },
   "outputs": [],
   "source": [
    "# d_lw['1880'].keys()\n",
    "# sum(d_s['1880']['Blonde Bather (1881)(French: La baigneuse blonde).jpeg'].values())"
   ]
  },
  {
   "cell_type": "code",
   "execution_count": 400,
   "id": "ce2af20d-d744-414a-88d4-8a3370a979f5",
   "metadata": {
    "execution": {
     "iopub.execute_input": "2021-12-09T08:19:17.025186Z",
     "iopub.status.busy": "2021-12-09T08:19:17.023996Z",
     "iopub.status.idle": "2021-12-09T08:19:17.065596Z",
     "shell.execute_reply": "2021-12-09T08:19:17.061938Z",
     "shell.execute_reply.started": "2021-12-09T08:19:17.025044Z"
    },
    "tags": []
   },
   "outputs": [
    {
     "data": {
      "text/plain": [
       "17"
      ]
     },
     "execution_count": 400,
     "metadata": {},
     "output_type": "execute_result"
    }
   ],
   "source": [
    "len(d_af['1910'])"
   ]
  },
  {
   "cell_type": "markdown",
   "id": "f3d23eb2-698c-491b-b926-7af10994d4ac",
   "metadata": {},
   "source": [
    "## Round up occupations\n",
    "\n",
    "To 2 decimal digits - this is for ease of eye-balling"
   ]
  },
  {
   "cell_type": "code",
   "execution_count": 539,
   "id": "65746634-132d-421b-a641-516759e1c51d",
   "metadata": {
    "execution": {
     "iopub.execute_input": "2021-12-09T20:43:05.711577Z",
     "iopub.status.busy": "2021-12-09T20:43:05.711240Z",
     "iopub.status.idle": "2021-12-09T20:43:05.727125Z",
     "shell.execute_reply": "2021-12-09T20:43:05.725493Z",
     "shell.execute_reply.started": "2021-12-09T20:43:05.711547Z"
    },
    "tags": []
   },
   "outputs": [],
   "source": [
    "for decade in decades:\n",
    "    for title in d_cm[decade]:\n",
    "        for k in d_cm[decade][title]:\n",
    "            d_cm[decade][title][k] = round(d_cm[decade][title][k], 2)"
   ]
  },
  {
   "cell_type": "markdown",
   "id": "72de1179-c8d7-48b3-aa81-fbdc6c3e3a8e",
   "metadata": {},
   "source": [
    "## Look at aggregated measures from this data"
   ]
  },
  {
   "cell_type": "code",
   "execution_count": 540,
   "id": "43353193-bc1a-4efe-88d9-df8122b687df",
   "metadata": {
    "execution": {
     "iopub.execute_input": "2021-12-09T20:43:07.937096Z",
     "iopub.status.busy": "2021-12-09T20:43:07.936329Z",
     "iopub.status.idle": "2021-12-09T20:43:07.967409Z",
     "shell.execute_reply": "2021-12-09T20:43:07.961525Z",
     "shell.execute_reply.started": "2021-12-09T20:43:07.937049Z"
    },
    "tags": []
   },
   "outputs": [
    {
     "name": "stdout",
     "output_type": "stream",
     "text": [
      "1860\n",
      "0 0.0634104970854697 0.045643155476797044\n",
      "1 0.2203091453256199 0.13655744576930923\n",
      "2 0.22504710121346722 0.12452302898469243\n",
      "3 0.28506239807738043 0.14675633114614653\n",
      "4 0.08169157384387649 0.09961879041085224\n",
      "5 0.06167902817750956 0.06788293858009567\n",
      "6 0.05144141528602256 0.06803751837117519\n",
      "7 0.002410715223280053 0.004449614712667329\n",
      "8 0.008948125767374134 0.016782520751405527\n",
      "\n",
      " 1870\n",
      "0 0.10223865401920121 0.10339626147983692\n",
      "1 0.20263798966314672 0.1597122541996284\n",
      "2 0.19587130758047697 0.14045625750058965\n",
      "3 0.2083128992115915 0.18102323552697563\n",
      "4 0.058070517373781334 0.0696931085204223\n",
      "5 0.09435033252837606 0.1288158849744504\n",
      "6 0.11404654819329858 0.13689596420667224\n",
      "7 0.009951926001708673 0.013256406049127357\n",
      "8 0.014519825428418948 0.017186140257893306\n"
     ]
    }
   ],
   "source": [
    "# eye-ball means of colours by decade for one of the colour methods\n",
    "\n",
    "decade = '1860'\n",
    "print(decade)\n",
    "for k in colours_af:\n",
    "    print(k, np.mean([d_af[decade][title][k] for title in d_af[decade]]), \n",
    "          np.std([d_af[decade][title][k] for title in d_af[decade]]))\n",
    "\n",
    "decade = '1870'\n",
    "print('\\n', decade)\n",
    "for k in colours_af:\n",
    "    print(k, np.mean([d_af[decade][title][k] for title in d_af[decade]]), \n",
    "          np.std([d_af[decade][title][k] for title in d_af[decade]]))\n",
    "\n"
   ]
  },
  {
   "cell_type": "code",
   "execution_count": 542,
   "id": "97218778-3889-4754-8856-260ce4919ee0",
   "metadata": {
    "execution": {
     "iopub.execute_input": "2021-12-09T20:43:18.307885Z",
     "iopub.status.busy": "2021-12-09T20:43:18.307308Z",
     "iopub.status.idle": "2021-12-09T20:43:18.320669Z",
     "shell.execute_reply": "2021-12-09T20:43:18.316867Z",
     "shell.execute_reply.started": "2021-12-09T20:43:18.307843Z"
    },
    "tags": []
   },
   "outputs": [
    {
     "data": {
      "text/plain": [
       "{0: [255, 33, 36],\n",
       " 1: [255, 148, 9],\n",
       " 2: [255, 255, 13],\n",
       " 3: [186, 255, 15],\n",
       " 4: [6, 155, 9],\n",
       " 5: [12, 255, 116],\n",
       " 6: [11, 254, 255],\n",
       " 7: [8, 192, 255],\n",
       " 8: [0, 0, 255],\n",
       " 9: [92, 8, 253],\n",
       " 10: [238, 3, 249],\n",
       " 11: [254, 6, 180]}"
      ]
     },
     "execution_count": 542,
     "metadata": {},
     "output_type": "execute_result"
    }
   ],
   "source": [
    "colours_cm"
   ]
  },
  {
   "cell_type": "code",
   "execution_count": 543,
   "id": "bc2d2c29-9f03-46ca-b701-73f6f18376f1",
   "metadata": {
    "execution": {
     "iopub.execute_input": "2021-12-09T20:43:20.477896Z",
     "iopub.status.busy": "2021-12-09T20:43:20.477523Z",
     "iopub.status.idle": "2021-12-09T20:43:21.344699Z",
     "shell.execute_reply": "2021-12-09T20:43:21.342956Z",
     "shell.execute_reply.started": "2021-12-09T20:43:20.477862Z"
    },
    "tags": []
   },
   "outputs": [
    {
     "data": {
      "image/png": "[encoded data removed]",
      "text/plain": [
       "<Figure size 720x720 with 6 Axes>"
      ]
     },
     "metadata": {
      "needs_background": "light"
     },
     "output_type": "display_data"
    }
   ],
   "source": [
    "# plotting bars - these are coloured with the RGBs of the colour from colour method\n",
    "d_plot = d_cm.copy()      # choose the colour method here\n",
    "d_colours = colours_cm.copy()    # and the relative colours dict\n",
    "\n",
    "fig, axs = plt.subplots(3, 2, figsize=(10, 10))\n",
    "fig.suptitle('Mean occupation of colour for colour method')\n",
    "\n",
    "decade = '1860'\n",
    "x = [k for k in d_plot[decade][next(iter(d_plot[decade]))].keys()]\n",
    "y =  [np.mean([d_plot[decade][title][k] for title in d_plot[decade]]) for k in x]\n",
    "colours = [ tuple([item/255 for item in d_colours[i]]) for i in x]   # this must be a list of tuples, as per pyplot\n",
    "axs[0,0].barh( x, y, color=colours)\n",
    "axs[0,0].set_title(decade)\n",
    "\n",
    "decade = '1870'\n",
    "x = [k for k in d_plot[decade][next(iter(d_plot[decade]))].keys()]\n",
    "y =  [np.mean([d_plot[decade][title][k] for title in d_plot[decade]]) for k in x]\n",
    "colours = [ tuple([item/255 for item in d_colours[i]]) for i in x]   # this must be a list of tuples, as per pyplot\n",
    "axs[0,1].barh( x, y , color=colours)\n",
    "axs[0,1].set_title(decade)\n",
    "\n",
    "decade = '1880'\n",
    "x = [k for k in d_plot[decade][next(iter(d_plot[decade]))].keys()]\n",
    "y =  [np.mean([d_plot[decade][title][k] for title in d_plot[decade]]) for k in x]\n",
    "colours = [ tuple([item/255 for item in d_colours[i]]) for i in x] # this must be a list of tuples, as per pyplot\n",
    "axs[1,0].barh( x, y , color=colours)\n",
    "axs[1,0].set_title(decade)\n",
    "\n",
    "decade = '1890'\n",
    "x = [k for k in d_plot[decade][next(iter(d_plot[decade]))].keys()]\n",
    "y =  [np.mean([d_plot[decade][title][k] for title in d_plot[decade]]) for k in x]\n",
    "colours = [ tuple([item/255 for item in d_colours[i]]) for i in x] # this must be a list of tuples, as per pyplot\n",
    "axs[1,1].barh( x, y , color=colours)\n",
    "axs[1,1].set_title(decade)\n",
    "\n",
    "decade = '1900'\n",
    "x = [k for k in d_plot[decade][next(iter(d_plot[decade]))].keys()]\n",
    "y =  [np.mean([d_plot[decade][title][k] for title in d_plot[decade]]) for k in x]\n",
    "colours = [ tuple([item/255 for item in d_colours[i]]) for i in x] # this must be a list of tuples, as per pyplot\n",
    "axs[2,0].barh( x, y , color=colours)\n",
    "axs[2,0].set_title(decade)\n",
    "\n",
    "decade = '1910'\n",
    "x = [k for k in d_plot[decade][next(iter(d_plot[decade]))].keys()]\n",
    "y =  [np.mean([d_plot[decade][title][k] for title in d_plot[decade]]) for k in x]\n",
    "colours = [ tuple([item/255 for item in d_colours[i]]) for i in x] # this must be a list of tuples, as per pyplot\n",
    "axs[2,1].barh( x, y , color=colours)\n",
    "axs[2,1].set_title(decade)\n",
    "\n",
    "plt.show();\n",
    "\n",
    "#x, y, colours"
   ]
  },
  {
   "cell_type": "code",
   "execution_count": 544,
   "id": "7184bf36-dfa3-4b32-bd14-b2653622bb5f",
   "metadata": {
    "execution": {
     "iopub.execute_input": "2021-12-09T20:43:28.338488Z",
     "iopub.status.busy": "2021-12-09T20:43:28.338132Z",
     "iopub.status.idle": "2021-12-09T20:43:28.350561Z",
     "shell.execute_reply": "2021-12-09T20:43:28.347774Z",
     "shell.execute_reply.started": "2021-12-09T20:43:28.338456Z"
    },
    "tags": []
   },
   "outputs": [
    {
     "data": {
      "text/plain": [
       "124"
      ]
     },
     "execution_count": 544,
     "metadata": {},
     "output_type": "execute_result"
    }
   ],
   "source": [
    "# tot of titles processed for colour\n",
    "len(d_af['1860'].keys()) + \\\n",
    "len(d_af['1870'].keys()) + \\\n",
    "len(d_af['1880'].keys()) + \\\n",
    "len(d_af['1890'].keys()) + \\\n",
    "len(d_af['1900'].keys()) + \\\n",
    "len(d_af['1910'].keys())"
   ]
  },
  {
   "cell_type": "code",
   "execution_count": 740,
   "id": "475c57a0-7c5c-4ddf-82a4-770877d43ada",
   "metadata": {
    "execution": {
     "iopub.execute_input": "2021-12-11T18:48:12.527543Z",
     "iopub.status.busy": "2021-12-11T18:48:12.527186Z",
     "iopub.status.idle": "2021-12-11T18:48:12.538682Z",
     "shell.execute_reply": "2021-12-11T18:48:12.536905Z",
     "shell.execute_reply.started": "2021-12-11T18:48:12.527511Z"
    },
    "tags": []
   },
   "outputs": [
    {
     "data": {
      "text/plain": [
       "dict_keys(['Children on the Seashore, Guernsey(French: Enfants au Bord de la Mer, Guernesey).jpeg', 'Luncheon of the Boating Party(French: Le déjeuner des canotiers).jpeg', 'Blonde Bather (1881)(French: La baigneuse blonde).jpeg', 'Two Sisters (On the Terrace)(French: Les deux sœurs (Sur la terrasse)).jpeg', 'Portrait of Charles and George Durand-Ruel(French: Portrait de Charles et George Durand-Ruel).jpeg', 'Woman Arranging her Hair(fr:Femme se coiffant).jpeg', \"Woman with Fan(French: Femme à l'éventail).jpeg\", 'Dance in the City(French: Danse dans la Ville).jpeg', 'Pink and Blue(Alice and Elisabeth Cahen d’Anvers).jpeg', 'Fruits of the Midi(French: Fruits du midi).jpeg', 'Still Life, Roses of Wargemont(French: Nature morte, Roses de Wargemont).jpeg', 'Young Girls in Black(French: Jeunes filles en noir).jpeg', 'By the Seashore(French: Femme Assise au Bord de la Mer).jpeg', 'A Young Girl with Daisies(French: Une jeune fille avec des marguerites).jpeg', 'Children on the Beach of Guernsey(French: Enfants sur la Plage de Guernesey).jpeg', 'In the Garden(French: Dans le jardin).jpeg', \"Mlle Irène Cahen d'Anvers.jpeg\", 'Girl with a Hoop(French: Fille avec un cerceau).jpeg', 'Algerian Woman.jpeg', \"Rocky Crags at L'Estaque.jpeg\", 'Young Woman with a Blue Ribbon(French: Jeune fille au ruban bleu).jpeg', 'Dance at Bougival(French: La Danse à Bougival).jpeg', 'Sunset in Douarnenez(French: Coucher de soleil à Douarnenez).jpeg', 'The Umbrellas(French: Les parapluies).jpeg', 'Fog at Guernsey(French: Brouillard à Guernesey).jpeg', 'The Daughters of Catulle Mendès.jpeg', 'Dance in the Country(French: Danse à la Campagne).jpeg', \"Venice, the Doge's Palace(French: Venise, le Palais des Doges).jpeg\", 'The Two Sisters(French: Les deux soeurs).jpeg', 'Nature morte: fleurs(Still Life: Flowers).jpeg', 'Garden Scene in Brittany(French: Scène de jardin en Bretagne).jpeg', 'Near the Lake(French: Près du lac).jpeg', \"Agenteuil Bridge in Autumn (French: Le Pont d'Argenteuil en automne).jpeg\", 'Naked Woman in a Landscape(French: Femme nue dans un paysage).jpeg', 'Girl with Spikes(French: Fille aux oreilles).jpeg', 'Blonde Bather (1882)(French: La baigneuse blonde).jpeg', \"Children's Afternoon at Wargemont (French: L'après-midi des enfants à Wargemont).jpeg\", 'Sleeping Girl(French: Fille endormie).jpeg', 'Steps in Algiers(French: Étapes à Alger).jpeg', 'Les grandes baigneuses(The Large Bathers).jpeg'])"
      ]
     },
     "execution_count": 740,
     "metadata": {},
     "output_type": "execute_result"
    }
   ],
   "source": [
    "d_cm['1880'].keys()"
   ]
  },
  {
   "cell_type": "code",
   "execution_count": 715,
   "id": "66d30cbf-fecb-4b0c-b77b-122cb631bf63",
   "metadata": {
    "execution": {
     "iopub.execute_input": "2021-12-11T18:18:15.137886Z",
     "iopub.status.busy": "2021-12-11T18:18:15.137542Z",
     "iopub.status.idle": "2021-12-11T18:18:15.146462Z",
     "shell.execute_reply": "2021-12-11T18:18:15.145161Z",
     "shell.execute_reply.started": "2021-12-11T18:18:15.137857Z"
    },
    "tags": []
   },
   "outputs": [
    {
     "data": {
      "text/plain": [
       "17"
      ]
     },
     "execution_count": 715,
     "metadata": {},
     "output_type": "execute_result"
    }
   ],
   "source": [
    "len(d_cm['1910'])"
   ]
  },
  {
   "cell_type": "code",
   "execution_count": 741,
   "id": "3325f8e2-2798-49be-808c-45ee384a6c30",
   "metadata": {
    "execution": {
     "iopub.execute_input": "2021-12-11T18:48:31.928584Z",
     "iopub.status.busy": "2021-12-11T18:48:31.928063Z",
     "iopub.status.idle": "2021-12-11T18:48:31.949513Z",
     "shell.execute_reply": "2021-12-11T18:48:31.945377Z",
     "shell.execute_reply.started": "2021-12-11T18:48:31.928544Z"
    },
    "tags": []
   },
   "outputs": [
    {
     "data": {
      "text/plain": [
       "{0: 0.11,\n",
       " 1: 0.65,\n",
       " 2: 0.09,\n",
       " 3: 0.02,\n",
       " 4: 0.01,\n",
       " 5: 0.01,\n",
       " 6: 0.01,\n",
       " 7: 0.01,\n",
       " 8: 0.03,\n",
       " 9: 0.02,\n",
       " 10: 0.01,\n",
       " 11: 0.02}"
      ]
     },
     "execution_count": 741,
     "metadata": {},
     "output_type": "execute_result"
    }
   ],
   "source": [
    "d_cm['1880'][\"Les grandes baigneuses(The Large Bathers).jpeg\"]"
   ]
  },
  {
   "cell_type": "code",
   "execution_count": 742,
   "id": "acd495de-8d67-402c-80c9-cae7633d6464",
   "metadata": {
    "execution": {
     "iopub.execute_input": "2021-12-11T18:48:36.431279Z",
     "iopub.status.busy": "2021-12-11T18:48:36.430916Z",
     "iopub.status.idle": "2021-12-11T18:48:36.455366Z",
     "shell.execute_reply": "2021-12-11T18:48:36.453146Z",
     "shell.execute_reply.started": "2021-12-11T18:48:36.431245Z"
    },
    "tags": []
   },
   "outputs": [
    {
     "data": {
      "text/html": [
       "<div>\n",
       "<style scoped>\n",
       "    .dataframe tbody tr th:only-of-type {\n",
       "        vertical-align: middle;\n",
       "    }\n",
       "\n",
       "    .dataframe tbody tr th {\n",
       "        vertical-align: top;\n",
       "    }\n",
       "\n",
       "    .dataframe thead th {\n",
       "        text-align: right;\n",
       "    }\n",
       "</style>\n",
       "<table border=\"1\" class=\"dataframe\">\n",
       "  <thead>\n",
       "    <tr style=\"text-align: right;\">\n",
       "      <th></th>\n",
       "      <th>Picture</th>\n",
       "      <th>Title</th>\n",
       "      <th>Year</th>\n",
       "      <th>Dimensions</th>\n",
       "      <th>Museum</th>\n",
       "      <th>original_filename</th>\n",
       "    </tr>\n",
       "  </thead>\n",
       "  <tbody>\n",
       "    <tr>\n",
       "      <th>0</th>\n",
       "      <td>NaN</td>\n",
       "      <td>Two Sisters (On the Terrace)(French: Les deux ...</td>\n",
       "      <td>1881</td>\n",
       "      <td>100.5 cm × 81 cm (39.6 in × 31.9 in)</td>\n",
       "      <td>Art Institute of Chicago, Chicago, Illinois</td>\n",
       "      <td>8/8d/Renoir%2C_Pierre-Auguste_-_The_Two_Sister...</td>\n",
       "    </tr>\n",
       "    <tr>\n",
       "      <th>1</th>\n",
       "      <td>NaN</td>\n",
       "      <td>Mlle Irène Cahen d'Anvers</td>\n",
       "      <td>1880</td>\n",
       "      <td>65 cm × 54 cm (26 in × 21 in)</td>\n",
       "      <td>Foundation E.G. Bührle, Zurich, Switzerland[23]</td>\n",
       "      <td>e/ef/Mlle_Irene_Cahen_d%27Anvers.jpg</td>\n",
       "    </tr>\n",
       "    <tr>\n",
       "      <th>2</th>\n",
       "      <td>NaN</td>\n",
       "      <td>Sleeping Girl(French: Fille endormie)</td>\n",
       "      <td>1880</td>\n",
       "      <td>120 cm × 94 cm (47 in × 37 in)</td>\n",
       "      <td>Clark Art Institute, Williamstown, Massachuset...</td>\n",
       "      <td>5/59/Pierre-August_Renoir_Sleeping_Girl_with_a...</td>\n",
       "    </tr>\n",
       "    <tr>\n",
       "      <th>3</th>\n",
       "      <td>NaN</td>\n",
       "      <td>Near the Lake(French: Près du lac)</td>\n",
       "      <td>1880</td>\n",
       "      <td>47.5 cm × 56.4 cm (18.7 in × 22.2 in)</td>\n",
       "      <td>Art Institute of Chicago, Chicago, Illinois[25]</td>\n",
       "      <td>c/c5/Pierre-Auguste_Renoir_-_By_the_Water.jpg</td>\n",
       "    </tr>\n",
       "    <tr>\n",
       "      <th>4</th>\n",
       "      <td>NaN</td>\n",
       "      <td>Venice, the Doge's Palace(French: Venise, le P...</td>\n",
       "      <td>1881</td>\n",
       "      <td>54.5 cm × 65 cm (21.5 in × 25.6 in)</td>\n",
       "      <td>Clark Art Institute, Williamstown, Massachuset...</td>\n",
       "      <td>9/9f/Renoir_Doges%27_Palace%2C_Venice.jpg</td>\n",
       "    </tr>\n",
       "    <tr>\n",
       "      <th>5</th>\n",
       "      <td>NaN</td>\n",
       "      <td>Luncheon of the Boating Party(French: Le déjeu...</td>\n",
       "      <td>1881</td>\n",
       "      <td>129.9 cm × 172.7 cm (51.1 in × 68.0 in)</td>\n",
       "      <td>The Phillips Collection, Washington, D.C.</td>\n",
       "      <td>8/8d/Pierre-Auguste_Renoir_-_Luncheon_of_the_B...</td>\n",
       "    </tr>\n",
       "    <tr>\n",
       "      <th>6</th>\n",
       "      <td>NaN</td>\n",
       "      <td>Blonde Bather (1881)(French: La baigneuse blonde)</td>\n",
       "      <td>1881</td>\n",
       "      <td>82 cm × 66 cm (32 in × 26 in)</td>\n",
       "      <td>Private collection</td>\n",
       "      <td>1/11/Renoir_Blond_Bather.jpg</td>\n",
       "    </tr>\n",
       "    <tr>\n",
       "      <th>7</th>\n",
       "      <td>NaN</td>\n",
       "      <td>Young Girls in Black(French: Jeunes filles en ...</td>\n",
       "      <td>1881</td>\n",
       "      <td>80 cm × 65 cm (31 in × 26 in)</td>\n",
       "      <td>Pushkin Museum, Moscow, Russia</td>\n",
       "      <td>2/2d/Jeunes_Filles_en_noir_by_Pierre-Auguste_R...</td>\n",
       "    </tr>\n",
       "    <tr>\n",
       "      <th>8</th>\n",
       "      <td>NaN</td>\n",
       "      <td>Pink and Blue(Alice and Elisabeth Cahen d’Anvers)</td>\n",
       "      <td>1881</td>\n",
       "      <td>119 cm × 74 cm (47 in × 29 in)</td>\n",
       "      <td>São Paulo Museum of Art, São Paulo, Brazil</td>\n",
       "      <td>4/4c/Renoir_Mlles_Cahen_d_Anvers.jpg</td>\n",
       "    </tr>\n",
       "    <tr>\n",
       "      <th>9</th>\n",
       "      <td>NaN</td>\n",
       "      <td>Fruits of the Midi(French: Fruits du midi)</td>\n",
       "      <td>1881</td>\n",
       "      <td>51 cm × 69 cm (20 in × 27 in)</td>\n",
       "      <td>Art Institute of Chicago, Chicago, Illinois, U...</td>\n",
       "      <td>b/b2/Pierre-Auguste_Renoir_141.jpg</td>\n",
       "    </tr>\n",
       "    <tr>\n",
       "      <th>10</th>\n",
       "      <td>NaN</td>\n",
       "      <td>The Umbrellas(French: Les parapluies)</td>\n",
       "      <td>1881, 1885</td>\n",
       "      <td>180.3 cm × 114.9 cm (71.0 in × 45.2 in)</td>\n",
       "      <td>National Gallery, London, U.K.</td>\n",
       "      <td>e/eb/Pierre-Auguste_Renoir%2C_The_Umbrellas%2C...</td>\n",
       "    </tr>\n",
       "    <tr>\n",
       "      <th>11</th>\n",
       "      <td>NaN</td>\n",
       "      <td>Algerian Woman</td>\n",
       "      <td>1881</td>\n",
       "      <td>NaN</td>\n",
       "      <td>Tel Aviv Museum of Art, Moshe and Sara Mayer C...</td>\n",
       "      <td>3/33/Renoir_-_algerian-woman-1881.jpg</td>\n",
       "    </tr>\n",
       "    <tr>\n",
       "      <th>12</th>\n",
       "      <td>NaN</td>\n",
       "      <td>Rocky Crags at L'Estaque</td>\n",
       "      <td>1882</td>\n",
       "      <td>66.4 cm × 81 cm (26.1 in × 31.9 in)</td>\n",
       "      <td>Museum of Fine Arts, Boston</td>\n",
       "      <td>6/68/Pierre-Auguste_Renoir_-_Rocky_Crags_at_L%...</td>\n",
       "    </tr>\n",
       "    <tr>\n",
       "      <th>13</th>\n",
       "      <td>NaN</td>\n",
       "      <td>Steps in Algiers(French: Étapes à Alger)</td>\n",
       "      <td>1882</td>\n",
       "      <td>73 cm × 60.5 cm (28.7 in × 23.8 in)</td>\n",
       "      <td>Private collection</td>\n",
       "      <td>c/c0/Pierre-Auguste_Renoir_149.jpg</td>\n",
       "    </tr>\n",
       "    <tr>\n",
       "      <th>14</th>\n",
       "      <td>NaN</td>\n",
       "      <td>Blonde Bather (1882)(French: La baigneuse blonde)</td>\n",
       "      <td>1882</td>\n",
       "      <td>90 cm × 63 cm (35 in × 25 in)</td>\n",
       "      <td>Private collection</td>\n",
       "      <td>f/f3/Renoir%2C_Baigneuse_Blonde%2C_1882_PA.jpg</td>\n",
       "    </tr>\n",
       "    <tr>\n",
       "      <th>15</th>\n",
       "      <td>NaN</td>\n",
       "      <td>Portrait of Charles and George Durand-Ruel(Fre...</td>\n",
       "      <td>1882</td>\n",
       "      <td>65 cm × 81 cm (26 in × 32 in)</td>\n",
       "      <td>Private collection</td>\n",
       "      <td>b/b9/Pierre-Auguste_Renoir_107.jpg</td>\n",
       "    </tr>\n",
       "    <tr>\n",
       "      <th>16</th>\n",
       "      <td>NaN</td>\n",
       "      <td>Still Life, Roses of Wargemont(French: Nature ...</td>\n",
       "      <td>1882</td>\n",
       "      <td>65 cm × 81 cm (26 in × 32 in)</td>\n",
       "      <td>Private collection</td>\n",
       "      <td>7/7d/Pierre-Auguste_Renoir_143.jpg</td>\n",
       "    </tr>\n",
       "    <tr>\n",
       "      <th>17</th>\n",
       "      <td>NaN</td>\n",
       "      <td>Agenteuil Bridge in Autumn (French: Le Pont d'...</td>\n",
       "      <td>1882</td>\n",
       "      <td>54.3 cm × 65.8 cm (21.4 in × 25.9 in)</td>\n",
       "      <td>Private collection</td>\n",
       "      <td>8/85/Pierre-Auguste_Renoir_-_Le_Pont_d%27Argen...</td>\n",
       "    </tr>\n",
       "    <tr>\n",
       "      <th>18</th>\n",
       "      <td>NaN</td>\n",
       "      <td>By the Seashore(French: Femme Assise au Bord d...</td>\n",
       "      <td>1883</td>\n",
       "      <td>92.1 cm × 72.4 cm (36.3 in × 28.5 in)</td>\n",
       "      <td>Metropolitan Museum of Art, New York</td>\n",
       "      <td>8/8f/Pierre-Auguste_Renoir_-_By_the_Seashore.jpg</td>\n",
       "    </tr>\n",
       "    <tr>\n",
       "      <th>19</th>\n",
       "      <td>NaN</td>\n",
       "      <td>Dance at Bougival(French: La Danse à Bougival)</td>\n",
       "      <td>1883</td>\n",
       "      <td>181.9 cm × 98.1 cm (71.6 in × 38.6 in)</td>\n",
       "      <td>Museum of Fine Arts, Boston, Massachusetts</td>\n",
       "      <td>f/f2/Dance-At-Bougival.jpg</td>\n",
       "    </tr>\n",
       "    <tr>\n",
       "      <th>20</th>\n",
       "      <td>NaN</td>\n",
       "      <td>Fog at Guernsey(French: Brouillard à Guernesey)</td>\n",
       "      <td>1883</td>\n",
       "      <td>54 cm × 65 cm (21 in × 26 in)</td>\n",
       "      <td>Cincinnati Art Museum, Cincinnati, Ohio[28]</td>\n",
       "      <td>c/c4/Pierre-Auguste_Renoir_-_Brouillard_%C3%A0...</td>\n",
       "    </tr>\n",
       "    <tr>\n",
       "      <th>21</th>\n",
       "      <td>NaN</td>\n",
       "      <td>Dance in the City(French: Danse dans la Ville)</td>\n",
       "      <td>1883</td>\n",
       "      <td>180 cm × 90 cm (71 in × 35 in)</td>\n",
       "      <td>Musée d'Orsay, Paris, France</td>\n",
       "      <td>1/12/Pierre-Auguste_Renoir_019.jpg</td>\n",
       "    </tr>\n",
       "    <tr>\n",
       "      <th>22</th>\n",
       "      <td>NaN</td>\n",
       "      <td>Dance in the Country(French: Danse à la Campagne)</td>\n",
       "      <td>1883</td>\n",
       "      <td>180 cm × 90 cm (71 in × 35 in)</td>\n",
       "      <td>Musée d'Orsay, Paris, France</td>\n",
       "      <td>c/c0/Pierre_Auguste_Renoir_-_Country_Dance_-_G...</td>\n",
       "    </tr>\n",
       "    <tr>\n",
       "      <th>23</th>\n",
       "      <td>NaN</td>\n",
       "      <td>Children on the Seashore, Guernsey(French: Enf...</td>\n",
       "      <td>1883</td>\n",
       "      <td>91.4 cm × 66.4 cm (36.0 in × 26.1 in)</td>\n",
       "      <td>Museum of Fine Arts, Boston, Massachusetts[29]</td>\n",
       "      <td>e/e3/Pierre-Auguste_Renoir_-_Children_on_the_S...</td>\n",
       "    </tr>\n",
       "    <tr>\n",
       "      <th>24</th>\n",
       "      <td>NaN</td>\n",
       "      <td>Sunset in Douarnenez(French: Coucher de soleil...</td>\n",
       "      <td>1883</td>\n",
       "      <td>53.7 cm × 64.4 cm (21.1 in × 25.4 in)</td>\n",
       "      <td>Private collection</td>\n",
       "      <td>d/d1/Pierre-Auguste_Renoir_-_Coucher_de_soleil...</td>\n",
       "    </tr>\n",
       "    <tr>\n",
       "      <th>25</th>\n",
       "      <td>NaN</td>\n",
       "      <td>Naked Woman in a Landscape(French: Femme nue d...</td>\n",
       "      <td>1883</td>\n",
       "      <td>65 cm × 54 cm (26 in × 21 in)</td>\n",
       "      <td>Private collection</td>\n",
       "      <td>6/6f/Femme_Nue_dans_un_Paysage%2C_by_Pierre-Au...</td>\n",
       "    </tr>\n",
       "    <tr>\n",
       "      <th>26</th>\n",
       "      <td>NaN</td>\n",
       "      <td>Children on the Beach of Guernsey(French: Enfa...</td>\n",
       "      <td>1883</td>\n",
       "      <td>54.2 cm × 65 cm (21.3 in × 25.6 in)</td>\n",
       "      <td>Barnes Foundation, Philadelphia, Pennsylvania,...</td>\n",
       "      <td>c/cf/Pierre-Auguste_Renoir_-_Children_on_the_S...</td>\n",
       "    </tr>\n",
       "    <tr>\n",
       "      <th>27</th>\n",
       "      <td>NaN</td>\n",
       "      <td>Children's Afternoon at Wargemont (French: L'a...</td>\n",
       "      <td>1884</td>\n",
       "      <td>127 cm × 73 cm (50 in × 29 in)</td>\n",
       "      <td>Alte Nationalgalerie, Berlin</td>\n",
       "      <td>e/e0/Auguste_Renoir_-_L%27apr%C3%A8s-midi_des_...</td>\n",
       "    </tr>\n",
       "    <tr>\n",
       "      <th>28</th>\n",
       "      <td>NaN</td>\n",
       "      <td>Girl with a Hoop(French: Fille avec un cerceau)</td>\n",
       "      <td>1885</td>\n",
       "      <td>125.7 cm × 76.6 cm (49.5 in × 30.2 in)</td>\n",
       "      <td>National Gallery of Art, Washington D.C.</td>\n",
       "      <td>b/b2/Girl_with_a_hoop.jpg</td>\n",
       "    </tr>\n",
       "    <tr>\n",
       "      <th>29</th>\n",
       "      <td>NaN</td>\n",
       "      <td>Nature morte: fleurs(Still Life: Flowers)</td>\n",
       "      <td>1885</td>\n",
       "      <td>81.9 cm × 65.8 cm (32.2 in × 25.9 in)</td>\n",
       "      <td>Guggenheim Museum, New York</td>\n",
       "      <td>0/05/GUGG_Still_Life_Flowers.jpg</td>\n",
       "    </tr>\n",
       "    <tr>\n",
       "      <th>30</th>\n",
       "      <td>NaN</td>\n",
       "      <td>In the Garden(French: Dans le jardin)</td>\n",
       "      <td>1885</td>\n",
       "      <td>170.5 cm × 112.5 cm (67.1 in × 44.3 in)</td>\n",
       "      <td>Hermitage Museum, Saint Petersburg, Russia</td>\n",
       "      <td>4/44/Pierre-Auguste_Renoir_-_In_the_Garden.jpg</td>\n",
       "    </tr>\n",
       "    <tr>\n",
       "      <th>31</th>\n",
       "      <td>NaN</td>\n",
       "      <td>Woman with Fan(French: Femme à l'éventail)</td>\n",
       "      <td>1886</td>\n",
       "      <td>56 cm × 46 cm (22 in × 18 in)</td>\n",
       "      <td>Barnes Foundation, Philadelphia, Pennsylvania,...</td>\n",
       "      <td>4/4e/Pierre-Auguste_Renoir_-_Woman_with_Fan_%2...</td>\n",
       "    </tr>\n",
       "    <tr>\n",
       "      <th>32</th>\n",
       "      <td>NaN</td>\n",
       "      <td>Garden Scene in Brittany(French: Scène de jard...</td>\n",
       "      <td>1886</td>\n",
       "      <td>54 cm × 65.4 cm (21.3 in × 25.7 in)</td>\n",
       "      <td>Barnes Foundation, Philadelphia, Pennsylvania,...</td>\n",
       "      <td>5/5b/Renoir19.jpg</td>\n",
       "    </tr>\n",
       "    <tr>\n",
       "      <th>33</th>\n",
       "      <td>NaN</td>\n",
       "      <td>Woman Arranging her Hair(fr:Femme se coiffant)</td>\n",
       "      <td>1887</td>\n",
       "      <td>65.3 cm × 54 cm (25.7 in × 21.3 in)</td>\n",
       "      <td>Hermitage Museum, Saint Petersburg, Russia</td>\n",
       "      <td>7/7f/Pierre-Auguste_Renoir_-_Woman_Arranging_h...</td>\n",
       "    </tr>\n",
       "    <tr>\n",
       "      <th>34</th>\n",
       "      <td>NaN</td>\n",
       "      <td>Les grandes baigneuses(The Large Bathers)</td>\n",
       "      <td>1884–87</td>\n",
       "      <td>115 cm × 170 cm (45 in × 67 in)</td>\n",
       "      <td>Philadelphia Museum of Art, Philadelphia, Penn...</td>\n",
       "      <td>d/d4/Pierre-Auguste_Renoir%2C_French_-_The_Lar...</td>\n",
       "    </tr>\n",
       "    <tr>\n",
       "      <th>35</th>\n",
       "      <td>NaN</td>\n",
       "      <td>The Daughters of Catulle Mendès</td>\n",
       "      <td>1888</td>\n",
       "      <td>61.9 cm × 129.9 cm (24.4 in × 51.1 in)</td>\n",
       "      <td>Metropolitan Museum of Art, New York City, New...</td>\n",
       "      <td>e/eb/The_Daughters_of_Catulle_Mend%C3%A8s%2C_H...</td>\n",
       "    </tr>\n",
       "    <tr>\n",
       "      <th>36</th>\n",
       "      <td>NaN</td>\n",
       "      <td>Young Woman with a Blue Ribbon(French: Jeune f...</td>\n",
       "      <td>1888</td>\n",
       "      <td>55 cm × 46 cm (22 in × 18 in)</td>\n",
       "      <td>Museum of Fine Arts of Lyon, France</td>\n",
       "      <td>7/7b/Pierre-Auguste_Renoir_-_Jeune_fille_au_ru...</td>\n",
       "    </tr>\n",
       "    <tr>\n",
       "      <th>37</th>\n",
       "      <td>NaN</td>\n",
       "      <td>Girl with Spikes(French: Fille aux oreilles)</td>\n",
       "      <td>1888</td>\n",
       "      <td>65 cm × 54 cm (26 in × 21 in)</td>\n",
       "      <td>São Paulo Museum of Art, São Paulo, Brazil[34]</td>\n",
       "      <td>4/44/Renoir_-_Menina_com_as_Espigas_-_Flores.jpg</td>\n",
       "    </tr>\n",
       "    <tr>\n",
       "      <th>38</th>\n",
       "      <td>NaN</td>\n",
       "      <td>A Young Girl with Daisies(French: Une jeune fi...</td>\n",
       "      <td>1889</td>\n",
       "      <td>65.1 cm × 54 cm (25.6 in × 21.3 in)</td>\n",
       "      <td>Metropolitan Museum of Art, New York City, New...</td>\n",
       "      <td>5/5a/A_Young_Girl_with_Daisies.jpg</td>\n",
       "    </tr>\n",
       "    <tr>\n",
       "      <th>39</th>\n",
       "      <td>NaN</td>\n",
       "      <td>The Two Sisters(French: Les deux soeurs)</td>\n",
       "      <td>1889</td>\n",
       "      <td>65.6 cm × 54.7 cm (25.8 in × 21.5 in)</td>\n",
       "      <td>Private collection</td>\n",
       "      <td>f/f9/As_duas_irm%C3%A3s_-_Renoir.jpg</td>\n",
       "    </tr>\n",
       "  </tbody>\n",
       "</table>\n",
       "</div>"
      ],
      "text/plain": [
       "    Picture                                              Title        Year  \\\n",
       "0       NaN  Two Sisters (On the Terrace)(French: Les deux ...        1881   \n",
       "1       NaN                          Mlle Irène Cahen d'Anvers        1880   \n",
       "2       NaN              Sleeping Girl(French: Fille endormie)        1880   \n",
       "3       NaN                 Near the Lake(French: Près du lac)        1880   \n",
       "4       NaN  Venice, the Doge's Palace(French: Venise, le P...        1881   \n",
       "5       NaN  Luncheon of the Boating Party(French: Le déjeu...        1881   \n",
       "6       NaN  Blonde Bather (1881)(French: La baigneuse blonde)        1881   \n",
       "7       NaN  Young Girls in Black(French: Jeunes filles en ...        1881   \n",
       "8       NaN  Pink and Blue(Alice and Elisabeth Cahen d’Anvers)        1881   \n",
       "9       NaN         Fruits of the Midi(French: Fruits du midi)        1881   \n",
       "10      NaN              The Umbrellas(French: Les parapluies)  1881, 1885   \n",
       "11      NaN                                     Algerian Woman        1881   \n",
       "12      NaN                           Rocky Crags at L'Estaque        1882   \n",
       "13      NaN           Steps in Algiers(French: Étapes à Alger)        1882   \n",
       "14      NaN  Blonde Bather (1882)(French: La baigneuse blonde)        1882   \n",
       "15      NaN  Portrait of Charles and George Durand-Ruel(Fre...        1882   \n",
       "16      NaN  Still Life, Roses of Wargemont(French: Nature ...        1882   \n",
       "17      NaN  Agenteuil Bridge in Autumn (French: Le Pont d'...        1882   \n",
       "18      NaN  By the Seashore(French: Femme Assise au Bord d...        1883   \n",
       "19      NaN     Dance at Bougival(French: La Danse à Bougival)        1883   \n",
       "20      NaN    Fog at Guernsey(French: Brouillard à Guernesey)        1883   \n",
       "21      NaN     Dance in the City(French: Danse dans la Ville)        1883   \n",
       "22      NaN  Dance in the Country(French: Danse à la Campagne)        1883   \n",
       "23      NaN  Children on the Seashore, Guernsey(French: Enf...        1883   \n",
       "24      NaN  Sunset in Douarnenez(French: Coucher de soleil...        1883   \n",
       "25      NaN  Naked Woman in a Landscape(French: Femme nue d...        1883   \n",
       "26      NaN  Children on the Beach of Guernsey(French: Enfa...        1883   \n",
       "27      NaN  Children's Afternoon at Wargemont (French: L'a...        1884   \n",
       "28      NaN    Girl with a Hoop(French: Fille avec un cerceau)        1885   \n",
       "29      NaN          Nature morte: fleurs(Still Life: Flowers)        1885   \n",
       "30      NaN              In the Garden(French: Dans le jardin)        1885   \n",
       "31      NaN         Woman with Fan(French: Femme à l'éventail)        1886   \n",
       "32      NaN  Garden Scene in Brittany(French: Scène de jard...        1886   \n",
       "33      NaN     Woman Arranging her Hair(fr:Femme se coiffant)        1887   \n",
       "34      NaN          Les grandes baigneuses(The Large Bathers)     1884–87   \n",
       "35      NaN                    The Daughters of Catulle Mendès        1888   \n",
       "36      NaN  Young Woman with a Blue Ribbon(French: Jeune f...        1888   \n",
       "37      NaN       Girl with Spikes(French: Fille aux oreilles)        1888   \n",
       "38      NaN  A Young Girl with Daisies(French: Une jeune fi...        1889   \n",
       "39      NaN           The Two Sisters(French: Les deux soeurs)        1889   \n",
       "\n",
       "                                 Dimensions  \\\n",
       "0      100.5 cm × 81 cm (39.6 in × 31.9 in)   \n",
       "1             65 cm × 54 cm (26 in × 21 in)   \n",
       "2            120 cm × 94 cm (47 in × 37 in)   \n",
       "3     47.5 cm × 56.4 cm (18.7 in × 22.2 in)   \n",
       "4       54.5 cm × 65 cm (21.5 in × 25.6 in)   \n",
       "5   129.9 cm × 172.7 cm (51.1 in × 68.0 in)   \n",
       "6             82 cm × 66 cm (32 in × 26 in)   \n",
       "7             80 cm × 65 cm (31 in × 26 in)   \n",
       "8            119 cm × 74 cm (47 in × 29 in)   \n",
       "9             51 cm × 69 cm (20 in × 27 in)   \n",
       "10  180.3 cm × 114.9 cm (71.0 in × 45.2 in)   \n",
       "11                                      NaN   \n",
       "12      66.4 cm × 81 cm (26.1 in × 31.9 in)   \n",
       "13      73 cm × 60.5 cm (28.7 in × 23.8 in)   \n",
       "14            90 cm × 63 cm (35 in × 25 in)   \n",
       "15            65 cm × 81 cm (26 in × 32 in)   \n",
       "16            65 cm × 81 cm (26 in × 32 in)   \n",
       "17    54.3 cm × 65.8 cm (21.4 in × 25.9 in)   \n",
       "18    92.1 cm × 72.4 cm (36.3 in × 28.5 in)   \n",
       "19   181.9 cm × 98.1 cm (71.6 in × 38.6 in)   \n",
       "20            54 cm × 65 cm (21 in × 26 in)   \n",
       "21           180 cm × 90 cm (71 in × 35 in)   \n",
       "22           180 cm × 90 cm (71 in × 35 in)   \n",
       "23    91.4 cm × 66.4 cm (36.0 in × 26.1 in)   \n",
       "24    53.7 cm × 64.4 cm (21.1 in × 25.4 in)   \n",
       "25            65 cm × 54 cm (26 in × 21 in)   \n",
       "26      54.2 cm × 65 cm (21.3 in × 25.6 in)   \n",
       "27           127 cm × 73 cm (50 in × 29 in)   \n",
       "28   125.7 cm × 76.6 cm (49.5 in × 30.2 in)   \n",
       "29    81.9 cm × 65.8 cm (32.2 in × 25.9 in)   \n",
       "30  170.5 cm × 112.5 cm (67.1 in × 44.3 in)   \n",
       "31            56 cm × 46 cm (22 in × 18 in)   \n",
       "32      54 cm × 65.4 cm (21.3 in × 25.7 in)   \n",
       "33      65.3 cm × 54 cm (25.7 in × 21.3 in)   \n",
       "34          115 cm × 170 cm (45 in × 67 in)   \n",
       "35   61.9 cm × 129.9 cm (24.4 in × 51.1 in)   \n",
       "36            55 cm × 46 cm (22 in × 18 in)   \n",
       "37            65 cm × 54 cm (26 in × 21 in)   \n",
       "38      65.1 cm × 54 cm (25.6 in × 21.3 in)   \n",
       "39    65.6 cm × 54.7 cm (25.8 in × 21.5 in)   \n",
       "\n",
       "                                               Museum  \\\n",
       "0         Art Institute of Chicago, Chicago, Illinois   \n",
       "1     Foundation E.G. Bührle, Zurich, Switzerland[23]   \n",
       "2   Clark Art Institute, Williamstown, Massachuset...   \n",
       "3     Art Institute of Chicago, Chicago, Illinois[25]   \n",
       "4   Clark Art Institute, Williamstown, Massachuset...   \n",
       "5           The Phillips Collection, Washington, D.C.   \n",
       "6                                  Private collection   \n",
       "7                      Pushkin Museum, Moscow, Russia   \n",
       "8          São Paulo Museum of Art, São Paulo, Brazil   \n",
       "9   Art Institute of Chicago, Chicago, Illinois, U...   \n",
       "10                     National Gallery, London, U.K.   \n",
       "11  Tel Aviv Museum of Art, Moshe and Sara Mayer C...   \n",
       "12                        Museum of Fine Arts, Boston   \n",
       "13                                 Private collection   \n",
       "14                                 Private collection   \n",
       "15                                 Private collection   \n",
       "16                                 Private collection   \n",
       "17                                 Private collection   \n",
       "18               Metropolitan Museum of Art, New York   \n",
       "19         Museum of Fine Arts, Boston, Massachusetts   \n",
       "20        Cincinnati Art Museum, Cincinnati, Ohio[28]   \n",
       "21                       Musée d'Orsay, Paris, France   \n",
       "22                       Musée d'Orsay, Paris, France   \n",
       "23     Museum of Fine Arts, Boston, Massachusetts[29]   \n",
       "24                                 Private collection   \n",
       "25                                 Private collection   \n",
       "26  Barnes Foundation, Philadelphia, Pennsylvania,...   \n",
       "27                       Alte Nationalgalerie, Berlin   \n",
       "28           National Gallery of Art, Washington D.C.   \n",
       "29                        Guggenheim Museum, New York   \n",
       "30         Hermitage Museum, Saint Petersburg, Russia   \n",
       "31  Barnes Foundation, Philadelphia, Pennsylvania,...   \n",
       "32  Barnes Foundation, Philadelphia, Pennsylvania,...   \n",
       "33         Hermitage Museum, Saint Petersburg, Russia   \n",
       "34  Philadelphia Museum of Art, Philadelphia, Penn...   \n",
       "35  Metropolitan Museum of Art, New York City, New...   \n",
       "36                Museum of Fine Arts of Lyon, France   \n",
       "37     São Paulo Museum of Art, São Paulo, Brazil[34]   \n",
       "38  Metropolitan Museum of Art, New York City, New...   \n",
       "39                                 Private collection   \n",
       "\n",
       "                                    original_filename  \n",
       "0   8/8d/Renoir%2C_Pierre-Auguste_-_The_Two_Sister...  \n",
       "1                e/ef/Mlle_Irene_Cahen_d%27Anvers.jpg  \n",
       "2   5/59/Pierre-August_Renoir_Sleeping_Girl_with_a...  \n",
       "3       c/c5/Pierre-Auguste_Renoir_-_By_the_Water.jpg  \n",
       "4           9/9f/Renoir_Doges%27_Palace%2C_Venice.jpg  \n",
       "5   8/8d/Pierre-Auguste_Renoir_-_Luncheon_of_the_B...  \n",
       "6                        1/11/Renoir_Blond_Bather.jpg  \n",
       "7   2/2d/Jeunes_Filles_en_noir_by_Pierre-Auguste_R...  \n",
       "8                4/4c/Renoir_Mlles_Cahen_d_Anvers.jpg  \n",
       "9                  b/b2/Pierre-Auguste_Renoir_141.jpg  \n",
       "10  e/eb/Pierre-Auguste_Renoir%2C_The_Umbrellas%2C...  \n",
       "11              3/33/Renoir_-_algerian-woman-1881.jpg  \n",
       "12  6/68/Pierre-Auguste_Renoir_-_Rocky_Crags_at_L%...  \n",
       "13                 c/c0/Pierre-Auguste_Renoir_149.jpg  \n",
       "14     f/f3/Renoir%2C_Baigneuse_Blonde%2C_1882_PA.jpg  \n",
       "15                 b/b9/Pierre-Auguste_Renoir_107.jpg  \n",
       "16                 7/7d/Pierre-Auguste_Renoir_143.jpg  \n",
       "17  8/85/Pierre-Auguste_Renoir_-_Le_Pont_d%27Argen...  \n",
       "18   8/8f/Pierre-Auguste_Renoir_-_By_the_Seashore.jpg  \n",
       "19                         f/f2/Dance-At-Bougival.jpg  \n",
       "20  c/c4/Pierre-Auguste_Renoir_-_Brouillard_%C3%A0...  \n",
       "21                 1/12/Pierre-Auguste_Renoir_019.jpg  \n",
       "22  c/c0/Pierre_Auguste_Renoir_-_Country_Dance_-_G...  \n",
       "23  e/e3/Pierre-Auguste_Renoir_-_Children_on_the_S...  \n",
       "24  d/d1/Pierre-Auguste_Renoir_-_Coucher_de_soleil...  \n",
       "25  6/6f/Femme_Nue_dans_un_Paysage%2C_by_Pierre-Au...  \n",
       "26  c/cf/Pierre-Auguste_Renoir_-_Children_on_the_S...  \n",
       "27  e/e0/Auguste_Renoir_-_L%27apr%C3%A8s-midi_des_...  \n",
       "28                          b/b2/Girl_with_a_hoop.jpg  \n",
       "29                   0/05/GUGG_Still_Life_Flowers.jpg  \n",
       "30     4/44/Pierre-Auguste_Renoir_-_In_the_Garden.jpg  \n",
       "31  4/4e/Pierre-Auguste_Renoir_-_Woman_with_Fan_%2...  \n",
       "32                                  5/5b/Renoir19.jpg  \n",
       "33  7/7f/Pierre-Auguste_Renoir_-_Woman_Arranging_h...  \n",
       "34  d/d4/Pierre-Auguste_Renoir%2C_French_-_The_Lar...  \n",
       "35  e/eb/The_Daughters_of_Catulle_Mend%C3%A8s%2C_H...  \n",
       "36  7/7b/Pierre-Auguste_Renoir_-_Jeune_fille_au_ru...  \n",
       "37   4/44/Renoir_-_Menina_com_as_Espigas_-_Flores.jpg  \n",
       "38                 5/5a/A_Young_Girl_with_Daisies.jpg  \n",
       "39               f/f9/As_duas_irm%C3%A3s_-_Renoir.jpg  "
      ]
     },
     "execution_count": 742,
     "metadata": {},
     "output_type": "execute_result"
    }
   ],
   "source": [
    "df_1880s.iloc[:]"
   ]
  },
  {
   "cell_type": "markdown",
   "id": "719e913d-63c4-4188-a081-ef3580ef9421",
   "metadata": {},
   "source": [
    "## Other refs\n",
    "\n",
    "* A nice [page](https://realpython.com/python-opencv-color-spaces/) on image segmentation with Python \n",
    "* [How to choose a palette for painting](https://www.artsy.net/article/artsy-editorial-4-colors-excel-painting)\n",
    "* [The colour palettes of 10 famous paintings](https://www.haydnsymons.com/blog/the-colour-palettes-used-by-10-famous-paintings/)"
   ]
  },
  {
   "cell_type": "code",
   "execution_count": null,
   "id": "49289841-b37e-45ba-b2f2-ad77483de2ff",
   "metadata": {},
   "outputs": [],
   "source": []
  }
 ],
 "metadata": {
  "kernelspec": {
   "display_name": "Python 3",
   "language": "python",
   "name": "python3"
  },
  "language_info": {
   "codemirror_mode": {
    "name": "ipython",
    "version": 3
   },
   "file_extension": ".py",
   "mimetype": "text/x-python",
   "name": "python",
   "nbconvert_exporter": "python",
   "pygments_lexer": "ipython3",
   "version": "3.9.6"
  }
 },
 "nbformat": 4,
 "nbformat_minor": 5
}
