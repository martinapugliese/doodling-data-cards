{
 "cells": [
  {
   "cell_type": "code",
   "execution_count": 1,
   "id": "generic-radiation",
   "metadata": {},
   "outputs": [],
   "source": [
    "import requests\n",
    "\n",
    "import datetime\n",
    "import os\n",
    "import json\n",
    "from collections import Counter\n",
    "\n",
    "from matplotlib import pyplot as plt\n",
    "import seaborn as sns\n",
    "import numpy as np\n",
    "\n",
    "from IPython.core.interactiveshell import InteractiveShell\n",
    "\n",
    "InteractiveShell.ast_node_interactivity = \"all\"\n",
    "%config Completer.use_jedi = False"
   ]
  },
  {
   "cell_type": "code",
   "execution_count": 2,
   "id": "boolean-beads",
   "metadata": {},
   "outputs": [],
   "source": [
    "API_KEY = os.environ[\"TMDB_API_KEY\"]"
   ]
  },
  {
   "cell_type": "code",
   "execution_count": 3,
   "id": "stone-phone",
   "metadata": {},
   "outputs": [],
   "source": [
    "url = \"https://api.themoviedb.org/3/movie/76341?api_key=\" + API_KEY"
   ]
  },
  {
   "cell_type": "code",
   "execution_count": 4,
   "id": "relative-atmosphere",
   "metadata": {},
   "outputs": [],
   "source": [
    "response = requests.get(url)"
   ]
  },
  {
   "cell_type": "code",
   "execution_count": 5,
   "id": "japanese-safety",
   "metadata": {},
   "outputs": [],
   "source": [
    "#response.json()"
   ]
  },
  {
   "cell_type": "markdown",
   "id": "dated-worcester",
   "metadata": {},
   "source": [
    "## Get daily list of TV shows for today\n",
    "\n",
    "This uses TMDB's daily list call as per [docs](https://developers.themoviedb.org/3/getting-started/daily-file-exports). Just CURL this in the terminal and extract file."
   ]
  },
  {
   "cell_type": "code",
   "execution_count": 6,
   "id": "elder-andrew",
   "metadata": {},
   "outputs": [
    {
     "data": {
      "text/plain": [
       "'http://files.tmdb.org/p/exports/tv_series_ids_05_17_2021.json.gz'"
      ]
     },
     "execution_count": 6,
     "metadata": {},
     "output_type": "execute_result"
    }
   ],
   "source": [
    "# build the download URL using today's date\n",
    "\n",
    "today_datetime = datetime.datetime.today()\n",
    "\n",
    "daily_list_url = \"http://files.tmdb.org/p/exports/tv_series_ids_{month:02d}_{day:02d}_{year}.json.gz\".format(day=today_datetime.day, \n",
    "                                                                                                     month=today_datetime.month, \n",
    "                                                                                                     year=today_datetime.year)\n",
    "\n",
    "daily_list_url"
   ]
  },
  {
   "cell_type": "markdown",
   "id": "sunset-creek",
   "metadata": {},
   "source": [
    "## Read file, build a single dict\n",
    "\n",
    "The file provided is a JSONL. In the dict, key will be the API id of the show. Note that this data contains the \"popularity\" which is a measure of how much the show is viewed and voted on TMDB (see the docs above) - we will use it to remove the unpopular shows for the sake of speed/data reduction."
   ]
  },
  {
   "cell_type": "code",
   "execution_count": 15,
   "id": "random-prairie",
   "metadata": {},
   "outputs": [
    {
     "name": "stdout",
     "output_type": "stream",
     "text": [
      "{\"id\":1,\"original_name\":\"プライド\",\"popularity\":2.765}\n",
      "{\"id\":2,\"original_name\":\"Clerks: The Animated Series\",\"popularity\":13.218}\n",
      "{\"id\":3,\"original_name\":\"The Message\",\"popularity\":1.244}\n",
      "{\"id\":4,\"original_name\":\"The Amazing Mrs Pritchard\",\"popularity\":2.237}\n",
      "{\"id\":5,\"original_name\":\"La Job\",\"popularity\":7.626}\n"
     ]
    }
   ],
   "source": [
    "!head -n 5 shows_list.json"
   ]
  },
  {
   "cell_type": "code",
   "execution_count": 7,
   "id": "refined-saskatchewan",
   "metadata": {},
   "outputs": [],
   "source": [
    "f = open('shows_list.json')\n",
    "\n",
    "d_shows_ids = {}\n",
    "for line in f.readlines():\n",
    "    d = json.loads(line)    \n",
    "    d_shows_ids[d['id']] = {'original_name': d['original_name'], 'popularity': d['popularity']}"
   ]
  },
  {
   "cell_type": "code",
   "execution_count": 8,
   "id": "brief-glasgow",
   "metadata": {},
   "outputs": [
    {
     "data": {
      "text/plain": [
       "109348"
      ]
     },
     "execution_count": 8,
     "metadata": {},
     "output_type": "execute_result"
    },
    {
     "name": "stdout",
     "output_type": "stream",
     "text": [
      "69478 {'original_name': \"The Handmaid's Tale\", 'popularity': 927.708}\n"
     ]
    },
    {
     "data": {
      "text/plain": [
       "69478"
      ]
     },
     "execution_count": 8,
     "metadata": {},
     "output_type": "execute_result"
    },
    {
     "data": {
      "text/plain": [
       "{'results': [{'iso_3166_1': 'DE', 'rating': '16'},\n",
       "  {'iso_3166_1': 'US', 'rating': 'TV-MA'},\n",
       "  {'iso_3166_1': 'GB', 'rating': '15'},\n",
       "  {'iso_3166_1': 'BR', 'rating': '16'},\n",
       "  {'iso_3166_1': 'PT', 'rating': '16'},\n",
       "  {'iso_3166_1': 'SE', 'rating': '15'},\n",
       "  {'iso_3166_1': 'ES', 'rating': '18'}],\n",
       " 'id': 69478}"
      ]
     },
     "execution_count": 8,
     "metadata": {},
     "output_type": "execute_result"
    }
   ],
   "source": [
    "# sanity checks\n",
    "len(d_shows_ids)\n",
    "\n",
    "for k in d_shows_ids:\n",
    "    if d_shows_ids[k]['original_name'] == \"The Handmaid's Tale\":\n",
    "        print(k, d_shows_ids[k])\n",
    "        break\n",
    "        \n",
    "k\n",
    "api_url = \"https://api.themoviedb.org/3/tv/{show_id}/content_ratings?api_key={api_key}\".format(show_id=k, \n",
    "                                                                                               api_key=API_KEY)\n",
    "r = requests.get(api_url)\n",
    "r.json()"
   ]
  },
  {
   "cell_type": "markdown",
   "id": "based-poster",
   "metadata": {},
   "source": [
    "## Look at the popularities\n",
    "\n",
    "The data file dump only has popularities, can use those to filter - because there's too many"
   ]
  },
  {
   "cell_type": "code",
   "execution_count": 9,
   "id": "gross-buffalo",
   "metadata": {},
   "outputs": [],
   "source": [
    "popularities = [d_shows_ids[k]['popularity'] for k in d_shows_ids.keys()]"
   ]
  },
  {
   "cell_type": "code",
   "execution_count": 10,
   "id": "completed-viewer",
   "metadata": {},
   "outputs": [
    {
     "data": {
      "image/png": "[encoded data removed]",
      "text/plain": [
       "<Figure size 432x288 with 1 Axes>"
      ]
     },
     "metadata": {
      "needs_background": "light"
     },
     "output_type": "display_data"
    }
   ],
   "source": [
    "plt.hist(popularities, log=True, bins=100)\n",
    "\n",
    "plt.title('Hist popularity TV shows on TMDB')\n",
    "plt.xlabel('Popularity')\n",
    "plt.ylabel('Count TV shows')\n",
    "plt.show();"
   ]
  },
  {
   "cell_type": "code",
   "execution_count": 11,
   "id": "hollow-findings",
   "metadata": {},
   "outputs": [
    {
     "data": {
      "text/plain": [
       "(2.7540289168526173, 0.6, 14.839995151442606, 1509.296)"
      ]
     },
     "execution_count": 11,
     "metadata": {},
     "output_type": "execute_result"
    },
    {
     "data": {
      "text/plain": [
       "15805"
      ]
     },
     "execution_count": 11,
     "metadata": {},
     "output_type": "execute_result"
    }
   ],
   "source": [
    "np.mean(popularities), np.median(popularities), np.std(popularities), np.max(popularities)\n",
    "\n",
    "len([pop for pop in popularities if pop > 3])"
   ]
  },
  {
   "cell_type": "markdown",
   "id": "handy-walter",
   "metadata": {},
   "source": [
    "## Attach content ratings to shows dict\n",
    "\n",
    "edit as you please to do just some - this is obvs slow due to API limits/performance.\n",
    "\n",
    "\n",
    "Using just the most popular ones as per the above - using a threshold of 3 (~16000 TV shows as of the dat of the last run of this)."
   ]
  },
  {
   "cell_type": "code",
   "execution_count": 120,
   "id": "asian-privacy",
   "metadata": {},
   "outputs": [
    {
     "name": "stdout",
     "output_type": "stream",
     "text": [
      "6720\n",
      "100\n",
      "200\n",
      "300\n",
      "400\n",
      "500\n",
      "600\n",
      "700\n",
      "800\n",
      "900\n",
      "1000\n",
      "1100\n",
      "1200\n",
      "1300\n",
      "1400\n",
      "1500\n",
      "1600\n",
      "1700\n",
      "1800\n",
      "1900\n",
      "2000\n",
      "2100\n",
      "2200\n",
      "2300\n",
      "2400\n",
      "2500\n",
      "2600\n",
      "2700\n",
      "2800\n",
      "2900\n",
      "3000\n",
      "3100\n",
      "3200\n",
      "3300\n",
      "3400\n",
      "3500\n",
      "3600\n",
      "3700\n",
      "3800\n",
      "3900\n",
      "4000\n",
      "4100\n",
      "4200\n",
      "4300\n",
      "4400\n",
      "4500\n",
      "4600\n",
      "4700\n",
      "4800\n",
      "4900\n",
      "5000\n",
      "5100\n",
      "5200\n",
      "5300\n",
      "5400\n",
      "5500\n",
      "5600\n",
      "5700\n",
      "5800\n",
      "5900\n",
      "6000\n",
      "6100\n",
      "6200\n",
      "6300\n",
      "6400\n",
      "6500\n",
      "6600\n",
      "6700\n",
      "CPU times: user 2min 13s, sys: 10.5 s, total: 2min 23s\n",
      "Wall time: 20min 39s\n"
     ]
    }
   ],
   "source": [
    "%%time\n",
    "\n",
    "# this is to select just a subset based on the popularity\n",
    "l_shows_ids_selected = [k for k in d_shows_ids if d_shows_ids[k]['popularity'] >= 0.8 and d_shows_ids[k]['popularity'] < 1]\n",
    "\n",
    "print(len(l_shows_ids_selected))\n",
    "\n",
    "i = 0     # to keep track of where we are\n",
    "for k in l_shows_ids_selected:\n",
    "\n",
    "    api_url = \"https://api.themoviedb.org/3/tv/{show_id}/content_ratings?api_key={api_key}\".format(show_id=k, \n",
    "                                                                                               api_key=API_KEY)\n",
    "    res = requests.get(api_url).json()\n",
    "    d_shows_ids[k]['content_ratings'] = res['results']\n",
    "\n",
    "    i += 1\n",
    "    \n",
    "    if i % 100 == 0:\n",
    "        print(i)"
   ]
  },
  {
   "cell_type": "code",
   "execution_count": 89,
   "id": "secondary-paraguay",
   "metadata": {},
   "outputs": [],
   "source": [
    "json.dump(d_shows_ids, open('d_popular_shows_data.json', 'w'))"
   ]
  },
  {
   "cell_type": "code",
   "execution_count": 83,
   "id": "prerequisite-camcorder",
   "metadata": {},
   "outputs": [
    {
     "data": {
      "text/plain": [
       "{'original_name': 'Terminal City', 'popularity': 2.648, 'content_ratings': []}"
      ]
     },
     "execution_count": 83,
     "metadata": {},
     "output_type": "execute_result"
    }
   ],
   "source": [
    "d_shows_ids[300]"
   ]
  },
  {
   "cell_type": "markdown",
   "id": "realistic-reunion",
   "metadata": {},
   "source": [
    "## Look at ratings per country"
   ]
  },
  {
   "cell_type": "code",
   "execution_count": 85,
   "id": "removable-republican",
   "metadata": {},
   "outputs": [
    {
     "data": {
      "text/plain": [
       "10180"
      ]
     },
     "execution_count": 85,
     "metadata": {},
     "output_type": "execute_result"
    }
   ],
   "source": [
    "# isolate the data with ratings only - rest is useless for this\n",
    "\n",
    "d_data = {\n",
    "    k: d_shows_ids[k] for k in d_shows_ids if 'content_ratings' in d_shows_ids[k] and d_shows_ids[k]['content_ratings'] != [] \n",
    "}\n",
    "\n",
    "len(d_data)"
   ]
  },
  {
   "cell_type": "markdown",
   "id": "armed-parent",
   "metadata": {},
   "source": [
    "## Look at ratings per country\n",
    "\n",
    "* For the US ones, see [here](https://en.wikipedia.org/wiki/TV_Parental_Guidelines)\n",
    "* For GB ones, see [here](https://www.bbfc.co.uk/about-classification)\n",
    "\n",
    "### Correspondence US-UK (I did this mapping)\n",
    "\n",
    "* TV-Y (very young audience)\n",
    "* TV-Y7 (7+)                                                --> 12/12A (for 12+)\n",
    "* TV-G (all ages)                                           --> U \n",
    "* TV-PG (parental guidance, unsuitable for young children)  --> PG\n",
    "* TV-14 (14+)                                               --> 15\n",
    "* TV-MA (mature audience, adult only)                       --> 18\n",
    "\n",
    "The UK has R18 too which is adult only and only for special licences (e.g. sexy shops).\n",
    "\n"
   ]
  },
  {
   "cell_type": "code",
   "execution_count": 86,
   "id": "chemical-combine",
   "metadata": {},
   "outputs": [],
   "source": [
    "# take countries of interest - say US and GB\n",
    "\n",
    "names, us_ratings, uk_ratings = [], [], []\n",
    "for k in d_data:\n",
    "    ratings = d_data[k]['content_ratings']\n",
    "    countries = [item['iso_3166_1'] for item in ratings]\n",
    "    if 'US' in countries and 'GB' in countries:\n",
    "        names.append(d_data[k]['original_name'])\n",
    "        for rating in ratings:\n",
    "            if rating['iso_3166_1'] == 'US':\n",
    "                us_ratings.append(rating['rating'])\n",
    "            elif rating['iso_3166_1'] == 'GB':\n",
    "                uk_ratings.append(rating['rating'])"
   ]
  },
  {
   "cell_type": "code",
   "execution_count": null,
   "id": "postal-norman",
   "metadata": {},
   "outputs": [],
   "source": [
    "# use the US-UK mapping above\n",
    "\n",
    "us_ratings_mapped = "
   ]
  },
  {
   "cell_type": "code",
   "execution_count": 87,
   "id": "lesbian-amendment",
   "metadata": {},
   "outputs": [
    {
     "data": {
      "text/plain": [
       "(726, 726, 726)"
      ]
     },
     "execution_count": 87,
     "metadata": {},
     "output_type": "execute_result"
    }
   ],
   "source": [
    "len(names), len(us_ratings), len(uk_ratings)"
   ]
  },
  {
   "cell_type": "code",
   "execution_count": 88,
   "id": "finnish-moldova",
   "metadata": {},
   "outputs": [
    {
     "data": {
      "text/plain": [
       "('Snowpiercer', 'TV-MA', '18')"
      ]
     },
     "execution_count": 88,
     "metadata": {},
     "output_type": "execute_result"
    }
   ],
   "source": [
    "# check a name\n",
    "ix = names.index(\"Snowpiercer\")\n",
    "\n",
    "names[ix], us_ratings[ix], uk_ratings[ix]"
   ]
  },
  {
   "cell_type": "code",
   "execution_count": 92,
   "id": "expired-reality",
   "metadata": {},
   "outputs": [
    {
     "data": {
      "text/plain": [
       "[('TV-14', 279),\n",
       " ('TV-MA', 277),\n",
       " ('TV-PG', 106),\n",
       " ('TV-Y7', 26),\n",
       " ('TV-G', 16),\n",
       " ('NR', 12),\n",
       " ('TV-Y', 10)]"
      ]
     },
     "execution_count": 92,
     "metadata": {},
     "output_type": "execute_result"
    },
    {
     "data": {
      "text/plain": [
       "[('15', 374),\n",
       " ('12', 126),\n",
       " ('18', 117),\n",
       " ('PG', 60),\n",
       " ('U', 41),\n",
       " ('12A', 5),\n",
       " ('R18', 3)]"
      ]
     },
     "execution_count": 92,
     "metadata": {},
     "output_type": "execute_result"
    }
   ],
   "source": [
    "# look at the distrib of US ratings, and others\n",
    "\n",
    "c = Counter(us_ratings)\n",
    "c.most_common()\n",
    "\n",
    "\n",
    "c = Counter(uk_ratings)\n",
    "c.most_common()"
   ]
  },
  {
   "cell_type": "code",
   "execution_count": 115,
   "id": "funded-moses",
   "metadata": {},
   "outputs": [],
   "source": [
    "r18s = [i for i in range(len(uk_ratings)) if uk_ratings[i] =='R18']\n",
    "\n",
    "for ix in r18s:\n",
    "    names[ix], us_ratings[ix]"
   ]
  },
  {
   "cell_type": "code",
   "execution_count": null,
   "id": "suburban-finance",
   "metadata": {},
   "outputs": [],
   "source": []
  },
  {
   "cell_type": "code",
   "execution_count": 93,
   "id": "arabic-participant",
   "metadata": {},
   "outputs": [
    {
     "data": {
      "image/png": "[encoded data removed]",
      "text/plain": [
       "<Figure size 432x288 with 1 Axes>"
      ]
     },
     "metadata": {
      "needs_background": "light"
     },
     "output_type": "display_data"
    }
   ],
   "source": [
    "plt.scatter(us_ratings, uk_ratings)\n",
    "\n",
    "plt.show();"
   ]
  },
  {
   "cell_type": "code",
   "execution_count": 114,
   "id": "single-burke",
   "metadata": {},
   "outputs": [
    {
     "data": {
      "text/plain": [
       "[('U', 9), ('PG', 1)]"
      ]
     },
     "execution_count": 114,
     "metadata": {},
     "output_type": "execute_result"
    }
   ],
   "source": [
    "us_chosen_rating_ixs = [i for i in range(len(uk_ratings)) if us_ratings[i] =='TV-Y']\n",
    "c= Counter([uk_ratings[ix] for ix in us_chosen_rating_ixs ])\n",
    "\n",
    "c.most_common()"
   ]
  },
  {
   "cell_type": "code",
   "execution_count": 118,
   "id": "finished-strip",
   "metadata": {},
   "outputs": [
    {
     "name": "stdout",
     "output_type": "stream",
     "text": [
      "House 18\n",
      "CSI: Crime Scene Investigation 18\n",
      "Battlestar Galactica 18\n",
      "Millennium 18\n",
      "ER 18\n",
      "The Inbetweeners 18\n",
      "輪るピングドラム 18\n",
      "化物語 18\n",
      "In the Flesh 18\n",
      "Bates Motel 18\n",
      "俺の妹がこんなに可愛いわけがない 18\n",
      "From Dusk Till Dawn: The Series 18\n",
      "The Magicians 18\n",
      "Marvel's Runaways 18\n",
      "レールウォーズ R18\n",
      "Dispatches from Elsewhere 18\n",
      "Evil 18\n",
      "荒ぶる季節の乙女どもよ。 18\n",
      "FBI: Most Wanted 18\n",
      "McMillion$ 18\n"
     ]
    }
   ],
   "source": [
    "# look for names\n",
    "for i in range(len(names)):\n",
    "    if us_ratings[i] == 'TV-14' and uk_ratings[i] in ('18', 'R18'):\n",
    "        print(names[i], uk_ratings[i])"
   ]
  },
  {
   "cell_type": "code",
   "execution_count": null,
   "id": "mobile-wales",
   "metadata": {},
   "outputs": [],
   "source": []
  }
 ],
 "metadata": {
  "kernelspec": {
   "display_name": "Python 3",
   "language": "python",
   "name": "python3"
  },
  "language_info": {
   "codemirror_mode": {
    "name": "ipython",
    "version": 3
   },
   "file_extension": ".py",
   "mimetype": "text/x-python",
   "name": "python",
   "nbconvert_exporter": "python",
   "pygments_lexer": "ipython3",
   "version": "3.9.1"
  }
 },
 "nbformat": 4,
 "nbformat_minor": 5
}
