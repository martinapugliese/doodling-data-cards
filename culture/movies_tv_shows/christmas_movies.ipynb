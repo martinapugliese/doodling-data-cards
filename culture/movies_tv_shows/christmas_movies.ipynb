{
 "cells": [
  {
   "cell_type": "code",
   "execution_count": 500,
   "id": "9f6319bd-9266-4017-8581-3a43f2c0e8e6",
   "metadata": {
    "execution": {
     "iopub.execute_input": "2022-12-14T14:43:05.395987Z",
     "iopub.status.busy": "2022-12-14T14:43:05.394860Z",
     "iopub.status.idle": "2022-12-14T14:43:05.571707Z",
     "shell.execute_reply": "2022-12-14T14:43:05.570399Z",
     "shell.execute_reply.started": "2022-12-14T14:43:05.395895Z"
    },
    "tags": []
   },
   "outputs": [],
   "source": [
    "import requests\n",
    "\n",
    "import datetime\n",
    "import os\n",
    "import json\n",
    "from matplotlib import pyplot as plt\n",
    "import numpy as np\n",
    "\n",
    "from IPython.core.interactiveshell import InteractiveShell\n",
    "\n",
    "InteractiveShell.ast_node_interactivity = \"all\"\n",
    "%config Completer.use_jedi = False"
   ]
  },
  {
   "cell_type": "markdown",
   "id": "4871ccf3-3755-42a0-ba65-c46321cf1a88",
   "metadata": {
    "tags": []
   },
   "source": [
    "# Christmas movies from the TMDB\n",
    "\n",
    "Data from The Movie Database API. This will consider only movies in the English language."
   ]
  },
  {
   "cell_type": "markdown",
   "id": "d4e61ab8-cac9-4095-a0a5-fd822edb502c",
   "metadata": {},
   "source": [
    "# Setups"
   ]
  },
  {
   "cell_type": "code",
   "execution_count": 724,
   "id": "3376c10f-a67c-46aa-9d03-108c6f435b82",
   "metadata": {
    "execution": {
     "iopub.execute_input": "2022-12-21T11:48:09.339374Z",
     "iopub.status.busy": "2022-12-21T11:48:09.337979Z",
     "iopub.status.idle": "2022-12-21T11:48:09.454070Z",
     "shell.execute_reply": "2022-12-21T11:48:09.440580Z",
     "shell.execute_reply.started": "2022-12-21T11:48:09.338448Z"
    },
    "tags": []
   },
   "outputs": [],
   "source": [
    "plt.style.use('ggplot')"
   ]
  },
  {
   "cell_type": "code",
   "execution_count": 95,
   "id": "663939b9-c84f-41a2-93a6-9f98c317e057",
   "metadata": {
    "execution": {
     "iopub.execute_input": "2022-12-09T15:59:25.147873Z",
     "iopub.status.busy": "2022-12-09T15:59:25.147354Z",
     "iopub.status.idle": "2022-12-09T15:59:25.157690Z",
     "shell.execute_reply": "2022-12-09T15:59:25.155833Z",
     "shell.execute_reply.started": "2022-12-09T15:59:25.147805Z"
    },
    "tags": []
   },
   "outputs": [],
   "source": [
    "# API key has been stored as env var\n",
    "API_KEY = os.environ[\"TMDB_API_KEY\"]"
   ]
  },
  {
   "cell_type": "code",
   "execution_count": 551,
   "id": "403a7b82-6c48-4583-95d5-36b3b86e9b12",
   "metadata": {
    "execution": {
     "iopub.execute_input": "2022-12-18T10:49:16.787445Z",
     "iopub.status.busy": "2022-12-18T10:49:16.787123Z",
     "iopub.status.idle": "2022-12-18T10:49:16.796406Z",
     "shell.execute_reply": "2022-12-18T10:49:16.794453Z",
     "shell.execute_reply.started": "2022-12-18T10:49:16.787413Z"
    },
    "tags": []
   },
   "outputs": [],
   "source": [
    "base_url = \"https://api.themoviedb.org/3/\""
   ]
  },
  {
   "cell_type": "markdown",
   "id": "19a908d6-d2b9-44d4-8d67-34f7237c5983",
   "metadata": {},
   "source": [
    "# Just try out the key/try a movie\n",
    "\n",
    "this is so I can get the keyword I need by ID as the movie discover endpoint works off of a keyword ID. I've taken the movie ID directly from TMDB (in the URL when you look on a movie page). Keyword is \"christmas\""
   ]
  },
  {
   "cell_type": "code",
   "execution_count": 648,
   "id": "4b4f69e7-351d-4167-bc05-c07445534239",
   "metadata": {
    "execution": {
     "iopub.execute_input": "2022-12-18T14:47:18.518554Z",
     "iopub.status.busy": "2022-12-18T14:47:18.518214Z",
     "iopub.status.idle": "2022-12-18T14:47:18.529445Z",
     "shell.execute_reply": "2022-12-18T14:47:18.524256Z",
     "shell.execute_reply.started": "2022-12-18T14:47:18.518521Z"
    },
    "tags": []
   },
   "outputs": [],
   "source": [
    "# this is \"The Grinch\"\n",
    "\n",
    "url = base_url + \"/movie/145312?api_key=\" + API_KEY"
   ]
  },
  {
   "cell_type": "code",
   "execution_count": 649,
   "id": "c2344c05-0794-48ca-9763-1b4bffbf5740",
   "metadata": {
    "execution": {
     "iopub.execute_input": "2022-12-18T14:47:18.907680Z",
     "iopub.status.busy": "2022-12-18T14:47:18.907105Z",
     "iopub.status.idle": "2022-12-18T14:47:19.116627Z",
     "shell.execute_reply": "2022-12-18T14:47:19.115497Z",
     "shell.execute_reply.started": "2022-12-18T14:47:18.907628Z"
    },
    "tags": []
   },
   "outputs": [],
   "source": [
    "response = requests.get(url)"
   ]
  },
  {
   "cell_type": "code",
   "execution_count": 650,
   "id": "6d75ebda-47db-4bfa-ac5b-f9b56933df1b",
   "metadata": {
    "execution": {
     "iopub.execute_input": "2022-12-18T14:47:19.191547Z",
     "iopub.status.busy": "2022-12-18T14:47:19.190602Z",
     "iopub.status.idle": "2022-12-18T14:47:19.211855Z",
     "shell.execute_reply": "2022-12-18T14:47:19.210687Z",
     "shell.execute_reply.started": "2022-12-18T14:47:19.191488Z"
    },
    "tags": []
   },
   "outputs": [
    {
     "data": {
      "text/plain": [
       "{'adult': False,\n",
       " 'backdrop_path': '/g64HuM27YMGpgTsKmrHbk9COQuX.jpg',\n",
       " 'belongs_to_collection': None,\n",
       " 'budget': 0,\n",
       " 'genres': [{'id': 10751, 'name': 'Family'},\n",
       "  {'id': 35, 'name': 'Comedy'},\n",
       "  {'id': 18, 'name': 'Drama'},\n",
       "  {'id': 10749, 'name': 'Romance'},\n",
       "  {'id': 10770, 'name': 'TV Movie'}],\n",
       " 'homepage': '',\n",
       " 'id': 145312,\n",
       " 'imdb_id': 'tt1893218',\n",
       " 'original_language': 'en',\n",
       " 'original_title': 'Dear Santa',\n",
       " 'overview': \"Crystal, a rich party girl, finds a little girl's letter to Santa asking for a new mother, and she vows to win over the father and daughter before the holidays.\",\n",
       " 'popularity': 5.323,\n",
       " 'poster_path': '/18UnDP6ficSVzWKVflhh6ebjftJ.jpg',\n",
       " 'production_companies': [{'id': 12467,\n",
       "   'logo_path': None,\n",
       "   'name': 'Nomadic Pictures',\n",
       "   'origin_country': 'CA'},\n",
       "  {'id': 21040,\n",
       "   'logo_path': '/d9oN0WNidszq5epSGKGsnn6DyDN.png',\n",
       "   'name': 'ITV Studios America',\n",
       "   'origin_country': 'US'},\n",
       "  {'id': 21041,\n",
       "   'logo_path': None,\n",
       "   'name': 'Annuit Coeptis Entertainment Inc.',\n",
       "   'origin_country': ''}],\n",
       " 'production_countries': [{'iso_3166_1': 'CA', 'name': 'Canada'}],\n",
       " 'release_date': '2011-08-11',\n",
       " 'revenue': 0,\n",
       " 'runtime': 90,\n",
       " 'spoken_languages': [{'english_name': 'English',\n",
       "   'iso_639_1': 'en',\n",
       "   'name': 'English'}],\n",
       " 'status': 'Released',\n",
       " 'tagline': 'Dear Santa. North Pole.',\n",
       " 'title': 'Dear Santa',\n",
       " 'video': False,\n",
       " 'vote_average': 6.422,\n",
       " 'vote_count': 83}"
      ]
     },
     "execution_count": 650,
     "metadata": {},
     "output_type": "execute_result"
    }
   ],
   "source": [
    "response.json()"
   ]
  },
  {
   "cell_type": "code",
   "execution_count": 108,
   "id": "73da7477-9233-4e2b-9749-a4a8e8a4ca69",
   "metadata": {
    "execution": {
     "iopub.execute_input": "2022-12-09T16:09:01.284454Z",
     "iopub.status.busy": "2022-12-09T16:09:01.284129Z",
     "iopub.status.idle": "2022-12-09T16:09:01.290433Z",
     "shell.execute_reply": "2022-12-09T16:09:01.288907Z",
     "shell.execute_reply.started": "2022-12-09T16:09:01.284423Z"
    }
   },
   "outputs": [],
   "source": [
    "url = base_url + \"/movie/360920/keywords?api_key=\" + API_KEY"
   ]
  },
  {
   "cell_type": "code",
   "execution_count": 109,
   "id": "3e389909-812a-4d2a-bdbc-85b7ec4fb8c2",
   "metadata": {
    "execution": {
     "iopub.execute_input": "2022-12-09T16:09:08.620611Z",
     "iopub.status.busy": "2022-12-09T16:09:08.620091Z",
     "iopub.status.idle": "2022-12-09T16:09:08.824278Z",
     "shell.execute_reply": "2022-12-09T16:09:08.823094Z",
     "shell.execute_reply.started": "2022-12-09T16:09:08.620555Z"
    }
   },
   "outputs": [
    {
     "data": {
      "text/plain": [
       "{'id': 360920,\n",
       " 'keywords': [{'id': 9714, 'name': 'remake'},\n",
       "  {'id': 9887, 'name': 'surrealism'},\n",
       "  {'id': 15101, 'name': \"based on children's book\"},\n",
       "  {'id': 207317, 'name': 'christmas'}]}"
      ]
     },
     "execution_count": 109,
     "metadata": {},
     "output_type": "execute_result"
    }
   ],
   "source": [
    "response = requests.get(url)\n",
    "response.json()"
   ]
  },
  {
   "cell_type": "markdown",
   "id": "957de891-d11d-4214-a8aa-e80b18baae21",
   "metadata": {},
   "source": [
    "# Fetch movies by keyword\n",
    "\n",
    "year by year. Keyword is \"christmas\" (by ID)"
   ]
  },
  {
   "cell_type": "code",
   "execution_count": 526,
   "id": "bccb4ac3-27fe-402c-bbee-bc365d7b6def",
   "metadata": {
    "execution": {
     "iopub.execute_input": "2022-12-14T15:14:00.381848Z",
     "iopub.status.busy": "2022-12-14T15:14:00.381509Z",
     "iopub.status.idle": "2022-12-14T15:14:00.559386Z",
     "shell.execute_reply": "2022-12-14T15:14:00.558524Z",
     "shell.execute_reply.started": "2022-12-14T15:14:00.381816Z"
    },
    "tags": []
   },
   "outputs": [
    {
     "data": {
      "text/plain": [
       "'https://api.themoviedb.org/3//discover/movie?api_key=7ec3cdd215edb57c63bef8687d730960&with_keywords=207317&primary_release_year=2022&page=10'"
      ]
     },
     "execution_count": 526,
     "metadata": {},
     "output_type": "execute_result"
    }
   ],
   "source": [
    "# here, try to figure out how many pages of results there are\n",
    "# I don't seem to find a better way (specific endpoint) as not using the page\n",
    "# query param gives the first page only\n",
    "\n",
    "page = 10\n",
    "year = 2022\n",
    "\n",
    "url = base_url + \"/discover/movie?api_key=\" + API_KEY + \\\n",
    "                 \"&language=en-US\"\n",
    "                 \"&with_keywords=207317\" + \\\n",
    "                 \"&primary_release_year=\" + str(year) + \\\n",
    "                 \"&page=\" + str(page)\n",
    "\n",
    "url\n",
    "\n",
    "response = requests.get(url)"
   ]
  },
  {
   "cell_type": "code",
   "execution_count": 527,
   "id": "37ae6b7e-9e52-4bef-86db-c5c8bdb00464",
   "metadata": {
    "execution": {
     "iopub.execute_input": "2022-12-14T15:14:00.773286Z",
     "iopub.status.busy": "2022-12-14T15:14:00.772877Z",
     "iopub.status.idle": "2022-12-14T15:14:00.785716Z",
     "shell.execute_reply": "2022-12-14T15:14:00.784067Z",
     "shell.execute_reply.started": "2022-12-14T15:14:00.773246Z"
    },
    "tags": []
   },
   "outputs": [
    {
     "data": {
      "text/plain": [
       "0"
      ]
     },
     "execution_count": 527,
     "metadata": {},
     "output_type": "execute_result"
    }
   ],
   "source": [
    "len(response.json()['results'])"
   ]
  },
  {
   "cell_type": "code",
   "execution_count": 217,
   "id": "6c1d0c06-2ba0-444c-b002-c6baa29f6cf5",
   "metadata": {
    "execution": {
     "iopub.execute_input": "2022-12-10T11:06:28.177722Z",
     "iopub.status.busy": "2022-12-10T11:06:28.177357Z",
     "iopub.status.idle": "2022-12-10T11:06:28.195416Z",
     "shell.execute_reply": "2022-12-10T11:06:28.193786Z",
     "shell.execute_reply.started": "2022-12-10T11:06:28.177664Z"
    }
   },
   "outputs": [],
   "source": [
    "# reporting here max page I found for each year that has movies\n",
    "# 2022: 8 - it may be not completed at this stage (year not finished yet!)\n",
    "# 2021: 9\n",
    "# 2020: 8\n",
    "# 2019: 7\n",
    "# 2018: 8\n",
    "# 2017: 6\n",
    "# 2016: 5\n",
    "# 2015: 5\n",
    "# 2014: 5\n",
    "# 2013: 4\n",
    "# 2012: 4\n",
    "# 2011: 4\n",
    "# 2010: 3"
   ]
  },
  {
   "cell_type": "code",
   "execution_count": 565,
   "id": "215fc705-9c3b-418b-a425-927331598f47",
   "metadata": {
    "execution": {
     "iopub.execute_input": "2022-12-18T11:00:42.401335Z",
     "iopub.status.busy": "2022-12-18T11:00:42.401040Z",
     "iopub.status.idle": "2022-12-18T11:00:42.408009Z",
     "shell.execute_reply": "2022-12-18T11:00:42.406526Z",
     "shell.execute_reply.started": "2022-12-18T11:00:42.401309Z"
    },
    "tags": []
   },
   "outputs": [],
   "source": [
    "d_year = {}"
   ]
  },
  {
   "cell_type": "code",
   "execution_count": 677,
   "id": "acba755b-76d4-4c21-9a08-a008e3d32045",
   "metadata": {
    "execution": {
     "iopub.execute_input": "2022-12-18T16:15:46.416244Z",
     "iopub.status.busy": "2022-12-18T16:15:46.415810Z",
     "iopub.status.idle": "2022-12-18T16:15:48.051050Z",
     "shell.execute_reply": "2022-12-18T16:15:48.049321Z",
     "shell.execute_reply.started": "2022-12-18T16:15:46.416209Z"
    },
    "tags": []
   },
   "outputs": [
    {
     "name": "stdout",
     "output_type": "stream",
     "text": [
      "1\n",
      "2\n",
      "3\n",
      "4\n",
      "5\n",
      "6\n",
      "7\n",
      "8\n",
      "9\n"
     ]
    }
   ],
   "source": [
    "year = 2022\n",
    "\n",
    "d_year[year] = {}\n",
    "\n",
    "for page in range(1, 100):   \n",
    "\n",
    "    print(page)\n",
    "\n",
    "    url = base_url + \"/discover/movie?api_key=\" + API_KEY + \\\n",
    "                     \"&with_original_language=en\" + \\\n",
    "                     \"&with_keywords=207317\" + \\\n",
    "                     \"&primary_release_year=\" + str(year) + \\\n",
    "                     \"&page=\" + str(page)\n",
    "\n",
    "    response = requests.get(url)\n",
    "    if response.status_code != 200 or len(response.json()['results'])==0:\n",
    "        break\n",
    "        \n",
    "    d_year[year][page] = response.json()['results']"
   ]
  },
  {
   "cell_type": "code",
   "execution_count": 678,
   "id": "e941eac7-4d36-49bf-9703-5ef6af9815bc",
   "metadata": {
    "execution": {
     "iopub.execute_input": "2022-12-18T16:15:50.311262Z",
     "iopub.status.busy": "2022-12-18T16:15:50.310920Z",
     "iopub.status.idle": "2022-12-18T16:15:50.320797Z",
     "shell.execute_reply": "2022-12-18T16:15:50.318721Z",
     "shell.execute_reply.started": "2022-12-18T16:15:50.311228Z"
    },
    "tags": []
   },
   "outputs": [
    {
     "data": {
      "text/plain": [
       "dict_keys([2010, 2011, 2012, 2013, 2014, 2015, 2016, 2017, 2018, 2019, 2020, 2021, 2022])"
      ]
     },
     "execution_count": 678,
     "metadata": {},
     "output_type": "execute_result"
    }
   ],
   "source": [
    "d_year.keys()"
   ]
  },
  {
   "cell_type": "code",
   "execution_count": 581,
   "id": "41c9e46c-2bab-4274-824c-b9bb6faf118c",
   "metadata": {
    "execution": {
     "iopub.execute_input": "2022-12-18T11:09:48.720902Z",
     "iopub.status.busy": "2022-12-18T11:09:48.720574Z",
     "iopub.status.idle": "2022-12-18T11:09:48.734556Z",
     "shell.execute_reply": "2022-12-18T11:09:48.733476Z",
     "shell.execute_reply.started": "2022-12-18T11:09:48.720871Z"
    },
    "tags": []
   },
   "outputs": [
    {
     "data": {
      "text/plain": [
       "True"
      ]
     },
     "execution_count": 581,
     "metadata": {},
     "output_type": "execute_result"
    }
   ],
   "source": [
    "response.status_code==200"
   ]
  },
  {
   "cell_type": "markdown",
   "id": "353f61cd-21b2-40a4-9f26-888223bcccac",
   "metadata": {},
   "source": [
    "# Analyse!"
   ]
  },
  {
   "cell_type": "code",
   "execution_count": 679,
   "id": "fe6ee94f-5217-49be-804a-85895e910707",
   "metadata": {
    "execution": {
     "iopub.execute_input": "2022-12-18T16:15:59.609575Z",
     "iopub.status.busy": "2022-12-18T16:15:59.608765Z",
     "iopub.status.idle": "2022-12-18T16:15:59.624588Z",
     "shell.execute_reply": "2022-12-18T16:15:59.623678Z",
     "shell.execute_reply.started": "2022-12-18T16:15:59.609531Z"
    },
    "tags": []
   },
   "outputs": [
    {
     "data": {
      "text/plain": [
       "{'adult': False,\n",
       " 'backdrop_path': '/2T92w8l2iTnyG9jwOmIWfM9thRV.jpg',\n",
       " 'genre_ids': [16, 10751, 12],\n",
       " 'id': 1045944,\n",
       " 'original_language': 'en',\n",
       " 'original_title': 'The Boss Baby: Christmas Bonus',\n",
       " 'overview': \"Christmas Eve takes a twisty turn when the Boss Baby accidentally swaps places with one of Santa's elves and gets stranded at the North Pole.\",\n",
       " 'popularity': 1573.095,\n",
       " 'poster_path': '/iMmMxF6f2OonUrXrHKBLSYAhXly.jpg',\n",
       " 'release_date': '2022-12-06',\n",
       " 'title': 'The Boss Baby: Christmas Bonus',\n",
       " 'video': False,\n",
       " 'vote_average': 6.6,\n",
       " 'vote_count': 77}"
      ]
     },
     "execution_count": 679,
     "metadata": {},
     "output_type": "execute_result"
    }
   ],
   "source": [
    "d_year[2022][1][0]"
   ]
  },
  {
   "cell_type": "code",
   "execution_count": 680,
   "id": "8ad086c2-ee89-4a4c-b24c-59a27725114c",
   "metadata": {
    "execution": {
     "iopub.execute_input": "2022-12-18T16:16:02.747992Z",
     "iopub.status.busy": "2022-12-18T16:16:02.747470Z",
     "iopub.status.idle": "2022-12-18T16:16:02.759630Z",
     "shell.execute_reply": "2022-12-18T16:16:02.758475Z",
     "shell.execute_reply.started": "2022-12-18T16:16:02.747937Z"
    },
    "tags": []
   },
   "outputs": [
    {
     "data": {
      "text/plain": [
       "1121"
      ]
     },
     "execution_count": 680,
     "metadata": {},
     "output_type": "execute_result"
    }
   ],
   "source": [
    "# tot movies\n",
    "\n",
    "sum([len(d_year[year][page]) for year in range(2010, 2022) for page in d_year[year]])"
   ]
  },
  {
   "cell_type": "markdown",
   "id": "f0c95a13-97b7-4fff-abe0-b3858e63bc3e",
   "metadata": {},
   "source": [
    "## Look at all release dates\n",
    "\n",
    "This is to see if I have to exclude movies not released in December"
   ]
  },
  {
   "cell_type": "code",
   "execution_count": 681,
   "id": "b335f9eb-2fd4-4d97-b8b5-787bc2e85a1a",
   "metadata": {
    "execution": {
     "iopub.execute_input": "2022-12-18T16:16:35.728176Z",
     "iopub.status.busy": "2022-12-18T16:16:35.727713Z",
     "iopub.status.idle": "2022-12-18T16:16:35.782056Z",
     "shell.execute_reply": "2022-12-18T16:16:35.776317Z",
     "shell.execute_reply.started": "2022-12-18T16:16:35.728130Z"
    },
    "tags": []
   },
   "outputs": [
    {
     "data": {
      "text/plain": [
       "'2022-10-'"
      ]
     },
     "execution_count": 681,
     "metadata": {},
     "output_type": "execute_result"
    }
   ],
   "source": [
    "release_date[:-2]"
   ]
  },
  {
   "cell_type": "code",
   "execution_count": 682,
   "id": "a524bf1c-0cb7-49e1-8033-1b225310ce9f",
   "metadata": {
    "execution": {
     "iopub.execute_input": "2022-12-18T16:16:37.783507Z",
     "iopub.status.busy": "2022-12-18T16:16:37.783149Z",
     "iopub.status.idle": "2022-12-18T16:16:37.798520Z",
     "shell.execute_reply": "2022-12-18T16:16:37.797291Z",
     "shell.execute_reply.started": "2022-12-18T16:16:37.783474Z"
    },
    "tags": []
   },
   "outputs": [],
   "source": [
    "release_months = {}\n",
    "for year in range(2013, 2021):\n",
    "    for page in d_year[year]:\n",
    "        for film in d_year[year][page]:\n",
    "            # truncate manually\n",
    "            release_month = film['release_date'][:-2]\n",
    "            if release_month not in release_months:\n",
    "                release_months[release_month] = 1\n",
    "            else:\n",
    "                release_months[release_month] += 1"
   ]
  },
  {
   "cell_type": "code",
   "execution_count": 683,
   "id": "394ae08f-af2c-4a44-ada6-88a975560edf",
   "metadata": {
    "execution": {
     "iopub.execute_input": "2022-12-18T16:16:38.389164Z",
     "iopub.status.busy": "2022-12-18T16:16:38.384149Z",
     "iopub.status.idle": "2022-12-18T16:16:38.437615Z",
     "shell.execute_reply": "2022-12-18T16:16:38.420739Z",
     "shell.execute_reply.started": "2022-12-18T16:16:38.389101Z"
    },
    "tags": []
   },
   "outputs": [],
   "source": [
    "x = sorted(release_months)\n",
    "y = [release_months[k] for k in x]"
   ]
  },
  {
   "cell_type": "code",
   "execution_count": 684,
   "id": "9162c652-4f16-48b0-8dfd-d91237e01dba",
   "metadata": {
    "execution": {
     "iopub.execute_input": "2022-12-18T16:16:40.383308Z",
     "iopub.status.busy": "2022-12-18T16:16:40.382959Z",
     "iopub.status.idle": "2022-12-18T16:16:42.225345Z",
     "shell.execute_reply": "2022-12-18T16:16:42.223176Z",
     "shell.execute_reply.started": "2022-12-18T16:16:40.383277Z"
    },
    "tags": []
   },
   "outputs": [
    {
     "data": {
      "image/png": "[encoded data removed]",
      "text/plain": [
       "<Figure size 1440x432 with 1 Axes>"
      ]
     },
     "metadata": {},
     "output_type": "display_data"
    }
   ],
   "source": [
    "plt.figure(figsize=(20, 6))\n",
    "\n",
    "plt.plot(x, y, marker='o');\n",
    "\n",
    "plt.xlabel('Month');\n",
    "plt.ylabel('Movies released')\n",
    "plt.title('Movies with \"christmas\" tag released month by month 2013-2020')\n",
    "#plt.xticks(['2010-01', '2011-01', '2012-01'], ['Jan 2010', 'Jan 2011', 'Jan 2012'], rotation=90);\n",
    "plt.xticks( rotation=90);\n",
    "\n",
    "plt.savefig('movies-month.jpg', bbox_inches='tight');"
   ]
  },
  {
   "cell_type": "markdown",
   "id": "da9e326b-7f3c-4130-a7fa-e57b97668de2",
   "metadata": {
    "execution": {
     "iopub.execute_input": "2022-12-10T11:39:34.256500Z",
     "iopub.status.busy": "2022-12-10T11:39:34.256078Z",
     "iopub.status.idle": "2022-12-10T11:39:34.269534Z",
     "shell.execute_reply": "2022-12-10T11:39:34.268014Z",
     "shell.execute_reply.started": "2022-12-10T11:39:34.256458Z"
    },
    "tags": []
   },
   "source": [
    "The peaks are decembers, so apart from a few it does look like the vast majority of films is released in december, which is what we want. The minority outside of xmastime won't matter much. Notice how peaks increase in time, which means more movies are released year by year!"
   ]
  },
  {
   "cell_type": "markdown",
   "id": "c8ec9ac1-2e0e-44b1-82be-90b844698f60",
   "metadata": {},
   "source": [
    "## Count of movies by year"
   ]
  },
  {
   "cell_type": "code",
   "execution_count": 685,
   "id": "47afae2f-e6eb-48a0-b0cd-654dd41cc7a1",
   "metadata": {
    "execution": {
     "iopub.execute_input": "2022-12-18T16:24:36.334696Z",
     "iopub.status.busy": "2022-12-18T16:24:36.334346Z",
     "iopub.status.idle": "2022-12-18T16:24:36.342233Z",
     "shell.execute_reply": "2022-12-18T16:24:36.340762Z",
     "shell.execute_reply.started": "2022-12-18T16:24:36.334663Z"
    },
    "tags": []
   },
   "outputs": [],
   "source": [
    "x = range(2010, 2023)\n",
    "y = []\n",
    "for year in x:\n",
    "    count = 0\n",
    "    for page in d_year[year]:\n",
    "#        print(year, page, len(d_year[year][page]))\n",
    "        count += len(d_year[year][page])\n",
    "    y.append(count)"
   ]
  },
  {
   "cell_type": "code",
   "execution_count": 686,
   "id": "25285086-8c34-4ff5-94d7-16dcd868f364",
   "metadata": {
    "execution": {
     "iopub.execute_input": "2022-12-18T16:24:36.835465Z",
     "iopub.status.busy": "2022-12-18T16:24:36.835128Z",
     "iopub.status.idle": "2022-12-18T16:24:37.117851Z",
     "shell.execute_reply": "2022-12-18T16:24:37.116673Z",
     "shell.execute_reply.started": "2022-12-18T16:24:36.835435Z"
    },
    "tags": []
   },
   "outputs": [
    {
     "data": {
      "text/plain": [
       "<BarContainer object of 13 artists>"
      ]
     },
     "execution_count": 686,
     "metadata": {},
     "output_type": "execute_result"
    },
    {
     "data": {
      "image/png": "[encoded data removed]",
      "text/plain": [
       "<Figure size 432x288 with 1 Axes>"
      ]
     },
     "metadata": {},
     "output_type": "display_data"
    }
   ],
   "source": [
    "plt.bar(x, y)"
   ]
  },
  {
   "cell_type": "code",
   "execution_count": 687,
   "id": "2e9a00c0-87e0-4fe6-badd-9aea3180b992",
   "metadata": {
    "execution": {
     "iopub.execute_input": "2022-12-18T16:24:38.895799Z",
     "iopub.status.busy": "2022-12-18T16:24:38.895455Z",
     "iopub.status.idle": "2022-12-18T16:24:38.905128Z",
     "shell.execute_reply": "2022-12-18T16:24:38.903248Z",
     "shell.execute_reply.started": "2022-12-18T16:24:38.895768Z"
    },
    "tags": []
   },
   "outputs": [
    {
     "data": {
      "text/plain": [
       "[35, 47, 57, 63, 76, 89, 86, 111, 136, 127, 136, 158, 152]"
      ]
     },
     "execution_count": 687,
     "metadata": {},
     "output_type": "execute_result"
    }
   ],
   "source": [
    "y"
   ]
  },
  {
   "cell_type": "markdown",
   "id": "2374c151-d972-42c2-8e45-d38f5227af0d",
   "metadata": {
    "execution": {
     "iopub.execute_input": "2022-12-10T11:54:10.473310Z",
     "iopub.status.busy": "2022-12-10T11:54:10.472962Z",
     "iopub.status.idle": "2022-12-10T11:54:10.487059Z",
     "shell.execute_reply": "2022-12-10T11:54:10.485716Z",
     "shell.execute_reply.started": "2022-12-10T11:54:10.473275Z"
    },
    "tags": []
   },
   "source": [
    "## Which christmas-tagged movies are released outside of December/November?\n",
    "\n",
    "I'm adding November as I've noticed many real Christmas one come out maybe late November"
   ]
  },
  {
   "cell_type": "code",
   "execution_count": 688,
   "id": "24748d22-0efe-4412-bcce-9750be04c5ea",
   "metadata": {
    "collapsed": true,
    "execution": {
     "iopub.execute_input": "2022-12-18T16:25:31.625342Z",
     "iopub.status.busy": "2022-12-18T16:25:31.625001Z",
     "iopub.status.idle": "2022-12-18T16:25:31.636858Z",
     "shell.execute_reply": "2022-12-18T16:25:31.635426Z",
     "shell.execute_reply.started": "2022-12-18T16:25:31.625307Z"
    },
    "jupyter": {
     "outputs_hidden": true
    },
    "tags": []
   },
   "outputs": [
    {
     "name": "stdout",
     "output_type": "stream",
     "text": [
      "The Search for Santa Paws 2010-10-12\n",
      "Conviction 2010-10-15\n",
      "The Traveler 2010-10-01\n",
      "A Christmas Snow 2010-10-08\n",
      "The Santa Incident 2010-01-01\n",
      "Tim and Eric Awesome Show, Great Job! Chrimbus Special 2010-10-22\n",
      "The Most Wonderful Time of the Year Featuring Natalie Cole 2010-09-07\n",
      "Christmas Lodge 2011-10-11\n",
      "Dear Santa 2011-08-11\n",
      "November Christmas 2011-06-21\n",
      "The Confession 2011-07-01\n",
      "Head Over Spurs in Love 2011-03-24\n",
      "Becoming Santa 2011-03-12\n",
      "The Melancholy Fantastic 2011-08-18\n",
      "Grantræet 2011-04-30\n",
      "Hercules Saves Christmas 2011-01-01\n",
      "Santa Vs Zombies 2011-07-28\n",
      "Andy and Zach 2011-01-24\n",
      "Knifepoint 2011-07-16\n",
      "Scooby-Doo! Haunted Holidays 2012-10-16\n",
      "A Christmas Story 2 2012-09-06\n",
      "Abominable Christmas 2012-10-23\n",
      "Christmas Miracle 2012-10-12\n",
      "12 Dogs of Christmas: Great Puppy Rescue 2012-10-09\n",
      "The Fitzgerald Family Christmas 2012-09-09\n",
      "Ira Finkelstein's Christmas 2012-04-01\n",
      "Violent Night: The Movie 2012-04-21\n",
      "Christmas Oranges 2012-06-01\n",
      "Christmas Eve '45 2012-10-13\n",
      "Saint Street 2012-01-01\n",
      "The One-Nighter 2012-10-14\n",
      "Sandbar 2012-10-26\n",
      "Iron Man 3 2013-04-18\n",
      "Filth 2013-09-23\n",
      "Krampus: The Christmas Devil 2013-08-17\n",
      "All Is Bright 2013-09-10\n",
      "Angels Sing 2013-10-19\n",
      "Christmas Comes Home to Canaan 2013-10-14\n",
      "Alone for Christmas 2013-10-04\n",
      "Stalled 2013-08-24\n",
      "So This Is Christmas 2013-10-01\n",
      "Monster & Me 2013-10-26\n",
      "They Wore The Red Suit 2013-07-21\n",
      "Ernie Hasse and Signature Sound: Christmas Live! 2013-10-15\n",
      "M is for Merry Christmas 2013-10-23\n",
      "Coin Toss 2013-01-12\n",
      "Two Night Stand 2014-09-26\n",
      "The Canal 2014-10-10\n",
      "Happy Christmas 2014-07-25\n",
      "The March Sisters at Christmas 2014-10-20\n",
      "Holidaze 2014-10-22\n",
      "A Magic Christmas 2014-10-08\n",
      "Christmas with Tucker 2014-09-29\n",
      "Glass Chin 2014-04-19\n",
      "Anthony 2014-10-18\n",
      "All the Pain In the World 2014-10-18\n",
      "Christmas Grace 2014-10-07\n",
      "Santa Clause: No More Fear 2014-03-17\n",
      "Christmas in Hollywood 2014-01-01\n",
      "A Christmas Horror Story 2015-07-20\n",
      "Tangerine 2015-07-10\n",
      "One Christmas Eve 2015-10-28\n",
      "Christmas in the Smokies 2015-10-16\n",
      "All Through the House 2015-10-31\n",
      "Danny Johnson Saves the World 2015-05-20\n",
      "Silver Bells 2015-09-04\n",
      "Dismembering Christmas 2015-10-01\n",
      "Thomas & Friends: Thomas' Christmas Carol 2015-10-27\n",
      "Keep Christmas With You 2015-10-16\n",
      "Unbelief 2015-04-11\n",
      "Christmas at Dracula's 2015-03-01\n",
      "The Conjuring 2 2016-06-08\n",
      "I Am Not a Serial Killer 2016-08-26\n",
      "Hounds of Love 2016-10-07\n",
      "The Bridge Part 2 2016-03-20\n",
      "A Perfect Christmas 2016-07-16\n",
      "Alpha and Omega: The Big Fureeze 2016-10-31\n",
      "Girlfriends of Christmas Past 2016-10-25\n",
      "A Miracle on Christmas Lake 2016-09-24\n",
      "Bad Karma Santa 2016-06-03\n",
      "Dancing the Nutcracker: Inside the Royal Ballet 2016-01-01\n",
      "Merry Gentlemen 2016-09-26\n",
      "Providence 2016-02-12\n",
      "Olaf's Frozen Adventure 2017-10-27\n",
      "The Man Who Invented Christmas 2017-10-12\n",
      "A Bad Moms Christmas 2017-08-04\n",
      "Better Watch Out 2017-10-06\n",
      "Mariah Carey's All I Want for Christmas Is You 2017-09-11\n",
      "Super Dark Times 2017-09-29\n",
      "Submergence 2017-09-22\n",
      "Mother Krampus 2017-10-08\n",
      "The Christmas Cure 2017-07-15\n",
      "A Rose for Christmas 2017-01-01\n",
      "Apple of My Eye 2017-01-10\n",
      "Home for Christmas Day 2017-07-16\n",
      "Marry Me at Christmas 2017-10-28\n",
      "Christmas Crime Story 2017-10-24\n",
      "Cloudy with a Chance of Meatballs: Lobster Claus Is Coming to Town 2017-10-31\n",
      "Journey to the Last Christmas Dance 2017-07-17\n",
      "Stray Dog 2017-10-16\n",
      "Коледен капан 2017-10-30\n",
      "The Nutcracker and the Four Realms 2018-10-26\n",
      "Await Further Instructions 2018-08-26\n",
      "Christmas at Pemberley Manor 2018-10-27\n",
      "One Winter Weekend 2018-01-20\n",
      "Megan's Christmas Miracle 2018-10-10\n",
      "Christmas in Angel Falls 2018-06-01\n",
      "Why Hide? 2018-03-30\n",
      "Mr. 365 2018-10-15\n",
      "All the Creatures Were Stirring 2018-04-06\n",
      "Mrs. Claus 2018-05-04\n",
      "Clara's Ultimate Christmas 2018-09-24\n",
      "The Least of These: A Christmas Story 2018-10-22\n",
      "Secret Santa 2018-03-03\n",
      "The Super Simple Show - Christmas 2018-01-01\n",
      "A Raunchy Christmas Story 2018-08-19\n",
      "Poor Jane 2018-03-03\n",
      "Shazam! 2019-03-29\n",
      "A Cinderella Story: Christmas Wish 2019-10-15\n",
      "The Intruder 2019-05-03\n",
      "Santa's Little Helpers 2019-02-05\n",
      "I Trapped the Devil 2019-04-26\n",
      "Christmas Break-In 2019-09-06\n",
      "Christmas Wishes & Mistletoe Kisses 2019-10-26\n",
      "A Merry Christmas Match 2019-10-25\n",
      "Santa Girl 2019-08-29\n",
      "A Christmas Movie Christmas 2019-10-27\n",
      "Sweet Mountain Christmas 2019-10-25\n",
      "Christmas Camp 2019-07-11\n",
      "Elf Pets: A Fox Cub's Christmas Tale 2019-06-18\n",
      "Santa Fake 2019-10-04\n",
      "3 Bears Christmas 2019-09-24\n",
      "The Road Home for Christmas 2019-10-26\n",
      "Christmas Coupon 2019-09-12\n",
      "Christmas in July 2019-09-15\n",
      "Carol of the Bells 2019-10-19\n",
      "Winter's Blood 2019-10-26\n",
      "Evergreen 2019-04-13\n",
      "Once Upon a Snowman 2020-10-23\n",
      "Fatman 2020-10-19\n",
      "The Lodge 2020-01-16\n",
      "Relic 2020-07-03\n",
      "Chateau Christmas 2020-10-25\n",
      "Jingle Bell Bride 2020-10-24\n",
      "A Very Country Christmas Homecoming 2020-06-03\n",
      "A New York Christmas Wedding 2020-08-21\n",
      "Deck the Heart 2020-09-01\n",
      "Winter in Vail 2020-01-04\n",
      "Deliver by Christmas 2020-10-25\n",
      "Middleton Christmas 2020-10-28\n",
      "One Royal Holiday 2020-10-14\n",
      "A Crafty Christmas Romance 2020-10-30\n",
      "Christmas Unwrapped 2020-10-24\n",
      "Miracle on Christmas 2020-10-31\n",
      "Candy Cane Christmas 2020-10-31\n",
      "12 Days of Christmas 2020-09-01\n",
      "Christmas Tree Lane 2020-10-24\n",
      "2020 Hallmark Movies & Mysteries Preview Special 2020-03-21\n",
      "Ornament 2020-06-07\n",
      "Smelf the Elf Holiday Special 2020-08-06\n",
      "2020 Hallmark Miracles of Christmas Preview Special 2020-10-18\n",
      "Dona & Vixen 2020-10-21\n",
      "The Green Knight 2021-07-29\n",
      "Boiling Point 2021-07-05\n",
      "Red Snow 2021-04-14\n",
      "Boyfriends of Christmas Past 2021-10-23\n",
      "A New Year's Resolution 2021-01-09\n",
      "Small Engine Repair 2021-09-10\n",
      "Much Ado About Christmas 2021-10-30\n",
      "How to Deter a Robber 2021-07-16\n",
      "You, Me and the Christmas Trees 2021-10-22\n",
      "A Chance for Christmas 2021-06-18\n",
      "Christmas in Harmony 2021-10-29\n",
      "Coyote Creek Christmas 2021-10-30\n",
      "The Santa Stakeout 2021-10-24\n",
      "Christmas Sail 2021-10-31\n",
      "The Christmas Dance 2021-09-21\n",
      "Saving Paradise 2021-09-03\n",
      "Banking on Love 2021-06-01\n",
      "See You Next Christmas 2021-08-20\n",
      "Christmas Collision 2021-10-07\n",
      "Christmas on the Carousel 2021-10-09\n",
      "A Tiny House Christmas 2021-02-12\n",
      "Clean 2022-01-28\n",
      "Christmas Bloody Christmas 2022-10-05\n",
      "Destined at Christmas 2022-10-22\n",
      "A Kismet Christmas 2022-10-23\n",
      "We Need a Little Christmas 2022-10-22\n",
      "Jolly Good Christmas 2022-10-29\n",
      "Christmas in Toyland 2022-07-23\n",
      "My Grown-Up Christmas List 2022-07-09\n",
      "Noel Next Door 2022-10-21\n",
      "Ghosts of Christmas Always 2022-10-30\n",
      "A Cozy Christmas Inn 2022-10-28\n",
      "Campfire Christmas 2022-07-16\n",
      "We Wish You a Married Christmas 2022-10-22\n",
      "The Leech 2022-06-23\n",
      "Amityville Christmas Vacation 2022-09-19\n",
      "Christmas Journey 2022-10-13\n",
      "The Christmas Challenge 2022-10-01\n",
      "Oldtimers 2022-07-30\n",
      "Cookies by the Fire 2022-01-01\n"
     ]
    }
   ],
   "source": [
    "nondec_titles = []\n",
    "for year in d_year:\n",
    "    for page in d_year[year]:\n",
    "        for film in d_year[year][page]:\n",
    "            if film['release_date'].split('-')[1] not in ['12', '11']:\n",
    "                print(film['original_title'], film['release_date'])\n",
    "                nondec_titles.append(film['original_title'])"
   ]
  },
  {
   "cell_type": "code",
   "execution_count": 689,
   "id": "b457bc69-43f5-4d71-ac03-cde73b04132a",
   "metadata": {
    "execution": {
     "iopub.execute_input": "2022-12-18T16:25:41.293585Z",
     "iopub.status.busy": "2022-12-18T16:25:41.293230Z",
     "iopub.status.idle": "2022-12-18T16:25:41.303281Z",
     "shell.execute_reply": "2022-12-18T16:25:41.302024Z",
     "shell.execute_reply.started": "2022-12-18T16:25:41.293553Z"
    },
    "tags": []
   },
   "outputs": [
    {
     "data": {
      "text/plain": [
       "['The Search for Santa Paws',\n",
       " 'Conviction',\n",
       " 'The Traveler',\n",
       " 'A Christmas Snow',\n",
       " 'The Santa Incident',\n",
       " 'Tim and Eric Awesome Show, Great Job! Chrimbus Special',\n",
       " 'The Most Wonderful Time of the Year Featuring Natalie Cole',\n",
       " 'Christmas Lodge',\n",
       " 'Dear Santa',\n",
       " 'November Christmas']"
      ]
     },
     "execution_count": 689,
     "metadata": {},
     "output_type": "execute_result"
    }
   ],
   "source": [
    "nondec_titles[:10]"
   ]
  },
  {
   "cell_type": "markdown",
   "id": "1b83c313-44e9-41b9-a731-92ea446fd0ec",
   "metadata": {
    "execution": {
     "iopub.execute_input": "2022-12-10T12:03:29.756929Z",
     "iopub.status.busy": "2022-12-10T12:03:29.756530Z",
     "iopub.status.idle": "2022-12-10T12:03:29.768158Z",
     "shell.execute_reply": "2022-12-10T12:03:29.767007Z",
     "shell.execute_reply.started": "2022-12-10T12:03:29.756890Z"
    },
    "tags": []
   },
   "source": [
    "It looks like there's several which look like genuine xmas ones released even before November! I will leave things as is (won't exclude based on month of release)."
   ]
  },
  {
   "cell_type": "code",
   "execution_count": 690,
   "id": "9227db94-f30e-4865-b74e-8a57bb2e12f6",
   "metadata": {
    "collapsed": true,
    "execution": {
     "iopub.execute_input": "2022-12-18T16:25:43.344778Z",
     "iopub.status.busy": "2022-12-18T16:25:43.344460Z",
     "iopub.status.idle": "2022-12-18T16:25:43.358374Z",
     "shell.execute_reply": "2022-12-18T16:25:43.356991Z",
     "shell.execute_reply.started": "2022-12-18T16:25:43.344750Z"
    },
    "jupyter": {
     "outputs_hidden": true
    },
    "tags": []
   },
   "outputs": [
    {
     "data": {
      "text/plain": [
       "[{'adult': False,\n",
       "  'backdrop_path': None,\n",
       "  'genre_ids': [18, 10751],\n",
       "  'id': 1034042,\n",
       "  'original_language': 'en',\n",
       "  'original_title': 'A Wesley Christmas',\n",
       "  'overview': 'Adult siblings Chris, Todd, and Cydney Wesley travel to their childhood home to celebrate Christmas with their parents and the entire Wesley family. With everyone together and all their physical and emotional baggage in tow, the annual Wesley family holiday promises to be a festive, hot-mess of a Christmas with life-changing impacts on the whole family.',\n",
       "  'popularity': 1.96,\n",
       "  'poster_path': '/bmmKNaKpEKMPdfs1iB9ciIMGhBH.jpg',\n",
       "  'release_date': '2022-11-03',\n",
       "  'title': 'A Wesley Christmas',\n",
       "  'video': False,\n",
       "  'vote_average': 6,\n",
       "  'vote_count': 1},\n",
       " {'adult': False,\n",
       "  'backdrop_path': '/d8KfZG711doMTs6p25tO3T5zoi1.jpg',\n",
       "  'genre_ids': [35, 10749, 10751],\n",
       "  'id': 1032464,\n",
       "  'original_language': 'en',\n",
       "  'original_title': 'All I Want For Christmas',\n",
       "  'overview': 'A beloved Black mall Santa wants to find the perfect replacement before he retires, while a teen is depending on him to help reunite her battling parents.',\n",
       "  'popularity': 1.4,\n",
       "  'poster_path': '/zOAwAZLSAGQI7XnfuIyUskcZdC2.jpg',\n",
       "  'release_date': '2022-11-04',\n",
       "  'title': 'All I Want For Christmas',\n",
       "  'video': False,\n",
       "  'vote_average': 4,\n",
       "  'vote_count': 1},\n",
       " {'adult': False,\n",
       "  'backdrop_path': None,\n",
       "  'genre_ids': [35, 10749, 18],\n",
       "  'id': 1034160,\n",
       "  'original_language': 'en',\n",
       "  'original_title': 'The Christmas Clapback',\n",
       "  'overview': '\\u200bEvery year the three Miles sisters, Jasmine, Kira, and Tisha, battle each other for a chance to win the neighborhood Christmas Church Cook-Off competition. But when Aaliyah, the vivacious Social Media Influencer, enters the competition, the sisters must choose to rise together, or fall divided.',\n",
       "  'popularity': 1.287,\n",
       "  'poster_path': '/gvVoGEQQV1dm316j6Ot9e9EbB63.jpg',\n",
       "  'release_date': '2022-11-24',\n",
       "  'title': 'The Christmas Clapback',\n",
       "  'video': False,\n",
       "  'vote_average': 7,\n",
       "  'vote_count': 1},\n",
       " {'adult': False,\n",
       "  'backdrop_path': '/ptMDVQ95iBlvDVeJlHTEMyrxbnu.jpg',\n",
       "  'genre_ids': [35],\n",
       "  'id': 1032459,\n",
       "  'original_language': 'en',\n",
       "  'original_title': 'Santa Games',\n",
       "  'overview': 'When beloved Santa Charles finally decides to retire from his career as a mall Santa, a series of interviews to replace him turns into an all-out competition.',\n",
       "  'popularity': 1.323,\n",
       "  'poster_path': '/bwNLyFL2zXU3lp0voRWjp6gDbj6.jpg',\n",
       "  'release_date': '2022-11-04',\n",
       "  'title': 'Santa Games',\n",
       "  'video': False,\n",
       "  'vote_average': 0,\n",
       "  'vote_count': 0},\n",
       " {'adult': False,\n",
       "  'backdrop_path': '/j3EqbT0hJ3Z6nbbpTGncf9Opfml.jpg',\n",
       "  'genre_ids': [35, 27],\n",
       "  'id': 853178,\n",
       "  'original_language': 'en',\n",
       "  'original_title': 'The Leech',\n",
       "  'overview': 'A devout priest welcomes a struggling couple into his house at Christmas time. What begins as a simple act of kindness quickly becomes the ultimate test of faith once the sanctity of his home is jeopardized.',\n",
       "  'popularity': 1.138,\n",
       "  'poster_path': '/f91NjWvNQWrZwrr4KetgvHQZNcK.jpg',\n",
       "  'release_date': '2022-06-23',\n",
       "  'title': 'The Leech',\n",
       "  'video': False,\n",
       "  'vote_average': 4.5,\n",
       "  'vote_count': 3},\n",
       " {'adult': False,\n",
       "  'backdrop_path': '/nDejHMvYD0QWIqKaabkMFtSjQAm.jpg',\n",
       "  'genre_ids': [10770, 35, 18, 10749],\n",
       "  'id': 1031443,\n",
       "  'original_language': 'en',\n",
       "  'original_title': 'The Case of the Christmas Diamond',\n",
       "  'overview': \"Blue-collar Andy finds herself accused of theft when a multimillion-dollar gem suddenly goes missing from her rich friend's estate. With the help of a famous mystery writer, Andy must find the real culprit amid the litany of wealthy guests.\",\n",
       "  'popularity': 1.4,\n",
       "  'poster_path': '/63j73WwSWnXfhIS87HhFAmdk98a.jpg',\n",
       "  'release_date': '2022-11-20',\n",
       "  'title': 'The Case of the Christmas Diamond',\n",
       "  'video': False,\n",
       "  'vote_average': 8.5,\n",
       "  'vote_count': 2},\n",
       " {'adult': False,\n",
       "  'backdrop_path': None,\n",
       "  'genre_ids': [35, 10749, 27],\n",
       "  'id': 1026299,\n",
       "  'original_language': 'en',\n",
       "  'original_title': 'Amityville Christmas Vacation',\n",
       "  'overview': 'Wally has won a vacation to sunny Amityville! While there he has met a woman: a GHOST woman! Can the spirit of Christmas bring these two opposites together?',\n",
       "  'popularity': 1.369,\n",
       "  'poster_path': '/63hdDNqexkCcJhsNFCny7zlb74i.jpg',\n",
       "  'release_date': '2022-09-19',\n",
       "  'title': 'Amityville Christmas Vacation',\n",
       "  'video': False,\n",
       "  'vote_average': 8,\n",
       "  'vote_count': 1},\n",
       " {'adult': False,\n",
       "  'backdrop_path': None,\n",
       "  'genre_ids': [10751, 10402],\n",
       "  'id': 1046740,\n",
       "  'original_language': 'en',\n",
       "  'original_title': 'The Gift',\n",
       "  'overview': 'In the final chapter of From Our Family To Yours, Nicole and her family are preparing to welcome a special new addition... but not everyone is ready for things to change.',\n",
       "  'popularity': 0.6,\n",
       "  'poster_path': '/lcIsdULXoKdbByQc4doMmiBwfew.jpg',\n",
       "  'release_date': '2022-11-01',\n",
       "  'title': 'The Gift',\n",
       "  'video': False,\n",
       "  'vote_average': 0,\n",
       "  'vote_count': 0},\n",
       " {'adult': False,\n",
       "  'backdrop_path': '/e9LatHFa8HurGQnnRlxZRiFQ242.jpg',\n",
       "  'genre_ids': [18, 28],\n",
       "  'id': 1036162,\n",
       "  'original_language': 'en',\n",
       "  'original_title': 'Christmas Journey',\n",
       "  'overview': 'After serving in a war abroad and fighting a war back home, a mother and son decide to take a holiday motorcycle trip to lift his spirits.',\n",
       "  'popularity': 0.667,\n",
       "  'poster_path': '/1GO53IiR8QiaELJ4hkH5DTn6iWA.jpg',\n",
       "  'release_date': '2022-10-13',\n",
       "  'title': 'Christmas Journey',\n",
       "  'video': False,\n",
       "  'vote_average': 0,\n",
       "  'vote_count': 0},\n",
       " {'adult': False,\n",
       "  'backdrop_path': '/cz80gTkvuIEOLQTVr8LKl1Z8uSK.jpg',\n",
       "  'genre_ids': [10770, 35, 10749],\n",
       "  'id': 1035783,\n",
       "  'original_language': 'en',\n",
       "  'original_title': 'The Christmas Challenge',\n",
       "  'overview': 'Podcast host Laura Ross and her longtime friend and producer Paul are challenged to re-examine their personal and professional relationships when a listener submits the daily \"Christmas Challenge\" that promotes togetherness to their ambitious \"Modernly Independent\" podcast.',\n",
       "  'popularity': 0.622,\n",
       "  'poster_path': '/sF1UsNxHeeNI2uAxKg7Oax9Vg3l.jpg',\n",
       "  'release_date': '2022-10-01',\n",
       "  'title': 'The Christmas Challenge',\n",
       "  'video': False,\n",
       "  'vote_average': 0,\n",
       "  'vote_count': 0},\n",
       " {'adult': False,\n",
       "  'backdrop_path': None,\n",
       "  'genre_ids': [27, 35, 9648],\n",
       "  'id': 1028562,\n",
       "  'original_language': 'en',\n",
       "  'original_title': 'Oldtimers',\n",
       "  'overview': 'Two associates finally get together during the holiday season to reminisce on their past glory days, hash out their differences, and rejoice by embracing a new, disturbing legacy.',\n",
       "  'popularity': 0.6,\n",
       "  'poster_path': '/5IeDrVbrkjFDBwrPHhbWR5jlIh4.jpg',\n",
       "  'release_date': '2022-07-30',\n",
       "  'title': 'Oldtimers',\n",
       "  'video': False,\n",
       "  'vote_average': 0,\n",
       "  'vote_count': 0},\n",
       " {'adult': False,\n",
       "  'backdrop_path': None,\n",
       "  'genre_ids': [27],\n",
       "  'id': 1062838,\n",
       "  'original_language': 'en',\n",
       "  'original_title': 'Cookies by the Fire',\n",
       "  'overview': 'A desperate teenage girl digs up a dark family secret to ensure she can celebrate a peaceful, merry Christmas, with her mother and brother.',\n",
       "  'popularity': 0,\n",
       "  'poster_path': None,\n",
       "  'release_date': '2022-01-01',\n",
       "  'title': 'Cookies by the Fire',\n",
       "  'video': False,\n",
       "  'vote_average': 0,\n",
       "  'vote_count': 0}]"
      ]
     },
     "execution_count": 690,
     "metadata": {},
     "output_type": "execute_result"
    }
   ],
   "source": [
    "d_year[2022][8]"
   ]
  },
  {
   "cell_type": "markdown",
   "id": "c8a4b149-87ab-4a33-adda-9537d317089c",
   "metadata": {},
   "source": [
    "## avg rating per year\n",
    "\n",
    "To understand the ratings, I pulled a couple of movies and compared to the TMDB rating shown on the web page - the rating here is on a scale of 0-10, on website it's shown as %, e.g. 6.2 here and 62% there"
   ]
  },
  {
   "cell_type": "code",
   "execution_count": 716,
   "id": "bdde9077-bea7-4ea3-984f-9103a3715f82",
   "metadata": {
    "execution": {
     "iopub.execute_input": "2022-12-18T16:30:56.121184Z",
     "iopub.status.busy": "2022-12-18T16:30:56.120497Z",
     "iopub.status.idle": "2022-12-18T16:30:56.133243Z",
     "shell.execute_reply": "2022-12-18T16:30:56.130936Z",
     "shell.execute_reply.started": "2022-12-18T16:30:56.121129Z"
    },
    "tags": []
   },
   "outputs": [],
   "source": [
    "# using the median as I'm pretty sure the dist is skewed\n",
    "x = range(2010, 2023)\n",
    "y = []\n",
    "\n",
    "tot_ratings = []\n",
    "for year in x:\n",
    "    ratings = []\n",
    "    for page in d_year[year]:\n",
    "#        print(year, page, len(d_year[year][page]))\n",
    "        for film in d_year[year][page]:\n",
    "            if film['vote_count'] > 20:\n",
    "                ratings.append(film['vote_average'])\n",
    "    tot_ratings += ratings\n",
    "    y.append(np.median(ratings))"
   ]
  },
  {
   "cell_type": "code",
   "execution_count": 717,
   "id": "f13d4819-043e-450c-a993-10399ef75a98",
   "metadata": {
    "execution": {
     "iopub.execute_input": "2022-12-18T16:30:59.192260Z",
     "iopub.status.busy": "2022-12-18T16:30:59.191888Z",
     "iopub.status.idle": "2022-12-18T16:30:59.412639Z",
     "shell.execute_reply": "2022-12-18T16:30:59.411355Z",
     "shell.execute_reply.started": "2022-12-18T16:30:59.192225Z"
    },
    "tags": []
   },
   "outputs": [
    {
     "data": {
      "text/plain": [
       "<BarContainer object of 13 artists>"
      ]
     },
     "execution_count": 717,
     "metadata": {},
     "output_type": "execute_result"
    },
    {
     "data": {
      "image/png": "[encoded data removed]",
      "text/plain": [
       "<Figure size 432x288 with 1 Axes>"
      ]
     },
     "metadata": {},
     "output_type": "display_data"
    }
   ],
   "source": [
    "plt.bar(x,y)"
   ]
  },
  {
   "cell_type": "code",
   "execution_count": 723,
   "id": "b31d1922-e1f1-40d4-9fc1-3ffef81119cc",
   "metadata": {
    "execution": {
     "iopub.execute_input": "2022-12-18T16:32:47.655541Z",
     "iopub.status.busy": "2022-12-18T16:32:47.655212Z",
     "iopub.status.idle": "2022-12-18T16:32:47.665694Z",
     "shell.execute_reply": "2022-12-18T16:32:47.664379Z",
     "shell.execute_reply.started": "2022-12-18T16:32:47.655510Z"
    },
    "tags": []
   },
   "outputs": [
    {
     "data": {
      "text/plain": [
       "(495, 6.3, 6.210303030303031)"
      ]
     },
     "execution_count": 723,
     "metadata": {},
     "output_type": "execute_result"
    }
   ],
   "source": [
    "len(tot_ratings), np.median(tot_ratings), np.mean(tot_ratings)"
   ]
  },
  {
   "cell_type": "code",
   "execution_count": 722,
   "id": "b3be1ee5-06ea-4ecd-8227-723c20cb769e",
   "metadata": {
    "execution": {
     "iopub.execute_input": "2022-12-18T16:32:05.553156Z",
     "iopub.status.busy": "2022-12-18T16:32:05.552673Z",
     "iopub.status.idle": "2022-12-18T16:32:05.885349Z",
     "shell.execute_reply": "2022-12-18T16:32:05.874325Z",
     "shell.execute_reply.started": "2022-12-18T16:32:05.553101Z"
    },
    "tags": []
   },
   "outputs": [
    {
     "data": {
      "text/plain": [
       "(array([  1.,   0.,   1.,   0.,   0.,   0.,   1.,   2.,  11.,  19.,  40.,\n",
       "         75.,  88., 107.,  94.,  34.,  15.,   4.,   1.,   2.]),\n",
       " array([1.9  , 2.235, 2.57 , 2.905, 3.24 , 3.575, 3.91 , 4.245, 4.58 ,\n",
       "        4.915, 5.25 , 5.585, 5.92 , 6.255, 6.59 , 6.925, 7.26 , 7.595,\n",
       "        7.93 , 8.265, 8.6  ]),\n",
       " <BarContainer object of 20 artists>)"
      ]
     },
     "execution_count": 722,
     "metadata": {},
     "output_type": "execute_result"
    },
    {
     "data": {
      "image/png": "[encoded data removed]",
      "text/plain": [
       "<Figure size 432x288 with 1 Axes>"
      ]
     },
     "metadata": {},
     "output_type": "display_data"
    }
   ],
   "source": [
    "plt.hist(tot_ratings, bins=20)"
   ]
  },
  {
   "cell_type": "markdown",
   "id": "816d8816-66d7-4367-b8b1-0ac02df0548c",
   "metadata": {},
   "source": [
    "it's actually not that skewed, mostly as I cut films with very little votes."
   ]
  },
  {
   "cell_type": "markdown",
   "id": "902504fa-6cf9-4334-b9cd-886c89c423ee",
   "metadata": {},
   "source": [
    "## How many votes?\n",
    "\n",
    "And votes vs ratings too"
   ]
  },
  {
   "cell_type": "code",
   "execution_count": 693,
   "id": "6b5ecf33-2cad-4439-88a3-0be33f0fff6b",
   "metadata": {
    "execution": {
     "iopub.execute_input": "2022-12-18T16:25:49.804191Z",
     "iopub.status.busy": "2022-12-18T16:25:49.802986Z",
     "iopub.status.idle": "2022-12-18T16:25:49.812776Z",
     "shell.execute_reply": "2022-12-18T16:25:49.811709Z",
     "shell.execute_reply.started": "2022-12-18T16:25:49.804116Z"
    },
    "tags": []
   },
   "outputs": [],
   "source": [
    "votes, ratings = [],[]\n",
    "for year in d_year.keys():\n",
    "    for page in d_year[year]:\n",
    "        for film in d_year[year][page]:\n",
    "            votes.append(film['vote_count'])\n",
    "            ratings.append(film['vote_average'])"
   ]
  },
  {
   "cell_type": "code",
   "execution_count": 694,
   "id": "2a29cb51-79db-4f62-afd5-28c2765a1857",
   "metadata": {
    "execution": {
     "iopub.execute_input": "2022-12-18T16:25:50.479785Z",
     "iopub.status.busy": "2022-12-18T16:25:50.479465Z",
     "iopub.status.idle": "2022-12-18T16:25:50.493915Z",
     "shell.execute_reply": "2022-12-18T16:25:50.492791Z",
     "shell.execute_reply.started": "2022-12-18T16:25:50.479756Z"
    },
    "tags": []
   },
   "outputs": [
    {
     "data": {
      "text/plain": [
       "(106.79968578161822, 13.0, 20124, 0)"
      ]
     },
     "execution_count": 694,
     "metadata": {},
     "output_type": "execute_result"
    }
   ],
   "source": [
    "np.mean(votes), np.median(votes), np.max(votes), np.min(votes)"
   ]
  },
  {
   "cell_type": "code",
   "execution_count": 695,
   "id": "d2d237e5-179d-4e97-8302-baf57b0d5f0c",
   "metadata": {
    "execution": {
     "iopub.execute_input": "2022-12-18T16:25:50.886795Z",
     "iopub.status.busy": "2022-12-18T16:25:50.886452Z",
     "iopub.status.idle": "2022-12-18T16:25:51.564990Z",
     "shell.execute_reply": "2022-12-18T16:25:51.560173Z",
     "shell.execute_reply.started": "2022-12-18T16:25:50.886765Z"
    },
    "tags": []
   },
   "outputs": [
    {
     "data": {
      "image/png": "[encoded data removed]",
      "text/plain": [
       "<Figure size 432x288 with 1 Axes>"
      ]
     },
     "metadata": {},
     "output_type": "display_data"
    }
   ],
   "source": [
    "plt.hist(votes, bins=50, log=True);"
   ]
  },
  {
   "cell_type": "code",
   "execution_count": 696,
   "id": "883df919-505e-41ad-9d8a-d8ab52235fa5",
   "metadata": {
    "execution": {
     "iopub.execute_input": "2022-12-18T16:25:51.580892Z",
     "iopub.status.busy": "2022-12-18T16:25:51.580075Z",
     "iopub.status.idle": "2022-12-18T16:25:51.621880Z",
     "shell.execute_reply": "2022-12-18T16:25:51.620694Z",
     "shell.execute_reply.started": "2022-12-18T16:25:51.580849Z"
    },
    "tags": []
   },
   "outputs": [
    {
     "data": {
      "text/plain": [
       "array([[1.        , 0.08314171],\n",
       "       [0.08314171, 1.        ]])"
      ]
     },
     "execution_count": 696,
     "metadata": {},
     "output_type": "execute_result"
    }
   ],
   "source": [
    "np.corrcoef(votes, ratings)"
   ]
  },
  {
   "cell_type": "code",
   "execution_count": 697,
   "id": "1a303a29-904f-4a78-91d8-899976f1f8af",
   "metadata": {
    "execution": {
     "iopub.execute_input": "2022-12-18T16:25:53.213392Z",
     "iopub.status.busy": "2022-12-18T16:25:53.213048Z",
     "iopub.status.idle": "2022-12-18T16:25:53.737735Z",
     "shell.execute_reply": "2022-12-18T16:25:53.736508Z",
     "shell.execute_reply.started": "2022-12-18T16:25:53.213360Z"
    },
    "tags": []
   },
   "outputs": [
    {
     "data": {
      "text/plain": [
       "<matplotlib.collections.PathCollection at 0x12ce76250>"
      ]
     },
     "execution_count": 697,
     "metadata": {},
     "output_type": "execute_result"
    },
    {
     "data": {
      "text/plain": [
       "[]"
      ]
     },
     "execution_count": 697,
     "metadata": {},
     "output_type": "execute_result"
    },
    {
     "data": {
      "image/png": "[encoded data removed]",
      "text/plain": [
       "<Figure size 432x288 with 1 Axes>"
      ]
     },
     "metadata": {},
     "output_type": "display_data"
    }
   ],
   "source": [
    "plt.scatter(votes, ratings)\n",
    "plt.semilogx()\n",
    "#plt.semilogy()"
   ]
  },
  {
   "cell_type": "markdown",
   "id": "9fc2168e-52d4-454e-b6e3-952691e44b8d",
   "metadata": {},
   "source": [
    "this was just to check if more ratings bring a higher score - not really the case"
   ]
  },
  {
   "cell_type": "code",
   "execution_count": 698,
   "id": "f25604b7-67ce-49b5-ba94-eae6b183a566",
   "metadata": {
    "execution": {
     "iopub.execute_input": "2022-12-18T16:25:55.932613Z",
     "iopub.status.busy": "2022-12-18T16:25:55.932038Z",
     "iopub.status.idle": "2022-12-18T16:25:55.942593Z",
     "shell.execute_reply": "2022-12-18T16:25:55.940524Z",
     "shell.execute_reply.started": "2022-12-18T16:25:55.932578Z"
    },
    "tags": []
   },
   "outputs": [
    {
     "name": "stdout",
     "output_type": "stream",
     "text": [
      "Iron Man 3\n",
      "Klaus\n"
     ]
    }
   ],
   "source": [
    "# can derive who are these ones with many votes and a fairly high popularity\n",
    "# or also who's that one with ~20000 votes (!)\n",
    "\n",
    "votes, ratings = [], []\n",
    "for year in d_year.keys():\n",
    "    for page in d_year[year]:\n",
    "        for film in d_year[year][page]:\n",
    "            if film['vote_count'] > 100 and film['vote_average'] > 8:\n",
    "                print(film['original_title'])\n",
    "                \n",
    "            if film['vote_count'] > 20000:\n",
    "                print(film['original_title'])"
   ]
  },
  {
   "cell_type": "markdown",
   "id": "e0499c1a-2c0e-4e74-9643-a63e6eec1f05",
   "metadata": {},
   "source": [
    "## Genres"
   ]
  },
  {
   "cell_type": "code",
   "execution_count": 699,
   "id": "6135ac75-7993-4549-aa8d-e3594985301e",
   "metadata": {
    "execution": {
     "iopub.execute_input": "2022-12-18T16:25:59.666575Z",
     "iopub.status.busy": "2022-12-18T16:25:59.660385Z",
     "iopub.status.idle": "2022-12-18T16:25:59.681580Z",
     "shell.execute_reply": "2022-12-18T16:25:59.676770Z",
     "shell.execute_reply.started": "2022-12-18T16:25:59.666532Z"
    },
    "tags": []
   },
   "outputs": [],
   "source": [
    "url = \"https://api.themoviedb.org/3/genre/movie/list?api_key=\" + API_KEY"
   ]
  },
  {
   "cell_type": "code",
   "execution_count": 700,
   "id": "23ae3727-c2a8-45e8-8a5f-e1a1ef59ae57",
   "metadata": {
    "execution": {
     "iopub.execute_input": "2022-12-18T16:25:59.858308Z",
     "iopub.status.busy": "2022-12-18T16:25:59.857766Z",
     "iopub.status.idle": "2022-12-18T16:26:00.061444Z",
     "shell.execute_reply": "2022-12-18T16:26:00.053620Z",
     "shell.execute_reply.started": "2022-12-18T16:25:59.858272Z"
    },
    "tags": []
   },
   "outputs": [
    {
     "data": {
      "text/plain": [
       "{28: 'Action',\n",
       " 12: 'Adventure',\n",
       " 16: 'Animation',\n",
       " 35: 'Comedy',\n",
       " 80: 'Crime',\n",
       " 99: 'Documentary',\n",
       " 18: 'Drama',\n",
       " 10751: 'Family',\n",
       " 14: 'Fantasy',\n",
       " 36: 'History',\n",
       " 27: 'Horror',\n",
       " 10402: 'Music',\n",
       " 9648: 'Mystery',\n",
       " 10749: 'Romance',\n",
       " 878: 'Science Fiction',\n",
       " 10770: 'TV Movie',\n",
       " 53: 'Thriller',\n",
       " 10752: 'War',\n",
       " 37: 'Western'}"
      ]
     },
     "execution_count": 700,
     "metadata": {},
     "output_type": "execute_result"
    }
   ],
   "source": [
    "response = requests.get(url)\n",
    "genres = {item['id']:item['name'] for item in response.json()['genres']}\n",
    "\n",
    "genres"
   ]
  },
  {
   "cell_type": "code",
   "execution_count": 701,
   "id": "b08a7a98-13a3-4104-bfeb-6fd75da2e2b0",
   "metadata": {
    "execution": {
     "iopub.execute_input": "2022-12-18T16:26:00.140425Z",
     "iopub.status.busy": "2022-12-18T16:26:00.138538Z",
     "iopub.status.idle": "2022-12-18T16:26:00.154540Z",
     "shell.execute_reply": "2022-12-18T16:26:00.152621Z",
     "shell.execute_reply.started": "2022-12-18T16:26:00.140362Z"
    },
    "tags": []
   },
   "outputs": [],
   "source": [
    "genre_counts = {}\n",
    "\n",
    "for year in d_year:\n",
    "    for page in d_year[year]:\n",
    "        for film in d_year[year][page]:\n",
    "            for genre_id in film['genre_ids']:                    \n",
    "                try:\n",
    "                    genre_counts[genres[genre_id]] += 1\n",
    "                    #print('found it', genre_counts)\n",
    "                except KeyError:\n",
    "                    genre_counts[genres[genre_id]] = 1\n",
    "                    #print('not found it')"
   ]
  },
  {
   "cell_type": "code",
   "execution_count": 702,
   "id": "e5ae95f8-e32a-4f7d-ad80-7148e78855a3",
   "metadata": {
    "execution": {
     "iopub.execute_input": "2022-12-18T16:26:00.637267Z",
     "iopub.status.busy": "2022-12-18T16:26:00.636623Z",
     "iopub.status.idle": "2022-12-18T16:26:00.652084Z",
     "shell.execute_reply": "2022-12-18T16:26:00.650516Z",
     "shell.execute_reply.started": "2022-12-18T16:26:00.637231Z"
    },
    "tags": []
   },
   "outputs": [
    {
     "data": {
      "text/plain": [
       "{'Animation': 78,\n",
       " 'Family': 373,\n",
       " 'TV Movie': 727,\n",
       " 'Comedy': 572,\n",
       " 'Fantasy': 104,\n",
       " 'Adventure': 34,\n",
       " 'Drama': 395,\n",
       " 'Romance': 643,\n",
       " 'Horror': 72,\n",
       " 'Thriller': 22,\n",
       " 'Crime': 19,\n",
       " 'Documentary': 38,\n",
       " 'Music': 52,\n",
       " 'Science Fiction': 13,\n",
       " 'Mystery': 22,\n",
       " 'Action': 17,\n",
       " 'History': 9,\n",
       " 'War': 1}"
      ]
     },
     "execution_count": 702,
     "metadata": {},
     "output_type": "execute_result"
    }
   ],
   "source": [
    "genre_counts"
   ]
  },
  {
   "cell_type": "code",
   "execution_count": 703,
   "id": "04f49837-b876-4fbd-8b10-bc6130ce1243",
   "metadata": {
    "execution": {
     "iopub.execute_input": "2022-12-18T16:26:01.260657Z",
     "iopub.status.busy": "2022-12-18T16:26:01.260191Z",
     "iopub.status.idle": "2022-12-18T16:26:01.880723Z",
     "shell.execute_reply": "2022-12-18T16:26:01.879400Z",
     "shell.execute_reply.started": "2022-12-18T16:26:01.260604Z"
    },
    "tags": []
   },
   "outputs": [
    {
     "data": {
      "image/png": "[encoded data removed]",
      "text/plain": [
       "<Figure size 720x432 with 1 Axes>"
      ]
     },
     "metadata": {},
     "output_type": "display_data"
    }
   ],
   "source": [
    "plt.figure(figsize=(10,6));\n",
    "plt.xticks(rotation=45);\n",
    "\n",
    "plt.title('Movies with \"christmas\" tag by genre');\n",
    "plt.xlabel('Genre');\n",
    "plt.ylabel('Movie count');\n",
    "plt.bar(genre_counts.keys(), genre_counts.values());\n",
    "\n",
    "plt.savefig('movies-by-genre.jpg', bbox_inches='tight');"
   ]
  },
  {
   "cell_type": "code",
   "execution_count": 704,
   "id": "b493c11f-4c21-45c8-bb4a-f68671306e29",
   "metadata": {
    "execution": {
     "iopub.execute_input": "2022-12-18T16:26:01.995573Z",
     "iopub.status.busy": "2022-12-18T16:26:01.994934Z",
     "iopub.status.idle": "2022-12-18T16:26:02.019397Z",
     "shell.execute_reply": "2022-12-18T16:26:02.014509Z",
     "shell.execute_reply.started": "2022-12-18T16:26:01.995519Z"
    },
    "tags": []
   },
   "outputs": [
    {
     "data": {
      "text/plain": [
       "{'Animation': 78,\n",
       " 'Family': 373,\n",
       " 'TV Movie': 727,\n",
       " 'Comedy': 572,\n",
       " 'Fantasy': 104,\n",
       " 'Adventure': 34,\n",
       " 'Drama': 395,\n",
       " 'Romance': 643,\n",
       " 'Horror': 72,\n",
       " 'Thriller': 22,\n",
       " 'Crime': 19,\n",
       " 'Documentary': 38,\n",
       " 'Music': 52,\n",
       " 'Science Fiction': 13,\n",
       " 'Mystery': 22,\n",
       " 'Action': 17,\n",
       " 'History': 9,\n",
       " 'War': 1}"
      ]
     },
     "execution_count": 704,
     "metadata": {},
     "output_type": "execute_result"
    }
   ],
   "source": [
    "genre_counts"
   ]
  },
  {
   "cell_type": "code",
   "execution_count": 705,
   "id": "1932bae5-c2df-46e8-9289-169f0ea587d2",
   "metadata": {
    "execution": {
     "iopub.execute_input": "2022-12-18T16:29:18.073830Z",
     "iopub.status.busy": "2022-12-18T16:29:18.073497Z",
     "iopub.status.idle": "2022-12-18T16:29:18.082675Z",
     "shell.execute_reply": "2022-12-18T16:29:18.081324Z",
     "shell.execute_reply.started": "2022-12-18T16:29:18.073798Z"
    },
    "tags": []
   },
   "outputs": [
    {
     "data": {
      "text/plain": [
       "3191"
      ]
     },
     "execution_count": 705,
     "metadata": {},
     "output_type": "execute_result"
    }
   ],
   "source": [
    "sum(genre_counts.values())"
   ]
  },
  {
   "cell_type": "code",
   "execution_count": 706,
   "id": "6e5dc7a0-e3ef-4f5c-a62e-a2817655d55b",
   "metadata": {
    "execution": {
     "iopub.execute_input": "2022-12-18T16:29:19.469555Z",
     "iopub.status.busy": "2022-12-18T16:29:19.469208Z",
     "iopub.status.idle": "2022-12-18T16:29:19.490908Z",
     "shell.execute_reply": "2022-12-18T16:29:19.489109Z",
     "shell.execute_reply.started": "2022-12-18T16:29:19.469525Z"
    },
    "tags": []
   },
   "outputs": [
    {
     "data": {
      "text/plain": [
       "3191"
      ]
     },
     "execution_count": 706,
     "metadata": {},
     "output_type": "execute_result"
    }
   ],
   "source": [
    "# double check counts agree\n",
    "c = 0\n",
    "for year in d_year:\n",
    "    for page in d_year[year]:\n",
    "        c += sum([len(film['genre_ids']) for film in d_year[year][page]])\n",
    "        \n",
    "c"
   ]
  },
  {
   "cell_type": "code",
   "execution_count": 707,
   "id": "c430a194-2897-4f2a-8472-f9ce003c02f4",
   "metadata": {
    "execution": {
     "iopub.execute_input": "2022-12-18T16:29:20.824273Z",
     "iopub.status.busy": "2022-12-18T16:29:20.823753Z",
     "iopub.status.idle": "2022-12-18T16:29:20.839179Z",
     "shell.execute_reply": "2022-12-18T16:29:20.834780Z",
     "shell.execute_reply.started": "2022-12-18T16:29:20.824229Z"
    }
   },
   "outputs": [
    {
     "data": {
      "text/plain": [
       "[35, 18, 10749, 10770]"
      ]
     },
     "execution_count": 707,
     "metadata": {},
     "output_type": "execute_result"
    }
   ],
   "source": [
    "[35, 18, 10749, 10770]"
   ]
  },
  {
   "cell_type": "code",
   "execution_count": 708,
   "id": "2a04faf3-9683-4fc0-981a-1a04e05bfc3c",
   "metadata": {
    "execution": {
     "iopub.execute_input": "2022-12-18T16:29:21.776007Z",
     "iopub.status.busy": "2022-12-18T16:29:21.775681Z",
     "iopub.status.idle": "2022-12-18T16:29:21.784356Z",
     "shell.execute_reply": "2022-12-18T16:29:21.782054Z",
     "shell.execute_reply.started": "2022-12-18T16:29:21.775976Z"
    },
    "tags": []
   },
   "outputs": [
    {
     "name": "stdout",
     "output_type": "stream",
     "text": [
      "{'adult': False, 'backdrop_path': None, 'genre_ids': [10770, 10752, 18, 10749], 'id': 369060, 'original_language': 'en', 'original_title': 'A Christmas Truce', 'overview': 'During a shaky 24-hour holiday truce amid the Battle of the Bulge, American Captain John Myers and a Belgian farm girl, Alina, fall in love. Forced to separate when fighting resumes, the couple vows to reunite, under a bell tower, the first Christmas Eve after the war ends, if each is alive and eager.', 'popularity': 2.341, 'poster_path': '/2vjC5Xt9JbYGUvestMn5SZduRs.jpg', 'release_date': '2015-12-10', 'title': 'A Christmas Truce', 'video': False, 'vote_average': 6.6, 'vote_count': 19}\n"
     ]
    }
   ],
   "source": [
    "# which one is the war one?\n",
    "for year in d_year:\n",
    "    for page in d_year[year]:\n",
    "        for film in d_year[year][page]:\n",
    "            if 10752 in film['genre_ids']:\n",
    "                print(film)"
   ]
  },
  {
   "cell_type": "markdown",
   "id": "daf44a3e-123f-4628-9030-35277519beba",
   "metadata": {},
   "source": [
    "## See how many movies get released in the last week of the year"
   ]
  },
  {
   "cell_type": "code",
   "execution_count": 709,
   "id": "76390010-2320-402f-bab5-0dbdc46f1859",
   "metadata": {
    "execution": {
     "iopub.execute_input": "2022-12-18T16:29:24.047763Z",
     "iopub.status.busy": "2022-12-18T16:29:24.046976Z",
     "iopub.status.idle": "2022-12-18T16:29:24.056906Z",
     "shell.execute_reply": "2022-12-18T16:29:24.055831Z",
     "shell.execute_reply.started": "2022-12-18T16:29:24.047722Z"
    },
    "tags": []
   },
   "outputs": [],
   "source": [
    "c_lastofyear = {}\n",
    "for year in d_year:\n",
    "    c_lastofyear[year] = []\n",
    "    for page in d_year[year]:\n",
    "        for film in d_year[year][page]:\n",
    "            if int(film['release_date'].split('-')[1]) == 12 and \\\n",
    "                int(film['release_date'].split('-')[2]) in range(25,32):\n",
    "                c_lastofyear[year].append(film)"
   ]
  },
  {
   "cell_type": "code",
   "execution_count": 710,
   "id": "72d53589-bfc7-42c6-9d9e-bb5052d29c52",
   "metadata": {
    "execution": {
     "iopub.execute_input": "2022-12-18T16:29:25.025962Z",
     "iopub.status.busy": "2022-12-18T16:29:25.025617Z",
     "iopub.status.idle": "2022-12-18T16:29:25.046100Z",
     "shell.execute_reply": "2022-12-18T16:29:25.043536Z",
     "shell.execute_reply.started": "2022-12-18T16:29:25.025929Z"
    },
    "tags": []
   },
   "outputs": [
    {
     "data": {
      "text/plain": [
       "[(2010, 0),\n",
       " (2011, 2),\n",
       " (2012, 1),\n",
       " (2013, 2),\n",
       " (2014, 1),\n",
       " (2015, 4),\n",
       " (2016, 3),\n",
       " (2017, 2),\n",
       " (2018, 3),\n",
       " (2019, 3),\n",
       " (2020, 4),\n",
       " (2021, 2),\n",
       " (2022, 1)]"
      ]
     },
     "execution_count": 710,
     "metadata": {},
     "output_type": "execute_result"
    }
   ],
   "source": [
    "[(year, len(c_lastofyear[year])) for year in c_lastofyear]"
   ]
  },
  {
   "cell_type": "markdown",
   "id": "09e5dac6-101a-459a-a94b-823f109f4b1a",
   "metadata": {},
   "source": [
    "## Best-rated movie every year"
   ]
  },
  {
   "cell_type": "code",
   "execution_count": 712,
   "id": "10805a4a-7eb4-4c64-a72e-1d7ecffac3da",
   "metadata": {
    "execution": {
     "iopub.execute_input": "2022-12-18T16:29:29.605446Z",
     "iopub.status.busy": "2022-12-18T16:29:29.605105Z",
     "iopub.status.idle": "2022-12-18T16:29:29.616630Z",
     "shell.execute_reply": "2022-12-18T16:29:29.614735Z",
     "shell.execute_reply.started": "2022-12-18T16:29:29.605416Z"
    },
    "tags": []
   },
   "outputs": [
    {
     "name": "stdout",
     "output_type": "stream",
     "text": [
      "2010 [('A Heartland Christmas', 8.2, 'en'), ('Family Guy Presents: Road to the North Pole', 7.7, 'en')]\n",
      "2011 [('November Christmas', 7.9, 'en'), (\"Love's Christmas Journey\", 7.2, 'en')]\n",
      "2012 [('Scooby-Doo! Haunted Holidays', 8.6, 'en'), ('Abominable Christmas', 7.5, 'en')]\n",
      "2013 [('Iron Man 3', 6.9, 'en'), ('Filth', 6.9, 'en')]\n",
      "2014 [('Signed, Sealed, Delivered for Christmas', 7.1, 'en'), ('The Nine Lives of Christmas', 6.9, 'en')]\n",
      "2015 [('Hector', 7.2, 'en'), ('The Spirit of Christmas', 7, 'en')]\n",
      "2016 [('The Conjuring 2', 7.3, 'en'), ('A December Bride', 7.1, 'en')]\n",
      "2017 [(\"Karen Kingsbury's Maggie's Christmas Miracle\", 7.1, 'en'), ('With Love, Christmas', 7.1, 'en')]\n",
      "2018 [('The Christmas Chronicles', 7.1, 'en'), ('Once Upon a Deadpool', 7.1, 'en')]\n",
      "2019 [('Klaus', 8.3, 'en'), ('Little Women', 7.9, 'en')]\n",
      "2020 [('High School Musical: The Musical: The Holiday Special', 7.5, 'en'), ('USS Christmas', 7.5, 'en')]\n",
      "2021 [('A Boy Called Christmas', 7.4, 'en'), ('Boiling Point', 7.4, 'en')]\n",
      "2022 [('Scrooge: A Christmas Carol', 7.5, 'en'), ('Spirited', 7.1, 'en')]\n"
     ]
    }
   ],
   "source": [
    "d_year_slim = {}\n",
    "for year in d_year:\n",
    "    d_year_slim[year] = []\n",
    "    for page in d_year[year]:\n",
    "        # still only keep the ones above a threshold in votes\n",
    "        for film in d_year[year][page]:\n",
    "            if film['vote_count'] > 20:\n",
    "                d_year_slim[year].append((film['original_title'], film['vote_average'], film['original_language']))\n",
    "               \n",
    "for year in d_year_slim:\n",
    "    print(year, sorted(d_year_slim[year], key=lambda tup: tup[1], reverse=True)[:2])"
   ]
  },
  {
   "cell_type": "code",
   "execution_count": 555,
   "id": "63c7cbe3-d39a-4697-b9cd-b0b469a7d98a",
   "metadata": {
    "execution": {
     "iopub.execute_input": "2022-12-18T10:52:08.391251Z",
     "iopub.status.busy": "2022-12-18T10:52:08.390850Z",
     "iopub.status.idle": "2022-12-18T10:52:08.406781Z",
     "shell.execute_reply": "2022-12-18T10:52:08.404133Z",
     "shell.execute_reply.started": "2022-12-18T10:52:08.391220Z"
    },
    "tags": []
   },
   "outputs": [
    {
     "name": "stdout",
     "output_type": "stream",
     "text": [
      "{'adult': False, 'backdrop_path': '/1nXpJcGORp9mVLeaLO2r5ZrYIHb.jpg', 'genre_ids': [35, 80], 'id': 630520, 'original_language': 'es', 'original_title': 'La noche mágica', 'overview': 'A peaceful Christmas Eve is interrupted when a thief breaks into a villa. When the family’s little daughter mistakes him for Santa Claus and asks him to fulfill her Christmas wish, he will be forced to perform a miracle that will redeem secrets from the past.', 'popularity': 5.185, 'poster_path': '/bZrIS3l76RUTDKC8bugYfwJ1PlS.jpg', 'release_date': '2021-03-11', 'title': 'Bad Christmas', 'video': False, 'vote_average': 7.8, 'vote_count': 39}\n"
     ]
    }
   ],
   "source": [
    "for page in d_year[2021]:\n",
    "    for film in d_year[2021][page]:\n",
    "        if film['original_title'] == 'La noche mágica':\n",
    "            print(film)"
   ]
  },
  {
   "cell_type": "markdown",
   "id": "1e70c1e4-b688-4e1b-a0ef-144f9da29513",
   "metadata": {},
   "source": [
    "## Persist the data"
   ]
  },
  {
   "cell_type": "code",
   "execution_count": 348,
   "id": "7767b301-d458-4e70-a5b9-7f73d6679cbd",
   "metadata": {
    "execution": {
     "iopub.execute_input": "2022-12-10T12:58:57.379989Z",
     "iopub.status.busy": "2022-12-10T12:58:57.378873Z",
     "iopub.status.idle": "2022-12-10T12:58:57.472093Z",
     "shell.execute_reply": "2022-12-10T12:58:57.461238Z",
     "shell.execute_reply.started": "2022-12-10T12:58:57.379935Z"
    }
   },
   "outputs": [],
   "source": [
    "json.dump(d_year, open('xmas_movies.json', 'w'))"
   ]
  },
  {
   "cell_type": "markdown",
   "id": "397db94b-4a64-4822-9c53-5bbef486ec54",
   "metadata": {},
   "source": [
    "## Other notes\n",
    "\n",
    "There are also things that aren't movies, striclt speaking, but maybe concerts/documentaries (e.g. The Most Wonderful Time of the Year Featuring Natalie Cole)."
   ]
  },
  {
   "cell_type": "markdown",
   "id": "ffd2dddd-6185-4380-82bd-e65e354dec46",
   "metadata": {},
   "source": [
    "# Get non-Christmas movies for comparison\n",
    "\n",
    "I want to compare the ratings. Also, I want to see if the trend in releases is a general one beyond just xmas. This would be lots of data to store locally so will only keep release date, title, rating and number of votes.\n",
    "\n",
    "EDIT: can't really do this, the API only allows me to fetch up to 500 movies per year"
   ]
  },
  {
   "cell_type": "code",
   "execution_count": 352,
   "id": "c8c41f46-dc9b-4081-af10-59c84ed893f8",
   "metadata": {
    "execution": {
     "iopub.execute_input": "2022-12-10T13:06:02.806284Z",
     "iopub.status.busy": "2022-12-10T13:06:02.805909Z",
     "iopub.status.idle": "2022-12-10T13:06:02.814246Z",
     "shell.execute_reply": "2022-12-10T13:06:02.813086Z",
     "shell.execute_reply.started": "2022-12-10T13:06:02.806249Z"
    }
   },
   "outputs": [],
   "source": [
    "d_year_all = {}"
   ]
  },
  {
   "cell_type": "code",
   "execution_count": 369,
   "id": "3a596da5-86af-49d9-b15a-320814c2cef3",
   "metadata": {
    "execution": {
     "iopub.execute_input": "2022-12-10T13:38:36.707394Z",
     "iopub.status.busy": "2022-12-10T13:38:36.706165Z",
     "iopub.status.idle": "2022-12-10T13:40:22.635785Z",
     "shell.execute_reply": "2022-12-10T13:40:22.634964Z",
     "shell.execute_reply.started": "2022-12-10T13:38:36.707346Z"
    },
    "tags": []
   },
   "outputs": [
    {
     "name": "stdout",
     "output_type": "stream",
     "text": [
      "30\n",
      "60\n",
      "90\n",
      "120\n",
      "150\n",
      "180\n",
      "210\n",
      "240\n",
      "270\n",
      "300\n",
      "330\n",
      "360\n",
      "390\n",
      "420\n",
      "450\n",
      "480\n"
     ]
    }
   ],
   "source": [
    "year = 2022\n",
    "\n",
    "d_year_all[year] = {}\n",
    "\n",
    "# this will pull based on \n",
    "for page in range(1, 1000):   \n",
    "\n",
    "    url = base_url + \"/discover/movie?api_key=\" + API_KEY + \\\n",
    "                     \"&primary_release_year=\" + str(year) + \\\n",
    "                    \"&page=\" + str(page)\n",
    "\n",
    "    response = requests.get(url)\n",
    "    if response.status_code != 200:\n",
    "        break\n",
    "        \n",
    "    if len(response.json()['results']) > 0:\n",
    "        d_year_all[year][page] = [{'release_date': film['release_date'],\n",
    "                                'original_title': film['original_title'],\n",
    "                                 'vote_average': film['vote_average'],\n",
    "                                 'voce_count': film['vote_count'] \n",
    "                                  } for film in response.json()['results']]\n",
    "    else:\n",
    "        break\n",
    "        \n",
    "    if page % 30 == 0:\n",
    "        print(page)"
   ]
  },
  {
   "cell_type": "code",
   "execution_count": 370,
   "id": "7ccfe064-cd39-41d3-9c73-667702e16f31",
   "metadata": {
    "execution": {
     "iopub.execute_input": "2022-12-10T15:24:07.353611Z",
     "iopub.status.busy": "2022-12-10T15:24:07.353252Z",
     "iopub.status.idle": "2022-12-10T15:24:09.060634Z",
     "shell.execute_reply": "2022-12-10T15:24:09.059880Z",
     "shell.execute_reply.started": "2022-12-10T15:24:07.353577Z"
    }
   },
   "outputs": [],
   "source": [
    "## Persist this too\n",
    "\n",
    "json.dump(d_year_all, open('all_movies_slim.json', 'w'))"
   ]
  },
  {
   "cell_type": "code",
   "execution_count": 372,
   "id": "ce467a76-3558-4638-b925-62a0762a655d",
   "metadata": {
    "execution": {
     "iopub.execute_input": "2022-12-10T15:24:29.127656Z",
     "iopub.status.busy": "2022-12-10T15:24:29.127157Z",
     "iopub.status.idle": "2022-12-10T15:24:29.137888Z",
     "shell.execute_reply": "2022-12-10T15:24:29.136379Z",
     "shell.execute_reply.started": "2022-12-10T15:24:29.127600Z"
    },
    "tags": []
   },
   "outputs": [
    {
     "data": {
      "text/plain": [
       "dict_keys([2010, 2011, 2012, 2013, 2014, 2015, 2016, 2017, 2018, 2019, 2020, 2021, 2022])"
      ]
     },
     "execution_count": 372,
     "metadata": {},
     "output_type": "execute_result"
    }
   ],
   "source": [
    "d_year_all.keys()"
   ]
  },
  {
   "cell_type": "code",
   "execution_count": 380,
   "id": "987ce8e8-2439-45ca-8de5-ac2baa39ace5",
   "metadata": {
    "collapsed": true,
    "execution": {
     "iopub.execute_input": "2022-12-10T15:29:18.667272Z",
     "iopub.status.busy": "2022-12-10T15:29:18.666923Z",
     "iopub.status.idle": "2022-12-10T15:29:18.677618Z",
     "shell.execute_reply": "2022-12-10T15:29:18.676234Z",
     "shell.execute_reply.started": "2022-12-10T15:29:18.667241Z"
    },
    "jupyter": {
     "outputs_hidden": true
    },
    "tags": []
   },
   "outputs": [
    {
     "data": {
      "text/plain": [
       "dict_keys([1, 2, 3, 4, 5, 6, 7, 8, 9, 10, 11, 12, 13, 14, 15, 16, 17, 18, 19, 20, 21, 22, 23, 24, 25, 26, 27, 28, 29, 30, 31, 32, 33, 34, 35, 36, 37, 38, 39, 40, 41, 42, 43, 44, 45, 46, 47, 48, 49, 50, 51, 52, 53, 54, 55, 56, 57, 58, 59, 60, 61, 62, 63, 64, 65, 66, 67, 68, 69, 70, 71, 72, 73, 74, 75, 76, 77, 78, 79, 80, 81, 82, 83, 84, 85, 86, 87, 88, 89, 90, 91, 92, 93, 94, 95, 96, 97, 98, 99, 100, 101, 102, 103, 104, 105, 106, 107, 108, 109, 110, 111, 112, 113, 114, 115, 116, 117, 118, 119, 120, 121, 122, 123, 124, 125, 126, 127, 128, 129, 130, 131, 132, 133, 134, 135, 136, 137, 138, 139, 140, 141, 142, 143, 144, 145, 146, 147, 148, 149, 150, 151, 152, 153, 154, 155, 156, 157, 158, 159, 160, 161, 162, 163, 164, 165, 166, 167, 168, 169, 170, 171, 172, 173, 174, 175, 176, 177, 178, 179, 180, 181, 182, 183, 184, 185, 186, 187, 188, 189, 190, 191, 192, 193, 194, 195, 196, 197, 198, 199, 200, 201, 202, 203, 204, 205, 206, 207, 208, 209, 210, 211, 212, 213, 214, 215, 216, 217, 218, 219, 220, 221, 222, 223, 224, 225, 226, 227, 228, 229, 230, 231, 232, 233, 234, 235, 236, 237, 238, 239, 240, 241, 242, 243, 244, 245, 246, 247, 248, 249, 250, 251, 252, 253, 254, 255, 256, 257, 258, 259, 260, 261, 262, 263, 264, 265, 266, 267, 268, 269, 270, 271, 272, 273, 274, 275, 276, 277, 278, 279, 280, 281, 282, 283, 284, 285, 286, 287, 288, 289, 290, 291, 292, 293, 294, 295, 296, 297, 298, 299, 300, 301, 302, 303, 304, 305, 306, 307, 308, 309, 310, 311, 312, 313, 314, 315, 316, 317, 318, 319, 320, 321, 322, 323, 324, 325, 326, 327, 328, 329, 330, 331, 332, 333, 334, 335, 336, 337, 338, 339, 340, 341, 342, 343, 344, 345, 346, 347, 348, 349, 350, 351, 352, 353, 354, 355, 356, 357, 358, 359, 360, 361, 362, 363, 364, 365, 366, 367, 368, 369, 370, 371, 372, 373, 374, 375, 376, 377, 378, 379, 380, 381, 382, 383, 384, 385, 386, 387, 388, 389, 390, 391, 392, 393, 394, 395, 396, 397, 398, 399, 400, 401, 402, 403, 404, 405, 406, 407, 408, 409, 410, 411, 412, 413, 414, 415, 416, 417, 418, 419, 420, 421, 422, 423, 424, 425, 426, 427, 428, 429, 430, 431, 432, 433, 434, 435, 436, 437, 438, 439, 440, 441, 442, 443, 444, 445, 446, 447, 448, 449, 450, 451, 452, 453, 454, 455, 456, 457, 458, 459, 460, 461, 462, 463, 464, 465, 466, 467, 468, 469, 470, 471, 472, 473, 474, 475, 476, 477, 478, 479, 480, 481, 482, 483, 484, 485, 486, 487, 488, 489, 490, 491, 492, 493, 494, 495, 496, 497, 498, 499, 500])"
      ]
     },
     "execution_count": 380,
     "metadata": {},
     "output_type": "execute_result"
    }
   ],
   "source": [
    "d_year_all[2021].keys()"
   ]
  },
  {
   "cell_type": "code",
   "execution_count": null,
   "id": "e53ce6e9-ecf0-4a33-9c1c-1d78895742a3",
   "metadata": {},
   "outputs": [],
   "source": []
  },
  {
   "cell_type": "code",
   "execution_count": 374,
   "id": "dc342322-02f9-4269-91ab-0c516a8492b4",
   "metadata": {
    "execution": {
     "iopub.execute_input": "2022-12-10T15:25:16.824615Z",
     "iopub.status.busy": "2022-12-10T15:25:16.823968Z",
     "iopub.status.idle": "2022-12-10T15:25:16.849710Z",
     "shell.execute_reply": "2022-12-10T15:25:16.845925Z",
     "shell.execute_reply.started": "2022-12-10T15:25:16.824556Z"
    },
    "tags": []
   },
   "outputs": [],
   "source": [
    "x = range(2010, 2023)\n",
    "y = []\n",
    "for year in x:\n",
    "    count = 0\n",
    "    for page in d_year_all[year]:\n",
    "#        print(year, page, len(d_year[year][page]))\n",
    "        count += len(d_year_all[year][page])\n",
    "    y.append(count)"
   ]
  },
  {
   "cell_type": "code",
   "execution_count": 375,
   "id": "aee3dd75-f703-4ed5-bc01-451d4677559f",
   "metadata": {
    "execution": {
     "iopub.execute_input": "2022-12-10T15:25:24.572495Z",
     "iopub.status.busy": "2022-12-10T15:25:24.571976Z",
     "iopub.status.idle": "2022-12-10T15:25:24.820674Z",
     "shell.execute_reply": "2022-12-10T15:25:24.819192Z",
     "shell.execute_reply.started": "2022-12-10T15:25:24.572457Z"
    }
   },
   "outputs": [
    {
     "data": {
      "text/plain": [
       "<BarContainer object of 13 artists>"
      ]
     },
     "execution_count": 375,
     "metadata": {},
     "output_type": "execute_result"
    },
    {
     "data": {
      "image/png": "[encoded data removed]",
      "text/plain": [
       "<Figure size 432x288 with 1 Axes>"
      ]
     },
     "metadata": {
      "needs_background": "light"
     },
     "output_type": "display_data"
    }
   ],
   "source": [
    "# not good, it's clearly capped\n",
    "plt.bar(x,y)"
   ]
  },
  {
   "cell_type": "code",
   "execution_count": 398,
   "id": "3505ab77-300b-4643-9413-a6e160d0f390",
   "metadata": {
    "execution": {
     "iopub.execute_input": "2022-12-10T15:57:27.651070Z",
     "iopub.status.busy": "2022-12-10T15:57:27.650538Z",
     "iopub.status.idle": "2022-12-10T15:57:27.725023Z",
     "shell.execute_reply": "2022-12-10T15:57:27.716744Z",
     "shell.execute_reply.started": "2022-12-10T15:57:27.651015Z"
    },
    "tags": []
   },
   "outputs": [],
   "source": [
    "x = range(2010, 2023)\n",
    "y = []\n",
    "for year in x:\n",
    "    ratings = []\n",
    "    for page in d_year_all[year]:\n",
    "#        print(year, page, len(d_year[year][page]))\n",
    "        for film in d_year_all[year][page]:\n",
    "            if film['voce_count'] > 10:     # I did a typo :) \n",
    "                ratings.append(film['vote_average'])\n",
    "    y.append(np.mean(ratings))"
   ]
  },
  {
   "cell_type": "code",
   "execution_count": 399,
   "id": "309afdc3-58a7-4a3d-a8ad-75d5db0352ea",
   "metadata": {
    "execution": {
     "iopub.execute_input": "2022-12-10T15:57:28.415894Z",
     "iopub.status.busy": "2022-12-10T15:57:28.414297Z",
     "iopub.status.idle": "2022-12-10T15:57:28.669987Z",
     "shell.execute_reply": "2022-12-10T15:57:28.667783Z",
     "shell.execute_reply.started": "2022-12-10T15:57:28.415822Z"
    },
    "tags": []
   },
   "outputs": [
    {
     "data": {
      "text/plain": [
       "<BarContainer object of 13 artists>"
      ]
     },
     "execution_count": 399,
     "metadata": {},
     "output_type": "execute_result"
    },
    {
     "data": {
      "image/png": "[encoded data removed]",
      "text/plain": [
       "<Figure size 432x288 with 1 Axes>"
      ]
     },
     "metadata": {
      "needs_background": "light"
     },
     "output_type": "display_data"
    }
   ],
   "source": [
    "plt.bar(x,y)"
   ]
  },
  {
   "cell_type": "markdown",
   "id": "a51ac907-21b6-46bd-bc56-5ab1ae7d8033",
   "metadata": {},
   "source": [
    "Unfort it seems the API is capped to page 500, so I cannot to this?\n",
    "\n",
    "Can maybe use these as a proxy \n",
    "* https://www.statista.com/statistics/187122/movie-releases-in-north-america-since-2001/\n",
    "* https://stephenfollows.com/how-many-films-are-released-each-year/"
   ]
  },
  {
   "cell_type": "code",
   "execution_count": 395,
   "id": "ad3d005b-903a-4388-8c89-167f3b1bb0d9",
   "metadata": {
    "execution": {
     "iopub.execute_input": "2022-12-10T15:48:29.442772Z",
     "iopub.status.busy": "2022-12-10T15:48:29.442335Z",
     "iopub.status.idle": "2022-12-10T15:48:29.453973Z",
     "shell.execute_reply": "2022-12-10T15:48:29.452439Z",
     "shell.execute_reply.started": "2022-12-10T15:48:29.442731Z"
    },
    "tags": []
   },
   "outputs": [
    {
     "data": {
      "text/plain": [
       "{'release_date': '2010-02-07',\n",
       " 'original_title': 'Avatar: Creating the World of Pandora',\n",
       " 'vote_average': 7.4,\n",
       " 'voce_count': 28}"
      ]
     },
     "execution_count": 395,
     "metadata": {},
     "output_type": "execute_result"
    }
   ],
   "source": [
    "d_year_all[2010][1][0]"
   ]
  },
  {
   "cell_type": "code",
   "execution_count": 419,
   "id": "92980234-0eca-4ca9-a46d-9e5814e963cb",
   "metadata": {
    "execution": {
     "iopub.execute_input": "2022-12-11T11:36:23.894941Z",
     "iopub.status.busy": "2022-12-11T11:36:23.890874Z",
     "iopub.status.idle": "2022-12-11T11:36:23.920802Z",
     "shell.execute_reply": "2022-12-11T11:36:23.919086Z",
     "shell.execute_reply.started": "2022-12-11T11:36:23.894892Z"
    },
    "tags": []
   },
   "outputs": [
    {
     "data": {
      "text/plain": [
       "{'adult': False,\n",
       " 'backdrop_path': '/gNLMEf2lzJk9l7TlkJD3uQM2WuV.jpg',\n",
       " 'genre_ids': [35, 18, 10749, 10770],\n",
       " 'id': 1029208,\n",
       " 'original_language': 'en',\n",
       " 'original_title': 'This is Christmas',\n",
       " 'overview': 'Follow Adam and Emma on their daily commute from the village of Langton to London, where they meet the same passengers every day. One morning, Adam breaks the unspoken taboo of talking to strangers on a train and invites the entire carriage to hold their own Christmas party together.',\n",
       " 'popularity': 30.865,\n",
       " 'poster_path': '/wDIIpxhkxhfV1TZraWYty8S6YU4.jpg',\n",
       " 'release_date': '2022-12-09',\n",
       " 'title': 'This is Christmas',\n",
       " 'video': False,\n",
       " 'vote_average': 0,\n",
       " 'vote_count': 0}"
      ]
     },
     "execution_count": 419,
     "metadata": {},
     "output_type": "execute_result"
    }
   ],
   "source": [
    "d_year[2022][2][0]"
   ]
  },
  {
   "cell_type": "code",
   "execution_count": null,
   "id": "0e9d7091-c0d2-49b9-aa51-94cc21604b5a",
   "metadata": {},
   "outputs": [],
   "source": []
  }
 ],
 "metadata": {
  "kernelspec": {
   "display_name": "Python 3 (ipykernel)",
   "language": "python",
   "name": "python3"
  },
  "language_info": {
   "codemirror_mode": {
    "name": "ipython",
    "version": 3
   },
   "file_extension": ".py",
   "mimetype": "text/x-python",
   "name": "python",
   "nbconvert_exporter": "python",
   "pygments_lexer": "ipython3",
   "version": "3.9.6"
  }
 },
 "nbformat": 4,
 "nbformat_minor": 5
}
