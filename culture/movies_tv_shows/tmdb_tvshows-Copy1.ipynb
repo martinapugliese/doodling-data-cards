{
 "cells": [
  {
   "cell_type": "code",
   "execution_count": 4,
   "id": "valuable-patrol",
   "metadata": {},
   "outputs": [],
   "source": [
    "import requests\n",
    "\n",
    "import datetime\n",
    "import os\n",
    "import json\n",
    "from collections import Counter\n",
    "\n",
    "from matplotlib import pyplot as plt\n",
    "import seaborn as sns\n",
    "import numpy as np\n",
    "\n",
    "from IPython.core.interactiveshell import InteractiveShell\n",
    "\n",
    "InteractiveShell.ast_node_interactivity = \"all\"\n",
    "%config Completer.use_jedi = False"
   ]
  },
  {
   "cell_type": "code",
   "execution_count": 21,
   "id": "northern-completion",
   "metadata": {},
   "outputs": [],
   "source": [
    "API_KEY = os.environ[\"TMDB_API_KEY\"]"
   ]
  },
  {
   "cell_type": "code",
   "execution_count": 22,
   "id": "imperial-ridge",
   "metadata": {},
   "outputs": [],
   "source": [
    "url = \"https://api.themoviedb.org/3/movie/76341?api_key=\" + API_KEY"
   ]
  },
  {
   "cell_type": "code",
   "execution_count": 23,
   "id": "equal-jordan",
   "metadata": {},
   "outputs": [],
   "source": [
    "response = requests.get(url)"
   ]
  },
  {
   "cell_type": "code",
   "execution_count": 9,
   "id": "unavailable-expression",
   "metadata": {},
   "outputs": [],
   "source": [
    "#response.json()"
   ]
  },
  {
   "cell_type": "markdown",
   "id": "miniature-halifax",
   "metadata": {},
   "source": [
    "## Get daily list of TV shows for today\n",
    "\n",
    "This uses TMDB's daily list call as per [docs](https://developers.themoviedb.org/3/getting-started/daily-file-exports). Just CURL this in the terminal and extract file."
   ]
  },
  {
   "cell_type": "code",
   "execution_count": 2,
   "id": "shared-abortion",
   "metadata": {},
   "outputs": [
    {
     "data": {
      "text/plain": [
       "'http://files.tmdb.org/p/exports/tv_series_ids_05_13_2021.json.gz'"
      ]
     },
     "execution_count": 2,
     "metadata": {},
     "output_type": "execute_result"
    }
   ],
   "source": [
    "# build the download URL using today's date\n",
    "\n",
    "today_datetime = datetime.datetime.today()\n",
    "\n",
    "daily_list_url = \"http://files.tmdb.org/p/exports/tv_series_ids_{month:02d}_{day:02d}_{year}.json.gz\".format(day=today_datetime.day, \n",
    "                                                                                                     month=today_datetime.month, \n",
    "                                                                                                     year=today_datetime.year)\n",
    "\n",
    "daily_list_url"
   ]
  },
  {
   "cell_type": "markdown",
   "id": "norman-delaware",
   "metadata": {},
   "source": [
    "## Read file, build a single dict\n",
    "\n",
    "The file provided is a JSONL. In the dict, key will be the API id of the show. Note that this data contains the \"popularity\" which is a measure of how much the show is viewed and voted on TMDB (see the docs above) - we will use it to remove the unpopular shows for the sake of speed/data reduction."
   ]
  },
  {
   "cell_type": "code",
   "execution_count": 15,
   "id": "plain-hardwood",
   "metadata": {},
   "outputs": [
    {
     "name": "stdout",
     "output_type": "stream",
     "text": [
      "{\"id\":1,\"original_name\":\"プライド\",\"popularity\":2.765}\n",
      "{\"id\":2,\"original_name\":\"Clerks: The Animated Series\",\"popularity\":13.218}\n",
      "{\"id\":3,\"original_name\":\"The Message\",\"popularity\":1.244}\n",
      "{\"id\":4,\"original_name\":\"The Amazing Mrs Pritchard\",\"popularity\":2.237}\n",
      "{\"id\":5,\"original_name\":\"La Job\",\"popularity\":7.626}\n"
     ]
    }
   ],
   "source": [
    "!head -n 5 shows_list.json"
   ]
  },
  {
   "cell_type": "code",
   "execution_count": 13,
   "id": "valuable-nurse",
   "metadata": {},
   "outputs": [],
   "source": [
    "f = open('shows_list.json')\n",
    "\n",
    "d_shows_ids = {}\n",
    "for line in f.readlines():\n",
    "    d = json.loads(line)    \n",
    "    d_shows_ids[d['id']] = {'original_name': d['original_name'], 'popularity': d['popularity']}"
   ]
  },
  {
   "cell_type": "code",
   "execution_count": 32,
   "id": "dramatic-numbers",
   "metadata": {},
   "outputs": [
    {
     "data": {
      "text/plain": [
       "109348"
      ]
     },
     "execution_count": 32,
     "metadata": {},
     "output_type": "execute_result"
    },
    {
     "name": "stdout",
     "output_type": "stream",
     "text": [
      "69478 {'original_name': \"The Handmaid's Tale\", 'popularity': 927.708}\n"
     ]
    },
    {
     "data": {
      "text/plain": [
       "69478"
      ]
     },
     "execution_count": 32,
     "metadata": {},
     "output_type": "execute_result"
    },
    {
     "data": {
      "text/plain": [
       "{'results': [{'iso_3166_1': 'DE', 'rating': '16'},\n",
       "  {'iso_3166_1': 'US', 'rating': 'TV-MA'},\n",
       "  {'iso_3166_1': 'GB', 'rating': '15'},\n",
       "  {'iso_3166_1': 'BR', 'rating': '16'},\n",
       "  {'iso_3166_1': 'PT', 'rating': '16'},\n",
       "  {'iso_3166_1': 'SE', 'rating': '15'},\n",
       "  {'iso_3166_1': 'ES', 'rating': '18'}],\n",
       " 'id': 69478}"
      ]
     },
     "execution_count": 32,
     "metadata": {},
     "output_type": "execute_result"
    }
   ],
   "source": [
    "# sanity checks\n",
    "len(d_shows_ids)\n",
    "\n",
    "for k in d_shows_ids:\n",
    "    if d_shows_ids[k]['original_name'] == \"The Handmaid's Tale\":\n",
    "        print(k, d_shows_ids[k])\n",
    "        break\n",
    "        \n",
    "k\n",
    "api_url = \"https://api.themoviedb.org/3/tv/{show_id}/content_ratings?api_key={api_key}\".format(show_id=k, \n",
    "                                                                                               api_key=API_KEY)\n",
    "r = requests.get(api_url)\n",
    "r.json()"
   ]
  },
  {
   "cell_type": "markdown",
   "id": "hired-approach",
   "metadata": {},
   "source": [
    "## Look at the popularities\n",
    "\n",
    "The data file dump only has popularities, can use those to filter - because there's too many"
   ]
  },
  {
   "cell_type": "code",
   "execution_count": 60,
   "id": "satisfied-desire",
   "metadata": {},
   "outputs": [],
   "source": [
    "popularities = [d_shows_ids[k]['popularity'] for k in d_shows_ids.keys()]"
   ]
  },
  {
   "cell_type": "code",
   "execution_count": 65,
   "id": "sealed-damages",
   "metadata": {},
   "outputs": [
    {
     "data": {
      "image/png": "[encoded data removed]",
      "text/plain": [
       "<Figure size 432x288 with 1 Axes>"
      ]
     },
     "metadata": {
      "needs_background": "light"
     },
     "output_type": "display_data"
    }
   ],
   "source": [
    "plt.hist(popularities, log=True, bins=100)\n",
    "\n",
    "plt.title('Hist popularity TV shows on TMDB')\n",
    "plt.xlabel('Popularity')\n",
    "plt.ylabel('Count TV shows')\n",
    "plt.show();"
   ]
  },
  {
   "cell_type": "code",
   "execution_count": 67,
   "id": "interested-transaction",
   "metadata": {},
   "outputs": [
    {
     "data": {
      "text/plain": [
       "(2.7540289168526173, 0.6, 14.839995151442606, 1509.296)"
      ]
     },
     "execution_count": 67,
     "metadata": {},
     "output_type": "execute_result"
    },
    {
     "data": {
      "text/plain": [
       "15805"
      ]
     },
     "execution_count": 67,
     "metadata": {},
     "output_type": "execute_result"
    }
   ],
   "source": [
    "np.mean(popularities), np.median(popularities), np.std(popularities), np.max(popularities)\n",
    "\n",
    "len([pop for pop in popularities if pop > 3])"
   ]
  },
  {
   "cell_type": "markdown",
   "id": "substantial-rabbit",
   "metadata": {},
   "source": [
    "## Attach content ratings to shows dict\n",
    "\n",
    "edit as you please to do just some - this is obvs slow due to API limits/performance.\n",
    "\n",
    "\n",
    "Using just the most popular ones as per the above - using a threshold of 3 (~16000 TV shows as of the dat of the last run of this)."
   ]
  },
  {
   "cell_type": "code",
   "execution_count": 70,
   "id": "serial-feeling",
   "metadata": {},
   "outputs": [
    {
     "name": "stdout",
     "output_type": "stream",
     "text": [
      "5564\n",
      "100\n",
      "200\n",
      "300\n",
      "400\n",
      "500\n",
      "600\n",
      "700\n",
      "800\n",
      "900\n",
      "1000\n",
      "1100\n",
      "1200\n",
      "1300\n",
      "1400\n",
      "1500\n",
      "1600\n",
      "1700\n",
      "1800\n",
      "1900\n",
      "2000\n",
      "2100\n",
      "2200\n",
      "2300\n",
      "2400\n",
      "2500\n",
      "2600\n",
      "2700\n",
      "2800\n",
      "2900\n",
      "3000\n",
      "3100\n",
      "3200\n",
      "3300\n",
      "3400\n",
      "3500\n",
      "3600\n",
      "3700\n",
      "3800\n",
      "3900\n",
      "4000\n",
      "4100\n",
      "4200\n",
      "4300\n",
      "4400\n",
      "4500\n",
      "4600\n",
      "4700\n",
      "4800\n",
      "4900\n",
      "5000\n",
      "5100\n",
      "5200\n",
      "5300\n",
      "5400\n",
      "5500\n",
      "CPU times: user 1min 47s, sys: 7.66 s, total: 1min 55s\n",
      "Wall time: 16min 36s\n"
     ]
    }
   ],
   "source": [
    "%%time\n",
    "\n",
    "l_shows_ids_selected = [k for k in d_shows_ids if d_shows_ids[k]['popularity'] >= 2 and d_shows_ids[k]['popularity'] < 3]\n",
    "\n",
    "print(len(l_shows_ids_selected))\n",
    "\n",
    "i = 0     # to keep track of where we are\n",
    "for k in l_shows_ids_selected:\n",
    "\n",
    "    api_url = \"https://api.themoviedb.org/3/tv/{show_id}/content_ratings?api_key={api_key}\".format(show_id=k, \n",
    "                                                                                               api_key=API_KEY)\n",
    "    res = requests.get(api_url).json()\n",
    "    d_shows_ids[k]['content_ratings'] = res['results']\n",
    "\n",
    "    i += 1\n",
    "    \n",
    "    if i % 100 == 0:\n",
    "        print(i)"
   ]
  },
  {
   "cell_type": "code",
   "execution_count": 2,
   "id": "single-bahrain",
   "metadata": {},
   "outputs": [],
   "source": [
    "d_shows_ids = json.load(open('d_popular_shows_data.json', 'r'))"
   ]
  },
  {
   "cell_type": "markdown",
   "id": "imperial-native",
   "metadata": {},
   "source": []
  },
  {
   "cell_type": "code",
   "execution_count": 8,
   "id": "structural-government",
   "metadata": {},
   "outputs": [
    {
     "data": {
      "text/plain": [
       "{'original_name': 'Terminal City', 'popularity': 2.648, 'content_ratings': []}"
      ]
     },
     "execution_count": 8,
     "metadata": {},
     "output_type": "execute_result"
    }
   ],
   "source": [
    "d_shows_ids[\"300\"]"
   ]
  },
  {
   "cell_type": "code",
   "execution_count": 9,
   "id": "aerial-madagascar",
   "metadata": {},
   "outputs": [
    {
     "data": {
      "text/plain": [
       "7885"
      ]
     },
     "execution_count": 9,
     "metadata": {},
     "output_type": "execute_result"
    }
   ],
   "source": [
    "# isolate the data with ratings only - rest is useless for this\n",
    "\n",
    "d_data = {\n",
    "    k: d_shows_ids[k] for k in d_shows_ids if 'content_ratings' in d_shows_ids[k] and d_shows_ids[k]['content_ratings'] != [] \n",
    "}\n",
    "\n",
    "len(d_data)"
   ]
  },
  {
   "cell_type": "code",
   "execution_count": 18,
   "id": "bigger-vegetation",
   "metadata": {},
   "outputs": [],
   "source": []
  },
  {
   "cell_type": "code",
   "execution_count": 20,
   "id": "superior-blackjack",
   "metadata": {},
   "outputs": [
    {
     "data": {
      "text/plain": [
       "(708, 708, 708)"
      ]
     },
     "execution_count": 20,
     "metadata": {},
     "output_type": "execute_result"
    }
   ],
   "source": []
  },
  {
   "cell_type": "code",
   "execution_count": 36,
   "id": "fundamental-assault",
   "metadata": {},
   "outputs": [
    {
     "data": {
      "text/plain": [
       "('Snowpiercer', 'TV-MA', '18')"
      ]
     },
     "execution_count": 36,
     "metadata": {},
     "output_type": "execute_result"
    }
   ],
   "source": []
  },
  {
   "cell_type": "code",
   "execution_count": 31,
   "id": "excited-forward",
   "metadata": {},
   "outputs": [
    {
     "data": {
      "text/plain": [
       "[('TV-MA', 274),\n",
       " ('TV-14', 272),\n",
       " ('TV-PG', 103),\n",
       " ('TV-Y7', 24),\n",
       " ('TV-G', 15),\n",
       " ('TV-Y', 10),\n",
       " ('NR', 10)]"
      ]
     },
     "execution_count": 31,
     "metadata": {},
     "output_type": "execute_result"
    },
    {
     "data": {
      "text/plain": [
       "[('15', 365),\n",
       " ('12', 126),\n",
       " ('18', 115),\n",
       " ('PG', 59),\n",
       " ('U', 35),\n",
       " ('12A', 5),\n",
       " ('R18', 3)]"
      ]
     },
     "execution_count": 31,
     "metadata": {},
     "output_type": "execute_result"
    }
   ],
   "source": []
  },
  {
   "cell_type": "code",
   "execution_count": 32,
   "id": "devoted-ultimate",
   "metadata": {},
   "outputs": [
    {
     "data": {
      "image/png": "[encoded data removed]",
      "text/plain": [
       "<Figure size 432x288 with 1 Axes>"
      ]
     },
     "metadata": {
      "needs_background": "light"
     },
     "output_type": "display_data"
    }
   ],
   "source": []
  },
  {
   "cell_type": "code",
   "execution_count": null,
   "id": "olive-handling",
   "metadata": {},
   "outputs": [],
   "source": []
  }
 ],
 "metadata": {
  "kernelspec": {
   "display_name": "Python 3 (ipykernel)",
   "language": "python",
   "name": "python3"
  },
  "language_info": {
   "codemirror_mode": {
    "name": "ipython",
    "version": 3
   },
   "file_extension": ".py",
   "mimetype": "text/x-python",
   "name": "python",
   "nbconvert_exporter": "python",
   "pygments_lexer": "ipython3",
   "version": "3.9.6"
  }
 },
 "nbformat": 4,
 "nbformat_minor": 5
}
