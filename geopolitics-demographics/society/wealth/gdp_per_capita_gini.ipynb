{
 "cells": [
  {
   "cell_type": "code",
   "execution_count": 127,
   "id": "4d146a36-5ce4-438c-8c2d-3ec40b009bdb",
   "metadata": {
    "execution": {
     "iopub.execute_input": "2023-08-27T13:12:06.875242Z",
     "iopub.status.busy": "2023-08-27T13:12:06.874695Z",
     "iopub.status.idle": "2023-08-27T13:12:06.886711Z",
     "shell.execute_reply": "2023-08-27T13:12:06.885284Z",
     "shell.execute_reply.started": "2023-08-27T13:12:06.875177Z"
    },
    "tags": []
   },
   "outputs": [],
   "source": [
    "import pandas as pd\n",
    "from matplotlib import pyplot as plt\n",
    "import seaborn as sns\n",
    "import numpy as np\n",
    "import json"
   ]
  },
  {
   "cell_type": "markdown",
   "id": "353612ff-c418-4e68-89f6-a14d478c4d1f",
   "metadata": {},
   "source": [
    "## GDP per capita and Gini index\n",
    "\n",
    "Data has been downloaded from Our World in Data:\n",
    "\n",
    "* [GPD per capita at constant 2005 $](https://ourworldindata.org/grapher/gdp-per-capita-world-bank-constant-usd?tab=table)\n",
    "* [Gini coefficient](https://ourworldindata.org/grapher/economic-inequality-gini-index?tab=chart&region=Europe)\n",
    "* [Population growth](https://ourworldindata.org/population-growth)"
   ]
  },
  {
   "cell_type": "code",
   "execution_count": 252,
   "id": "11ab89b4-2710-4b82-810d-5a5af96867b7",
   "metadata": {
    "execution": {
     "iopub.execute_input": "2023-09-03T08:50:30.235552Z",
     "iopub.status.busy": "2023-09-03T08:50:30.235096Z",
     "iopub.status.idle": "2023-09-03T08:50:30.552957Z",
     "shell.execute_reply": "2023-09-03T08:50:30.550289Z",
     "shell.execute_reply.started": "2023-09-03T08:50:30.235504Z"
    },
    "tags": []
   },
   "outputs": [],
   "source": [
    "df1 = pd.read_csv('gdp-per-capita-world-bank-constant-usd.csv')\n",
    "df2 = pd.read_csv('economic-inequality-gini-index.csv')\n",
    "df3 = pd.read_csv('population-and-demography.csv')\n",
    "\n",
    "#only preserve latest year per each country\n",
    "df1 = df1[df1.groupby('Code')['Year'].transform(max) == df1['Year']]\n",
    "df2 = df2[df2.groupby('Code')['Year'].transform(max) == df2['Year']]\n",
    "df3 = df3[df3.groupby('Country name')['Year'].transform(max) == df3['Year']]"
   ]
  },
  {
   "cell_type": "code",
   "execution_count": 253,
   "id": "a7f11379-9516-45c9-97ad-1cef6d697b6f",
   "metadata": {
    "execution": {
     "iopub.execute_input": "2023-09-03T08:50:30.557561Z",
     "iopub.status.busy": "2023-09-03T08:50:30.556746Z",
     "iopub.status.idle": "2023-09-03T08:50:30.589350Z",
     "shell.execute_reply": "2023-09-03T08:50:30.574314Z",
     "shell.execute_reply.started": "2023-09-03T08:50:30.557507Z"
    },
    "tags": []
   },
   "outputs": [],
   "source": [
    "# rename cols for convenience\n",
    "df1 = df1.rename(columns={'Entity': 'country_gdpc', 'Year': 'year_gdpc'})\n",
    "df2 = df2.rename(columns={'Entity': 'country_gini', 'Year': 'year_gini'})\n",
    "df3 = df3.rename(columns={'Country name': 'country_pop', 'Year': 'year_pop'})"
   ]
  },
  {
   "cell_type": "code",
   "execution_count": 255,
   "id": "25fb7be9-107b-4260-a177-2bfdb8cd7fe3",
   "metadata": {
    "execution": {
     "iopub.execute_input": "2023-09-03T08:50:43.125621Z",
     "iopub.status.busy": "2023-09-03T08:50:43.125153Z",
     "iopub.status.idle": "2023-09-03T08:50:43.144279Z",
     "shell.execute_reply": "2023-09-03T08:50:43.142291Z",
     "shell.execute_reply.started": "2023-09-03T08:50:43.125576Z"
    }
   },
   "outputs": [],
   "source": [
    "# only keep cols of interest\n",
    "df1 = df1[['country_gdpc', 'year_gdpc', 'GDP per capita (constant 2015 US$)']]\n",
    "df2 = df2[['country_gini', 'year_gini', 'Gini coefficient']]\n",
    "df3 = df3[['country_pop', 'year_pop', 'Population']]"
   ]
  },
  {
   "cell_type": "code",
   "execution_count": 256,
   "id": "d0a9435e-594f-4803-9a26-94185521475c",
   "metadata": {
    "execution": {
     "iopub.execute_input": "2023-09-03T08:50:44.156259Z",
     "iopub.status.busy": "2023-09-03T08:50:44.155858Z",
     "iopub.status.idle": "2023-09-03T08:50:44.171880Z",
     "shell.execute_reply": "2023-09-03T08:50:44.170393Z",
     "shell.execute_reply.started": "2023-09-03T08:50:44.156220Z"
    },
    "tags": []
   },
   "outputs": [
    {
     "data": {
      "text/html": [
       "<div>\n",
       "<style scoped>\n",
       "    .dataframe tbody tr th:only-of-type {\n",
       "        vertical-align: middle;\n",
       "    }\n",
       "\n",
       "    .dataframe tbody tr th {\n",
       "        vertical-align: top;\n",
       "    }\n",
       "\n",
       "    .dataframe thead th {\n",
       "        text-align: right;\n",
       "    }\n",
       "</style>\n",
       "<table border=\"1\" class=\"dataframe\">\n",
       "  <thead>\n",
       "    <tr style=\"text-align: right;\">\n",
       "      <th></th>\n",
       "      <th>country_pop</th>\n",
       "      <th>year_pop</th>\n",
       "      <th>Population</th>\n",
       "    </tr>\n",
       "  </thead>\n",
       "  <tbody>\n",
       "    <tr>\n",
       "      <th>71</th>\n",
       "      <td>Afghanistan</td>\n",
       "      <td>2021</td>\n",
       "      <td>40099460</td>\n",
       "    </tr>\n",
       "    <tr>\n",
       "      <th>143</th>\n",
       "      <td>Africa (UN)</td>\n",
       "      <td>2021</td>\n",
       "      <td>1393676400</td>\n",
       "    </tr>\n",
       "    <tr>\n",
       "      <th>215</th>\n",
       "      <td>Albania</td>\n",
       "      <td>2021</td>\n",
       "      <td>2854710</td>\n",
       "    </tr>\n",
       "    <tr>\n",
       "      <th>287</th>\n",
       "      <td>Algeria</td>\n",
       "      <td>2021</td>\n",
       "      <td>44177964</td>\n",
       "    </tr>\n",
       "    <tr>\n",
       "      <th>359</th>\n",
       "      <td>American Samoa</td>\n",
       "      <td>2021</td>\n",
       "      <td>45056</td>\n",
       "    </tr>\n",
       "    <tr>\n",
       "      <th>...</th>\n",
       "      <td>...</td>\n",
       "      <td>...</td>\n",
       "      <td>...</td>\n",
       "    </tr>\n",
       "    <tr>\n",
       "      <th>17999</th>\n",
       "      <td>Western Sahara</td>\n",
       "      <td>2021</td>\n",
       "      <td>565590</td>\n",
       "    </tr>\n",
       "    <tr>\n",
       "      <th>18071</th>\n",
       "      <td>World</td>\n",
       "      <td>2021</td>\n",
       "      <td>7909295000</td>\n",
       "    </tr>\n",
       "    <tr>\n",
       "      <th>18143</th>\n",
       "      <td>Yemen</td>\n",
       "      <td>2021</td>\n",
       "      <td>32981644</td>\n",
       "    </tr>\n",
       "    <tr>\n",
       "      <th>18215</th>\n",
       "      <td>Zambia</td>\n",
       "      <td>2021</td>\n",
       "      <td>19473132</td>\n",
       "    </tr>\n",
       "    <tr>\n",
       "      <th>18287</th>\n",
       "      <td>Zimbabwe</td>\n",
       "      <td>2021</td>\n",
       "      <td>15993525</td>\n",
       "    </tr>\n",
       "  </tbody>\n",
       "</table>\n",
       "<p>254 rows × 3 columns</p>\n",
       "</div>"
      ],
      "text/plain": [
       "          country_pop  year_pop  Population\n",
       "71        Afghanistan      2021    40099460\n",
       "143       Africa (UN)      2021  1393676400\n",
       "215           Albania      2021     2854710\n",
       "287           Algeria      2021    44177964\n",
       "359    American Samoa      2021       45056\n",
       "...               ...       ...         ...\n",
       "17999  Western Sahara      2021      565590\n",
       "18071           World      2021  7909295000\n",
       "18143           Yemen      2021    32981644\n",
       "18215          Zambia      2021    19473132\n",
       "18287        Zimbabwe      2021    15993525\n",
       "\n",
       "[254 rows x 3 columns]"
      ]
     },
     "execution_count": 256,
     "metadata": {},
     "output_type": "execute_result"
    }
   ],
   "source": [
    "df3"
   ]
  },
  {
   "cell_type": "code",
   "execution_count": 259,
   "id": "35816a8c-94af-4a1b-8c5e-d92b592eead5",
   "metadata": {
    "execution": {
     "iopub.execute_input": "2023-09-03T08:50:57.557795Z",
     "iopub.status.busy": "2023-09-03T08:50:57.557341Z",
     "iopub.status.idle": "2023-09-03T08:50:57.564282Z",
     "shell.execute_reply": "2023-09-03T08:50:57.562692Z",
     "shell.execute_reply.started": "2023-09-03T08:50:57.557744Z"
    },
    "tags": []
   },
   "outputs": [],
   "source": [
    "# df3[df3['Country name']=='New Zealand'].head(5)\n",
    "# df2[df2['Entity']=='New Zealand'].head(5)\n",
    "\n",
    "\n",
    "# len(set(df2.country_gini))"
   ]
  },
  {
   "cell_type": "code",
   "execution_count": 263,
   "id": "d6db54d8-a846-478e-8267-f7276ff8d451",
   "metadata": {
    "execution": {
     "iopub.execute_input": "2023-09-03T08:52:07.996503Z",
     "iopub.status.busy": "2023-09-03T08:52:07.996147Z",
     "iopub.status.idle": "2023-09-03T08:52:08.007560Z",
     "shell.execute_reply": "2023-09-03T08:52:08.005978Z",
     "shell.execute_reply.started": "2023-09-03T08:52:07.996466Z"
    },
    "tags": []
   },
   "outputs": [],
   "source": [
    "# get a single df\n",
    "df = df2.merge(df1, left_on='country_gini', right_on='country_gdpc')\n",
    "df = df.merge(df3, left_on='country_gini', right_on='country_pop')"
   ]
  },
  {
   "cell_type": "code",
   "execution_count": 264,
   "id": "218b7ffe-4949-4bdb-bd13-0ae7be4c8b9e",
   "metadata": {
    "execution": {
     "iopub.execute_input": "2023-09-03T08:52:08.681812Z",
     "iopub.status.busy": "2023-09-03T08:52:08.681453Z",
     "iopub.status.idle": "2023-09-03T08:52:08.699538Z",
     "shell.execute_reply": "2023-09-03T08:52:08.697854Z",
     "shell.execute_reply.started": "2023-09-03T08:52:08.681778Z"
    },
    "tags": []
   },
   "outputs": [
    {
     "data": {
      "text/plain": [
       "Index(['country_gini', 'year_gini', 'Gini coefficient', 'country_gdpc',\n",
       "       'year_gdpc', 'GDP per capita (constant 2015 US$)', 'country_pop',\n",
       "       'year_pop', 'Population'],\n",
       "      dtype='object')"
      ]
     },
     "execution_count": 264,
     "metadata": {},
     "output_type": "execute_result"
    }
   ],
   "source": [
    "len(df), len(countries)\n",
    "df.columns"
   ]
  },
  {
   "cell_type": "code",
   "execution_count": 266,
   "id": "d738fd43-92de-4fd0-9178-50afcf6550b5",
   "metadata": {
    "execution": {
     "iopub.execute_input": "2023-09-03T08:52:19.667964Z",
     "iopub.status.busy": "2023-09-03T08:52:19.667292Z",
     "iopub.status.idle": "2023-09-03T08:52:20.266088Z",
     "shell.execute_reply": "2023-09-03T08:52:20.258657Z",
     "shell.execute_reply.started": "2023-09-03T08:52:19.667926Z"
    },
    "tags": []
   },
   "outputs": [
    {
     "data": {
      "text/plain": [
       "array([[<AxesSubplot:title={'center':'Population'}>]], dtype=object)"
      ]
     },
     "execution_count": 266,
     "metadata": {},
     "output_type": "execute_result"
    },
    {
     "data": {
      "image/png": "[encoded data removed]",
      "text/plain": [
       "<Figure size 432x288 with 1 Axes>"
      ]
     },
     "metadata": {
      "needs_background": "light"
     },
     "output_type": "display_data"
    }
   ],
   "source": [
    "df.hist(column='Population', bins=10)\n",
    "#plt.xscale('log')"
   ]
  },
  {
   "cell_type": "code",
   "execution_count": 267,
   "id": "74c6dfe4-e974-4163-8d37-b14fa907a0ee",
   "metadata": {
    "execution": {
     "iopub.execute_input": "2023-09-03T08:52:22.009549Z",
     "iopub.status.busy": "2023-09-03T08:52:22.006209Z",
     "iopub.status.idle": "2023-09-03T08:52:22.024905Z",
     "shell.execute_reply": "2023-09-03T08:52:22.023186Z",
     "shell.execute_reply.started": "2023-09-03T08:52:22.009503Z"
    },
    "tags": []
   },
   "outputs": [
    {
     "data": {
      "text/plain": [
       "5.701828656181439"
      ]
     },
     "execution_count": 267,
     "metadata": {},
     "output_type": "execute_result"
    }
   ],
   "source": [
    "np.log10(503302)"
   ]
  },
  {
   "cell_type": "code",
   "execution_count": 268,
   "id": "6292440b-a05c-4b1a-8b59-5caacd7c0fe3",
   "metadata": {
    "execution": {
     "iopub.execute_input": "2023-09-03T08:52:37.728055Z",
     "iopub.status.busy": "2023-09-03T08:52:37.727218Z",
     "iopub.status.idle": "2023-09-03T08:52:37.742827Z",
     "shell.execute_reply": "2023-09-03T08:52:37.741134Z",
     "shell.execute_reply.started": "2023-09-03T08:52:37.727998Z"
    },
    "tags": []
   },
   "outputs": [],
   "source": [
    "# bucket population into chunks\n",
    "\n",
    "def bucket_pop(row):\n",
    "    if row < 100000000:\n",
    "        return 5\n",
    "    elif row < 1000000000:\n",
    "        return 100\n",
    "    else:\n",
    "        return 1000\n",
    "\n",
    "# df['population_bucket'] = \\\n",
    "#     df['Population'].apply(lambda row: 10**int(np.log10(row)))\n",
    "\n",
    "df['population_bucket'] = \\\n",
    "    df['Population'].apply(lambda row: bucket_pop(row))"
   ]
  },
  {
   "cell_type": "code",
   "execution_count": 269,
   "id": "d3ebe46e-94f2-49f0-a3c5-42fe27a3549b",
   "metadata": {
    "execution": {
     "iopub.execute_input": "2023-09-03T08:52:40.227544Z",
     "iopub.status.busy": "2023-09-03T08:52:40.224408Z",
     "iopub.status.idle": "2023-09-03T08:52:40.264597Z",
     "shell.execute_reply": "2023-09-03T08:52:40.248762Z",
     "shell.execute_reply.started": "2023-09-03T08:52:40.227498Z"
    },
    "tags": []
   },
   "outputs": [
    {
     "data": {
      "text/html": [
       "<div>\n",
       "<style scoped>\n",
       "    .dataframe tbody tr th:only-of-type {\n",
       "        vertical-align: middle;\n",
       "    }\n",
       "\n",
       "    .dataframe tbody tr th {\n",
       "        vertical-align: top;\n",
       "    }\n",
       "\n",
       "    .dataframe thead th {\n",
       "        text-align: right;\n",
       "    }\n",
       "</style>\n",
       "<table border=\"1\" class=\"dataframe\">\n",
       "  <thead>\n",
       "    <tr style=\"text-align: right;\">\n",
       "      <th></th>\n",
       "      <th>country_gini</th>\n",
       "      <th>year_gini</th>\n",
       "      <th>Gini coefficient</th>\n",
       "      <th>country_gdpc</th>\n",
       "      <th>year_gdpc</th>\n",
       "      <th>GDP per capita (constant 2015 US$)</th>\n",
       "      <th>country_pop</th>\n",
       "      <th>year_pop</th>\n",
       "      <th>Population</th>\n",
       "      <th>population_bucket</th>\n",
       "    </tr>\n",
       "  </thead>\n",
       "  <tbody>\n",
       "    <tr>\n",
       "      <th>84</th>\n",
       "      <td>Luxembourg</td>\n",
       "      <td>2019</td>\n",
       "      <td>0.342413</td>\n",
       "      <td>Luxembourg</td>\n",
       "      <td>2021</td>\n",
       "      <td>107792.19000</td>\n",
       "      <td>Luxembourg</td>\n",
       "      <td>2021</td>\n",
       "      <td>639330</td>\n",
       "      <td>5</td>\n",
       "    </tr>\n",
       "    <tr>\n",
       "      <th>67</th>\n",
       "      <td>Ireland</td>\n",
       "      <td>2018</td>\n",
       "      <td>0.306029</td>\n",
       "      <td>Ireland</td>\n",
       "      <td>2021</td>\n",
       "      <td>88966.67000</td>\n",
       "      <td>Ireland</td>\n",
       "      <td>2021</td>\n",
       "      <td>4986525</td>\n",
       "      <td>5</td>\n",
       "    </tr>\n",
       "    <tr>\n",
       "      <th>140</th>\n",
       "      <td>Switzerland</td>\n",
       "      <td>2018</td>\n",
       "      <td>0.331411</td>\n",
       "      <td>Switzerland</td>\n",
       "      <td>2021</td>\n",
       "      <td>87339.76000</td>\n",
       "      <td>Switzerland</td>\n",
       "      <td>2021</td>\n",
       "      <td>8691409</td>\n",
       "      <td>5</td>\n",
       "    </tr>\n",
       "    <tr>\n",
       "      <th>110</th>\n",
       "      <td>Norway</td>\n",
       "      <td>2019</td>\n",
       "      <td>0.277423</td>\n",
       "      <td>Norway</td>\n",
       "      <td>2021</td>\n",
       "      <td>77512.90000</td>\n",
       "      <td>Norway</td>\n",
       "      <td>2021</td>\n",
       "      <td>5403021</td>\n",
       "      <td>5</td>\n",
       "    </tr>\n",
       "    <tr>\n",
       "      <th>156</th>\n",
       "      <td>United States</td>\n",
       "      <td>2019</td>\n",
       "      <td>0.415356</td>\n",
       "      <td>United States</td>\n",
       "      <td>2021</td>\n",
       "      <td>61855.52000</td>\n",
       "      <td>United States</td>\n",
       "      <td>2021</td>\n",
       "      <td>336997630</td>\n",
       "      <td>100</td>\n",
       "    </tr>\n",
       "    <tr>\n",
       "      <th>...</th>\n",
       "      <td>...</td>\n",
       "      <td>...</td>\n",
       "      <td>...</td>\n",
       "      <td>...</td>\n",
       "      <td>...</td>\n",
       "      <td>...</td>\n",
       "      <td>...</td>\n",
       "      <td>...</td>\n",
       "      <td>...</td>\n",
       "      <td>...</td>\n",
       "    </tr>\n",
       "    <tr>\n",
       "      <th>85</th>\n",
       "      <td>Madagascar</td>\n",
       "      <td>2012</td>\n",
       "      <td>0.426482</td>\n",
       "      <td>Madagascar</td>\n",
       "      <td>2021</td>\n",
       "      <td>442.12160</td>\n",
       "      <td>Madagascar</td>\n",
       "      <td>2021</td>\n",
       "      <td>28915652</td>\n",
       "      <td>5</td>\n",
       "    </tr>\n",
       "    <tr>\n",
       "      <th>132</th>\n",
       "      <td>Somalia</td>\n",
       "      <td>2017</td>\n",
       "      <td>0.368224</td>\n",
       "      <td>Somalia</td>\n",
       "      <td>2021</td>\n",
       "      <td>427.89966</td>\n",
       "      <td>Somalia</td>\n",
       "      <td>2021</td>\n",
       "      <td>17065588</td>\n",
       "      <td>5</td>\n",
       "    </tr>\n",
       "    <tr>\n",
       "      <th>86</th>\n",
       "      <td>Malawi</td>\n",
       "      <td>2019</td>\n",
       "      <td>0.385432</td>\n",
       "      <td>Malawi</td>\n",
       "      <td>2021</td>\n",
       "      <td>389.37880</td>\n",
       "      <td>Malawi</td>\n",
       "      <td>2021</td>\n",
       "      <td>19889742</td>\n",
       "      <td>5</td>\n",
       "    </tr>\n",
       "    <tr>\n",
       "      <th>23</th>\n",
       "      <td>Central African Republic</td>\n",
       "      <td>2008</td>\n",
       "      <td>0.562366</td>\n",
       "      <td>Central African Republic</td>\n",
       "      <td>2021</td>\n",
       "      <td>370.67575</td>\n",
       "      <td>Central African Republic</td>\n",
       "      <td>2021</td>\n",
       "      <td>5457165</td>\n",
       "      <td>5</td>\n",
       "    </tr>\n",
       "    <tr>\n",
       "      <th>19</th>\n",
       "      <td>Burundi</td>\n",
       "      <td>2013</td>\n",
       "      <td>0.386248</td>\n",
       "      <td>Burundi</td>\n",
       "      <td>2021</td>\n",
       "      <td>261.01938</td>\n",
       "      <td>Burundi</td>\n",
       "      <td>2021</td>\n",
       "      <td>12551215</td>\n",
       "      <td>5</td>\n",
       "    </tr>\n",
       "  </tbody>\n",
       "</table>\n",
       "<p>164 rows × 10 columns</p>\n",
       "</div>"
      ],
      "text/plain": [
       "                 country_gini  year_gini  Gini coefficient  \\\n",
       "84                 Luxembourg       2019          0.342413   \n",
       "67                    Ireland       2018          0.306029   \n",
       "140               Switzerland       2018          0.331411   \n",
       "110                    Norway       2019          0.277423   \n",
       "156             United States       2019          0.415356   \n",
       "..                        ...        ...               ...   \n",
       "85                 Madagascar       2012          0.426482   \n",
       "132                   Somalia       2017          0.368224   \n",
       "86                     Malawi       2019          0.385432   \n",
       "23   Central African Republic       2008          0.562366   \n",
       "19                    Burundi       2013          0.386248   \n",
       "\n",
       "                 country_gdpc  year_gdpc  GDP per capita (constant 2015 US$)  \\\n",
       "84                 Luxembourg       2021                        107792.19000   \n",
       "67                    Ireland       2021                         88966.67000   \n",
       "140               Switzerland       2021                         87339.76000   \n",
       "110                    Norway       2021                         77512.90000   \n",
       "156             United States       2021                         61855.52000   \n",
       "..                        ...        ...                                 ...   \n",
       "85                 Madagascar       2021                           442.12160   \n",
       "132                   Somalia       2021                           427.89966   \n",
       "86                     Malawi       2021                           389.37880   \n",
       "23   Central African Republic       2021                           370.67575   \n",
       "19                    Burundi       2021                           261.01938   \n",
       "\n",
       "                  country_pop  year_pop  Population  population_bucket  \n",
       "84                 Luxembourg      2021      639330                  5  \n",
       "67                    Ireland      2021     4986525                  5  \n",
       "140               Switzerland      2021     8691409                  5  \n",
       "110                    Norway      2021     5403021                  5  \n",
       "156             United States      2021   336997630                100  \n",
       "..                        ...       ...         ...                ...  \n",
       "85                 Madagascar      2021    28915652                  5  \n",
       "132                   Somalia      2021    17065588                  5  \n",
       "86                     Malawi      2021    19889742                  5  \n",
       "23   Central African Republic      2021     5457165                  5  \n",
       "19                    Burundi      2021    12551215                  5  \n",
       "\n",
       "[164 rows x 10 columns]"
      ]
     },
     "execution_count": 269,
     "metadata": {},
     "output_type": "execute_result"
    }
   ],
   "source": [
    "df.sort_values('GDP per capita (constant 2015 US$)', ascending=False)\n",
    "#df.sort_values('Population', ascending=False)\n",
    "#df.sort_values('Gini coefficient', ascending=False)"
   ]
  },
  {
   "cell_type": "code",
   "execution_count": 270,
   "id": "e345775e-533a-4751-a63e-392a6f339a83",
   "metadata": {
    "execution": {
     "iopub.execute_input": "2023-09-03T08:52:47.465678Z",
     "iopub.status.busy": "2023-09-03T08:52:47.465316Z",
     "iopub.status.idle": "2023-09-03T08:52:47.473963Z",
     "shell.execute_reply": "2023-09-03T08:52:47.471155Z",
     "shell.execute_reply.started": "2023-09-03T08:52:47.465643Z"
    },
    "tags": []
   },
   "outputs": [],
   "source": [
    "# remove smaller countries\n",
    "\n",
    "df = df[df.Population>=10000000]"
   ]
  },
  {
   "cell_type": "code",
   "execution_count": 273,
   "id": "53449579-c365-4bc8-9e3a-be7f01c22d95",
   "metadata": {
    "execution": {
     "iopub.execute_input": "2023-09-03T08:52:56.451823Z",
     "iopub.status.busy": "2023-09-03T08:52:56.451245Z",
     "iopub.status.idle": "2023-09-03T08:52:56.463099Z",
     "shell.execute_reply": "2023-09-03T08:52:56.462110Z",
     "shell.execute_reply.started": "2023-09-03T08:52:56.451767Z"
    },
    "tags": []
   },
   "outputs": [
    {
     "data": {
      "text/plain": [
       "2011"
      ]
     },
     "execution_count": 273,
     "metadata": {},
     "output_type": "execute_result"
    }
   ],
   "source": [
    "min(df1.year_gdpc)"
   ]
  },
  {
   "cell_type": "code",
   "execution_count": 274,
   "id": "5c798000-e1f8-4139-b5d4-276241a3e7b7",
   "metadata": {
    "execution": {
     "iopub.execute_input": "2023-09-03T08:52:59.182695Z",
     "iopub.status.busy": "2023-09-03T08:52:59.182094Z",
     "iopub.status.idle": "2023-09-03T08:52:59.540934Z",
     "shell.execute_reply": "2023-09-03T08:52:59.533514Z",
     "shell.execute_reply.started": "2023-09-03T08:52:59.182639Z"
    },
    "tags": []
   },
   "outputs": [
    {
     "data": {
      "text/plain": [
       "<AxesSubplot:xlabel='GDP per capita (constant 2015 US$)', ylabel='Gini coefficient'>"
      ]
     },
     "execution_count": 274,
     "metadata": {},
     "output_type": "execute_result"
    },
    {
     "data": {
      "image/png": "[encoded data removed]",
      "text/plain": [
       "<Figure size 432x288 with 1 Axes>"
      ]
     },
     "metadata": {
      "needs_background": "light"
     },
     "output_type": "display_data"
    }
   ],
   "source": [
    "sns.scatterplot(data=df, x=\"GDP per capita (constant 2015 US$)\", y=\"Gini coefficient\", \n",
    "                size='population_bucket')\n"
   ]
  },
  {
   "cell_type": "code",
   "execution_count": 275,
   "id": "7d6392f0-dddb-4581-bd88-6514075b4ab1",
   "metadata": {
    "execution": {
     "iopub.execute_input": "2023-09-03T08:53:01.371900Z",
     "iopub.status.busy": "2023-09-03T08:53:01.371536Z",
     "iopub.status.idle": "2023-09-03T08:53:01.897753Z",
     "shell.execute_reply": "2023-09-03T08:53:01.897007Z",
     "shell.execute_reply.started": "2023-09-03T08:53:01.371865Z"
    },
    "tags": []
   },
   "outputs": [
    {
     "data": {
      "image/png": "[encoded data removed]",
      "text/plain": [
       "<Figure size 432x288 with 1 Axes>"
      ]
     },
     "metadata": {
      "needs_background": "light"
     },
     "output_type": "display_data"
    }
   ],
   "source": [
    "sns.scatterplot(data=df, x=\"GDP per capita (constant 2015 US$)\", y=\"Gini coefficient\", \n",
    "                size='population_bucket')\n",
    "plt.xscale('log')"
   ]
  },
  {
   "cell_type": "code",
   "execution_count": 278,
   "id": "45a86749-33db-4985-812c-e27b1cc70820",
   "metadata": {
    "execution": {
     "iopub.execute_input": "2023-09-03T08:53:11.292626Z",
     "iopub.status.busy": "2023-09-03T08:53:11.292255Z",
     "iopub.status.idle": "2023-09-03T08:53:11.335130Z",
     "shell.execute_reply": "2023-09-03T08:53:11.322825Z",
     "shell.execute_reply.started": "2023-09-03T08:53:11.292591Z"
    }
   },
   "outputs": [
    {
     "data": {
      "text/html": [
       "<div>\n",
       "<style scoped>\n",
       "    .dataframe tbody tr th:only-of-type {\n",
       "        vertical-align: middle;\n",
       "    }\n",
       "\n",
       "    .dataframe tbody tr th {\n",
       "        vertical-align: top;\n",
       "    }\n",
       "\n",
       "    .dataframe thead th {\n",
       "        text-align: right;\n",
       "    }\n",
       "</style>\n",
       "<table border=\"1\" class=\"dataframe\">\n",
       "  <thead>\n",
       "    <tr style=\"text-align: right;\">\n",
       "      <th></th>\n",
       "      <th>country_gini</th>\n",
       "      <th>year_gini</th>\n",
       "      <th>Gini coefficient</th>\n",
       "      <th>country_gdpc</th>\n",
       "      <th>year_gdpc</th>\n",
       "      <th>GDP per capita (constant 2015 US$)</th>\n",
       "      <th>country_pop</th>\n",
       "      <th>year_pop</th>\n",
       "      <th>Population</th>\n",
       "      <th>population_bucket</th>\n",
       "    </tr>\n",
       "  </thead>\n",
       "  <tbody>\n",
       "    <tr>\n",
       "      <th>1</th>\n",
       "      <td>Algeria</td>\n",
       "      <td>2011</td>\n",
       "      <td>0.276157</td>\n",
       "      <td>Algeria</td>\n",
       "      <td>2021</td>\n",
       "      <td>3943.1719</td>\n",
       "      <td>Algeria</td>\n",
       "      <td>2021</td>\n",
       "      <td>44177964</td>\n",
       "      <td>5</td>\n",
       "    </tr>\n",
       "    <tr>\n",
       "      <th>2</th>\n",
       "      <td>Angola</td>\n",
       "      <td>2018</td>\n",
       "      <td>0.512721</td>\n",
       "      <td>Angola</td>\n",
       "      <td>2021</td>\n",
       "      <td>2299.6406</td>\n",
       "      <td>Angola</td>\n",
       "      <td>2021</td>\n",
       "      <td>34503776</td>\n",
       "      <td>5</td>\n",
       "    </tr>\n",
       "    <tr>\n",
       "      <th>4</th>\n",
       "      <td>Australia</td>\n",
       "      <td>2018</td>\n",
       "      <td>0.343338</td>\n",
       "      <td>Australia</td>\n",
       "      <td>2021</td>\n",
       "      <td>59341.2400</td>\n",
       "      <td>Australia</td>\n",
       "      <td>2021</td>\n",
       "      <td>25921094</td>\n",
       "      <td>5</td>\n",
       "    </tr>\n",
       "    <tr>\n",
       "      <th>6</th>\n",
       "      <td>Azerbaijan</td>\n",
       "      <td>2005</td>\n",
       "      <td>0.265549</td>\n",
       "      <td>Azerbaijan</td>\n",
       "      <td>2021</td>\n",
       "      <td>5344.4214</td>\n",
       "      <td>Azerbaijan</td>\n",
       "      <td>2021</td>\n",
       "      <td>10312992</td>\n",
       "      <td>5</td>\n",
       "    </tr>\n",
       "    <tr>\n",
       "      <th>7</th>\n",
       "      <td>Bangladesh</td>\n",
       "      <td>2016</td>\n",
       "      <td>0.323853</td>\n",
       "      <td>Bangladesh</td>\n",
       "      <td>2021</td>\n",
       "      <td>1684.4344</td>\n",
       "      <td>Bangladesh</td>\n",
       "      <td>2021</td>\n",
       "      <td>169356240</td>\n",
       "      <td>100</td>\n",
       "    </tr>\n",
       "    <tr>\n",
       "      <th>...</th>\n",
       "      <td>...</td>\n",
       "      <td>...</td>\n",
       "      <td>...</td>\n",
       "      <td>...</td>\n",
       "      <td>...</td>\n",
       "      <td>...</td>\n",
       "      <td>...</td>\n",
       "      <td>...</td>\n",
       "      <td>...</td>\n",
       "      <td>...</td>\n",
       "    </tr>\n",
       "    <tr>\n",
       "      <th>158</th>\n",
       "      <td>Uzbekistan</td>\n",
       "      <td>2003</td>\n",
       "      <td>0.352688</td>\n",
       "      <td>Uzbekistan</td>\n",
       "      <td>2021</td>\n",
       "      <td>3327.7803</td>\n",
       "      <td>Uzbekistan</td>\n",
       "      <td>2021</td>\n",
       "      <td>34081452</td>\n",
       "      <td>5</td>\n",
       "    </tr>\n",
       "    <tr>\n",
       "      <th>160</th>\n",
       "      <td>Vietnam</td>\n",
       "      <td>2018</td>\n",
       "      <td>0.357155</td>\n",
       "      <td>Vietnam</td>\n",
       "      <td>2021</td>\n",
       "      <td>3409.0247</td>\n",
       "      <td>Vietnam</td>\n",
       "      <td>2021</td>\n",
       "      <td>97468024</td>\n",
       "      <td>5</td>\n",
       "    </tr>\n",
       "    <tr>\n",
       "      <th>161</th>\n",
       "      <td>Yemen</td>\n",
       "      <td>2014</td>\n",
       "      <td>0.367071</td>\n",
       "      <td>Yemen</td>\n",
       "      <td>2018</td>\n",
       "      <td>1194.8207</td>\n",
       "      <td>Yemen</td>\n",
       "      <td>2021</td>\n",
       "      <td>32981644</td>\n",
       "      <td>5</td>\n",
       "    </tr>\n",
       "    <tr>\n",
       "      <th>162</th>\n",
       "      <td>Zambia</td>\n",
       "      <td>2015</td>\n",
       "      <td>0.571361</td>\n",
       "      <td>Zambia</td>\n",
       "      <td>2021</td>\n",
       "      <td>1257.9348</td>\n",
       "      <td>Zambia</td>\n",
       "      <td>2021</td>\n",
       "      <td>19473132</td>\n",
       "      <td>5</td>\n",
       "    </tr>\n",
       "    <tr>\n",
       "      <th>163</th>\n",
       "      <td>Zimbabwe</td>\n",
       "      <td>2019</td>\n",
       "      <td>0.502565</td>\n",
       "      <td>Zimbabwe</td>\n",
       "      <td>2021</td>\n",
       "      <td>1289.1991</td>\n",
       "      <td>Zimbabwe</td>\n",
       "      <td>2021</td>\n",
       "      <td>15993525</td>\n",
       "      <td>5</td>\n",
       "    </tr>\n",
       "  </tbody>\n",
       "</table>\n",
       "<p>84 rows × 10 columns</p>\n",
       "</div>"
      ],
      "text/plain": [
       "    country_gini  year_gini  Gini coefficient country_gdpc  year_gdpc  \\\n",
       "1        Algeria       2011          0.276157      Algeria       2021   \n",
       "2         Angola       2018          0.512721       Angola       2021   \n",
       "4      Australia       2018          0.343338    Australia       2021   \n",
       "6     Azerbaijan       2005          0.265549   Azerbaijan       2021   \n",
       "7     Bangladesh       2016          0.323853   Bangladesh       2021   \n",
       "..           ...        ...               ...          ...        ...   \n",
       "158   Uzbekistan       2003          0.352688   Uzbekistan       2021   \n",
       "160      Vietnam       2018          0.357155      Vietnam       2021   \n",
       "161        Yemen       2014          0.367071        Yemen       2018   \n",
       "162       Zambia       2015          0.571361       Zambia       2021   \n",
       "163     Zimbabwe       2019          0.502565     Zimbabwe       2021   \n",
       "\n",
       "     GDP per capita (constant 2015 US$) country_pop  year_pop  Population  \\\n",
       "1                             3943.1719     Algeria      2021    44177964   \n",
       "2                             2299.6406      Angola      2021    34503776   \n",
       "4                            59341.2400   Australia      2021    25921094   \n",
       "6                             5344.4214  Azerbaijan      2021    10312992   \n",
       "7                             1684.4344  Bangladesh      2021   169356240   \n",
       "..                                  ...         ...       ...         ...   \n",
       "158                           3327.7803  Uzbekistan      2021    34081452   \n",
       "160                           3409.0247     Vietnam      2021    97468024   \n",
       "161                           1194.8207       Yemen      2021    32981644   \n",
       "162                           1257.9348      Zambia      2021    19473132   \n",
       "163                           1289.1991    Zimbabwe      2021    15993525   \n",
       "\n",
       "     population_bucket  \n",
       "1                    5  \n",
       "2                    5  \n",
       "4                    5  \n",
       "6                    5  \n",
       "7                  100  \n",
       "..                 ...  \n",
       "158                  5  \n",
       "160                  5  \n",
       "161                  5  \n",
       "162                  5  \n",
       "163                  5  \n",
       "\n",
       "[84 rows x 10 columns]"
      ]
     },
     "execution_count": 278,
     "metadata": {},
     "output_type": "execute_result"
    }
   ],
   "source": [
    "df"
   ]
  },
  {
   "cell_type": "code",
   "execution_count": 279,
   "id": "991d7c45-7a87-4657-8d5b-cea637ee4a42",
   "metadata": {
    "execution": {
     "iopub.execute_input": "2023-09-03T09:05:51.156050Z",
     "iopub.status.busy": "2023-09-03T09:05:51.155400Z",
     "iopub.status.idle": "2023-09-03T09:05:51.170534Z",
     "shell.execute_reply": "2023-09-03T09:05:51.169012Z",
     "shell.execute_reply.started": "2023-09-03T09:05:51.156011Z"
    },
    "tags": []
   },
   "outputs": [],
   "source": [
    "df[['country_gdpc', 'year_gdpc', 'GDP per capita (constant 2015 US$)', \n",
    "    'country_gini', 'year_gini', 'Gini coefficient', \n",
    "    'country_pop', 'year_pop', 'Population']].to_csv('df.csv', index=None)"
   ]
  },
  {
   "cell_type": "code",
   "execution_count": 277,
   "id": "037f4c15-f7c7-4b29-b66a-a8e707e39cfb",
   "metadata": {
    "execution": {
     "iopub.execute_input": "2023-09-03T08:53:04.806152Z",
     "iopub.status.busy": "2023-09-03T08:53:04.805769Z",
     "iopub.status.idle": "2023-09-03T08:53:04.867015Z",
     "shell.execute_reply": "2023-09-03T08:53:04.865347Z",
     "shell.execute_reply.started": "2023-09-03T08:53:04.806115Z"
    },
    "tags": []
   },
   "outputs": [
    {
     "data": {
      "text/plain": [
       "1.3333333333333333"
      ]
     },
     "execution_count": 277,
     "metadata": {},
     "output_type": "execute_result"
    }
   ],
   "source": [
    "12/9"
   ]
  },
  {
   "cell_type": "code",
   "execution_count": 281,
   "id": "c406cea5-8ca2-49c7-91e2-31ed586879f1",
   "metadata": {
    "execution": {
     "iopub.execute_input": "2023-09-03T09:06:08.166480Z",
     "iopub.status.busy": "2023-09-03T09:06:08.162387Z",
     "iopub.status.idle": "2023-09-03T09:06:08.199586Z",
     "shell.execute_reply": "2023-09-03T09:06:08.197443Z",
     "shell.execute_reply.started": "2023-09-03T09:06:08.166306Z"
    },
    "tags": []
   },
   "outputs": [
    {
     "data": {
      "text/html": [
       "<div>\n",
       "<style scoped>\n",
       "    .dataframe tbody tr th:only-of-type {\n",
       "        vertical-align: middle;\n",
       "    }\n",
       "\n",
       "    .dataframe tbody tr th {\n",
       "        vertical-align: top;\n",
       "    }\n",
       "\n",
       "    .dataframe thead th {\n",
       "        text-align: right;\n",
       "    }\n",
       "</style>\n",
       "<table border=\"1\" class=\"dataframe\">\n",
       "  <thead>\n",
       "    <tr style=\"text-align: right;\">\n",
       "      <th></th>\n",
       "      <th>country_gini</th>\n",
       "      <th>year_gini</th>\n",
       "      <th>Gini coefficient</th>\n",
       "      <th>country_gdpc</th>\n",
       "      <th>year_gdpc</th>\n",
       "      <th>GDP per capita (constant 2015 US$)</th>\n",
       "      <th>country_pop</th>\n",
       "      <th>year_pop</th>\n",
       "      <th>Population</th>\n",
       "      <th>population_bucket</th>\n",
       "    </tr>\n",
       "  </thead>\n",
       "  <tbody>\n",
       "    <tr>\n",
       "      <th>121</th>\n",
       "      <td>Rwanda</td>\n",
       "      <td>2016</td>\n",
       "      <td>0.437100</td>\n",
       "      <td>Rwanda</td>\n",
       "      <td>2021</td>\n",
       "      <td>890.18720</td>\n",
       "      <td>Rwanda</td>\n",
       "      <td>2021</td>\n",
       "      <td>13461891</td>\n",
       "      <td>5</td>\n",
       "    </tr>\n",
       "    <tr>\n",
       "      <th>11</th>\n",
       "      <td>Benin</td>\n",
       "      <td>2018</td>\n",
       "      <td>0.378086</td>\n",
       "      <td>Benin</td>\n",
       "      <td>2021</td>\n",
       "      <td>1214.07760</td>\n",
       "      <td>Benin</td>\n",
       "      <td>2021</td>\n",
       "      <td>12996901</td>\n",
       "      <td>5</td>\n",
       "    </tr>\n",
       "    <tr>\n",
       "      <th>19</th>\n",
       "      <td>Burundi</td>\n",
       "      <td>2013</td>\n",
       "      <td>0.386248</td>\n",
       "      <td>Burundi</td>\n",
       "      <td>2021</td>\n",
       "      <td>261.01938</td>\n",
       "      <td>Burundi</td>\n",
       "      <td>2021</td>\n",
       "      <td>12551215</td>\n",
       "      <td>5</td>\n",
       "    </tr>\n",
       "    <tr>\n",
       "      <th>148</th>\n",
       "      <td>Tunisia</td>\n",
       "      <td>2015</td>\n",
       "      <td>0.328159</td>\n",
       "      <td>Tunisia</td>\n",
       "      <td>2021</td>\n",
       "      <td>3831.43730</td>\n",
       "      <td>Tunisia</td>\n",
       "      <td>2021</td>\n",
       "      <td>12262949</td>\n",
       "      <td>5</td>\n",
       "    </tr>\n",
       "    <tr>\n",
       "      <th>13</th>\n",
       "      <td>Bolivia</td>\n",
       "      <td>2020</td>\n",
       "      <td>0.436153</td>\n",
       "      <td>Bolivia</td>\n",
       "      <td>2021</td>\n",
       "      <td>3061.73850</td>\n",
       "      <td>Bolivia</td>\n",
       "      <td>2021</td>\n",
       "      <td>12079474</td>\n",
       "      <td>5</td>\n",
       "    </tr>\n",
       "    <tr>\n",
       "      <th>9</th>\n",
       "      <td>Belgium</td>\n",
       "      <td>2019</td>\n",
       "      <td>0.272198</td>\n",
       "      <td>Belgium</td>\n",
       "      <td>2021</td>\n",
       "      <td>42901.43400</td>\n",
       "      <td>Belgium</td>\n",
       "      <td>2021</td>\n",
       "      <td>11611416</td>\n",
       "      <td>5</td>\n",
       "    </tr>\n",
       "    <tr>\n",
       "      <th>59</th>\n",
       "      <td>Haiti</td>\n",
       "      <td>2012</td>\n",
       "      <td>0.411038</td>\n",
       "      <td>Haiti</td>\n",
       "      <td>2021</td>\n",
       "      <td>1283.05290</td>\n",
       "      <td>Haiti</td>\n",
       "      <td>2021</td>\n",
       "      <td>11447575</td>\n",
       "      <td>5</td>\n",
       "    </tr>\n",
       "    <tr>\n",
       "      <th>72</th>\n",
       "      <td>Jordan</td>\n",
       "      <td>2010</td>\n",
       "      <td>0.336557</td>\n",
       "      <td>Jordan</td>\n",
       "      <td>2021</td>\n",
       "      <td>3781.52830</td>\n",
       "      <td>Jordan</td>\n",
       "      <td>2021</td>\n",
       "      <td>11148288</td>\n",
       "      <td>5</td>\n",
       "    </tr>\n",
       "    <tr>\n",
       "      <th>38</th>\n",
       "      <td>Dominican Republic</td>\n",
       "      <td>2020</td>\n",
       "      <td>0.396412</td>\n",
       "      <td>Dominican Republic</td>\n",
       "      <td>2021</td>\n",
       "      <td>8410.60500</td>\n",
       "      <td>Dominican Republic</td>\n",
       "      <td>2021</td>\n",
       "      <td>11117873</td>\n",
       "      <td>5</td>\n",
       "    </tr>\n",
       "    <tr>\n",
       "      <th>135</th>\n",
       "      <td>South Sudan</td>\n",
       "      <td>2016</td>\n",
       "      <td>0.441441</td>\n",
       "      <td>South Sudan</td>\n",
       "      <td>2015</td>\n",
       "      <td>1071.77770</td>\n",
       "      <td>South Sudan</td>\n",
       "      <td>2021</td>\n",
       "      <td>10748278</td>\n",
       "      <td>5</td>\n",
       "    </tr>\n",
       "    <tr>\n",
       "      <th>34</th>\n",
       "      <td>Czechia</td>\n",
       "      <td>2019</td>\n",
       "      <td>0.252622</td>\n",
       "      <td>Czechia</td>\n",
       "      <td>2021</td>\n",
       "      <td>20083.81000</td>\n",
       "      <td>Czechia</td>\n",
       "      <td>2021</td>\n",
       "      <td>10510748</td>\n",
       "      <td>5</td>\n",
       "    </tr>\n",
       "    <tr>\n",
       "      <th>139</th>\n",
       "      <td>Sweden</td>\n",
       "      <td>2019</td>\n",
       "      <td>0.293056</td>\n",
       "      <td>Sweden</td>\n",
       "      <td>2021</td>\n",
       "      <td>54262.43800</td>\n",
       "      <td>Sweden</td>\n",
       "      <td>2021</td>\n",
       "      <td>10467095</td>\n",
       "      <td>5</td>\n",
       "    </tr>\n",
       "    <tr>\n",
       "      <th>54</th>\n",
       "      <td>Greece</td>\n",
       "      <td>2019</td>\n",
       "      <td>0.331045</td>\n",
       "      <td>Greece</td>\n",
       "      <td>2021</td>\n",
       "      <td>18907.85000</td>\n",
       "      <td>Greece</td>\n",
       "      <td>2021</td>\n",
       "      <td>10445368</td>\n",
       "      <td>5</td>\n",
       "    </tr>\n",
       "    <tr>\n",
       "      <th>6</th>\n",
       "      <td>Azerbaijan</td>\n",
       "      <td>2005</td>\n",
       "      <td>0.265549</td>\n",
       "      <td>Azerbaijan</td>\n",
       "      <td>2021</td>\n",
       "      <td>5344.42140</td>\n",
       "      <td>Azerbaijan</td>\n",
       "      <td>2021</td>\n",
       "      <td>10312992</td>\n",
       "      <td>5</td>\n",
       "    </tr>\n",
       "    <tr>\n",
       "      <th>118</th>\n",
       "      <td>Portugal</td>\n",
       "      <td>2019</td>\n",
       "      <td>0.327627</td>\n",
       "      <td>Portugal</td>\n",
       "      <td>2021</td>\n",
       "      <td>20831.08800</td>\n",
       "      <td>Portugal</td>\n",
       "      <td>2021</td>\n",
       "      <td>10290109</td>\n",
       "      <td>5</td>\n",
       "    </tr>\n",
       "    <tr>\n",
       "      <th>60</th>\n",
       "      <td>Honduras</td>\n",
       "      <td>2019</td>\n",
       "      <td>0.481682</td>\n",
       "      <td>Honduras</td>\n",
       "      <td>2021</td>\n",
       "      <td>2428.02930</td>\n",
       "      <td>Honduras</td>\n",
       "      <td>2021</td>\n",
       "      <td>10278346</td>\n",
       "      <td>5</td>\n",
       "    </tr>\n",
       "  </tbody>\n",
       "</table>\n",
       "</div>"
      ],
      "text/plain": [
       "           country_gini  year_gini  Gini coefficient        country_gdpc  \\\n",
       "121              Rwanda       2016          0.437100              Rwanda   \n",
       "11                Benin       2018          0.378086               Benin   \n",
       "19              Burundi       2013          0.386248             Burundi   \n",
       "148             Tunisia       2015          0.328159             Tunisia   \n",
       "13              Bolivia       2020          0.436153             Bolivia   \n",
       "9               Belgium       2019          0.272198             Belgium   \n",
       "59                Haiti       2012          0.411038               Haiti   \n",
       "72               Jordan       2010          0.336557              Jordan   \n",
       "38   Dominican Republic       2020          0.396412  Dominican Republic   \n",
       "135         South Sudan       2016          0.441441         South Sudan   \n",
       "34              Czechia       2019          0.252622             Czechia   \n",
       "139              Sweden       2019          0.293056              Sweden   \n",
       "54               Greece       2019          0.331045              Greece   \n",
       "6            Azerbaijan       2005          0.265549          Azerbaijan   \n",
       "118            Portugal       2019          0.327627            Portugal   \n",
       "60             Honduras       2019          0.481682            Honduras   \n",
       "\n",
       "     year_gdpc  GDP per capita (constant 2015 US$)         country_pop  \\\n",
       "121       2021                           890.18720              Rwanda   \n",
       "11        2021                          1214.07760               Benin   \n",
       "19        2021                           261.01938             Burundi   \n",
       "148       2021                          3831.43730             Tunisia   \n",
       "13        2021                          3061.73850             Bolivia   \n",
       "9         2021                         42901.43400             Belgium   \n",
       "59        2021                          1283.05290               Haiti   \n",
       "72        2021                          3781.52830              Jordan   \n",
       "38        2021                          8410.60500  Dominican Republic   \n",
       "135       2015                          1071.77770         South Sudan   \n",
       "34        2021                         20083.81000             Czechia   \n",
       "139       2021                         54262.43800              Sweden   \n",
       "54        2021                         18907.85000              Greece   \n",
       "6         2021                          5344.42140          Azerbaijan   \n",
       "118       2021                         20831.08800            Portugal   \n",
       "60        2021                          2428.02930            Honduras   \n",
       "\n",
       "     year_pop  Population  population_bucket  \n",
       "121      2021    13461891                  5  \n",
       "11       2021    12996901                  5  \n",
       "19       2021    12551215                  5  \n",
       "148      2021    12262949                  5  \n",
       "13       2021    12079474                  5  \n",
       "9        2021    11611416                  5  \n",
       "59       2021    11447575                  5  \n",
       "72       2021    11148288                  5  \n",
       "38       2021    11117873                  5  \n",
       "135      2021    10748278                  5  \n",
       "34       2021    10510748                  5  \n",
       "139      2021    10467095                  5  \n",
       "54       2021    10445368                  5  \n",
       "6        2021    10312992                  5  \n",
       "118      2021    10290109                  5  \n",
       "60       2021    10278346                  5  "
      ]
     },
     "execution_count": 281,
     "metadata": {},
     "output_type": "execute_result"
    }
   ],
   "source": [
    "df.sort_values('Population', ascending=False).iloc[68:]"
   ]
  },
  {
   "cell_type": "code",
   "execution_count": null,
   "id": "3f230855-0e45-4c49-8d77-5c3cc85972d3",
   "metadata": {},
   "outputs": [],
   "source": []
  }
 ],
 "metadata": {
  "kernelspec": {
   "display_name": "Python 3 (ipykernel)",
   "language": "python",
   "name": "python3"
  },
  "language_info": {
   "codemirror_mode": {
    "name": "ipython",
    "version": 3
   },
   "file_extension": ".py",
   "mimetype": "text/x-python",
   "name": "python",
   "nbconvert_exporter": "python",
   "pygments_lexer": "ipython3",
   "version": "3.9.6"
  }
 },
 "nbformat": 4,
 "nbformat_minor": 5
}
