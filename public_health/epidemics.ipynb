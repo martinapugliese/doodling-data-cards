{
 "cells": [
  {
   "cell_type": "code",
   "execution_count": 120,
   "metadata": {},
   "outputs": [],
   "source": [
    "import pandas as pd\n",
    "import math\n",
    "from matplotlib import pyplot as plt\n",
    "import numpy as np\n",
    "\n",
    "from IPython.core.interactiveshell import InteractiveShell\n",
    "InteractiveShell.ast_node_interactivity = \"all\""
   ]
  },
  {
   "cell_type": "code",
   "execution_count": 125,
   "metadata": {},
   "outputs": [],
   "source": [
    "df = pd.read_csv('List of epidemics - data.csv')"
   ]
  },
  {
   "cell_type": "code",
   "execution_count": 126,
   "metadata": {},
   "outputs": [],
   "source": [
    "# rename cols \n",
    "df.columns = ['event', 'date', 'year', 'duration', 'location', 'disease', 'pathogen_type',\n",
    "              'death_toll_str', 'death_toll', 'ref']\n",
    "\n",
    "# change nans, edit types\n",
    "df = df.fillna(float('NaN'))\n",
    "df['death_toll'] = df['death_toll'].apply(lambda row: float(row.replace(',', ''))\n",
    "                                                            if isinstance(row, str) else row)\n",
    "\n",
    "# add decade col\n",
    "df['decade'] = df['year'].apply(lambda row: int(row/100)*100 if not math.isnan(row) else row)"
   ]
  },
  {
   "cell_type": "code",
   "execution_count": 132,
   "metadata": {},
   "outputs": [
    {
     "data": {
      "text/html": [
       "<div>\n",
       "<style scoped>\n",
       "    .dataframe tbody tr th:only-of-type {\n",
       "        vertical-align: middle;\n",
       "    }\n",
       "\n",
       "    .dataframe tbody tr th {\n",
       "        vertical-align: top;\n",
       "    }\n",
       "\n",
       "    .dataframe thead th {\n",
       "        text-align: right;\n",
       "    }\n",
       "</style>\n",
       "<table border=\"1\" class=\"dataframe\">\n",
       "  <thead>\n",
       "    <tr style=\"text-align: right;\">\n",
       "      <th></th>\n",
       "      <th>event</th>\n",
       "      <th>date</th>\n",
       "      <th>year</th>\n",
       "      <th>duration</th>\n",
       "      <th>location</th>\n",
       "      <th>disease</th>\n",
       "      <th>pathogen_type</th>\n",
       "      <th>death_toll_str</th>\n",
       "      <th>death_toll</th>\n",
       "      <th>ref</th>\n",
       "      <th>decade</th>\n",
       "    </tr>\n",
       "  </thead>\n",
       "  <tbody>\n",
       "    <tr>\n",
       "      <th>0</th>\n",
       "      <td>1200 BC Babylon influenza epidemic</td>\n",
       "      <td>1200 BC</td>\n",
       "      <td>-1200.0</td>\n",
       "      <td>1.0</td>\n",
       "      <td>Babylon, or Babirus of the Persians, Central A...</td>\n",
       "      <td>Sanskrit scholars found records of a disease r...</td>\n",
       "      <td>NaN</td>\n",
       "      <td>Unknown</td>\n",
       "      <td>NaN</td>\n",
       "      <td>[2]</td>\n",
       "      <td>-1200.0</td>\n",
       "    </tr>\n",
       "    <tr>\n",
       "      <th>1</th>\n",
       "      <td>Plague of Athens</td>\n",
       "      <td>429–426 BC</td>\n",
       "      <td>-427.0</td>\n",
       "      <td>3.0</td>\n",
       "      <td>Greece, Libya, Egypt, Ethiopia</td>\n",
       "      <td>Unknown, possibly typhus, typhoid fever or vir...</td>\n",
       "      <td>NaN</td>\n",
       "      <td>75,000–100,000</td>\n",
       "      <td>87500.0</td>\n",
       "      <td>[3][4][5][6]</td>\n",
       "      <td>-400.0</td>\n",
       "    </tr>\n",
       "    <tr>\n",
       "      <th>2</th>\n",
       "      <td>412 BC epidemic</td>\n",
       "      <td>412 BC</td>\n",
       "      <td>-412.0</td>\n",
       "      <td>1.0</td>\n",
       "      <td>Greece (Northern Greece, Roman Republic)</td>\n",
       "      <td>Unknown, possibly influenza</td>\n",
       "      <td>NaN</td>\n",
       "      <td>Unknown</td>\n",
       "      <td>NaN</td>\n",
       "      <td>[7]</td>\n",
       "      <td>-400.0</td>\n",
       "    </tr>\n",
       "    <tr>\n",
       "      <th>3</th>\n",
       "      <td>Antonine Plague</td>\n",
       "      <td>165–180 (possibly up to 190)</td>\n",
       "      <td>172.0</td>\n",
       "      <td>15.0</td>\n",
       "      <td>Roman Empire</td>\n",
       "      <td>Unknown, possibly smallpox</td>\n",
       "      <td>NaN</td>\n",
       "      <td>5–10 million</td>\n",
       "      <td>7500000.0</td>\n",
       "      <td>[8]</td>\n",
       "      <td>100.0</td>\n",
       "    </tr>\n",
       "    <tr>\n",
       "      <th>4</th>\n",
       "      <td>Plague of Cyprian</td>\n",
       "      <td>250–266</td>\n",
       "      <td>258.0</td>\n",
       "      <td>16.0</td>\n",
       "      <td>Europe</td>\n",
       "      <td>Unknown, possibly smallpox</td>\n",
       "      <td>NaN</td>\n",
       "      <td>1 million+</td>\n",
       "      <td>1000000.0</td>\n",
       "      <td>[9][10]</td>\n",
       "      <td>200.0</td>\n",
       "    </tr>\n",
       "  </tbody>\n",
       "</table>\n",
       "</div>"
      ],
      "text/plain": [
       "                                event                          date    year  \\\n",
       "0  1200 BC Babylon influenza epidemic                       1200 BC -1200.0   \n",
       "1                    Plague of Athens                    429–426 BC  -427.0   \n",
       "2                     412 BC epidemic                        412 BC  -412.0   \n",
       "3                     Antonine Plague  165–180 (possibly up to 190)   172.0   \n",
       "4                   Plague of Cyprian                       250–266   258.0   \n",
       "\n",
       "   duration                                           location  \\\n",
       "0       1.0  Babylon, or Babirus of the Persians, Central A...   \n",
       "1       3.0                     Greece, Libya, Egypt, Ethiopia   \n",
       "2       1.0           Greece (Northern Greece, Roman Republic)   \n",
       "3      15.0                                       Roman Empire   \n",
       "4      16.0                                             Europe   \n",
       "\n",
       "                                             disease pathogen_type  \\\n",
       "0  Sanskrit scholars found records of a disease r...           NaN   \n",
       "1  Unknown, possibly typhus, typhoid fever or vir...           NaN   \n",
       "2                        Unknown, possibly influenza           NaN   \n",
       "3                         Unknown, possibly smallpox           NaN   \n",
       "4                         Unknown, possibly smallpox           NaN   \n",
       "\n",
       "   death_toll_str  death_toll           ref  decade  \n",
       "0         Unknown         NaN           [2] -1200.0  \n",
       "1  75,000–100,000     87500.0  [3][4][5][6]  -400.0  \n",
       "2         Unknown         NaN           [7]  -400.0  \n",
       "3    5–10 million   7500000.0           [8]   100.0  \n",
       "4      1 million+   1000000.0       [9][10]   200.0  "
      ]
     },
     "execution_count": 132,
     "metadata": {},
     "output_type": "execute_result"
    },
    {
     "data": {
      "text/plain": [
       "event              object\n",
       "date               object\n",
       "year              float64\n",
       "duration          float64\n",
       "location           object\n",
       "disease            object\n",
       "pathogen_type      object\n",
       "death_toll_str     object\n",
       "death_toll        float64\n",
       "ref                object\n",
       "decade            float64\n",
       "dtype: object"
      ]
     },
     "execution_count": 132,
     "metadata": {},
     "output_type": "execute_result"
    }
   ],
   "source": [
    "df.head()\n",
    "df.dtypes"
   ]
  },
  {
   "cell_type": "code",
   "execution_count": 133,
   "metadata": {},
   "outputs": [
    {
     "data": {
      "text/plain": [
       "nan"
      ]
     },
     "execution_count": 133,
     "metadata": {},
     "output_type": "execute_result"
    }
   ],
   "source": [
    "max(df.death_toll)"
   ]
  },
  {
   "cell_type": "code",
   "execution_count": 134,
   "metadata": {},
   "outputs": [
    {
     "data": {
      "text/plain": [
       "<Figure size 1152x360 with 0 Axes>"
      ]
     },
     "execution_count": 134,
     "metadata": {},
     "output_type": "execute_result"
    },
    {
     "data": {
      "text/plain": [
       "[<matplotlib.lines.Line2D at 0x11ddec6d0>]"
      ]
     },
     "execution_count": 134,
     "metadata": {},
     "output_type": "execute_result"
    },
    {
     "data": {
      "image/png": "[encoded data removed]",
      "text/plain": [
       "<Figure size 1152x360 with 1 Axes>"
      ]
     },
     "metadata": {
      "needs_background": "light"
     },
     "output_type": "display_data"
    }
   ],
   "source": [
    "plt.figure(figsize=(16,5))\n",
    "\n",
    "df_tmp = df[df.year > 1300].sort_values('year')\n",
    "\n",
    "plt.semilogy(df_tmp.year, df_tmp.death_toll, marker='o')\n",
    "\n",
    "plt.show()"
   ]
  },
  {
   "cell_type": "code",
   "execution_count": 157,
   "metadata": {},
   "outputs": [
    {
     "data": {
      "text/html": [
       "<div>\n",
       "<style scoped>\n",
       "    .dataframe tbody tr th:only-of-type {\n",
       "        vertical-align: middle;\n",
       "    }\n",
       "\n",
       "    .dataframe tbody tr th {\n",
       "        vertical-align: top;\n",
       "    }\n",
       "\n",
       "    .dataframe thead th {\n",
       "        text-align: right;\n",
       "    }\n",
       "</style>\n",
       "<table border=\"1\" class=\"dataframe\">\n",
       "  <thead>\n",
       "    <tr style=\"text-align: right;\">\n",
       "      <th></th>\n",
       "      <th>event</th>\n",
       "      <th>date</th>\n",
       "      <th>year</th>\n",
       "      <th>duration</th>\n",
       "      <th>location</th>\n",
       "      <th>disease</th>\n",
       "      <th>pathogen_type</th>\n",
       "      <th>death_toll_str</th>\n",
       "      <th>death_toll</th>\n",
       "      <th>ref</th>\n",
       "      <th>decade</th>\n",
       "    </tr>\n",
       "  </thead>\n",
       "  <tbody>\n",
       "    <tr>\n",
       "      <th>14</th>\n",
       "      <td>Sweating sickness (multiple outbreaks)</td>\n",
       "      <td>1485–1551</td>\n",
       "      <td>1513.0</td>\n",
       "      <td>76.0</td>\n",
       "      <td>Britain (England) and later continental Europe</td>\n",
       "      <td>Unknown, possibly an unknown species of hantav...</td>\n",
       "      <td>NaN</td>\n",
       "      <td>10,000+</td>\n",
       "      <td>10000.0</td>\n",
       "      <td>[21]</td>\n",
       "      <td>1500.0</td>\n",
       "    </tr>\n",
       "    <tr>\n",
       "      <th>16</th>\n",
       "      <td>1510 influenza pandemic</td>\n",
       "      <td>1510</td>\n",
       "      <td>1510.0</td>\n",
       "      <td>1.0</td>\n",
       "      <td>Asia, North Africa, Europe</td>\n",
       "      <td>Influenza</td>\n",
       "      <td>virus</td>\n",
       "      <td>Unknown, around 1% of those infected</td>\n",
       "      <td>NaN</td>\n",
       "      <td>[23]</td>\n",
       "      <td>1500.0</td>\n",
       "    </tr>\n",
       "    <tr>\n",
       "      <th>17</th>\n",
       "      <td>1520 Mexico smallpox epidemic</td>\n",
       "      <td>1519–1520</td>\n",
       "      <td>1520.0</td>\n",
       "      <td>2.0</td>\n",
       "      <td>Mexico</td>\n",
       "      <td>Smallpox</td>\n",
       "      <td>virus</td>\n",
       "      <td>5–8 million (40% of population)</td>\n",
       "      <td>6500000.0</td>\n",
       "      <td>[24]</td>\n",
       "      <td>1500.0</td>\n",
       "    </tr>\n",
       "    <tr>\n",
       "      <th>18</th>\n",
       "      <td>Cocoliztli Epidemic of 1545–1548</td>\n",
       "      <td>1545–1548</td>\n",
       "      <td>1547.0</td>\n",
       "      <td>3.0</td>\n",
       "      <td>Mexico</td>\n",
       "      <td>Possibly Salmonella enterica</td>\n",
       "      <td>NaN</td>\n",
       "      <td>5–15 million (80% of population)</td>\n",
       "      <td>10000000.0</td>\n",
       "      <td>[25][26][27][28]</td>\n",
       "      <td>1500.0</td>\n",
       "    </tr>\n",
       "    <tr>\n",
       "      <th>19</th>\n",
       "      <td>1557 influenza pandemic</td>\n",
       "      <td>1557–59</td>\n",
       "      <td>1558.0</td>\n",
       "      <td>2.0</td>\n",
       "      <td>Asia, Africa, Europe, and Americas</td>\n",
       "      <td>Influenza</td>\n",
       "      <td>virus</td>\n",
       "      <td>Unknown</td>\n",
       "      <td>NaN</td>\n",
       "      <td>NaN</td>\n",
       "      <td>1500.0</td>\n",
       "    </tr>\n",
       "    <tr>\n",
       "      <th>20</th>\n",
       "      <td>1561 Chile smallpox epidemic</td>\n",
       "      <td>1561–1562</td>\n",
       "      <td>1562.0</td>\n",
       "      <td>2.0</td>\n",
       "      <td>Chile</td>\n",
       "      <td>Smallpox</td>\n",
       "      <td>virus</td>\n",
       "      <td>Unknown (20-25% of native population)</td>\n",
       "      <td>NaN</td>\n",
       "      <td>[29]</td>\n",
       "      <td>1500.0</td>\n",
       "    </tr>\n",
       "    <tr>\n",
       "      <th>21</th>\n",
       "      <td>1563 London plague</td>\n",
       "      <td>1563–1564</td>\n",
       "      <td>1564.0</td>\n",
       "      <td>2.0</td>\n",
       "      <td>London, England</td>\n",
       "      <td>Bubonic plague</td>\n",
       "      <td>bacterium</td>\n",
       "      <td>20,100+</td>\n",
       "      <td>20100.0</td>\n",
       "      <td>[30]</td>\n",
       "      <td>1500.0</td>\n",
       "    </tr>\n",
       "    <tr>\n",
       "      <th>22</th>\n",
       "      <td>Cocoliztli epidemic of 1576</td>\n",
       "      <td>1576–1580</td>\n",
       "      <td>1578.0</td>\n",
       "      <td>4.0</td>\n",
       "      <td>Mexico</td>\n",
       "      <td>Possibly Salmonella enterica</td>\n",
       "      <td>NaN</td>\n",
       "      <td>2–2.5 million (50% of population)</td>\n",
       "      <td>2125000.0</td>\n",
       "      <td>[25][26][27][28]</td>\n",
       "      <td>1500.0</td>\n",
       "    </tr>\n",
       "    <tr>\n",
       "      <th>23</th>\n",
       "      <td>1582 Tenerife plague epidemic</td>\n",
       "      <td>1582–1583</td>\n",
       "      <td>1583.0</td>\n",
       "      <td>2.0</td>\n",
       "      <td>Tenerife, Spain</td>\n",
       "      <td>Bubonic plague</td>\n",
       "      <td>bacterium</td>\n",
       "      <td>5,000–9,000</td>\n",
       "      <td>7000.0</td>\n",
       "      <td>[31]</td>\n",
       "      <td>1500.0</td>\n",
       "    </tr>\n",
       "    <tr>\n",
       "      <th>24</th>\n",
       "      <td>1592–1596 Seneca nation measles epidemic</td>\n",
       "      <td>1592–1596</td>\n",
       "      <td>1594.0</td>\n",
       "      <td>4.0</td>\n",
       "      <td>Seneca nation, North America</td>\n",
       "      <td>Measles</td>\n",
       "      <td>virus</td>\n",
       "      <td>Unknown</td>\n",
       "      <td>NaN</td>\n",
       "      <td>[32]</td>\n",
       "      <td>1500.0</td>\n",
       "    </tr>\n",
       "    <tr>\n",
       "      <th>25</th>\n",
       "      <td>1592–93 Malta plague epidemic</td>\n",
       "      <td>1592–1593</td>\n",
       "      <td>1593.0</td>\n",
       "      <td>2.0</td>\n",
       "      <td>Malta</td>\n",
       "      <td>Bubonic plague</td>\n",
       "      <td>bacterium</td>\n",
       "      <td>3,000</td>\n",
       "      <td>3000.0</td>\n",
       "      <td>[33]</td>\n",
       "      <td>1500.0</td>\n",
       "    </tr>\n",
       "    <tr>\n",
       "      <th>26</th>\n",
       "      <td>1592–93 London plague</td>\n",
       "      <td>1592–1593</td>\n",
       "      <td>1593.0</td>\n",
       "      <td>2.0</td>\n",
       "      <td>London, England</td>\n",
       "      <td>Bubonic plague</td>\n",
       "      <td>bacterium</td>\n",
       "      <td>19,900+</td>\n",
       "      <td>19900.0</td>\n",
       "      <td>[34]</td>\n",
       "      <td>1500.0</td>\n",
       "    </tr>\n",
       "    <tr>\n",
       "      <th>27</th>\n",
       "      <td>1596–1602 Spain plague epidemic</td>\n",
       "      <td>1596–1602</td>\n",
       "      <td>1599.0</td>\n",
       "      <td>6.0</td>\n",
       "      <td>Spain</td>\n",
       "      <td>Bubonic plague</td>\n",
       "      <td>bacterium</td>\n",
       "      <td>600,000–700,000</td>\n",
       "      <td>650000.0</td>\n",
       "      <td>[35]</td>\n",
       "      <td>1500.0</td>\n",
       "    </tr>\n",
       "  </tbody>\n",
       "</table>\n",
       "</div>"
      ],
      "text/plain": [
       "                                       event       date    year  duration  \\\n",
       "14    Sweating sickness (multiple outbreaks)  1485–1551  1513.0      76.0   \n",
       "16                   1510 influenza pandemic       1510  1510.0       1.0   \n",
       "17             1520 Mexico smallpox epidemic  1519–1520  1520.0       2.0   \n",
       "18          Cocoliztli Epidemic of 1545–1548  1545–1548  1547.0       3.0   \n",
       "19                   1557 influenza pandemic    1557–59  1558.0       2.0   \n",
       "20              1561 Chile smallpox epidemic  1561–1562  1562.0       2.0   \n",
       "21                        1563 London plague  1563–1564  1564.0       2.0   \n",
       "22               Cocoliztli epidemic of 1576  1576–1580  1578.0       4.0   \n",
       "23             1582 Tenerife plague epidemic  1582–1583  1583.0       2.0   \n",
       "24  1592–1596 Seneca nation measles epidemic  1592–1596  1594.0       4.0   \n",
       "25             1592–93 Malta plague epidemic  1592–1593  1593.0       2.0   \n",
       "26                     1592–93 London plague  1592–1593  1593.0       2.0   \n",
       "27           1596–1602 Spain plague epidemic  1596–1602  1599.0       6.0   \n",
       "\n",
       "                                          location  \\\n",
       "14  Britain (England) and later continental Europe   \n",
       "16                      Asia, North Africa, Europe   \n",
       "17                                          Mexico   \n",
       "18                                          Mexico   \n",
       "19              Asia, Africa, Europe, and Americas   \n",
       "20                                           Chile   \n",
       "21                                 London, England   \n",
       "22                                          Mexico   \n",
       "23                                 Tenerife, Spain   \n",
       "24                    Seneca nation, North America   \n",
       "25                                           Malta   \n",
       "26                                 London, England   \n",
       "27                                           Spain   \n",
       "\n",
       "                                              disease pathogen_type  \\\n",
       "14  Unknown, possibly an unknown species of hantav...           NaN   \n",
       "16                                          Influenza         virus   \n",
       "17                                           Smallpox         virus   \n",
       "18                       Possibly Salmonella enterica           NaN   \n",
       "19                                          Influenza         virus   \n",
       "20                                           Smallpox         virus   \n",
       "21                                     Bubonic plague     bacterium   \n",
       "22                       Possibly Salmonella enterica           NaN   \n",
       "23                                     Bubonic plague     bacterium   \n",
       "24                                            Measles         virus   \n",
       "25                                     Bubonic plague     bacterium   \n",
       "26                                     Bubonic plague     bacterium   \n",
       "27                                     Bubonic plague     bacterium   \n",
       "\n",
       "                           death_toll_str  death_toll               ref  \\\n",
       "14                                10,000+     10000.0              [21]   \n",
       "16   Unknown, around 1% of those infected         NaN              [23]   \n",
       "17        5–8 million (40% of population)   6500000.0              [24]   \n",
       "18       5–15 million (80% of population)  10000000.0  [25][26][27][28]   \n",
       "19                                Unknown         NaN               NaN   \n",
       "20  Unknown (20-25% of native population)         NaN              [29]   \n",
       "21                                20,100+     20100.0              [30]   \n",
       "22      2–2.5 million (50% of population)   2125000.0  [25][26][27][28]   \n",
       "23                            5,000–9,000      7000.0              [31]   \n",
       "24                                Unknown         NaN              [32]   \n",
       "25                                  3,000      3000.0              [33]   \n",
       "26                                19,900+     19900.0              [34]   \n",
       "27                        600,000–700,000    650000.0              [35]   \n",
       "\n",
       "    decade  \n",
       "14  1500.0  \n",
       "16  1500.0  \n",
       "17  1500.0  \n",
       "18  1500.0  \n",
       "19  1500.0  \n",
       "20  1500.0  \n",
       "21  1500.0  \n",
       "22  1500.0  \n",
       "23  1500.0  \n",
       "24  1500.0  \n",
       "25  1500.0  \n",
       "26  1500.0  \n",
       "27  1500.0  "
      ]
     },
     "execution_count": 157,
     "metadata": {},
     "output_type": "execute_result"
    }
   ],
   "source": [
    "df[df.decade==1500]"
   ]
  },
  {
   "cell_type": "code",
   "execution_count": 158,
   "metadata": {},
   "outputs": [
    {
     "data": {
      "text/html": [
       "<div>\n",
       "<style scoped>\n",
       "    .dataframe tbody tr th:only-of-type {\n",
       "        vertical-align: middle;\n",
       "    }\n",
       "\n",
       "    .dataframe tbody tr th {\n",
       "        vertical-align: top;\n",
       "    }\n",
       "\n",
       "    .dataframe thead tr th {\n",
       "        text-align: left;\n",
       "    }\n",
       "\n",
       "    .dataframe thead tr:last-of-type th {\n",
       "        text-align: right;\n",
       "    }\n",
       "</style>\n",
       "<table border=\"1\" class=\"dataframe\">\n",
       "  <thead>\n",
       "    <tr>\n",
       "      <th></th>\n",
       "      <th colspan=\"3\" halign=\"left\">death_toll</th>\n",
       "    </tr>\n",
       "    <tr>\n",
       "      <th></th>\n",
       "      <th>count</th>\n",
       "      <th>sum</th>\n",
       "      <th>mean</th>\n",
       "    </tr>\n",
       "    <tr>\n",
       "      <th>decade</th>\n",
       "      <th></th>\n",
       "      <th></th>\n",
       "      <th></th>\n",
       "    </tr>\n",
       "  </thead>\n",
       "  <tbody>\n",
       "    <tr>\n",
       "      <th>-1200.0</th>\n",
       "      <td>0</td>\n",
       "      <td>0.0</td>\n",
       "      <td>NaN</td>\n",
       "    </tr>\n",
       "    <tr>\n",
       "      <th>-400.0</th>\n",
       "      <td>1</td>\n",
       "      <td>87500.0</td>\n",
       "      <td>8.750000e+04</td>\n",
       "    </tr>\n",
       "    <tr>\n",
       "      <th>100.0</th>\n",
       "      <td>1</td>\n",
       "      <td>7500000.0</td>\n",
       "      <td>7.500000e+06</td>\n",
       "    </tr>\n",
       "    <tr>\n",
       "      <th>200.0</th>\n",
       "      <td>1</td>\n",
       "      <td>1000000.0</td>\n",
       "      <td>1.000000e+06</td>\n",
       "    </tr>\n",
       "    <tr>\n",
       "      <th>500.0</th>\n",
       "      <td>1</td>\n",
       "      <td>40000000.0</td>\n",
       "      <td>4.000000e+07</td>\n",
       "    </tr>\n",
       "    <tr>\n",
       "      <th>600.0</th>\n",
       "      <td>1</td>\n",
       "      <td>25000.0</td>\n",
       "      <td>2.500000e+04</td>\n",
       "    </tr>\n",
       "    <tr>\n",
       "      <th>700.0</th>\n",
       "      <td>1</td>\n",
       "      <td>2000000.0</td>\n",
       "      <td>2.000000e+06</td>\n",
       "    </tr>\n",
       "    <tr>\n",
       "      <th>1300.0</th>\n",
       "      <td>1</td>\n",
       "      <td>137500000.0</td>\n",
       "      <td>1.375000e+08</td>\n",
       "    </tr>\n",
       "    <tr>\n",
       "      <th>1400.0</th>\n",
       "      <td>1</td>\n",
       "      <td>17000.0</td>\n",
       "      <td>1.700000e+04</td>\n",
       "    </tr>\n",
       "    <tr>\n",
       "      <th>1500.0</th>\n",
       "      <td>9</td>\n",
       "      <td>19335000.0</td>\n",
       "      <td>2.148333e+06</td>\n",
       "    </tr>\n",
       "    <tr>\n",
       "      <th>1600.0</th>\n",
       "      <td>18</td>\n",
       "      <td>3669055.0</td>\n",
       "      <td>2.038364e+05</td>\n",
       "    </tr>\n",
       "    <tr>\n",
       "      <th>1700.0</th>\n",
       "      <td>18</td>\n",
       "      <td>2506379.0</td>\n",
       "      <td>1.392433e+05</td>\n",
       "    </tr>\n",
       "    <tr>\n",
       "      <th>1800.0</th>\n",
       "      <td>40</td>\n",
       "      <td>15909761.0</td>\n",
       "      <td>3.977440e+05</td>\n",
       "    </tr>\n",
       "    <tr>\n",
       "      <th>1900.0</th>\n",
       "      <td>41</td>\n",
       "      <td>66802396.0</td>\n",
       "      <td>1.629327e+06</td>\n",
       "    </tr>\n",
       "    <tr>\n",
       "      <th>2000.0</th>\n",
       "      <td>59</td>\n",
       "      <td>489857.0</td>\n",
       "      <td>8.302661e+03</td>\n",
       "    </tr>\n",
       "  </tbody>\n",
       "</table>\n",
       "</div>"
      ],
      "text/plain": [
       "        death_toll                           \n",
       "             count          sum          mean\n",
       "decade                                       \n",
       "-1200.0          0          0.0           NaN\n",
       "-400.0           1      87500.0  8.750000e+04\n",
       " 100.0           1    7500000.0  7.500000e+06\n",
       " 200.0           1    1000000.0  1.000000e+06\n",
       " 500.0           1   40000000.0  4.000000e+07\n",
       " 600.0           1      25000.0  2.500000e+04\n",
       " 700.0           1    2000000.0  2.000000e+06\n",
       " 1300.0          1  137500000.0  1.375000e+08\n",
       " 1400.0          1      17000.0  1.700000e+04\n",
       " 1500.0          9   19335000.0  2.148333e+06\n",
       " 1600.0         18    3669055.0  2.038364e+05\n",
       " 1700.0         18    2506379.0  1.392433e+05\n",
       " 1800.0         40   15909761.0  3.977440e+05\n",
       " 1900.0         41   66802396.0  1.629327e+06\n",
       " 2000.0         59     489857.0  8.302661e+03"
      ]
     },
     "execution_count": 158,
     "metadata": {},
     "output_type": "execute_result"
    }
   ],
   "source": [
    "df.groupby('decade').agg({\n",
    "    'death_toll': [ 'count', 'sum', 'mean']\n",
    "})"
   ]
  },
  {
   "cell_type": "code",
   "execution_count": 150,
   "metadata": {},
   "outputs": [
    {
     "data": {
      "image/png": "[encoded data removed]",
      "text/plain": [
       "<Figure size 432x288 with 1 Axes>"
      ]
     },
     "metadata": {
      "needs_background": "light"
     },
     "output_type": "display_data"
    }
   ],
   "source": [
    "x = [1000, 10000, 100000, 1000000, 10000000, 100000000]\n",
    "y = [len(df[(df.death_toll >= 100) & (df.death_toll < 1000)]),\n",
    "     len(df[(df.death_toll >= 1000) & (df.death_toll < 10000)]),\n",
    "     len(df[(df.death_toll >= 10000) & (df.death_toll < 100000)]),\n",
    "     len(df[(df.death_toll >= 100000) & (df.death_toll < 1000000)]),\n",
    "     len(df[(df.death_toll >= 1000000) & (df.death_toll < 10000000)]),\n",
    "     len(df[(df.death_toll >= 10000000) & (df.death_toll < 100000000)])\n",
    "    ]\n",
    "\n",
    "x, y\n",
    "\n",
    "plt.bar(range(len(x)), y)\n",
    "plt.show();"
   ]
  },
  {
   "cell_type": "code",
   "execution_count": 146,
   "metadata": {},
   "outputs": [
    {
     "data": {
      "text/plain": [
       "(257, 166, 205)"
      ]
     },
     "execution_count": 146,
     "metadata": {},
     "output_type": "execute_result"
    }
   ],
   "source": [
    "len(df), sum(y), len(df[~df.death_toll.isna()])"
   ]
  },
  {
   "cell_type": "code",
   "execution_count": 152,
   "metadata": {},
   "outputs": [
    {
     "data": {
      "image/png": "[encoded data removed]",
      "text/plain": [
       "<Figure size 432x288 with 1 Axes>"
      ]
     },
     "metadata": {
      "needs_background": "light"
     },
     "output_type": "display_data"
    }
   ],
   "source": [
    "ax = df['death_toll'].hist()\n",
    "\n",
    "ax.set_yscale('log')"
   ]
  },
  {
   "cell_type": "code",
   "execution_count": 185,
   "metadata": {},
   "outputs": [
    {
     "data": {
      "text/plain": [
       "<matplotlib.axes._subplots.AxesSubplot at 0x12154c2d0>"
      ]
     },
     "execution_count": 185,
     "metadata": {},
     "output_type": "execute_result"
    },
    {
     "data": {
      "text/plain": [
       "(1000, 100000000)"
      ]
     },
     "execution_count": 185,
     "metadata": {},
     "output_type": "execute_result"
    },
    {
     "data": {
      "image/png": "[encoded data removed]",
      "text/plain": [
       "<Figure size 432x288 with 1 Axes>"
      ]
     },
     "metadata": {
      "needs_background": "light"
     },
     "output_type": "display_data"
    }
   ],
   "source": [
    "\n",
    "df.plot.scatter('duration', 'death_toll', logy=True)\n",
    "\n",
    "plt.ylim([1000, 100000000])"
   ]
  },
  {
   "cell_type": "code",
   "execution_count": 175,
   "metadata": {},
   "outputs": [
    {
     "data": {
      "text/html": [
       "<div>\n",
       "<style scoped>\n",
       "    .dataframe tbody tr th:only-of-type {\n",
       "        vertical-align: middle;\n",
       "    }\n",
       "\n",
       "    .dataframe tbody tr th {\n",
       "        vertical-align: top;\n",
       "    }\n",
       "\n",
       "    .dataframe thead th {\n",
       "        text-align: right;\n",
       "    }\n",
       "</style>\n",
       "<table border=\"1\" class=\"dataframe\">\n",
       "  <thead>\n",
       "    <tr style=\"text-align: right;\">\n",
       "      <th></th>\n",
       "      <th>event</th>\n",
       "      <th>date</th>\n",
       "      <th>year</th>\n",
       "      <th>duration</th>\n",
       "      <th>location</th>\n",
       "      <th>disease</th>\n",
       "      <th>pathogen_type</th>\n",
       "      <th>death_toll_str</th>\n",
       "      <th>death_toll</th>\n",
       "      <th>ref</th>\n",
       "      <th>decade</th>\n",
       "    </tr>\n",
       "  </thead>\n",
       "  <tbody>\n",
       "    <tr>\n",
       "      <th>143</th>\n",
       "      <td>Papua New Guinea kuru epidemic</td>\n",
       "      <td>1901–2009</td>\n",
       "      <td>1955.0</td>\n",
       "      <td>108.0</td>\n",
       "      <td>Papua New Guinea</td>\n",
       "      <td>Kuru</td>\n",
       "      <td>NaN</td>\n",
       "      <td>2,700–3,000+</td>\n",
       "      <td>2850.0</td>\n",
       "      <td>[152][153]</td>\n",
       "      <td>1900.0</td>\n",
       "    </tr>\n",
       "  </tbody>\n",
       "</table>\n",
       "</div>"
      ],
      "text/plain": [
       "                              event       date    year  duration  \\\n",
       "143  Papua New Guinea kuru epidemic  1901–2009  1955.0     108.0   \n",
       "\n",
       "             location disease pathogen_type death_toll_str  death_toll  \\\n",
       "143  Papua New Guinea    Kuru           NaN   2,700–3,000+      2850.0   \n",
       "\n",
       "            ref  decade  \n",
       "143  [152][153]  1900.0  "
      ]
     },
     "execution_count": 175,
     "metadata": {},
     "output_type": "execute_result"
    },
    {
     "data": {
      "text/plain": [
       "event                     Third plague pandemic\n",
       "date                                  1855–1960\n",
       "year                                       1858\n",
       "duration                                      5\n",
       "location                              Worldwide\n",
       "disease                          Bubonic plague\n",
       "pathogen_type                         bacterium\n",
       "death_toll_str    12 million+ (India and China)\n",
       "death_toll                              1.2e+07\n",
       "ref                                  [127][128]\n",
       "decade                                     1800\n",
       "Name: 118, dtype: object"
      ]
     },
     "execution_count": 175,
     "metadata": {},
     "output_type": "execute_result"
    }
   ],
   "source": [
    "df[df.duration == 108]\n",
    "df.iloc[118]"
   ]
  },
  {
   "cell_type": "code",
   "execution_count": 171,
   "metadata": {},
   "outputs": [
    {
     "data": {
      "text/plain": [
       "108.0"
      ]
     },
     "execution_count": 171,
     "metadata": {},
     "output_type": "execute_result"
    }
   ],
   "source": [
    "max(df.duration)"
   ]
  },
  {
   "cell_type": "code",
   "execution_count": 169,
   "metadata": {},
   "outputs": [],
   "source": [
    "df.at[118, 'duration'] = 5"
   ]
  },
  {
   "cell_type": "code",
   "execution_count": 191,
   "metadata": {},
   "outputs": [],
   "source": [
    "import pandas as pd\n",
    "import json"
   ]
  },
  {
   "cell_type": "code",
   "execution_count": null,
   "metadata": {},
   "outputs": [],
   "source": []
  }
 ],
 "metadata": {
  "kernelspec": {
   "display_name": "Python 3",
   "language": "python",
   "name": "python3"
  },
  "language_info": {
   "codemirror_mode": {
    "name": "ipython",
    "version": 3
   },
   "file_extension": ".py",
   "mimetype": "text/x-python",
   "name": "python",
   "nbconvert_exporter": "python",
   "pygments_lexer": "ipython3",
   "version": "3.7.6"
  }
 },
 "nbformat": 4,
 "nbformat_minor": 4
}
