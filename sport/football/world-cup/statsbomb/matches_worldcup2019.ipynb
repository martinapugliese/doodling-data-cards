{
 "cells": [
  {
   "cell_type": "code",
   "execution_count": 1,
   "metadata": {},
   "outputs": [],
   "source": [
    "import json\n",
    "import pandas as pd\n",
    "\n",
    "from IPython.core.interactiveshell import InteractiveShell\n",
    "\n",
    "InteractiveShell.ast_node_interactivity = \"all\""
   ]
  },
  {
   "cell_type": "markdown",
   "metadata": {},
   "source": [
    "# Matches from the 2018 edition of the Football (male) World Cup\n",
    "\n",
    "Data from statsbomb https://github.com/statsbomb/open-data"
   ]
  },
  {
   "cell_type": "markdown",
   "metadata": {},
   "source": [
    "## Get and look at data\n",
    "\n",
    "From looking at the data, we ascertain this stuff. \n",
    "\n",
    "Data is a list of matches data. Each match has fields:\n",
    "* `match_id`: an ID assigned to each match (int), goes from 7525 to 8655\n",
    "* `match_date` : day when match happened\n",
    "* `kick_off`: time when match happened\n",
    "* `competition`: a dict specifying it's this competition (fifa world cup), so it's the same for all matches\n",
    "* `season`: same for all, says it's the season 2019 (of the competition)\n",
    "* `home_team`: dict with info on the home team, name, country, manager (name, dob and in which country was born)\n",
    "* `away_team`: same info for the away team\n",
    "* `home_score`: score of the home team\n",
    "* `away_score`: score of the away team\n",
    "* `match_status`: ? just some metadata, it's \"available\" for all\n",
    "* `last_updated`: when data last updated in the repo/db?\n",
    "* `metadata`: for data versioning\n",
    "* `match_week`: unclear, only values 1, 2, 3\n",
    "* `competition_stage`: stage in the tournament: group stage, quarter-finals, etc.. (it's a dict with id and name)\n",
    "* `stadium`: stadium where match was held, with id and name\n",
    "* `referee`: referee, id and name"
   ]
  },
  {
   "cell_type": "code",
   "execution_count": 52,
   "metadata": {},
   "outputs": [],
   "source": [
    "d = json.load(open('matches_2018.json', 'r'))"
   ]
  },
  {
   "cell_type": "code",
   "execution_count": 53,
   "metadata": {},
   "outputs": [
    {
     "data": {
      "text/plain": [
       "64"
      ]
     },
     "execution_count": 53,
     "metadata": {},
     "output_type": "execute_result"
    }
   ],
   "source": [
    "len(d)   # number of matches"
   ]
  },
  {
   "cell_type": "code",
   "execution_count": 54,
   "metadata": {},
   "outputs": [
    {
     "data": {
      "text/plain": [
       "dict_keys(['match_id', 'match_date', 'kick_off', 'competition', 'season', 'home_team', 'away_team', 'home_score', 'away_score', 'match_status', 'last_updated', 'metadata', 'match_week', 'competition_stage', 'stadium', 'referee'])"
      ]
     },
     "execution_count": 54,
     "metadata": {},
     "output_type": "execute_result"
    },
    {
     "data": {
      "text/plain": [
       "{'id': 735, 'name': 'R. Irmatov'}"
      ]
     },
     "execution_count": 54,
     "metadata": {},
     "output_type": "execute_result"
    }
   ],
   "source": [
    "one_match = d[23]\n",
    "one_match.keys()\n",
    "one_match['referee']"
   ]
  },
  {
   "cell_type": "code",
   "execution_count": 55,
   "metadata": {},
   "outputs": [
    {
     "data": {
      "text/plain": [
       "(7525, 8658)"
      ]
     },
     "execution_count": 55,
     "metadata": {},
     "output_type": "execute_result"
    }
   ],
   "source": [
    "# min/max of match_id\n",
    "min(m['match_id'] for m in d), max(m['match_id'] for m in d)"
   ]
  },
  {
   "cell_type": "code",
   "execution_count": 56,
   "metadata": {},
   "outputs": [
    {
     "data": {
      "text/plain": [
       "{'available'}"
      ]
     },
     "execution_count": 56,
     "metadata": {},
     "output_type": "execute_result"
    }
   ],
   "source": [
    "# match statuses\n",
    "set([m['match_status'] for m in d])"
   ]
  },
  {
   "cell_type": "code",
   "execution_count": 57,
   "metadata": {},
   "outputs": [
    {
     "data": {
      "text/plain": [
       "{1, 2, 3}"
      ]
     },
     "execution_count": 57,
     "metadata": {},
     "output_type": "execute_result"
    }
   ],
   "source": [
    "# match weeks\n",
    "set([m['match_week'] for m in d])"
   ]
  },
  {
   "cell_type": "code",
   "execution_count": 58,
   "metadata": {},
   "outputs": [
    {
     "data": {
      "text/plain": [
       "{10, 11, 15, 25, 26, 33}"
      ]
     },
     "execution_count": 58,
     "metadata": {},
     "output_type": "execute_result"
    },
    {
     "data": {
      "text/plain": [
       "{'3rd Place Final',\n",
       " 'Final',\n",
       " 'Group Stage',\n",
       " 'Quarter-finals',\n",
       " 'Round of 16',\n",
       " 'Semi-finals'}"
      ]
     },
     "execution_count": 58,
     "metadata": {},
     "output_type": "execute_result"
    }
   ],
   "source": [
    "# competitition stages\n",
    "set([m['competition_stage']['id'] for m in d])\n",
    "set([m['competition_stage']['name'] for m in d])"
   ]
  },
  {
   "cell_type": "code",
   "execution_count": 62,
   "metadata": {},
   "outputs": [
    {
     "data": {
      "text/plain": [
       "525.0"
      ]
     },
     "execution_count": 62,
     "metadata": {},
     "output_type": "execute_result"
    }
   ],
   "source": [
    "(25-4)/4*100"
   ]
  },
  {
   "cell_type": "code",
   "execution_count": null,
   "metadata": {},
   "outputs": [],
   "source": []
  }
 ],
 "metadata": {
  "kernelspec": {
   "display_name": "Python 3",
   "language": "python",
   "name": "python3"
  },
  "language_info": {
   "codemirror_mode": {
    "name": "ipython",
    "version": 3
   },
   "file_extension": ".py",
   "mimetype": "text/x-python",
   "name": "python",
   "nbconvert_exporter": "python",
   "pygments_lexer": "ipython3",
   "version": "3.6.5"
  }
 },
 "nbformat": 4,
 "nbformat_minor": 2
}
